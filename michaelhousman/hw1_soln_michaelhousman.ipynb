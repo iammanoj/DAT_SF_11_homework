{
 "metadata": {
  "name": "",
  "signature": "sha256:ba68c5a38f90ebeb6e8c148f83bdf50a5ba7b2981ea72883fbef374b3943b4e4"
 },
 "nbformat": 3,
 "nbformat_minor": 0,
 "worksheets": [
  {
   "cells": [
    {
     "cell_type": "markdown",
     "metadata": {},
     "source": [
      "#Homework 1 - Data Analysis and Regression\n",
      "In this assignment your challenge is to do some basic analysis for Airbnb. Provided in hw/data/ there are 2 data files, <a href=../data/bookings.csv>bookings.csv</a> and <a href=../data/listings.csv>listings.csv</a>. The objective is to practice data munging and begin our exploration of regression."
     ]
    },
    {
     "cell_type": "code",
     "collapsed": false,
     "input": [
      "# Standard imports for data analysis packages in Python\n",
      "import pandas as pd\n",
      "import numpy as np\n",
      "import seaborn as sns\n",
      "import matplotlib.pyplot as plt\n",
      "\n",
      "# This enables inline Plots\n",
      "%matplotlib inline"
     ],
     "language": "python",
     "metadata": {},
     "outputs": [],
     "prompt_number": 58
    },
    {
     "cell_type": "markdown",
     "metadata": {},
     "source": [
      "##Part 1 - Data exploration\n",
      "###First, create 2 data frames: `listings` and `bookings` from their respective data files"
     ]
    },
    {
     "cell_type": "code",
     "collapsed": false,
     "input": [
      "# Create a data frame from the listings dataset\n",
      "\n",
      "listings = pd.read_csv('../data/listings.csv')\n",
      "\n",
      "# Create a data frame from the bookings dataset\n",
      "\n",
      "bookings = pd.read_csv('../data/bookings.csv')"
     ],
     "language": "python",
     "metadata": {},
     "outputs": [],
     "prompt_number": 59
    },
    {
     "cell_type": "markdown",
     "metadata": {},
     "source": [
      "###What is the mean, median and standard deviation of price, person capacity, picture count, description length and tenure of the properties?"
     ]
    },
    {
     "cell_type": "code",
     "collapsed": false,
     "input": [
      "listings[['price', 'person_capacity', 'picture_count', 'description_length', 'tenure_months']].describe()"
     ],
     "language": "python",
     "metadata": {},
     "outputs": [
      {
       "html": [
        "<div style=\"max-height:1000px;max-width:1500px;overflow:auto;\">\n",
        "<table border=\"1\" class=\"dataframe\">\n",
        "  <thead>\n",
        "    <tr style=\"text-align: right;\">\n",
        "      <th></th>\n",
        "      <th>price</th>\n",
        "      <th>person_capacity</th>\n",
        "      <th>picture_count</th>\n",
        "      <th>description_length</th>\n",
        "      <th>tenure_months</th>\n",
        "    </tr>\n",
        "  </thead>\n",
        "  <tbody>\n",
        "    <tr>\n",
        "      <th>count</th>\n",
        "      <td>  408.000000</td>\n",
        "      <td> 408.000000</td>\n",
        "      <td> 408.000000</td>\n",
        "      <td>  408.000000</td>\n",
        "      <td> 408.000000</td>\n",
        "    </tr>\n",
        "    <tr>\n",
        "      <th>mean</th>\n",
        "      <td>  187.806373</td>\n",
        "      <td>   2.997549</td>\n",
        "      <td>  14.389706</td>\n",
        "      <td>  309.159314</td>\n",
        "      <td>   8.487745</td>\n",
        "    </tr>\n",
        "    <tr>\n",
        "      <th>std</th>\n",
        "      <td>  353.050858</td>\n",
        "      <td>   1.594676</td>\n",
        "      <td>  10.477428</td>\n",
        "      <td>  228.021684</td>\n",
        "      <td>   5.872088</td>\n",
        "    </tr>\n",
        "    <tr>\n",
        "      <th>min</th>\n",
        "      <td>   39.000000</td>\n",
        "      <td>   1.000000</td>\n",
        "      <td>   1.000000</td>\n",
        "      <td>    0.000000</td>\n",
        "      <td>   1.000000</td>\n",
        "    </tr>\n",
        "    <tr>\n",
        "      <th>25%</th>\n",
        "      <td>   90.000000</td>\n",
        "      <td>   2.000000</td>\n",
        "      <td>   6.000000</td>\n",
        "      <td>  179.000000</td>\n",
        "      <td>   4.000000</td>\n",
        "    </tr>\n",
        "    <tr>\n",
        "      <th>50%</th>\n",
        "      <td>  125.000000</td>\n",
        "      <td>   2.000000</td>\n",
        "      <td>  12.000000</td>\n",
        "      <td>  250.000000</td>\n",
        "      <td>   7.000000</td>\n",
        "    </tr>\n",
        "    <tr>\n",
        "      <th>75%</th>\n",
        "      <td>  199.000000</td>\n",
        "      <td>   4.000000</td>\n",
        "      <td>  20.000000</td>\n",
        "      <td>  389.500000</td>\n",
        "      <td>  13.000000</td>\n",
        "    </tr>\n",
        "    <tr>\n",
        "      <th>max</th>\n",
        "      <td> 5000.000000</td>\n",
        "      <td>  10.000000</td>\n",
        "      <td>  71.000000</td>\n",
        "      <td> 1969.000000</td>\n",
        "      <td>  30.000000</td>\n",
        "    </tr>\n",
        "  </tbody>\n",
        "</table>\n",
        "</div>"
       ],
       "metadata": {},
       "output_type": "pyout",
       "prompt_number": 82,
       "text": [
        "             price  person_capacity  picture_count  description_length  \\\n",
        "count   408.000000       408.000000     408.000000          408.000000   \n",
        "mean    187.806373         2.997549      14.389706          309.159314   \n",
        "std     353.050858         1.594676      10.477428          228.021684   \n",
        "min      39.000000         1.000000       1.000000            0.000000   \n",
        "25%      90.000000         2.000000       6.000000          179.000000   \n",
        "50%     125.000000         2.000000      12.000000          250.000000   \n",
        "75%     199.000000         4.000000      20.000000          389.500000   \n",
        "max    5000.000000        10.000000      71.000000         1969.000000   \n",
        "\n",
        "       tenure_months  \n",
        "count     408.000000  \n",
        "mean        8.487745  \n",
        "std         5.872088  \n",
        "min         1.000000  \n",
        "25%         4.000000  \n",
        "50%         7.000000  \n",
        "75%        13.000000  \n",
        "max        30.000000  "
       ]
      }
     ],
     "prompt_number": 82
    },
    {
     "cell_type": "markdown",
     "metadata": {},
     "source": [
      "###What what are the mean price, person capacity, picture count, description length and tenure of the properties grouped by property type?"
     ]
    },
    {
     "cell_type": "code",
     "collapsed": false,
     "input": [
      "listings.info()"
     ],
     "language": "python",
     "metadata": {},
     "outputs": [
      {
       "output_type": "stream",
       "stream": "stdout",
       "text": [
        "<class 'pandas.core.frame.DataFrame'>\n",
        "Int64Index: 408 entries, 0 to 407\n",
        "Data columns (total 8 columns):\n",
        "prop_id               408 non-null int64\n",
        "prop_type             408 non-null object\n",
        "neighborhood          408 non-null object\n",
        "price                 408 non-null int64\n",
        "person_capacity       408 non-null int64\n",
        "picture_count         408 non-null int64\n",
        "description_length    408 non-null int64\n",
        "tenure_months         408 non-null int64\n",
        "dtypes: int64(6), object(2)\n",
        "memory usage: 28.7+ KB\n"
       ]
      }
     ],
     "prompt_number": 61
    },
    {
     "cell_type": "code",
     "collapsed": false,
     "input": [
      "listings.groupby(['prop_type'])['price', 'person_capacity', 'picture_count', 'description_length', 'tenure_months'].agg(['mean'])"
     ],
     "language": "python",
     "metadata": {},
     "outputs": [
      {
       "html": [
        "<div style=\"max-height:1000px;max-width:1500px;overflow:auto;\">\n",
        "<table border=\"1\" class=\"dataframe\">\n",
        "  <thead>\n",
        "    <tr>\n",
        "      <th></th>\n",
        "      <th>price</th>\n",
        "      <th>person_capacity</th>\n",
        "      <th>picture_count</th>\n",
        "      <th>description_length</th>\n",
        "      <th>tenure_months</th>\n",
        "    </tr>\n",
        "    <tr>\n",
        "      <th></th>\n",
        "      <th>mean</th>\n",
        "      <th>mean</th>\n",
        "      <th>mean</th>\n",
        "      <th>mean</th>\n",
        "      <th>mean</th>\n",
        "    </tr>\n",
        "    <tr>\n",
        "      <th>prop_type</th>\n",
        "      <th></th>\n",
        "      <th></th>\n",
        "      <th></th>\n",
        "      <th></th>\n",
        "      <th></th>\n",
        "    </tr>\n",
        "  </thead>\n",
        "  <tbody>\n",
        "    <tr>\n",
        "      <th>Property type 1</th>\n",
        "      <td> 237.085502</td>\n",
        "      <td> 3.516729</td>\n",
        "      <td> 14.695167</td>\n",
        "      <td> 313.171004</td>\n",
        "      <td>  8.464684</td>\n",
        "    </tr>\n",
        "    <tr>\n",
        "      <th>Property type 2</th>\n",
        "      <td>  93.288889</td>\n",
        "      <td> 2.000000</td>\n",
        "      <td> 13.948148</td>\n",
        "      <td> 304.851852</td>\n",
        "      <td>  8.377778</td>\n",
        "    </tr>\n",
        "    <tr>\n",
        "      <th>Property type 3</th>\n",
        "      <td>  63.750000</td>\n",
        "      <td> 1.750000</td>\n",
        "      <td>  8.750000</td>\n",
        "      <td> 184.750000</td>\n",
        "      <td> 13.750000</td>\n",
        "    </tr>\n",
        "  </tbody>\n",
        "</table>\n",
        "</div>"
       ],
       "metadata": {},
       "output_type": "pyout",
       "prompt_number": 62,
       "text": [
        "                      price person_capacity picture_count description_length  \\\n",
        "                       mean            mean          mean               mean   \n",
        "prop_type                                                                      \n",
        "Property type 1  237.085502        3.516729     14.695167         313.171004   \n",
        "Property type 2   93.288889        2.000000     13.948148         304.851852   \n",
        "Property type 3   63.750000        1.750000      8.750000         184.750000   \n",
        "\n",
        "                tenure_months  \n",
        "                         mean  \n",
        "prop_type                      \n",
        "Property type 1      8.464684  \n",
        "Property type 2      8.377778  \n",
        "Property type 3     13.750000  "
       ]
      }
     ],
     "prompt_number": 62
    },
    {
     "cell_type": "markdown",
     "metadata": {},
     "source": [
      "###Same, but by property type per neighborhood? "
     ]
    },
    {
     "cell_type": "code",
     "collapsed": false,
     "input": [
      "listings.groupby(['prop_type', 'neighborhood'])['price', 'person_capacity', 'picture_count', 'description_length', 'tenure_months'].agg(['mean'])"
     ],
     "language": "python",
     "metadata": {},
     "outputs": [
      {
       "html": [
        "<div style=\"max-height:1000px;max-width:1500px;overflow:auto;\">\n",
        "<table border=\"1\" class=\"dataframe\">\n",
        "  <thead>\n",
        "    <tr>\n",
        "      <th></th>\n",
        "      <th></th>\n",
        "      <th>price</th>\n",
        "      <th>person_capacity</th>\n",
        "      <th>picture_count</th>\n",
        "      <th>description_length</th>\n",
        "      <th>tenure_months</th>\n",
        "    </tr>\n",
        "    <tr>\n",
        "      <th></th>\n",
        "      <th></th>\n",
        "      <th>mean</th>\n",
        "      <th>mean</th>\n",
        "      <th>mean</th>\n",
        "      <th>mean</th>\n",
        "      <th>mean</th>\n",
        "    </tr>\n",
        "    <tr>\n",
        "      <th>prop_type</th>\n",
        "      <th>neighborhood</th>\n",
        "      <th></th>\n",
        "      <th></th>\n",
        "      <th></th>\n",
        "      <th></th>\n",
        "      <th></th>\n",
        "    </tr>\n",
        "  </thead>\n",
        "  <tbody>\n",
        "    <tr>\n",
        "      <th rowspan=\"20\" valign=\"top\">Property type 1</th>\n",
        "      <th>Neighborhood 1</th>\n",
        "      <td>  85.000000</td>\n",
        "      <td> 2.000000</td>\n",
        "      <td> 26.000000</td>\n",
        "      <td> 209.000000</td>\n",
        "      <td>  6.000000</td>\n",
        "    </tr>\n",
        "    <tr>\n",
        "      <th>Neighborhood 10</th>\n",
        "      <td> 142.500000</td>\n",
        "      <td> 3.500000</td>\n",
        "      <td> 13.333333</td>\n",
        "      <td> 391.000000</td>\n",
        "      <td>  3.833333</td>\n",
        "    </tr>\n",
        "    <tr>\n",
        "      <th>Neighborhood 11</th>\n",
        "      <td> 159.428571</td>\n",
        "      <td> 3.214286</td>\n",
        "      <td>  9.928571</td>\n",
        "      <td> 379.000000</td>\n",
        "      <td>  9.642857</td>\n",
        "    </tr>\n",
        "    <tr>\n",
        "      <th>Neighborhood 12</th>\n",
        "      <td> 365.615385</td>\n",
        "      <td> 3.435897</td>\n",
        "      <td> 10.820513</td>\n",
        "      <td> 267.205128</td>\n",
        "      <td>  7.897436</td>\n",
        "    </tr>\n",
        "    <tr>\n",
        "      <th>Neighborhood 13</th>\n",
        "      <td> 241.897959</td>\n",
        "      <td> 4.061224</td>\n",
        "      <td> 15.653061</td>\n",
        "      <td> 290.408163</td>\n",
        "      <td>  9.122449</td>\n",
        "    </tr>\n",
        "    <tr>\n",
        "      <th>Neighborhood 14</th>\n",
        "      <td> 164.676471</td>\n",
        "      <td> 3.205882</td>\n",
        "      <td> 14.764706</td>\n",
        "      <td> 317.205882</td>\n",
        "      <td>  8.441176</td>\n",
        "    </tr>\n",
        "    <tr>\n",
        "      <th>Neighborhood 15</th>\n",
        "      <td> 178.880000</td>\n",
        "      <td> 3.720000</td>\n",
        "      <td> 14.320000</td>\n",
        "      <td> 321.760000</td>\n",
        "      <td>  9.320000</td>\n",
        "    </tr>\n",
        "    <tr>\n",
        "      <th>Neighborhood 16</th>\n",
        "      <td> 158.928571</td>\n",
        "      <td> 2.928571</td>\n",
        "      <td> 21.642857</td>\n",
        "      <td> 310.714286</td>\n",
        "      <td>  7.071429</td>\n",
        "    </tr>\n",
        "    <tr>\n",
        "      <th>Neighborhood 17</th>\n",
        "      <td> 189.869565</td>\n",
        "      <td> 3.521739</td>\n",
        "      <td> 16.086957</td>\n",
        "      <td> 317.347826</td>\n",
        "      <td>  9.869565</td>\n",
        "    </tr>\n",
        "    <tr>\n",
        "      <th>Neighborhood 18</th>\n",
        "      <td> 173.590909</td>\n",
        "      <td> 2.954545</td>\n",
        "      <td> 16.090909</td>\n",
        "      <td> 369.227273</td>\n",
        "      <td>  8.227273</td>\n",
        "    </tr>\n",
        "    <tr>\n",
        "      <th>Neighborhood 19</th>\n",
        "      <td> 222.375000</td>\n",
        "      <td> 3.625000</td>\n",
        "      <td> 11.000000</td>\n",
        "      <td> 254.500000</td>\n",
        "      <td>  6.500000</td>\n",
        "    </tr>\n",
        "    <tr>\n",
        "      <th>Neighborhood 2</th>\n",
        "      <td> 250.000000</td>\n",
        "      <td> 6.000000</td>\n",
        "      <td>  8.000000</td>\n",
        "      <td> 423.000000</td>\n",
        "      <td>  6.000000</td>\n",
        "    </tr>\n",
        "    <tr>\n",
        "      <th>Neighborhood 20</th>\n",
        "      <td> 804.333333</td>\n",
        "      <td> 2.777778</td>\n",
        "      <td>  9.444444</td>\n",
        "      <td> 223.555556</td>\n",
        "      <td>  9.666667</td>\n",
        "    </tr>\n",
        "    <tr>\n",
        "      <th>Neighborhood 21</th>\n",
        "      <td> 362.500000</td>\n",
        "      <td> 4.250000</td>\n",
        "      <td> 49.000000</td>\n",
        "      <td> 306.250000</td>\n",
        "      <td> 14.750000</td>\n",
        "    </tr>\n",
        "    <tr>\n",
        "      <th>Neighborhood 22</th>\n",
        "      <td> 225.000000</td>\n",
        "      <td> 3.000000</td>\n",
        "      <td> 19.000000</td>\n",
        "      <td> 500.000000</td>\n",
        "      <td>  9.000000</td>\n",
        "    </tr>\n",
        "    <tr>\n",
        "      <th>Neighborhood 5</th>\n",
        "      <td> 194.500000</td>\n",
        "      <td> 2.500000</td>\n",
        "      <td>  8.500000</td>\n",
        "      <td> 266.500000</td>\n",
        "      <td> 11.500000</td>\n",
        "    </tr>\n",
        "    <tr>\n",
        "      <th>Neighborhood 6</th>\n",
        "      <td> 146.000000</td>\n",
        "      <td> 3.333333</td>\n",
        "      <td> 12.666667</td>\n",
        "      <td> 290.666667</td>\n",
        "      <td>  4.000000</td>\n",
        "    </tr>\n",
        "    <tr>\n",
        "      <th>Neighborhood 7</th>\n",
        "      <td> 161.000000</td>\n",
        "      <td> 3.666667</td>\n",
        "      <td> 14.333333</td>\n",
        "      <td> 343.000000</td>\n",
        "      <td>  5.333333</td>\n",
        "    </tr>\n",
        "    <tr>\n",
        "      <th>Neighborhood 8</th>\n",
        "      <td> 174.750000</td>\n",
        "      <td> 5.000000</td>\n",
        "      <td> 11.000000</td>\n",
        "      <td> 300.000000</td>\n",
        "      <td>  6.750000</td>\n",
        "    </tr>\n",
        "    <tr>\n",
        "      <th>Neighborhood 9</th>\n",
        "      <td> 151.142857</td>\n",
        "      <td> 4.285714</td>\n",
        "      <td> 13.428571</td>\n",
        "      <td> 471.428571</td>\n",
        "      <td>  5.714286</td>\n",
        "    </tr>\n",
        "    <tr>\n",
        "      <th rowspan=\"16\" valign=\"top\">Property type 2</th>\n",
        "      <th>Neighborhood 10</th>\n",
        "      <td> 137.500000</td>\n",
        "      <td> 2.000000</td>\n",
        "      <td> 20.000000</td>\n",
        "      <td> 126.000000</td>\n",
        "      <td>  3.500000</td>\n",
        "    </tr>\n",
        "    <tr>\n",
        "      <th>Neighborhood 11</th>\n",
        "      <td>  78.750000</td>\n",
        "      <td> 2.000000</td>\n",
        "      <td> 16.750000</td>\n",
        "      <td> 161.250000</td>\n",
        "      <td> 11.250000</td>\n",
        "    </tr>\n",
        "    <tr>\n",
        "      <th>Neighborhood 12</th>\n",
        "      <td>  96.894737</td>\n",
        "      <td> 1.947368</td>\n",
        "      <td> 10.473684</td>\n",
        "      <td> 244.526316</td>\n",
        "      <td>  9.842105</td>\n",
        "    </tr>\n",
        "    <tr>\n",
        "      <th>Neighborhood 13</th>\n",
        "      <td>  81.130435</td>\n",
        "      <td> 1.826087</td>\n",
        "      <td> 16.695652</td>\n",
        "      <td> 418.565217</td>\n",
        "      <td>  9.739130</td>\n",
        "    </tr>\n",
        "    <tr>\n",
        "      <th>Neighborhood 14</th>\n",
        "      <td>  83.809524</td>\n",
        "      <td> 1.857143</td>\n",
        "      <td> 15.904762</td>\n",
        "      <td> 348.619048</td>\n",
        "      <td>  8.714286</td>\n",
        "    </tr>\n",
        "    <tr>\n",
        "      <th>Neighborhood 15</th>\n",
        "      <td>  95.000000</td>\n",
        "      <td> 2.266667</td>\n",
        "      <td> 11.733333</td>\n",
        "      <td> 301.733333</td>\n",
        "      <td>  8.200000</td>\n",
        "    </tr>\n",
        "    <tr>\n",
        "      <th>Neighborhood 16</th>\n",
        "      <td>  83.625000</td>\n",
        "      <td> 2.062500</td>\n",
        "      <td> 15.375000</td>\n",
        "      <td> 246.250000</td>\n",
        "      <td>  6.687500</td>\n",
        "    </tr>\n",
        "    <tr>\n",
        "      <th>Neighborhood 17</th>\n",
        "      <td> 102.454545</td>\n",
        "      <td> 2.000000</td>\n",
        "      <td> 15.454545</td>\n",
        "      <td> 308.272727</td>\n",
        "      <td>  7.181818</td>\n",
        "    </tr>\n",
        "    <tr>\n",
        "      <th>Neighborhood 18</th>\n",
        "      <td> 120.666667</td>\n",
        "      <td> 2.222222</td>\n",
        "      <td> 12.333333</td>\n",
        "      <td> 297.777778</td>\n",
        "      <td>  9.222222</td>\n",
        "    </tr>\n",
        "    <tr>\n",
        "      <th>Neighborhood 19</th>\n",
        "      <td>  88.875000</td>\n",
        "      <td> 2.000000</td>\n",
        "      <td> 15.125000</td>\n",
        "      <td> 383.375000</td>\n",
        "      <td>  5.500000</td>\n",
        "    </tr>\n",
        "    <tr>\n",
        "      <th>Neighborhood 20</th>\n",
        "      <td>  60.000000</td>\n",
        "      <td> 1.000000</td>\n",
        "      <td>  3.000000</td>\n",
        "      <td> 101.000000</td>\n",
        "      <td>  6.000000</td>\n",
        "    </tr>\n",
        "    <tr>\n",
        "      <th>Neighborhood 3</th>\n",
        "      <td>  60.000000</td>\n",
        "      <td> 2.000000</td>\n",
        "      <td>  7.000000</td>\n",
        "      <td> 264.000000</td>\n",
        "      <td>  9.000000</td>\n",
        "    </tr>\n",
        "    <tr>\n",
        "      <th>Neighborhood 4</th>\n",
        "      <td>  60.000000</td>\n",
        "      <td> 2.000000</td>\n",
        "      <td> 10.000000</td>\n",
        "      <td>  95.000000</td>\n",
        "      <td> 11.000000</td>\n",
        "    </tr>\n",
        "    <tr>\n",
        "      <th>Neighborhood 7</th>\n",
        "      <td> 100.000000</td>\n",
        "      <td> 2.000000</td>\n",
        "      <td>  3.000000</td>\n",
        "      <td> 148.000000</td>\n",
        "      <td>  2.000000</td>\n",
        "    </tr>\n",
        "    <tr>\n",
        "      <th>Neighborhood 8</th>\n",
        "      <td> 350.000000</td>\n",
        "      <td> 4.000000</td>\n",
        "      <td>  5.000000</td>\n",
        "      <td> 223.000000</td>\n",
        "      <td>  3.000000</td>\n",
        "    </tr>\n",
        "    <tr>\n",
        "      <th>Neighborhood 9</th>\n",
        "      <td> 110.000000</td>\n",
        "      <td> 2.000000</td>\n",
        "      <td>  3.500000</td>\n",
        "      <td> 114.500000</td>\n",
        "      <td>  9.000000</td>\n",
        "    </tr>\n",
        "    <tr>\n",
        "      <th rowspan=\"4\" valign=\"top\">Property type 3</th>\n",
        "      <th>Neighborhood 11</th>\n",
        "      <td>  75.000000</td>\n",
        "      <td> 2.000000</td>\n",
        "      <td> 15.000000</td>\n",
        "      <td> 196.000000</td>\n",
        "      <td>  8.000000</td>\n",
        "    </tr>\n",
        "    <tr>\n",
        "      <th>Neighborhood 14</th>\n",
        "      <td>  75.000000</td>\n",
        "      <td> 1.000000</td>\n",
        "      <td>  1.000000</td>\n",
        "      <td> 113.000000</td>\n",
        "      <td>  5.000000</td>\n",
        "    </tr>\n",
        "    <tr>\n",
        "      <th>Neighborhood 17</th>\n",
        "      <td>  65.000000</td>\n",
        "      <td> 2.000000</td>\n",
        "      <td> 15.000000</td>\n",
        "      <td> 189.000000</td>\n",
        "      <td> 23.000000</td>\n",
        "    </tr>\n",
        "    <tr>\n",
        "      <th>Neighborhood 4</th>\n",
        "      <td>  40.000000</td>\n",
        "      <td> 2.000000</td>\n",
        "      <td>  4.000000</td>\n",
        "      <td> 241.000000</td>\n",
        "      <td> 19.000000</td>\n",
        "    </tr>\n",
        "  </tbody>\n",
        "</table>\n",
        "</div>"
       ],
       "metadata": {},
       "output_type": "pyout",
       "prompt_number": 63,
       "text": [
        "                                      price person_capacity picture_count  \\\n",
        "                                       mean            mean          mean   \n",
        "prop_type       neighborhood                                                \n",
        "Property type 1 Neighborhood 1    85.000000        2.000000     26.000000   \n",
        "                Neighborhood 10  142.500000        3.500000     13.333333   \n",
        "                Neighborhood 11  159.428571        3.214286      9.928571   \n",
        "                Neighborhood 12  365.615385        3.435897     10.820513   \n",
        "                Neighborhood 13  241.897959        4.061224     15.653061   \n",
        "                Neighborhood 14  164.676471        3.205882     14.764706   \n",
        "                Neighborhood 15  178.880000        3.720000     14.320000   \n",
        "                Neighborhood 16  158.928571        2.928571     21.642857   \n",
        "                Neighborhood 17  189.869565        3.521739     16.086957   \n",
        "                Neighborhood 18  173.590909        2.954545     16.090909   \n",
        "                Neighborhood 19  222.375000        3.625000     11.000000   \n",
        "                Neighborhood 2   250.000000        6.000000      8.000000   \n",
        "                Neighborhood 20  804.333333        2.777778      9.444444   \n",
        "                Neighborhood 21  362.500000        4.250000     49.000000   \n",
        "                Neighborhood 22  225.000000        3.000000     19.000000   \n",
        "                Neighborhood 5   194.500000        2.500000      8.500000   \n",
        "                Neighborhood 6   146.000000        3.333333     12.666667   \n",
        "                Neighborhood 7   161.000000        3.666667     14.333333   \n",
        "                Neighborhood 8   174.750000        5.000000     11.000000   \n",
        "                Neighborhood 9   151.142857        4.285714     13.428571   \n",
        "Property type 2 Neighborhood 10  137.500000        2.000000     20.000000   \n",
        "                Neighborhood 11   78.750000        2.000000     16.750000   \n",
        "                Neighborhood 12   96.894737        1.947368     10.473684   \n",
        "                Neighborhood 13   81.130435        1.826087     16.695652   \n",
        "                Neighborhood 14   83.809524        1.857143     15.904762   \n",
        "                Neighborhood 15   95.000000        2.266667     11.733333   \n",
        "                Neighborhood 16   83.625000        2.062500     15.375000   \n",
        "                Neighborhood 17  102.454545        2.000000     15.454545   \n",
        "                Neighborhood 18  120.666667        2.222222     12.333333   \n",
        "                Neighborhood 19   88.875000        2.000000     15.125000   \n",
        "                Neighborhood 20   60.000000        1.000000      3.000000   \n",
        "                Neighborhood 3    60.000000        2.000000      7.000000   \n",
        "                Neighborhood 4    60.000000        2.000000     10.000000   \n",
        "                Neighborhood 7   100.000000        2.000000      3.000000   \n",
        "                Neighborhood 8   350.000000        4.000000      5.000000   \n",
        "                Neighborhood 9   110.000000        2.000000      3.500000   \n",
        "Property type 3 Neighborhood 11   75.000000        2.000000     15.000000   \n",
        "                Neighborhood 14   75.000000        1.000000      1.000000   \n",
        "                Neighborhood 17   65.000000        2.000000     15.000000   \n",
        "                Neighborhood 4    40.000000        2.000000      4.000000   \n",
        "\n",
        "                                description_length tenure_months  \n",
        "                                              mean          mean  \n",
        "prop_type       neighborhood                                      \n",
        "Property type 1 Neighborhood 1          209.000000      6.000000  \n",
        "                Neighborhood 10         391.000000      3.833333  \n",
        "                Neighborhood 11         379.000000      9.642857  \n",
        "                Neighborhood 12         267.205128      7.897436  \n",
        "                Neighborhood 13         290.408163      9.122449  \n",
        "                Neighborhood 14         317.205882      8.441176  \n",
        "                Neighborhood 15         321.760000      9.320000  \n",
        "                Neighborhood 16         310.714286      7.071429  \n",
        "                Neighborhood 17         317.347826      9.869565  \n",
        "                Neighborhood 18         369.227273      8.227273  \n",
        "                Neighborhood 19         254.500000      6.500000  \n",
        "                Neighborhood 2          423.000000      6.000000  \n",
        "                Neighborhood 20         223.555556      9.666667  \n",
        "                Neighborhood 21         306.250000     14.750000  \n",
        "                Neighborhood 22         500.000000      9.000000  \n",
        "                Neighborhood 5          266.500000     11.500000  \n",
        "                Neighborhood 6          290.666667      4.000000  \n",
        "                Neighborhood 7          343.000000      5.333333  \n",
        "                Neighborhood 8          300.000000      6.750000  \n",
        "                Neighborhood 9          471.428571      5.714286  \n",
        "Property type 2 Neighborhood 10         126.000000      3.500000  \n",
        "                Neighborhood 11         161.250000     11.250000  \n",
        "                Neighborhood 12         244.526316      9.842105  \n",
        "                Neighborhood 13         418.565217      9.739130  \n",
        "                Neighborhood 14         348.619048      8.714286  \n",
        "                Neighborhood 15         301.733333      8.200000  \n",
        "                Neighborhood 16         246.250000      6.687500  \n",
        "                Neighborhood 17         308.272727      7.181818  \n",
        "                Neighborhood 18         297.777778      9.222222  \n",
        "                Neighborhood 19         383.375000      5.500000  \n",
        "                Neighborhood 20         101.000000      6.000000  \n",
        "                Neighborhood 3          264.000000      9.000000  \n",
        "                Neighborhood 4           95.000000     11.000000  \n",
        "                Neighborhood 7          148.000000      2.000000  \n",
        "                Neighborhood 8          223.000000      3.000000  \n",
        "                Neighborhood 9          114.500000      9.000000  \n",
        "Property type 3 Neighborhood 11         196.000000      8.000000  \n",
        "                Neighborhood 14         113.000000      5.000000  \n",
        "                Neighborhood 17         189.000000     23.000000  \n",
        "                Neighborhood 4          241.000000     19.000000  "
       ]
      }
     ],
     "prompt_number": 63
    },
    {
     "cell_type": "markdown",
     "metadata": {},
     "source": [
      "###Plot daily bookings:"
     ]
    },
    {
     "cell_type": "code",
     "collapsed": false,
     "input": [
      "# Generate a count of bookings by date\n",
      "cross_tab = bookings.groupby(['booking_date'])['prop_id'].agg(['count']).unstack(0)\n",
      "\n",
      "# Plot the table\n",
      "cross_tab.plot()"
     ],
     "language": "python",
     "metadata": {},
     "outputs": [
      {
       "metadata": {},
       "output_type": "pyout",
       "prompt_number": 64,
       "text": [
        "<matplotlib.axes._subplots.AxesSubplot at 0x10bc97b90>"
       ]
      },
      {
       "metadata": {},
       "output_type": "display_data",
       "png": "[encoded data removed]",
       "text": [
        "<matplotlib.figure.Figure at 0x10b6a2bd0>"
       ]
      }
     ],
     "prompt_number": 64
    },
    {
     "cell_type": "markdown",
     "metadata": {},
     "source": [
      "###Plot the daily bookings per neighborhood (provide a legend)"
     ]
    },
    {
     "cell_type": "code",
     "collapsed": false,
     "input": [
      "# Create a smaller dataset with just the prop_id and neighborhood\n",
      "neighborhoods = listings[['prop_id', 'neighborhood']]\n",
      "\n",
      "# Merge bookings_by_prop into the listings data\n",
      "bookings_neighborhoods = bookings.merge(neighborhoods, on='prop_id', how='left')\n",
      "\n",
      "# Generate a count of bookings by date and neighborhood\n",
      "cross_tab = bookings_neighborhoods.groupby(['neighborhood','booking_date'])['prop_id'].agg(['count']).unstack(0)\n",
      "\n",
      "# Plot the table\n",
      "cross_tab.plot()"
     ],
     "language": "python",
     "metadata": {},
     "outputs": [
      {
       "metadata": {},
       "output_type": "pyout",
       "prompt_number": 65,
       "text": [
        "<matplotlib.axes._subplots.AxesSubplot at 0x10bd99750>"
       ]
      },
      {
       "metadata": {},
       "output_type": "display_data",
       "png": "[encoded data removed]",
       "text": [
        "<matplotlib.figure.Figure at 0x10bfbe290>"
       ]
      }
     ],
     "prompt_number": 65
    },
    {
     "cell_type": "markdown",
     "metadata": {},
     "source": [
      "##Part 2 - Develop a data set"
     ]
    },
    {
     "cell_type": "code",
     "collapsed": false,
     "input": [
      "# Count the number of bookings by property\n",
      "bookings_by_prop = bookings.groupby('prop_id')[['prop_id']].count()\n",
      "bookings_by_prop\n",
      "\n",
      "# Rename columns and reset the index\n",
      "bookings_by_prop.rename(columns={'prop_id': 'number_of_bookings'}, inplace=True)\n",
      "bookings_by_prop = bookings_by_prop.reset_index()"
     ],
     "language": "python",
     "metadata": {},
     "outputs": [],
     "prompt_number": 66
    },
    {
     "cell_type": "markdown",
     "metadata": {},
     "source": [
      "###Add the columns `number_of_bookings` and `booking_rate` (number_of_bookings/tenure_months) to your `listings` data frame"
     ]
    },
    {
     "cell_type": "code",
     "collapsed": false,
     "input": [
      "# Merge bookings_by_prop into the listings data\n",
      "listings = listings.merge(bookings_by_prop, on='prop_id', how='left')\n",
      "\n",
      "# Replace null values with 0's\n",
      "listings.number_of_bookings.replace(np.nan, 0, inplace = True)\n",
      "\n",
      "# Divide number_of_bookings by tenure_months\n",
      "listings['booking_rate'] = listings.number_of_bookings / listings.tenure_months\n",
      "\n",
      "# Describe the resulting dataset\n",
      "listings.info()"
     ],
     "language": "python",
     "metadata": {},
     "outputs": [
      {
       "output_type": "stream",
       "stream": "stdout",
       "text": [
        "<class 'pandas.core.frame.DataFrame'>\n",
        "Int64Index: 408 entries, 0 to 407\n",
        "Data columns (total 10 columns):\n",
        "prop_id               408 non-null int64\n",
        "prop_type             408 non-null object\n",
        "neighborhood          408 non-null object\n",
        "price                 408 non-null int64\n",
        "person_capacity       408 non-null int64\n",
        "picture_count         408 non-null int64\n",
        "description_length    408 non-null int64\n",
        "tenure_months         408 non-null int64\n",
        "number_of_bookings    408 non-null float64\n",
        "booking_rate          408 non-null float64\n",
        "dtypes: float64(2), int64(6), object(2)\n",
        "memory usage: 35.1+ KB\n"
       ]
      }
     ],
     "prompt_number": 67
    },
    {
     "cell_type": "markdown",
     "metadata": {},
     "source": [
      "###We only want to analyze well established properties, so let's filter out any properties that have a tenure less than 10 months "
     ]
    },
    {
     "cell_type": "code",
     "collapsed": false,
     "input": [
      "listings_filtered = listings[listings.tenure_months > 10]\n",
      "listings_filtered.info()"
     ],
     "language": "python",
     "metadata": {},
     "outputs": [
      {
       "output_type": "stream",
       "stream": "stdout",
       "text": [
        "<class 'pandas.core.frame.DataFrame'>\n",
        "Int64Index: 120 entries, 0 to 119\n",
        "Data columns (total 10 columns):\n",
        "prop_id               120 non-null int64\n",
        "prop_type             120 non-null object\n",
        "neighborhood          120 non-null object\n",
        "price                 120 non-null int64\n",
        "person_capacity       120 non-null int64\n",
        "picture_count         120 non-null int64\n",
        "description_length    120 non-null int64\n",
        "tenure_months         120 non-null int64\n",
        "number_of_bookings    120 non-null float64\n",
        "booking_rate          120 non-null float64\n",
        "dtypes: float64(2), int64(6), object(2)\n",
        "memory usage: 10.3+ KB\n"
       ]
      }
     ],
     "prompt_number": 68
    },
    {
     "cell_type": "markdown",
     "metadata": {},
     "source": [
      "###`prop_type` and `neighborhood` are categorical variables, use `get_dummies()` (http://pandas.pydata.org/pandas-docs/stable/generated/pandas.core.reshape.get_dummies.html) to transform this column of categorical data to many columns of boolean values (after applying this function correctly there should be 1 column for every prop_type and 1 column for every neighborhood category."
     ]
    },
    {
     "cell_type": "code",
     "collapsed": false,
     "input": [
      "listings_filtered = pd.get_dummies(listings_filtered)"
     ],
     "language": "python",
     "metadata": {},
     "outputs": [],
     "prompt_number": 69
    },
    {
     "cell_type": "markdown",
     "metadata": {},
     "source": [
      "###create test and training sets for your regressors and predictors\n",
      "predictor (y) is `booking_rate`, regressors (X) are everything else, except `prop_id`,`booking_rate`,`prop_type`,`neighborhood` and `number_of_bookings`<br>\n",
      "http://scikit-learn.org/stable/modules/generated/sklearn.cross_validation.train_test_split.html<br>\n",
      "http://pandas.pydata.org/pandas-docs/stable/basics.html#dropping-labels-from-an-axis"
     ]
    },
    {
     "cell_type": "code",
     "collapsed": false,
     "input": [
      "from sklearn.cross_validation import train_test_split"
     ],
     "language": "python",
     "metadata": {},
     "outputs": [],
     "prompt_number": 70
    },
    {
     "cell_type": "code",
     "collapsed": false,
     "input": [
      "# Create a reduced data from of features from the original data frame\n",
      "cols = list(listings_filtered.columns)\n",
      "cols.remove('prop_id')\n",
      "cols.remove('booking_rate')\n",
      "cols.remove('number_of_bookings')\n",
      "iv = listings_filtered[cols]\n",
      "\n",
      "# Create a data frame with the target variable\n",
      "dv = listings_filtered['booking_rate'].values\n",
      "\n",
      "# Split those two data frames into training and test datasets\n",
      "iv_train, iv_test, dv_train, dv_test = train_test_split(iv, dv, test_size=0.2)"
     ],
     "language": "python",
     "metadata": {},
     "outputs": [],
     "prompt_number": 71
    },
    {
     "cell_type": "markdown",
     "metadata": {},
     "source": [
      "##Part 3 - Model `booking_rate`"
     ]
    },
    {
     "cell_type": "markdown",
     "metadata": {},
     "source": [
      "###Create a linear regression model of your listings"
     ]
    },
    {
     "cell_type": "code",
     "collapsed": false,
     "input": [
      "from sklearn.linear_model import LinearRegression\n",
      "lr = LinearRegression()"
     ],
     "language": "python",
     "metadata": {},
     "outputs": [],
     "prompt_number": 72
    },
    {
     "cell_type": "markdown",
     "metadata": {},
     "source": [
      "###fit your model with your test sets"
     ]
    },
    {
     "cell_type": "code",
     "collapsed": false,
     "input": [
      "lr.fit(iv_train, dv_train)"
     ],
     "language": "python",
     "metadata": {},
     "outputs": [
      {
       "metadata": {},
       "output_type": "pyout",
       "prompt_number": 73,
       "text": [
        "LinearRegression(copy_X=True, fit_intercept=True, normalize=False)"
       ]
      }
     ],
     "prompt_number": 73
    },
    {
     "cell_type": "markdown",
     "metadata": {},
     "source": [
      "###report the score\n",
      "http://scikit-learn.org/stable/modules/generated/sklearn.linear_model.LinearRegression.html#sklearn.linear_model.LinearRegression.score"
     ]
    },
    {
     "cell_type": "code",
     "collapsed": false,
     "input": [
      "lr.score(iv_train, dv_train)"
     ],
     "language": "python",
     "metadata": {},
     "outputs": [
      {
       "metadata": {},
       "output_type": "pyout",
       "prompt_number": 74,
       "text": [
        "0.31484836732897703"
       ]
      }
     ],
     "prompt_number": 74
    },
    {
     "cell_type": "markdown",
     "metadata": {},
     "source": [
      "###Interpret the results of the above model:\n",
      "* What does the `score` method do?\n",
      "* What does this tell us about our model?"
     ]
    },
    {
     "cell_type": "code",
     "collapsed": false,
     "input": [
      "# The score tells us the amount of variance in the outcome variable that is explained by the predictor variables.\n",
      "# A score of 0.41 tells us that the model explains about 40% of the variance in the outcome variable."
     ],
     "language": "python",
     "metadata": {},
     "outputs": [],
     "prompt_number": 75
    },
    {
     "cell_type": "markdown",
     "metadata": {},
     "source": [
      "...type here..."
     ]
    },
    {
     "cell_type": "markdown",
     "metadata": {},
     "source": [
      "##Optional - Iterate\n",
      "Create an alternative predictor (e.g. monthly revenue) and use the same modeling pattern in Part 3 to  "
     ]
    },
    {
     "cell_type": "code",
     "collapsed": false,
     "input": [
      "# Create a reduced data from of features from the original data frame\n",
      "listings_filtered['monthly_revenue'] = listings_filtered.price * listings_filtered.booking_rate\n",
      "\n",
      "# Create a reduced data from of features from the original data frame\n",
      "cols = list(listings_filtered.columns)\n",
      "cols.remove('prop_id')\n",
      "cols.remove('booking_rate')\n",
      "cols.remove('number_of_bookings')\n",
      "iv = listings_filtered[cols]\n",
      "\n",
      "# Create a data frame with the target variable\n",
      "dv = listings_filtered['booking_rate'].values\n",
      "\n",
      "# Split those two data frames into training and test datasets\n",
      "iv_train, iv_test, dv_train, dv_test = train_test_split(iv, dv, test_size=0.2)\n",
      "\n",
      "# Fit model with the test sets\n",
      "lr.fit(iv_train, dv_train)\n",
      "\n",
      "# Report the score\n",
      "lr.score(iv_train, dv_train)"
     ],
     "language": "python",
     "metadata": {},
     "outputs": [
      {
       "metadata": {},
       "output_type": "pyout",
       "prompt_number": 76,
       "text": [
        "0.92979467316975706"
       ]
      }
     ],
     "prompt_number": 76
    },
    {
     "cell_type": "code",
     "collapsed": false,
     "input": [],
     "language": "python",
     "metadata": {},
     "outputs": [],
     "prompt_number": 57
    },
    {
     "cell_type": "code",
     "collapsed": false,
     "input": [],
     "language": "python",
     "metadata": {},
     "outputs": []
    }
   ],
   "metadata": {}
  }
 ]
}