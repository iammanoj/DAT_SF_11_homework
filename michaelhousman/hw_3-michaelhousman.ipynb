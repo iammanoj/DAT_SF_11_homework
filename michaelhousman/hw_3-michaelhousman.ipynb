{
 "metadata": {
  "name": "",
  "signature": "sha256:e4bbccc784d7698a8a9d36e1199f6279314c939e5802ee0b00798cc0c12cb7dc"
 },
 "nbformat": 3,
 "nbformat_minor": 0,
 "worksheets": [
  {
   "cells": [
    {
     "cell_type": "markdown",
     "metadata": {},
     "source": [
      "#HW 3: KNN & Random Forest\n",
      "Get your data [here](https://archive.ics.uci.edu/ml/datasets/Bank+Marketing). The data is related with direct marketing campaigns of a Portuguese banking institution. The marketing campaigns were based on phone calls. Often, more than one contact to the same client was required, in order to access if the product (bank term deposit) would be ('yes') or not ('no') subscribed. There are four datasets:\n",
      "\n",
      "1) bank-additional-full.csv with all examples (41188) and 20 inputs, ordered by date (from May 2008 to November 2010)\n",
      "\n",
      "2) bank-additional.csv with 10% of the examples (4119), randomly selected from 1), and 20 inputs.\n",
      "\n",
      "3) bank-full.csv with all examples and 17 inputs, ordered by date (older version of this dataset with less inputs). \n",
      "\n",
      "4) bank.csv with 10% of the examples and 17 inputs, randomly selected from 3 (older version of this dataset with less inputs). \n",
      "\n",
      "The smallest datasets are provided to test more computationally demanding machine \n",
      "learning algorithms (e.g., SVM). \n",
      "\n",
      "The classification goal is to predict if the client will subscribe (yes/no) a term deposit (variable y)."
     ]
    },
    {
     "cell_type": "markdown",
     "metadata": {},
     "source": [
      "##Assignment\n",
      "* Preprocess your data (you may find `LabelEncoder` useful)\n"
     ]
    },
    {
     "cell_type": "code",
     "collapsed": false,
     "input": [
      "# Standard imports for data analysis packages in Python\n",
      "\n",
      "import pandas as pd\n",
      "import numpy as np\n",
      "import seaborn as sns\n",
      "import matplotlib.pyplot as plt\n",
      "\n",
      "# This enables inline Plots\n",
      "\n",
      "%matplotlib inline\n",
      "\n",
      "# Limit the rows displayed in dataframe by inserting this line along with your imports.\n",
      "\n",
      "pd.set_option('display.max_rows', 10)"
     ],
     "language": "python",
     "metadata": {},
     "outputs": [],
     "prompt_number": 2
    },
    {
     "cell_type": "code",
     "collapsed": false,
     "input": [
      "# Create a data frame from the listings dataset\n",
      "\n",
      "bank_additional = pd.read_csv('../hw3/bank-additional.csv', delimiter=\";\", header=0)\n",
      "bank_additional_full = pd.read_csv('../hw3/bank-additional-full.csv', delimiter=\";\", header=0)"
     ],
     "language": "python",
     "metadata": {},
     "outputs": [],
     "prompt_number": 3
    },
    {
     "cell_type": "code",
     "collapsed": false,
     "input": [
      "# Check the header of the file\n",
      "\n",
      "print bank_additional_full.head()"
     ],
     "language": "python",
     "metadata": {},
     "outputs": [
      {
       "output_type": "stream",
       "stream": "stdout",
       "text": [
        "   age        job  marital    education  default housing loan    contact  \\\n",
        "0   56  housemaid  married     basic.4y       no      no   no  telephone   \n",
        "1   57   services  married  high.school  unknown      no   no  telephone   \n",
        "2   37   services  married  high.school       no     yes   no  telephone   \n",
        "3   40     admin.  married     basic.6y       no      no   no  telephone   \n",
        "4   56   services  married  high.school       no      no  yes  telephone   \n",
        "\n",
        "  month day_of_week ...  campaign  pdays  previous     poutcome emp.var.rate  \\\n",
        "0   may         mon ...         1    999         0  nonexistent          1.1   \n",
        "1   may         mon ...         1    999         0  nonexistent          1.1   \n",
        "2   may         mon ...         1    999         0  nonexistent          1.1   \n",
        "3   may         mon ...         1    999         0  nonexistent          1.1   \n",
        "4   may         mon ...         1    999         0  nonexistent          1.1   \n",
        "\n",
        "   cons.price.idx  cons.conf.idx  euribor3m  nr.employed   y  \n",
        "0          93.994          -36.4      4.857         5191  no  \n",
        "1          93.994          -36.4      4.857         5191  no  \n",
        "2          93.994          -36.4      4.857         5191  no  \n",
        "3          93.994          -36.4      4.857         5191  no  \n",
        "4          93.994          -36.4      4.857         5191  no  \n",
        "\n",
        "[5 rows x 21 columns]\n"
       ]
      }
     ],
     "prompt_number": 4
    },
    {
     "cell_type": "code",
     "collapsed": false,
     "input": [
      "# Check for missing values\n",
      "\n",
      "print bank_additional_full.info()"
     ],
     "language": "python",
     "metadata": {},
     "outputs": [
      {
       "output_type": "stream",
       "stream": "stdout",
       "text": [
        "<class 'pandas.core.frame.DataFrame'>\n",
        "Int64Index: 41188 entries, 0 to 41187\n",
        "Data columns (total 21 columns):\n",
        "age               41188 non-null int64\n",
        "job               41188 non-null object\n",
        "marital           41188 non-null object\n",
        "education         41188 non-null object\n",
        "default           41188 non-null object\n",
        "housing           41188 non-null object\n",
        "loan              41188 non-null object\n",
        "contact           41188 non-null object\n",
        "month             41188 non-null object\n",
        "day_of_week       41188 non-null object\n",
        "duration          41188 non-null int64\n",
        "campaign          41188 non-null int64\n",
        "pdays             41188 non-null int64\n",
        "previous          41188 non-null int64\n",
        "poutcome          41188 non-null object\n",
        "emp.var.rate      41188 non-null float64\n",
        "cons.price.idx    41188 non-null float64\n",
        "cons.conf.idx     41188 non-null float64\n",
        "euribor3m         41188 non-null float64\n",
        "nr.employed       41188 non-null float64\n",
        "y                 41188 non-null object\n",
        "dtypes: float64(5), int64(5), object(11)\n",
        "memory usage: 6.9+ MB\n",
        "None\n"
       ]
      }
     ],
     "prompt_number": 5
    },
    {
     "cell_type": "code",
     "collapsed": false,
     "input": [
      "# There are apparently no null values in the datasets so it is not necessary to impute any values"
     ],
     "language": "python",
     "metadata": {},
     "outputs": [],
     "prompt_number": 6
    },
    {
     "cell_type": "code",
     "collapsed": false,
     "input": [
      "# Check the values in the target variable (y)\n",
      "\n",
      "print bank_additional_full.y.value_counts()"
     ],
     "language": "python",
     "metadata": {},
     "outputs": [
      {
       "output_type": "stream",
       "stream": "stdout",
       "text": [
        "no     36548\n",
        "yes     4640\n",
        "dtype: int64\n"
       ]
      }
     ],
     "prompt_number": 7
    },
    {
     "cell_type": "code",
     "collapsed": false,
     "input": [
      "# Import the label encoder package\n",
      "\n",
      "import pandas\n",
      "from sklearn import preprocessing "
     ],
     "language": "python",
     "metadata": {},
     "outputs": [],
     "prompt_number": 8
    },
    {
     "cell_type": "code",
     "collapsed": false,
     "input": [
      "# Create the feature dataset using LabelEncoder for string variables\n",
      "\n",
      "cols = list(bank_additional_full.columns)\n",
      "\n",
      "cols.remove('y')\n",
      "\n",
      "x = pd.DataFrame()\n",
      "\n",
      "for col in cols:\n",
      "    if bank_additional_full[col].dtype <> 'object':\n",
      "        x[col] = bank_additional_full[col]\n",
      "    if bank_additional_full[col].dtype == 'object':\n",
      "        le = preprocessing.LabelEncoder()\n",
      "        x[col] = le.fit_transform(bank_additional_full[col])"
     ],
     "language": "python",
     "metadata": {},
     "outputs": [],
     "prompt_number": 9
    },
    {
     "cell_type": "code",
     "collapsed": false,
     "input": [
      "# Create the target dataset\n",
      "\n",
      "y = le.fit_transform(bank_additional_full.y)"
     ],
     "language": "python",
     "metadata": {},
     "outputs": [],
     "prompt_number": 10
    },
    {
     "cell_type": "markdown",
     "metadata": {},
     "source": [
      "* Train both KNN and Random Forest models\n"
     ]
    },
    {
     "cell_type": "code",
     "collapsed": false,
     "input": [
      "# Split the data into test and training\n",
      "\n",
      "from sklearn.cross_validation import train_test_split\n",
      "\n",
      "x_train, x_test, y_train, y_test = train_test_split(x, y, test_size=0.2)"
     ],
     "language": "python",
     "metadata": {},
     "outputs": [],
     "prompt_number": 11
    },
    {
     "cell_type": "code",
     "collapsed": false,
     "input": [
      "# Import the KNeigghborsClassifier\n",
      "\n",
      "from sklearn.neighbors import KNeighborsClassifier\n",
      "\n",
      "# Instantiate the estimator\n",
      "\n",
      "kn_model = KNeighborsClassifier()\n",
      "\n",
      "# Fit the estimator to the training data\n",
      "\n",
      "kn_model.fit(x_train, y_train)\n",
      "\n",
      "# Print out the score\n",
      "\n",
      "print kn_model.score(x_train, y_train)"
     ],
     "language": "python",
     "metadata": {},
     "outputs": [
      {
       "output_type": "stream",
       "stream": "stdout",
       "text": [
        "0.932261001517\n"
       ]
      }
     ],
     "prompt_number": 12
    },
    {
     "cell_type": "code",
     "collapsed": false,
     "input": [
      "# Import the DecisionTreeClassifier and RandomForestClassifier from scikit-learn\n",
      "\n",
      "from sklearn.cross_validation import cross_val_score\n",
      "from sklearn.ensemble import RandomForestClassifier\n",
      "from sklearn.tree import DecisionTreeClassifier\n",
      "\n",
      "# Use the RandomForestClassifier to fit the data\n",
      "\n",
      "rf_model = RandomForestClassifier()\n",
      "rf_model.fit(x_train, y_train)\n",
      "\n",
      "# Print out the score\n",
      "\n",
      "print cross_val_score(rf_model, x_train, y_train).mean()"
     ],
     "language": "python",
     "metadata": {},
     "outputs": [
      {
       "output_type": "stream",
       "stream": "stdout",
       "text": [
        "0.908710167672\n"
       ]
      }
     ],
     "prompt_number": 13
    },
    {
     "cell_type": "markdown",
     "metadata": {},
     "source": [
      "* Find the best parameters by computing their learning curve (feel free to verify this with grid search)\n"
     ]
    },
    {
     "cell_type": "code",
     "collapsed": false,
     "input": [
      "# Use the plotting functionality that was created\n",
      "\n",
      "%matplotlib inline\n",
      "import numpy as np\n",
      "import matplotlib.pyplot as plt\n",
      "from sklearn.learning_curve import learning_curve\n",
      "\n",
      "def plot_learning_curve(estimator, title, x, y, ylim=None, cv=None,\n",
      "                        n_jobs=1, train_sizes=np.linspace(.1, 1.0, 5)):\n",
      "    \"\"\"\n",
      "    Generate a simple plot of the test and traning learning curve.\n",
      "\n",
      "    Parameters\n",
      "    ----------\n",
      "    estimator : object type that implements the \"fit\" and \"predict\" methods\n",
      "        An object of that type which is cloned for each validation.\n",
      "\n",
      "    title : string\n",
      "        Title for the chart.\n",
      "\n",
      "    X : array-like, shape (n_samples, n_features)\n",
      "        Training vector, where n_samples is the number of samples and\n",
      "        n_features is the number of features.\n",
      "\n",
      "    y : array-like, shape (n_samples) or (n_samples, n_features), optional\n",
      "        Target relative to X for classification or regression;\n",
      "        None for unsupervised learning.\n",
      "\n",
      "    ylim : tuple, shape (ymin, ymax), optional\n",
      "        Defines minimum and maximum yvalues plotted.\n",
      "\n",
      "    cv : integer, cross-validation generator, optional\n",
      "        If an integer is passed, it is the number of folds (defaults to 3).\n",
      "        Specific cross-validation objects can be passed, see\n",
      "        sklearn.cross_validation module for the list of possible objects\n",
      "\n",
      "    n_jobs : integer, optional\n",
      "        Number of jobs to run in parallel (default 1).\n",
      "    \"\"\"\n",
      "    plt.figure()\n",
      "    plt.title(title)\n",
      "    if ylim is not None:\n",
      "        plt.ylim(*ylim)\n",
      "    plt.xlabel(\"Training examples\")\n",
      "    plt.ylabel(\"Score\")\n",
      "    train_sizes, train_scores, test_scores = learning_curve(\n",
      "        estimator, x, y, cv=cv, n_jobs=n_jobs, train_sizes=train_sizes)\n",
      "    train_scores_mean = np.mean(train_scores, axis=1)\n",
      "    train_scores_std = np.std(train_scores, axis=1)\n",
      "    test_scores_mean = np.mean(test_scores, axis=1)\n",
      "    test_scores_std = np.std(test_scores, axis=1)\n",
      "    plt.grid()\n",
      "\n",
      "    plt.fill_between(train_sizes, train_scores_mean - train_scores_std,\n",
      "                     train_scores_mean + train_scores_std, alpha=0.1,\n",
      "                     color=\"r\")\n",
      "    plt.fill_between(train_sizes, test_scores_mean - test_scores_std,\n",
      "                     test_scores_mean + test_scores_std, alpha=0.1, color=\"g\")\n",
      "    plt.plot(train_sizes, train_scores_mean, 'o-', color=\"r\",\n",
      "             label=\"Training score\")\n",
      "    plt.plot(train_sizes, test_scores_mean, 'o-', color=\"g\",\n",
      "             label=\"Cross-validation score\")\n",
      "\n",
      "    plt.legend(loc=\"best\")\n",
      "    return plt"
     ],
     "language": "python",
     "metadata": {},
     "outputs": [],
     "prompt_number": 14
    },
    {
     "cell_type": "code",
     "collapsed": false,
     "input": [
      "# Plot the learning curve using the training data\n",
      "\n",
      "_ = plot_learning_curve(KNeighborsClassifier(n_neighbors=100), 'test', x_train, y_train)"
     ],
     "language": "python",
     "metadata": {},
     "outputs": [
      {
       "metadata": {},
       "output_type": "display_data",
       "png": "[encoded data removed]",
       "text": [
        "<matplotlib.figure.Figure at 0x100633f50>"
       ]
      }
     ],
     "prompt_number": 14
    },
    {
     "cell_type": "code",
     "collapsed": false,
     "input": [
      "# Plot the learning curve using the training data\n",
      "\n",
      "_ = plot_learning_curve(RandomForestClassifier(n_estimators=100), 'test', x_train, y_train)"
     ],
     "language": "python",
     "metadata": {},
     "outputs": [
      {
       "metadata": {},
       "output_type": "display_data",
       "png": "[encoded data removed]",
       "text": [
        "<matplotlib.figure.Figure at 0x10b06e590>"
       ]
      }
     ],
     "prompt_number": 15
    },
    {
     "cell_type": "code",
     "collapsed": false,
     "input": [
      "# Import GridSearchCV from scikit-learn\n",
      "\n",
      "from sklearn.grid_search import GridSearchCV\n",
      "\n",
      "# Establish the search space for parameters of n_estimators\n",
      "\n",
      "param = {'n_neighbors':range(1,100)}\n",
      "\n",
      "# Set up the grid search\n",
      "\n",
      "gs = GridSearchCV(KNeighborsClassifier(),param)\n",
      "\n",
      "# Run the grid search on our model\n",
      "\n",
      "gs.fit(x_train, y_train)"
     ],
     "language": "python",
     "metadata": {},
     "outputs": [
      {
       "metadata": {},
       "output_type": "pyout",
       "prompt_number": 25,
       "text": [
        "GridSearchCV(cv=None,\n",
        "       estimator=KNeighborsClassifier(algorithm='auto', leaf_size=30, metric='minkowski',\n",
        "           metric_params=None, n_neighbors=5, p=2, weights='uniform'),\n",
        "       fit_params={}, iid=True, loss_func=None, n_jobs=1,\n",
        "       param_grid={'n_neighbors': [1, 2, 3, 4, 5, 6, 7, 8, 9, 10, 11, 12, 13, 14, 15, 16, 17, 18, 19, 20, 21, 22, 23, 24, 25, 26, 27, 28, 29, 30, 31, 32, 33, 34, 35, 36, 37, 38, 39, 40, 41, 42, 43, 44, 45, 46, 47, 48, 49, 50, 51, 52, 53, 54, 55, 56, 57, 58, 59, 60, 61, 62, 63, 64, 65, 66, 67, 68, 69, 70, 71, 72, 73, 74, 75, 76, 77, 78, 79, 80, 81, 82, 83, 84, 85, 86, 87, 88, 89, 90, 91, 92, 93, 94, 95, 96, 97, 98, 99]},\n",
        "       pre_dispatch='2*n_jobs', refit=True, score_func=None, scoring=None,\n",
        "       verbose=0)"
       ]
      }
     ],
     "prompt_number": 25
    },
    {
     "cell_type": "code",
     "collapsed": false,
     "input": [
      "# Display the parameters and score for the best fitting model\n",
      "\n",
      "gs.best_params_,gs.best_score_"
     ],
     "language": "python",
     "metadata": {},
     "outputs": [
      {
       "metadata": {},
       "output_type": "pyout",
       "prompt_number": 26,
       "text": [
        "({'n_neighbors': 99}, 0.91050075872534142)"
       ]
      }
     ],
     "prompt_number": 26
    },
    {
     "cell_type": "code",
     "collapsed": false,
     "input": [
      "# GridSearch suggests that the cross validation score is best when we use 99 neighbors\n",
      "# In essence, the cross validation score continues to go up with the number of neighbors"
     ],
     "language": "python",
     "metadata": {},
     "outputs": []
    },
    {
     "cell_type": "code",
     "collapsed": false,
     "input": [
      "# Import GridSearchCV from scikit-learn\n",
      "\n",
      "from sklearn.grid_search import GridSearchCV\n",
      "\n",
      "# Establish the search space for parameters of n_estimators\n",
      "\n",
      "param = {'n_estimators':range(1,100)}\n",
      "\n",
      "# Set up the grid search\n",
      "\n",
      "gs = GridSearchCV(RandomForestClassifier(),param)\n",
      "\n",
      "# Run the grid search on our model\n",
      "\n",
      "gs.fit(x_train, y_train)"
     ],
     "language": "python",
     "metadata": {},
     "outputs": [
      {
       "metadata": {},
       "output_type": "pyout",
       "prompt_number": 16,
       "text": [
        "GridSearchCV(cv=None,\n",
        "       estimator=RandomForestClassifier(bootstrap=True, compute_importances=None,\n",
        "            criterion='gini', max_depth=None, max_features='auto',\n",
        "            max_leaf_nodes=None, min_density=None, min_samples_leaf=1,\n",
        "            min_samples_split=2, n_estimators=10, n_jobs=1,\n",
        "            oob_score=False, random_state=None, verbose=0),\n",
        "       fit_params={}, iid=True, loss_func=None, n_jobs=1,\n",
        "       param_grid={'n_estimators': [1, 2, 3, 4, 5, 6, 7, 8, 9, 10, 11, 12, 13, 14, 15, 16, 17, 18, 19, 20, 21, 22, 23, 24, 25, 26, 27, 28, 29, 30, 31, 32, 33, 34, 35, 36, 37, 38, 39, 40, 41, 42, 43, 44, 45, 46, 47, 48, 49, 50, 51, 52, 53, 54, 55, 56, 57, 58, 59, 60, 61, 62, 63, 64, 65, 66, 67, 68, 69, 70, 71, 72, 73, 74, 75, 76, 77, 78, 79, 80, 81, 82, 83, 84, 85, 86, 87, 88, 89, 90, 91, 92, 93, 94, 95, 96, 97, 98, 99]},\n",
        "       pre_dispatch='2*n_jobs', refit=True, score_func=None, scoring=None,\n",
        "       verbose=0)"
       ]
      }
     ],
     "prompt_number": 16
    },
    {
     "cell_type": "code",
     "collapsed": false,
     "input": [
      "# Display the parameters and score for the best fitting model\n",
      "\n",
      "gs.best_params_,gs.best_score_"
     ],
     "language": "python",
     "metadata": {},
     "outputs": [
      {
       "metadata": {},
       "output_type": "pyout",
       "prompt_number": 17,
       "text": [
        "({'n_estimators': 66}, 0.91344461305007585)"
       ]
      }
     ],
     "prompt_number": 17
    },
    {
     "cell_type": "code",
     "collapsed": false,
     "input": [
      "# GridSearch suggests that the cross validation score is best when we use 66 estimators\n",
      "# As we saw in the graph, there is a certain point when the score starts to decline"
     ],
     "language": "python",
     "metadata": {},
     "outputs": [],
     "prompt_number": 18
    },
    {
     "cell_type": "markdown",
     "metadata": {},
     "source": [
      "* Create a clasification report\n"
     ]
    },
    {
     "cell_type": "code",
     "collapsed": false,
     "input": [
      "# Import the metrics package from scikit-learn\n",
      "\n",
      "from sklearn import metrics"
     ],
     "language": "python",
     "metadata": {},
     "outputs": [],
     "prompt_number": 27
    },
    {
     "cell_type": "code",
     "collapsed": false,
     "input": [
      "# Use the model to predict test data from KNeighborsClassifier\n",
      "\n",
      "kn_model = KNeighborsClassifier(n_neighbors=99)\n",
      "kn_model.fit(x_train, y_train)\n",
      "y_pred = kn_model.predict(x_test)\n",
      "\n",
      "# Run the classification report\n",
      "\n",
      "print metrics.classification_report(y_test, y_pred)"
     ],
     "language": "python",
     "metadata": {},
     "outputs": [
      {
       "output_type": "stream",
       "stream": "stdout",
       "text": [
        "             precision    recall  f1-score   support\n",
        "\n",
        "          0       0.94      0.97      0.95      7291\n",
        "          1       0.69      0.50      0.58       947\n",
        "\n",
        "avg / total       0.91      0.92      0.91      8238\n",
        "\n"
       ]
      }
     ],
     "prompt_number": 29
    },
    {
     "cell_type": "code",
     "collapsed": false,
     "input": [
      "# Print out the accuracy, precision, recall, etc.\n",
      "\n",
      "print \"accuracy:\", metrics.accuracy_score(y_test, y_pred)\n",
      "print \"precision:\", metrics.precision_score(y_test, y_pred)\n",
      "print \"recall:\", metrics.recall_score(y_test, y_pred)\n",
      "print \"f1 score:\", metrics.f1_score(y_test, y_pred)"
     ],
     "language": "python",
     "metadata": {},
     "outputs": [
      {
       "output_type": "stream",
       "stream": "stdout",
       "text": [
        "accuracy: 0.916605972323\n",
        "precision: 0.687319884726\n",
        "recall: 0.503695881732\n",
        "f1 score: 0.581352833638\n"
       ]
      }
     ],
     "prompt_number": 30
    },
    {
     "cell_type": "code",
     "collapsed": false,
     "input": [
      "# The accuracy of the model is 0.917 while the precision is 0.687 and the recall is 0.50\n",
      "# This suggests that the model is better at making any decision (positives + negatives)\n",
      "# than it is at correctly identifying the true positives"
     ],
     "language": "python",
     "metadata": {},
     "outputs": [],
     "prompt_number": 31
    },
    {
     "cell_type": "code",
     "collapsed": false,
     "input": [
      "# Use the model to predict test data from RandomForestClassifier\n",
      "\n",
      "rf_model = RandomForestClassifier(n_estimators=66)\n",
      "rf_model.fit(x_train, y_train)\n",
      "y_pred = rf_model.predict(x_test)\n",
      "\n",
      "# Run the classification report\n",
      "\n",
      "print metrics.classification_report(y_test, y_pred)"
     ],
     "language": "python",
     "metadata": {},
     "outputs": [
      {
       "output_type": "stream",
       "stream": "stdout",
       "text": [
        "             precision    recall  f1-score   support\n",
        "\n",
        "          0       0.94      0.97      0.95      7291\n",
        "          1       0.67      0.51      0.58       947\n",
        "\n",
        "avg / total       0.91      0.92      0.91      8238\n",
        "\n"
       ]
      }
     ],
     "prompt_number": 35
    },
    {
     "cell_type": "code",
     "collapsed": false,
     "input": [
      "# Print out the accuracy, precision, recall, etc.\n",
      "\n",
      "print \"accuracy:\", metrics.accuracy_score(y_test, y_pred)\n",
      "print \"precision:\", metrics.precision_score(y_test, y_pred)\n",
      "print \"recall:\", metrics.recall_score(y_test, y_pred)\n",
      "print \"f1 score:\", metrics.f1_score(y_test, y_pred)"
     ],
     "language": "python",
     "metadata": {},
     "outputs": [
      {
       "output_type": "stream",
       "stream": "stdout",
       "text": [
        "accuracy: 0.915392085458\n",
        "precision: 0.673130193906\n",
        "recall: 0.513199577614\n",
        "f1 score: 0.582384661474\n"
       ]
      }
     ],
     "prompt_number": 36
    },
    {
     "cell_type": "code",
     "collapsed": false,
     "input": [
      "# The accuracy of the Random Forest model is 0.915 while the precision is 0.67 and the recall is 0.51\n",
      "# As with the previou"
     ],
     "language": "python",
     "metadata": {},
     "outputs": [],
     "prompt_number": 37
    },
    {
     "cell_type": "markdown",
     "metadata": {},
     "source": [
      "* Inspect your models, what features are most important? How might you use this information to improve model precision?\n"
     ]
    },
    {
     "cell_type": "code",
     "collapsed": false,
     "input": [
      "# This prints the top 10 most important features with the RandomForestClassifier\n",
      "\n",
      "rf_model.fit(x_train, y_train)\n",
      "sorted(zip(rf_model.feature_importances_, cols), reverse=True)[:20]"
     ],
     "language": "python",
     "metadata": {},
     "outputs": [
      {
       "metadata": {},
       "output_type": "pyout",
       "prompt_number": 39,
       "text": [
        "[(0.31480692275604805, 'duration'),\n",
        " (0.11671819170506352, 'euribor3m'),\n",
        " (0.094509101198103518, 'age'),\n",
        " (0.056529222881454975, 'nr.employed'),\n",
        " (0.049538953973526895, 'job'),\n",
        " (0.042635676362556552, 'campaign'),\n",
        " (0.042268000385460552, 'education'),\n",
        " (0.041157363648545775, 'day_of_week'),\n",
        " (0.039173572852304744, 'pdays'),\n",
        " (0.030646804283503807, 'cons.conf.idx'),\n",
        " (0.024313780711928069, 'marital'),\n",
        " (0.021959887146177408, 'emp.var.rate'),\n",
        " (0.020990417430912321, 'poutcome'),\n",
        " (0.020474405841071915, 'housing'),\n",
        " (0.019314368089308701, 'cons.price.idx'),\n",
        " (0.018605753488851854, 'month'),\n",
        " (0.015082844277081646, 'loan'),\n",
        " (0.014058031697684964, 'previous'),\n",
        " (0.0090490495436050672, 'contact'),\n",
        " (0.008167651726809692, 'default')]"
       ]
      }
     ],
     "prompt_number": 39
    },
    {
     "cell_type": "code",
     "collapsed": false,
     "input": [
      "# The most important features are listed above but the top-5 are significantly better predictors than the rest:\n",
      "# duration\n",
      "# euribor3m\n",
      "# age\n",
      "# nr.employed\n",
      "# job\n",
      "# Knowing this, it would be possible to improve model precision by weighting these features more heavily\n",
      "# while ignoring the less predictive features."
     ],
     "language": "python",
     "metadata": {},
     "outputs": []
    }
   ],
   "metadata": {}
  }
 ]
}