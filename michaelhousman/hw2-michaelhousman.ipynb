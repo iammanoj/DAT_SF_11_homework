{
 "metadata": {
  "name": "",
  "signature": "sha256:d3a87e8fd1e3ce44c50e173f4f9eefa18a86d91db03db29926a65e9ef1bcf27b"
 },
 "nbformat": 3,
 "nbformat_minor": 0,
 "worksheets": [
  {
   "cells": [
    {
     "cell_type": "markdown",
     "metadata": {},
     "source": [
      "##Homework 2:\n",
      "###For Homework 2, Build models to predict credit card approval using dataset http://archive.ics.uci.edu/ml/datasets/Credit+Approval"
     ]
    },
    {
     "cell_type": "code",
     "collapsed": false,
     "input": [
      "# Standard imports for data analysis packages in Python\n",
      "import pandas as pd\n",
      "import numpy as np\n",
      "import seaborn as sns\n",
      "import matplotlib.pyplot as plt\n",
      "\n",
      "# This enables inline Plots\n",
      "%matplotlib inline\n",
      "\n",
      "# Limit the rows displayed in dataframe by inserting this line along with your imports.\n",
      "pd.set_option('display.max_rows', 10)"
     ],
     "language": "python",
     "metadata": {},
     "outputs": [],
     "prompt_number": 2
    },
    {
     "cell_type": "markdown",
     "metadata": {},
     "source": [
      "##Part 1 - Data exploration\n",
      "###First, create 2 data frames: `listings` and `bookings` from their respective data files"
     ]
    },
    {
     "cell_type": "code",
     "collapsed": false,
     "input": [
      "# Create a data frame from the listings dataset\n",
      "\n",
      "crx_data = pd.read_csv('../hw2/CRX_Data.csv', header=None)"
     ],
     "language": "python",
     "metadata": {},
     "outputs": [],
     "prompt_number": 3
    },
    {
     "cell_type": "code",
     "collapsed": false,
     "input": [
      "# Replace the field names\n",
      "\n",
      "crx_data.rename(columns={0: 'A1', 1: 'A2', 2: 'A3', 3: 'A4', 4: 'A5', 5: 'A6', 6: 'A7', 7: 'A8', 8: 'A9', 9: 'A10', 10: 'A11', 11: 'A12', 12: 'A13', 13: 'A14', 14: 'A15', 15: 'A16'}, inplace=True)"
     ],
     "language": "python",
     "metadata": {},
     "outputs": [],
     "prompt_number": 4
    },
    {
     "cell_type": "code",
     "collapsed": false,
     "input": [
      "# Check the header of the file\n",
      "\n",
      "crx_data.head(5)"
     ],
     "language": "python",
     "metadata": {},
     "outputs": [
      {
       "html": [
        "<div style=\"max-height:1000px;max-width:1500px;overflow:auto;\">\n",
        "<table border=\"1\" class=\"dataframe\">\n",
        "  <thead>\n",
        "    <tr style=\"text-align: right;\">\n",
        "      <th></th>\n",
        "      <th>A1</th>\n",
        "      <th>A2</th>\n",
        "      <th>A3</th>\n",
        "      <th>A4</th>\n",
        "      <th>A5</th>\n",
        "      <th>A6</th>\n",
        "      <th>A7</th>\n",
        "      <th>A8</th>\n",
        "      <th>A9</th>\n",
        "      <th>A10</th>\n",
        "      <th>A11</th>\n",
        "      <th>A12</th>\n",
        "      <th>A13</th>\n",
        "      <th>A14</th>\n",
        "      <th>A15</th>\n",
        "      <th>A16</th>\n",
        "    </tr>\n",
        "  </thead>\n",
        "  <tbody>\n",
        "    <tr>\n",
        "      <th>0</th>\n",
        "      <td> b</td>\n",
        "      <td> 30.83</td>\n",
        "      <td> 0.000</td>\n",
        "      <td> u</td>\n",
        "      <td> g</td>\n",
        "      <td> w</td>\n",
        "      <td> v</td>\n",
        "      <td> 1.25</td>\n",
        "      <td> t</td>\n",
        "      <td> t</td>\n",
        "      <td> 1</td>\n",
        "      <td> f</td>\n",
        "      <td> g</td>\n",
        "      <td> 202</td>\n",
        "      <td>   0</td>\n",
        "      <td> +</td>\n",
        "    </tr>\n",
        "    <tr>\n",
        "      <th>1</th>\n",
        "      <td> a</td>\n",
        "      <td> 58.67</td>\n",
        "      <td> 4.460</td>\n",
        "      <td> u</td>\n",
        "      <td> g</td>\n",
        "      <td> q</td>\n",
        "      <td> h</td>\n",
        "      <td> 3.04</td>\n",
        "      <td> t</td>\n",
        "      <td> t</td>\n",
        "      <td> 6</td>\n",
        "      <td> f</td>\n",
        "      <td> g</td>\n",
        "      <td>  43</td>\n",
        "      <td> 560</td>\n",
        "      <td> +</td>\n",
        "    </tr>\n",
        "    <tr>\n",
        "      <th>2</th>\n",
        "      <td> a</td>\n",
        "      <td>  24.5</td>\n",
        "      <td> 0.500</td>\n",
        "      <td> u</td>\n",
        "      <td> g</td>\n",
        "      <td> q</td>\n",
        "      <td> h</td>\n",
        "      <td> 1.50</td>\n",
        "      <td> t</td>\n",
        "      <td> f</td>\n",
        "      <td> 0</td>\n",
        "      <td> f</td>\n",
        "      <td> g</td>\n",
        "      <td> 280</td>\n",
        "      <td> 824</td>\n",
        "      <td> +</td>\n",
        "    </tr>\n",
        "    <tr>\n",
        "      <th>3</th>\n",
        "      <td> b</td>\n",
        "      <td> 27.83</td>\n",
        "      <td> 1.540</td>\n",
        "      <td> u</td>\n",
        "      <td> g</td>\n",
        "      <td> w</td>\n",
        "      <td> v</td>\n",
        "      <td> 3.75</td>\n",
        "      <td> t</td>\n",
        "      <td> t</td>\n",
        "      <td> 5</td>\n",
        "      <td> t</td>\n",
        "      <td> g</td>\n",
        "      <td> 100</td>\n",
        "      <td>   3</td>\n",
        "      <td> +</td>\n",
        "    </tr>\n",
        "    <tr>\n",
        "      <th>4</th>\n",
        "      <td> b</td>\n",
        "      <td> 20.17</td>\n",
        "      <td> 5.625</td>\n",
        "      <td> u</td>\n",
        "      <td> g</td>\n",
        "      <td> w</td>\n",
        "      <td> v</td>\n",
        "      <td> 1.71</td>\n",
        "      <td> t</td>\n",
        "      <td> f</td>\n",
        "      <td> 0</td>\n",
        "      <td> f</td>\n",
        "      <td> s</td>\n",
        "      <td> 120</td>\n",
        "      <td>   0</td>\n",
        "      <td> +</td>\n",
        "    </tr>\n",
        "  </tbody>\n",
        "</table>\n",
        "</div>"
       ],
       "metadata": {},
       "output_type": "pyout",
       "prompt_number": 5,
       "text": [
        "  A1     A2     A3 A4 A5 A6 A7    A8 A9 A10  A11 A12 A13  A14  A15 A16\n",
        "0  b  30.83  0.000  u  g  w  v  1.25  t   t    1   f   g  202    0   +\n",
        "1  a  58.67  4.460  u  g  q  h  3.04  t   t    6   f   g   43  560   +\n",
        "2  a   24.5  0.500  u  g  q  h  1.50  t   f    0   f   g  280  824   +\n",
        "3  b  27.83  1.540  u  g  w  v  3.75  t   t    5   t   g  100    3   +\n",
        "4  b  20.17  5.625  u  g  w  v  1.71  t   f    0   f   s  120    0   +"
       ]
      }
     ],
     "prompt_number": 5
    },
    {
     "cell_type": "markdown",
     "metadata": {},
     "source": [
      "##You may need to do the following -\n",
      "###1. Impute missing data"
     ]
    },
    {
     "cell_type": "code",
     "collapsed": false,
     "input": [
      "# Check for missing values\n",
      "\n",
      "crx_data.info()"
     ],
     "language": "python",
     "metadata": {},
     "outputs": [
      {
       "output_type": "stream",
       "stream": "stdout",
       "text": [
        "<class 'pandas.core.frame.DataFrame'>\n",
        "Int64Index: 690 entries, 0 to 689\n",
        "Data columns (total 16 columns):\n",
        "A1     690 non-null object\n",
        "A2     690 non-null object\n",
        "A3     690 non-null float64\n",
        "A4     690 non-null object\n",
        "A5     690 non-null object\n",
        "A6     690 non-null object\n",
        "A7     690 non-null object\n",
        "A8     690 non-null float64\n",
        "A9     690 non-null object\n",
        "A10    690 non-null object\n",
        "A11    690 non-null int64\n",
        "A12    690 non-null object\n",
        "A13    690 non-null object\n",
        "A14    690 non-null object\n",
        "A15    690 non-null int64\n",
        "A16    690 non-null object\n",
        "dtypes: float64(2), int64(2), object(12)\n",
        "memory usage: 91.6+ KB\n"
       ]
      }
     ],
     "prompt_number": 6
    },
    {
     "cell_type": "code",
     "collapsed": false,
     "input": [
      "# Remove NaN values and convert A2 and A14 to continuous variables\n",
      "\n",
      "crx_data.A2.replace('?', np.nan, inplace = True)\n",
      "crx_data.A2 = crx_data.A2.astype(float)\n",
      "\n",
      "crx_data.A14.replace('?', np.nan, inplace = True)\n",
      "crx_data.A14 = crx_data.A14.astype(float)"
     ],
     "language": "python",
     "metadata": {},
     "outputs": [],
     "prompt_number": 7
    },
    {
     "cell_type": "code",
     "collapsed": false,
     "input": [
      "# Run some descriptive statistics on numeric variables\n",
      "\n",
      "crx_data.describe()"
     ],
     "language": "python",
     "metadata": {},
     "outputs": [
      {
       "html": [
        "<div style=\"max-height:1000px;max-width:1500px;overflow:auto;\">\n",
        "<table border=\"1\" class=\"dataframe\">\n",
        "  <thead>\n",
        "    <tr style=\"text-align: right;\">\n",
        "      <th></th>\n",
        "      <th>A2</th>\n",
        "      <th>A3</th>\n",
        "      <th>A8</th>\n",
        "      <th>A11</th>\n",
        "      <th>A14</th>\n",
        "      <th>A15</th>\n",
        "    </tr>\n",
        "  </thead>\n",
        "  <tbody>\n",
        "    <tr>\n",
        "      <th>count</th>\n",
        "      <td> 678.000000</td>\n",
        "      <td> 690.000000</td>\n",
        "      <td> 690.000000</td>\n",
        "      <td> 690.00000</td>\n",
        "      <td>  677.000000</td>\n",
        "      <td>    690.000000</td>\n",
        "    </tr>\n",
        "    <tr>\n",
        "      <th>mean</th>\n",
        "      <td>  31.568171</td>\n",
        "      <td>   4.758725</td>\n",
        "      <td>   2.223406</td>\n",
        "      <td>   2.40000</td>\n",
        "      <td>  184.014771</td>\n",
        "      <td>   1017.385507</td>\n",
        "    </tr>\n",
        "    <tr>\n",
        "      <th>std</th>\n",
        "      <td>  11.957862</td>\n",
        "      <td>   4.978163</td>\n",
        "      <td>   3.346513</td>\n",
        "      <td>   4.86294</td>\n",
        "      <td>  173.806768</td>\n",
        "      <td>   5210.102598</td>\n",
        "    </tr>\n",
        "    <tr>\n",
        "      <th>min</th>\n",
        "      <td>  13.750000</td>\n",
        "      <td>   0.000000</td>\n",
        "      <td>   0.000000</td>\n",
        "      <td>   0.00000</td>\n",
        "      <td>    0.000000</td>\n",
        "      <td>      0.000000</td>\n",
        "    </tr>\n",
        "    <tr>\n",
        "      <th>25%</th>\n",
        "      <td>  22.602500</td>\n",
        "      <td>   1.000000</td>\n",
        "      <td>   0.165000</td>\n",
        "      <td>   0.00000</td>\n",
        "      <td>   75.000000</td>\n",
        "      <td>      0.000000</td>\n",
        "    </tr>\n",
        "    <tr>\n",
        "      <th>50%</th>\n",
        "      <td>  28.460000</td>\n",
        "      <td>   2.750000</td>\n",
        "      <td>   1.000000</td>\n",
        "      <td>   0.00000</td>\n",
        "      <td>  160.000000</td>\n",
        "      <td>      5.000000</td>\n",
        "    </tr>\n",
        "    <tr>\n",
        "      <th>75%</th>\n",
        "      <td>  38.230000</td>\n",
        "      <td>   7.207500</td>\n",
        "      <td>   2.625000</td>\n",
        "      <td>   3.00000</td>\n",
        "      <td>  276.000000</td>\n",
        "      <td>    395.500000</td>\n",
        "    </tr>\n",
        "    <tr>\n",
        "      <th>max</th>\n",
        "      <td>  80.250000</td>\n",
        "      <td>  28.000000</td>\n",
        "      <td>  28.500000</td>\n",
        "      <td>  67.00000</td>\n",
        "      <td> 2000.000000</td>\n",
        "      <td> 100000.000000</td>\n",
        "    </tr>\n",
        "  </tbody>\n",
        "</table>\n",
        "</div>"
       ],
       "metadata": {},
       "output_type": "pyout",
       "prompt_number": 8,
       "text": [
        "               A2          A3          A8        A11          A14  \\\n",
        "count  678.000000  690.000000  690.000000  690.00000   677.000000   \n",
        "mean    31.568171    4.758725    2.223406    2.40000   184.014771   \n",
        "std     11.957862    4.978163    3.346513    4.86294   173.806768   \n",
        "min     13.750000    0.000000    0.000000    0.00000     0.000000   \n",
        "25%     22.602500    1.000000    0.165000    0.00000    75.000000   \n",
        "50%     28.460000    2.750000    1.000000    0.00000   160.000000   \n",
        "75%     38.230000    7.207500    2.625000    3.00000   276.000000   \n",
        "max     80.250000   28.000000   28.500000   67.00000  2000.000000   \n",
        "\n",
        "                 A15  \n",
        "count     690.000000  \n",
        "mean     1017.385507  \n",
        "std      5210.102598  \n",
        "min         0.000000  \n",
        "25%         0.000000  \n",
        "50%         5.000000  \n",
        "75%       395.500000  \n",
        "max    100000.000000  "
       ]
      }
     ],
     "prompt_number": 8
    },
    {
     "cell_type": "code",
     "collapsed": false,
     "input": [
      "# Impute values for A1\n",
      "# Replace '?' with NaN\n",
      "\n",
      "crx_data.A1.replace('?', np.nan, inplace = True)\n",
      "\n",
      "# Get the distribution of values for A1\n",
      "\n",
      "crx_data.A1.value_counts()\n",
      "\n",
      "# Create a function that randomly assigns these values\n",
      "\n",
      "a1 = ['b', 'a']\n",
      "p = [0.69, 0.31]\n",
      "\n",
      "def get_a1_impute_values(n):\n",
      "    return np.random.choice(a1, n, p)\n",
      "\n",
      "# Get the NULL values for A1\n",
      "\n",
      "crx_data.loc[crx_data.A1.isnull(), 'A1']\n",
      "\n",
      "# Set these values to the values we picked from Random Normal Distribution\n",
      "\n",
      "crx_data.loc[crx_data.A1.isnull(), 'A1'] = get_a1_impute_values(n=12)"
     ],
     "language": "python",
     "metadata": {},
     "outputs": [],
     "prompt_number": 9
    },
    {
     "cell_type": "code",
     "collapsed": false,
     "input": [
      "# Impute values for A2\n",
      "# View the values for A2\n",
      "\n",
      "crx_data.A2.value_counts()\n",
      "\n",
      "# Get the Mean and Std of A2 Data\n",
      "\n",
      "print 'Mean A2:', crx_data.A2.mean()\n",
      "print 'Std A2:', crx_data.A2.std()\n",
      "\n",
      "# Create a Normal Distribution centered on Mean of 31.57 and Standard Dev of 11.96\n",
      "\n",
      "def get_a2_impute_values(n):\n",
      "    return np.random.normal(31.57, 11.96, n)\n",
      "\n",
      "# Get the NULL values for A2\n",
      "\n",
      "crx_data.loc[crx_data.A2.isnull(), 'A2']\n",
      "\n",
      "# Set these values to the values we picked from Random Normal Distribution\n",
      "\n",
      "crx_data.loc[crx_data.A2.isnull(), 'A2'] = get_a2_impute_values(n=12)"
     ],
     "language": "python",
     "metadata": {},
     "outputs": [
      {
       "output_type": "stream",
       "stream": "stdout",
       "text": [
        "Mean A2: 31.5681710914\n",
        "Std A2: 11.9578624983\n"
       ]
      }
     ],
     "prompt_number": 10
    },
    {
     "cell_type": "code",
     "collapsed": false,
     "input": [
      "# Impute values for A4\n",
      "# Replace '?' with NaN\n",
      "\n",
      "crx_data.A4.replace('?', np.nan, inplace = True)\n",
      "\n",
      "# Get the distribution of values for A4\n",
      "\n",
      "crx_data.A4.value_counts()\n",
      "\n",
      "# Create a function that randomly assigns these values\n",
      "\n",
      "a4 = ['u', 'y', 'l']\n",
      "p = [0.76, 0.24, 0.]\n",
      "\n",
      "def get_a4_impute_values(n):\n",
      "    return np.random.choice(a4, n, p)\n",
      "\n",
      "# Get the NaN values for A4\n",
      "\n",
      "crx_data.loc[crx_data.A4.isnull(), 'A4']\n",
      "\n",
      "# Set these values to the values we picked from Random Normal Distribution\n",
      "\n",
      "crx_data.loc[crx_data.A4.isnull(), 'A4'] = get_a4_impute_values(n=6)"
     ],
     "language": "python",
     "metadata": {},
     "outputs": [],
     "prompt_number": 11
    },
    {
     "cell_type": "code",
     "collapsed": false,
     "input": [
      "# Impute values for A5\n",
      "# Replace '?' with NaN\n",
      "\n",
      "crx_data.A5.replace('?', np.nan, inplace = True)\n",
      "\n",
      "# Get the distribution of values for A1\n",
      "\n",
      "crx_data.A5.value_counts()\n",
      "\n",
      "# Create a function that randomly assigns these values\n",
      "\n",
      "a5 = ['g', 'p', 'gg']\n",
      "p = [0.76, 0.24, 0.00]\n",
      "\n",
      "def get_a5_impute_values(n):\n",
      "    return np.random.choice(a5, n, p)\n",
      "\n",
      "# Get the NaN values for A5\n",
      "\n",
      "crx_data.loc[crx_data.A5.isnull(), 'A5']\n",
      "\n",
      "# Set these values to the values we picked from Random Normal Distribution\n",
      "\n",
      "crx_data.loc[crx_data.A5.isnull(), 'A5'] = get_a1_impute_values(n=6)"
     ],
     "language": "python",
     "metadata": {},
     "outputs": [],
     "prompt_number": 12
    },
    {
     "cell_type": "code",
     "collapsed": false,
     "input": [
      "# Impute values for A6\n",
      "# Replace '?' with NaN\n",
      "\n",
      "crx_data.A6.replace('?', np.nan, inplace = True)\n",
      "\n",
      "# Get the distribution of values for A1\n",
      "\n",
      "crx_data.A6.value_counts()\n",
      "\n",
      "# Create a function that randomly assigns these values\n",
      "\n",
      "a6 = ['aa', 'c', 'cc', 'd', 'e', 'ff', 'i', 'j', 'k', 'm', 'q', 'r', 'w', 'x']\n",
      "p = [0.08, 0.20, 0.06, 0.04, 0.04, 0.08, 0.09, 0.01, 0.07, 0.06, 0.11, 0.00, 0.09, 0,06]\n",
      "\n",
      "def get_a6_impute_values(n):\n",
      "    return np.random.choice(a6, n, p)\n",
      "\n",
      "# Get the NaN values for A6\n",
      "\n",
      "crx_data.loc[crx_data.A6.isnull(), 'A6']\n",
      "\n",
      "# Set these values to the values we picked from Random Normal Distribution\n",
      "\n",
      "crx_data.loc[crx_data.A6.isnull(), 'A6'] = get_a6_impute_values(n=9)"
     ],
     "language": "python",
     "metadata": {},
     "outputs": [],
     "prompt_number": 13
    },
    {
     "cell_type": "code",
     "collapsed": false,
     "input": [
      "# Impute values for A7\n",
      "# Replace '?' with NaN\n",
      "\n",
      "crx_data.A7.replace('?', np.nan, inplace = True)\n",
      "\n",
      "# Get the distribution of values for A7\n",
      "\n",
      "crx_data.A7.value_counts()\n",
      "\n",
      "# Create a function that randomly assigns these values\n",
      "\n",
      "a7 = ['v', 'h', 'bb', 'ff', 'z', 'j', 'dd', 'n', 'o']\n",
      "p = [0.59, 0.20, 0.09, 0.08, 0.01, 0.01, 0.01, 0.01, 0.00]\n",
      "\n",
      "def get_a7_impute_values(n):\n",
      "    return np.random.choice(a7, n, p)\n",
      "\n",
      "# Get the NaN values for A7\n",
      "\n",
      "crx_data.loc[crx_data.A7.isnull(), 'A7']\n",
      "\n",
      "# Set these values to the values we picked from Random Normal Distribution\n",
      "\n",
      "crx_data.loc[crx_data.A7.isnull(), 'A7'] = get_a7_impute_values(n=9)"
     ],
     "language": "python",
     "metadata": {},
     "outputs": [],
     "prompt_number": 14
    },
    {
     "cell_type": "code",
     "collapsed": false,
     "input": [
      "# Impute values for A14\n",
      "# View the values for A14\n",
      "\n",
      "crx_data.A14.value_counts()\n",
      "\n",
      "# Get the Mean and Std of A14 Data\n",
      "\n",
      "print 'Mean A14:', crx_data.A14.mean()\n",
      "print 'Std A14:', crx_data.A14.std()\n",
      "\n",
      "# Create a Normal Distribution centered on Mean of 184.01 and Standard Dev of 173.81\n",
      "\n",
      "def get_a14_impute_values(n):\n",
      "    return np.random.normal(184.01, 173.81, n)\n",
      "\n",
      "# Get the NULL values for A2\n",
      "\n",
      "crx_data.loc[crx_data.A14.isnull(), 'A14']\n",
      "\n",
      "# Set these values to the values we picked from Random Normal Distribution\n",
      "\n",
      "crx_data.loc[crx_data.A14.isnull(), 'A14'] = get_a14_impute_values(n=13)"
     ],
     "language": "python",
     "metadata": {},
     "outputs": [
      {
       "output_type": "stream",
       "stream": "stdout",
       "text": [
        "Mean A14: 184.014771049\n",
        "Std A14: 173.806768225\n"
       ]
      }
     ],
     "prompt_number": 15
    },
    {
     "cell_type": "code",
     "collapsed": false,
     "input": [
      "# Convert the approval variable from a categorical to a continuous variable\n",
      "\n",
      "for elem in crx_data['A16'].unique():\n",
      "    crx_data[str(elem)] = crx_data['A16'] == elem\n",
      "\n",
      "# Rename the fields\n",
      "\n",
      "crx_data.rename(columns={'+': 'Approved', '-': 'Denied'}, inplace=True)"
     ],
     "language": "python",
     "metadata": {},
     "outputs": [],
     "prompt_number": 16
    },
    {
     "cell_type": "markdown",
     "metadata": {},
     "source": [
      "###2. Plot and visualize data to see any patterns"
     ]
    },
    {
     "cell_type": "code",
     "collapsed": false,
     "input": [
      "# Plotting histograms with A1\n",
      "\n",
      "fig, ax = plt.subplots(1, 2, figsize=(20, 5))\n",
      "crx_data[crx_data.Approved].A1.value_counts().plot(kind='bar', ax=ax[0])\n",
      "crx_data[~crx_data.Approved].A1.value_counts().plot(kind='bar', ax=ax[1])"
     ],
     "language": "python",
     "metadata": {},
     "outputs": [
      {
       "metadata": {},
       "output_type": "pyout",
       "prompt_number": 75,
       "text": [
        "<matplotlib.axes._subplots.AxesSubplot at 0x10d305610>"
       ]
      },
      {
       "metadata": {},
       "output_type": "display_data",
       "png": "[encoded data removed]",
       "text": [
        "<matplotlib.figure.Figure at 0x10d0983d0>"
       ]
      }
     ],
     "prompt_number": 75
    },
    {
     "cell_type": "code",
     "collapsed": false,
     "input": [
      "# Plotting histograms with A4\n",
      "\n",
      "fig, ax = plt.subplots(1, 2, figsize=(20, 5))\n",
      "crx_data[crx_data.Approved].A4.value_counts().plot(kind='bar', ax=ax[0])\n",
      "crx_data[~crx_data.Approved].A4.value_counts().plot(kind='bar', ax=ax[1])"
     ],
     "language": "python",
     "metadata": {},
     "outputs": [
      {
       "metadata": {},
       "output_type": "pyout",
       "prompt_number": 63,
       "text": [
        "<matplotlib.axes._subplots.AxesSubplot at 0x119a03650>"
       ]
      },
      {
       "metadata": {},
       "output_type": "display_data",
       "png": "[encoded data removed]",
       "text": [
        "<matplotlib.figure.Figure at 0x11d2b7410>"
       ]
      }
     ],
     "prompt_number": 63
    },
    {
     "cell_type": "code",
     "collapsed": false,
     "input": [
      "# Plotting histograms with A5\n",
      "\n",
      "fig, ax = plt.subplots(1, 2, figsize=(20, 5))\n",
      "crx_data[crx_data.Approved].A5.value_counts().plot(kind='bar', ax=ax[0])\n",
      "crx_data[~crx_data.Approved].A5.value_counts().plot(kind='bar', ax=ax[1])"
     ],
     "language": "python",
     "metadata": {},
     "outputs": [
      {
       "metadata": {},
       "output_type": "pyout",
       "prompt_number": 64,
       "text": [
        "<matplotlib.axes._subplots.AxesSubplot at 0x10d5bd2d0>"
       ]
      },
      {
       "metadata": {},
       "output_type": "display_data",
       "png": "[encoded data removed]",
       "text": [
        "<matplotlib.figure.Figure at 0x10d820110>"
       ]
      }
     ],
     "prompt_number": 64
    },
    {
     "cell_type": "code",
     "collapsed": false,
     "input": [
      "# Plotting histograms with A6\n",
      "\n",
      "fig, ax = plt.subplots(1, 2, figsize=(20, 5))\n",
      "crx_data[crx_data.Approved].A6.value_counts().plot(kind='bar', ax=ax[0])\n",
      "crx_data[~crx_data.Approved].A6.value_counts().plot(kind='bar', ax=ax[1])"
     ],
     "language": "python",
     "metadata": {},
     "outputs": [
      {
       "metadata": {},
       "output_type": "pyout",
       "prompt_number": 65,
       "text": [
        "<matplotlib.axes._subplots.AxesSubplot at 0x10d4036d0>"
       ]
      },
      {
       "metadata": {},
       "output_type": "display_data",
       "png": "[encoded data removed]",
       "text": [
        "<matplotlib.figure.Figure at 0x10dfd33d0>"
       ]
      }
     ],
     "prompt_number": 65
    },
    {
     "cell_type": "code",
     "collapsed": false,
     "input": [
      "# Plotting histograms with A7\n",
      "\n",
      "fig, ax = plt.subplots(1, 2, figsize=(20, 5))\n",
      "crx_data[crx_data.Approved].A7.value_counts().plot(kind='bar', ax=ax[0])\n",
      "crx_data[~crx_data.Approved].A7.value_counts().plot(kind='bar', ax=ax[1])"
     ],
     "language": "python",
     "metadata": {},
     "outputs": [
      {
       "metadata": {},
       "output_type": "pyout",
       "prompt_number": 66,
       "text": [
        "<matplotlib.axes._subplots.AxesSubplot at 0x10cf13310>"
       ]
      },
      {
       "metadata": {},
       "output_type": "display_data",
       "png": "[encoded data removed]",
       "text": [
        "<matplotlib.figure.Figure at 0x10e611c50>"
       ]
      }
     ],
     "prompt_number": 66
    },
    {
     "cell_type": "code",
     "collapsed": false,
     "input": [
      "# Plotting histograms with A9\n",
      "\n",
      "fig, ax = plt.subplots(1, 2, figsize=(20, 5))\n",
      "crx_data[crx_data.Approved].A9.value_counts().plot(kind='bar', ax=ax[0])\n",
      "crx_data[~crx_data.Approved].A9.value_counts().plot(kind='bar', ax=ax[1])"
     ],
     "language": "python",
     "metadata": {},
     "outputs": [
      {
       "metadata": {},
       "output_type": "pyout",
       "prompt_number": 67,
       "text": [
        "<matplotlib.axes._subplots.AxesSubplot at 0x10dcd7790>"
       ]
      },
      {
       "metadata": {},
       "output_type": "display_data",
       "png": "[encoded data removed]",
       "text": [
        "<matplotlib.figure.Figure at 0x10cc36510>"
       ]
      }
     ],
     "prompt_number": 67
    },
    {
     "cell_type": "code",
     "collapsed": false,
     "input": [
      "# Plotting histograms with A10\n",
      "\n",
      "fig, ax = plt.subplots(1, 2, figsize=(20, 5))\n",
      "crx_data[crx_data.Approved].A10.value_counts().plot(kind='bar', ax=ax[0])\n",
      "crx_data[~crx_data.Approved].A10.value_counts().plot(kind='bar', ax=ax[1])"
     ],
     "language": "python",
     "metadata": {},
     "outputs": [
      {
       "metadata": {},
       "output_type": "pyout",
       "prompt_number": 69,
       "text": [
        "<matplotlib.axes._subplots.AxesSubplot at 0x10dbf8b10>"
       ]
      },
      {
       "metadata": {},
       "output_type": "display_data",
       "png": "[encoded data removed]",
       "text": [
        "<matplotlib.figure.Figure at 0x10dc1d0d0>"
       ]
      }
     ],
     "prompt_number": 69
    },
    {
     "cell_type": "code",
     "collapsed": false,
     "input": [
      "# Plotting histograms with A12\n",
      "\n",
      "fig, ax = plt.subplots(1, 2, figsize=(20, 5))\n",
      "crx_data[crx_data.Approved].A12.value_counts().plot(kind='bar', ax=ax[0])\n",
      "crx_data[~crx_data.Approved].A12.value_counts().plot(kind='bar', ax=ax[1])"
     ],
     "language": "python",
     "metadata": {},
     "outputs": [
      {
       "metadata": {},
       "output_type": "pyout",
       "prompt_number": 70,
       "text": [
        "<matplotlib.axes._subplots.AxesSubplot at 0x10c1d8c50>"
       ]
      },
      {
       "metadata": {},
       "output_type": "display_data",
       "png": "[encoded data removed]",
       "text": [
        "<matplotlib.figure.Figure at 0x10dc15390>"
       ]
      }
     ],
     "prompt_number": 70
    },
    {
     "cell_type": "code",
     "collapsed": false,
     "input": [
      "# Plotting histograms with A13\n",
      "\n",
      "fig, ax = plt.subplots(1, 2, figsize=(20, 5))\n",
      "crx_data[crx_data.Approved].A13.value_counts().plot(kind='bar', ax=ax[0])\n",
      "crx_data[~crx_data.Approved].A13.value_counts().plot(kind='bar', ax=ax[1])"
     ],
     "language": "python",
     "metadata": {},
     "outputs": [
      {
       "metadata": {},
       "output_type": "pyout",
       "prompt_number": 71,
       "text": [
        "<matplotlib.axes._subplots.AxesSubplot at 0x10d0984d0>"
       ]
      },
      {
       "metadata": {},
       "output_type": "display_data",
       "png": "[encoded data removed]",
       "text": [
        "<matplotlib.figure.Figure at 0x10c24d750>"
       ]
      }
     ],
     "prompt_number": 71
    },
    {
     "cell_type": "code",
     "collapsed": false,
     "input": [
      "# Import scatter_matrix functionality\n",
      "\n",
      "from pandas.tools.plotting import scatter_matrix\n",
      "\n",
      "# Generate a scatterplot matrix with the continuous variables\n",
      "\n",
      "scat = scatter_matrix(crx_data[['A2', 'A3', 'A8', 'A11', 'A14', 'A15', 'Approved']], figsize=(15,15))"
     ],
     "language": "python",
     "metadata": {},
     "outputs": [
      {
       "metadata": {},
       "output_type": "display_data",
       "png": "[encoded data removed]",
       "text": [
        "<matplotlib.figure.Figure at 0x116b9bad0>"
       ]
      }
     ],
     "prompt_number": 57
    },
    {
     "cell_type": "markdown",
     "metadata": {},
     "source": [
      "##For the actual model, the submission Notebook should have the following -\n",
      "###1. Build Models using Logistics Regression and SVM (you will learn tonight - Wed)"
     ]
    },
    {
     "cell_type": "code",
     "collapsed": false,
     "input": [
      "# Generate x data frame from credit card dataset\n",
      "\n",
      "x_data = crx_data[['A1', 'A2', 'A3', 'A4', 'A5', 'A6', 'A7', 'A8', 'A9', 'A10', 'A11', 'A12', 'A13', 'A14', 'A15']]"
     ],
     "language": "python",
     "metadata": {},
     "outputs": [],
     "prompt_number": 27
    },
    {
     "cell_type": "code",
     "collapsed": false,
     "input": [
      "# Create dummy variables\n",
      "\n",
      "x_data = pd.get_dummies(x_data)\n",
      "x_data"
     ],
     "language": "python",
     "metadata": {},
     "outputs": [
      {
       "html": [
        "<div style=\"max-height:1000px;max-width:1500px;overflow:auto;\">\n",
        "<table border=\"1\" class=\"dataframe\">\n",
        "  <thead>\n",
        "    <tr style=\"text-align: right;\">\n",
        "      <th></th>\n",
        "      <th>A2</th>\n",
        "      <th>A3</th>\n",
        "      <th>A8</th>\n",
        "      <th>A11</th>\n",
        "      <th>A14</th>\n",
        "      <th>A15</th>\n",
        "      <th>A1_a</th>\n",
        "      <th>A1_b</th>\n",
        "      <th>A4_l</th>\n",
        "      <th>A4_u</th>\n",
        "      <th>...</th>\n",
        "      <th>A7_z</th>\n",
        "      <th>A9_f</th>\n",
        "      <th>A9_t</th>\n",
        "      <th>A10_f</th>\n",
        "      <th>A10_t</th>\n",
        "      <th>A12_f</th>\n",
        "      <th>A12_t</th>\n",
        "      <th>A13_g</th>\n",
        "      <th>A13_p</th>\n",
        "      <th>A13_s</th>\n",
        "    </tr>\n",
        "  </thead>\n",
        "  <tbody>\n",
        "    <tr>\n",
        "      <th>0  </th>\n",
        "      <td> 30.83</td>\n",
        "      <td>  0.000</td>\n",
        "      <td> 1.25</td>\n",
        "      <td> 1</td>\n",
        "      <td> 202</td>\n",
        "      <td>   0</td>\n",
        "      <td> 0</td>\n",
        "      <td> 1</td>\n",
        "      <td> 0</td>\n",
        "      <td> 1</td>\n",
        "      <td>...</td>\n",
        "      <td> 0</td>\n",
        "      <td> 0</td>\n",
        "      <td> 1</td>\n",
        "      <td> 0</td>\n",
        "      <td> 1</td>\n",
        "      <td> 1</td>\n",
        "      <td> 0</td>\n",
        "      <td> 1</td>\n",
        "      <td> 0</td>\n",
        "      <td> 0</td>\n",
        "    </tr>\n",
        "    <tr>\n",
        "      <th>1  </th>\n",
        "      <td> 58.67</td>\n",
        "      <td>  4.460</td>\n",
        "      <td> 3.04</td>\n",
        "      <td> 6</td>\n",
        "      <td>  43</td>\n",
        "      <td> 560</td>\n",
        "      <td> 1</td>\n",
        "      <td> 0</td>\n",
        "      <td> 0</td>\n",
        "      <td> 1</td>\n",
        "      <td>...</td>\n",
        "      <td> 0</td>\n",
        "      <td> 0</td>\n",
        "      <td> 1</td>\n",
        "      <td> 0</td>\n",
        "      <td> 1</td>\n",
        "      <td> 1</td>\n",
        "      <td> 0</td>\n",
        "      <td> 1</td>\n",
        "      <td> 0</td>\n",
        "      <td> 0</td>\n",
        "    </tr>\n",
        "    <tr>\n",
        "      <th>2  </th>\n",
        "      <td> 24.50</td>\n",
        "      <td>  0.500</td>\n",
        "      <td> 1.50</td>\n",
        "      <td> 0</td>\n",
        "      <td> 280</td>\n",
        "      <td> 824</td>\n",
        "      <td> 1</td>\n",
        "      <td> 0</td>\n",
        "      <td> 0</td>\n",
        "      <td> 1</td>\n",
        "      <td>...</td>\n",
        "      <td> 0</td>\n",
        "      <td> 0</td>\n",
        "      <td> 1</td>\n",
        "      <td> 1</td>\n",
        "      <td> 0</td>\n",
        "      <td> 1</td>\n",
        "      <td> 0</td>\n",
        "      <td> 1</td>\n",
        "      <td> 0</td>\n",
        "      <td> 0</td>\n",
        "    </tr>\n",
        "    <tr>\n",
        "      <th>3  </th>\n",
        "      <td> 27.83</td>\n",
        "      <td>  1.540</td>\n",
        "      <td> 3.75</td>\n",
        "      <td> 5</td>\n",
        "      <td> 100</td>\n",
        "      <td>   3</td>\n",
        "      <td> 0</td>\n",
        "      <td> 1</td>\n",
        "      <td> 0</td>\n",
        "      <td> 1</td>\n",
        "      <td>...</td>\n",
        "      <td> 0</td>\n",
        "      <td> 0</td>\n",
        "      <td> 1</td>\n",
        "      <td> 0</td>\n",
        "      <td> 1</td>\n",
        "      <td> 0</td>\n",
        "      <td> 1</td>\n",
        "      <td> 1</td>\n",
        "      <td> 0</td>\n",
        "      <td> 0</td>\n",
        "    </tr>\n",
        "    <tr>\n",
        "      <th>4  </th>\n",
        "      <td> 20.17</td>\n",
        "      <td>  5.625</td>\n",
        "      <td> 1.71</td>\n",
        "      <td> 0</td>\n",
        "      <td> 120</td>\n",
        "      <td>   0</td>\n",
        "      <td> 0</td>\n",
        "      <td> 1</td>\n",
        "      <td> 0</td>\n",
        "      <td> 1</td>\n",
        "      <td>...</td>\n",
        "      <td> 0</td>\n",
        "      <td> 0</td>\n",
        "      <td> 1</td>\n",
        "      <td> 1</td>\n",
        "      <td> 0</td>\n",
        "      <td> 1</td>\n",
        "      <td> 0</td>\n",
        "      <td> 0</td>\n",
        "      <td> 0</td>\n",
        "      <td> 1</td>\n",
        "    </tr>\n",
        "    <tr>\n",
        "      <th>...</th>\n",
        "      <td>...</td>\n",
        "      <td>...</td>\n",
        "      <td>...</td>\n",
        "      <td>...</td>\n",
        "      <td>...</td>\n",
        "      <td>...</td>\n",
        "      <td>...</td>\n",
        "      <td>...</td>\n",
        "      <td>...</td>\n",
        "      <td>...</td>\n",
        "      <td>...</td>\n",
        "      <td>...</td>\n",
        "      <td>...</td>\n",
        "      <td>...</td>\n",
        "      <td>...</td>\n",
        "      <td>...</td>\n",
        "      <td>...</td>\n",
        "      <td>...</td>\n",
        "      <td>...</td>\n",
        "      <td>...</td>\n",
        "      <td>...</td>\n",
        "    </tr>\n",
        "    <tr>\n",
        "      <th>685</th>\n",
        "      <td> 21.08</td>\n",
        "      <td> 10.085</td>\n",
        "      <td> 1.25</td>\n",
        "      <td> 0</td>\n",
        "      <td> 260</td>\n",
        "      <td>   0</td>\n",
        "      <td> 0</td>\n",
        "      <td> 1</td>\n",
        "      <td> 0</td>\n",
        "      <td> 0</td>\n",
        "      <td>...</td>\n",
        "      <td> 0</td>\n",
        "      <td> 1</td>\n",
        "      <td> 0</td>\n",
        "      <td> 1</td>\n",
        "      <td> 0</td>\n",
        "      <td> 1</td>\n",
        "      <td> 0</td>\n",
        "      <td> 1</td>\n",
        "      <td> 0</td>\n",
        "      <td> 0</td>\n",
        "    </tr>\n",
        "    <tr>\n",
        "      <th>686</th>\n",
        "      <td> 22.67</td>\n",
        "      <td>  0.750</td>\n",
        "      <td> 2.00</td>\n",
        "      <td> 2</td>\n",
        "      <td> 200</td>\n",
        "      <td> 394</td>\n",
        "      <td> 1</td>\n",
        "      <td> 0</td>\n",
        "      <td> 0</td>\n",
        "      <td> 1</td>\n",
        "      <td>...</td>\n",
        "      <td> 0</td>\n",
        "      <td> 1</td>\n",
        "      <td> 0</td>\n",
        "      <td> 0</td>\n",
        "      <td> 1</td>\n",
        "      <td> 0</td>\n",
        "      <td> 1</td>\n",
        "      <td> 1</td>\n",
        "      <td> 0</td>\n",
        "      <td> 0</td>\n",
        "    </tr>\n",
        "    <tr>\n",
        "      <th>687</th>\n",
        "      <td> 25.25</td>\n",
        "      <td> 13.500</td>\n",
        "      <td> 2.00</td>\n",
        "      <td> 1</td>\n",
        "      <td> 200</td>\n",
        "      <td>   1</td>\n",
        "      <td> 1</td>\n",
        "      <td> 0</td>\n",
        "      <td> 0</td>\n",
        "      <td> 0</td>\n",
        "      <td>...</td>\n",
        "      <td> 0</td>\n",
        "      <td> 1</td>\n",
        "      <td> 0</td>\n",
        "      <td> 0</td>\n",
        "      <td> 1</td>\n",
        "      <td> 0</td>\n",
        "      <td> 1</td>\n",
        "      <td> 1</td>\n",
        "      <td> 0</td>\n",
        "      <td> 0</td>\n",
        "    </tr>\n",
        "    <tr>\n",
        "      <th>688</th>\n",
        "      <td> 17.92</td>\n",
        "      <td>  0.205</td>\n",
        "      <td> 0.04</td>\n",
        "      <td> 0</td>\n",
        "      <td> 280</td>\n",
        "      <td> 750</td>\n",
        "      <td> 0</td>\n",
        "      <td> 1</td>\n",
        "      <td> 0</td>\n",
        "      <td> 1</td>\n",
        "      <td>...</td>\n",
        "      <td> 0</td>\n",
        "      <td> 1</td>\n",
        "      <td> 0</td>\n",
        "      <td> 1</td>\n",
        "      <td> 0</td>\n",
        "      <td> 1</td>\n",
        "      <td> 0</td>\n",
        "      <td> 1</td>\n",
        "      <td> 0</td>\n",
        "      <td> 0</td>\n",
        "    </tr>\n",
        "    <tr>\n",
        "      <th>689</th>\n",
        "      <td> 35.00</td>\n",
        "      <td>  3.375</td>\n",
        "      <td> 8.29</td>\n",
        "      <td> 0</td>\n",
        "      <td>   0</td>\n",
        "      <td>   0</td>\n",
        "      <td> 0</td>\n",
        "      <td> 1</td>\n",
        "      <td> 0</td>\n",
        "      <td> 1</td>\n",
        "      <td>...</td>\n",
        "      <td> 0</td>\n",
        "      <td> 1</td>\n",
        "      <td> 0</td>\n",
        "      <td> 1</td>\n",
        "      <td> 0</td>\n",
        "      <td> 0</td>\n",
        "      <td> 1</td>\n",
        "      <td> 1</td>\n",
        "      <td> 0</td>\n",
        "      <td> 0</td>\n",
        "    </tr>\n",
        "  </tbody>\n",
        "</table>\n",
        "<p>690 rows \u00d7 48 columns</p>\n",
        "</div>"
       ],
       "metadata": {},
       "output_type": "pyout",
       "prompt_number": 28,
       "text": [
        "        A2      A3    A8  A11  A14  A15  A1_a  A1_b  A4_l  A4_u  ...    A7_z  \\\n",
        "0    30.83   0.000  1.25    1  202    0     0     1     0     1  ...       0   \n",
        "1    58.67   4.460  3.04    6   43  560     1     0     0     1  ...       0   \n",
        "2    24.50   0.500  1.50    0  280  824     1     0     0     1  ...       0   \n",
        "3    27.83   1.540  3.75    5  100    3     0     1     0     1  ...       0   \n",
        "4    20.17   5.625  1.71    0  120    0     0     1     0     1  ...       0   \n",
        "..     ...     ...   ...  ...  ...  ...   ...   ...   ...   ...  ...     ...   \n",
        "685  21.08  10.085  1.25    0  260    0     0     1     0     0  ...       0   \n",
        "686  22.67   0.750  2.00    2  200  394     1     0     0     1  ...       0   \n",
        "687  25.25  13.500  2.00    1  200    1     1     0     0     0  ...       0   \n",
        "688  17.92   0.205  0.04    0  280  750     0     1     0     1  ...       0   \n",
        "689  35.00   3.375  8.29    0    0    0     0     1     0     1  ...       0   \n",
        "\n",
        "     A9_f  A9_t  A10_f  A10_t  A12_f  A12_t  A13_g  A13_p  A13_s  \n",
        "0       0     1      0      1      1      0      1      0      0  \n",
        "1       0     1      0      1      1      0      1      0      0  \n",
        "2       0     1      1      0      1      0      1      0      0  \n",
        "3       0     1      0      1      0      1      1      0      0  \n",
        "4       0     1      1      0      1      0      0      0      1  \n",
        "..    ...   ...    ...    ...    ...    ...    ...    ...    ...  \n",
        "685     1     0      1      0      1      0      1      0      0  \n",
        "686     1     0      0      1      0      1      1      0      0  \n",
        "687     1     0      0      1      0      1      1      0      0  \n",
        "688     1     0      1      0      1      0      1      0      0  \n",
        "689     1     0      1      0      0      1      1      0      0  \n",
        "\n",
        "[690 rows x 48 columns]"
       ]
      }
     ],
     "prompt_number": 28
    },
    {
     "cell_type": "code",
     "collapsed": false,
     "input": [
      "# Generate y data frame from credit card dataset\n",
      "\n",
      "y_data = crx_data['Approved']\n",
      "y_data"
     ],
     "language": "python",
     "metadata": {},
     "outputs": [
      {
       "metadata": {},
       "output_type": "pyout",
       "prompt_number": 29,
       "text": [
        "0    True\n",
        "1    True\n",
        "2    True\n",
        "...\n",
        "687    False\n",
        "688    False\n",
        "689    False\n",
        "Name: Approved, Length: 690, dtype: bool"
       ]
      }
     ],
     "prompt_number": 29
    },
    {
     "cell_type": "code",
     "collapsed": false,
     "input": [
      "# Import train_test_split from scikit-learn\n",
      "\n",
      "from sklearn.cross_validation import train_test_split\n",
      "\n",
      "# Divide the dataset into training and test data\n",
      "\n",
      "x_train, x_test, y_train, y_test = train_test_split(x_data, y_data, random_state=12, test_size=0.2)"
     ],
     "language": "python",
     "metadata": {},
     "outputs": [],
     "prompt_number": 30
    },
    {
     "cell_type": "code",
     "collapsed": false,
     "input": [
      "# Import logistic regression package\n",
      "\n",
      "from sklearn.linear_model import LogisticRegression\n",
      "\n",
      "# Create estimator with logistic regression\n",
      "\n",
      "clf = LogisticRegression()\n",
      "\n",
      "# Fit the model with the training data\n",
      "\n",
      "clf.fit(x_train, y_train)\n",
      "\n",
      "# Score the model using test data\n",
      "\n",
      "clf.score(x_test, y_test)"
     ],
     "language": "python",
     "metadata": {},
     "outputs": [
      {
       "metadata": {},
       "output_type": "pyout",
       "prompt_number": 31,
       "text": [
        "0.8623188405797102"
       ]
      }
     ],
     "prompt_number": 31
    },
    {
     "cell_type": "code",
     "collapsed": false,
     "input": [
      "# Score of 0.86 seems to suggest that the model predicts the actual approval outcomes extremely well"
     ],
     "language": "python",
     "metadata": {},
     "outputs": [],
     "prompt_number": 32
    },
    {
     "cell_type": "code",
     "collapsed": false,
     "input": [
      "# Import SVC from scikit-learn\n",
      "\n",
      "from sklearn.svm import SVC\n",
      "\n",
      "# Create estimator with non-linear kernel\n",
      "\n",
      "est = SVC()\n",
      "\n",
      "# Fit the model with the training data\n",
      "\n",
      "est.fit(x_train, y_train)\n",
      "\n",
      "# Score the model using test data\n",
      "\n",
      "est.score(x_test, y_test)"
     ],
     "language": "python",
     "metadata": {},
     "outputs": [
      {
       "metadata": {},
       "output_type": "pyout",
       "prompt_number": 33,
       "text": [
        "0.54347826086956519"
       ]
      }
     ],
     "prompt_number": 33
    },
    {
     "cell_type": "code",
     "collapsed": false,
     "input": [
      "# Score of 0.54 suggests that the SVM approach does a good job of predicting approval outcomes\n",
      "# but not as good as the linear regression"
     ],
     "language": "python",
     "metadata": {},
     "outputs": [],
     "prompt_number": 34
    },
    {
     "cell_type": "markdown",
     "metadata": {},
     "source": [
      "###2. Use Grid Search to evaluate model parameters (Wed Lab) and select a model"
     ]
    },
    {
     "cell_type": "code",
     "collapsed": false,
     "input": [
      "# Import GridSearchCV from scikit-learn\n",
      "\n",
      "from sklearn.grid_search import GridSearchCV\n",
      "\n",
      "# Establish the search space for parameters of C and Gamma\n",
      "\n",
      "param = {'C':np.logspace(-3,3,10),'gamma':np.logspace(-3,3,10)}\n",
      "\n",
      "# Set up the grid search\n",
      "\n",
      "gs = GridSearchCV(SVC(),param)\n",
      "\n",
      "# Run the grid search on our model\n",
      "\n",
      "gs.fit(x_train, y_train)"
     ],
     "language": "python",
     "metadata": {},
     "outputs": [
      {
       "metadata": {},
       "output_type": "pyout",
       "prompt_number": 35,
       "text": [
        "GridSearchCV(cv=None,\n",
        "       estimator=SVC(C=1.0, cache_size=200, class_weight=None, coef0=0.0, degree=3, gamma=0.0,\n",
        "  kernel='rbf', max_iter=-1, probability=False, random_state=None,\n",
        "  shrinking=True, tol=0.001, verbose=False),\n",
        "       fit_params={}, iid=True, loss_func=None, n_jobs=1,\n",
        "       param_grid={'C': array([  1.00000e-03,   4.64159e-03,   2.15443e-02,   1.00000e-01,\n",
        "         4.64159e-01,   2.15443e+00,   1.00000e+01,   4.64159e+01,\n",
        "         2.15443e+02,   1.00000e+03]), 'gamma': array([  1.00000e-03,   4.64159e-03,   2.15443e-02,   1.00000e-01,\n",
        "         4.64159e-01,   2.15443e+00,   1.00000e+01,   4.64159e+01,\n",
        "         2.15443e+02,   1.00000e+03])},\n",
        "       pre_dispatch='2*n_jobs', refit=True, score_func=None, scoring=None,\n",
        "       verbose=0)"
       ]
      }
     ],
     "prompt_number": 35
    },
    {
     "cell_type": "code",
     "collapsed": false,
     "input": [
      "# Display the parameters and score for the best fitting model\n",
      "\n",
      "gs.best_params_,gs.best_score_"
     ],
     "language": "python",
     "metadata": {},
     "outputs": [
      {
       "metadata": {},
       "output_type": "pyout",
       "prompt_number": 36,
       "text": [
        "({'C': 46.415888336127729, 'gamma': 0.001}, 0.67210144927536231)"
       ]
      }
     ],
     "prompt_number": 36
    },
    {
     "cell_type": "code",
     "collapsed": false,
     "input": [
      "# GridSearchCV finds that the best fitting model has a C = 46.4 and a gamma = 0.001\n",
      "# The score of 0.67 suggests that this model behaves better than the ordinary SVC model (with the defaults)\n",
      "# but that it does worse than the logistic regression model"
     ],
     "language": "python",
     "metadata": {},
     "outputs": [],
     "prompt_number": 37
    },
    {
     "cell_type": "markdown",
     "metadata": {},
     "source": [
      "###3. Build a Confusion Matrix (Mon Lab) to show how well your prediction did."
     ]
    },
    {
     "cell_type": "code",
     "collapsed": false,
     "input": [
      "# Import confusion matrix and classification report from scikit-learn\n",
      "\n",
      "from sklearn.metrics import confusion_matrix, classification_report\n",
      "\n",
      "# Predict values of Y based on values of X\n",
      "\n",
      "y_pred = clf.predict(x_test)"
     ],
     "language": "python",
     "metadata": {},
     "outputs": [],
     "prompt_number": 38
    },
    {
     "cell_type": "code",
     "collapsed": false,
     "input": [
      "# Confusion Matrix for Type 1 and Type 2 Error\n",
      "\n",
      "print confusion_matrix(y_test, y_pred)"
     ],
     "language": "python",
     "metadata": {},
     "outputs": [
      {
       "output_type": "stream",
       "stream": "stdout",
       "text": [
        "[[63 14]\n",
        " [ 5 56]]\n"
       ]
      }
     ],
     "prompt_number": 39
    },
    {
     "cell_type": "code",
     "collapsed": false,
     "input": [
      "# The confusion matrix suggests that the SVM model accurately predicted 63 + 56 = 119 credit card approvals / denials\n",
      "# But that it mis-categorized 5 + 14 = 19 approvals / denials, which are Type I or Type II errors"
     ],
     "language": "python",
     "metadata": {},
     "outputs": [],
     "prompt_number": 40
    },
    {
     "cell_type": "code",
     "collapsed": false,
     "input": [
      "# Examine Precision and Recall\n",
      "\n",
      "print classification_report(y_test, y_pred)"
     ],
     "language": "python",
     "metadata": {},
     "outputs": [
      {
       "output_type": "stream",
       "stream": "stdout",
       "text": [
        "             precision    recall  f1-score   support\n",
        "\n",
        "      False       0.93      0.82      0.87        77\n",
        "       True       0.80      0.92      0.85        61\n",
        "\n",
        "avg / total       0.87      0.86      0.86       138\n",
        "\n"
       ]
      }
     ],
     "prompt_number": 41
    },
    {
     "cell_type": "code",
     "collapsed": false,
     "input": [
      "# The precision - representing the classifier's ability to not label as positive a sample that is negative - is 0.80\n",
      "# The recall - representing the classifier's ability to find all the positive samples - is 0.90"
     ],
     "language": "python",
     "metadata": {},
     "outputs": [],
     "prompt_number": 42
    }
   ],
   "metadata": {}
  }
 ]
}