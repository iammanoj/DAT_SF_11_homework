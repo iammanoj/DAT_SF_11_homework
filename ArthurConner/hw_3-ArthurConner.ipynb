{
 "metadata": {
  "name": "",
  "signature": "sha256:b00809c94058176f6c9d767593ee7952be4a4d19b129dc381c03e5aa0c70175b"
 },
 "nbformat": 3,
 "nbformat_minor": 0,
 "worksheets": [
  {
   "cells": [
    {
     "cell_type": "markdown",
     "metadata": {},
     "source": [
      "#HW 3: KNN & Random Forest\n",
      "Get your data [here](https://archive.ics.uci.edu/ml/datasets/Bank+Marketing). The data is related with direct marketing campaigns of a Portuguese banking institution. The marketing campaigns were based on phone calls. Often, more than one contact to the same client was required, in order to access if the product (bank term deposit) would be ('yes') or not ('no') subscribed. There are four datasets:\n",
      "\n",
      "1) bank-additional-full.csv with all examples (41188) and 20 inputs, ordered by date (from May 2008 to November 2010)\n",
      "\n",
      "2) bank-additional.csv with 10% of the examples (4119), randomly selected from 1), and 20 inputs.\n",
      "\n",
      "3) bank-full.csv with all examples and 17 inputs, ordered by date (older version of this dataset with less inputs). \n",
      "\n",
      "4) bank.csv with 10% of the examples and 17 inputs, randomly selected from 3 (older version of this dataset with less inputs). \n",
      "\n",
      "The smallest datasets are provided to test more computationally demanding machine \n",
      "learning algorithms (e.g., SVM). \n",
      "\n",
      "The classification goal is to predict if the client will subscribe (yes/no) a term deposit (variable y)."
     ]
    },
    {
     "cell_type": "markdown",
     "metadata": {},
     "source": [
      "##Assignment\n",
      "* Preprocess your data (you may find `LabelEncoder` useful)\n",
      "* Train both KNN and Random Forest models\n",
      "* Find the best parameters by computing their learning curve (feel free to verify this with grid search)\n",
      "* Create a clasification report\n",
      "* Inspect your models, what features are most important? How might you use this information to improve model precision?\n"
     ]
    },
    {
     "cell_type": "code",
     "collapsed": false,
     "input": [],
     "language": "python",
     "metadata": {},
     "outputs": []
    },
    {
     "cell_type": "code",
     "collapsed": false,
     "input": [
      "# Standard imports for data analysis packages in Python\n",
      "import pandas as pd\n",
      "import numpy as np\n",
      "#import seaborn as sns  # for pretty layout of plots\n",
      "import matplotlib.pyplot as plt\n",
      "from pprint import pprint  # for pretty printing\n",
      "\n",
      "# This enables inline Plots\n",
      "%matplotlib inline\n",
      "\n",
      "# Limit rows displayed in notebook\n",
      "pd.set_option('display.max_rows', 10)\n",
      "pd.set_option('display.precision', 2)"
     ],
     "language": "python",
     "metadata": {},
     "outputs": [],
     "prompt_number": 1
    },
    {
     "cell_type": "code",
     "collapsed": false,
     "input": [
      "dataset = pd.read_csv(\"/Users/arthurconner/Documents/DataScience/classwork/bank-additional/bank-additional-full.csv\")\n",
      "dataset.head(2)"
     ],
     "language": "python",
     "metadata": {},
     "outputs": [
      {
       "html": [
        "<div style=\"max-height:1000px;max-width:1500px;overflow:auto;\">\n",
        "<table border=\"1\" class=\"dataframe\">\n",
        "  <thead>\n",
        "    <tr style=\"text-align: right;\">\n",
        "      <th></th>\n",
        "      <th>age;\"job\";\"marital\";\"education\";\"default\";\"housing\";\"loan\";\"contact\";\"month\";\"day_of_week\";\"duration\";\"campaign\";\"pdays\";\"previous\";\"poutcome\";\"emp.var.rate\";\"cons.price.idx\";\"cons.conf.idx\";\"euribor3m\";\"nr.employed\";\"y\"</th>\n",
        "    </tr>\n",
        "  </thead>\n",
        "  <tbody>\n",
        "    <tr>\n",
        "      <th>0</th>\n",
        "      <td> 56;\"housemaid\";\"married\";\"basic.4y\";\"no\";\"no\";...</td>\n",
        "    </tr>\n",
        "    <tr>\n",
        "      <th>1</th>\n",
        "      <td> 57;\"services\";\"married\";\"high.school\";\"unknown...</td>\n",
        "    </tr>\n",
        "  </tbody>\n",
        "</table>\n",
        "</div>"
       ],
       "metadata": {},
       "output_type": "pyout",
       "prompt_number": 2,
       "text": [
        "  age;\"job\";\"marital\";\"education\";\"default\";\"housing\";\"loan\";\"contact\";\"month\";\"day_of_week\";\"duration\";\"campaign\";\"pdays\";\"previous\";\"poutcome\";\"emp.var.rate\";\"cons.price.idx\";\"cons.conf.idx\";\"euribor3m\";\"nr.employed\";\"y\"\n",
        "0  56;\"housemaid\";\"married\";\"basic.4y\";\"no\";\"no\";...                                                                                                                                                                          \n",
        "1  57;\"services\";\"married\";\"high.school\";\"unknown...                                                                                                                                                                          "
       ]
      }
     ],
     "prompt_number": 2
    },
    {
     "cell_type": "code",
     "collapsed": false,
     "input": [
      "?pd.read_csv"
     ],
     "language": "python",
     "metadata": {},
     "outputs": [],
     "prompt_number": 5
    },
    {
     "cell_type": "code",
     "collapsed": false,
     "input": [
      " \n",
      "dataset = pd.read_csv(\"/Users/arthurconner/Documents/DataScience/classwork/bank-additional/bank-additional-full.csv\",delimiter=\";\")\n",
      "dataset.head(2)"
     ],
     "language": "python",
     "metadata": {},
     "outputs": [
      {
       "html": [
        "<div style=\"max-height:1000px;max-width:1500px;overflow:auto;\">\n",
        "<table border=\"1\" class=\"dataframe\">\n",
        "  <thead>\n",
        "    <tr style=\"text-align: right;\">\n",
        "      <th></th>\n",
        "      <th>age</th>\n",
        "      <th>job</th>\n",
        "      <th>marital</th>\n",
        "      <th>education</th>\n",
        "      <th>default</th>\n",
        "      <th>housing</th>\n",
        "      <th>loan</th>\n",
        "      <th>contact</th>\n",
        "      <th>month</th>\n",
        "      <th>day_of_week</th>\n",
        "      <th>...</th>\n",
        "      <th>campaign</th>\n",
        "      <th>pdays</th>\n",
        "      <th>previous</th>\n",
        "      <th>poutcome</th>\n",
        "      <th>emp.var.rate</th>\n",
        "      <th>cons.price.idx</th>\n",
        "      <th>cons.conf.idx</th>\n",
        "      <th>euribor3m</th>\n",
        "      <th>nr.employed</th>\n",
        "      <th>y</th>\n",
        "    </tr>\n",
        "  </thead>\n",
        "  <tbody>\n",
        "    <tr>\n",
        "      <th>0</th>\n",
        "      <td> 56</td>\n",
        "      <td> housemaid</td>\n",
        "      <td> married</td>\n",
        "      <td>    basic.4y</td>\n",
        "      <td>      no</td>\n",
        "      <td> no</td>\n",
        "      <td> no</td>\n",
        "      <td> telephone</td>\n",
        "      <td> may</td>\n",
        "      <td> mon</td>\n",
        "      <td>...</td>\n",
        "      <td> 1</td>\n",
        "      <td> 999</td>\n",
        "      <td> 0</td>\n",
        "      <td> nonexistent</td>\n",
        "      <td> 1.1</td>\n",
        "      <td> 94</td>\n",
        "      <td>-36.4</td>\n",
        "      <td> 4.9</td>\n",
        "      <td> 5191</td>\n",
        "      <td> no</td>\n",
        "    </tr>\n",
        "    <tr>\n",
        "      <th>1</th>\n",
        "      <td> 57</td>\n",
        "      <td>  services</td>\n",
        "      <td> married</td>\n",
        "      <td> high.school</td>\n",
        "      <td> unknown</td>\n",
        "      <td> no</td>\n",
        "      <td> no</td>\n",
        "      <td> telephone</td>\n",
        "      <td> may</td>\n",
        "      <td> mon</td>\n",
        "      <td>...</td>\n",
        "      <td> 1</td>\n",
        "      <td> 999</td>\n",
        "      <td> 0</td>\n",
        "      <td> nonexistent</td>\n",
        "      <td> 1.1</td>\n",
        "      <td> 94</td>\n",
        "      <td>-36.4</td>\n",
        "      <td> 4.9</td>\n",
        "      <td> 5191</td>\n",
        "      <td> no</td>\n",
        "    </tr>\n",
        "  </tbody>\n",
        "</table>\n",
        "<p>2 rows \u00d7 21 columns</p>\n",
        "</div>"
       ],
       "metadata": {},
       "output_type": "pyout",
       "prompt_number": 3,
       "text": [
        "   age        job  marital    education  default housing loan    contact  \\\n",
        "0   56  housemaid  married     basic.4y       no      no   no  telephone   \n",
        "1   57   services  married  high.school  unknown      no   no  telephone   \n",
        "\n",
        "  month day_of_week ...  campaign  pdays  previous     poutcome emp.var.rate  \\\n",
        "0   may         mon ...         1    999         0  nonexistent          1.1   \n",
        "1   may         mon ...         1    999         0  nonexistent          1.1   \n",
        "\n",
        "   cons.price.idx  cons.conf.idx  euribor3m  nr.employed   y  \n",
        "0              94          -36.4        4.9         5191  no  \n",
        "1              94          -36.4        4.9         5191  no  \n",
        "\n",
        "[2 rows x 21 columns]"
       ]
      }
     ],
     "prompt_number": 3
    },
    {
     "cell_type": "code",
     "collapsed": false,
     "input": [
      "dataset.info()"
     ],
     "language": "python",
     "metadata": {},
     "outputs": [
      {
       "output_type": "stream",
       "stream": "stdout",
       "text": [
        "<class 'pandas.core.frame.DataFrame'>\n",
        "Int64Index: 41188 entries, 0 to 41187\n",
        "Data columns (total 21 columns):\n",
        "age               41188 non-null int64\n",
        "job               41188 non-null object\n",
        "marital           41188 non-null object\n",
        "education         41188 non-null object\n",
        "default           41188 non-null object\n",
        "housing           41188 non-null object\n",
        "loan              41188 non-null object\n",
        "contact           41188 non-null object\n",
        "month             41188 non-null object\n",
        "day_of_week       41188 non-null object\n",
        "duration          41188 non-null int64\n",
        "campaign          41188 non-null int64\n",
        "pdays             41188 non-null int64\n",
        "previous          41188 non-null int64\n",
        "poutcome          41188 non-null object\n",
        "emp.var.rate      41188 non-null float64\n",
        "cons.price.idx    41188 non-null float64\n",
        "cons.conf.idx     41188 non-null float64\n",
        "euribor3m         41188 non-null float64\n",
        "nr.employed       41188 non-null float64\n",
        "y                 41188 non-null object\n",
        "dtypes: float64(5), int64(5), object(11)\n",
        "memory usage: 6.9+ MB\n"
       ]
      }
     ],
     "prompt_number": 4
    },
    {
     "cell_type": "code",
     "collapsed": false,
     "input": [
      "from sklearn.preprocessing import LabelEncoder"
     ],
     "language": "python",
     "metadata": {},
     "outputs": [],
     "prompt_number": 5
    },
    {
     "cell_type": "code",
     "collapsed": false,
     "input": [
      "nondata = [\"job\",\"marital\",\"education\",\"default\",\"housing\",\"loan\",\"contact\",\"poutcome\",\"y\"]\n",
      "transformLabels = []\n",
      "encoders = {}\n",
      "for x in nondata:\n",
      "    nextlabel = x + \"_encoded\"\n",
      "    transformLabels.append(nextlabel)\n",
      "    le = LabelEncoder()\n",
      "    encoders[x] = le\n",
      "    le.fit(dataset[x].unique())\n",
      "    dataset[nextlabel] = dataset[x].map(le.transform)\n",
      "    base =  dataset[nextlabel].unique()\n",
      "    print nextlabel , base, \"<-->\", x, le.inverse_transform(base)\n",
      "\n",
      "encoders"
     ],
     "language": "python",
     "metadata": {},
     "outputs": [
      {
       "output_type": "stream",
       "stream": "stdout",
       "text": [
        "job_encoded [ 3  7  0  1  9  5  4 10  6 11  2  8] <--> job ['housemaid' 'services' 'admin.' 'blue-collar' 'technician' 'retired'\n",
        " 'management' 'unemployed' 'self-employed' 'unknown' 'entrepreneur'\n",
        " 'student']\n",
        "marital_encoded"
       ]
      },
      {
       "output_type": "stream",
       "stream": "stdout",
       "text": [
        " [1 2 0 3] <--> marital ['married' 'single' 'divorced' 'unknown']\n",
        "education_encoded"
       ]
      },
      {
       "output_type": "stream",
       "stream": "stdout",
       "text": [
        " [0 3 1 2 5 7 6 4] <--> education ['basic.4y' 'high.school' 'basic.6y' 'basic.9y' 'professional.course'\n",
        " 'unknown' 'university.degree' 'illiterate']\n",
        "default_encoded"
       ]
      },
      {
       "output_type": "stream",
       "stream": "stdout",
       "text": [
        " [0 1 2] <--> default ['no' 'unknown' 'yes']\n",
        "housing_encoded"
       ]
      },
      {
       "output_type": "stream",
       "stream": "stdout",
       "text": [
        " [0 2 1] <--> housing ['no' 'yes' 'unknown']\n",
        "loan_encoded"
       ]
      },
      {
       "output_type": "stream",
       "stream": "stdout",
       "text": [
        " [0 2 1] <--> loan ['no' 'yes' 'unknown']\n",
        "contact_encoded"
       ]
      },
      {
       "output_type": "stream",
       "stream": "stdout",
       "text": [
        " [1 0] <--> contact ['telephone' 'cellular']\n",
        "poutcome_encoded"
       ]
      },
      {
       "output_type": "stream",
       "stream": "stdout",
       "text": [
        " [1 0 2] <--> poutcome ['nonexistent' 'failure' 'success']\n",
        "y_encoded"
       ]
      },
      {
       "output_type": "stream",
       "stream": "stdout",
       "text": [
        " [0 1] <--> y ['no' 'yes']\n"
       ]
      },
      {
       "metadata": {},
       "output_type": "pyout",
       "prompt_number": 6,
       "text": [
        "{'contact': LabelEncoder(),\n",
        " 'default': LabelEncoder(),\n",
        " 'education': LabelEncoder(),\n",
        " 'housing': LabelEncoder(),\n",
        " 'job': LabelEncoder(),\n",
        " 'loan': LabelEncoder(),\n",
        " 'marital': LabelEncoder(),\n",
        " 'poutcome': LabelEncoder(),\n",
        " 'y': LabelEncoder()}"
       ]
      }
     ],
     "prompt_number": 6
    },
    {
     "cell_type": "code",
     "collapsed": false,
     "input": [
      "numeric = [\"duration\", \"campaign\", \"pdays\",\"previous\",\"emp.var.rate\",\"cons.price.idx\",\"cons.conf.idx\",\"euribor3m\",\"nr.employed\"]\n",
      "xlabels = []\n",
      "for x in transformLabels:\n",
      "    xlabels.append(x)\n",
      "yLabel = xlabels.pop()\n",
      "for x in numeric:\n",
      "    xlabels.append(x)\n",
      "xlabels"
     ],
     "language": "python",
     "metadata": {},
     "outputs": [
      {
       "metadata": {},
       "output_type": "pyout",
       "prompt_number": 7,
       "text": [
        "['job_encoded',\n",
        " 'marital_encoded',\n",
        " 'education_encoded',\n",
        " 'default_encoded',\n",
        " 'housing_encoded',\n",
        " 'loan_encoded',\n",
        " 'contact_encoded',\n",
        " 'poutcome_encoded',\n",
        " 'duration',\n",
        " 'campaign',\n",
        " 'pdays',\n",
        " 'previous',\n",
        " 'emp.var.rate',\n",
        " 'cons.price.idx',\n",
        " 'cons.conf.idx',\n",
        " 'euribor3m',\n",
        " 'nr.employed']"
       ]
      }
     ],
     "prompt_number": 7
    },
    {
     "cell_type": "code",
     "collapsed": false,
     "input": [
      "xData = dataset[xlabels]\n",
      "xData"
     ],
     "language": "python",
     "metadata": {},
     "outputs": [
      {
       "html": [
        "<div style=\"max-height:1000px;max-width:1500px;overflow:auto;\">\n",
        "<table border=\"1\" class=\"dataframe\">\n",
        "  <thead>\n",
        "    <tr style=\"text-align: right;\">\n",
        "      <th></th>\n",
        "      <th>job_encoded</th>\n",
        "      <th>marital_encoded</th>\n",
        "      <th>education_encoded</th>\n",
        "      <th>default_encoded</th>\n",
        "      <th>housing_encoded</th>\n",
        "      <th>loan_encoded</th>\n",
        "      <th>contact_encoded</th>\n",
        "      <th>poutcome_encoded</th>\n",
        "      <th>duration</th>\n",
        "      <th>campaign</th>\n",
        "      <th>pdays</th>\n",
        "      <th>previous</th>\n",
        "      <th>emp.var.rate</th>\n",
        "      <th>cons.price.idx</th>\n",
        "      <th>cons.conf.idx</th>\n",
        "      <th>euribor3m</th>\n",
        "      <th>nr.employed</th>\n",
        "    </tr>\n",
        "  </thead>\n",
        "  <tbody>\n",
        "    <tr>\n",
        "      <th>0    </th>\n",
        "      <td> 3</td>\n",
        "      <td> 1</td>\n",
        "      <td> 0</td>\n",
        "      <td> 0</td>\n",
        "      <td> 0</td>\n",
        "      <td> 0</td>\n",
        "      <td> 1</td>\n",
        "      <td> 1</td>\n",
        "      <td> 261</td>\n",
        "      <td> 1</td>\n",
        "      <td> 999</td>\n",
        "      <td> 0</td>\n",
        "      <td> 1.1</td>\n",
        "      <td> 94.0</td>\n",
        "      <td>-36.4</td>\n",
        "      <td> 4.9</td>\n",
        "      <td> 5191.0</td>\n",
        "    </tr>\n",
        "    <tr>\n",
        "      <th>1    </th>\n",
        "      <td> 7</td>\n",
        "      <td> 1</td>\n",
        "      <td> 3</td>\n",
        "      <td> 1</td>\n",
        "      <td> 0</td>\n",
        "      <td> 0</td>\n",
        "      <td> 1</td>\n",
        "      <td> 1</td>\n",
        "      <td> 149</td>\n",
        "      <td> 1</td>\n",
        "      <td> 999</td>\n",
        "      <td> 0</td>\n",
        "      <td> 1.1</td>\n",
        "      <td> 94.0</td>\n",
        "      <td>-36.4</td>\n",
        "      <td> 4.9</td>\n",
        "      <td> 5191.0</td>\n",
        "    </tr>\n",
        "    <tr>\n",
        "      <th>2    </th>\n",
        "      <td> 7</td>\n",
        "      <td> 1</td>\n",
        "      <td> 3</td>\n",
        "      <td> 0</td>\n",
        "      <td> 2</td>\n",
        "      <td> 0</td>\n",
        "      <td> 1</td>\n",
        "      <td> 1</td>\n",
        "      <td> 226</td>\n",
        "      <td> 1</td>\n",
        "      <td> 999</td>\n",
        "      <td> 0</td>\n",
        "      <td> 1.1</td>\n",
        "      <td> 94.0</td>\n",
        "      <td>-36.4</td>\n",
        "      <td> 4.9</td>\n",
        "      <td> 5191.0</td>\n",
        "    </tr>\n",
        "    <tr>\n",
        "      <th>3    </th>\n",
        "      <td> 0</td>\n",
        "      <td> 1</td>\n",
        "      <td> 1</td>\n",
        "      <td> 0</td>\n",
        "      <td> 0</td>\n",
        "      <td> 0</td>\n",
        "      <td> 1</td>\n",
        "      <td> 1</td>\n",
        "      <td> 151</td>\n",
        "      <td> 1</td>\n",
        "      <td> 999</td>\n",
        "      <td> 0</td>\n",
        "      <td> 1.1</td>\n",
        "      <td> 94.0</td>\n",
        "      <td>-36.4</td>\n",
        "      <td> 4.9</td>\n",
        "      <td> 5191.0</td>\n",
        "    </tr>\n",
        "    <tr>\n",
        "      <th>4    </th>\n",
        "      <td> 7</td>\n",
        "      <td> 1</td>\n",
        "      <td> 3</td>\n",
        "      <td> 0</td>\n",
        "      <td> 0</td>\n",
        "      <td> 2</td>\n",
        "      <td> 1</td>\n",
        "      <td> 1</td>\n",
        "      <td> 307</td>\n",
        "      <td> 1</td>\n",
        "      <td> 999</td>\n",
        "      <td> 0</td>\n",
        "      <td> 1.1</td>\n",
        "      <td> 94.0</td>\n",
        "      <td>-36.4</td>\n",
        "      <td> 4.9</td>\n",
        "      <td> 5191.0</td>\n",
        "    </tr>\n",
        "    <tr>\n",
        "      <th>...</th>\n",
        "      <td>...</td>\n",
        "      <td>...</td>\n",
        "      <td>...</td>\n",
        "      <td>...</td>\n",
        "      <td>...</td>\n",
        "      <td>...</td>\n",
        "      <td>...</td>\n",
        "      <td>...</td>\n",
        "      <td>...</td>\n",
        "      <td>...</td>\n",
        "      <td>...</td>\n",
        "      <td>...</td>\n",
        "      <td>...</td>\n",
        "      <td>...</td>\n",
        "      <td>...</td>\n",
        "      <td>...</td>\n",
        "      <td>...</td>\n",
        "    </tr>\n",
        "    <tr>\n",
        "      <th>41183</th>\n",
        "      <td> 5</td>\n",
        "      <td> 1</td>\n",
        "      <td> 5</td>\n",
        "      <td> 0</td>\n",
        "      <td> 2</td>\n",
        "      <td> 0</td>\n",
        "      <td> 0</td>\n",
        "      <td> 1</td>\n",
        "      <td> 334</td>\n",
        "      <td> 1</td>\n",
        "      <td> 999</td>\n",
        "      <td> 0</td>\n",
        "      <td>-1.1</td>\n",
        "      <td> 94.8</td>\n",
        "      <td>-50.8</td>\n",
        "      <td> 1.0</td>\n",
        "      <td> 4963.6</td>\n",
        "    </tr>\n",
        "    <tr>\n",
        "      <th>41184</th>\n",
        "      <td> 1</td>\n",
        "      <td> 1</td>\n",
        "      <td> 5</td>\n",
        "      <td> 0</td>\n",
        "      <td> 0</td>\n",
        "      <td> 0</td>\n",
        "      <td> 0</td>\n",
        "      <td> 1</td>\n",
        "      <td> 383</td>\n",
        "      <td> 1</td>\n",
        "      <td> 999</td>\n",
        "      <td> 0</td>\n",
        "      <td>-1.1</td>\n",
        "      <td> 94.8</td>\n",
        "      <td>-50.8</td>\n",
        "      <td> 1.0</td>\n",
        "      <td> 4963.6</td>\n",
        "    </tr>\n",
        "    <tr>\n",
        "      <th>41185</th>\n",
        "      <td> 5</td>\n",
        "      <td> 1</td>\n",
        "      <td> 6</td>\n",
        "      <td> 0</td>\n",
        "      <td> 2</td>\n",
        "      <td> 0</td>\n",
        "      <td> 0</td>\n",
        "      <td> 1</td>\n",
        "      <td> 189</td>\n",
        "      <td> 2</td>\n",
        "      <td> 999</td>\n",
        "      <td> 0</td>\n",
        "      <td>-1.1</td>\n",
        "      <td> 94.8</td>\n",
        "      <td>-50.8</td>\n",
        "      <td> 1.0</td>\n",
        "      <td> 4963.6</td>\n",
        "    </tr>\n",
        "    <tr>\n",
        "      <th>41186</th>\n",
        "      <td> 9</td>\n",
        "      <td> 1</td>\n",
        "      <td> 5</td>\n",
        "      <td> 0</td>\n",
        "      <td> 0</td>\n",
        "      <td> 0</td>\n",
        "      <td> 0</td>\n",
        "      <td> 1</td>\n",
        "      <td> 442</td>\n",
        "      <td> 1</td>\n",
        "      <td> 999</td>\n",
        "      <td> 0</td>\n",
        "      <td>-1.1</td>\n",
        "      <td> 94.8</td>\n",
        "      <td>-50.8</td>\n",
        "      <td> 1.0</td>\n",
        "      <td> 4963.6</td>\n",
        "    </tr>\n",
        "    <tr>\n",
        "      <th>41187</th>\n",
        "      <td> 5</td>\n",
        "      <td> 1</td>\n",
        "      <td> 5</td>\n",
        "      <td> 0</td>\n",
        "      <td> 2</td>\n",
        "      <td> 0</td>\n",
        "      <td> 0</td>\n",
        "      <td> 0</td>\n",
        "      <td> 239</td>\n",
        "      <td> 3</td>\n",
        "      <td> 999</td>\n",
        "      <td> 1</td>\n",
        "      <td>-1.1</td>\n",
        "      <td> 94.8</td>\n",
        "      <td>-50.8</td>\n",
        "      <td> 1.0</td>\n",
        "      <td> 4963.6</td>\n",
        "    </tr>\n",
        "  </tbody>\n",
        "</table>\n",
        "<p>41188 rows \u00d7 17 columns</p>\n",
        "</div>"
       ],
       "metadata": {},
       "output_type": "pyout",
       "prompt_number": 8,
       "text": [
        "       job_encoded  marital_encoded  education_encoded  default_encoded  \\\n",
        "0                3                1                  0                0   \n",
        "1                7                1                  3                1   \n",
        "2                7                1                  3                0   \n",
        "3                0                1                  1                0   \n",
        "4                7                1                  3                0   \n",
        "...            ...              ...                ...              ...   \n",
        "41183            5                1                  5                0   \n",
        "41184            1                1                  5                0   \n",
        "41185            5                1                  6                0   \n",
        "41186            9                1                  5                0   \n",
        "41187            5                1                  5                0   \n",
        "\n",
        "       housing_encoded  loan_encoded  contact_encoded  poutcome_encoded  \\\n",
        "0                    0             0                1                 1   \n",
        "1                    0             0                1                 1   \n",
        "2                    2             0                1                 1   \n",
        "3                    0             0                1                 1   \n",
        "4                    0             2                1                 1   \n",
        "...                ...           ...              ...               ...   \n",
        "41183                2             0                0                 1   \n",
        "41184                0             0                0                 1   \n",
        "41185                2             0                0                 1   \n",
        "41186                0             0                0                 1   \n",
        "41187                2             0                0                 0   \n",
        "\n",
        "       duration  campaign  pdays  previous  emp.var.rate  cons.price.idx  \\\n",
        "0           261         1    999         0           1.1            94.0   \n",
        "1           149         1    999         0           1.1            94.0   \n",
        "2           226         1    999         0           1.1            94.0   \n",
        "3           151         1    999         0           1.1            94.0   \n",
        "4           307         1    999         0           1.1            94.0   \n",
        "...         ...       ...    ...       ...           ...             ...   \n",
        "41183       334         1    999         0          -1.1            94.8   \n",
        "41184       383         1    999         0          -1.1            94.8   \n",
        "41185       189         2    999         0          -1.1            94.8   \n",
        "41186       442         1    999         0          -1.1            94.8   \n",
        "41187       239         3    999         1          -1.1            94.8   \n",
        "\n",
        "       cons.conf.idx  euribor3m  nr.employed  \n",
        "0              -36.4        4.9       5191.0  \n",
        "1              -36.4        4.9       5191.0  \n",
        "2              -36.4        4.9       5191.0  \n",
        "3              -36.4        4.9       5191.0  \n",
        "4              -36.4        4.9       5191.0  \n",
        "...              ...        ...          ...  \n",
        "41183          -50.8        1.0       4963.6  \n",
        "41184          -50.8        1.0       4963.6  \n",
        "41185          -50.8        1.0       4963.6  \n",
        "41186          -50.8        1.0       4963.6  \n",
        "41187          -50.8        1.0       4963.6  \n",
        "\n",
        "[41188 rows x 17 columns]"
       ]
      }
     ],
     "prompt_number": 8
    },
    {
     "cell_type": "code",
     "collapsed": false,
     "input": [
      "yData = dataset[yLabel]\n",
      "yData"
     ],
     "language": "python",
     "metadata": {},
     "outputs": [
      {
       "metadata": {},
       "output_type": "pyout",
       "prompt_number": 9,
       "text": [
        "0    0\n",
        "1    0\n",
        "2    0\n",
        "...\n",
        "41185    0\n",
        "41186    1\n",
        "41187    0\n",
        "Name: y_encoded, Length: 41188, dtype: int64"
       ]
      }
     ],
     "prompt_number": 9
    },
    {
     "cell_type": "code",
     "collapsed": false,
     "input": [
      "#Scikit Imports\n",
      "from sklearn import linear_model, tree, metrics, naive_bayes, ensemble, cross_validation, grid_search\n",
      "X_train, X_test, y_train, y_test = cross_validation.train_test_split(xData, yData, random_state=12, test_size=0.2)\n",
      "print X_train.shape, X_test.shape, y_train.shape, y_test.shape"
     ],
     "language": "python",
     "metadata": {},
     "outputs": [
      {
       "output_type": "stream",
       "stream": "stdout",
       "text": [
        "(32950, 17) (8238, 17) (32950,) (8238,)\n"
       ]
      }
     ],
     "prompt_number": 10
    },
    {
     "cell_type": "code",
     "collapsed": false,
     "input": [
      "from sklearn.neighbors import KNeighborsClassifier \n",
      "from sklearn.ensemble import RandomForestClassifier"
     ],
     "language": "python",
     "metadata": {},
     "outputs": [],
     "prompt_number": 11
    },
    {
     "cell_type": "code",
     "collapsed": false,
     "input": [
      "#out of the box\n",
      "classifiers = [KNeighborsClassifier,RandomForestClassifier]\n",
      "for cl in classifiers:\n",
      "    classif = cl()\n",
      "    classif.fit(X_train,y_train)\n",
      "    print cl,classif.score(X_test,y_test)\n"
     ],
     "language": "python",
     "metadata": {},
     "outputs": [
      {
       "output_type": "stream",
       "stream": "stdout",
       "text": [
        "<class 'sklearn.neighbors.classification.KNeighborsClassifier'> "
       ]
      },
      {
       "output_type": "stream",
       "stream": "stdout",
       "text": [
        "0.902403495994\n",
        "<class 'sklearn.ensemble.forest.RandomForestClassifier'>"
       ]
      },
      {
       "output_type": "stream",
       "stream": "stdout",
       "text": [
        " 0.907623209517\n"
       ]
      }
     ],
     "prompt_number": 12
    },
    {
     "cell_type": "code",
     "collapsed": false,
     "input": [
      "#okay knn is its own separate beast\n",
      "#lets try a simple one\n",
      "knnParams = {\"n_neighbors\":[1,2,5,10,20,50]}\n",
      "kgrid = grid_search.GridSearchCV(KNeighborsClassifier(), knnParams)\n",
      "kgrid.fit(X_train, y_train)\n",
      "print kgrid.score(X_test,y_test)\n",
      "print kgrid.best_params_"
     ],
     "language": "python",
     "metadata": {},
     "outputs": [
      {
       "output_type": "stream",
       "stream": "stdout",
       "text": [
        "0.914056809905\n",
        "{'n_neighbors': 50}\n"
       ]
      }
     ],
     "prompt_number": 13
    },
    {
     "cell_type": "code",
     "collapsed": false,
     "input": [
      "knnParams = {\"n_neighbors\":[50,100,250,500]}\n",
      "kgrid = grid_search.GridSearchCV(KNeighborsClassifier(), knnParams)\n",
      "kgrid.fit(X_train, y_train)\n",
      "print kgrid.score(X_test,y_test)\n",
      "print kgrid.best_params_\n",
      "knnBest = kgrid.best_estimator_"
     ],
     "language": "python",
     "metadata": {},
     "outputs": [
      {
       "output_type": "stream",
       "stream": "stdout",
       "text": [
        "0.914785142025\n",
        "{'n_neighbors': 100}\n"
       ]
      }
     ],
     "prompt_number": 14
    },
    {
     "cell_type": "code",
     "collapsed": false,
     "input": [
      "# Find the best parameters by computing their learning curve (feel free to verify this with grid search)\n",
      "import matplotlib as mpl\n",
      "import matplotlib.pyplot as plt"
     ],
     "language": "python",
     "metadata": {},
     "outputs": [],
     "prompt_number": 15
    },
    {
     "cell_type": "code",
     "collapsed": false,
     "input": [
      "from sklearn.pipeline import make_pipeline\n",
      "?np.arange"
     ],
     "language": "python",
     "metadata": {},
     "outputs": []
    },
    {
     "cell_type": "code",
     "collapsed": false,
     "input": [
      "neigbors = np.arange(5, 80,5)\n",
      "training_error = []\n",
      "test_error = []\n",
      "mse = metrics.mean_squared_error\n",
      "\n",
      "\n",
      "for neigh in neigbors:\n",
      "    model = KNeighborsClassifier(n_neighbors=neigh)\n",
      "    model.fit(X_train, y_train)\n",
      "    training_error.append(mse(model.predict(X_train), y_train))\n",
      "    test_error.append(mse(model.predict(X_test), y_test))\n",
      "    \n",
      "# note that the test error can also be computed via cross-validation\n",
      "plt.plot(neigbors, training_error, label='training')\n",
      "plt.plot(neigbors, test_error, label='test')\n",
      "plt.legend()\n",
      "plt.xlabel('neigbors')\n",
      "plt.ylabel('MSE')\n",
      "    \n"
     ],
     "language": "python",
     "metadata": {},
     "outputs": [
      {
       "metadata": {},
       "output_type": "pyout",
       "prompt_number": 18,
       "text": [
        "<matplotlib.text.Text at 0x10b8c6590>"
       ]
      },
      {
       "metadata": {},
       "output_type": "display_data",
       "png": "[encoded data removed]",
       "text": [
        "<matplotlib.figure.Figure at 0x10a1c0750>"
       ]
      }
     ],
     "prompt_number": 18
    },
    {
     "cell_type": "code",
     "collapsed": false,
     "input": [
      "#Create a clasification report\n",
      "from sklearn.metrics import classification_report"
     ],
     "language": "python",
     "metadata": {},
     "outputs": [],
     "prompt_number": 19
    },
    {
     "cell_type": "code",
     "collapsed": false,
     "input": [
      "#It looks like it levels out around 40\n",
      "\n",
      "knnModel = KNeighborsClassifier(n_neighbors=40)\n",
      "knnModel.fit(X_train, y_train)\n",
      "    \n",
      "y_true = y_test\n",
      "y_pred = knnModel.predict(X_test)\n",
      "print(classification_report(y_true, y_pred))"
     ],
     "language": "python",
     "metadata": {},
     "outputs": [
      {
       "output_type": "stream",
       "stream": "stdout",
       "text": [
        "             precision    recall  f1-score   support\n",
        "\n",
        "          0       0.94      0.97      0.95      7316\n",
        "          1       0.65      0.49      0.56       922\n",
        "\n",
        "avg / total       0.91      0.91      0.91      8238\n",
        "\n"
       ]
      }
     ],
     "prompt_number": 20
    },
    {
     "cell_type": "code",
     "collapsed": false,
     "input": [
      "from sklearn.cross_validation import KFold\n",
      "num_rows = yData.shape[0]\n",
      "y = np.zeros((num_rows))\n",
      "\n",
      "kf = KFold(num_rows, n_folds=5)\n",
      "y_pred = y * 0\n",
      "for train, test in kf:\n",
      "   \n",
      "    X_train = xData.values[train,:]\n",
      "    X_test = xData.values[test,:]\n",
      "    y_train = yData.values[train]\n",
      "    y_test = yData.values[test]\n",
      "    #, X_test, y_train, y_test , xData[test,:], yData[train], yData[test]\n",
      "    clf = KNeighborsClassifier(n_neighbors=40)\n",
      "    #clf = SVC(kernel='rbf', class_weight='auto',verbose=3)\n",
      "    clf.fit(X_train, y_train)\n",
      "    y_pred[test] = clf.predict(X_test)\n",
      "\n",
      "#print(\"done in %0.3fs\" % (time() - t0))\n",
      "print(classification_report(yData.values, y_pred))"
     ],
     "language": "python",
     "metadata": {},
     "outputs": [
      {
       "output_type": "stream",
       "stream": "stdout",
       "text": [
        "             precision    recall  f1-score   support\n",
        "\n",
        "          0       0.92      0.98      0.95     36548\n",
        "          1       0.63      0.30      0.41      4640\n",
        "\n",
        "avg / total       0.88      0.90      0.89     41188\n",
        "\n"
       ]
      }
     ],
     "prompt_number": 22
    },
    {
     "cell_type": "code",
     "collapsed": false,
     "input": [
      "from sklearn.metrics import roc_curve\n",
      "from sklearn.metrics import auc\n",
      "\n",
      "def plot_roc_curve(target_test, target_predicted_proba):\n",
      "    fpr, tpr, thresholds = roc_curve(target_test, target_predicted_proba)\n",
      "    roc_auc = auc(fpr, tpr)\n",
      "    \n",
      "    # Plot ROC curve\n",
      "    plt.plot(fpr, tpr, label='ROC curve (area = %0.3f)' % roc_auc)\n",
      "    plt.plot([0, 1], [0, 1], 'k--')  # random predictions curve\n",
      "    plt.xlim([0.0, 1.0])\n",
      "    plt.ylim([0.0, 1.0])\n",
      "    plt.xlabel('False Positive Rate or (1 - Specifity)')\n",
      "    plt.ylabel('True Positive Rate or (Sensitivity)')\n",
      "    plt.title('Receiver Operating Characteristic')\n",
      "    plt.legend(loc=\"lower right\")"
     ],
     "language": "python",
     "metadata": {},
     "outputs": [],
     "prompt_number": 23
    },
    {
     "cell_type": "code",
     "collapsed": false,
     "input": [
      "plot_roc_curve(yData.values, y_pred)\n",
      "y_pred.shape"
     ],
     "language": "python",
     "metadata": {},
     "outputs": [
      {
       "metadata": {},
       "output_type": "pyout",
       "prompt_number": 24,
       "text": [
        "(41188,)"
       ]
      },
      {
       "metadata": {},
       "output_type": "display_data",
       "png": "[encoded data removed]",
       "text": [
        "<matplotlib.figure.Figure at 0x10bbb0f10>"
       ]
      }
     ],
     "prompt_number": 24
    },
    {
     "cell_type": "code",
     "collapsed": false,
     "input": [
      "num_rows = yData.shape[0]\n",
      "y = np.zeros((num_rows))\n",
      "\n",
      "kf = KFold(num_rows, n_folds=5)\n",
      "y_pred = y * 0\n",
      "for train, test in kf:\n",
      "   \n",
      "    X_train = xData.values[train,:]\n",
      "    X_test = xData.values[test,:]\n",
      "    y_train = yData.values[train]\n",
      "    y_test = yData.values[test]\n",
      "    #, X_test, y_train, y_test , xData[test,:], yData[train], yData[test]\n",
      "    clf = KNeighborsClassifier(n_neighbors=10)\n",
      "    #clf = SVC(kernel='rbf', class_weight='auto',verbose=3)\n",
      "    clf.fit(X_train, y_train)\n",
      "    y_pred[test] = clf.predict(X_test)\n",
      "\n",
      "#print(\"done in %0.3fs\" % (time() - t0))\n",
      "print(classification_report(yData.values, y_pred))\n",
      "plot_roc_curve(yData.values, y_pred)\n",
      "y_pred.shape"
     ],
     "language": "python",
     "metadata": {},
     "outputs": [
      {
       "output_type": "stream",
       "stream": "stdout",
       "text": [
        "             precision    recall  f1-score   support\n",
        "\n",
        "          0       0.91      0.98      0.94     36548\n",
        "          1       0.62      0.24      0.35      4640\n",
        "\n",
        "avg / total       0.88      0.90      0.88     41188\n",
        "\n"
       ]
      },
      {
       "metadata": {},
       "output_type": "pyout",
       "prompt_number": 26,
       "text": [
        "(41188,)"
       ]
      },
      {
       "metadata": {},
       "output_type": "display_data",
       "png": "[encoded data removed]",
       "text": [
        "<matplotlib.figure.Figure at 0x10c99c0d0>"
       ]
      }
     ],
     "prompt_number": 26
    },
    {
     "cell_type": "heading",
     "level": 4,
     "metadata": {},
     "source": [
      "#40 was beter"
     ]
    },
    {
     "cell_type": "code",
     "collapsed": false,
     "input": [
      "#randomForsest\n",
      "\n",
      "treeSizes = np.arange(5, 80,5)\n",
      "training_error = []\n",
      "test_error = []\n",
      "mse = metrics.mean_squared_error\n",
      "\n",
      "for treeSize in treeSizes:\n",
      "    model = RandomForestClassifier(n_estimators=treeSize)\n",
      "    model.fit(X_train, y_train)\n",
      "    training_error.append(mse(model.predict(X_train), y_train))\n",
      "    test_error.append(mse(model.predict(X_test), y_test))\n",
      "    \n",
      "# note that the test error can also be computed via cross-validation\n",
      "plt.plot(treeSizes, training_error, label='training')\n",
      "plt.plot(treeSizes, test_error, label='test')\n",
      "plt.legend()\n",
      "plt.xlabel('Tree Sizes')\n",
      "plt.ylabel('MSE')\n"
     ],
     "language": "python",
     "metadata": {},
     "outputs": [
      {
       "metadata": {},
       "output_type": "pyout",
       "prompt_number": 27,
       "text": [
        "<matplotlib.text.Text at 0x10a206810>"
       ]
      },
      {
       "metadata": {},
       "output_type": "display_data",
       "png": "[encoded data removed]",
       "text": [
        "<matplotlib.figure.Figure at 0x10c893710>"
       ]
      }
     ],
     "prompt_number": 27
    },
    {
     "cell_type": "code",
     "collapsed": false,
     "input": [
      "#lets zoom\n",
      "training_error = []\n",
      "test_error = []\n",
      "mse = metrics.mean_squared_error\n",
      "\n",
      "for treeSize in treeSizes:\n",
      "    model = RandomForestClassifier(n_estimators=treeSize)\n",
      "    model.fit(X_train, y_train)\n",
      "    training_error.append(mse(model.predict(X_train), y_train)*10)\n",
      "    test_error.append(mse(model.predict(X_test), y_test))\n",
      "    \n",
      "# note that the test error can also be computed via cross-validation\n",
      "plt.plot(treeSizes, training_error, label='training * 10')\n",
      "plt.plot(treeSizes, test_error, label='test')\n",
      "plt.legend()\n",
      "plt.xlabel('Tree Sizes')\n",
      "plt.ylabel('MSE')"
     ],
     "language": "python",
     "metadata": {},
     "outputs": [
      {
       "metadata": {},
       "output_type": "pyout",
       "prompt_number": 28,
       "text": [
        "<matplotlib.text.Text at 0x10c6a7f90>"
       ]
      },
      {
       "metadata": {},
       "output_type": "display_data",
       "png": "[encoded data removed]",
       "text": [
        "<matplotlib.figure.Figure at 0x10d7d2dd0>"
       ]
      }
     ],
     "prompt_number": 28
    },
    {
     "cell_type": "code",
     "collapsed": false,
     "input": [
      "#it doesn't look like you gain much past 40\n",
      "treeModel = RandomForestClassifier(n_estimators=40)\n",
      "treeModel.fit(X_train, y_train)\n",
      "    \n",
      "y_true = y_test\n",
      "y_pred = treeModel.predict(X_test)\n",
      "print(classification_report(y_true, y_pred))"
     ],
     "language": "python",
     "metadata": {},
     "outputs": [
      {
       "output_type": "stream",
       "stream": "stdout",
       "text": [
        "             precision    recall  f1-score   support\n",
        "\n",
        "          0       0.71      0.98      0.82      5697\n",
        "          1       0.69      0.10      0.18      2540\n",
        "\n",
        "avg / total       0.70      0.71      0.62      8237\n",
        "\n"
       ]
      }
     ],
     "prompt_number": 29
    },
    {
     "cell_type": "code",
     "collapsed": false,
     "input": [
      "#treeModel.feature_importances_\n",
      "\n",
      "labels = []\n",
      "'''\n",
      "for i in range(0,X_train.size):\n",
      "    desc = xLabels[i]\n",
      "    val = treeModel.feature_importances_[i]'''\n",
      "sorted(zip(treeModel.feature_importances_, xlabels), reverse=True)\n",
      "    "
     ],
     "language": "python",
     "metadata": {},
     "outputs": [
      {
       "metadata": {},
       "output_type": "pyout",
       "prompt_number": 30,
       "text": [
        "[(0.48631183535186012, 'duration'),\n",
        " (0.11847951848887675, 'euribor3m'),\n",
        " (0.074231561058483608, 'job_encoded'),\n",
        " (0.067134421623104734, 'campaign'),\n",
        " (0.064304197039605965, 'education_encoded'),\n",
        " (0.036468564935170568, 'marital_encoded'),\n",
        " (0.027250680516874043, 'housing_encoded'),\n",
        " (0.023606615027988137, 'cons.conf.idx'),\n",
        " (0.021415948315049178, 'cons.price.idx'),\n",
        " (0.018669178631437012, 'loan_encoded'),\n",
        " (0.017975940146505678, 'default_encoded'),\n",
        " (0.0089512349909321512, 'contact_encoded'),\n",
        " (0.0087305468712896902, 'poutcome_encoded'),\n",
        " (0.0079248570405251843, 'emp.var.rate'),\n",
        " (0.0066932963580999842, 'nr.employed'),\n",
        " (0.00613727644552047, 'previous'),\n",
        " (0.0057143271586768737, 'pdays')]"
       ]
      }
     ],
     "prompt_number": 30
    },
    {
     "cell_type": "code",
     "collapsed": false,
     "input": [
      "\n"
     ],
     "language": "python",
     "metadata": {},
     "outputs": [],
     "prompt_number": 91
    },
    {
     "cell_type": "code",
     "collapsed": false,
     "input": [
      "num_rows = yData.shape[0]\n",
      "y = np.zeros((num_rows))\n",
      "\n",
      "kf = KFold(num_rows, n_folds=5)\n",
      "y_pred = y * 0\n",
      "for train, test in kf:\n",
      "   \n",
      "    X_train = xData.values[train,:]\n",
      "    X_test = xData.values[test,:]\n",
      "    y_train = yData.values[train]\n",
      "    y_test = yData.values[test]\n",
      "    #, X_test, y_train, y_test , xData[test,:], yData[train], yData[test]\n",
      "    clf = RandomForestClassifier(n_estimators=40, n_jobs=3)\n",
      "    #clf = SVC(kernel='rbf', class_weight='auto',verbose=3)\n",
      "    clf.fit(X_train, y_train)\n",
      "    y_pred[test] = clf.predict(X_test)\n",
      "    '''\n",
      "    print test\n",
      "    '''\n",
      "#print(\"done in %0.3fs\" % (time() - t0))\n",
      "print(classification_report(yData.values, y_pred))\n"
     ],
     "language": "python",
     "metadata": {},
     "outputs": [
      {
       "output_type": "stream",
       "stream": "stdout",
       "text": [
        "             precision    recall  f1-score   support\n",
        "\n",
        "          0       0.90      0.98      0.94     36548\n",
        "          1       0.53      0.18      0.27      4640\n",
        "\n",
        "avg / total       0.86      0.89      0.86     41188\n",
        "\n"
       ]
      }
     ],
     "prompt_number": 31
    },
    {
     "cell_type": "code",
     "collapsed": false,
     "input": [
      "plot_roc_curve(yData.values, y_pred)"
     ],
     "language": "python",
     "metadata": {},
     "outputs": [
      {
       "metadata": {},
       "output_type": "display_data",
       "png": "[encoded data removed]",
       "text": [
        "<matplotlib.figure.Figure at 0x10c75bf90>"
       ]
      }
     ],
     "prompt_number": 32
    },
    {
     "cell_type": "code",
     "collapsed": false,
     "input": [
      "roc_curve(yData.values, y_pred)"
     ],
     "language": "python",
     "metadata": {},
     "outputs": [
      {
       "metadata": {},
       "output_type": "pyout",
       "prompt_number": 33,
       "text": [
        "(array([ 0.        ,  0.01980957,  1.        ]),\n",
        " array([ 0.        ,  0.17715517,  1.        ]),\n",
        " array([ 2.,  1.,  0.]))"
       ]
      }
     ],
     "prompt_number": 33
    }
   ],
   "metadata": {}
  }
 ]
}