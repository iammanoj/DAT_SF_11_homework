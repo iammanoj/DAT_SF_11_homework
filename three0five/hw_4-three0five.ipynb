{
 "metadata": {
  "name": "",
  "signature": "sha256:f33dda379fde297e1bcb142cb35b31fd8cde9cbed8b22103838ce71ca6564cd3"
 },
 "nbformat": 3,
 "nbformat_minor": 0,
 "worksheets": [
  {
   "cells": [
    {
     "cell_type": "markdown",
     "metadata": {},
     "source": [
      "## Homework 4:\n",
      "\n",
      "1. Follow the steps below to:\n",
      "    - Read `wine.csv` in the data folder.\n",
      "    - The First Column contains the Wine Category.  Don't use it in the models below.  We are going to treat it as unsupervized learning and compare the results to the Wine column.\n",
      "2. Try `KMeans` where `n_clusters = 3` and compare the clusters to the `Wine` column.\n",
      "3. Try PCA and see how much can you reduce the variable space.\n",
      "    - How many Components did you need to explain 99% of variance in this dataset?\n",
      "    - Plot the PCA variables to see if it brings out the clusters.\n",
      "5. Try `KMeans` and Hierarchical Clustering using data from PCA and compare again the clusters to the `Wine` column."
     ]
    },
    {
     "cell_type": "markdown",
     "metadata": {},
     "source": [
      "#### Dataset\n",
      "\n",
      "wine.csv is in data folder under homeworks"
     ]
    },
    {
     "cell_type": "code",
     "collapsed": false,
     "input": [
      "import pandas as pd\n",
      "import numpy as np\n",
      "from sklearn.cluster import KMeans\n",
      "import matplotlib.pyplot as plt\n",
      "%matplotlib inline"
     ],
     "language": "python",
     "metadata": {},
     "outputs": [],
     "prompt_number": 209
    },
    {
     "cell_type": "code",
     "collapsed": false,
     "input": [
      "wine_all=pd.read_csv('../data/wine.csv')"
     ],
     "language": "python",
     "metadata": {},
     "outputs": [],
     "prompt_number": 210
    },
    {
     "cell_type": "code",
     "collapsed": false,
     "input": [
      "wine_all.head()"
     ],
     "language": "python",
     "metadata": {},
     "outputs": [
      {
       "html": [
        "<div style=\"max-height:1000px;max-width:1500px;overflow:auto;\">\n",
        "<table border=\"1\" class=\"dataframe\">\n",
        "  <thead>\n",
        "    <tr style=\"text-align: right;\">\n",
        "      <th></th>\n",
        "      <th>Wine</th>\n",
        "      <th>Alcohol</th>\n",
        "      <th>Malic.acid</th>\n",
        "      <th>Ash</th>\n",
        "      <th>Acl</th>\n",
        "      <th>Mg</th>\n",
        "      <th>Phenols</th>\n",
        "      <th>Flavanoids</th>\n",
        "      <th>Nonflavanoid.phenols</th>\n",
        "      <th>Proanth</th>\n",
        "      <th>Color.int</th>\n",
        "      <th>Hue</th>\n",
        "      <th>OD</th>\n",
        "      <th>Proline</th>\n",
        "    </tr>\n",
        "  </thead>\n",
        "  <tbody>\n",
        "    <tr>\n",
        "      <th>0</th>\n",
        "      <td> 1</td>\n",
        "      <td> 14.23</td>\n",
        "      <td> 1.71</td>\n",
        "      <td> 2.43</td>\n",
        "      <td> 15.6</td>\n",
        "      <td> 127</td>\n",
        "      <td> 2.80</td>\n",
        "      <td> 3.06</td>\n",
        "      <td> 0.28</td>\n",
        "      <td> 2.29</td>\n",
        "      <td> 5.64</td>\n",
        "      <td> 1.04</td>\n",
        "      <td> 3.92</td>\n",
        "      <td> 1065</td>\n",
        "    </tr>\n",
        "    <tr>\n",
        "      <th>1</th>\n",
        "      <td> 1</td>\n",
        "      <td> 13.20</td>\n",
        "      <td> 1.78</td>\n",
        "      <td> 2.14</td>\n",
        "      <td> 11.2</td>\n",
        "      <td> 100</td>\n",
        "      <td> 2.65</td>\n",
        "      <td> 2.76</td>\n",
        "      <td> 0.26</td>\n",
        "      <td> 1.28</td>\n",
        "      <td> 4.38</td>\n",
        "      <td> 1.05</td>\n",
        "      <td> 3.40</td>\n",
        "      <td> 1050</td>\n",
        "    </tr>\n",
        "    <tr>\n",
        "      <th>2</th>\n",
        "      <td> 1</td>\n",
        "      <td> 13.16</td>\n",
        "      <td> 2.36</td>\n",
        "      <td> 2.67</td>\n",
        "      <td> 18.6</td>\n",
        "      <td> 101</td>\n",
        "      <td> 2.80</td>\n",
        "      <td> 3.24</td>\n",
        "      <td> 0.30</td>\n",
        "      <td> 2.81</td>\n",
        "      <td> 5.68</td>\n",
        "      <td> 1.03</td>\n",
        "      <td> 3.17</td>\n",
        "      <td> 1185</td>\n",
        "    </tr>\n",
        "    <tr>\n",
        "      <th>3</th>\n",
        "      <td> 1</td>\n",
        "      <td> 14.37</td>\n",
        "      <td> 1.95</td>\n",
        "      <td> 2.50</td>\n",
        "      <td> 16.8</td>\n",
        "      <td> 113</td>\n",
        "      <td> 3.85</td>\n",
        "      <td> 3.49</td>\n",
        "      <td> 0.24</td>\n",
        "      <td> 2.18</td>\n",
        "      <td> 7.80</td>\n",
        "      <td> 0.86</td>\n",
        "      <td> 3.45</td>\n",
        "      <td> 1480</td>\n",
        "    </tr>\n",
        "    <tr>\n",
        "      <th>4</th>\n",
        "      <td> 1</td>\n",
        "      <td> 13.24</td>\n",
        "      <td> 2.59</td>\n",
        "      <td> 2.87</td>\n",
        "      <td> 21.0</td>\n",
        "      <td> 118</td>\n",
        "      <td> 2.80</td>\n",
        "      <td> 2.69</td>\n",
        "      <td> 0.39</td>\n",
        "      <td> 1.82</td>\n",
        "      <td> 4.32</td>\n",
        "      <td> 1.04</td>\n",
        "      <td> 2.93</td>\n",
        "      <td>  735</td>\n",
        "    </tr>\n",
        "  </tbody>\n",
        "</table>\n",
        "</div>"
       ],
       "metadata": {},
       "output_type": "pyout",
       "prompt_number": 211,
       "text": [
        "   Wine  Alcohol  Malic.acid   Ash   Acl   Mg  Phenols  Flavanoids  \\\n",
        "0     1    14.23        1.71  2.43  15.6  127     2.80        3.06   \n",
        "1     1    13.20        1.78  2.14  11.2  100     2.65        2.76   \n",
        "2     1    13.16        2.36  2.67  18.6  101     2.80        3.24   \n",
        "3     1    14.37        1.95  2.50  16.8  113     3.85        3.49   \n",
        "4     1    13.24        2.59  2.87  21.0  118     2.80        2.69   \n",
        "\n",
        "   Nonflavanoid.phenols  Proanth  Color.int   Hue    OD  Proline  \n",
        "0                  0.28     2.29       5.64  1.04  3.92     1065  \n",
        "1                  0.26     1.28       4.38  1.05  3.40     1050  \n",
        "2                  0.30     2.81       5.68  1.03  3.17     1185  \n",
        "3                  0.24     2.18       7.80  0.86  3.45     1480  \n",
        "4                  0.39     1.82       4.32  1.04  2.93      735  "
       ]
      }
     ],
     "prompt_number": 211
    },
    {
     "cell_type": "code",
     "collapsed": false,
     "input": [
      "wine_all.describe()"
     ],
     "language": "python",
     "metadata": {},
     "outputs": [
      {
       "html": [
        "<div style=\"max-height:1000px;max-width:1500px;overflow:auto;\">\n",
        "<table border=\"1\" class=\"dataframe\">\n",
        "  <thead>\n",
        "    <tr style=\"text-align: right;\">\n",
        "      <th></th>\n",
        "      <th>Wine</th>\n",
        "      <th>Alcohol</th>\n",
        "      <th>Malic.acid</th>\n",
        "      <th>Ash</th>\n",
        "      <th>Acl</th>\n",
        "      <th>Mg</th>\n",
        "      <th>Phenols</th>\n",
        "      <th>Flavanoids</th>\n",
        "      <th>Nonflavanoid.phenols</th>\n",
        "      <th>Proanth</th>\n",
        "      <th>Color.int</th>\n",
        "      <th>Hue</th>\n",
        "      <th>OD</th>\n",
        "      <th>Proline</th>\n",
        "    </tr>\n",
        "  </thead>\n",
        "  <tbody>\n",
        "    <tr>\n",
        "      <th>count</th>\n",
        "      <td> 178.000000</td>\n",
        "      <td> 178.000000</td>\n",
        "      <td> 178.000000</td>\n",
        "      <td> 178.000000</td>\n",
        "      <td> 178.000000</td>\n",
        "      <td> 178.000000</td>\n",
        "      <td> 178.000000</td>\n",
        "      <td> 178.000000</td>\n",
        "      <td> 178.000000</td>\n",
        "      <td> 178.000000</td>\n",
        "      <td> 178.000000</td>\n",
        "      <td> 178.000000</td>\n",
        "      <td> 178.000000</td>\n",
        "      <td>  178.000000</td>\n",
        "    </tr>\n",
        "    <tr>\n",
        "      <th>mean</th>\n",
        "      <td>   1.938202</td>\n",
        "      <td>  13.000618</td>\n",
        "      <td>   2.336348</td>\n",
        "      <td>   2.366517</td>\n",
        "      <td>  19.494944</td>\n",
        "      <td>  99.741573</td>\n",
        "      <td>   2.295112</td>\n",
        "      <td>   2.029270</td>\n",
        "      <td>   0.361854</td>\n",
        "      <td>   1.590899</td>\n",
        "      <td>   5.058090</td>\n",
        "      <td>   0.957449</td>\n",
        "      <td>   2.611685</td>\n",
        "      <td>  746.893258</td>\n",
        "    </tr>\n",
        "    <tr>\n",
        "      <th>std</th>\n",
        "      <td>   0.775035</td>\n",
        "      <td>   0.811827</td>\n",
        "      <td>   1.117146</td>\n",
        "      <td>   0.274344</td>\n",
        "      <td>   3.339564</td>\n",
        "      <td>  14.282484</td>\n",
        "      <td>   0.625851</td>\n",
        "      <td>   0.998859</td>\n",
        "      <td>   0.124453</td>\n",
        "      <td>   0.572359</td>\n",
        "      <td>   2.318286</td>\n",
        "      <td>   0.228572</td>\n",
        "      <td>   0.709990</td>\n",
        "      <td>  314.907474</td>\n",
        "    </tr>\n",
        "    <tr>\n",
        "      <th>min</th>\n",
        "      <td>   1.000000</td>\n",
        "      <td>  11.030000</td>\n",
        "      <td>   0.740000</td>\n",
        "      <td>   1.360000</td>\n",
        "      <td>  10.600000</td>\n",
        "      <td>  70.000000</td>\n",
        "      <td>   0.980000</td>\n",
        "      <td>   0.340000</td>\n",
        "      <td>   0.130000</td>\n",
        "      <td>   0.410000</td>\n",
        "      <td>   1.280000</td>\n",
        "      <td>   0.480000</td>\n",
        "      <td>   1.270000</td>\n",
        "      <td>  278.000000</td>\n",
        "    </tr>\n",
        "    <tr>\n",
        "      <th>25%</th>\n",
        "      <td>   1.000000</td>\n",
        "      <td>  12.362500</td>\n",
        "      <td>   1.602500</td>\n",
        "      <td>   2.210000</td>\n",
        "      <td>  17.200000</td>\n",
        "      <td>  88.000000</td>\n",
        "      <td>   1.742500</td>\n",
        "      <td>   1.205000</td>\n",
        "      <td>   0.270000</td>\n",
        "      <td>   1.250000</td>\n",
        "      <td>   3.220000</td>\n",
        "      <td>   0.782500</td>\n",
        "      <td>   1.937500</td>\n",
        "      <td>  500.500000</td>\n",
        "    </tr>\n",
        "    <tr>\n",
        "      <th>50%</th>\n",
        "      <td>   2.000000</td>\n",
        "      <td>  13.050000</td>\n",
        "      <td>   1.865000</td>\n",
        "      <td>   2.360000</td>\n",
        "      <td>  19.500000</td>\n",
        "      <td>  98.000000</td>\n",
        "      <td>   2.355000</td>\n",
        "      <td>   2.135000</td>\n",
        "      <td>   0.340000</td>\n",
        "      <td>   1.555000</td>\n",
        "      <td>   4.690000</td>\n",
        "      <td>   0.965000</td>\n",
        "      <td>   2.780000</td>\n",
        "      <td>  673.500000</td>\n",
        "    </tr>\n",
        "    <tr>\n",
        "      <th>75%</th>\n",
        "      <td>   3.000000</td>\n",
        "      <td>  13.677500</td>\n",
        "      <td>   3.082500</td>\n",
        "      <td>   2.557500</td>\n",
        "      <td>  21.500000</td>\n",
        "      <td> 107.000000</td>\n",
        "      <td>   2.800000</td>\n",
        "      <td>   2.875000</td>\n",
        "      <td>   0.437500</td>\n",
        "      <td>   1.950000</td>\n",
        "      <td>   6.200000</td>\n",
        "      <td>   1.120000</td>\n",
        "      <td>   3.170000</td>\n",
        "      <td>  985.000000</td>\n",
        "    </tr>\n",
        "    <tr>\n",
        "      <th>max</th>\n",
        "      <td>   3.000000</td>\n",
        "      <td>  14.830000</td>\n",
        "      <td>   5.800000</td>\n",
        "      <td>   3.230000</td>\n",
        "      <td>  30.000000</td>\n",
        "      <td> 162.000000</td>\n",
        "      <td>   3.880000</td>\n",
        "      <td>   5.080000</td>\n",
        "      <td>   0.660000</td>\n",
        "      <td>   3.580000</td>\n",
        "      <td>  13.000000</td>\n",
        "      <td>   1.710000</td>\n",
        "      <td>   4.000000</td>\n",
        "      <td> 1680.000000</td>\n",
        "    </tr>\n",
        "  </tbody>\n",
        "</table>\n",
        "</div>"
       ],
       "metadata": {},
       "output_type": "pyout",
       "prompt_number": 212,
       "text": [
        "             Wine     Alcohol  Malic.acid         Ash         Acl          Mg  \\\n",
        "count  178.000000  178.000000  178.000000  178.000000  178.000000  178.000000   \n",
        "mean     1.938202   13.000618    2.336348    2.366517   19.494944   99.741573   \n",
        "std      0.775035    0.811827    1.117146    0.274344    3.339564   14.282484   \n",
        "min      1.000000   11.030000    0.740000    1.360000   10.600000   70.000000   \n",
        "25%      1.000000   12.362500    1.602500    2.210000   17.200000   88.000000   \n",
        "50%      2.000000   13.050000    1.865000    2.360000   19.500000   98.000000   \n",
        "75%      3.000000   13.677500    3.082500    2.557500   21.500000  107.000000   \n",
        "max      3.000000   14.830000    5.800000    3.230000   30.000000  162.000000   \n",
        "\n",
        "          Phenols  Flavanoids  Nonflavanoid.phenols     Proanth   Color.int  \\\n",
        "count  178.000000  178.000000            178.000000  178.000000  178.000000   \n",
        "mean     2.295112    2.029270              0.361854    1.590899    5.058090   \n",
        "std      0.625851    0.998859              0.124453    0.572359    2.318286   \n",
        "min      0.980000    0.340000              0.130000    0.410000    1.280000   \n",
        "25%      1.742500    1.205000              0.270000    1.250000    3.220000   \n",
        "50%      2.355000    2.135000              0.340000    1.555000    4.690000   \n",
        "75%      2.800000    2.875000              0.437500    1.950000    6.200000   \n",
        "max      3.880000    5.080000              0.660000    3.580000   13.000000   \n",
        "\n",
        "              Hue          OD      Proline  \n",
        "count  178.000000  178.000000   178.000000  \n",
        "mean     0.957449    2.611685   746.893258  \n",
        "std      0.228572    0.709990   314.907474  \n",
        "min      0.480000    1.270000   278.000000  \n",
        "25%      0.782500    1.937500   500.500000  \n",
        "50%      0.965000    2.780000   673.500000  \n",
        "75%      1.120000    3.170000   985.000000  \n",
        "max      1.710000    4.000000  1680.000000  "
       ]
      }
     ],
     "prompt_number": 212
    },
    {
     "cell_type": "code",
     "collapsed": false,
     "input": [
      "wine_all.info()"
     ],
     "language": "python",
     "metadata": {},
     "outputs": [
      {
       "output_type": "stream",
       "stream": "stdout",
       "text": [
        "<class 'pandas.core.frame.DataFrame'>\n",
        "Int64Index: 178 entries, 0 to 177\n",
        "Data columns (total 14 columns):\n",
        "Wine                    178 non-null int64\n",
        "Alcohol                 178 non-null float64\n",
        "Malic.acid              178 non-null float64\n",
        "Ash                     178 non-null float64\n",
        "Acl                     178 non-null float64\n",
        "Mg                      178 non-null int64\n",
        "Phenols                 178 non-null float64\n",
        "Flavanoids              178 non-null float64\n",
        "Nonflavanoid.phenols    178 non-null float64\n",
        "Proanth                 178 non-null float64\n",
        "Color.int               178 non-null float64\n",
        "Hue                     178 non-null float64\n",
        "OD                      178 non-null float64\n",
        "Proline                 178 non-null int64\n",
        "dtypes: float64(11), int64(3)\n",
        "memory usage: 20.9 KB\n"
       ]
      }
     ],
     "prompt_number": 213
    },
    {
     "cell_type": "code",
     "collapsed": false,
     "input": [
      "X = wine_all.ix[:,1:]"
     ],
     "language": "python",
     "metadata": {},
     "outputs": [],
     "prompt_number": 214
    },
    {
     "cell_type": "code",
     "collapsed": false,
     "input": [
      "X=X.values\n",
      "X"
     ],
     "language": "python",
     "metadata": {},
     "outputs": [
      {
       "metadata": {},
       "output_type": "pyout",
       "prompt_number": 215,
       "text": [
        "array([[  1.42300000e+01,   1.71000000e+00,   2.43000000e+00, ...,\n",
        "          1.04000000e+00,   3.92000000e+00,   1.06500000e+03],\n",
        "       [  1.32000000e+01,   1.78000000e+00,   2.14000000e+00, ...,\n",
        "          1.05000000e+00,   3.40000000e+00,   1.05000000e+03],\n",
        "       [  1.31600000e+01,   2.36000000e+00,   2.67000000e+00, ...,\n",
        "          1.03000000e+00,   3.17000000e+00,   1.18500000e+03],\n",
        "       ..., \n",
        "       [  1.32700000e+01,   4.28000000e+00,   2.26000000e+00, ...,\n",
        "          5.90000000e-01,   1.56000000e+00,   8.35000000e+02],\n",
        "       [  1.31700000e+01,   2.59000000e+00,   2.37000000e+00, ...,\n",
        "          6.00000000e-01,   1.62000000e+00,   8.40000000e+02],\n",
        "       [  1.41300000e+01,   4.10000000e+00,   2.74000000e+00, ...,\n",
        "          6.10000000e-01,   1.60000000e+00,   5.60000000e+02]])"
       ]
      }
     ],
     "prompt_number": 215
    },
    {
     "cell_type": "code",
     "collapsed": false,
     "input": [
      "from sklearn.preprocessing import StandardScaler\n",
      "\n",
      "scale = StandardScaler()"
     ],
     "language": "python",
     "metadata": {},
     "outputs": [],
     "prompt_number": 216
    },
    {
     "cell_type": "code",
     "collapsed": false,
     "input": [
      "X = scale.fit_transform(X)\n",
      "X"
     ],
     "language": "python",
     "metadata": {},
     "outputs": [
      {
       "metadata": {},
       "output_type": "pyout",
       "prompt_number": 217,
       "text": [
        "array([[ 1.51861254, -0.5622498 ,  0.23205254, ...,  0.36217728,\n",
        "         1.84791957,  1.01300893],\n",
        "       [ 0.24628963, -0.49941338, -0.82799632, ...,  0.40605066,\n",
        "         1.1134493 ,  0.96524152],\n",
        "       [ 0.19687903,  0.02123125,  1.10933436, ...,  0.31830389,\n",
        "         0.78858745,  1.39514818],\n",
        "       ..., \n",
        "       [ 0.33275817,  1.74474449, -0.38935541, ..., -1.61212515,\n",
        "        -1.48544548,  0.28057537],\n",
        "       [ 0.20923168,  0.22769377,  0.01273209, ..., -1.56825176,\n",
        "        -1.40069891,  0.29649784],\n",
        "       [ 1.39508604,  1.58316512,  1.36520822, ..., -1.52437837,\n",
        "        -1.42894777, -0.59516041]])"
       ]
      }
     ],
     "prompt_number": 217
    },
    {
     "cell_type": "code",
     "collapsed": false,
     "input": [
      "kmeans = KMeans(n_clusters=3, init='random', n_init=10 , max_iter = 300, random_state=1)"
     ],
     "language": "python",
     "metadata": {},
     "outputs": [],
     "prompt_number": 218
    },
    {
     "cell_type": "code",
     "collapsed": false,
     "input": [
      "Y_hat_kmeans = kmeans.fit(X).labels_"
     ],
     "language": "python",
     "metadata": {},
     "outputs": [],
     "prompt_number": 219
    },
    {
     "cell_type": "code",
     "collapsed": false,
     "input": [
      "Y_hat_kmeans"
     ],
     "language": "python",
     "metadata": {},
     "outputs": [
      {
       "metadata": {},
       "output_type": "pyout",
       "prompt_number": 220,
       "text": [
        "array([1, 1, 1, 1, 1, 1, 1, 1, 1, 1, 1, 1, 1, 1, 1, 1, 1, 1, 1, 1, 1, 1, 1,\n",
        "       1, 1, 1, 1, 1, 1, 1, 1, 1, 1, 1, 1, 1, 1, 1, 1, 1, 1, 1, 1, 1, 1, 1,\n",
        "       1, 1, 1, 1, 1, 1, 1, 1, 1, 1, 1, 1, 1, 0, 0, 2, 0, 0, 0, 0, 0, 0, 0,\n",
        "       0, 0, 0, 0, 1, 0, 0, 0, 0, 0, 0, 0, 0, 0, 2, 0, 0, 0, 0, 0, 0, 0, 0,\n",
        "       0, 0, 0, 1, 0, 0, 0, 0, 0, 0, 0, 0, 0, 0, 0, 0, 0, 0, 0, 0, 0, 0, 0,\n",
        "       0, 0, 0, 2, 0, 0, 1, 0, 0, 0, 0, 0, 0, 0, 0, 2, 2, 2, 2, 2, 2, 2, 2,\n",
        "       2, 2, 2, 2, 2, 2, 2, 2, 2, 2, 2, 2, 2, 2, 2, 2, 2, 2, 2, 2, 2, 2, 2,\n",
        "       2, 2, 2, 2, 2, 2, 2, 2, 2, 2, 2, 2, 2, 2, 2, 2, 2], dtype=int32)"
       ]
      }
     ],
     "prompt_number": 220
    },
    {
     "cell_type": "code",
     "collapsed": false,
     "input": [
      "plt.scatter(X[:,0], X[:,1], c=Y_hat_kmeans);"
     ],
     "language": "python",
     "metadata": {},
     "outputs": [
      {
       "metadata": {},
       "output_type": "display_data",
       "png": "[encoded data removed]",
       "text": [
        "<matplotlib.figure.Figure at 0x10efaf410>"
       ]
      }
     ],
     "prompt_number": 221
    },
    {
     "cell_type": "code",
     "collapsed": false,
     "input": [
      "mu = kmeans.cluster_centers_\n",
      "mu"
     ],
     "language": "python",
     "metadata": {},
     "outputs": [
      {
       "metadata": {},
       "output_type": "pyout",
       "prompt_number": 222,
       "text": [
        "array([[-0.92607185, -0.39404154, -0.49451676,  0.17060184, -0.49171185,\n",
        "        -0.07598265,  0.02081257, -0.03353357,  0.0582655 , -0.90191402,\n",
        "         0.46180361,  0.27076419, -0.75384618],\n",
        "       [ 0.83523208, -0.30380968,  0.36470604, -0.61019129,  0.5775868 ,\n",
        "         0.88523736,  0.97781956, -0.56208965,  0.58028658,  0.17106348,\n",
        "         0.47398365,  0.77924711,  1.12518529],\n",
        "       [ 0.16490746,  0.87154706,  0.18689833,  0.52436746, -0.07547277,\n",
        "        -0.97933029, -1.21524764,  0.72606354, -0.77970639,  0.94153874,\n",
        "        -1.16478865, -1.29241163, -0.40708796]])"
       ]
      }
     ],
     "prompt_number": 222
    },
    {
     "cell_type": "code",
     "collapsed": false,
     "input": [
      "plt.scatter(X[:,0], X[:,1], c=Y_hat_kmeans, alpha=0.4)\n",
      "plt.scatter(mu[:,0], mu[:,1], s=100, c=np.unique(Y_hat_kmeans));\n"
     ],
     "language": "python",
     "metadata": {},
     "outputs": [
      {
       "metadata": {},
       "output_type": "display_data",
       "png": "[encoded data removed]",
       "text": [
        "<matplotlib.figure.Figure at 0x1119180d0>"
       ]
      }
     ],
     "prompt_number": 223
    },
    {
     "cell_type": "code",
     "collapsed": false,
     "input": [
      "wine_all['cluster']= Y_hat_kmeans"
     ],
     "language": "python",
     "metadata": {},
     "outputs": [],
     "prompt_number": 224
    },
    {
     "cell_type": "code",
     "collapsed": false,
     "input": [
      "wine_all.groupby(['cluster','Wine']).count()"
     ],
     "language": "python",
     "metadata": {},
     "outputs": [
      {
       "html": [
        "<div style=\"max-height:1000px;max-width:1500px;overflow:auto;\">\n",
        "<table border=\"1\" class=\"dataframe\">\n",
        "  <thead>\n",
        "    <tr style=\"text-align: right;\">\n",
        "      <th></th>\n",
        "      <th></th>\n",
        "      <th>Alcohol</th>\n",
        "      <th>Malic.acid</th>\n",
        "      <th>Ash</th>\n",
        "      <th>Acl</th>\n",
        "      <th>Mg</th>\n",
        "      <th>Phenols</th>\n",
        "      <th>Flavanoids</th>\n",
        "      <th>Nonflavanoid.phenols</th>\n",
        "      <th>Proanth</th>\n",
        "      <th>Color.int</th>\n",
        "      <th>Hue</th>\n",
        "      <th>OD</th>\n",
        "      <th>Proline</th>\n",
        "    </tr>\n",
        "    <tr>\n",
        "      <th>cluster</th>\n",
        "      <th>Wine</th>\n",
        "      <th></th>\n",
        "      <th></th>\n",
        "      <th></th>\n",
        "      <th></th>\n",
        "      <th></th>\n",
        "      <th></th>\n",
        "      <th></th>\n",
        "      <th></th>\n",
        "      <th></th>\n",
        "      <th></th>\n",
        "      <th></th>\n",
        "      <th></th>\n",
        "      <th></th>\n",
        "    </tr>\n",
        "  </thead>\n",
        "  <tbody>\n",
        "    <tr>\n",
        "      <th>0</th>\n",
        "      <th>2</th>\n",
        "      <td> 65</td>\n",
        "      <td> 65</td>\n",
        "      <td> 65</td>\n",
        "      <td> 65</td>\n",
        "      <td> 65</td>\n",
        "      <td> 65</td>\n",
        "      <td> 65</td>\n",
        "      <td> 65</td>\n",
        "      <td> 65</td>\n",
        "      <td> 65</td>\n",
        "      <td> 65</td>\n",
        "      <td> 65</td>\n",
        "      <td> 65</td>\n",
        "    </tr>\n",
        "    <tr>\n",
        "      <th rowspan=\"2\" valign=\"top\">1</th>\n",
        "      <th>1</th>\n",
        "      <td> 59</td>\n",
        "      <td> 59</td>\n",
        "      <td> 59</td>\n",
        "      <td> 59</td>\n",
        "      <td> 59</td>\n",
        "      <td> 59</td>\n",
        "      <td> 59</td>\n",
        "      <td> 59</td>\n",
        "      <td> 59</td>\n",
        "      <td> 59</td>\n",
        "      <td> 59</td>\n",
        "      <td> 59</td>\n",
        "      <td> 59</td>\n",
        "    </tr>\n",
        "    <tr>\n",
        "      <th>2</th>\n",
        "      <td>  3</td>\n",
        "      <td>  3</td>\n",
        "      <td>  3</td>\n",
        "      <td>  3</td>\n",
        "      <td>  3</td>\n",
        "      <td>  3</td>\n",
        "      <td>  3</td>\n",
        "      <td>  3</td>\n",
        "      <td>  3</td>\n",
        "      <td>  3</td>\n",
        "      <td>  3</td>\n",
        "      <td>  3</td>\n",
        "      <td>  3</td>\n",
        "    </tr>\n",
        "    <tr>\n",
        "      <th rowspan=\"2\" valign=\"top\">2</th>\n",
        "      <th>2</th>\n",
        "      <td>  3</td>\n",
        "      <td>  3</td>\n",
        "      <td>  3</td>\n",
        "      <td>  3</td>\n",
        "      <td>  3</td>\n",
        "      <td>  3</td>\n",
        "      <td>  3</td>\n",
        "      <td>  3</td>\n",
        "      <td>  3</td>\n",
        "      <td>  3</td>\n",
        "      <td>  3</td>\n",
        "      <td>  3</td>\n",
        "      <td>  3</td>\n",
        "    </tr>\n",
        "    <tr>\n",
        "      <th>3</th>\n",
        "      <td> 48</td>\n",
        "      <td> 48</td>\n",
        "      <td> 48</td>\n",
        "      <td> 48</td>\n",
        "      <td> 48</td>\n",
        "      <td> 48</td>\n",
        "      <td> 48</td>\n",
        "      <td> 48</td>\n",
        "      <td> 48</td>\n",
        "      <td> 48</td>\n",
        "      <td> 48</td>\n",
        "      <td> 48</td>\n",
        "      <td> 48</td>\n",
        "    </tr>\n",
        "  </tbody>\n",
        "</table>\n",
        "</div>"
       ],
       "metadata": {},
       "output_type": "pyout",
       "prompt_number": 225,
       "text": [
        "              Alcohol  Malic.acid  Ash  Acl  Mg  Phenols  Flavanoids  \\\n",
        "cluster Wine                                                           \n",
        "0       2          65          65   65   65  65       65          65   \n",
        "1       1          59          59   59   59  59       59          59   \n",
        "        2           3           3    3    3   3        3           3   \n",
        "2       2           3           3    3    3   3        3           3   \n",
        "        3          48          48   48   48  48       48          48   \n",
        "\n",
        "              Nonflavanoid.phenols  Proanth  Color.int  Hue  OD  Proline  \n",
        "cluster Wine                                                              \n",
        "0       2                       65       65         65   65  65       65  \n",
        "1       1                       59       59         59   59  59       59  \n",
        "        2                        3        3          3    3   3        3  \n",
        "2       2                        3        3          3    3   3        3  \n",
        "        3                       48       48         48   48  48       48  "
       ]
      }
     ],
     "prompt_number": 225
    },
    {
     "cell_type": "code",
     "collapsed": false,
     "input": [
      "#PCA\n",
      "from sklearn.decomposition import PCA\n",
      "pca = PCA(n_components=10)"
     ],
     "language": "python",
     "metadata": {},
     "outputs": [],
     "prompt_number": 226
    },
    {
     "cell_type": "code",
     "collapsed": false,
     "input": [
      "X_pca = pca.fit_transform(X)"
     ],
     "language": "python",
     "metadata": {},
     "outputs": [],
     "prompt_number": 227
    },
    {
     "cell_type": "code",
     "collapsed": false,
     "input": [
      "sum(pca.explained_variance_ratio_)"
     ],
     "language": "python",
     "metadata": {},
     "outputs": [
      {
       "metadata": {},
       "output_type": "pyout",
       "prompt_number": 228,
       "text": [
        "0.96169716844506403"
       ]
      }
     ],
     "prompt_number": 228
    },
    {
     "cell_type": "code",
     "collapsed": false,
     "input": [
      "pca.components_"
     ],
     "language": "python",
     "metadata": {},
     "outputs": [
      {
       "metadata": {},
       "output_type": "pyout",
       "prompt_number": 229,
       "text": [
        "array([[-0.1443294 ,  0.24518758,  0.00205106,  0.23932041, -0.14199204,\n",
        "        -0.39466085, -0.4229343 ,  0.2985331 , -0.31342949,  0.0886167 ,\n",
        "        -0.29671456, -0.37616741, -0.28675223],\n",
        "       [ 0.48365155,  0.22493093,  0.31606881, -0.0105905 ,  0.299634  ,\n",
        "         0.06503951, -0.00335981,  0.02877949,  0.03930172,  0.52999567,\n",
        "        -0.27923515, -0.16449619,  0.36490283],\n",
        "       [-0.20738262,  0.08901289,  0.6262239 ,  0.61208035,  0.13075693,\n",
        "         0.14617896,  0.1506819 ,  0.17036816,  0.14945431, -0.13730621,\n",
        "         0.08522192,  0.16600459, -0.12674592],\n",
        "       [ 0.0178563 , -0.53689028,  0.21417556, -0.06085941,  0.35179658,\n",
        "        -0.19806835, -0.15229479,  0.20330102, -0.39905653, -0.06592568,\n",
        "         0.42777141, -0.18412074,  0.23207086],\n",
        "       [-0.26566365,  0.03521363, -0.14302547,  0.06610294,  0.72704851,\n",
        "        -0.14931841, -0.10902584, -0.50070298,  0.13685982, -0.07643678,\n",
        "        -0.17361452, -0.10116099, -0.1578688 ],\n",
        "       [ 0.21353865,  0.53681385,  0.15447466, -0.10082451,  0.03814394,\n",
        "        -0.0841223 , -0.01892002, -0.25859401, -0.53379539, -0.41864414,\n",
        "         0.10598274,  0.26585107,  0.11972557],\n",
        "       [-0.05639636,  0.42052391, -0.14917061, -0.28696914,  0.3228833 ,\n",
        "        -0.02792498, -0.06068521,  0.59544729,  0.37213935, -0.22771214,\n",
        "         0.23207564, -0.0447637 ,  0.0768045 ],\n",
        "       [ 0.39613926,  0.06582674, -0.17026002,  0.42797018, -0.15636143,\n",
        "        -0.40593409, -0.18724536, -0.23328465,  0.36822675, -0.03379692,\n",
        "         0.43662362, -0.07810789,  0.12002267],\n",
        "       [-0.50861912,  0.07528304,  0.30769445, -0.20044931, -0.27140257,\n",
        "        -0.28603452, -0.04957849, -0.19550132,  0.20914487, -0.05621752,\n",
        "        -0.08582839, -0.1372269 ,  0.57578611],\n",
        "       [ 0.21160473, -0.30907994, -0.02712539,  0.05279942,  0.06787022,\n",
        "        -0.32013135, -0.16315051,  0.21553507,  0.1341839 , -0.29077518,\n",
        "        -0.52239889,  0.52370587,  0.162116  ]])"
       ]
      }
     ],
     "prompt_number": 229
    },
    {
     "cell_type": "code",
     "collapsed": false,
     "input": [
      "pca.mean_"
     ],
     "language": "python",
     "metadata": {},
     "outputs": [
      {
       "metadata": {},
       "output_type": "pyout",
       "prompt_number": 230,
       "text": [
        "array([  7.84141790e-15,   2.44498554e-16,  -4.05917497e-15,\n",
        "        -7.11041712e-17,  -2.49488320e-17,  -1.95536471e-16,\n",
        "         9.44313292e-16,  -4.17892936e-16,  -1.54059038e-15,\n",
        "        -4.12903170e-16,   1.39838203e-15,   2.12688793e-15,\n",
        "        -6.98567296e-17])"
       ]
      }
     ],
     "prompt_number": 230
    },
    {
     "cell_type": "code",
     "collapsed": false,
     "input": [
      "_ = plt.scatter(X_pca[:,0], X_pca[:,1], c=Y_hat_kmeans)"
     ],
     "language": "python",
     "metadata": {},
     "outputs": [
      {
       "metadata": {},
       "output_type": "display_data",
       "png": "[encoded data removed]",
       "text": [
        "<matplotlib.figure.Figure at 0x114b83090>"
       ]
      }
     ],
     "prompt_number": 234
    },
    {
     "cell_type": "code",
     "collapsed": false,
     "input": [
      "# compute distance matrix\n",
      "from scipy.spatial.distance import pdist, squareform\n",
      "\n",
      "# not printed as pretty, but the values are correct\n",
      "distx = squareform(pdist(X_pca, metric='euclidean'))\n",
      "distx"
     ],
     "language": "python",
     "metadata": {},
     "outputs": [
      {
       "metadata": {},
       "output_type": "pyout",
       "prompt_number": 235,
       "text": [
        "array([[ 0.        ,  3.47982308,  2.97213486, ...,  6.41551514,\n",
        "         6.02865089,  7.13919207],\n",
        "       [ 3.47982308,  0.        ,  4.12218096, ...,  6.35531216,\n",
        "         6.07859806,  7.33725989],\n",
        "       [ 2.97213486,  4.12218096,  0.        , ...,  6.16277688,\n",
        "         5.81227387,  6.34139433],\n",
        "       ..., \n",
        "       [ 6.41551514,  6.35531216,  6.16277688, ...,  0.        ,\n",
        "         1.77543674,  3.16438239],\n",
        "       [ 6.02865089,  6.07859806,  5.81227387, ...,  1.77543674,\n",
        "         0.        ,  3.22481763],\n",
        "       [ 7.13919207,  7.33725989,  6.34139433, ...,  3.16438239,\n",
        "         3.22481763,  0.        ]])"
       ]
      }
     ],
     "prompt_number": 235
    },
    {
     "cell_type": "code",
     "collapsed": false,
     "input": [
      "# perform clustering and plot the dendrogram\n",
      "from scipy.cluster.hierarchy import linkage, dendrogram\n",
      "\n",
      "R = dendrogram(linkage(distx, method='ward'), color_threshold=100)\n",
      "\n",
      "plt.xlabel('points')\n",
      "plt.ylabel('Height')\n",
      "plt.suptitle('Cluster Dendrogram', fontweight='bold', fontsize=14);"
     ],
     "language": "python",
     "metadata": {},
     "outputs": [
      {
       "metadata": {},
       "output_type": "display_data",
       "png": "[encoded data removed]",
       "text": [
        "<matplotlib.figure.Figure at 0x10fb95950>"
       ]
      }
     ],
     "prompt_number": 236
    },
    {
     "cell_type": "code",
     "collapsed": false,
     "input": [],
     "language": "python",
     "metadata": {},
     "outputs": []
    }
   ],
   "metadata": {}
  }
 ]
}