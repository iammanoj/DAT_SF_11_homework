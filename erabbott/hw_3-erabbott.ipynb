{
 "metadata": {
  "name": "",
  "signature": "sha256:c1d4b32d1a9dcae958276950ea81aa53e0ed08b7472faf77a436f890934ddc6e"
 },
 "nbformat": 3,
 "nbformat_minor": 0,
 "worksheets": [
  {
   "cells": [
    {
     "cell_type": "markdown",
     "metadata": {},
     "source": [
      "#HW 3: KNN & Random Forest\n",
      "Get your data [here](https://archive.ics.uci.edu/ml/datasets/Bank+Marketing). The data is related with direct marketing campaigns of a Portuguese banking institution. The marketing campaigns were based on phone calls. Often, more than one contact to the same client was required, in order to access if the product (bank term deposit) would be ('yes') or not ('no') subscribed. There are four datasets:\n",
      "\n",
      "1) bank-additional-full.csv with all examples (41188) and 20 inputs, ordered by date (from May 2008 to November 2010)\n",
      "\n",
      "2) bank-additional.csv with 10% of the examples (4119), randomly selected from 1), and 20 inputs.\n",
      "\n",
      "3) bank-full.csv with all examples and 17 inputs, ordered by date (older version of this dataset with less inputs). \n",
      "\n",
      "4) bank.csv with 10% of the examples and 17 inputs, randomly selected from 3 (older version of this dataset with less inputs). \n",
      "\n",
      "The smallest datasets are provided to test more computationally demanding machine \n",
      "learning algorithms (e.g., SVM). \n",
      "\n",
      "The classification goal is to predict if the client will subscribe (yes/no) a term deposit (variable y)."
     ]
    },
    {
     "cell_type": "markdown",
     "metadata": {},
     "source": [
      "##Assignment\n",
      "* Preprocess your data (you may find `LabelEncoder` useful)\n",
      "* Train both KNN and Random Forest models\n",
      "* Find the best parameters by computing their learning curve (feel free to verify this with grid search)\n",
      "* Create a clasification report\n",
      "* Inspect your models, what features are most important? How might you use this information to improve model precision?\n"
     ]
    },
    {
     "cell_type": "code",
     "collapsed": false,
     "input": [
      "## Life happened real hard this week so apologies for missing pieces and messes"
     ],
     "language": "python",
     "metadata": {},
     "outputs": [],
     "prompt_number": 48
    },
    {
     "cell_type": "code",
     "collapsed": false,
     "input": [
      "#import\n",
      "\n",
      "import pandas as pd\n",
      "import numpy as np\n",
      "import matplotlib.pyplot as plt\n",
      "from sklearn.ensemble import RandomForestClassifier as RF\n",
      "from sklearn import neighbors\n",
      "from sklearn.neighbors import KNeighborsClassifier as KNN\n",
      "from sklearn import preprocessing\n",
      "from sklearn import metrics\n",
      "from sklearn.cross_validation import train_test_split\n",
      "from sklearn.metrics import confusion_matrix, classification_report\n",
      "from sklearn.ensemble import RandomForestClassifier as RF\n",
      "from sklearn.neighbors import KNeighborsClassifier as KNN\n",
      "from sklearn import svm, grid_search, datasets\n",
      "\n",
      "%matplotlib inline"
     ],
     "language": "python",
     "metadata": {},
     "outputs": [],
     "prompt_number": 109
    },
    {
     "cell_type": "code",
     "collapsed": false,
     "input": [
      "bank_full_df = pd.read_csv('bank/bank-full.csv', sep = ';')"
     ],
     "language": "python",
     "metadata": {},
     "outputs": [],
     "prompt_number": 83
    },
    {
     "cell_type": "code",
     "collapsed": false,
     "input": [
      "bank_df = pd.read_csv('bank/bank.csv', sep = ';')"
     ],
     "language": "python",
     "metadata": {},
     "outputs": [],
     "prompt_number": 84
    },
    {
     "cell_type": "code",
     "collapsed": false,
     "input": [
      "bank_additional_full_df = pd.read_csv('bank-additional/bank-additional-full.csv', sep = ';')"
     ],
     "language": "python",
     "metadata": {},
     "outputs": [],
     "prompt_number": 85
    },
    {
     "cell_type": "code",
     "collapsed": false,
     "input": [
      "bank_additional_df = pd.read_csv('bank-additional/bank-additional.csv', sep = ';')"
     ],
     "language": "python",
     "metadata": {},
     "outputs": [],
     "prompt_number": 86
    },
    {
     "cell_type": "code",
     "collapsed": false,
     "input": [
      "cat_columns = ['job', 'marital', 'education', 'default', 'housing', 'loan', 'contact', 'month', 'day_of_week', 'poutcome', 'y']"
     ],
     "language": "python",
     "metadata": {},
     "outputs": [],
     "prompt_number": 87
    },
    {
     "cell_type": "code",
     "collapsed": false,
     "input": [
      "le = preprocessing.LabelEncoder()\n",
      "\n",
      "for col in cat_columns:\n",
      "    bank_additional_full_df[col] = le.fit_transform(bank_additional_full_df[col])"
     ],
     "language": "python",
     "metadata": {},
     "outputs": [],
     "prompt_number": 88
    },
    {
     "cell_type": "code",
     "collapsed": false,
     "input": [
      "bank_additional_full_df.head()"
     ],
     "language": "python",
     "metadata": {},
     "outputs": [
      {
       "html": [
        "<div style=\"max-height:1000px;max-width:1500px;overflow:auto;\">\n",
        "<table border=\"1\" class=\"dataframe\">\n",
        "  <thead>\n",
        "    <tr style=\"text-align: right;\">\n",
        "      <th></th>\n",
        "      <th>age</th>\n",
        "      <th>job</th>\n",
        "      <th>marital</th>\n",
        "      <th>education</th>\n",
        "      <th>default</th>\n",
        "      <th>housing</th>\n",
        "      <th>loan</th>\n",
        "      <th>contact</th>\n",
        "      <th>month</th>\n",
        "      <th>day_of_week</th>\n",
        "      <th>...</th>\n",
        "      <th>campaign</th>\n",
        "      <th>pdays</th>\n",
        "      <th>previous</th>\n",
        "      <th>poutcome</th>\n",
        "      <th>emp.var.rate</th>\n",
        "      <th>cons.price.idx</th>\n",
        "      <th>cons.conf.idx</th>\n",
        "      <th>euribor3m</th>\n",
        "      <th>nr.employed</th>\n",
        "      <th>y</th>\n",
        "    </tr>\n",
        "  </thead>\n",
        "  <tbody>\n",
        "    <tr>\n",
        "      <th>0</th>\n",
        "      <td> 56</td>\n",
        "      <td> 3</td>\n",
        "      <td> 1</td>\n",
        "      <td> 0</td>\n",
        "      <td> 0</td>\n",
        "      <td> 0</td>\n",
        "      <td> 0</td>\n",
        "      <td> 1</td>\n",
        "      <td> 6</td>\n",
        "      <td> 1</td>\n",
        "      <td>...</td>\n",
        "      <td> 1</td>\n",
        "      <td> 999</td>\n",
        "      <td> 0</td>\n",
        "      <td> 1</td>\n",
        "      <td> 1.1</td>\n",
        "      <td> 93.994</td>\n",
        "      <td>-36.4</td>\n",
        "      <td> 4.857</td>\n",
        "      <td> 5191</td>\n",
        "      <td> 0</td>\n",
        "    </tr>\n",
        "    <tr>\n",
        "      <th>1</th>\n",
        "      <td> 57</td>\n",
        "      <td> 7</td>\n",
        "      <td> 1</td>\n",
        "      <td> 3</td>\n",
        "      <td> 1</td>\n",
        "      <td> 0</td>\n",
        "      <td> 0</td>\n",
        "      <td> 1</td>\n",
        "      <td> 6</td>\n",
        "      <td> 1</td>\n",
        "      <td>...</td>\n",
        "      <td> 1</td>\n",
        "      <td> 999</td>\n",
        "      <td> 0</td>\n",
        "      <td> 1</td>\n",
        "      <td> 1.1</td>\n",
        "      <td> 93.994</td>\n",
        "      <td>-36.4</td>\n",
        "      <td> 4.857</td>\n",
        "      <td> 5191</td>\n",
        "      <td> 0</td>\n",
        "    </tr>\n",
        "    <tr>\n",
        "      <th>2</th>\n",
        "      <td> 37</td>\n",
        "      <td> 7</td>\n",
        "      <td> 1</td>\n",
        "      <td> 3</td>\n",
        "      <td> 0</td>\n",
        "      <td> 2</td>\n",
        "      <td> 0</td>\n",
        "      <td> 1</td>\n",
        "      <td> 6</td>\n",
        "      <td> 1</td>\n",
        "      <td>...</td>\n",
        "      <td> 1</td>\n",
        "      <td> 999</td>\n",
        "      <td> 0</td>\n",
        "      <td> 1</td>\n",
        "      <td> 1.1</td>\n",
        "      <td> 93.994</td>\n",
        "      <td>-36.4</td>\n",
        "      <td> 4.857</td>\n",
        "      <td> 5191</td>\n",
        "      <td> 0</td>\n",
        "    </tr>\n",
        "    <tr>\n",
        "      <th>3</th>\n",
        "      <td> 40</td>\n",
        "      <td> 0</td>\n",
        "      <td> 1</td>\n",
        "      <td> 1</td>\n",
        "      <td> 0</td>\n",
        "      <td> 0</td>\n",
        "      <td> 0</td>\n",
        "      <td> 1</td>\n",
        "      <td> 6</td>\n",
        "      <td> 1</td>\n",
        "      <td>...</td>\n",
        "      <td> 1</td>\n",
        "      <td> 999</td>\n",
        "      <td> 0</td>\n",
        "      <td> 1</td>\n",
        "      <td> 1.1</td>\n",
        "      <td> 93.994</td>\n",
        "      <td>-36.4</td>\n",
        "      <td> 4.857</td>\n",
        "      <td> 5191</td>\n",
        "      <td> 0</td>\n",
        "    </tr>\n",
        "    <tr>\n",
        "      <th>4</th>\n",
        "      <td> 56</td>\n",
        "      <td> 7</td>\n",
        "      <td> 1</td>\n",
        "      <td> 3</td>\n",
        "      <td> 0</td>\n",
        "      <td> 0</td>\n",
        "      <td> 2</td>\n",
        "      <td> 1</td>\n",
        "      <td> 6</td>\n",
        "      <td> 1</td>\n",
        "      <td>...</td>\n",
        "      <td> 1</td>\n",
        "      <td> 999</td>\n",
        "      <td> 0</td>\n",
        "      <td> 1</td>\n",
        "      <td> 1.1</td>\n",
        "      <td> 93.994</td>\n",
        "      <td>-36.4</td>\n",
        "      <td> 4.857</td>\n",
        "      <td> 5191</td>\n",
        "      <td> 0</td>\n",
        "    </tr>\n",
        "  </tbody>\n",
        "</table>\n",
        "<p>5 rows \u00d7 21 columns</p>\n",
        "</div>"
       ],
       "metadata": {},
       "output_type": "pyout",
       "prompt_number": 89,
       "text": [
        "   age  job  marital  education  default  housing  loan  contact  month  \\\n",
        "0   56    3        1          0        0        0     0        1      6   \n",
        "1   57    7        1          3        1        0     0        1      6   \n",
        "2   37    7        1          3        0        2     0        1      6   \n",
        "3   40    0        1          1        0        0     0        1      6   \n",
        "4   56    7        1          3        0        0     2        1      6   \n",
        "\n",
        "   day_of_week ...  campaign  pdays  previous  poutcome  emp.var.rate  \\\n",
        "0            1 ...         1    999         0         1           1.1   \n",
        "1            1 ...         1    999         0         1           1.1   \n",
        "2            1 ...         1    999         0         1           1.1   \n",
        "3            1 ...         1    999         0         1           1.1   \n",
        "4            1 ...         1    999         0         1           1.1   \n",
        "\n",
        "   cons.price.idx  cons.conf.idx  euribor3m  nr.employed  y  \n",
        "0          93.994          -36.4      4.857         5191  0  \n",
        "1          93.994          -36.4      4.857         5191  0  \n",
        "2          93.994          -36.4      4.857         5191  0  \n",
        "3          93.994          -36.4      4.857         5191  0  \n",
        "4          93.994          -36.4      4.857         5191  0  \n",
        "\n",
        "[5 rows x 21 columns]"
       ]
      }
     ],
     "prompt_number": 89
    },
    {
     "cell_type": "code",
     "collapsed": false,
     "input": [
      "%%time\n",
      "from sklearn.ensemble import RandomForestClassifier as RF\n",
      "# Random Forest\n",
      "def preprocess(df):\n",
      "    # (Feature - Target)\n",
      "    X = df.drop('y', axis = 1)\n",
      "    y = df.y.values\n",
      "    X_train, X_test, y_train, y_test = train_test_split(X, y, test_size = .3)\n",
      "    # Run Model\n",
      "    clf = RF(n_estimators = 50)\n",
      "    clf.fit(X_train, y_train)\n",
      "    y_pred = clf.predict(X_test)\n",
      "    # Results\n",
      "    print y_pred.shape\n",
      "    print clf.score(X_test, y_test)\n",
      "    print confusion_matrix(y_test, y_pred)\n",
      "    print classification_report(y_test, y_pred)\n",
      "preprocess(bank_additional_full_df)"
     ],
     "language": "python",
     "metadata": {},
     "outputs": [
      {
       "output_type": "stream",
       "stream": "stdout",
       "text": [
        "(12357,)\n",
        "0.917212915756"
       ]
      },
      {
       "output_type": "stream",
       "stream": "stdout",
       "text": [
        "\n",
        "[[10615   343]\n",
        " [  680   719]]\n",
        "             precision    recall  f1-score   support\n",
        "\n",
        "          0       0.94      0.97      0.95     10958\n",
        "          1       0.68      0.51      0.58      1399\n",
        "\n",
        "avg / total       0.91      0.92      0.91     12357\n",
        "\n",
        "CPU times: user 1.33 s, sys: 40.6 ms, total: 1.37 s\n",
        "Wall time: 1.37 s\n"
       ]
      }
     ],
     "prompt_number": 90
    },
    {
     "cell_type": "code",
     "collapsed": false,
     "input": [
      "%%time\n",
      "def preprocess(df):\n",
      "    # (Feature - Target)\n",
      "    X = df.drop('y', axis = 1)\n",
      "    y = df.y.values\n",
      "    X_train, X_test, y_train, y_test = train_test_split(X, y, test_size = .3)\n",
      "    # Run Model\n",
      "    clf = KNN(n_neighbors = 5, algorithm = \"kd_tree\")\n",
      "    clf.fit(X_train, y_train)\n",
      "    y_pred = clf.predict(X_test)\n",
      "    # Results\n",
      "    print y_pred.shape\n",
      "    print clf.score(X_test, y_test)\n",
      "    print confusion_matrix(y_test, y_pred)\n",
      "    print classification_report(y_test, y_pred)\n",
      "preprocess(bank_additional_full_df)"
     ],
     "language": "python",
     "metadata": {},
     "outputs": [
      {
       "output_type": "stream",
       "stream": "stdout",
       "text": [
        "(12357,)\n",
        "0.906126082382"
       ]
      },
      {
       "output_type": "stream",
       "stream": "stdout",
       "text": [
        "\n",
        "[[10507   418]\n",
        " [  742   690]]\n",
        "             precision    recall  f1-score   support\n",
        "\n",
        "          0       0.93      0.96      0.95     10925\n",
        "          1       0.62      0.48      0.54      1432\n",
        "\n",
        "avg / total       0.90      0.91      0.90     12357\n",
        "\n",
        "CPU times: user 2.25 s, sys: 11.7 ms, total: 2.26 s\n",
        "Wall time: 2.26 s\n"
       ]
      }
     ],
     "prompt_number": 91
    },
    {
     "cell_type": "code",
     "collapsed": false,
     "input": [
      "%matplotlib inline\n",
      "import numpy as np\n",
      "import matplotlib.pyplot as plt\n",
      "from sklearn.learning_curve import learning_curve\n",
      "\n",
      "def plot_learning_curve(estimator, title, X, y, ylim=None, cv=None,\n",
      "                        n_jobs=1, train_sizes=np.linspace(.1, 1.0, 5)):\n",
      "    \"\"\"\n",
      "    Generate a simple plot of the test and traning learning curve.\n",
      "\n",
      "    Parameters\n",
      "    ----------\n",
      "    estimator : object type that implements the \"fit\" and \"predict\" methods\n",
      "        An object of that type which is cloned for each validation.\n",
      "\n",
      "    title : string\n",
      "        Title for the chart.\n",
      "\n",
      "    X : array-like, shape (n_samples, n_features)\n",
      "        Training vector, where n_samples is the number of samples and\n",
      "        n_features is the number of features.\n",
      "\n",
      "    y : array-like, shape (n_samples) or (n_samples, n_features), optional\n",
      "        Target relative to X for classification or regression;\n",
      "        None for unsupervised learning.\n",
      "\n",
      "    ylim : tuple, shape (ymin, ymax), optional\n",
      "        Defines minimum and maximum yvalues plotted.\n",
      "\n",
      "    cv : integer, cross-validation generator, optional\n",
      "        If an integer is passed, it is the number of folds (defaults to 3).\n",
      "        Specific cross-validation objects can be passed, see\n",
      "        sklearn.cross_validation module for the list of possible objects\n",
      "\n",
      "    n_jobs : integer, optional\n",
      "        Number of jobs to run in parallel (default 1).\n",
      "    \"\"\"\n",
      "    plt.figure()\n",
      "    plt.title(title)\n",
      "    if ylim is not None:\n",
      "        plt.ylim(*ylim)\n",
      "    plt.xlabel(\"Training examples\")\n",
      "    plt.ylabel(\"Score\")\n",
      "    \n",
      "    train_sizes, train_scores, test_scores = learning_curve(\n",
      "        estimator, X, y, cv=cv, n_jobs=n_jobs, train_sizes=train_sizes)\n",
      "    train_scores_mean = np.mean(train_scores, axis=1)\n",
      "    train_scores_std = np.std(train_scores, axis=1)\n",
      "    test_scores_mean = np.mean(test_scores, axis=1)\n",
      "    test_scores_std = np.std(test_scores, axis=1)\n",
      "    plt.grid()\n",
      "\n",
      "    plt.fill_between(train_sizes, train_scores_mean - train_scores_std,\n",
      "                     train_scores_mean + train_scores_std, alpha=0.1,\n",
      "                     color=\"r\")\n",
      "    plt.fill_between(train_sizes, test_scores_mean - test_scores_std,\n",
      "                     test_scores_mean + test_scores_std, alpha=0.1, color=\"g\")\n",
      "    plt.plot(train_sizes, train_scores_mean, 'o-', color=\"r\",\n",
      "             label=\"Training score\")\n",
      "    plt.plot(train_sizes, test_scores_mean, 'o-', color=\"g\",\n",
      "             label=\"Cross-validation score\")\n",
      "\n",
      "    plt.legend(loc=\"best\")\n",
      "    return plt"
     ],
     "language": "python",
     "metadata": {},
     "outputs": [],
     "prompt_number": 92
    },
    {
     "cell_type": "code",
     "collapsed": false,
     "input": [
      "%%time\n",
      "def training_examples(df):\n",
      "    X = df.drop('y', axis = 1)\n",
      "    y = df.y.values\n",
      "    X_train, X_test, y_train, y_test = train_test_split(X, y, test_size = .3)\n",
      "\n",
      "    #learning curves\n",
      "    plot_learning_curve(RF(n_estimators=10), 'test', X_train, y_train)\n",
      "    plot_learning_curve(RF(n_estimators=20), 'test', X_train, y_train)\n",
      "    plot_learning_curve(RF(n_estimators=50), 'test', X_train, y_train)\n",
      "    \n",
      "training_examples(bank_additional_full_df)"
     ],
     "language": "python",
     "metadata": {},
     "outputs": [
      {
       "output_type": "stream",
       "stream": "stdout",
       "text": [
        "CPU times: user 12.2 s, sys: 180 ms, total: 12.4 s\n",
        "Wall time: 12.4 s\n"
       ]
      },
      {
       "metadata": {},
       "output_type": "display_data",
       "png": "[encoded data removed]",
       "text": [
        "<matplotlib.figure.Figure at 0x10ca7d610>"
       ]
      },
      {
       "metadata": {},
       "output_type": "display_data",
       "png": "[encoded data removed]",
       "text": [
        "<matplotlib.figure.Figure at 0x10cb598d0>"
       ]
      },
      {
       "metadata": {},
       "output_type": "display_data",
       "png": "[encoded data removed]",
       "text": [
        "<matplotlib.figure.Figure at 0x10c26fd90>"
       ]
      }
     ],
     "prompt_number": 93
    },
    {
     "cell_type": "code",
     "collapsed": false,
     "input": [
      "clf = RF(n_estimators=20)\n",
      "clf.fit(X_train, y_train)\n",
      "imp = sorted(zip(clf.feature_importances_, xcols), reverse=True)[:10]\n",
      "imp"
     ],
     "language": "python",
     "metadata": {},
     "outputs": [
      {
       "metadata": {},
       "output_type": "pyout",
       "prompt_number": 100,
       "text": [
        "[(0.2943649544524824, 'duration'),\n",
        " (0.10733700069568999, 'balance'),\n",
        " (0.10402839721358086, 'age'),\n",
        " (0.08862829127402011, 'month'),\n",
        " (0.087308145368576576, 'day'),\n",
        " (0.051134877160229797, 'poutcome'),\n",
        " (0.050226947666619962, 'pdays'),\n",
        " (0.048710736296436172, 'job'),\n",
        " (0.037572872984047212, 'campaign'),\n",
        " (0.028299136592614089, 'education')]"
       ]
      }
     ],
     "prompt_number": 100
    },
    {
     "cell_type": "code",
     "collapsed": false,
     "input": [
      "#features as a list\n",
      "X_import=[]\n",
      "for i in range(len(imp)):\n",
      "    X_import.append(imp[i][1])\n",
      "X_import"
     ],
     "language": "python",
     "metadata": {},
     "outputs": [
      {
       "metadata": {},
       "output_type": "pyout",
       "prompt_number": 102,
       "text": [
        "['duration',\n",
        " 'balance',\n",
        " 'age',\n",
        " 'month',\n",
        " 'day',\n",
        " 'poutcome',\n",
        " 'pdays',\n",
        " 'job',\n",
        " 'campaign',\n",
        " 'education']"
       ]
      }
     ],
     "prompt_number": 102
    },
    {
     "cell_type": "code",
     "collapsed": false,
     "input": [
      "#random forest with top 10\n",
      "\n",
      "def forest(df):\n",
      "    #feature - target\n",
      "    xcols = [col for col in df.columns if col != 'y']\n",
      "    X = df[X_import].values\n",
      "    y = df['y'].values\n",
      "    X_train, X_test, y_train, y_test = train_test_split(X,y,test_size = .3)\n",
      "    \n",
      "    #run\n",
      "    parameters = {'n_estimators':[1,100], 'max_depth':[1,1000]}\n",
      "    random = RF()\n",
      "    clf = grid_search.GridSearchCV(random, parameters)\n",
      "    clf.fit(X_train, y_train)\n",
      "    y_pred = clf.predict(X_test)\n",
      "    \n",
      "    #results\n",
      "    print confusion_matrix(y_test, y_pred)\n",
      "    print classification_report(y_test, y_pred)\n",
      "forest(bank_data)"
     ],
     "language": "python",
     "metadata": {},
     "outputs": [
      {
       "output_type": "stream",
       "stream": "stdout",
       "text": [
        "[[11591   394]\n",
        " [  918   661]]\n",
        "             precision    recall  f1-score   support\n",
        "\n",
        "          0       0.93      0.97      0.95     11985\n",
        "          1       0.63      0.42      0.50      1579\n",
        "\n",
        "avg / total       0.89      0.90      0.89     13564\n",
        "\n"
       ]
      }
     ],
     "prompt_number": 107
    },
    {
     "cell_type": "code",
     "collapsed": false,
     "input": [
      "#knn with top 10\n",
      "def knn(df):\n",
      "    X = df.drop('y', axis = 1)\n",
      "    y = df.y.values\n",
      "    X_train, X_test, y_train, y_test = train_test_split(X,y,test_size = .3)\n",
      "    parameters = {'n_neighbors':[1,100], 'weights':('distance', 'uniform'), 'algorithm':('auto','ball_tree', 'kd_tree', 'brute'), 'leaf_size':[1,100]}\n",
      "    knn = neighbors.KNeighborsClassifier()\n",
      "    clf = grid_search.GridSearchCV(knn, parameters)\n",
      "    clf.fit(X_train, y_train)\n",
      "    y_pred = clf.predict(X_test)\n",
      "    \n",
      "    print y_pred.shape\n",
      "    print clf.score(X_test, y_test)\n",
      "    print confusion_matrix(y_test, y_pred)\n",
      "    print classification_report(y_test, y_pred)\n",
      "    \n",
      "knn(bank_data)"
     ],
     "language": "python",
     "metadata": {},
     "outputs": [
      {
       "output_type": "stream",
       "stream": "stdout",
       "text": [
        "(13564,)\n",
        "0.889413152462"
       ]
      },
      {
       "output_type": "stream",
       "stream": "stdout",
       "text": [
        "\n",
        "[[11816   188]\n",
        " [ 1312   248]]\n",
        "             precision    recall  f1-score   support\n",
        "\n",
        "          0       0.90      0.98      0.94     12004\n",
        "          1       0.57      0.16      0.25      1560\n",
        "\n",
        "avg / total       0.86      0.89      0.86     13564\n",
        "\n"
       ]
      }
     ],
     "prompt_number": 110
    },
    {
     "cell_type": "code",
     "collapsed": false,
     "input": [
      "%%time\n",
      "def plot_KNN_recall(df):\n",
      "    re_scores = []\n",
      "    X = df.drop('y', axis = 1)\n",
      "    X = pd.get_dummies(X)\n",
      "    y = df.y.values\n",
      "    le = preprocessing.LabelEncoder()\n",
      "    le.fit([\"yes\", \"no\"])\n",
      "    y = le.transform(y)\n",
      "    X_train, X_test, y_train, y_test = train_test_split(X, y, test_size = .3)\n",
      "    def learning_curve(n):\n",
      "        for i in range(1, n):\n",
      "            clf = KNN(n_neighbors = i, algorithm = \"kd_tree\")\n",
      "            clf.fit(X_train, y_train)\n",
      "            y_pred = clf.predict(X_test)\n",
      "            re_score = metrics.recall_score(y_test, y_pred)\n",
      "            re_scores.append(re_score)\n",
      "    learning_curve(50)\n",
      "    pd.DataFrame(re_scores).plot()\n",
      "plot_KNN_recall(bank_additional_df)"
     ],
     "language": "python",
     "metadata": {},
     "outputs": [
      {
       "output_type": "stream",
       "stream": "stdout",
       "text": [
        "CPU times: user 4.17 s, sys: 34.8 ms, total: 4.21 s\n",
        "Wall time: 4.21 s\n"
       ]
      },
      {
       "metadata": {},
       "output_type": "display_data",
       "png": "[encoded data removed]",
       "text": [
        "<matplotlib.figure.Figure at 0x10c5efbd0>"
       ]
      }
     ],
     "prompt_number": 94
    },
    {
     "cell_type": "code",
     "collapsed": false,
     "input": [
      "%%time\n",
      "def plot_KNN_recall(df):\n",
      "    re_scores = []\n",
      "    X = df.drop('y', axis = 1)\n",
      "    X = pd.get_dummies(X)\n",
      "    y = df.y.values\n",
      "    le = preprocessing.LabelEncoder()\n",
      "    le.fit([\"yes\", \"no\"])\n",
      "    y = le.transform(y)\n",
      "    X_train, X_test, y_train, y_test = train_test_split(X, y, test_size = .3)\n",
      "    def learning_curve(n):\n",
      "        for i in range(1, n):\n",
      "            clf = KNN(n_neighbors = i, algorithm = \"kd_tree\")\n",
      "            clf.fit(X_train, y_train)\n",
      "            y_pred = clf.predict(X_test)\n",
      "            re_score = metrics.mean_squared_error(y_test, y_pred)\n",
      "            re_scores.append(re_score)\n",
      "    learning_curve(50)\n",
      "    pd.DataFrame(re_scores).plot()\n",
      "plot_KNN_recall(bank_additional_df)"
     ],
     "language": "python",
     "metadata": {},
     "outputs": [
      {
       "output_type": "stream",
       "stream": "stdout",
       "text": [
        "CPU times: user 4.27 s, sys: 41 ms, total: 4.31 s\n",
        "Wall time: 4.31 s\n"
       ]
      },
      {
       "metadata": {},
       "output_type": "display_data",
       "png": "[encoded data removed]",
       "text": [
        "<matplotlib.figure.Figure at 0x10c350a90>"
       ]
      }
     ],
     "prompt_number": 95
    },
    {
     "cell_type": "code",
     "collapsed": false,
     "input": [
      "%%time\n",
      "def plot_KNN_precision(df):\n",
      "    pre_scores = []\n",
      "    X = df.drop('y', axis = 1)\n",
      "    X = pd.get_dummies(X)\n",
      "    y = df.y.values\n",
      "    le = preprocessing.LabelEncoder()\n",
      "    le.fit([\"yes\", \"no\"])\n",
      "    y = le.transform(y)\n",
      "    X_train, X_test, y_train, y_test = train_test_split(X, y, test_size = .3)\n",
      "    def learning_curve(n):\n",
      "        for i in range(1, n):\n",
      "            clf = KNN(n_neighbors = i, algorithm = \"kd_tree\")\n",
      "            clf.fit(X_train, y_train)\n",
      "            y_pred = clf.predict(X_test)\n",
      "            pre_score = metrics.precision_score(y_test, y_pred)\n",
      "            pre_scores.append(pre_score)\n",
      "    learning_curve(50)\n",
      "    pd.DataFrame(pre_scores).plot()\n",
      "plot_KNN_precision(bank_additional_df)"
     ],
     "language": "python",
     "metadata": {},
     "outputs": [
      {
       "output_type": "stream",
       "stream": "stdout",
       "text": [
        "CPU times: user 4.13 s, sys: 35.3 ms, total: 4.17 s\n",
        "Wall time: 4.17 s\n"
       ]
      },
      {
       "metadata": {},
       "output_type": "display_data",
       "png": "[encoded data removed]",
       "text": [
        "<matplotlib.figure.Figure at 0x10c3477d0>"
       ]
      }
     ],
     "prompt_number": 96
    },
    {
     "cell_type": "code",
     "collapsed": false,
     "input": [
      "%%time\n",
      "def plot_KNN_recall(df):\n",
      "    re_scores = []\n",
      "    X = df.drop('y', axis = 1)\n",
      "    X = pd.get_dummies(X)\n",
      "    y = df.y.values\n",
      "    le = preprocessing.LabelEncoder()\n",
      "    le.fit([\"yes\", \"no\"])\n",
      "    y = le.transform(y)\n",
      "    X_train, X_test, y_train, y_test = train_test_split(X, y, test_size = .3)\n",
      "    def learning_curve(n):\n",
      "        for i in range(1, n):\n",
      "            clf = KNN(n_neighbors = i, algorithm = \"kd_tree\")\n",
      "            clf.fit(X_train, y_train)\n",
      "            y_pred = clf.predict(X_test)\n",
      "            re_score = metrics.mean_squared_error(y_test, y_pred)\n",
      "            re_scores.append(re_score)\n",
      "    learning_curve(50)\n",
      "    pd.DataFrame(re_scores).plot()\n",
      "plot_KNN_recall(bank_additional_df)"
     ],
     "language": "python",
     "metadata": {},
     "outputs": [
      {
       "output_type": "stream",
       "stream": "stdout",
       "text": [
        "CPU times: user 3.97 s, sys: 32.7 ms, total: 4 s\n",
        "Wall time: 4 s\n"
       ]
      },
      {
       "metadata": {},
       "output_type": "display_data",
       "png": "[encoded data removed]",
       "text": [
        "<matplotlib.figure.Figure at 0x10c26b9d0>"
       ]
      }
     ],
     "prompt_number": 97
    },
    {
     "cell_type": "code",
     "collapsed": false,
     "input": [
      "%%time\n",
      "def plot_KNN_precision(df):\n",
      "    re_scores = []\n",
      "    X = df.drop('y', axis = 1)\n",
      "    X = pd.get_dummies(X)\n",
      "    y = df.y.values\n",
      "    le = preprocessing.LabelEncoder()\n",
      "    le.fit([\"yes\", \"no\"])\n",
      "    y = le.transform(y)\n",
      "    X_train, X_test, y_train, y_test = train_test_split(X, y, test_size = .3)\n",
      "    clf = KNN(n_neighbors = 42, algorithm = \"kd_tree\")\n",
      "    clf.fit(X_train, y_train)\n",
      "    y_pred = clf.predict(X_test)\n",
      "    print classification_report(y_test, y_pred)\n",
      "plot_KNN_precision(bank_additional_df)"
     ],
     "language": "python",
     "metadata": {},
     "outputs": [
      {
       "output_type": "stream",
       "stream": "stdout",
       "text": [
        "             precision    recall  f1-score   support\n",
        "\n",
        "          0       0.92      0.98      0.95      1098\n",
        "          1       0.65      0.33      0.44       138\n",
        "\n",
        "avg / total       0.89      0.91      0.89      1236\n",
        "\n",
        "CPU times: user 131 ms, sys: 3.45 ms, total: 134 ms\n",
        "Wall time: 133 ms\n"
       ]
      }
     ],
     "prompt_number": 98
    },
    {
     "cell_type": "code",
     "collapsed": false,
     "input": [
      "%%time\n",
      "def plot_KNN_recall(df):\n",
      "    re_scores = []\n",
      "    X = df.drop('y', axis = 1)\n",
      "    X = pd.get_dummies(X)\n",
      "    y = df.y.values\n",
      "    le = preprocessing.LabelEncoder()\n",
      "    le.fit([\"yes\", \"no\"])\n",
      "    y = le.transform(y)\n",
      "    X_train, X_test, y_train, y_test = train_test_split(X, y, test_size = .3)\n",
      "    def learning_curve(n):\n",
      "        for i in range(1, n):\n",
      "            clf = KNN(n_neighbors = i, algorithm = \"kd_tree\")\n",
      "            clf.fit(X_train, y_train)\n",
      "            y_pred = clf.predict(X_test)\n",
      "            re_score = metrics.mean_squared_error(y_test, y_pred)\n",
      "            re_scores.append(re_score)\n",
      "    learning_curve(50)\n",
      "    pd.DataFrame(re_scores).plot()\n",
      "plot_KNN_recall(bank_additional_df)"
     ],
     "language": "python",
     "metadata": {},
     "outputs": [
      {
       "output_type": "stream",
       "stream": "stdout",
       "text": [
        "CPU times: user 3.94 s, sys: 29 ms, total: 3.97 s\n",
        "Wall time: 3.97 s\n"
       ]
      },
      {
       "metadata": {},
       "output_type": "display_data",
       "png": "[encoded data removed]",
       "text": [
        "<matplotlib.figure.Figure at 0x10c256a90>"
       ]
      }
     ],
     "prompt_number": 99
    },
    {
     "cell_type": "code",
     "collapsed": false,
     "input": [],
     "language": "python",
     "metadata": {},
     "outputs": [],
     "prompt_number": 71
    },
    {
     "cell_type": "code",
     "collapsed": false,
     "input": [],
     "language": "python",
     "metadata": {},
     "outputs": []
    }
   ],
   "metadata": {}
  }
 ]
}