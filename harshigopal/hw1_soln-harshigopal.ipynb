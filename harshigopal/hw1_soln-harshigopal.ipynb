{
 "metadata": {
  "name": "",
  "signature": "sha256:49c538c46d7aa129a155ae706c9c13fd2cc1b6b4a03ba114754a53284e59183f"
 },
 "nbformat": 3,
 "nbformat_minor": 0,
 "worksheets": [
  {
   "cells": [
    {
     "cell_type": "markdown",
     "metadata": {},
     "source": [
      "#Homework 1 - Data Analysis and Regression\n",
      "In this assignment your challenge is to do some basic analysis for Airbnb. Provided in hw/data/ there are 2 data files, <a href=../data/bookings.csv>bookings.csv</a> and <a href=../data/listings.csv>listings.csv</a>. The objective is to practice data munging and begin our exploration of regression."
     ]
    },
    {
     "cell_type": "code",
     "collapsed": false,
     "input": [
      "# Standard imports for data analysis packages in Python\n",
      "import pandas as pd\n",
      "import numpy as np\n",
      "import seaborn as sns\n",
      "import matplotlib.pyplot as plt\n",
      "from IPython.display import Image\n",
      "\n",
      "# This enables inline Plots\n",
      "%matplotlib inline"
     ],
     "language": "python",
     "metadata": {},
     "outputs": [],
     "prompt_number": 483
    },
    {
     "cell_type": "markdown",
     "metadata": {},
     "source": [
      "##Part 1 - Data exploration\n",
      "###First, create 2 data frames: `listings` and `bookings` from their respective data files"
     ]
    },
    {
     "cell_type": "code",
     "collapsed": false,
     "input": [
      "#Extracting Data from files and storing in dataframe\n",
      "listings = pd.read_csv('../data/listings.csv')\n",
      "bookings = pd.read_csv('../data/bookings.csv')"
     ],
     "language": "python",
     "metadata": {},
     "outputs": [],
     "prompt_number": 484
    },
    {
     "cell_type": "code",
     "collapsed": false,
     "input": [
      "#Identifying the columns in the listings dataframe\n",
      "listings.head()"
     ],
     "language": "python",
     "metadata": {},
     "outputs": [
      {
       "html": [
        "<div style=\"max-height:1000px;max-width:1500px;overflow:auto;\">\n",
        "<table border=\"1\" class=\"dataframe\">\n",
        "  <thead>\n",
        "    <tr style=\"text-align: right;\">\n",
        "      <th></th>\n",
        "      <th>prop_id</th>\n",
        "      <th>prop_type</th>\n",
        "      <th>neighborhood</th>\n",
        "      <th>price</th>\n",
        "      <th>person_capacity</th>\n",
        "      <th>picture_count</th>\n",
        "      <th>description_length</th>\n",
        "      <th>tenure_months</th>\n",
        "    </tr>\n",
        "  </thead>\n",
        "  <tbody>\n",
        "    <tr>\n",
        "      <th>0</th>\n",
        "      <td> 1</td>\n",
        "      <td> Property type 1</td>\n",
        "      <td> Neighborhood 14</td>\n",
        "      <td> 140</td>\n",
        "      <td> 3</td>\n",
        "      <td> 11</td>\n",
        "      <td> 232</td>\n",
        "      <td> 30</td>\n",
        "    </tr>\n",
        "    <tr>\n",
        "      <th>1</th>\n",
        "      <td> 2</td>\n",
        "      <td> Property type 1</td>\n",
        "      <td> Neighborhood 14</td>\n",
        "      <td>  95</td>\n",
        "      <td> 2</td>\n",
        "      <td>  3</td>\n",
        "      <td>  37</td>\n",
        "      <td> 29</td>\n",
        "    </tr>\n",
        "    <tr>\n",
        "      <th>2</th>\n",
        "      <td> 3</td>\n",
        "      <td> Property type 2</td>\n",
        "      <td> Neighborhood 16</td>\n",
        "      <td>  95</td>\n",
        "      <td> 2</td>\n",
        "      <td> 16</td>\n",
        "      <td> 172</td>\n",
        "      <td> 29</td>\n",
        "    </tr>\n",
        "    <tr>\n",
        "      <th>3</th>\n",
        "      <td> 4</td>\n",
        "      <td> Property type 2</td>\n",
        "      <td> Neighborhood 13</td>\n",
        "      <td>  90</td>\n",
        "      <td> 2</td>\n",
        "      <td> 19</td>\n",
        "      <td> 472</td>\n",
        "      <td> 28</td>\n",
        "    </tr>\n",
        "    <tr>\n",
        "      <th>4</th>\n",
        "      <td> 5</td>\n",
        "      <td> Property type 1</td>\n",
        "      <td> Neighborhood 15</td>\n",
        "      <td> 125</td>\n",
        "      <td> 5</td>\n",
        "      <td> 21</td>\n",
        "      <td> 442</td>\n",
        "      <td> 28</td>\n",
        "    </tr>\n",
        "  </tbody>\n",
        "</table>\n",
        "<p>5 rows \u00d7 8 columns</p>\n",
        "</div>"
       ],
       "metadata": {},
       "output_type": "pyout",
       "prompt_number": 488,
       "text": [
        "   prop_id        prop_type     neighborhood  price  person_capacity  \\\n",
        "0        1  Property type 1  Neighborhood 14    140                3   \n",
        "1        2  Property type 1  Neighborhood 14     95                2   \n",
        "2        3  Property type 2  Neighborhood 16     95                2   \n",
        "3        4  Property type 2  Neighborhood 13     90                2   \n",
        "4        5  Property type 1  Neighborhood 15    125                5   \n",
        "\n",
        "   picture_count  description_length  tenure_months  \n",
        "0             11                 232             30  \n",
        "1              3                  37             29  \n",
        "2             16                 172             29  \n",
        "3             19                 472             28  \n",
        "4             21                 442             28  \n",
        "\n",
        "[5 rows x 8 columns]"
       ]
      }
     ],
     "prompt_number": 488
    },
    {
     "cell_type": "code",
     "collapsed": false,
     "input": [
      "#Identifying the columns in the bookings dataframe\n",
      "bookings.head()"
     ],
     "language": "python",
     "metadata": {},
     "outputs": [
      {
       "html": [
        "<div style=\"max-height:1000px;max-width:1500px;overflow:auto;\">\n",
        "<table border=\"1\" class=\"dataframe\">\n",
        "  <thead>\n",
        "    <tr style=\"text-align: right;\">\n",
        "      <th></th>\n",
        "      <th>prop_id</th>\n",
        "      <th>booking_date</th>\n",
        "    </tr>\n",
        "  </thead>\n",
        "  <tbody>\n",
        "    <tr>\n",
        "      <th>0</th>\n",
        "      <td>  9</td>\n",
        "      <td> 2011-06-17</td>\n",
        "    </tr>\n",
        "    <tr>\n",
        "      <th>1</th>\n",
        "      <td> 13</td>\n",
        "      <td> 2011-08-12</td>\n",
        "    </tr>\n",
        "    <tr>\n",
        "      <th>2</th>\n",
        "      <td> 21</td>\n",
        "      <td> 2011-06-20</td>\n",
        "    </tr>\n",
        "    <tr>\n",
        "      <th>3</th>\n",
        "      <td> 28</td>\n",
        "      <td> 2011-05-05</td>\n",
        "    </tr>\n",
        "    <tr>\n",
        "      <th>4</th>\n",
        "      <td> 29</td>\n",
        "      <td> 2011-11-17</td>\n",
        "    </tr>\n",
        "  </tbody>\n",
        "</table>\n",
        "<p>5 rows \u00d7 2 columns</p>\n",
        "</div>"
       ],
       "metadata": {},
       "output_type": "pyout",
       "prompt_number": 489,
       "text": [
        "   prop_id booking_date\n",
        "0        9   2011-06-17\n",
        "1       13   2011-08-12\n",
        "2       21   2011-06-20\n",
        "3       28   2011-05-05\n",
        "4       29   2011-11-17\n",
        "\n",
        "[5 rows x 2 columns]"
       ]
      }
     ],
     "prompt_number": 489
    },
    {
     "cell_type": "markdown",
     "metadata": {},
     "source": [
      "###What is the mean, median and standard deviation of price, person capacity, picture count, description length and tenure of the properties?"
     ]
    },
    {
     "cell_type": "code",
     "collapsed": false,
     "input": [
      "#Mean, Standard Deviation of price, person capacity, picture count, description length and tenure of the properties \n",
      "listings.iloc[: , 3:8].describe()"
     ],
     "language": "python",
     "metadata": {},
     "outputs": [
      {
       "html": [
        "<div style=\"max-height:1000px;max-width:1500px;overflow:auto;\">\n",
        "<table border=\"1\" class=\"dataframe\">\n",
        "  <thead>\n",
        "    <tr style=\"text-align: right;\">\n",
        "      <th></th>\n",
        "      <th>price</th>\n",
        "      <th>person_capacity</th>\n",
        "      <th>picture_count</th>\n",
        "      <th>description_length</th>\n",
        "      <th>tenure_months</th>\n",
        "    </tr>\n",
        "  </thead>\n",
        "  <tbody>\n",
        "    <tr>\n",
        "      <th>count</th>\n",
        "      <td>  408.000000</td>\n",
        "      <td> 408.000000</td>\n",
        "      <td> 408.000000</td>\n",
        "      <td>  408.000000</td>\n",
        "      <td> 408.000000</td>\n",
        "    </tr>\n",
        "    <tr>\n",
        "      <th>mean</th>\n",
        "      <td>  187.806373</td>\n",
        "      <td>   2.997549</td>\n",
        "      <td>  14.389706</td>\n",
        "      <td>  309.159314</td>\n",
        "      <td>   8.487745</td>\n",
        "    </tr>\n",
        "    <tr>\n",
        "      <th>std</th>\n",
        "      <td>  353.050858</td>\n",
        "      <td>   1.594676</td>\n",
        "      <td>  10.477428</td>\n",
        "      <td>  228.021684</td>\n",
        "      <td>   5.872088</td>\n",
        "    </tr>\n",
        "    <tr>\n",
        "      <th>min</th>\n",
        "      <td>   39.000000</td>\n",
        "      <td>   1.000000</td>\n",
        "      <td>   1.000000</td>\n",
        "      <td>    0.000000</td>\n",
        "      <td>   1.000000</td>\n",
        "    </tr>\n",
        "    <tr>\n",
        "      <th>25%</th>\n",
        "      <td>   90.000000</td>\n",
        "      <td>   2.000000</td>\n",
        "      <td>   6.000000</td>\n",
        "      <td>  179.000000</td>\n",
        "      <td>   4.000000</td>\n",
        "    </tr>\n",
        "    <tr>\n",
        "      <th>50%</th>\n",
        "      <td>  125.000000</td>\n",
        "      <td>   2.000000</td>\n",
        "      <td>  12.000000</td>\n",
        "      <td>  250.000000</td>\n",
        "      <td>   7.000000</td>\n",
        "    </tr>\n",
        "    <tr>\n",
        "      <th>75%</th>\n",
        "      <td>  199.000000</td>\n",
        "      <td>   4.000000</td>\n",
        "      <td>  20.000000</td>\n",
        "      <td>  389.500000</td>\n",
        "      <td>  13.000000</td>\n",
        "    </tr>\n",
        "    <tr>\n",
        "      <th>max</th>\n",
        "      <td> 5000.000000</td>\n",
        "      <td>  10.000000</td>\n",
        "      <td>  71.000000</td>\n",
        "      <td> 1969.000000</td>\n",
        "      <td>  30.000000</td>\n",
        "    </tr>\n",
        "  </tbody>\n",
        "</table>\n",
        "<p>8 rows \u00d7 5 columns</p>\n",
        "</div>"
       ],
       "metadata": {},
       "output_type": "pyout",
       "prompt_number": 490,
       "text": [
        "             price  person_capacity  picture_count  description_length  \\\n",
        "count   408.000000       408.000000     408.000000          408.000000   \n",
        "mean    187.806373         2.997549      14.389706          309.159314   \n",
        "std     353.050858         1.594676      10.477428          228.021684   \n",
        "min      39.000000         1.000000       1.000000            0.000000   \n",
        "25%      90.000000         2.000000       6.000000          179.000000   \n",
        "50%     125.000000         2.000000      12.000000          250.000000   \n",
        "75%     199.000000         4.000000      20.000000          389.500000   \n",
        "max    5000.000000        10.000000      71.000000         1969.000000   \n",
        "\n",
        "       tenure_months  \n",
        "count     408.000000  \n",
        "mean        8.487745  \n",
        "std         5.872088  \n",
        "min         1.000000  \n",
        "25%         4.000000  \n",
        "50%         7.000000  \n",
        "75%        13.000000  \n",
        "max        30.000000  \n",
        "\n",
        "[8 rows x 5 columns]"
       ]
      }
     ],
     "prompt_number": 490
    },
    {
     "cell_type": "code",
     "collapsed": false,
     "input": [
      "#Median of the above columns\n",
      "listings.iloc[: , 3:8].median()"
     ],
     "language": "python",
     "metadata": {},
     "outputs": [
      {
       "metadata": {},
       "output_type": "pyout",
       "prompt_number": 480,
       "text": [
        "price                 125\n",
        "person_capacity         2\n",
        "picture_count          12\n",
        "description_length    250\n",
        "tenure_months           7\n",
        "dtype: float64"
       ]
      }
     ],
     "prompt_number": 480
    },
    {
     "cell_type": "markdown",
     "metadata": {},
     "source": [
      "###What what are the mean price, person capacity, picture count, description length and tenure of the properties grouped by property type?"
     ]
    },
    {
     "cell_type": "code",
     "collapsed": false,
     "input": [
      "# Mean Price, person capacity, picture count, description length, tenure months grouped by property type\n",
      "listings.groupby([\"prop_type\"])[\"price\",\"person_capacity\",\"picture_count\",\"description_length\",\"tenure_months\"].mean()"
     ],
     "language": "python",
     "metadata": {},
     "outputs": [
      {
       "html": [
        "<div style=\"max-height:1000px;max-width:1500px;overflow:auto;\">\n",
        "<table border=\"1\" class=\"dataframe\">\n",
        "  <thead>\n",
        "    <tr style=\"text-align: right;\">\n",
        "      <th></th>\n",
        "      <th>price</th>\n",
        "      <th>person_capacity</th>\n",
        "      <th>picture_count</th>\n",
        "      <th>description_length</th>\n",
        "      <th>tenure_months</th>\n",
        "    </tr>\n",
        "    <tr>\n",
        "      <th>prop_type</th>\n",
        "      <th></th>\n",
        "      <th></th>\n",
        "      <th></th>\n",
        "      <th></th>\n",
        "      <th></th>\n",
        "    </tr>\n",
        "  </thead>\n",
        "  <tbody>\n",
        "    <tr>\n",
        "      <th>Property type 1</th>\n",
        "      <td> 237.085502</td>\n",
        "      <td> 3.516729</td>\n",
        "      <td> 14.695167</td>\n",
        "      <td> 313.171004</td>\n",
        "      <td>  8.464684</td>\n",
        "    </tr>\n",
        "    <tr>\n",
        "      <th>Property type 2</th>\n",
        "      <td>  93.288889</td>\n",
        "      <td> 2.000000</td>\n",
        "      <td> 13.948148</td>\n",
        "      <td> 304.851852</td>\n",
        "      <td>  8.377778</td>\n",
        "    </tr>\n",
        "    <tr>\n",
        "      <th>Property type 3</th>\n",
        "      <td>  63.750000</td>\n",
        "      <td> 1.750000</td>\n",
        "      <td>  8.750000</td>\n",
        "      <td> 184.750000</td>\n",
        "      <td> 13.750000</td>\n",
        "    </tr>\n",
        "  </tbody>\n",
        "</table>\n",
        "<p>3 rows \u00d7 5 columns</p>\n",
        "</div>"
       ],
       "metadata": {},
       "output_type": "pyout",
       "prompt_number": 491,
       "text": [
        "                      price  person_capacity  picture_count  \\\n",
        "prop_type                                                     \n",
        "Property type 1  237.085502         3.516729      14.695167   \n",
        "Property type 2   93.288889         2.000000      13.948148   \n",
        "Property type 3   63.750000         1.750000       8.750000   \n",
        "\n",
        "                 description_length  tenure_months  \n",
        "prop_type                                           \n",
        "Property type 1          313.171004       8.464684  \n",
        "Property type 2          304.851852       8.377778  \n",
        "Property type 3          184.750000      13.750000  \n",
        "\n",
        "[3 rows x 5 columns]"
       ]
      }
     ],
     "prompt_number": 491
    },
    {
     "cell_type": "markdown",
     "metadata": {},
     "source": [
      "###Same, but by property type per neighborhood? "
     ]
    },
    {
     "cell_type": "code",
     "collapsed": false,
     "input": [
      "listings.groupby([\"prop_type\",\"neighborhood\"])[\"price\",\"person_capacity\",\"picture_count\",\"description_length\",\"tenure_months\"].mean()"
     ],
     "language": "python",
     "metadata": {},
     "outputs": [
      {
       "html": [
        "<div style=\"max-height:1000px;max-width:1500px;overflow:auto;\">\n",
        "<table border=\"1\" class=\"dataframe\">\n",
        "  <thead>\n",
        "    <tr style=\"text-align: right;\">\n",
        "      <th></th>\n",
        "      <th></th>\n",
        "      <th>price</th>\n",
        "      <th>person_capacity</th>\n",
        "      <th>picture_count</th>\n",
        "      <th>description_length</th>\n",
        "      <th>tenure_months</th>\n",
        "    </tr>\n",
        "    <tr>\n",
        "      <th>prop_type</th>\n",
        "      <th>neighborhood</th>\n",
        "      <th></th>\n",
        "      <th></th>\n",
        "      <th></th>\n",
        "      <th></th>\n",
        "      <th></th>\n",
        "    </tr>\n",
        "  </thead>\n",
        "  <tbody>\n",
        "    <tr>\n",
        "      <th rowspan=\"20\" valign=\"top\">Property type 1</th>\n",
        "      <th>Neighborhood 1</th>\n",
        "      <td>  85.000000</td>\n",
        "      <td> 2.000000</td>\n",
        "      <td> 26.000000</td>\n",
        "      <td> 209.000000</td>\n",
        "      <td>  6.000000</td>\n",
        "    </tr>\n",
        "    <tr>\n",
        "      <th>Neighborhood 10</th>\n",
        "      <td> 142.500000</td>\n",
        "      <td> 3.500000</td>\n",
        "      <td> 13.333333</td>\n",
        "      <td> 391.000000</td>\n",
        "      <td>  3.833333</td>\n",
        "    </tr>\n",
        "    <tr>\n",
        "      <th>Neighborhood 11</th>\n",
        "      <td> 159.428571</td>\n",
        "      <td> 3.214286</td>\n",
        "      <td>  9.928571</td>\n",
        "      <td> 379.000000</td>\n",
        "      <td>  9.642857</td>\n",
        "    </tr>\n",
        "    <tr>\n",
        "      <th>Neighborhood 12</th>\n",
        "      <td> 365.615385</td>\n",
        "      <td> 3.435897</td>\n",
        "      <td> 10.820513</td>\n",
        "      <td> 267.205128</td>\n",
        "      <td>  7.897436</td>\n",
        "    </tr>\n",
        "    <tr>\n",
        "      <th>Neighborhood 13</th>\n",
        "      <td> 241.897959</td>\n",
        "      <td> 4.061224</td>\n",
        "      <td> 15.653061</td>\n",
        "      <td> 290.408163</td>\n",
        "      <td>  9.122449</td>\n",
        "    </tr>\n",
        "    <tr>\n",
        "      <th>Neighborhood 14</th>\n",
        "      <td> 164.676471</td>\n",
        "      <td> 3.205882</td>\n",
        "      <td> 14.764706</td>\n",
        "      <td> 317.205882</td>\n",
        "      <td>  8.441176</td>\n",
        "    </tr>\n",
        "    <tr>\n",
        "      <th>Neighborhood 15</th>\n",
        "      <td> 178.880000</td>\n",
        "      <td> 3.720000</td>\n",
        "      <td> 14.320000</td>\n",
        "      <td> 321.760000</td>\n",
        "      <td>  9.320000</td>\n",
        "    </tr>\n",
        "    <tr>\n",
        "      <th>Neighborhood 16</th>\n",
        "      <td> 158.928571</td>\n",
        "      <td> 2.928571</td>\n",
        "      <td> 21.642857</td>\n",
        "      <td> 310.714286</td>\n",
        "      <td>  7.071429</td>\n",
        "    </tr>\n",
        "    <tr>\n",
        "      <th>Neighborhood 17</th>\n",
        "      <td> 189.869565</td>\n",
        "      <td> 3.521739</td>\n",
        "      <td> 16.086957</td>\n",
        "      <td> 317.347826</td>\n",
        "      <td>  9.869565</td>\n",
        "    </tr>\n",
        "    <tr>\n",
        "      <th>Neighborhood 18</th>\n",
        "      <td> 173.590909</td>\n",
        "      <td> 2.954545</td>\n",
        "      <td> 16.090909</td>\n",
        "      <td> 369.227273</td>\n",
        "      <td>  8.227273</td>\n",
        "    </tr>\n",
        "    <tr>\n",
        "      <th>Neighborhood 19</th>\n",
        "      <td> 222.375000</td>\n",
        "      <td> 3.625000</td>\n",
        "      <td> 11.000000</td>\n",
        "      <td> 254.500000</td>\n",
        "      <td>  6.500000</td>\n",
        "    </tr>\n",
        "    <tr>\n",
        "      <th>Neighborhood 2</th>\n",
        "      <td> 250.000000</td>\n",
        "      <td> 6.000000</td>\n",
        "      <td>  8.000000</td>\n",
        "      <td> 423.000000</td>\n",
        "      <td>  6.000000</td>\n",
        "    </tr>\n",
        "    <tr>\n",
        "      <th>Neighborhood 20</th>\n",
        "      <td> 804.333333</td>\n",
        "      <td> 2.777778</td>\n",
        "      <td>  9.444444</td>\n",
        "      <td> 223.555556</td>\n",
        "      <td>  9.666667</td>\n",
        "    </tr>\n",
        "    <tr>\n",
        "      <th>Neighborhood 21</th>\n",
        "      <td> 362.500000</td>\n",
        "      <td> 4.250000</td>\n",
        "      <td> 49.000000</td>\n",
        "      <td> 306.250000</td>\n",
        "      <td> 14.750000</td>\n",
        "    </tr>\n",
        "    <tr>\n",
        "      <th>Neighborhood 22</th>\n",
        "      <td> 225.000000</td>\n",
        "      <td> 3.000000</td>\n",
        "      <td> 19.000000</td>\n",
        "      <td> 500.000000</td>\n",
        "      <td>  9.000000</td>\n",
        "    </tr>\n",
        "    <tr>\n",
        "      <th>Neighborhood 5</th>\n",
        "      <td> 194.500000</td>\n",
        "      <td> 2.500000</td>\n",
        "      <td>  8.500000</td>\n",
        "      <td> 266.500000</td>\n",
        "      <td> 11.500000</td>\n",
        "    </tr>\n",
        "    <tr>\n",
        "      <th>Neighborhood 6</th>\n",
        "      <td> 146.000000</td>\n",
        "      <td> 3.333333</td>\n",
        "      <td> 12.666667</td>\n",
        "      <td> 290.666667</td>\n",
        "      <td>  4.000000</td>\n",
        "    </tr>\n",
        "    <tr>\n",
        "      <th>Neighborhood 7</th>\n",
        "      <td> 161.000000</td>\n",
        "      <td> 3.666667</td>\n",
        "      <td> 14.333333</td>\n",
        "      <td> 343.000000</td>\n",
        "      <td>  5.333333</td>\n",
        "    </tr>\n",
        "    <tr>\n",
        "      <th>Neighborhood 8</th>\n",
        "      <td> 174.750000</td>\n",
        "      <td> 5.000000</td>\n",
        "      <td> 11.000000</td>\n",
        "      <td> 300.000000</td>\n",
        "      <td>  6.750000</td>\n",
        "    </tr>\n",
        "    <tr>\n",
        "      <th>Neighborhood 9</th>\n",
        "      <td> 151.142857</td>\n",
        "      <td> 4.285714</td>\n",
        "      <td> 13.428571</td>\n",
        "      <td> 471.428571</td>\n",
        "      <td>  5.714286</td>\n",
        "    </tr>\n",
        "    <tr>\n",
        "      <th rowspan=\"16\" valign=\"top\">Property type 2</th>\n",
        "      <th>Neighborhood 10</th>\n",
        "      <td> 137.500000</td>\n",
        "      <td> 2.000000</td>\n",
        "      <td> 20.000000</td>\n",
        "      <td> 126.000000</td>\n",
        "      <td>  3.500000</td>\n",
        "    </tr>\n",
        "    <tr>\n",
        "      <th>Neighborhood 11</th>\n",
        "      <td>  78.750000</td>\n",
        "      <td> 2.000000</td>\n",
        "      <td> 16.750000</td>\n",
        "      <td> 161.250000</td>\n",
        "      <td> 11.250000</td>\n",
        "    </tr>\n",
        "    <tr>\n",
        "      <th>Neighborhood 12</th>\n",
        "      <td>  96.894737</td>\n",
        "      <td> 1.947368</td>\n",
        "      <td> 10.473684</td>\n",
        "      <td> 244.526316</td>\n",
        "      <td>  9.842105</td>\n",
        "    </tr>\n",
        "    <tr>\n",
        "      <th>Neighborhood 13</th>\n",
        "      <td>  81.130435</td>\n",
        "      <td> 1.826087</td>\n",
        "      <td> 16.695652</td>\n",
        "      <td> 418.565217</td>\n",
        "      <td>  9.739130</td>\n",
        "    </tr>\n",
        "    <tr>\n",
        "      <th>Neighborhood 14</th>\n",
        "      <td>  83.809524</td>\n",
        "      <td> 1.857143</td>\n",
        "      <td> 15.904762</td>\n",
        "      <td> 348.619048</td>\n",
        "      <td>  8.714286</td>\n",
        "    </tr>\n",
        "    <tr>\n",
        "      <th>Neighborhood 15</th>\n",
        "      <td>  95.000000</td>\n",
        "      <td> 2.266667</td>\n",
        "      <td> 11.733333</td>\n",
        "      <td> 301.733333</td>\n",
        "      <td>  8.200000</td>\n",
        "    </tr>\n",
        "    <tr>\n",
        "      <th>Neighborhood 16</th>\n",
        "      <td>  83.625000</td>\n",
        "      <td> 2.062500</td>\n",
        "      <td> 15.375000</td>\n",
        "      <td> 246.250000</td>\n",
        "      <td>  6.687500</td>\n",
        "    </tr>\n",
        "    <tr>\n",
        "      <th>Neighborhood 17</th>\n",
        "      <td> 102.454545</td>\n",
        "      <td> 2.000000</td>\n",
        "      <td> 15.454545</td>\n",
        "      <td> 308.272727</td>\n",
        "      <td>  7.181818</td>\n",
        "    </tr>\n",
        "    <tr>\n",
        "      <th>Neighborhood 18</th>\n",
        "      <td> 120.666667</td>\n",
        "      <td> 2.222222</td>\n",
        "      <td> 12.333333</td>\n",
        "      <td> 297.777778</td>\n",
        "      <td>  9.222222</td>\n",
        "    </tr>\n",
        "    <tr>\n",
        "      <th>Neighborhood 19</th>\n",
        "      <td>  88.875000</td>\n",
        "      <td> 2.000000</td>\n",
        "      <td> 15.125000</td>\n",
        "      <td> 383.375000</td>\n",
        "      <td>  5.500000</td>\n",
        "    </tr>\n",
        "    <tr>\n",
        "      <th>Neighborhood 20</th>\n",
        "      <td>  60.000000</td>\n",
        "      <td> 1.000000</td>\n",
        "      <td>  3.000000</td>\n",
        "      <td> 101.000000</td>\n",
        "      <td>  6.000000</td>\n",
        "    </tr>\n",
        "    <tr>\n",
        "      <th>Neighborhood 3</th>\n",
        "      <td>  60.000000</td>\n",
        "      <td> 2.000000</td>\n",
        "      <td>  7.000000</td>\n",
        "      <td> 264.000000</td>\n",
        "      <td>  9.000000</td>\n",
        "    </tr>\n",
        "    <tr>\n",
        "      <th>Neighborhood 4</th>\n",
        "      <td>  60.000000</td>\n",
        "      <td> 2.000000</td>\n",
        "      <td> 10.000000</td>\n",
        "      <td>  95.000000</td>\n",
        "      <td> 11.000000</td>\n",
        "    </tr>\n",
        "    <tr>\n",
        "      <th>Neighborhood 7</th>\n",
        "      <td> 100.000000</td>\n",
        "      <td> 2.000000</td>\n",
        "      <td>  3.000000</td>\n",
        "      <td> 148.000000</td>\n",
        "      <td>  2.000000</td>\n",
        "    </tr>\n",
        "    <tr>\n",
        "      <th>Neighborhood 8</th>\n",
        "      <td> 350.000000</td>\n",
        "      <td> 4.000000</td>\n",
        "      <td>  5.000000</td>\n",
        "      <td> 223.000000</td>\n",
        "      <td>  3.000000</td>\n",
        "    </tr>\n",
        "    <tr>\n",
        "      <th>Neighborhood 9</th>\n",
        "      <td> 110.000000</td>\n",
        "      <td> 2.000000</td>\n",
        "      <td>  3.500000</td>\n",
        "      <td> 114.500000</td>\n",
        "      <td>  9.000000</td>\n",
        "    </tr>\n",
        "    <tr>\n",
        "      <th rowspan=\"4\" valign=\"top\">Property type 3</th>\n",
        "      <th>Neighborhood 11</th>\n",
        "      <td>  75.000000</td>\n",
        "      <td> 2.000000</td>\n",
        "      <td> 15.000000</td>\n",
        "      <td> 196.000000</td>\n",
        "      <td>  8.000000</td>\n",
        "    </tr>\n",
        "    <tr>\n",
        "      <th>Neighborhood 14</th>\n",
        "      <td>  75.000000</td>\n",
        "      <td> 1.000000</td>\n",
        "      <td>  1.000000</td>\n",
        "      <td> 113.000000</td>\n",
        "      <td>  5.000000</td>\n",
        "    </tr>\n",
        "    <tr>\n",
        "      <th>Neighborhood 17</th>\n",
        "      <td>  65.000000</td>\n",
        "      <td> 2.000000</td>\n",
        "      <td> 15.000000</td>\n",
        "      <td> 189.000000</td>\n",
        "      <td> 23.000000</td>\n",
        "    </tr>\n",
        "    <tr>\n",
        "      <th>Neighborhood 4</th>\n",
        "      <td>  40.000000</td>\n",
        "      <td> 2.000000</td>\n",
        "      <td>  4.000000</td>\n",
        "      <td> 241.000000</td>\n",
        "      <td> 19.000000</td>\n",
        "    </tr>\n",
        "  </tbody>\n",
        "</table>\n",
        "<p>40 rows \u00d7 5 columns</p>\n",
        "</div>"
       ],
       "metadata": {},
       "output_type": "pyout",
       "prompt_number": 492,
       "text": [
        "                                      price  person_capacity  picture_count  \\\n",
        "prop_type       neighborhood                                                  \n",
        "Property type 1 Neighborhood 1    85.000000         2.000000      26.000000   \n",
        "                Neighborhood 10  142.500000         3.500000      13.333333   \n",
        "                Neighborhood 11  159.428571         3.214286       9.928571   \n",
        "                Neighborhood 12  365.615385         3.435897      10.820513   \n",
        "                Neighborhood 13  241.897959         4.061224      15.653061   \n",
        "                Neighborhood 14  164.676471         3.205882      14.764706   \n",
        "                Neighborhood 15  178.880000         3.720000      14.320000   \n",
        "                Neighborhood 16  158.928571         2.928571      21.642857   \n",
        "                Neighborhood 17  189.869565         3.521739      16.086957   \n",
        "                Neighborhood 18  173.590909         2.954545      16.090909   \n",
        "                Neighborhood 19  222.375000         3.625000      11.000000   \n",
        "                Neighborhood 2   250.000000         6.000000       8.000000   \n",
        "                Neighborhood 20  804.333333         2.777778       9.444444   \n",
        "                Neighborhood 21  362.500000         4.250000      49.000000   \n",
        "                Neighborhood 22  225.000000         3.000000      19.000000   \n",
        "                Neighborhood 5   194.500000         2.500000       8.500000   \n",
        "                Neighborhood 6   146.000000         3.333333      12.666667   \n",
        "                Neighborhood 7   161.000000         3.666667      14.333333   \n",
        "                Neighborhood 8   174.750000         5.000000      11.000000   \n",
        "                Neighborhood 9   151.142857         4.285714      13.428571   \n",
        "Property type 2 Neighborhood 10  137.500000         2.000000      20.000000   \n",
        "                Neighborhood 11   78.750000         2.000000      16.750000   \n",
        "                Neighborhood 12   96.894737         1.947368      10.473684   \n",
        "                Neighborhood 13   81.130435         1.826087      16.695652   \n",
        "                Neighborhood 14   83.809524         1.857143      15.904762   \n",
        "                Neighborhood 15   95.000000         2.266667      11.733333   \n",
        "                Neighborhood 16   83.625000         2.062500      15.375000   \n",
        "                Neighborhood 17  102.454545         2.000000      15.454545   \n",
        "                Neighborhood 18  120.666667         2.222222      12.333333   \n",
        "                Neighborhood 19   88.875000         2.000000      15.125000   \n",
        "                Neighborhood 20   60.000000         1.000000       3.000000   \n",
        "                Neighborhood 3    60.000000         2.000000       7.000000   \n",
        "                Neighborhood 4    60.000000         2.000000      10.000000   \n",
        "                Neighborhood 7   100.000000         2.000000       3.000000   \n",
        "                Neighborhood 8   350.000000         4.000000       5.000000   \n",
        "                Neighborhood 9   110.000000         2.000000       3.500000   \n",
        "Property type 3 Neighborhood 11   75.000000         2.000000      15.000000   \n",
        "                Neighborhood 14   75.000000         1.000000       1.000000   \n",
        "                Neighborhood 17   65.000000         2.000000      15.000000   \n",
        "                Neighborhood 4    40.000000         2.000000       4.000000   \n",
        "\n",
        "                                 description_length  tenure_months  \n",
        "prop_type       neighborhood                                        \n",
        "Property type 1 Neighborhood 1           209.000000       6.000000  \n",
        "                Neighborhood 10          391.000000       3.833333  \n",
        "                Neighborhood 11          379.000000       9.642857  \n",
        "                Neighborhood 12          267.205128       7.897436  \n",
        "                Neighborhood 13          290.408163       9.122449  \n",
        "                Neighborhood 14          317.205882       8.441176  \n",
        "                Neighborhood 15          321.760000       9.320000  \n",
        "                Neighborhood 16          310.714286       7.071429  \n",
        "                Neighborhood 17          317.347826       9.869565  \n",
        "                Neighborhood 18          369.227273       8.227273  \n",
        "                Neighborhood 19          254.500000       6.500000  \n",
        "                Neighborhood 2           423.000000       6.000000  \n",
        "                Neighborhood 20          223.555556       9.666667  \n",
        "                Neighborhood 21          306.250000      14.750000  \n",
        "                Neighborhood 22          500.000000       9.000000  \n",
        "                Neighborhood 5           266.500000      11.500000  \n",
        "                Neighborhood 6           290.666667       4.000000  \n",
        "                Neighborhood 7           343.000000       5.333333  \n",
        "                Neighborhood 8           300.000000       6.750000  \n",
        "                Neighborhood 9           471.428571       5.714286  \n",
        "Property type 2 Neighborhood 10          126.000000       3.500000  \n",
        "                Neighborhood 11          161.250000      11.250000  \n",
        "                Neighborhood 12          244.526316       9.842105  \n",
        "                Neighborhood 13          418.565217       9.739130  \n",
        "                Neighborhood 14          348.619048       8.714286  \n",
        "                Neighborhood 15          301.733333       8.200000  \n",
        "                Neighborhood 16          246.250000       6.687500  \n",
        "                Neighborhood 17          308.272727       7.181818  \n",
        "                Neighborhood 18          297.777778       9.222222  \n",
        "                Neighborhood 19          383.375000       5.500000  \n",
        "                Neighborhood 20          101.000000       6.000000  \n",
        "                Neighborhood 3           264.000000       9.000000  \n",
        "                Neighborhood 4            95.000000      11.000000  \n",
        "                Neighborhood 7           148.000000       2.000000  \n",
        "                Neighborhood 8           223.000000       3.000000  \n",
        "                Neighborhood 9           114.500000       9.000000  \n",
        "Property type 3 Neighborhood 11          196.000000       8.000000  \n",
        "                Neighborhood 14          113.000000       5.000000  \n",
        "                Neighborhood 17          189.000000      23.000000  \n",
        "                Neighborhood 4           241.000000      19.000000  \n",
        "\n",
        "[40 rows x 5 columns]"
       ]
      }
     ],
     "prompt_number": 492
    },
    {
     "cell_type": "markdown",
     "metadata": {},
     "source": [
      "###Plot daily bookings:"
     ]
    },
    {
     "cell_type": "code",
     "collapsed": false,
     "input": [
      "#Line Plot using valu_counts.\n",
      "bookings.booking_date.value_counts().plot(kind='line')"
     ],
     "language": "python",
     "metadata": {},
     "outputs": [
      {
       "metadata": {},
       "output_type": "pyout",
       "prompt_number": 590,
       "text": [
        "<matplotlib.axes.AxesSubplot at 0x1265ca350>"
       ]
      },
      {
       "metadata": {},
       "output_type": "display_data",
       "png": "[encoded data removed]",
       "text": [
        "<matplotlib.figure.Figure at 0x130718810>"
       ]
      }
     ],
     "prompt_number": 590
    },
    {
     "cell_type": "code",
     "collapsed": false,
     "input": [
      "#line plot using group by\n",
      "bookings.groupby(\"booking_date\")[\"booking_date\"].count().plot(kind = 'line')"
     ],
     "language": "python",
     "metadata": {},
     "outputs": [
      {
       "metadata": {},
       "output_type": "pyout",
       "prompt_number": 494,
       "text": [
        "<matplotlib.axes.AxesSubplot at 0x12ece6f50>"
       ]
      },
      {
       "metadata": {},
       "output_type": "display_data",
       "png": "[encoded data removed]",
       "text": [
        "<matplotlib.figure.Figure at 0x12ecdf450>"
       ]
      }
     ],
     "prompt_number": 494
    },
    {
     "cell_type": "markdown",
     "metadata": {},
     "source": [
      "###Plot the daily bookings per neighborhood (provide a legend)"
     ]
    },
    {
     "cell_type": "code",
     "collapsed": false,
     "input": [
      "#listmerge.groupby([\"neighborhood\",\"booking_date\"])\"prop_id\"].agg(['count']).unstack(0)"
     ],
     "language": "python",
     "metadata": {},
     "outputs": [],
     "prompt_number": 495
    },
    {
     "cell_type": "markdown",
     "metadata": {},
     "source": [
      "##Part 2 - Develop a data set"
     ]
    },
    {
     "cell_type": "code",
     "collapsed": false,
     "input": [
      "#Grouping the bookings data in order to get the counts per property\n",
      "nbookings = bookings.groupby(\"prop_id\")[[\"prop_id\"]].count()\n",
      "\n",
      "#renaming the count column to number_of_bookings as required in the question\n",
      "nbookings.rename(columns = {\"booking_date\" :  \"number_of_bookings\"}, inplace = True)\n",
      "\n",
      "#dropping redundant columns\n",
      "nbookings.drop(\"prop_id\", axis=1, inplace=True)  # Axis 0 is rows, Axis 1 is columns"
     ],
     "language": "python",
     "metadata": {},
     "outputs": [],
     "prompt_number": 496
    },
    {
     "cell_type": "code",
     "collapsed": false,
     "input": [
      "#nbookings"
     ],
     "language": "python",
     "metadata": {},
     "outputs": [],
     "prompt_number": 509
    },
    {
     "cell_type": "code",
     "collapsed": false,
     "input": [
      "#indexing the listings to prop_id. In order to do that, creating a column to replicate the prop_id. Used this to join with same index in bookings\n",
      "listings[\"prop_index\"]=listings[\"prop_id\"]\n",
      "listings.set_index([\"prop_index\"], inplace=True)"
     ],
     "language": "python",
     "metadata": {},
     "outputs": [],
     "prompt_number": 499
    },
    {
     "cell_type": "code",
     "collapsed": false,
     "input": [
      "#listings.prop_id"
     ],
     "language": "python",
     "metadata": {},
     "outputs": [],
     "prompt_number": 507
    },
    {
     "cell_type": "code",
     "collapsed": false,
     "input": [
      "#joining bookings and listings on index. Here index is prop_id\n",
      "listings = listings.join(nbookings)"
     ],
     "language": "python",
     "metadata": {},
     "outputs": [],
     "prompt_number": 503
    },
    {
     "cell_type": "code",
     "collapsed": false,
     "input": [
      "#listings.head(100)"
     ],
     "language": "python",
     "metadata": {},
     "outputs": [],
     "prompt_number": 510
    },
    {
     "cell_type": "markdown",
     "metadata": {},
     "source": [
      "###Add the columns `number_of_bookings` and `booking_rate` (number_of_bookings/tenure_months) to your `listings` data frame"
     ]
    },
    {
     "cell_type": "code",
     "collapsed": false,
     "input": [
      "#adding new calculated column\n",
      "listings[\"booking_rate\"] = listings[\"number_of_bookings\"]/listings[\"tenure_months\"]"
     ],
     "language": "python",
     "metadata": {},
     "outputs": [],
     "prompt_number": 511
    },
    {
     "cell_type": "code",
     "collapsed": false,
     "input": [
      "listings.head(1)"
     ],
     "language": "python",
     "metadata": {},
     "outputs": [
      {
       "html": [
        "<div style=\"max-height:1000px;max-width:1500px;overflow:auto;\">\n",
        "<table border=\"1\" class=\"dataframe\">\n",
        "  <thead>\n",
        "    <tr style=\"text-align: right;\">\n",
        "      <th></th>\n",
        "      <th>prop_id</th>\n",
        "      <th>prop_type</th>\n",
        "      <th>neighborhood</th>\n",
        "      <th>price</th>\n",
        "      <th>person_capacity</th>\n",
        "      <th>picture_count</th>\n",
        "      <th>description_length</th>\n",
        "      <th>tenure_months</th>\n",
        "      <th>number_of_bookings</th>\n",
        "      <th>booking_rate</th>\n",
        "    </tr>\n",
        "    <tr>\n",
        "      <th>prop_index</th>\n",
        "      <th></th>\n",
        "      <th></th>\n",
        "      <th></th>\n",
        "      <th></th>\n",
        "      <th></th>\n",
        "      <th></th>\n",
        "      <th></th>\n",
        "      <th></th>\n",
        "      <th></th>\n",
        "      <th></th>\n",
        "    </tr>\n",
        "  </thead>\n",
        "  <tbody>\n",
        "    <tr>\n",
        "      <th>1</th>\n",
        "      <td> 1</td>\n",
        "      <td> Property type 1</td>\n",
        "      <td> Neighborhood 14</td>\n",
        "      <td> 140</td>\n",
        "      <td> 3</td>\n",
        "      <td> 11</td>\n",
        "      <td> 232</td>\n",
        "      <td> 30</td>\n",
        "      <td> 4</td>\n",
        "      <td> 0.133333</td>\n",
        "    </tr>\n",
        "  </tbody>\n",
        "</table>\n",
        "<p>1 rows \u00d7 10 columns</p>\n",
        "</div>"
       ],
       "metadata": {},
       "output_type": "pyout",
       "prompt_number": 513,
       "text": [
        "            prop_id        prop_type     neighborhood  price  person_capacity  \\\n",
        "prop_index                                                                      \n",
        "1                 1  Property type 1  Neighborhood 14    140                3   \n",
        "\n",
        "            picture_count  description_length  tenure_months  \\\n",
        "prop_index                                                     \n",
        "1                      11                 232             30   \n",
        "\n",
        "            number_of_bookings  booking_rate  \n",
        "prop_index                                    \n",
        "1                            4      0.133333  \n",
        "\n",
        "[1 rows x 10 columns]"
       ]
      }
     ],
     "prompt_number": 513
    },
    {
     "cell_type": "markdown",
     "metadata": {},
     "source": [
      "###We only want to analyze well established properties, so let's filter out any properties that have a tenure less than 10 months "
     ]
    },
    {
     "cell_type": "code",
     "collapsed": false,
     "input": [
      "#moving the well established properties to another dataframe\n",
      "listings_we = listings[listings.tenure_months >= 10]"
     ],
     "language": "python",
     "metadata": {},
     "outputs": [],
     "prompt_number": 473
    },
    {
     "cell_type": "markdown",
     "metadata": {},
     "source": [
      "###`prop_type` and `neighborhood` are categorical variables, use `get_dummies()` (http://pandas.pydata.org/pandas-docs/stable/generated/pandas.core.reshape.get_dummies.html) to transform this column of categorical data to many columns of boolean values (after applying this function correctly there should be 1 column for every prop_type and 1 column for every neighborhood category."
     ]
    },
    {
     "cell_type": "code",
     "collapsed": false,
     "input": [
      "#seperating the prop_type into booloean values\n",
      "dummies_prop_type = pd.get_dummies(listings_we[\"prop_type\"])"
     ],
     "language": "python",
     "metadata": {},
     "outputs": [],
     "prompt_number": 515
    },
    {
     "cell_type": "code",
     "collapsed": false,
     "input": [
      "#seperating the neighborhood into booloean values\n",
      "dummies_neighborhood = pd.get_dummies(listings_we[\"neighborhood\"])"
     ],
     "language": "python",
     "metadata": {},
     "outputs": [],
     "prompt_number": 516
    },
    {
     "cell_type": "code",
     "collapsed": false,
     "input": [
      "dummies_neighborhood.info()\n",
      "dummies_prop_type.info()"
     ],
     "language": "python",
     "metadata": {},
     "outputs": [
      {
       "output_type": "stream",
       "stream": "stdout",
       "text": [
        "<class 'pandas.core.frame.DataFrame'>\n",
        "Int64Index: 144 entries, 1 to 144\n",
        "Data columns (total 16 columns):\n",
        "Neighborhood 11    144 non-null float64\n",
        "Neighborhood 12    144 non-null float64\n",
        "Neighborhood 13    144 non-null float64\n",
        "Neighborhood 14    144 non-null float64\n",
        "Neighborhood 15    144 non-null float64\n",
        "Neighborhood 16    144 non-null float64\n",
        "Neighborhood 17    144 non-null float64\n",
        "Neighborhood 18    144 non-null float64\n",
        "Neighborhood 19    144 non-null float64\n",
        "Neighborhood 20    144 non-null float64\n",
        "Neighborhood 21    144 non-null float64\n",
        "Neighborhood 4     144 non-null float64\n",
        "Neighborhood 5     144 non-null float64\n",
        "Neighborhood 7     144 non-null float64\n",
        "Neighborhood 8     144 non-null float64\n",
        "Neighborhood 9     144 non-null float64\n",
        "dtypes: float64(16)<class 'pandas.core.frame.DataFrame'>\n",
        "Int64Index: 144 entries, 1 to 144\n",
        "Data columns (total 3 columns):\n",
        "Property type 1    144 non-null float64\n",
        "Property type 2    144 non-null float64\n",
        "Property type 3    144 non-null float64\n",
        "dtypes: float64(3)"
       ]
      }
     ],
     "prompt_number": 589
    },
    {
     "cell_type": "code",
     "collapsed": false,
     "input": [
      "#joining the prop_type boolean columns to the main dataframe\n",
      "listings_we = listings_we.join(dummies_prop_type)"
     ],
     "language": "python",
     "metadata": {},
     "outputs": [],
     "prompt_number": 530
    },
    {
     "cell_type": "code",
     "collapsed": false,
     "input": [
      "#joining the neighborhood booloean values to the main dataframe\n",
      "listings_we = listings_we.join(dummies_neighborhood)"
     ],
     "language": "python",
     "metadata": {},
     "outputs": [],
     "prompt_number": 531
    },
    {
     "cell_type": "code",
     "collapsed": false,
     "input": [
      "listings_we.columns\n",
      "#columns with null values\n",
      "#booking_rate, number_of_bookings"
     ],
     "language": "python",
     "metadata": {},
     "outputs": [
      {
       "metadata": {},
       "output_type": "pyout",
       "prompt_number": 533,
       "text": [
        "Index([u'prop_id', u'prop_type', u'neighborhood', u'price', u'person_capacity', u'picture_count', u'description_length', u'tenure_months', u'number_of_bookings', u'booking_rate', u'Property type 1', u'Property type 2', u'Property type 3', u'Neighborhood 11', u'Neighborhood 12', u'Neighborhood 13', u'Neighborhood 14', u'Neighborhood 15', u'Neighborhood 16', u'Neighborhood 17', u'Neighborhood 18', u'Neighborhood 19', u'Neighborhood 20', u'Neighborhood 21', u'Neighborhood 4', u'Neighborhood 5', u'Neighborhood 7', u'Neighborhood 8', u'Neighborhood 9'], dtype='object')"
       ]
      }
     ],
     "prompt_number": 533
    },
    {
     "cell_type": "code",
     "collapsed": false,
     "input": [
      "#number of rows with null values in booking_rate\n",
      "len(listings_we[pd.isnull(listings_we.booking_rate)])\n",
      "#len(listings_we)\n",
      "#len(listings)"
     ],
     "language": "python",
     "metadata": {},
     "outputs": [
      {
       "metadata": {},
       "output_type": "pyout",
       "prompt_number": 534,
       "text": [
        "31"
       ]
      }
     ],
     "prompt_number": 534
    },
    {
     "cell_type": "code",
     "collapsed": false,
     "input": [
      "#Since booking rate is going to be our predictor variable, let us not consider the rows with null(NaN) \n",
      "#booking rate in our train/test sets\n",
      "listings_we = listings_we[listings_we.booking_rate.notnull()]"
     ],
     "language": "python",
     "metadata": {},
     "outputs": [],
     "prompt_number": 535
    },
    {
     "cell_type": "markdown",
     "metadata": {},
     "source": [
      "###create test and training sets for your regressors and predictors\n",
      "predictor (y) is `booking_rate`, regressors (X) are everything else, except `prop_id`,`booking_rate`,`prop_type`,`neighborhood` and `number_of_bookings`<br>\n",
      "http://scikit-learn.org/stable/modules/generated/sklearn.cross_validation.train_test_split.html<br>\n",
      "http://pandas.pydata.org/pandas-docs/stable/basics.html#dropping-labels-from-an-axis"
     ]
    },
    {
     "cell_type": "code",
     "collapsed": false,
     "input": [
      "from sklearn.cross_validation import train_test_split"
     ],
     "language": "python",
     "metadata": {},
     "outputs": [],
     "prompt_number": 536
    },
    {
     "cell_type": "code",
     "collapsed": false,
     "input": [
      "#features is X and target is y\n",
      "features = listings_we[[\"price\",\"person_capacity\",\"picture_count\",\"description_length\",\"tenure_months\",\"Property type 1\",\"Property type 2\", u'Property type 3', u'Neighborhood 11', u'Neighborhood 12', u'Neighborhood 13', u'Neighborhood 14', u'Neighborhood 15', u'Neighborhood 16', u'Neighborhood 17', u'Neighborhood 18', u'Neighborhood 19', u'Neighborhood 20', u'Neighborhood 21', u'Neighborhood 4', u'Neighborhood 5', u'Neighborhood 9']].values\n",
      "target = listings_we[\"booking_rate\"].values"
     ],
     "language": "python",
     "metadata": {},
     "outputs": [],
     "prompt_number": 537
    },
    {
     "cell_type": "code",
     "collapsed": false,
     "input": [
      "#X.shape gives the rows,column count of X\n",
      "features.shape"
     ],
     "language": "python",
     "metadata": {},
     "outputs": [
      {
       "metadata": {},
       "output_type": "pyout",
       "prompt_number": 538,
       "text": [
        "(113, 22)"
       ]
      }
     ],
     "prompt_number": 538
    },
    {
     "cell_type": "code",
     "collapsed": false,
     "input": [
      "#y.shape gives the target value count\n",
      "target.shape"
     ],
     "language": "python",
     "metadata": {},
     "outputs": [
      {
       "metadata": {},
       "output_type": "pyout",
       "prompt_number": 539,
       "text": [
        "(113,)"
       ]
      }
     ],
     "prompt_number": 539
    },
    {
     "cell_type": "code",
     "collapsed": false,
     "input": [
      "#values in target\n",
      "target"
     ],
     "language": "python",
     "metadata": {},
     "outputs": [
      {
       "metadata": {},
       "output_type": "pyout",
       "prompt_number": 540,
       "text": [
        "array([ 0.13333333,  0.03448276,  0.96428571,  3.14285714,  0.08333333,\n",
        "        1.2173913 ,  0.13043478,  1.13043478,  0.31818182,  2.04545455,\n",
        "        2.85      ,  1.55      ,  0.63157895,  2.31578947,  0.36842105,\n",
        "        0.05263158,  0.47368421,  0.5       ,  2.88888889,  1.52941176,\n",
        "        0.17647059,  0.11764706,  4.        ,  0.5       ,  0.125     ,\n",
        "        0.5625    ,  0.0625    ,  0.0625    ,  0.1875    ,  0.125     ,\n",
        "        0.125     ,  0.125     ,  0.125     ,  0.125     ,  0.1875    ,\n",
        "        0.0625    ,  0.1875    ,  0.125     ,  0.5       ,  0.1875    ,\n",
        "        0.125     ,  0.125     ,  0.25      ,  0.1875    ,  0.0625    ,\n",
        "        0.25      ,  0.125     ,  0.0625    ,  0.4375    ,  0.1875    ,\n",
        "        0.4375    ,  0.86666667,  4.53333333,  1.86666667,  0.33333333,\n",
        "        0.13333333,  0.06666667,  0.26666667,  0.13333333,  0.13333333,\n",
        "        4.06666667,  0.2       ,  0.06666667,  1.06666667,  3.33333333,\n",
        "        0.26666667,  1.        ,  1.5       ,  0.07142857,  0.64285714,\n",
        "        4.92857143,  0.5       ,  0.85714286,  0.35714286,  1.21428571,\n",
        "        1.30769231,  1.46153846,  1.61538462,  0.76923077,  2.53846154,\n",
        "        0.91666667,  0.75      ,  2.58333333,  0.16666667,  0.25      ,\n",
        "        3.08333333,  2.        ,  0.27272727,  0.72727273,  0.72727273,\n",
        "        1.        ,  0.09090909,  3.3       ,  3.8       ,  3.2       ,\n",
        "        3.6       ,  0.4       ,  3.        ,  4.1       ,  3.4       ,\n",
        "        1.9       ,  6.7       ,  2.        ,  2.2       ,  3.7       ,\n",
        "        4.6       ,  0.1       ,  3.7       ,  3.9       ,  1.        ,\n",
        "        0.1       ,  4.8       ,  2.1       ])"
       ]
      }
     ],
     "prompt_number": 540
    },
    {
     "cell_type": "code",
     "collapsed": false,
     "input": [
      "#train test split\n",
      "features_train, features_test, target_train, target_test = train_test_split(features, target, test_size=0.33)"
     ],
     "language": "python",
     "metadata": {},
     "outputs": [],
     "prompt_number": 562
    },
    {
     "cell_type": "markdown",
     "metadata": {},
     "source": [
      "##Part 3 - Model `booking_rate`"
     ]
    },
    {
     "cell_type": "markdown",
     "metadata": {},
     "source": [
      "###Create a linear regression model of your listings"
     ]
    },
    {
     "cell_type": "code",
     "collapsed": false,
     "input": [
      "from sklearn.linear_model import LinearRegression\n",
      "lr = LinearRegression()"
     ],
     "language": "python",
     "metadata": {},
     "outputs": [],
     "prompt_number": 563
    },
    {
     "cell_type": "markdown",
     "metadata": {},
     "source": [
      "###fit your model with your test sets"
     ]
    },
    {
     "cell_type": "code",
     "collapsed": false,
     "input": [
      "lr.fit(features_train, target_train)"
     ],
     "language": "python",
     "metadata": {},
     "outputs": [
      {
       "metadata": {},
       "output_type": "pyout",
       "prompt_number": 564,
       "text": [
        "LinearRegression(copy_X=True, fit_intercept=True, normalize=False)"
       ]
      }
     ],
     "prompt_number": 564
    },
    {
     "cell_type": "code",
     "collapsed": false,
     "input": [
      "#predicting y from X_test using the linear model created from train data\n",
      "target_pred = lr.predict(features_test)"
     ],
     "language": "python",
     "metadata": {},
     "outputs": [],
     "prompt_number": 565
    },
    {
     "cell_type": "code",
     "collapsed": false,
     "input": [
      "#square sum error\n",
      "sum_sq_model = np.sum((target_test - target_pred) ** 2)\n",
      "sum_sq_model"
     ],
     "language": "python",
     "metadata": {},
     "outputs": [
      {
       "metadata": {},
       "output_type": "pyout",
       "prompt_number": 566,
       "text": [
        "101.6471710188284"
       ]
      }
     ],
     "prompt_number": 566
    },
    {
     "cell_type": "markdown",
     "metadata": {},
     "source": [
      "###report the score\n",
      "http://scikit-learn.org/stable/modules/generated/sklearn.linear_model.LinearRegression.html#sklearn.linear_model.LinearRegression.score"
     ]
    },
    {
     "cell_type": "code",
     "collapsed": false,
     "input": [
      "lr.score(features_test,target_test)\n",
      "#lr.score(features_train,target_train)\n",
      "#features_train.shape"
     ],
     "language": "python",
     "metadata": {},
     "outputs": [
      {
       "metadata": {},
       "output_type": "pyout",
       "prompt_number": 567,
       "text": [
        "0.14628053517557793"
       ]
      }
     ],
     "prompt_number": 567
    },
    {
     "cell_type": "code",
     "collapsed": false,
     "input": [
      "#plotting original test Vs predicted\n",
      "fig, ax = plt.subplots(1, 1)\n",
      "\n",
      "ax.scatter(target_pred, target_test)\n",
      "ax.set_xlabel('Predicted')\n",
      "ax.set_ylabel('Actual')\n",
      "\n",
      "# Draw the ideal line\n",
      "ax.plot(target, target, 'r')"
     ],
     "language": "python",
     "metadata": {},
     "outputs": [
      {
       "metadata": {},
       "output_type": "pyout",
       "prompt_number": 568,
       "text": [
        "[<matplotlib.lines.Line2D at 0x12f948d90>]"
       ]
      },
      {
       "metadata": {},
       "output_type": "display_data",
       "png": "[encoded data removed]",
       "text": [
        "<matplotlib.figure.Figure at 0x1370a2b10>"
       ]
      }
     ],
     "prompt_number": 568
    },
    {
     "cell_type": "markdown",
     "metadata": {},
     "source": [
      "###Interpret the results of the above model:\n",
      "* What does the `score` method do?\n",
      "* What does this tell us about our model?"
     ]
    },
    {
     "cell_type": "markdown",
     "metadata": {},
     "source": [
      "The score method gives us the R-square value. It returns the R^2 of self.predict(X) wrt. y.\n",
      "Best possible score is 1.0, lower values are worse. Since the score in this case are low, this tells us that the model is not good"
     ]
    },
    {
     "cell_type": "code",
     "collapsed": false,
     "input": [],
     "language": "python",
     "metadata": {},
     "outputs": [],
     "prompt_number": 568
    },
    {
     "cell_type": "markdown",
     "metadata": {},
     "source": [
      "##Optional - Iterate\n",
      "Create an alternative predictor (e.g. monthly revenue) and use the same modeling pattern in Part 3 to  "
     ]
    },
    {
     "cell_type": "code",
     "collapsed": false,
     "input": [
      "#space to understand which columns is correlating with booking_rate\n",
      "from pandas.tools.plotting import scatter_matrix\n",
      "#scat = scatter_matrix(listings_we[[\"price\",\"person_capacity\",\"picture_count\",\"description_length\",\"tenure_months\",\"Property type 1\",\"Property type 2\", u'Property type 3', u'Neighborhood 11', u'Neighborhood 12', u'Neighborhood 13', u'Neighborhood 14', u'Neighborhood 15', u'Neighborhood 16', u'Neighborhood 17', u'Neighborhood 18', u'Neighborhood 19', u'Neighborhood 20', u'Neighborhood 21', u'Neighborhood 4', u'Neighborhood 5', u'Neighborhood 9']])\n",
      "scat = scatter_matrix(listings_we[[\"booking_rate\",\"person_capacity\"]])\n",
      "#,\"person_capacity\",\"picture_count\",\"description_length\",\"tenure_months\",\"Property type 1\",\"Property type 2\", u'Property type 3', u'Neighborhood 11', u'Neighborhood 12', u'Neighborhood 13', u'Neighborhood 14', u'Neighborhood 15', u'Neighborhood 16', u'Neighborhood 17', u'Neighborhood 18', u'Neighborhood 19', u'Neighborhood 20', u'Neighborhood 21', u'Neighborhood 4', u'Neighborhood 5', u'Neighborhood 9']])"
     ],
     "language": "python",
     "metadata": {},
     "outputs": [
      {
       "metadata": {},
       "output_type": "display_data",
       "png": "[encoded data removed]",
       "text": [
        "<matplotlib.figure.Figure at 0x12a86a990>"
       ]
      }
     ],
     "prompt_number": 569
    },
    {
     "cell_type": "code",
     "collapsed": false,
     "input": [
      "#Taking log of booking rate. Histogram looks more normally distributed than just the booking rate. See below two histograms\n",
      "booking_rate_log = np.log(listings_we.booking_rate)\n",
      "#listings_we.booking_rate.hist()\n",
      "booking_rate_log.hist()"
     ],
     "language": "python",
     "metadata": {},
     "outputs": [
      {
       "metadata": {},
       "output_type": "pyout",
       "prompt_number": 576,
       "text": [
        "<matplotlib.axes.AxesSubplot at 0x128c3f910>"
       ]
      },
      {
       "metadata": {},
       "output_type": "display_data",
       "png": "[encoded data removed]",
       "text": [
        "<matplotlib.figure.Figure at 0x129d3e910>"
       ]
      }
     ],
     "prompt_number": 576
    },
    {
     "cell_type": "code",
     "collapsed": false,
     "input": [
      "#original boking rate\n",
      "listings_we[\"booking_rate\"].hist()"
     ],
     "language": "python",
     "metadata": {},
     "outputs": [
      {
       "metadata": {},
       "output_type": "pyout",
       "prompt_number": 571,
       "text": [
        "<matplotlib.axes.AxesSubplot at 0x129feb190>"
       ]
      },
      {
       "metadata": {},
       "output_type": "display_data",
       "png": "[encoded data removed]",
       "text": [
        "<matplotlib.figure.Figure at 0x131910850>"
       ]
      }
     ],
     "prompt_number": 571
    },
    {
     "cell_type": "code",
     "collapsed": false,
     "input": [
      "#since taking the log gives negative results, shifting the data by 5 points.\n",
      "listings_we[\"booking_rate_log\"] = np.log(listings_we.booking_rate)+5"
     ],
     "language": "python",
     "metadata": {},
     "outputs": [],
     "prompt_number": 585
    },
    {
     "cell_type": "code",
     "collapsed": false,
     "input": [
      "#below histogram (log + 5) is ore normal and on the positive axis\n",
      "listings_we[\"booking_rate_log\"].hist()"
     ],
     "language": "python",
     "metadata": {},
     "outputs": [
      {
       "metadata": {},
       "output_type": "pyout",
       "prompt_number": 586,
       "text": [
        "<matplotlib.axes.AxesSubplot at 0x129dee090>"
       ]
      },
      {
       "metadata": {},
       "output_type": "display_data",
       "png": "[encoded data removed]",
       "text": [
        "<matplotlib.figure.Figure at 0x135ec7310>"
       ]
      }
     ],
     "prompt_number": 586
    },
    {
     "cell_type": "code",
     "collapsed": false,
     "input": [
      "#same steps with log\n",
      "lr_log = LinearRegression()\n",
      "features_log = listings_we[[\"price\",\"person_capacity\",\"picture_count\",\"description_length\",\"tenure_months\",\"Property type 1\",\"Property type 2\", u'Property type 3', u'Neighborhood 11', u'Neighborhood 12', u'Neighborhood 13', u'Neighborhood 14', u'Neighborhood 15', u'Neighborhood 16', u'Neighborhood 17', u'Neighborhood 18', u'Neighborhood 19', u'Neighborhood 20', u'Neighborhood 21', u'Neighborhood 4', u'Neighborhood 5', u'Neighborhood 9']].values\n",
      "target_log = listings_we[\"booking_rate_log\"].values\n",
      "features_log_train, features_log_test, target_log_train, target_log_test = train_test_split(features_log, target_log, test_size=0.33)\n",
      "lr_log.fit(features_log_train, target_log_train)\n",
      "target_log_pred = lr_log.predict(features_log_test)\n",
      "sum_sq_model_log = np.sum((target_log_test - target_log_pred) ** 2)\n",
      "print sum_sq_model_log\n",
      "print lr_log.score(features_log_test,target_log_test)"
     ],
     "language": "python",
     "metadata": {},
     "outputs": [
      {
       "output_type": "stream",
       "stream": "stdout",
       "text": [
        "58.8595012474\n",
        "0.323705291529\n"
       ]
      }
     ],
     "prompt_number": 587
    },
    {
     "cell_type": "code",
     "collapsed": false,
     "input": [
      "#plotting graph same as above\n",
      "fig, ax = plt.subplots(1, 1)\n",
      "\n",
      "ax.scatter(target_log_pred, target_log_test)\n",
      "ax.set_xlabel('Predicted')\n",
      "ax.set_ylabel('Actual')\n",
      "\n",
      "# Draw the ideal line\n",
      "ax.plot(target, target, 'r')"
     ],
     "language": "python",
     "metadata": {},
     "outputs": [
      {
       "metadata": {},
       "output_type": "pyout",
       "prompt_number": 588,
       "text": [
        "[<matplotlib.lines.Line2D at 0x128f42fd0>]"
       ]
      },
      {
       "metadata": {},
       "output_type": "display_data",
       "png": "[encoded data removed]",
       "text": [
        "<matplotlib.figure.Figure at 0x11a5fe9d0>"
       ]
      }
     ],
     "prompt_number": 588
    },
    {
     "cell_type": "code",
     "collapsed": false,
     "input": [
      "#space for trying other transformations\n",
      "booking_rate_arcsin = np.(listings_we.booking_rate)"
     ],
     "language": "python",
     "metadata": {},
     "outputs": [],
     "prompt_number": 464
    },
    {
     "cell_type": "code",
     "collapsed": false,
     "input": [
      "booking_rate_arcsin.hist()"
     ],
     "language": "python",
     "metadata": {},
     "outputs": [
      {
       "metadata": {},
       "output_type": "pyout",
       "prompt_number": 465,
       "text": [
        "<matplotlib.axes.AxesSubplot at 0x1298c7bd0>"
       ]
      },
      {
       "metadata": {},
       "output_type": "display_data",
       "png": "[encoded data removed]",
       "text": [
        "<matplotlib.figure.Figure at 0x12afde250>"
       ]
      }
     ],
     "prompt_number": 465
    },
    {
     "cell_type": "code",
     "collapsed": false,
     "input": [],
     "language": "python",
     "metadata": {},
     "outputs": []
    }
   ],
   "metadata": {}
  }
 ]
}