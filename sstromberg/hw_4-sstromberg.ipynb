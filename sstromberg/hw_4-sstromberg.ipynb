{
 "metadata": {
  "name": "",
  "signature": "sha256:c0ee608a063082b60615a24f35765faa0cd5dd060961c57b1b7d46651388858a"
 },
 "nbformat": 3,
 "nbformat_minor": 0,
 "worksheets": [
  {
   "cells": [
    {
     "cell_type": "markdown",
     "metadata": {},
     "source": [
      "## Homework 4:\n",
      "\n",
      "1. Follow the steps below to:\n",
      "    - Read `wine.csv` in the data folder.\n",
      "    - The First Column contains the Wine Category.  Don't use it in the models below.  We are going to treat it as unsupervized learning and compare the results to the Wine column.\n",
      "2. Try `KMeans` where `n_clusters = 3` and compare the clusters to the `Wine` column.\n",
      "3. Try PCA and see how much can you reduce the variable space.\n",
      "    - How many Components did you need to explain 99% of variance in this dataset?\n",
      "    - Plot the PCA variables to see if it brings out the clusters.\n",
      "5. Try `KMeans` and Hierarchical Clustering using data from PCA and compare again the clusters to the `Wine` column."
     ]
    },
    {
     "cell_type": "markdown",
     "metadata": {},
     "source": [
      "#### Dataset\n",
      "\n",
      "wine.csv is in data folder under homeworks"
     ]
    },
    {
     "cell_type": "code",
     "collapsed": false,
     "input": [
      "# Standard imports for data analysis packages in Python\n",
      "import pandas as pd\n",
      "import numpy as np\n",
      "import matplotlib.pyplot as plt\n",
      "\n",
      "# This enables inline Plots\n",
      "%matplotlib inline\n",
      "\n",
      "# Limit rows displayed in notebook\n",
      "pd.set_option('display.max_rows', 10)\n",
      "pd.set_option('display.precision', 2)"
     ],
     "language": "python",
     "metadata": {},
     "outputs": [],
     "prompt_number": 1
    },
    {
     "cell_type": "code",
     "collapsed": false,
     "input": [
      "!pwd"
     ],
     "language": "python",
     "metadata": {},
     "outputs": [
      {
       "output_type": "stream",
       "stream": "stdout",
       "text": [
        "/home/Sam/DAT_SF_11/homeworks/hw4\n"
       ]
      }
     ],
     "prompt_number": 2
    },
    {
     "cell_type": "code",
     "collapsed": false,
     "input": [
      "# dataset is in homeworks/data, so we back up a level\n",
      "df = pd.read_csv('..\\data\\wine.csv')"
     ],
     "language": "python",
     "metadata": {},
     "outputs": [],
     "prompt_number": 3
    },
    {
     "cell_type": "code",
     "collapsed": false,
     "input": [
      "# do we need to fiddle with a header row or the delimiter (unlikely since csv, but...)?\n",
      "df.head(5)"
     ],
     "language": "python",
     "metadata": {},
     "outputs": [
      {
       "html": [
        "<div style=\"max-height:1000px;max-width:1500px;overflow:auto;\">\n",
        "<table border=\"1\" class=\"dataframe\">\n",
        "  <thead>\n",
        "    <tr style=\"text-align: right;\">\n",
        "      <th></th>\n",
        "      <th>Wine</th>\n",
        "      <th>Alcohol</th>\n",
        "      <th>Malic.acid</th>\n",
        "      <th>Ash</th>\n",
        "      <th>Acl</th>\n",
        "      <th>Mg</th>\n",
        "      <th>Phenols</th>\n",
        "      <th>Flavanoids</th>\n",
        "      <th>Nonflavanoid.phenols</th>\n",
        "      <th>Proanth</th>\n",
        "      <th>Color.int</th>\n",
        "      <th>Hue</th>\n",
        "      <th>OD</th>\n",
        "      <th>Proline</th>\n",
        "    </tr>\n",
        "  </thead>\n",
        "  <tbody>\n",
        "    <tr>\n",
        "      <th>0</th>\n",
        "      <td> 1</td>\n",
        "      <td> 14.2</td>\n",
        "      <td> 1.7</td>\n",
        "      <td> 2.4</td>\n",
        "      <td> 15.6</td>\n",
        "      <td> 127</td>\n",
        "      <td> 2.8</td>\n",
        "      <td> 3.1</td>\n",
        "      <td> 0.3</td>\n",
        "      <td> 2.3</td>\n",
        "      <td> 5.6</td>\n",
        "      <td> 1.0</td>\n",
        "      <td> 3.9</td>\n",
        "      <td> 1065</td>\n",
        "    </tr>\n",
        "    <tr>\n",
        "      <th>1</th>\n",
        "      <td> 1</td>\n",
        "      <td> 13.2</td>\n",
        "      <td> 1.8</td>\n",
        "      <td> 2.1</td>\n",
        "      <td> 11.2</td>\n",
        "      <td> 100</td>\n",
        "      <td> 2.6</td>\n",
        "      <td> 2.8</td>\n",
        "      <td> 0.3</td>\n",
        "      <td> 1.3</td>\n",
        "      <td> 4.4</td>\n",
        "      <td> 1.1</td>\n",
        "      <td> 3.4</td>\n",
        "      <td> 1050</td>\n",
        "    </tr>\n",
        "    <tr>\n",
        "      <th>2</th>\n",
        "      <td> 1</td>\n",
        "      <td> 13.2</td>\n",
        "      <td> 2.4</td>\n",
        "      <td> 2.7</td>\n",
        "      <td> 18.6</td>\n",
        "      <td> 101</td>\n",
        "      <td> 2.8</td>\n",
        "      <td> 3.2</td>\n",
        "      <td> 0.3</td>\n",
        "      <td> 2.8</td>\n",
        "      <td> 5.7</td>\n",
        "      <td> 1.0</td>\n",
        "      <td> 3.2</td>\n",
        "      <td> 1185</td>\n",
        "    </tr>\n",
        "    <tr>\n",
        "      <th>3</th>\n",
        "      <td> 1</td>\n",
        "      <td> 14.4</td>\n",
        "      <td> 1.9</td>\n",
        "      <td> 2.5</td>\n",
        "      <td> 16.8</td>\n",
        "      <td> 113</td>\n",
        "      <td> 3.9</td>\n",
        "      <td> 3.5</td>\n",
        "      <td> 0.2</td>\n",
        "      <td> 2.2</td>\n",
        "      <td> 7.8</td>\n",
        "      <td> 0.9</td>\n",
        "      <td> 3.5</td>\n",
        "      <td> 1480</td>\n",
        "    </tr>\n",
        "    <tr>\n",
        "      <th>4</th>\n",
        "      <td> 1</td>\n",
        "      <td> 13.2</td>\n",
        "      <td> 2.6</td>\n",
        "      <td> 2.9</td>\n",
        "      <td> 21.0</td>\n",
        "      <td> 118</td>\n",
        "      <td> 2.8</td>\n",
        "      <td> 2.7</td>\n",
        "      <td> 0.4</td>\n",
        "      <td> 1.8</td>\n",
        "      <td> 4.3</td>\n",
        "      <td> 1.0</td>\n",
        "      <td> 2.9</td>\n",
        "      <td>  735</td>\n",
        "    </tr>\n",
        "  </tbody>\n",
        "</table>\n",
        "</div>"
       ],
       "metadata": {},
       "output_type": "pyout",
       "prompt_number": 4,
       "text": [
        "   Wine  Alcohol  Malic.acid  Ash   Acl   Mg  Phenols  Flavanoids  \\\n",
        "0     1     14.2         1.7  2.4  15.6  127      2.8         3.1   \n",
        "1     1     13.2         1.8  2.1  11.2  100      2.6         2.8   \n",
        "2     1     13.2         2.4  2.7  18.6  101      2.8         3.2   \n",
        "3     1     14.4         1.9  2.5  16.8  113      3.9         3.5   \n",
        "4     1     13.2         2.6  2.9  21.0  118      2.8         2.7   \n",
        "\n",
        "   Nonflavanoid.phenols  Proanth  Color.int  Hue   OD  Proline  \n",
        "0                   0.3      2.3        5.6  1.0  3.9     1065  \n",
        "1                   0.3      1.3        4.4  1.1  3.4     1050  \n",
        "2                   0.3      2.8        5.7  1.0  3.2     1185  \n",
        "3                   0.2      2.2        7.8  0.9  3.5     1480  \n",
        "4                   0.4      1.8        4.3  1.0  2.9      735  "
       ]
      }
     ],
     "prompt_number": 4
    },
    {
     "cell_type": "code",
     "collapsed": false,
     "input": [
      "df.tail(5)\n",
      "# and maybe we'll see how many 'real' categories of wine there are"
     ],
     "language": "python",
     "metadata": {},
     "outputs": [
      {
       "html": [
        "<div style=\"max-height:1000px;max-width:1500px;overflow:auto;\">\n",
        "<table border=\"1\" class=\"dataframe\">\n",
        "  <thead>\n",
        "    <tr style=\"text-align: right;\">\n",
        "      <th></th>\n",
        "      <th>Wine</th>\n",
        "      <th>Alcohol</th>\n",
        "      <th>Malic.acid</th>\n",
        "      <th>Ash</th>\n",
        "      <th>Acl</th>\n",
        "      <th>Mg</th>\n",
        "      <th>Phenols</th>\n",
        "      <th>Flavanoids</th>\n",
        "      <th>Nonflavanoid.phenols</th>\n",
        "      <th>Proanth</th>\n",
        "      <th>Color.int</th>\n",
        "      <th>Hue</th>\n",
        "      <th>OD</th>\n",
        "      <th>Proline</th>\n",
        "    </tr>\n",
        "  </thead>\n",
        "  <tbody>\n",
        "    <tr>\n",
        "      <th>173</th>\n",
        "      <td> 3</td>\n",
        "      <td> 13.7</td>\n",
        "      <td> 5.7</td>\n",
        "      <td> 2.5</td>\n",
        "      <td> 20.5</td>\n",
        "      <td>  95</td>\n",
        "      <td> 1.7</td>\n",
        "      <td> 0.6</td>\n",
        "      <td> 0.5</td>\n",
        "      <td> 1.1</td>\n",
        "      <td>  7.7</td>\n",
        "      <td> 0.6</td>\n",
        "      <td> 1.7</td>\n",
        "      <td> 740</td>\n",
        "    </tr>\n",
        "    <tr>\n",
        "      <th>174</th>\n",
        "      <td> 3</td>\n",
        "      <td> 13.4</td>\n",
        "      <td> 3.9</td>\n",
        "      <td> 2.5</td>\n",
        "      <td> 23.0</td>\n",
        "      <td> 102</td>\n",
        "      <td> 1.8</td>\n",
        "      <td> 0.8</td>\n",
        "      <td> 0.4</td>\n",
        "      <td> 1.4</td>\n",
        "      <td>  7.3</td>\n",
        "      <td> 0.7</td>\n",
        "      <td> 1.6</td>\n",
        "      <td> 750</td>\n",
        "    </tr>\n",
        "    <tr>\n",
        "      <th>175</th>\n",
        "      <td> 3</td>\n",
        "      <td> 13.3</td>\n",
        "      <td> 4.3</td>\n",
        "      <td> 2.3</td>\n",
        "      <td> 20.0</td>\n",
        "      <td> 120</td>\n",
        "      <td> 1.6</td>\n",
        "      <td> 0.7</td>\n",
        "      <td> 0.4</td>\n",
        "      <td> 1.4</td>\n",
        "      <td> 10.2</td>\n",
        "      <td> 0.6</td>\n",
        "      <td> 1.6</td>\n",
        "      <td> 835</td>\n",
        "    </tr>\n",
        "    <tr>\n",
        "      <th>176</th>\n",
        "      <td> 3</td>\n",
        "      <td> 13.2</td>\n",
        "      <td> 2.6</td>\n",
        "      <td> 2.4</td>\n",
        "      <td> 20.0</td>\n",
        "      <td> 120</td>\n",
        "      <td> 1.6</td>\n",
        "      <td> 0.7</td>\n",
        "      <td> 0.5</td>\n",
        "      <td> 1.5</td>\n",
        "      <td>  9.3</td>\n",
        "      <td> 0.6</td>\n",
        "      <td> 1.6</td>\n",
        "      <td> 840</td>\n",
        "    </tr>\n",
        "    <tr>\n",
        "      <th>177</th>\n",
        "      <td> 3</td>\n",
        "      <td> 14.1</td>\n",
        "      <td> 4.1</td>\n",
        "      <td> 2.7</td>\n",
        "      <td> 24.5</td>\n",
        "      <td>  96</td>\n",
        "      <td> 2.0</td>\n",
        "      <td> 0.8</td>\n",
        "      <td> 0.6</td>\n",
        "      <td> 1.4</td>\n",
        "      <td>  9.2</td>\n",
        "      <td> 0.6</td>\n",
        "      <td> 1.6</td>\n",
        "      <td> 560</td>\n",
        "    </tr>\n",
        "  </tbody>\n",
        "</table>\n",
        "</div>"
       ],
       "metadata": {},
       "output_type": "pyout",
       "prompt_number": 5,
       "text": [
        "     Wine  Alcohol  Malic.acid  Ash   Acl   Mg  Phenols  Flavanoids  \\\n",
        "173     3     13.7         5.7  2.5  20.5   95      1.7         0.6   \n",
        "174     3     13.4         3.9  2.5  23.0  102      1.8         0.8   \n",
        "175     3     13.3         4.3  2.3  20.0  120      1.6         0.7   \n",
        "176     3     13.2         2.6  2.4  20.0  120      1.6         0.7   \n",
        "177     3     14.1         4.1  2.7  24.5   96      2.0         0.8   \n",
        "\n",
        "     Nonflavanoid.phenols  Proanth  Color.int  Hue   OD  Proline  \n",
        "173                   0.5      1.1        7.7  0.6  1.7      740  \n",
        "174                   0.4      1.4        7.3  0.7  1.6      750  \n",
        "175                   0.4      1.4       10.2  0.6  1.6      835  \n",
        "176                   0.5      1.5        9.3  0.6  1.6      840  \n",
        "177                   0.6      1.4        9.2  0.6  1.6      560  "
       ]
      }
     ],
     "prompt_number": 5
    },
    {
     "cell_type": "code",
     "collapsed": false,
     "input": [
      "# nope! it looks like it read correctly!\n",
      "\n",
      "df.info()"
     ],
     "language": "python",
     "metadata": {},
     "outputs": [
      {
       "output_type": "stream",
       "stream": "stdout",
       "text": [
        "<class 'pandas.core.frame.DataFrame'>\n",
        "Int64Index: 178 entries, 0 to 177\n",
        "Data columns (total 14 columns):\n",
        "Wine                    178 non-null int64\n",
        "Alcohol                 178 non-null float64\n",
        "Malic.acid              178 non-null float64\n",
        "Ash                     178 non-null float64\n",
        "Acl                     178 non-null float64\n",
        "Mg                      178 non-null int64\n",
        "Phenols                 178 non-null float64\n",
        "Flavanoids              178 non-null float64\n",
        "Nonflavanoid.phenols    178 non-null float64\n",
        "Proanth                 178 non-null float64\n",
        "Color.int               178 non-null float64\n",
        "Hue                     178 non-null float64\n",
        "OD                      178 non-null float64\n",
        "Proline                 178 non-null int64\n",
        "dtypes: float64(11), int64(3)"
       ]
      }
     ],
     "prompt_number": 6
    },
    {
     "cell_type": "code",
     "collapsed": false,
     "input": [
      "# ok, so we have a category (Wine), which we'll be omitting for our unsupervised learning, and 13 characteristics for each obs\n",
      "\n",
      "# because we have 178 entries, and everything shows up as 178 non-null numeric values, we don't appear to have any missing data\n",
      "# !!!!!!!"
     ],
     "language": "python",
     "metadata": {},
     "outputs": [],
     "prompt_number": 7
    },
    {
     "cell_type": "heading",
     "level": 3,
     "metadata": {},
     "source": [
      "Step 2. Try KMeans where n_clusters = 3 and compare the clusters to the Wine column."
     ]
    },
    {
     "cell_type": "code",
     "collapsed": false,
     "input": [
      "from sklearn.learning_curve import learning_curve\n",
      "from sklearn import feature_extraction\n",
      "from sklearn.preprocessing import scale\n",
      "\n",
      "from sklearn.cluster import KMeans\n",
      "from sklearn.metrics import classification_report\n",
      "\n",
      "from sklearn.decomposition import PCA"
     ],
     "language": "python",
     "metadata": {},
     "outputs": [],
     "prompt_number": 8
    },
    {
     "cell_type": "code",
     "collapsed": false,
     "input": [
      "X = df.drop('Wine', axis = 1)\n",
      "y = df['Wine']"
     ],
     "language": "python",
     "metadata": {},
     "outputs": [],
     "prompt_number": 9
    },
    {
     "cell_type": "code",
     "collapsed": false,
     "input": [
      "kmn = KMeans(n_clusters=3, n_init=20, random_state=24)\n",
      "kmn.fit(X)"
     ],
     "language": "python",
     "metadata": {},
     "outputs": [
      {
       "metadata": {},
       "output_type": "pyout",
       "prompt_number": 10,
       "text": [
        "KMeans(copy_x=True, init='k-means++', max_iter=300, n_clusters=3, n_init=20,\n",
        "    n_jobs=1, precompute_distances=True, random_state=24, tol=0.0001,\n",
        "    verbose=0)"
       ]
      }
     ],
     "prompt_number": 10
    },
    {
     "cell_type": "code",
     "collapsed": false,
     "input": [
      "y_pred = kmn.predict(X)"
     ],
     "language": "python",
     "metadata": {},
     "outputs": [],
     "prompt_number": 11
    },
    {
     "cell_type": "code",
     "collapsed": false,
     "input": [
      "print classification_report(y, y_pred)"
     ],
     "language": "python",
     "metadata": {},
     "outputs": [
      {
       "output_type": "stream",
       "stream": "stdout",
       "text": [
        "             precision    recall  f1-score   support\n",
        "\n",
        "          0       0.00      0.00      0.00         0\n",
        "          1       0.00      0.00      0.00        59\n",
        "          2       0.32      0.28      0.30        71\n",
        "          3       0.00      0.00      0.00        48\n",
        "\n",
        "avg / total       0.13      0.11      0.12       178\n",
        "\n"
       ]
      },
      {
       "output_type": "stream",
       "stream": "stderr",
       "text": [
        "C:\\Anaconda\\lib\\site-packages\\sklearn\\metrics\\metrics.py:1771: UndefinedMetricWarning: Precision and F-score are ill-defined and being set to 0.0 in labels with no predicted samples.\n",
        "  'precision', 'predicted', average, warn_for)\n",
        "C:\\Anaconda\\lib\\site-packages\\sklearn\\metrics\\metrics.py:1773: UndefinedMetricWarning: Recall and F-score are ill-defined and being set to 0.0 in labels with no true samples.\n",
        "  'recall', 'true', average, warn_for)\n"
       ]
      }
     ],
     "prompt_number": 12
    },
    {
     "cell_type": "code",
     "collapsed": false,
     "input": [
      "# oof! looks like we didn't classify any samples as Wine=3?\n",
      "\n",
      "# Most likely explanation: we DIDN'T SCALE OUR VARIABLES, so only a couple of them are doing any work in the K-Means"
     ],
     "language": "python",
     "metadata": {},
     "outputs": [],
     "prompt_number": 13
    },
    {
     "cell_type": "code",
     "collapsed": false,
     "input": [
      "X2 = scale(np.array(X.values))"
     ],
     "language": "python",
     "metadata": {},
     "outputs": [],
     "prompt_number": 14
    },
    {
     "cell_type": "code",
     "collapsed": false,
     "input": [
      "kmn.fit(X2)\n",
      "y_pred = kmn.predict(X2)"
     ],
     "language": "python",
     "metadata": {},
     "outputs": [],
     "prompt_number": 15
    },
    {
     "cell_type": "code",
     "collapsed": false,
     "input": [
      "print classification_report(y, y_pred)"
     ],
     "language": "python",
     "metadata": {},
     "outputs": [
      {
       "output_type": "stream",
       "stream": "stdout",
       "text": [
        "             precision    recall  f1-score   support\n",
        "\n",
        "          0       0.00      0.00      0.00         0\n",
        "          1       0.00      0.00      0.00        59\n",
        "          2       0.06      0.04      0.05        71\n",
        "          3       0.00      0.00      0.00        48\n",
        "\n",
        "avg / total       0.02      0.02      0.02       178\n",
        "\n"
       ]
      }
     ],
     "prompt_number": 16
    },
    {
     "cell_type": "code",
     "collapsed": false,
     "input": [
      "# actually, that seems to have made things worse?\n",
      "print y_pred\n",
      "print y.values"
     ],
     "language": "python",
     "metadata": {},
     "outputs": [
      {
       "output_type": "stream",
       "stream": "stdout",
       "text": [
        "[0 0 0 0 0 0 0 0 0 0 0 0 0 0 0 0 0 0 0 0 0 0 0 0 0 0 0 0 0 0 0 0 0 0 0 0 0\n",
        " 0 0 0 0 0 0 0 0 0 0 0 0 0 0 0 0 0 0 0 0 0 0 1 1 2 1 1 1 1 1 1 1 1 1 1 1 0\n",
        " 1 1 1 1 1 1 1 1 1 2 1 1 1 1 1 1 1 1 1 1 1 0 1 1 1 1 1 1 1 1 1 1 1 1 1 1 1\n",
        " 1 1 1 1 1 1 1 2 1 1 0 1 1 1 1 1 1 1 1 2 2 2 2 2 2 2 2 2 2 2 2 2 2 2 2 2 2\n",
        " 2 2 2 2 2 2 2 2 2 2 2 2 2 2 2 2 2 2 2 2 2 2 2 2 2 2 2 2 2 2]\n",
        "[1 1 1 1 1 1 1 1 1 1 1 1 1 1 1 1 1 1 1 1 1 1 1 1 1 1 1 1 1 1 1 1 1 1 1 1 1\n",
        " 1 1 1 1 1 1 1 1 1 1 1 1 1 1 1 1 1 1 1 1 1 1 2 2 2 2 2 2 2 2 2 2 2 2 2 2 2\n",
        " 2 2 2 2 2 2 2 2 2 2 2 2 2 2 2 2 2 2 2 2 2 2 2 2 2 2 2 2 2 2 2 2 2 2 2 2 2\n",
        " 2 2 2 2 2 2 2 2 2 2 2 2 2 2 2 2 2 2 2 3 3 3 3 3 3 3 3 3 3 3 3 3 3 3 3 3 3\n",
        " 3 3 3 3 3 3 3 3 3 3 3 3 3 3 3 3 3 3 3 3 3 3 3 3 3 3 3 3 3 3]\n"
       ]
      }
     ],
     "prompt_number": 18
    },
    {
     "cell_type": "code",
     "collapsed": false,
     "input": [
      "# NOPE! It's because our predictions are generating values over the set [0, 1, 2] rather than [1, 2, 3]\n",
      "# and, because it's unsupervised, the algorithm is permuting them in an arbitrary way (could just as easily be\n",
      "# [2, 0, 1] with a different random seed)\n",
      "\n",
      "# could use 'applymap' to adjust y2_pred to match y's categories...\n",
      "# in this case, what each label is 'supposed' to be is obvious, so it wouldn't be too hard...\n",
      "\n",
      "# [bunch of error-filled code trying to use applymap]\n",
      "\n",
      "# hm, let's just set this aside for now, and say \"when we know what to label the categories, it doesn't look so bad\"\n"
     ],
     "language": "python",
     "metadata": {},
     "outputs": [],
     "prompt_number": 19
    },
    {
     "cell_type": "code",
     "collapsed": false,
     "input": [
      "# one alternative may be a confusion matrix, without the expectation that the big values will be on the diagonal"
     ],
     "language": "python",
     "metadata": {},
     "outputs": [],
     "prompt_number": 20
    },
    {
     "cell_type": "heading",
     "level": 3,
     "metadata": {},
     "source": [
      "use PCA to reduce the dimensionality of the data"
     ]
    },
    {
     "cell_type": "code",
     "collapsed": false,
     "input": [
      "# we imported PCA from scikit earlier, so we just need to implement it\n",
      "\n",
      "# here, we create a couple alternatives: one with 2 components, one with 3, and the third with \"enough components to\n",
      "# explain 99% of the variance\" (per documentation)\n",
      "pca2 = PCA(n_components=2)\n",
      "pca3 = PCA(n_components=3)\n",
      "pca99 = PCA(n_components=0.99)"
     ],
     "language": "python",
     "metadata": {},
     "outputs": [],
     "prompt_number": 21
    },
    {
     "cell_type": "code",
     "collapsed": false,
     "input": [
      "# we use the scaled dataset from above\n",
      "pca2.fit(X2)\n",
      "pca3.fit(X2)\n",
      "pca99.fit(X2)"
     ],
     "language": "python",
     "metadata": {},
     "outputs": [
      {
       "metadata": {},
       "output_type": "pyout",
       "prompt_number": 22,
       "text": [
        "PCA(copy=True, n_components=0.99, whiten=False)"
       ]
      }
     ],
     "prompt_number": 22
    },
    {
     "cell_type": "code",
     "collapsed": false,
     "input": [
      "print pca99.explained_variance_ratio_\n",
      "# So it looks like the 99% of variance PCA has 12 components (on a variable space of 13 dimensions)\n",
      "\n",
      "print 'variance explained by pca2: ', sum(pca2.explained_variance_ratio_)\n",
      "print 'variance explained by pca3: ', sum(pca3.explained_variance_ratio_)\n",
      "print 'variance explained by pca99: ', sum(pca99.explained_variance_ratio_)"
     ],
     "language": "python",
     "metadata": {},
     "outputs": [
      {
       "output_type": "stream",
       "stream": "stdout",
       "text": [
        "[ 0.36198848  0.1920749   0.11123631  0.0706903   0.06563294  0.04935823\n",
        "  0.04238679  0.02680749  0.02222153  0.01930019  0.01736836  0.01298233]\n",
        "variance explained by pca2:  0.554063383569\n",
        "variance explained by pca3:  0.665299688932\n",
        "variance explained by pca99:  0.992047851101\n"
       ]
      }
     ],
     "prompt_number": 23
    },
    {
     "cell_type": "code",
     "collapsed": false,
     "input": [
      "# so it looks like the first PCA component is the same no matter how many components we use in our model (variance\n",
      "# explained is additive)\n",
      "\n",
      "# from the chain of values for pca99, the 'best' cut point is probably either 2, 4, or 5 components -- since the dataset\n",
      "# is fairly small (and the score for 2 is only a shade over 50%), I think we probably want to go with 5\n",
      "\n",
      "pca5 = PCA(n_components=5)\n",
      "pca5.fit(X2)\n",
      "Xpca = pca5.fit_transform(X2)"
     ],
     "language": "python",
     "metadata": {},
     "outputs": [],
     "prompt_number": 24
    },
    {
     "cell_type": "code",
     "collapsed": false,
     "input": [
      "# plotting on PCA2 space to visualize clusters\n",
      "\n",
      "\n",
      "# first: from scikit documentation -- we end up fitting KMeans on PCA2 so that we can draw pretty boundaries in the space\n",
      "reduced_data = PCA(n_components=2).fit_transform(X2)\n",
      "kmeans = KMeans(init='k-means++', n_clusters=3)\n",
      "kmeans.fit(reduced_data)\n",
      "\n",
      "# Step size of the mesh. Decrease to increase the quality of the VQ.\n",
      "h = .02     # point in the mesh [x_min, m_max]x[y_min, y_max].\n",
      "\n",
      "# Plot the decision boundary. For that, we will assign a color to each\n",
      "x_min, x_max = reduced_data[:, 0].min() + 1, reduced_data[:, 0].max() - 1\n",
      "y_min, y_max = reduced_data[:, 1].min() + 1, reduced_data[:, 1].max() - 1\n",
      "xx, yy = np.meshgrid(np.arange(x_min, x_max, h), np.arange(y_min, y_max, h))\n",
      "\n",
      "# Obtain labels for each point in mesh. Use last trained model.\n",
      "Z = kmeans.predict(np.c_[xx.ravel(), yy.ravel()])\n",
      "\n",
      "# Put the result into a color plot\n",
      "Z = Z.reshape(xx.shape)\n",
      "plt.figure(1)\n",
      "plt.clf()\n",
      "plt.imshow(Z, interpolation='nearest',\n",
      "           extent=(xx.min(), xx.max(), yy.min(), yy.max()),\n",
      "           cmap=plt.cm.Paired,\n",
      "           aspect='auto', origin='lower')\n",
      "\n",
      "plt.plot(reduced_data[:, 0], reduced_data[:, 1], 'k.', markersize=2)\n",
      "# Plot the centroids as a white X\n",
      "centroids = kmeans.cluster_centers_\n",
      "plt.scatter(centroids[:, 0], centroids[:, 1],\n",
      "            marker='x', s=169, linewidths=3,\n",
      "            color='w', zorder=10)\n",
      "plt.title('K-means clustering on the digits dataset (PCA-reduced data)\\n'\n",
      "          'Centroids are marked with white cross')\n",
      "plt.xlim(x_min, x_max)\n",
      "plt.ylim(y_min, y_max)\n",
      "plt.xticks(())\n",
      "plt.yticks(())\n",
      "plt.show()"
     ],
     "language": "python",
     "metadata": {},
     "outputs": [
      {
       "metadata": {},
       "output_type": "display_data",
       "png": "[encoded data removed]",
       "text": [
        "<matplotlib.figure.Figure at 0xbc3d7b8>"
       ]
      }
     ],
     "prompt_number": 25
    },
    {
     "cell_type": "code",
     "collapsed": false,
     "input": [
      "# an alternative from Lab 15 -- we can plot in PCA2 space but use our PCA5 model to actually classify\n",
      "\n",
      "Y_hat_kmeans = kmeans.fit(Xpca).labels_"
     ],
     "language": "python",
     "metadata": {},
     "outputs": [],
     "prompt_number": 26
    },
    {
     "cell_type": "code",
     "collapsed": false,
     "input": [
      "plt.scatter(Xpca[:, 0], Xpca[:, 1], c=Y_hat_kmeans)"
     ],
     "language": "python",
     "metadata": {},
     "outputs": [
      {
       "metadata": {},
       "output_type": "pyout",
       "prompt_number": 27,
       "text": [
        "<matplotlib.collections.PathCollection at 0x16a55f60>"
       ]
      },
      {
       "metadata": {},
       "output_type": "display_data",
       "png": "[encoded data removed]",
       "text": [
        "<matplotlib.figure.Figure at 0x16545860>"
       ]
      }
     ],
     "prompt_number": 27
    },
    {
     "cell_type": "heading",
     "level": 4,
     "metadata": {},
     "source": [
      "conduct KMeans, Hierarchical Clustering on PCA5 models to categorize, score each"
     ]
    },
    {
     "cell_type": "code",
     "collapsed": false,
     "input": [
      "# compute distance matrix\n",
      "from scipy.spatial.distance import pdist, squareform\n",
      "\n",
      "# not printed as pretty, but the values are correct\n",
      "distx = squareform(pdist(Xpca, metric='euclidean'))\n",
      "distx\n",
      "\n",
      "# perform clustering and plot the dendrogram\n",
      "from scipy.cluster.hierarchy import linkage, dendrogram\n",
      "\n",
      "R = dendrogram(linkage(distx, method='ward'), color_threshold=100)\n",
      "\n",
      "plt.xlabel('points')\n",
      "plt.ylabel('Height')\n",
      "plt.suptitle('Cluster Dendrogram', fontweight='bold', fontsize=14);"
     ],
     "language": "python",
     "metadata": {},
     "outputs": [
      {
       "metadata": {},
       "output_type": "display_data",
       "png": "[encoded data removed]",
       "text": [
        "<matplotlib.figure.Figure at 0x16c177f0>"
       ]
      }
     ],
     "prompt_number": 28
    },
    {
     "cell_type": "code",
     "collapsed": false,
     "input": [
      "# so we can see from the dedrogram that we get three clusters when we set the threshold between about 90 and 180;\n",
      "# if we go finer, by 70 we're already getting another couple clusters popping up... so even without the a priori knowledge \n",
      "# of the number of types of wine in the dataset, we may have ended up with three classes anyway\n",
      "\n",
      "\n",
      "# would love to plot these as labels on a scatter, although I guess it wouldn't look too different from the other one...\n",
      "# Y_hat_hier = kmeans.fit(Xpca).labels_"
     ],
     "language": "python",
     "metadata": {},
     "outputs": [],
     "prompt_number": 29
    },
    {
     "cell_type": "code",
     "collapsed": false,
     "input": [],
     "language": "python",
     "metadata": {},
     "outputs": []
    }
   ],
   "metadata": {}
  }
 ]
}