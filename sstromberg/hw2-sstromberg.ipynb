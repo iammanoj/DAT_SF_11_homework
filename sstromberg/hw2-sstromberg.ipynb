{
 "metadata": {
  "name": "",
  "signature": "sha256:fe92b72226b22bd2c5ce3880cbaf289642b6c12535046f87ab14ef9d0719e2a5"
 },
 "nbformat": 3,
 "nbformat_minor": 0,
 "worksheets": [
  {
   "cells": [
    {
     "cell_type": "markdown",
     "metadata": {},
     "source": [
      "\"\"\" For Homework 2, Build models to predict \"Credit Card Approval\" using dataset \n",
      "\n",
      "http://archive.ics.uci.edu/ml/datasets/Credit+Approval\n",
      "\n",
      "You may need to do the following -\n",
      "\n",
      "1. Impute missing data\n",
      "\n",
      "2. Plot and visualize data to see any patterns\n",
      "\n",
      "For the actual model, the submission Notebook should have the following -\n",
      "\n",
      "1. Build Models using Logistics Regression and SVM (you will learn tonight - Wed).\n",
      "\n",
      "2. Use Grid Search to evaluate model parameters (Wed Lab) and select a model\n",
      "\n",
      "3. Build a Confusion Matrix (Mon Lab) to show how well your prediction did.\n",
      "\n",
      "The homework is due by Monday Dec'15th Midnight.  Upload your submission the same way as Homework 1.\n",
      "\"\"\"\""
     ]
    },
    {
     "cell_type": "heading",
     "level": 2,
     "metadata": {},
     "source": [
      "Obtain and clean dataset"
     ]
    },
    {
     "cell_type": "code",
     "collapsed": false,
     "input": [
      "# Standard imports for data analysis packages in Python\n",
      "import pandas as pd\n",
      "import numpy as np\n",
      "import seaborn as sns\n",
      "import matplotlib.pyplot as plt\n",
      "\n",
      "# This enables inline Plots\n",
      "%matplotlib inline\n",
      "\n",
      "# Limit rows displayed in notebook\n",
      "pd.set_option('display.max_rows', 10)\n",
      "pd.set_option('display.precision', 2)"
     ],
     "language": "python",
     "metadata": {},
     "outputs": [],
     "prompt_number": 1
    },
    {
     "cell_type": "code",
     "collapsed": false,
     "input": [
      "pd.__version__"
     ],
     "language": "python",
     "metadata": {},
     "outputs": [
      {
       "metadata": {},
       "output_type": "pyout",
       "prompt_number": 2,
       "text": [
        "'0.14.1'"
       ]
      }
     ],
     "prompt_number": 2
    },
    {
     "cell_type": "code",
     "collapsed": false,
     "input": [
      "!pwd"
     ],
     "language": "python",
     "metadata": {},
     "outputs": [
      {
       "output_type": "stream",
       "stream": "stdout",
       "text": [
        "/home/Sam/DAT_SF_11/homeworks/hw2\n"
       ]
      }
     ],
     "prompt_number": 3
    },
    {
     "cell_type": "code",
     "collapsed": false,
     "input": [
      "crx_cols = ['A' + str(idx) for idx in range(1, 17)]\n",
      "creditcheck = pd.read_csv('crx.data.txt', header=None, names=crx_cols)"
     ],
     "language": "python",
     "metadata": {},
     "outputs": [],
     "prompt_number": 4
    },
    {
     "cell_type": "code",
     "collapsed": false,
     "input": [
      "creditcheck.info()"
     ],
     "language": "python",
     "metadata": {},
     "outputs": [
      {
       "output_type": "stream",
       "stream": "stdout",
       "text": [
        "<class 'pandas.core.frame.DataFrame'>\n",
        "Int64Index: 690 entries, 0 to 689\n",
        "Data columns (total 16 columns):\n",
        "A1     690 non-null object\n",
        "A2     690 non-null object\n",
        "A3     690 non-null float64\n",
        "A4     690 non-null object\n",
        "A5     690 non-null object\n",
        "A6     690 non-null object\n",
        "A7     690 non-null object\n",
        "A8     690 non-null float64\n",
        "A9     690 non-null object\n",
        "A10    690 non-null object\n",
        "A11    690 non-null int64\n",
        "A12    690 non-null object\n",
        "A13    690 non-null object\n",
        "A14    690 non-null object\n",
        "A15    690 non-null int64\n",
        "A16    690 non-null object\n",
        "dtypes: float64(2), int64(2), object(12)"
       ]
      }
     ],
     "prompt_number": 5
    },
    {
     "cell_type": "code",
     "collapsed": false,
     "input": [
      "creditcheck.head(5)"
     ],
     "language": "python",
     "metadata": {},
     "outputs": [
      {
       "html": [
        "<div style=\"max-height:1000px;max-width:1500px;overflow:auto;\">\n",
        "<table border=\"1\" class=\"dataframe\">\n",
        "  <thead>\n",
        "    <tr style=\"text-align: right;\">\n",
        "      <th></th>\n",
        "      <th>A1</th>\n",
        "      <th>A2</th>\n",
        "      <th>A3</th>\n",
        "      <th>A4</th>\n",
        "      <th>A5</th>\n",
        "      <th>A6</th>\n",
        "      <th>A7</th>\n",
        "      <th>A8</th>\n",
        "      <th>A9</th>\n",
        "      <th>A10</th>\n",
        "      <th>A11</th>\n",
        "      <th>A12</th>\n",
        "      <th>A13</th>\n",
        "      <th>A14</th>\n",
        "      <th>A15</th>\n",
        "      <th>A16</th>\n",
        "    </tr>\n",
        "  </thead>\n",
        "  <tbody>\n",
        "    <tr>\n",
        "      <th>0</th>\n",
        "      <td> b</td>\n",
        "      <td> 30.83</td>\n",
        "      <td> 0.0</td>\n",
        "      <td> u</td>\n",
        "      <td> g</td>\n",
        "      <td> w</td>\n",
        "      <td> v</td>\n",
        "      <td> 1.2</td>\n",
        "      <td> t</td>\n",
        "      <td> t</td>\n",
        "      <td> 1</td>\n",
        "      <td> f</td>\n",
        "      <td> g</td>\n",
        "      <td> 00202</td>\n",
        "      <td>   0</td>\n",
        "      <td> +</td>\n",
        "    </tr>\n",
        "    <tr>\n",
        "      <th>1</th>\n",
        "      <td> a</td>\n",
        "      <td> 58.67</td>\n",
        "      <td> 4.5</td>\n",
        "      <td> u</td>\n",
        "      <td> g</td>\n",
        "      <td> q</td>\n",
        "      <td> h</td>\n",
        "      <td> 3.0</td>\n",
        "      <td> t</td>\n",
        "      <td> t</td>\n",
        "      <td> 6</td>\n",
        "      <td> f</td>\n",
        "      <td> g</td>\n",
        "      <td> 00043</td>\n",
        "      <td> 560</td>\n",
        "      <td> +</td>\n",
        "    </tr>\n",
        "    <tr>\n",
        "      <th>2</th>\n",
        "      <td> a</td>\n",
        "      <td> 24.50</td>\n",
        "      <td> 0.5</td>\n",
        "      <td> u</td>\n",
        "      <td> g</td>\n",
        "      <td> q</td>\n",
        "      <td> h</td>\n",
        "      <td> 1.5</td>\n",
        "      <td> t</td>\n",
        "      <td> f</td>\n",
        "      <td> 0</td>\n",
        "      <td> f</td>\n",
        "      <td> g</td>\n",
        "      <td> 00280</td>\n",
        "      <td> 824</td>\n",
        "      <td> +</td>\n",
        "    </tr>\n",
        "    <tr>\n",
        "      <th>3</th>\n",
        "      <td> b</td>\n",
        "      <td> 27.83</td>\n",
        "      <td> 1.5</td>\n",
        "      <td> u</td>\n",
        "      <td> g</td>\n",
        "      <td> w</td>\n",
        "      <td> v</td>\n",
        "      <td> 3.8</td>\n",
        "      <td> t</td>\n",
        "      <td> t</td>\n",
        "      <td> 5</td>\n",
        "      <td> t</td>\n",
        "      <td> g</td>\n",
        "      <td> 00100</td>\n",
        "      <td>   3</td>\n",
        "      <td> +</td>\n",
        "    </tr>\n",
        "    <tr>\n",
        "      <th>4</th>\n",
        "      <td> b</td>\n",
        "      <td> 20.17</td>\n",
        "      <td> 5.6</td>\n",
        "      <td> u</td>\n",
        "      <td> g</td>\n",
        "      <td> w</td>\n",
        "      <td> v</td>\n",
        "      <td> 1.7</td>\n",
        "      <td> t</td>\n",
        "      <td> f</td>\n",
        "      <td> 0</td>\n",
        "      <td> f</td>\n",
        "      <td> s</td>\n",
        "      <td> 00120</td>\n",
        "      <td>   0</td>\n",
        "      <td> +</td>\n",
        "    </tr>\n",
        "  </tbody>\n",
        "</table>\n",
        "</div>"
       ],
       "metadata": {},
       "output_type": "pyout",
       "prompt_number": 6,
       "text": [
        "  A1     A2   A3 A4 A5 A6 A7   A8 A9 A10  A11 A12 A13    A14  A15 A16\n",
        "0  b  30.83  0.0  u  g  w  v  1.2  t   t    1   f   g  00202    0   +\n",
        "1  a  58.67  4.5  u  g  q  h  3.0  t   t    6   f   g  00043  560   +\n",
        "2  a  24.50  0.5  u  g  q  h  1.5  t   f    0   f   g  00280  824   +\n",
        "3  b  27.83  1.5  u  g  w  v  3.8  t   t    5   t   g  00100    3   +\n",
        "4  b  20.17  5.6  u  g  w  v  1.7  t   f    0   f   s  00120    0   +"
       ]
      }
     ],
     "prompt_number": 6
    },
    {
     "cell_type": "code",
     "collapsed": false,
     "input": [
      "\"\"\" \n",
      "From documentation:\n",
      "    Attribute Information:\n",
      "    A1:    b, a.\n",
      "    A2:    continuous.\n",
      "    A3:    continuous.\n",
      "    A4:    u, y, l, t.\n",
      "    A5:    g, p, gg.\n",
      "    A6:    c, d, cc, i, j, k, m, r, q, w, x, e, aa, ff.\n",
      "    A7:    v, h, bb, j, n, z, dd, ff, o.\n",
      "    A8:    continuous.\n",
      "    A9:    t, f.\n",
      "    A10:   t, f.\n",
      "    A11:   continuous.\n",
      "    A12:   t, f.\n",
      "    A13:   g, p, s.\n",
      "    A14:   continuous.\n",
      "    A15:   continuous.\n",
      "    A16:   +,-         (class attribute)"
     ],
     "language": "python",
     "metadata": {},
     "outputs": [
      {
       "ename": "SyntaxError",
       "evalue": "EOF while scanning triple-quoted string literal (<ipython-input-7-ee7ab9009067>, line 19)",
       "output_type": "pyerr",
       "traceback": [
        "\u001b[1;36m  File \u001b[1;32m\"<ipython-input-7-ee7ab9009067>\"\u001b[1;36m, line \u001b[1;32m19\u001b[0m\n\u001b[1;33m    A16:   +,-         (class attribute)\u001b[0m\n\u001b[1;37m                                        \n^\u001b[0m\n\u001b[1;31mSyntaxError\u001b[0m\u001b[1;31m:\u001b[0m EOF while scanning triple-quoted string literal\n"
       ]
      }
     ],
     "prompt_number": 7
    },
    {
     "cell_type": "code",
     "collapsed": false,
     "input": [
      "# so we aren't seeing the missing values...\n",
      "\"\"\" \n",
      "8. Missing Attribute Values:\n",
      "   37 cases (5%) have one or more missing values. The missing values from particular attributes are:\n",
      "   A1:  12\n",
      "   A2:  12\n",
      "   A4:   6\n",
      "   A5:   6\n",
      "   A6:   9\n",
      "   A7:   9\n",
      "   A14: 13\n",
      "   \n",
      "Missing value quantities appear to be turning their rows into strings instead of int / float.\n",
      "\"\"\""
     ],
     "language": "python",
     "metadata": {},
     "outputs": [
      {
       "metadata": {},
       "output_type": "pyout",
       "prompt_number": 8,
       "text": [
        "' \\n8. Missing Attribute Values:\\n   37 cases (5%) have one or more missing values. The missing values from particular attributes are:\\n   A1:  12\\n   A2:  12\\n   A4:   6\\n   A5:   6\\n   A6:   9\\n   A7:   9\\n   A14: 13\\n   \\nMissing value quantities appear to be turning their rows into strings instead of int / float.\\n'"
       ]
      }
     ],
     "prompt_number": 8
    },
    {
     "cell_type": "heading",
     "level": 3,
     "metadata": {},
     "source": [
      "Split out test data to avoid tainting scoring"
     ]
    },
    {
     "cell_type": "code",
     "collapsed": false,
     "input": [
      "# from sklearn.cross_validation import train_test_split\n",
      "# NOTE train_test_split generates numpy arrays instead of pandas dataframes, so we're going to use something different at this step"
     ],
     "language": "python",
     "metadata": {},
     "outputs": [],
     "prompt_number": 9
    },
    {
     "cell_type": "code",
     "collapsed": false,
     "input": [
      "rows = np.random.binomial(1, 0.7, size=len(creditcheck)).astype('bool')"
     ],
     "language": "python",
     "metadata": {},
     "outputs": [],
     "prompt_number": 10
    },
    {
     "cell_type": "code",
     "collapsed": false,
     "input": [
      "credittrain = creditcheck[rows]\n",
      "credittest = creditcheck[~rows]"
     ],
     "language": "python",
     "metadata": {},
     "outputs": [],
     "prompt_number": 11
    },
    {
     "cell_type": "heading",
     "level": 2,
     "metadata": {},
     "source": [
      "1. Impute missing data"
     ]
    },
    {
     "cell_type": "code",
     "collapsed": false,
     "input": [
      "credittrain.info()"
     ],
     "language": "python",
     "metadata": {},
     "outputs": [
      {
       "output_type": "stream",
       "stream": "stdout",
       "text": [
        "<class 'pandas.core.frame.DataFrame'>\n",
        "Int64Index: 483 entries, 0 to 689\n",
        "Data columns (total 16 columns):\n",
        "A1     483 non-null object\n",
        "A2     483 non-null object\n",
        "A3     483 non-null float64\n",
        "A4     483 non-null object\n",
        "A5     483 non-null object\n",
        "A6     483 non-null object\n",
        "A7     483 non-null object\n",
        "A8     483 non-null float64\n",
        "A9     483 non-null object\n",
        "A10    483 non-null object\n",
        "A11    483 non-null int64\n",
        "A12    483 non-null object\n",
        "A13    483 non-null object\n",
        "A14    483 non-null object\n",
        "A15    483 non-null int64\n",
        "A16    483 non-null object\n",
        "dtypes: float64(2), int64(2), object(12)"
       ]
      }
     ],
     "prompt_number": 12
    },
    {
     "cell_type": "code",
     "collapsed": false,
     "input": [
      "credittrain.head(5)"
     ],
     "language": "python",
     "metadata": {},
     "outputs": [
      {
       "html": [
        "<div style=\"max-height:1000px;max-width:1500px;overflow:auto;\">\n",
        "<table border=\"1\" class=\"dataframe\">\n",
        "  <thead>\n",
        "    <tr style=\"text-align: right;\">\n",
        "      <th></th>\n",
        "      <th>A1</th>\n",
        "      <th>A2</th>\n",
        "      <th>A3</th>\n",
        "      <th>A4</th>\n",
        "      <th>A5</th>\n",
        "      <th>A6</th>\n",
        "      <th>A7</th>\n",
        "      <th>A8</th>\n",
        "      <th>A9</th>\n",
        "      <th>A10</th>\n",
        "      <th>A11</th>\n",
        "      <th>A12</th>\n",
        "      <th>A13</th>\n",
        "      <th>A14</th>\n",
        "      <th>A15</th>\n",
        "      <th>A16</th>\n",
        "    </tr>\n",
        "  </thead>\n",
        "  <tbody>\n",
        "    <tr>\n",
        "      <th>0</th>\n",
        "      <td> b</td>\n",
        "      <td> 30.83</td>\n",
        "      <td> 0.0</td>\n",
        "      <td> u</td>\n",
        "      <td> g</td>\n",
        "      <td> w</td>\n",
        "      <td> v</td>\n",
        "      <td> 1.2</td>\n",
        "      <td> t</td>\n",
        "      <td> t</td>\n",
        "      <td> 1</td>\n",
        "      <td> f</td>\n",
        "      <td> g</td>\n",
        "      <td> 00202</td>\n",
        "      <td>     0</td>\n",
        "      <td> +</td>\n",
        "    </tr>\n",
        "    <tr>\n",
        "      <th>1</th>\n",
        "      <td> a</td>\n",
        "      <td> 58.67</td>\n",
        "      <td> 4.5</td>\n",
        "      <td> u</td>\n",
        "      <td> g</td>\n",
        "      <td> q</td>\n",
        "      <td> h</td>\n",
        "      <td> 3.0</td>\n",
        "      <td> t</td>\n",
        "      <td> t</td>\n",
        "      <td> 6</td>\n",
        "      <td> f</td>\n",
        "      <td> g</td>\n",
        "      <td> 00043</td>\n",
        "      <td>   560</td>\n",
        "      <td> +</td>\n",
        "    </tr>\n",
        "    <tr>\n",
        "      <th>2</th>\n",
        "      <td> a</td>\n",
        "      <td> 24.50</td>\n",
        "      <td> 0.5</td>\n",
        "      <td> u</td>\n",
        "      <td> g</td>\n",
        "      <td> q</td>\n",
        "      <td> h</td>\n",
        "      <td> 1.5</td>\n",
        "      <td> t</td>\n",
        "      <td> f</td>\n",
        "      <td> 0</td>\n",
        "      <td> f</td>\n",
        "      <td> g</td>\n",
        "      <td> 00280</td>\n",
        "      <td>   824</td>\n",
        "      <td> +</td>\n",
        "    </tr>\n",
        "    <tr>\n",
        "      <th>4</th>\n",
        "      <td> b</td>\n",
        "      <td> 20.17</td>\n",
        "      <td> 5.6</td>\n",
        "      <td> u</td>\n",
        "      <td> g</td>\n",
        "      <td> w</td>\n",
        "      <td> v</td>\n",
        "      <td> 1.7</td>\n",
        "      <td> t</td>\n",
        "      <td> f</td>\n",
        "      <td> 0</td>\n",
        "      <td> f</td>\n",
        "      <td> s</td>\n",
        "      <td> 00120</td>\n",
        "      <td>     0</td>\n",
        "      <td> +</td>\n",
        "    </tr>\n",
        "    <tr>\n",
        "      <th>6</th>\n",
        "      <td> b</td>\n",
        "      <td> 33.17</td>\n",
        "      <td> 1.0</td>\n",
        "      <td> u</td>\n",
        "      <td> g</td>\n",
        "      <td> r</td>\n",
        "      <td> h</td>\n",
        "      <td> 6.5</td>\n",
        "      <td> t</td>\n",
        "      <td> f</td>\n",
        "      <td> 0</td>\n",
        "      <td> t</td>\n",
        "      <td> g</td>\n",
        "      <td> 00164</td>\n",
        "      <td> 31285</td>\n",
        "      <td> +</td>\n",
        "    </tr>\n",
        "  </tbody>\n",
        "</table>\n",
        "</div>"
       ],
       "metadata": {},
       "output_type": "pyout",
       "prompt_number": 13,
       "text": [
        "  A1     A2   A3 A4 A5 A6 A7   A8 A9 A10  A11 A12 A13    A14    A15 A16\n",
        "0  b  30.83  0.0  u  g  w  v  1.2  t   t    1   f   g  00202      0   +\n",
        "1  a  58.67  4.5  u  g  q  h  3.0  t   t    6   f   g  00043    560   +\n",
        "2  a  24.50  0.5  u  g  q  h  1.5  t   f    0   f   g  00280    824   +\n",
        "4  b  20.17  5.6  u  g  w  v  1.7  t   f    0   f   s  00120      0   +\n",
        "6  b  33.17  1.0  u  g  r  h  6.5  t   f    0   t   g  00164  31285   +"
       ]
      }
     ],
     "prompt_number": 13
    },
    {
     "cell_type": "code",
     "collapsed": false,
     "input": [
      "\"\"\"\n",
      "From documentation, columns A1, A2, A4, A5, A6, A7, and A14 have missing values.\n",
      "Based on .info() result, these missing values are not currently listed as NaN.\n",
      "\"\"\""
     ],
     "language": "python",
     "metadata": {},
     "outputs": [
      {
       "metadata": {},
       "output_type": "pyout",
       "prompt_number": 14,
       "text": [
        "'\\nFrom documentation, columns A1, A2, A4, A5, A6, A7, and A14 have missing values.\\nBased on .info() result, these missing values are not currently listed as NaN.\\n'"
       ]
      }
     ],
     "prompt_number": 14
    },
    {
     "cell_type": "code",
     "collapsed": false,
     "input": [
      "credittrain.A14.unique()\n",
      "# checks were run on other relevant variables"
     ],
     "language": "python",
     "metadata": {},
     "outputs": [
      {
       "metadata": {},
       "output_type": "pyout",
       "prompt_number": 15,
       "text": [
        "array(['00202', '00043', '00280', '00120', '00164', '00128', '00000',\n",
        "       '00096', '00200', '00145', '00100', '00168', '00583', '00260',\n",
        "       '00240', '00455', '00311', '00216', '00400', '00320', '00080',\n",
        "       '00250', '00520', '00420', '?', '00980', '00160', '00180', '00140',\n",
        "       '00288', '00300', '00928', '00188', '00171', '00268', '00167',\n",
        "       '00152', '00360', '00410', '00274', '00375', '00408', '00350',\n",
        "       '00204', '00040', '00399', '00093', '00060', '00070', '00181',\n",
        "       '00393', '00021', '00029', '00440', '00102', '00431', '00370',\n",
        "       '00024', '00020', '00129', '00195', '00144', '00380', '00050',\n",
        "       '00381', '00150', '00117', '00056', '00211', '00156', '00022',\n",
        "       '00228', '00519', '00253', '00220', '00088', '00073', '00121',\n",
        "       '00470', '00136', '00292', '00154', '00272', '00340', '00720',\n",
        "       '00112', '00450', '00500', '00232', '00170', '01160', '00411',\n",
        "       '00348', '00480', '00640', '00372', '00352', '00132', '00141',\n",
        "       '00178', '00600', '00550', '02000', '00225', '00210', '00108',\n",
        "       '00356', '00045', '00062', '00092', '00174', '00086', '00254',\n",
        "       '00028', '00263', '00333', '00312', '00371', '00099', '00252',\n",
        "       '00760', '00130', '00680', '00163', '00208', '00330', '00290',\n",
        "       '00432', '00032', '00186', '00349', '00396', '00224', '00369',\n",
        "       '00076', '00231', '00309', '00465', '00256', '00176'], dtype=object)"
       ]
      }
     ],
     "prompt_number": 15
    },
    {
     "cell_type": "code",
     "collapsed": false,
     "input": [
      "\"\"\"\n",
      "Missing values for A1/A4/A5/A6/A7 (all strings) are input as '?', \n",
      "for A2 are '?' and A2 is float, \n",
      "for A14 are '?' but A14 is continuous in specs and \"Z5\" in practice?\n",
      "\"\"\"\n",
      "\n",
      "# replace '?' with NaN for both numerics and strings"
     ],
     "language": "python",
     "metadata": {},
     "outputs": [
      {
       "metadata": {},
       "output_type": "pyout",
       "prompt_number": 16,
       "text": [
        "'\\nMissing values for A1/A4/A5/A6/A7 (all strings) are input as \\'?\\', \\nfor A2 are \\'?\\' and A2 is float, \\nfor A14 are \\'?\\' but A14 is continuous in specs and \"Z5\" in practice?\\n'"
       ]
      }
     ],
     "prompt_number": 16
    },
    {
     "cell_type": "code",
     "collapsed": false,
     "input": [
      "credittrain['A1'].value_counts()"
     ],
     "language": "python",
     "metadata": {},
     "outputs": [
      {
       "metadata": {},
       "output_type": "pyout",
       "prompt_number": 17,
       "text": [
        "b    320\n",
        "a    153\n",
        "?     10\n",
        "dtype: int64"
       ]
      }
     ],
     "prompt_number": 17
    },
    {
     "cell_type": "code",
     "collapsed": false,
     "input": [
      "credittrainfull = credittrain.replace(to_replace='?',value=np.nan)\n",
      "credittrainfull.info()"
     ],
     "language": "python",
     "metadata": {},
     "outputs": [
      {
       "output_type": "stream",
       "stream": "stdout",
       "text": [
        "<class 'pandas.core.frame.DataFrame'>\n",
        "Int64Index: 483 entries, 0 to 689\n",
        "Data columns (total 16 columns):\n",
        "A1     473 non-null object\n",
        "A2     477 non-null object\n",
        "A3     483 non-null float64\n",
        "A4     480 non-null object\n",
        "A5     480 non-null object\n",
        "A6     478 non-null object\n",
        "A7     478 non-null object\n",
        "A8     483 non-null float64\n",
        "A9     483 non-null object\n",
        "A10    483 non-null object\n",
        "A11    483 non-null int64\n",
        "A12    483 non-null object\n",
        "A13    483 non-null object\n",
        "A14    475 non-null object\n",
        "A15    483 non-null int64\n",
        "A16    483 non-null object\n",
        "dtypes: float64(2), int64(2), object(12)"
       ]
      }
     ],
     "prompt_number": 18
    },
    {
     "cell_type": "code",
     "collapsed": false,
     "input": [
      "# convert A2 and A14 to numerics, now that the '?'s are gone\n",
      "credittrainfull.A2 = credittrainfull.A2.astype(float)\n",
      "credittrainfull.A14 = credittrainfull.A14.astype(float)\n",
      "\n",
      "credittrainfull.info()"
     ],
     "language": "python",
     "metadata": {},
     "outputs": [
      {
       "output_type": "stream",
       "stream": "stdout",
       "text": [
        "<class 'pandas.core.frame.DataFrame'>\n",
        "Int64Index: 483 entries, 0 to 689\n",
        "Data columns (total 16 columns):\n",
        "A1     473 non-null object\n",
        "A2     477 non-null float64\n",
        "A3     483 non-null float64\n",
        "A4     480 non-null object\n",
        "A5     480 non-null object\n",
        "A6     478 non-null object\n",
        "A7     478 non-null object\n",
        "A8     483 non-null float64\n",
        "A9     483 non-null object\n",
        "A10    483 non-null object\n",
        "A11    483 non-null int64\n",
        "A12    483 non-null object\n",
        "A13    483 non-null object\n",
        "A14    475 non-null float64\n",
        "A15    483 non-null int64\n",
        "A16    483 non-null object\n",
        "dtypes: float64(4), int64(2), object(10)"
       ]
      }
     ],
     "prompt_number": 19
    },
    {
     "cell_type": "markdown",
     "metadata": {},
     "source": [
      "Now we can impute over the NaNs, using the most common non-missing values (for strings A1, 4, 5, 6, 7) and means (numerics A2, A14)\n",
      "\n",
      "Note that A1, 4, and 5 are heavily concentrated in one category, while 6 and 7 have more spread."
     ]
    },
    {
     "cell_type": "code",
     "collapsed": false,
     "input": [
      "col_dist = {}\n",
      "def get_col_dist(col_name):\n",
      "    excl_null_mask = credittrainfull[col_name] != '?'\n",
      "    row_count = credittrainfull[excl_null_mask][col_name].size\n",
      "    col_data = {}\n",
      "    col_data['prob'] = (credittrainfull[excl_null_mask][col_name].value_counts() / row_count).values\n",
      "    col_data['values'] = (credittrainfull[excl_null_mask][col_name].value_counts() / row_count).index.values\n",
      "    return col_data"
     ],
     "language": "python",
     "metadata": {},
     "outputs": [],
     "prompt_number": 20
    },
    {
     "cell_type": "code",
     "collapsed": false,
     "input": [
      "col_dist['A1'] = get_col_dist('A1')\n",
      "col_dist['A4'] = get_col_dist('A4')\n",
      "col_dist['A5'] = get_col_dist('A5')\n",
      "col_dist['A6'] = get_col_dist('A6')\n",
      "col_dist['A7'] = get_col_dist('A7')"
     ],
     "language": "python",
     "metadata": {},
     "outputs": [],
     "prompt_number": 21
    },
    {
     "cell_type": "code",
     "collapsed": false,
     "input": [
      "def impute_cols(val, options):\n",
      "    if val == '?':\n",
      "        return np.random.choice(options['values'], p=options['prob'])\n",
      "    return val"
     ],
     "language": "python",
     "metadata": {},
     "outputs": [],
     "prompt_number": 22
    },
    {
     "cell_type": "code",
     "collapsed": false,
     "input": [
      "def impute_a1(val):\n",
      "    return impute_cols(val, col_dist['A1'])\n",
      "\n",
      "def impute_a4(val):\n",
      "    return impute_cols(val, col_dist['A4'])\n",
      "\n",
      "def impute_a5(val):\n",
      "    return impute_cols(val, col_dist['A5'])\n",
      "\n",
      "def impute_a6(val):\n",
      "    return impute_cols(val, col_dist['A6'])\n",
      "\n",
      "def impute_a7(val):\n",
      "    return impute_cols(val, col_dist['A7'])"
     ],
     "language": "python",
     "metadata": {},
     "outputs": [],
     "prompt_number": 23
    },
    {
     "cell_type": "code",
     "collapsed": false,
     "input": [
      "credittrainfull['A1imp'] = credittrainfull.A1.map(impute_a1)\n",
      "credittrainfull['A4imp'] = credittrainfull.A4.map(impute_a4)\n",
      "credittrainfull['A5imp'] = credittrainfull.A5.map(impute_a5)\n",
      "credittrainfull['A6imp'] = credittrainfull.A6.map(impute_a6)\n",
      "credittrainfull['A7imp'] = credittrainfull.A7.map(impute_a7)"
     ],
     "language": "python",
     "metadata": {},
     "outputs": [],
     "prompt_number": 24
    },
    {
     "cell_type": "code",
     "collapsed": false,
     "input": [
      "# Imputing the numeric vars in place because I'm afraid of breaking the function from class...\n",
      "\n",
      "def impute_numeric_cols(col_data, col_name):\n",
      "    na_row_count = col_data.isnull().sum()\n",
      "    impute_vals = np.random.normal(col_data.mean(), col_data.std(), na_row_count)\n",
      "    return impute_vals"
     ],
     "language": "python",
     "metadata": {},
     "outputs": [],
     "prompt_number": 25
    },
    {
     "cell_type": "code",
     "collapsed": false,
     "input": [
      "A2_rows_mask = credittrainfull['A2'].isnull()\n",
      "credittrainfull.loc[A2_rows_mask, 'A2'] = impute_numeric_cols(credittrainfull['A2'], 'A2')\n",
      "\n",
      "A14_rows_mask = credittrainfull['A14'].isnull()\n",
      "credittrainfull.loc[A14_rows_mask, 'A14'] = impute_numeric_cols(credittrainfull['A14'], 'A14')\n",
      "\n",
      "credittrainfull.info()"
     ],
     "language": "python",
     "metadata": {},
     "outputs": [
      {
       "output_type": "stream",
       "stream": "stdout",
       "text": [
        "<class 'pandas.core.frame.DataFrame'>\n",
        "Int64Index: 483 entries, 0 to 689\n",
        "Data columns (total 21 columns):\n",
        "A1       473 non-null object\n",
        "A2       483 non-null float64\n",
        "A3       483 non-null float64\n",
        "A4       480 non-null object\n",
        "A5       480 non-null object\n",
        "A6       478 non-null object\n",
        "A7       478 non-null object\n",
        "A8       483 non-null float64\n",
        "A9       483 non-null object\n",
        "A10      483 non-null object\n",
        "A11      483 non-null int64\n",
        "A12      483 non-null object\n",
        "A13      483 non-null object\n",
        "A14      483 non-null float64\n",
        "A15      483 non-null int64\n",
        "A16      483 non-null object\n",
        "A1imp    473 non-null object\n",
        "A4imp    480 non-null object\n",
        "A5imp    480 non-null object\n",
        "A6imp    478 non-null object\n",
        "A7imp    478 non-null object\n",
        "dtypes: float64(4), int64(2), object(15)"
       ]
      }
     ],
     "prompt_number": 26
    },
    {
     "cell_type": "code",
     "collapsed": false,
     "input": [
      "\"\"\"\n",
      "# This was my own attempt over the weekend:\n",
      "\n",
      "# Manually find the most requent values (for strings) and the averages (for numerics).\n",
      "# I didn't see an easy way to automate this without moving from pandas back to numpy/sklearn, but I'm sure one exists.\n",
      "print 'A1', credittrainfull.A1.value_counts()[0:1]\n",
      "print 'A2', credittrainfull.A2.mean\n",
      "print 'A4', credittrainfull.A4.value_counts()[0:1]\n",
      "print 'A5', credittrainfull.A5.value_counts()[0:1]\n",
      "print 'A6', credittrainfull.A6.value_counts()[0:1]\n",
      "print 'A7', credittrainfull.A7.value_counts()[0:1]\n",
      "print 'A14', credittrainfull.A14.mean\n",
      "\"\"\""
     ],
     "language": "python",
     "metadata": {},
     "outputs": [
      {
       "metadata": {},
       "output_type": "pyout",
       "prompt_number": 27,
       "text": [
        "\"\\n# This was my own attempt over the weekend:\\n\\n# Manually find the most requent values (for strings) and the averages (for numerics).\\n# I didn't see an easy way to automate this without moving from pandas back to numpy/sklearn, but I'm sure one exists.\\nprint 'A1', credittrainfull.A1.value_counts()[0:1]\\nprint 'A2', credittrainfull.A2.mean\\nprint 'A4', credittrainfull.A4.value_counts()[0:1]\\nprint 'A5', credittrainfull.A5.value_counts()[0:1]\\nprint 'A6', credittrainfull.A6.value_counts()[0:1]\\nprint 'A7', credittrainfull.A7.value_counts()[0:1]\\nprint 'A14', credittrainfull.A14.mean\\n\""
       ]
      }
     ],
     "prompt_number": 27
    },
    {
     "cell_type": "code",
     "collapsed": false,
     "input": [
      "\"\"\"\n",
      "# We create a dictionary with each variable's desired fillna value.\n",
      "dfill = {}\n",
      "dfill['A1'] = 'b'\n",
      "dfill['A2'] = 30.8\n",
      "dfill['A4'] = 'u'\n",
      "dfill['A5'] = 'g'\n",
      "dfill['A6'] = 'c'\n",
      "dfill['A7'] = 'v'\n",
      "dfill['A14'] = 202\n",
      "\n",
      "dfill\n",
      "\"\"\""
     ],
     "language": "python",
     "metadata": {},
     "outputs": [
      {
       "metadata": {},
       "output_type": "pyout",
       "prompt_number": 28,
       "text": [
        "\"\\n# We create a dictionary with each variable's desired fillna value.\\ndfill = {}\\ndfill['A1'] = 'b'\\ndfill['A2'] = 30.8\\ndfill['A4'] = 'u'\\ndfill['A5'] = 'g'\\ndfill['A6'] = 'c'\\ndfill['A7'] = 'v'\\ndfill['A14'] = 202\\n\\ndfill\\n\""
       ]
      }
     ],
     "prompt_number": 28
    },
    {
     "cell_type": "code",
     "collapsed": false,
     "input": [
      "\"\"\"\n",
      "credittrainfull['A1imp'] = credittrainfull.A1.fillna(dfill['A1'])\n",
      "credittrainfull['A2imp'] = credittrainfull.A2.fillna(dfill['A2'])\n",
      "credittrainfull['A4imp'] = credittrainfull.A4.fillna(dfill['A4'])\n",
      "credittrainfull['A5imp'] = credittrainfull.A5.fillna(dfill['A5'])\n",
      "credittrainfull['A6imp'] = credittrainfull.A6.fillna(dfill['A6'])\n",
      "credittrainfull['A7imp'] = credittrainfull.A7.fillna(dfill['A7'])\n",
      "credittrainfull['A14imp'] = credittrainfull.A14.fillna(dfill['A14'])\n",
      "\n",
      "credittrainfull.info()\n",
      "\"\"\""
     ],
     "language": "python",
     "metadata": {},
     "outputs": [
      {
       "metadata": {},
       "output_type": "pyout",
       "prompt_number": 29,
       "text": [
        "\"\\ncredittrainfull['A1imp'] = credittrainfull.A1.fillna(dfill['A1'])\\ncredittrainfull['A2imp'] = credittrainfull.A2.fillna(dfill['A2'])\\ncredittrainfull['A4imp'] = credittrainfull.A4.fillna(dfill['A4'])\\ncredittrainfull['A5imp'] = credittrainfull.A5.fillna(dfill['A5'])\\ncredittrainfull['A6imp'] = credittrainfull.A6.fillna(dfill['A6'])\\ncredittrainfull['A7imp'] = credittrainfull.A7.fillna(dfill['A7'])\\ncredittrainfull['A14imp'] = credittrainfull.A14.fillna(dfill['A14'])\\n\\ncredittrainfull.info()\\n\""
       ]
      }
     ],
     "prompt_number": 29
    },
    {
     "cell_type": "heading",
     "level": 3,
     "metadata": {},
     "source": [
      "2. Plot and visualize data to see any patterns"
     ]
    },
    {
     "cell_type": "code",
     "collapsed": false,
     "input": [
      "grid_plot = sns.FacetGrid(credittrainfull, row='A9', col='A12')\n",
      "grid_plot.map(sns.regplot, 'A2', 'A3', color='.3', fit_reg=False)"
     ],
     "language": "python",
     "metadata": {},
     "outputs": [
      {
       "metadata": {},
       "output_type": "pyout",
       "prompt_number": 30,
       "text": [
        "<seaborn.axisgrid.FacetGrid at 0x1644c6d8>"
       ]
      },
      {
       "metadata": {},
       "output_type": "display_data",
       "png": "[encoded data removed]",
       "text": [
        "<matplotlib.figure.Figure at 0x1644cb00>"
       ]
      }
     ],
     "prompt_number": 30
    },
    {
     "cell_type": "code",
     "collapsed": false,
     "input": [
      "credittrainnum = credittrainfull.ix[:,['A2','A3','A8','A11','A14','A15']]\n",
      "\n",
      "from pandas.tools.plotting import scatter_matrix\n",
      "scatter_matrix(credittrainnum, alpha=0.2, figsize=(15, 10), diagonal='hist')"
     ],
     "language": "python",
     "metadata": {},
     "outputs": [
      {
       "metadata": {},
       "output_type": "pyout",
       "prompt_number": 31,
       "text": [
        "array([[<matplotlib.axes._subplots.AxesSubplot object at 0x0000000016E39588>,\n",
        "        <matplotlib.axes._subplots.AxesSubplot object at 0x0000000016D3F438>,\n",
        "        <matplotlib.axes._subplots.AxesSubplot object at 0x0000000016F84208>,\n",
        "        <matplotlib.axes._subplots.AxesSubplot object at 0x0000000017612358>,\n",
        "        <matplotlib.axes._subplots.AxesSubplot object at 0x00000000176CAF98>,\n",
        "        <matplotlib.axes._subplots.AxesSubplot object at 0x0000000016D582B0>],\n",
        "       [<matplotlib.axes._subplots.AxesSubplot object at 0x00000000178BF208>,\n",
        "        <matplotlib.axes._subplots.AxesSubplot object at 0x000000001797C9E8>,\n",
        "        <matplotlib.axes._subplots.AxesSubplot object at 0x0000000017A702B0>,\n",
        "        <matplotlib.axes._subplots.AxesSubplot object at 0x0000000017B6CD68>,\n",
        "        <matplotlib.axes._subplots.AxesSubplot object at 0x0000000017BD19E8>,\n",
        "        <matplotlib.axes._subplots.AxesSubplot object at 0x0000000017CDC668>],\n",
        "       [<matplotlib.axes._subplots.AxesSubplot object at 0x0000000017C04208>,\n",
        "        <matplotlib.axes._subplots.AxesSubplot object at 0x0000000017E9F748>,\n",
        "        <matplotlib.axes._subplots.AxesSubplot object at 0x0000000017F5AE48>,\n",
        "        <matplotlib.axes._subplots.AxesSubplot object at 0x0000000017FEF630>,\n",
        "        <matplotlib.axes._subplots.AxesSubplot object at 0x00000000180E8D30>,\n",
        "        <matplotlib.axes._subplots.AxesSubplot object at 0x000000001804C208>],\n",
        "       [<matplotlib.axes._subplots.AxesSubplot object at 0x00000000182A8390>,\n",
        "        <matplotlib.axes._subplots.AxesSubplot object at 0x00000000183A9A90>,\n",
        "        <matplotlib.axes._subplots.AxesSubplot object at 0x000000001845D0B8>,\n",
        "        <matplotlib.axes._subplots.AxesSubplot object at 0x000000001855D898>,\n",
        "        <matplotlib.axes._subplots.AxesSubplot object at 0x00000000186075C0>,\n",
        "        <matplotlib.axes._subplots.AxesSubplot object at 0x0000000018701EF0>],\n",
        "       [<matplotlib.axes._subplots.AxesSubplot object at 0x000000001880E630>,\n",
        "        <matplotlib.axes._subplots.AxesSubplot object at 0x00000000188C1320>,\n",
        "        <matplotlib.axes._subplots.AxesSubplot object at 0x00000000189C1A20>,\n",
        "        <matplotlib.axes._subplots.AxesSubplot object at 0x0000000018AB0940>,\n",
        "        <matplotlib.axes._subplots.AxesSubplot object at 0x0000000018BBC160>,\n",
        "        <matplotlib.axes._subplots.AxesSubplot object at 0x0000000018ACE7B8>],\n",
        "       [<matplotlib.axes._subplots.AxesSubplot object at 0x0000000018D2C6A0>,\n",
        "        <matplotlib.axes._subplots.AxesSubplot object at 0x0000000018E28DA0>,\n",
        "        <matplotlib.axes._subplots.AxesSubplot object at 0x0000000018F1D3C8>,\n",
        "        <matplotlib.axes._subplots.AxesSubplot object at 0x0000000018F95BA8>,\n",
        "        <matplotlib.axes._subplots.AxesSubplot object at 0x00000000190718D0>,\n",
        "        <matplotlib.axes._subplots.AxesSubplot object at 0x000000001919A2E8>]], dtype=object)"
       ]
      },
      {
       "metadata": {},
       "output_type": "display_data",
       "png": "[encoded data removed]",
       "text": [
        "<matplotlib.figure.Figure at 0x1644cfd0>"
       ]
      }
     ],
     "prompt_number": 31
    },
    {
     "cell_type": "heading",
     "level": 2,
     "metadata": {},
     "source": [
      "Building models to classify the data"
     ]
    },
    {
     "cell_type": "markdown",
     "metadata": {},
     "source": [
      "# We'll need to start by turning the categorical variables into sets of dummies, using the schema from the documentation:\n",
      "\"\"\"\n",
      "A1:    b, a. -- could be boolean, but since b is more common than a, ambiguous as to which should be True\n",
      "A4:    u, y, l, t.\n",
      "A5:    g, p, gg.\n",
      "A6:    c, d, cc, i, j, k, m, r, q, w, x, e, aa, ff.\n",
      "A7:    v, h, bb, j, n, z, dd, ff, o.\n",
      "A9:    t, f. [replace with boolean]\n",
      "A10:   t, f. [replace with boolean]\n",
      "A12:   t, f. [replace with boolean]\n",
      "A13:   g, p, s.\n",
      "Noting that A1 / 4/ 5/ 6/ 7 are all imputed\n",
      "\"\"\""
     ]
    },
    {
     "cell_type": "code",
     "collapsed": false,
     "input": [
      "A1_dummies = pd.get_dummies(credittrainfull.A1imp, prefix='A1')\n",
      "A4_dummies = pd.get_dummies(credittrainfull.A4imp, prefix='A4')\n",
      "A5_dummies = pd.get_dummies(credittrainfull.A5imp, prefix='A5')\n",
      "A6_dummies = pd.get_dummies(credittrainfull.A6imp, prefix='A6')\n",
      "A7_dummies = pd.get_dummies(credittrainfull.A7imp, prefix='A7')\n",
      "A13_dummies = pd.get_dummies(credittrainfull.A13, prefix='A13')\n",
      "\n",
      "creditmodel = credittrainfull.drop(['A1','A2','A4','A5','A6','A7','A13','A14','A1imp','A4imp','A5imp','A6imp','A7imp'],1)\n",
      "\n",
      "creditmodel = creditmodel.merge(A1_dummies,left_index=True, right_index=True)\n",
      "creditmodel = creditmodel.merge(A4_dummies,left_index=True, right_index=True)\n",
      "creditmodel = creditmodel.merge(A5_dummies,left_index=True, right_index=True)\n",
      "creditmodel = creditmodel.merge(A6_dummies,left_index=True, right_index=True)\n",
      "creditmodel = creditmodel.merge(A7_dummies,left_index=True, right_index=True)\n",
      "creditmodel = creditmodel.merge(A13_dummies,left_index=True, right_index=True)\n",
      "\n",
      "creditmodel.info()"
     ],
     "language": "python",
     "metadata": {},
     "outputs": [
      {
       "output_type": "stream",
       "stream": "stdout",
       "text": [
        "<class 'pandas.core.frame.DataFrame'>\n",
        "Int64Index: 483 entries, 0 to 689\n",
        "Data columns (total 42 columns):\n",
        "A3       483 non-null float64\n",
        "A8       483 non-null float64\n",
        "A9       483 non-null object\n",
        "A10      483 non-null object\n",
        "A11      483 non-null int64\n",
        "A12      483 non-null object\n",
        "A15      483 non-null int64\n",
        "A16      483 non-null object\n",
        "A1_a     483 non-null float64\n",
        "A1_b     483 non-null float64\n",
        "A4_l     483 non-null float64\n",
        "A4_u     483 non-null float64\n",
        "A4_y     483 non-null float64\n",
        "A5_g     483 non-null float64\n",
        "A5_gg    483 non-null float64\n",
        "A5_p     483 non-null float64\n",
        "A6_aa    483 non-null float64\n",
        "A6_c     483 non-null float64\n",
        "A6_cc    483 non-null float64\n",
        "A6_d     483 non-null float64\n",
        "A6_e     483 non-null float64\n",
        "A6_ff    483 non-null float64\n",
        "A6_i     483 non-null float64\n",
        "A6_j     483 non-null float64\n",
        "A6_k     483 non-null float64\n",
        "A6_m     483 non-null float64\n",
        "A6_q     483 non-null float64\n",
        "A6_r     483 non-null float64\n",
        "A6_w     483 non-null float64\n",
        "A6_x     483 non-null float64\n",
        "A7_bb    483 non-null float64\n",
        "A7_dd    483 non-null float64\n",
        "A7_ff    483 non-null float64\n",
        "A7_h     483 non-null float64\n",
        "A7_j     483 non-null float64\n",
        "A7_n     483 non-null float64\n",
        "A7_o     483 non-null float64\n",
        "A7_v     483 non-null float64\n",
        "A7_z     483 non-null float64\n",
        "A13_g    483 non-null float64\n",
        "A13_p    483 non-null float64\n",
        "A13_s    483 non-null float64\n",
        "dtypes: float64(36), int64(2), object(4)"
       ]
      }
     ],
     "prompt_number": 32
    },
    {
     "cell_type": "code",
     "collapsed": false,
     "input": [
      "bdict = {'t' : True, 'f' : False}\n",
      "\n",
      "creditmodel['A9bool'] = creditmodel['A9'].map(bdict)\n",
      "creditmodel['A10bool'] = creditmodel['A10'].map(bdict)\n",
      "creditmodel['A12bool'] = creditmodel['A12'].map(bdict)\n",
      "\n",
      "creditmodel.drop(['A9','A10','A12'],1,inplace=True)\n",
      "\n",
      "creditmodel['A16'] = creditmodel['A16'].replace('-', 0)\n",
      "creditmodel['A16'] = creditmodel['A16'].replace('+', 1)"
     ],
     "language": "python",
     "metadata": {},
     "outputs": [],
     "prompt_number": 33
    },
    {
     "cell_type": "code",
     "collapsed": false,
     "input": [
      "# And now we're ready to move back into SKLEARN!\n",
      "from sklearn.cross_validation import train_test_split\n",
      "\n",
      "creditmodelout = creditmodel['A16']\n",
      "creditmodelin = creditmodel.drop('A16',1)\n",
      "\n",
      "# we'll start with a train/validation split, using the cleaned data\n",
      "X_train, X_test, y_train, y_test = train_test_split(creditmodelin,creditmodelout,test_size=0.2)"
     ],
     "language": "python",
     "metadata": {},
     "outputs": [],
     "prompt_number": 34
    },
    {
     "cell_type": "heading",
     "level": 3,
     "metadata": {},
     "source": [
      "1. Logistic regression / SVM"
     ]
    },
    {
     "cell_type": "code",
     "collapsed": false,
     "input": [
      "from sklearn.svm import LinearSVC\n",
      "\n",
      "est = LinearSVC(C=1e-3)\n",
      "est.fit(X_train, y_train)"
     ],
     "language": "python",
     "metadata": {},
     "outputs": [
      {
       "metadata": {},
       "output_type": "pyout",
       "prompt_number": 35,
       "text": [
        "LinearSVC(C=0.001, class_weight=None, dual=True, fit_intercept=True,\n",
        "     intercept_scaling=1, loss='l2', multi_class='ovr', penalty='l2',\n",
        "     random_state=None, tol=0.0001, verbose=0)"
       ]
      }
     ],
     "prompt_number": 35
    },
    {
     "cell_type": "code",
     "collapsed": false,
     "input": [
      "est.score(X_test, y_test)"
     ],
     "language": "python",
     "metadata": {},
     "outputs": [
      {
       "metadata": {},
       "output_type": "pyout",
       "prompt_number": 36,
       "text": [
        "0.79381443298969068"
       ]
      }
     ],
     "prompt_number": 36
    },
    {
     "cell_type": "markdown",
     "metadata": {},
     "source": [
      "Pretty good! Now let's look at a non-linear (rbf) kernel!"
     ]
    },
    {
     "cell_type": "code",
     "collapsed": false,
     "input": [
      "from sklearn.svm import SVC\n",
      "\n",
      "my_svc = SVC()\n",
      "my_svc.fit(X_train, y_train)"
     ],
     "language": "python",
     "metadata": {},
     "outputs": [
      {
       "metadata": {},
       "output_type": "pyout",
       "prompt_number": 37,
       "text": [
        "SVC(C=1.0, cache_size=200, class_weight=None, coef0=0.0, degree=3, gamma=0.0,\n",
        "  kernel='rbf', max_iter=-1, probability=False, random_state=None,\n",
        "  shrinking=True, tol=0.001, verbose=False)"
       ]
      }
     ],
     "prompt_number": 37
    },
    {
     "cell_type": "code",
     "collapsed": false,
     "input": [
      "my_svc.score(X_test, y_test)"
     ],
     "language": "python",
     "metadata": {},
     "outputs": [
      {
       "metadata": {},
       "output_type": "pyout",
       "prompt_number": 38,
       "text": [
        "0.68041237113402064"
       ]
      }
     ],
     "prompt_number": 38
    },
    {
     "cell_type": "markdown",
     "metadata": {},
     "source": [
      "hmmmmm, it's worse than the linear kernel! maybe there's a parameter issue we aren't seeing -- I guess we have a good motivation to go to grid search"
     ]
    },
    {
     "cell_type": "heading",
     "level": 3,
     "metadata": {},
     "source": [
      "2. Grid search"
     ]
    },
    {
     "cell_type": "code",
     "collapsed": false,
     "input": [
      "from sklearn.grid_search import GridSearchCV"
     ],
     "language": "python",
     "metadata": {},
     "outputs": [],
     "prompt_number": 39
    },
    {
     "cell_type": "code",
     "collapsed": false,
     "input": [
      "# first with linear\n",
      "d_l = {'C': np.logspace(-3.,3.,10)}\n",
      "\n",
      "gs_l = GridSearchCV(LinearSVC(), d_l)"
     ],
     "language": "python",
     "metadata": {},
     "outputs": [],
     "prompt_number": 40
    },
    {
     "cell_type": "code",
     "collapsed": false,
     "input": [
      "gs_l.fit(X_train,y_train)"
     ],
     "language": "python",
     "metadata": {},
     "outputs": [
      {
       "metadata": {},
       "output_type": "pyout",
       "prompt_number": 41,
       "text": [
        "GridSearchCV(cv=None,\n",
        "       estimator=LinearSVC(C=1.0, class_weight=None, dual=True, fit_intercept=True,\n",
        "     intercept_scaling=1, loss='l2', multi_class='ovr', penalty='l2',\n",
        "     random_state=None, tol=0.0001, verbose=0),\n",
        "       fit_params={}, iid=True, loss_func=None, n_jobs=1,\n",
        "       param_grid={'C': array([  1.00000e-03,   4.64159e-03,   2.15443e-02,   1.00000e-01,\n",
        "         4.64159e-01,   2.15443e+00,   1.00000e+01,   4.64159e+01,\n",
        "         2.15443e+02,   1.00000e+03])},\n",
        "       pre_dispatch='2*n_jobs', refit=True, score_func=None, scoring=None,\n",
        "       verbose=0)"
       ]
      }
     ],
     "prompt_number": 41
    },
    {
     "cell_type": "code",
     "collapsed": false,
     "input": [
      "gs_l.best_params_, gs_l.best_score_"
     ],
     "language": "python",
     "metadata": {},
     "outputs": [
      {
       "metadata": {},
       "output_type": "pyout",
       "prompt_number": 42,
       "text": [
        "({'C': 0.10000000000000001}, 0.84455958549222798)"
       ]
      }
     ],
     "prompt_number": 42
    },
    {
     "cell_type": "markdown",
     "metadata": {},
     "source": [
      "This looks like an improvement on the linear model with C=.001 we used initially"
     ]
    },
    {
     "cell_type": "code",
     "collapsed": false,
     "input": [
      "# Now with SVC\n",
      "d = {}\n",
      "d['C'] = np.logspace(-3.,3.,10)\n",
      "d['gamma'] = np.logspace(-3.,3.,10)\n",
      "\n",
      "gs_rbf = GridSearchCV(SVC(), d)"
     ],
     "language": "python",
     "metadata": {},
     "outputs": [],
     "prompt_number": 43
    },
    {
     "cell_type": "code",
     "collapsed": false,
     "input": [
      "gs_rbf.fit(X_train,y_train)"
     ],
     "language": "python",
     "metadata": {},
     "outputs": [
      {
       "metadata": {},
       "output_type": "pyout",
       "prompt_number": 44,
       "text": [
        "GridSearchCV(cv=None,\n",
        "       estimator=SVC(C=1.0, cache_size=200, class_weight=None, coef0=0.0, degree=3, gamma=0.0,\n",
        "  kernel='rbf', max_iter=-1, probability=False, random_state=None,\n",
        "  shrinking=True, tol=0.001, verbose=False),\n",
        "       fit_params={}, iid=True, loss_func=None, n_jobs=1,\n",
        "       param_grid={'C': array([  1.00000e-03,   4.64159e-03,   2.15443e-02,   1.00000e-01,\n",
        "         4.64159e-01,   2.15443e+00,   1.00000e+01,   4.64159e+01,\n",
        "         2.15443e+02,   1.00000e+03]), 'gamma': array([  1.00000e-03,   4.64159e-03,   2.15443e-02,   1.00000e-01,\n",
        "         4.64159e-01,   2.15443e+00,   1.00000e+01,   4.64159e+01,\n",
        "         2.15443e+02,   1.00000e+03])},\n",
        "       pre_dispatch='2*n_jobs', refit=True, score_func=None, scoring=None,\n",
        "       verbose=0)"
       ]
      }
     ],
     "prompt_number": 44
    },
    {
     "cell_type": "code",
     "collapsed": false,
     "input": [
      "gs_rbf.best_params_, gs_rbf.best_score_"
     ],
     "language": "python",
     "metadata": {},
     "outputs": [
      {
       "metadata": {},
       "output_type": "pyout",
       "prompt_number": 45,
       "text": [
        "({'C': 46.415888336127729, 'gamma': 0.0046415888336127772},\n",
        " 0.76683937823834192)"
       ]
      }
     ],
     "prompt_number": 45
    },
    {
     "cell_type": "markdown",
     "metadata": {},
     "source": [
      "So that's also an improvement on the default parameters, but not enough to catch the linear estimator. If I have enough time, I may try one or more of the alternative kernel function types built into SVC (\u2018poly\u2019 or \u2018sigmoid\u2019)"
     ]
    },
    {
     "cell_type": "code",
     "collapsed": false,
     "input": [
      "sig_svc = SVC(kernel='sigmoid')\n",
      "\n",
      "sig_svc.fit(X_train, y_train)"
     ],
     "language": "python",
     "metadata": {},
     "outputs": [
      {
       "metadata": {},
       "output_type": "pyout",
       "prompt_number": 46,
       "text": [
        "SVC(C=1.0, cache_size=200, class_weight=None, coef0=0.0, degree=3, gamma=0.0,\n",
        "  kernel='sigmoid', max_iter=-1, probability=False, random_state=None,\n",
        "  shrinking=True, tol=0.001, verbose=False)"
       ]
      }
     ],
     "prompt_number": 46
    },
    {
     "cell_type": "code",
     "collapsed": false,
     "input": [
      "sig_svc.score(X_test, y_test)"
     ],
     "language": "python",
     "metadata": {},
     "outputs": [
      {
       "metadata": {},
       "output_type": "pyout",
       "prompt_number": 47,
       "text": [
        "0.50515463917525771"
       ]
      }
     ],
     "prompt_number": 47
    },
    {
     "cell_type": "code",
     "collapsed": false,
     "input": [
      "gs_sig = GridSearchCV(SVC(kernel='sigmoid'), d)"
     ],
     "language": "python",
     "metadata": {},
     "outputs": [],
     "prompt_number": 48
    },
    {
     "cell_type": "code",
     "collapsed": false,
     "input": [
      "gs_sig.fit(X_train,y_train)"
     ],
     "language": "python",
     "metadata": {},
     "outputs": [
      {
       "metadata": {},
       "output_type": "pyout",
       "prompt_number": 49,
       "text": [
        "GridSearchCV(cv=None,\n",
        "       estimator=SVC(C=1.0, cache_size=200, class_weight=None, coef0=0.0, degree=3, gamma=0.0,\n",
        "  kernel='sigmoid', max_iter=-1, probability=False, random_state=None,\n",
        "  shrinking=True, tol=0.001, verbose=False),\n",
        "       fit_params={}, iid=True, loss_func=None, n_jobs=1,\n",
        "       param_grid={'C': array([  1.00000e-03,   4.64159e-03,   2.15443e-02,   1.00000e-01,\n",
        "         4.64159e-01,   2.15443e+00,   1.00000e+01,   4.64159e+01,\n",
        "         2.15443e+02,   1.00000e+03]), 'gamma': array([  1.00000e-03,   4.64159e-03,   2.15443e-02,   1.00000e-01,\n",
        "         4.64159e-01,   2.15443e+00,   1.00000e+01,   4.64159e+01,\n",
        "         2.15443e+02,   1.00000e+03])},\n",
        "       pre_dispatch='2*n_jobs', refit=True, score_func=None, scoring=None,\n",
        "       verbose=0)"
       ]
      }
     ],
     "prompt_number": 49
    },
    {
     "cell_type": "code",
     "collapsed": false,
     "input": [
      "gs_sig.best_params_, gs_sig.best_score_"
     ],
     "language": "python",
     "metadata": {},
     "outputs": [
      {
       "metadata": {},
       "output_type": "pyout",
       "prompt_number": 50,
       "text": [
        "({'C': 0.001, 'gamma': 0.001}, 0.55440414507772018)"
       ]
      }
     ],
     "prompt_number": 50
    },
    {
     "cell_type": "heading",
     "level": 3,
     "metadata": {},
     "source": [
      "Next step: scoring on the 'true' test data (credittest, from the first section)"
     ]
    },
    {
     "cell_type": "code",
     "collapsed": false,
     "input": [
      "# but the big question here is: how much cleaning (i.e. fixing variable types, creating dummies) \n",
      "# should we be doing with the credittest df"
     ],
     "language": "python",
     "metadata": {},
     "outputs": [],
     "prompt_number": 51
    },
    {
     "cell_type": "code",
     "collapsed": false,
     "input": [
      "\"\"\"\n",
      "I'm out of time, but it looks to me like we should:\n",
      "- convert '?'s into NaNs, so that A2 and A14 show up correctly as numeric\n",
      "- convert A9, A10, and A12 to booleans\n",
      "- run our two main types of model (linear, SVC) with the parameters determined through grid search\n",
      "\""
     ],
     "language": "python",
     "metadata": {},
     "outputs": [
      {
       "ename": "SyntaxError",
       "evalue": "EOF while scanning triple-quoted string literal (<ipython-input-52-f4e0566e30d8>, line 6)",
       "output_type": "pyerr",
       "traceback": [
        "\u001b[1;36m  File \u001b[1;32m\"<ipython-input-52-f4e0566e30d8>\"\u001b[1;36m, line \u001b[1;32m6\u001b[0m\n\u001b[1;33m    \"\u001b[0m\n\u001b[1;37m     \n^\u001b[0m\n\u001b[1;31mSyntaxError\u001b[0m\u001b[1;31m:\u001b[0m EOF while scanning triple-quoted string literal\n"
       ]
      }
     ],
     "prompt_number": 52
    },
    {
     "cell_type": "heading",
     "level": 2,
     "metadata": {},
     "source": [
      "3. Build a Confusion Matrix (Mon Lab) to show how well your prediction did."
     ]
    },
    {
     "cell_type": "code",
     "collapsed": false,
     "input": [
      "from sklearn.metrics import confusion_matrix"
     ],
     "language": "python",
     "metadata": {},
     "outputs": [],
     "prompt_number": 53
    },
    {
     "cell_type": "code",
     "collapsed": false,
     "input": [
      "# this function takes the following form:\n",
      "# confusion_matrix(y_true,y_pred)\n",
      "\n",
      "# We have y_true as the y_test array from train_test_split (using the validation data)\n",
      "# y_pred is probably some method call on my_SVC, with X_test as the input parameter\n",
      "\n",
      "# in other words, we'll need to run this function separately for each estimator type"
     ],
     "language": "python",
     "metadata": {},
     "outputs": [],
     "prompt_number": 54
    },
    {
     "cell_type": "code",
     "collapsed": false,
     "input": [
      "est_pred = est.predict(X_test)\n",
      "\n",
      "cm_l = confusion_matrix(y_test, est_pred)\n",
      "print cm_l"
     ],
     "language": "python",
     "metadata": {},
     "outputs": [
      {
       "output_type": "stream",
       "stream": "stdout",
       "text": [
        "[[45  4]\n",
        " [16 32]]\n"
       ]
      }
     ],
     "prompt_number": 55
    },
    {
     "cell_type": "code",
     "collapsed": false,
     "input": [
      "my_svc_pred = my_svc.predict(X_test)\n",
      "\n",
      "cm_rbf = confusion_matrix(y_test, my_svc_pred)\n",
      "print cm_rbf"
     ],
     "language": "python",
     "metadata": {},
     "outputs": [
      {
       "output_type": "stream",
       "stream": "stdout",
       "text": [
        "[[33 16]\n",
        " [15 33]]\n"
       ]
      }
     ],
     "prompt_number": 56
    },
    {
     "cell_type": "code",
     "collapsed": false,
     "input": [
      "\"\"\"\n",
      "For a pretty plot of confusion matrix 'cm':\n",
      "plt.matshow(cm)\n",
      "plt.title('Confusion matrix')\n",
      "plt.colorbar()\n",
      "plt.ylabel('True label')\n",
      "plt.xlabel('Predicted label')\n",
      "plt.show()\n",
      "\"\"\""
     ],
     "language": "python",
     "metadata": {},
     "outputs": [
      {
       "metadata": {},
       "output_type": "pyout",
       "prompt_number": 57,
       "text": [
        "\"\\nFor a pretty plot of confusion matrix 'cm':\\nplt.matshow(cm)\\nplt.title('Confusion matrix')\\nplt.colorbar()\\nplt.ylabel('True label')\\nplt.xlabel('Predicted label')\\nplt.show()\\n\""
       ]
      }
     ],
     "prompt_number": 57
    },
    {
     "cell_type": "code",
     "collapsed": false,
     "input": [
      "plt.matshow(cm_l)\n",
      "plt.title('Confusion matrix - linear estimator')\n",
      "plt.colorbar()\n",
      "plt.ylabel('True label')\n",
      "plt.xlabel('Predicted label')\n",
      "plt.show()"
     ],
     "language": "python",
     "metadata": {},
     "outputs": [
      {
       "metadata": {},
       "output_type": "display_data",
       "png": "[encoded data removed]",
       "text": [
        "<matplotlib.figure.Figure at 0x1ac91278>"
       ]
      }
     ],
     "prompt_number": 58
    },
    {
     "cell_type": "code",
     "collapsed": false,
     "input": [
      "plt.matshow(cm_rbf)\n",
      "plt.title('Confusion matrix - linear estimator')\n",
      "plt.colorbar()\n",
      "plt.ylabel('True label')\n",
      "plt.xlabel('Predicted label')\n",
      "plt.show()"
     ],
     "language": "python",
     "metadata": {},
     "outputs": [
      {
       "metadata": {},
       "output_type": "display_data",
       "png": "[encoded data removed]",
       "text": [
        "<matplotlib.figure.Figure at 0x18ca3780>"
       ]
      }
     ],
     "prompt_number": 59
    },
    {
     "cell_type": "markdown",
     "metadata": {},
     "source": [
      "Note that the two diagrams side-by-side suggest an improper conclusion (that rbf is producing a more accurate estimate) because the color-bar used to shade each quadrant is not scaled with a zero minimum..."
     ]
    },
    {
     "cell_type": "code",
     "collapsed": false,
     "input": [],
     "language": "python",
     "metadata": {},
     "outputs": []
    }
   ],
   "metadata": {}
  }
 ]
}