{
 "metadata": {
  "name": "",
  "signature": "sha256:48d2441617154f9ba2de449a12499fd9d28c479daf72b08da91a398a869f7a5c"
 },
 "nbformat": 3,
 "nbformat_minor": 0,
 "worksheets": [
  {
   "cells": [
    {
     "cell_type": "markdown",
     "metadata": {},
     "source": [
      "#Homework 1 - Data Analysis and Regression\n",
      "In this assignment your challenge is to do some basic analysis for Airbnb. Provided in hw/data/ there are 2 data files, <a href=../data/bookings.csv>bookings.csv</a> and <a href=../data/listings.csv>listings.csv</a>. The objective is to practice data munging and begin our exploration of regression."
     ]
    },
    {
     "cell_type": "code",
     "collapsed": false,
     "input": [
      "# Standard imports for data analysis packages in Python\n",
      "import pandas as pd\n",
      "import numpy as np\n",
      "import seaborn as sns\n",
      "import matplotlib.pyplot as plt\n",
      "\n",
      "# This enables inline Plots\n",
      "%matplotlib inline\n",
      "\n",
      "# Limit rows displayed in notebook\n",
      "pd.set_option('display.max_rows', 10)\n",
      "pd.set_option('display.precision', 2)"
     ],
     "language": "python",
     "metadata": {},
     "outputs": [],
     "prompt_number": 3
    },
    {
     "cell_type": "code",
     "collapsed": false,
     "input": [
      "pd.__version__"
     ],
     "language": "python",
     "metadata": {},
     "outputs": [
      {
       "metadata": {},
       "output_type": "pyout",
       "prompt_number": 4,
       "text": [
        "'0.14.1'"
       ]
      }
     ],
     "prompt_number": 4
    },
    {
     "cell_type": "markdown",
     "metadata": {},
     "source": [
      "##Part 1 - Data exploration\n",
      "###First, create 2 data frames: `listings` and `bookings` from their respective data files"
     ]
    },
    {
     "cell_type": "code",
     "collapsed": false,
     "input": [
      "listings = pd.read_csv('../data/listings.csv')\n",
      "bookings = pd.read_csv('../data/bookings.csv')"
     ],
     "language": "python",
     "metadata": {},
     "outputs": [],
     "prompt_number": 5
    },
    {
     "cell_type": "code",
     "collapsed": false,
     "input": [
      "listings.head(5)"
     ],
     "language": "python",
     "metadata": {},
     "outputs": [
      {
       "html": [
        "<div style=\"max-height:1000px;max-width:1500px;overflow:auto;\">\n",
        "<table border=\"1\" class=\"dataframe\">\n",
        "  <thead>\n",
        "    <tr style=\"text-align: right;\">\n",
        "      <th></th>\n",
        "      <th>prop_id</th>\n",
        "      <th>prop_type</th>\n",
        "      <th>neighborhood</th>\n",
        "      <th>price</th>\n",
        "      <th>person_capacity</th>\n",
        "      <th>picture_count</th>\n",
        "      <th>description_length</th>\n",
        "      <th>tenure_months</th>\n",
        "    </tr>\n",
        "  </thead>\n",
        "  <tbody>\n",
        "    <tr>\n",
        "      <th>0</th>\n",
        "      <td> 1</td>\n",
        "      <td> Property type 1</td>\n",
        "      <td> Neighborhood 14</td>\n",
        "      <td> 140</td>\n",
        "      <td> 3</td>\n",
        "      <td> 11</td>\n",
        "      <td> 232</td>\n",
        "      <td> 30</td>\n",
        "    </tr>\n",
        "    <tr>\n",
        "      <th>1</th>\n",
        "      <td> 2</td>\n",
        "      <td> Property type 1</td>\n",
        "      <td> Neighborhood 14</td>\n",
        "      <td>  95</td>\n",
        "      <td> 2</td>\n",
        "      <td>  3</td>\n",
        "      <td>  37</td>\n",
        "      <td> 29</td>\n",
        "    </tr>\n",
        "    <tr>\n",
        "      <th>2</th>\n",
        "      <td> 3</td>\n",
        "      <td> Property type 2</td>\n",
        "      <td> Neighborhood 16</td>\n",
        "      <td>  95</td>\n",
        "      <td> 2</td>\n",
        "      <td> 16</td>\n",
        "      <td> 172</td>\n",
        "      <td> 29</td>\n",
        "    </tr>\n",
        "    <tr>\n",
        "      <th>3</th>\n",
        "      <td> 4</td>\n",
        "      <td> Property type 2</td>\n",
        "      <td> Neighborhood 13</td>\n",
        "      <td>  90</td>\n",
        "      <td> 2</td>\n",
        "      <td> 19</td>\n",
        "      <td> 472</td>\n",
        "      <td> 28</td>\n",
        "    </tr>\n",
        "    <tr>\n",
        "      <th>4</th>\n",
        "      <td> 5</td>\n",
        "      <td> Property type 1</td>\n",
        "      <td> Neighborhood 15</td>\n",
        "      <td> 125</td>\n",
        "      <td> 5</td>\n",
        "      <td> 21</td>\n",
        "      <td> 442</td>\n",
        "      <td> 28</td>\n",
        "    </tr>\n",
        "  </tbody>\n",
        "</table>\n",
        "</div>"
       ],
       "metadata": {},
       "output_type": "pyout",
       "prompt_number": 6,
       "text": [
        "   prop_id        prop_type     neighborhood  price  person_capacity  \\\n",
        "0        1  Property type 1  Neighborhood 14    140                3   \n",
        "1        2  Property type 1  Neighborhood 14     95                2   \n",
        "2        3  Property type 2  Neighborhood 16     95                2   \n",
        "3        4  Property type 2  Neighborhood 13     90                2   \n",
        "4        5  Property type 1  Neighborhood 15    125                5   \n",
        "\n",
        "   picture_count  description_length  tenure_months  \n",
        "0             11                 232             30  \n",
        "1              3                  37             29  \n",
        "2             16                 172             29  \n",
        "3             19                 472             28  \n",
        "4             21                 442             28  "
       ]
      }
     ],
     "prompt_number": 6
    },
    {
     "cell_type": "code",
     "collapsed": false,
     "input": [
      "listings.info()"
     ],
     "language": "python",
     "metadata": {},
     "outputs": [
      {
       "output_type": "stream",
       "stream": "stdout",
       "text": [
        "<class 'pandas.core.frame.DataFrame'>\n",
        "Int64Index: 408 entries, 0 to 407\n",
        "Data columns (total 8 columns):\n",
        "prop_id               408 non-null int64\n",
        "prop_type             408 non-null object\n",
        "neighborhood          408 non-null object\n",
        "price                 408 non-null int64\n",
        "person_capacity       408 non-null int64\n",
        "picture_count         408 non-null int64\n",
        "description_length    408 non-null int64\n",
        "tenure_months         408 non-null int64\n",
        "dtypes: int64(6), object(2)"
       ]
      }
     ],
     "prompt_number": 7
    },
    {
     "cell_type": "code",
     "collapsed": false,
     "input": [
      "bookings.head(5)"
     ],
     "language": "python",
     "metadata": {},
     "outputs": [
      {
       "html": [
        "<div style=\"max-height:1000px;max-width:1500px;overflow:auto;\">\n",
        "<table border=\"1\" class=\"dataframe\">\n",
        "  <thead>\n",
        "    <tr style=\"text-align: right;\">\n",
        "      <th></th>\n",
        "      <th>prop_id</th>\n",
        "      <th>booking_date</th>\n",
        "    </tr>\n",
        "  </thead>\n",
        "  <tbody>\n",
        "    <tr>\n",
        "      <th>0</th>\n",
        "      <td>  9</td>\n",
        "      <td> 2011-06-17</td>\n",
        "    </tr>\n",
        "    <tr>\n",
        "      <th>1</th>\n",
        "      <td> 13</td>\n",
        "      <td> 2011-08-12</td>\n",
        "    </tr>\n",
        "    <tr>\n",
        "      <th>2</th>\n",
        "      <td> 21</td>\n",
        "      <td> 2011-06-20</td>\n",
        "    </tr>\n",
        "    <tr>\n",
        "      <th>3</th>\n",
        "      <td> 28</td>\n",
        "      <td> 2011-05-05</td>\n",
        "    </tr>\n",
        "    <tr>\n",
        "      <th>4</th>\n",
        "      <td> 29</td>\n",
        "      <td> 2011-11-17</td>\n",
        "    </tr>\n",
        "  </tbody>\n",
        "</table>\n",
        "</div>"
       ],
       "metadata": {},
       "output_type": "pyout",
       "prompt_number": 8,
       "text": [
        "   prop_id booking_date\n",
        "0        9   2011-06-17\n",
        "1       13   2011-08-12\n",
        "2       21   2011-06-20\n",
        "3       28   2011-05-05\n",
        "4       29   2011-11-17"
       ]
      }
     ],
     "prompt_number": 8
    },
    {
     "cell_type": "code",
     "collapsed": false,
     "input": [
      "bookings.info()"
     ],
     "language": "python",
     "metadata": {},
     "outputs": [
      {
       "output_type": "stream",
       "stream": "stdout",
       "text": [
        "<class 'pandas.core.frame.DataFrame'>\n",
        "Int64Index: 6076 entries, 0 to 6075\n",
        "Data columns (total 2 columns):\n",
        "prop_id         6076 non-null int64\n",
        "booking_date    6076 non-null object\n",
        "dtypes: int64(1), object(1)"
       ]
      }
     ],
     "prompt_number": 9
    },
    {
     "cell_type": "code",
     "collapsed": false,
     "input": [
      "listings.groupby('prop_type').prop_id.count()"
     ],
     "language": "python",
     "metadata": {},
     "outputs": [
      {
       "metadata": {},
       "output_type": "pyout",
       "prompt_number": 10,
       "text": [
        "prop_type\n",
        "Property type 1    269\n",
        "Property type 2    135\n",
        "Property type 3      4\n",
        "Name: prop_id, dtype: int64"
       ]
      }
     ],
     "prompt_number": 10
    },
    {
     "cell_type": "code",
     "collapsed": false,
     "input": [
      "bookings.groupby('prop_id').count()"
     ],
     "language": "python",
     "metadata": {},
     "outputs": [
      {
       "html": [
        "<div style=\"max-height:1000px;max-width:1500px;overflow:auto;\">\n",
        "<table border=\"1\" class=\"dataframe\">\n",
        "  <thead>\n",
        "    <tr style=\"text-align: right;\">\n",
        "      <th></th>\n",
        "      <th>booking_date</th>\n",
        "    </tr>\n",
        "    <tr>\n",
        "      <th>prop_id</th>\n",
        "      <th></th>\n",
        "    </tr>\n",
        "  </thead>\n",
        "  <tbody>\n",
        "    <tr>\n",
        "      <th>1  </th>\n",
        "      <td>  4</td>\n",
        "    </tr>\n",
        "    <tr>\n",
        "      <th>3  </th>\n",
        "      <td>  1</td>\n",
        "    </tr>\n",
        "    <tr>\n",
        "      <th>4  </th>\n",
        "      <td> 27</td>\n",
        "    </tr>\n",
        "    <tr>\n",
        "      <th>6  </th>\n",
        "      <td> 88</td>\n",
        "    </tr>\n",
        "    <tr>\n",
        "      <th>7  </th>\n",
        "      <td>  2</td>\n",
        "    </tr>\n",
        "    <tr>\n",
        "      <th>...</th>\n",
        "      <td>...</td>\n",
        "    </tr>\n",
        "    <tr>\n",
        "      <th>404</th>\n",
        "      <td>  3</td>\n",
        "    </tr>\n",
        "    <tr>\n",
        "      <th>405</th>\n",
        "      <td> 19</td>\n",
        "    </tr>\n",
        "    <tr>\n",
        "      <th>406</th>\n",
        "      <td> 19</td>\n",
        "    </tr>\n",
        "    <tr>\n",
        "      <th>407</th>\n",
        "      <td> 15</td>\n",
        "    </tr>\n",
        "    <tr>\n",
        "      <th>408</th>\n",
        "      <td> 54</td>\n",
        "    </tr>\n",
        "  </tbody>\n",
        "</table>\n",
        "<p>328 rows \u00d7 1 columns</p>\n",
        "</div>"
       ],
       "metadata": {},
       "output_type": "pyout",
       "prompt_number": 11,
       "text": [
        "         booking_date\n",
        "prop_id              \n",
        "1                   4\n",
        "3                   1\n",
        "4                  27\n",
        "6                  88\n",
        "7                   2\n",
        "...               ...\n",
        "404                 3\n",
        "405                19\n",
        "406                19\n",
        "407                15\n",
        "408                54\n",
        "\n",
        "[328 rows x 1 columns]"
       ]
      }
     ],
     "prompt_number": 11
    },
    {
     "cell_type": "markdown",
     "metadata": {},
     "source": [
      "###What is the mean, median and standard deviation of price, person capacity, picture count, description length and tenure of the properties?"
     ]
    },
    {
     "cell_type": "code",
     "collapsed": false,
     "input": [
      "print 'price', listings.price.mean(), '/', listings.price.median(), '/', listings.price.std()\n",
      "print 'capacity', listings.person_capacity.mean(), '/', listings.person_capacity.median(), '/', listings.person_capacity.std()\n",
      "print 'picture count', listings.picture_count.mean(), '/', listings.picture_count.median(), '/', listings.picture_count.std()\n",
      "print 'desc length', listings.description_length.mean(), '/', listings.description_length.median(), '/', listings.description_length.std()\n",
      "print 'tenure, in months', listings.tenure_months.mean(), '/', listings.tenure_months.median(), '/', listings.tenure_months.std()"
     ],
     "language": "python",
     "metadata": {},
     "outputs": [
      {
       "output_type": "stream",
       "stream": "stdout",
       "text": [
        "price 187.806372549 / 125.0 / 353.050858039\n",
        "capacity 2.99754901961 / 2.0 / 1.59467599246\n",
        "picture count 14.3897058824 / 12.0 / 10.4774282678\n",
        "desc length 309.159313725 / 250.0 / 228.021684411\n",
        "tenure, in months 8.48774509804 / 7.0 / 5.87208837893\n"
       ]
      }
     ],
     "prompt_number": 12
    },
    {
     "cell_type": "markdown",
     "metadata": {},
     "source": [
      "###What what are the mean price, person capacity, picture count, description length and tenure of the properties grouped by property type?"
     ]
    },
    {
     "cell_type": "code",
     "collapsed": false,
     "input": [
      "print 'price by', listings.groupby('prop_type').price.mean()\n",
      "print 'capacity by', listings.groupby('prop_type').person_capacity.mean()\n",
      "print 'pictures by', listings.groupby('prop_type').picture_count.mean()\n",
      "print 'description length by', listings.groupby('prop_type').description_length.mean()\n",
      "print 'tenure by', listings.groupby('prop_type').tenure_months.mean()"
     ],
     "language": "python",
     "metadata": {},
     "outputs": [
      {
       "output_type": "stream",
       "stream": "stdout",
       "text": [
        "price by prop_type\n",
        "Property type 1    237.1\n",
        "Property type 2     93.3\n",
        "Property type 3     63.8\n",
        "Name: price, dtype: float64\n",
        "capacity by prop_type\n",
        "Property type 1    3.5\n",
        "Property type 2    2.0\n",
        "Property type 3    1.8\n",
        "Name: person_capacity, dtype: float64\n",
        "pictures by "
       ]
      },
      {
       "output_type": "stream",
       "stream": "stdout",
       "text": [
        "prop_type\n",
        "Property type 1    14.7\n",
        "Property type 2    13.9\n",
        "Property type 3     8.8\n",
        "Name: picture_count, dtype: float64\n",
        "description length by prop_type\n",
        "Property type 1    313.2\n",
        "Property type 2    304.9\n",
        "Property type 3    184.8\n",
        "Name: description_length, dtype: float64\n",
        "tenure by prop_type\n",
        "Property type 1     8.5\n",
        "Property type 2     8.4\n",
        "Property type 3    13.8\n",
        "Name: tenure_months, dtype: float64"
       ]
      },
      {
       "output_type": "stream",
       "stream": "stdout",
       "text": [
        "\n"
       ]
      }
     ],
     "prompt_number": 13
    },
    {
     "cell_type": "markdown",
     "metadata": {},
     "source": [
      "###Same, but by property type per neighborhood? "
     ]
    },
    {
     "cell_type": "code",
     "collapsed": false,
     "input": [
      "neighborhood_price = listings.groupby(['neighborhood','prop_type']).price.mean()\n",
      "neighborhood_price.unstack(1)"
     ],
     "language": "python",
     "metadata": {},
     "outputs": [
      {
       "html": [
        "<div style=\"max-height:1000px;max-width:1500px;overflow:auto;\">\n",
        "<table border=\"1\" class=\"dataframe\">\n",
        "  <thead>\n",
        "    <tr style=\"text-align: right;\">\n",
        "      <th>prop_type</th>\n",
        "      <th>Property type 1</th>\n",
        "      <th>Property type 2</th>\n",
        "      <th>Property type 3</th>\n",
        "    </tr>\n",
        "    <tr>\n",
        "      <th>neighborhood</th>\n",
        "      <th></th>\n",
        "      <th></th>\n",
        "      <th></th>\n",
        "    </tr>\n",
        "  </thead>\n",
        "  <tbody>\n",
        "    <tr>\n",
        "      <th>Neighborhood 1</th>\n",
        "      <td>  85.0</td>\n",
        "      <td>   NaN</td>\n",
        "      <td>NaN</td>\n",
        "    </tr>\n",
        "    <tr>\n",
        "      <th>Neighborhood 10</th>\n",
        "      <td> 142.5</td>\n",
        "      <td> 137.5</td>\n",
        "      <td>NaN</td>\n",
        "    </tr>\n",
        "    <tr>\n",
        "      <th>Neighborhood 11</th>\n",
        "      <td> 159.4</td>\n",
        "      <td>  78.8</td>\n",
        "      <td> 75</td>\n",
        "    </tr>\n",
        "    <tr>\n",
        "      <th>Neighborhood 12</th>\n",
        "      <td> 365.6</td>\n",
        "      <td>  96.9</td>\n",
        "      <td>NaN</td>\n",
        "    </tr>\n",
        "    <tr>\n",
        "      <th>Neighborhood 13</th>\n",
        "      <td> 241.9</td>\n",
        "      <td>  81.1</td>\n",
        "      <td>NaN</td>\n",
        "    </tr>\n",
        "    <tr>\n",
        "      <th>...</th>\n",
        "      <td>...</td>\n",
        "      <td>...</td>\n",
        "      <td>...</td>\n",
        "    </tr>\n",
        "    <tr>\n",
        "      <th>Neighborhood 5</th>\n",
        "      <td> 194.5</td>\n",
        "      <td>   NaN</td>\n",
        "      <td>NaN</td>\n",
        "    </tr>\n",
        "    <tr>\n",
        "      <th>Neighborhood 6</th>\n",
        "      <td> 146.0</td>\n",
        "      <td>   NaN</td>\n",
        "      <td>NaN</td>\n",
        "    </tr>\n",
        "    <tr>\n",
        "      <th>Neighborhood 7</th>\n",
        "      <td> 161.0</td>\n",
        "      <td> 100.0</td>\n",
        "      <td>NaN</td>\n",
        "    </tr>\n",
        "    <tr>\n",
        "      <th>Neighborhood 8</th>\n",
        "      <td> 174.8</td>\n",
        "      <td> 350.0</td>\n",
        "      <td>NaN</td>\n",
        "    </tr>\n",
        "    <tr>\n",
        "      <th>Neighborhood 9</th>\n",
        "      <td> 151.1</td>\n",
        "      <td> 110.0</td>\n",
        "      <td>NaN</td>\n",
        "    </tr>\n",
        "  </tbody>\n",
        "</table>\n",
        "<p>22 rows \u00d7 3 columns</p>\n",
        "</div>"
       ],
       "metadata": {},
       "output_type": "pyout",
       "prompt_number": 14,
       "text": [
        "prop_type        Property type 1  Property type 2  Property type 3\n",
        "neighborhood                                                      \n",
        "Neighborhood 1              85.0              NaN              NaN\n",
        "Neighborhood 10            142.5            137.5              NaN\n",
        "Neighborhood 11            159.4             78.8               75\n",
        "Neighborhood 12            365.6             96.9              NaN\n",
        "Neighborhood 13            241.9             81.1              NaN\n",
        "...                          ...              ...              ...\n",
        "Neighborhood 5             194.5              NaN              NaN\n",
        "Neighborhood 6             146.0              NaN              NaN\n",
        "Neighborhood 7             161.0            100.0              NaN\n",
        "Neighborhood 8             174.8            350.0              NaN\n",
        "Neighborhood 9             151.1            110.0              NaN\n",
        "\n",
        "[22 rows x 3 columns]"
       ]
      }
     ],
     "prompt_number": 14
    },
    {
     "cell_type": "markdown",
     "metadata": {},
     "source": [
      "###Plot daily bookings:"
     ]
    },
    {
     "cell_type": "code",
     "collapsed": false,
     "input": [
      "bookings.booking_date = pd.to_datetime(bookings.booking_date)\n",
      "bookings.book_date = bookings.booking_date.map(lambda x: x.date())\n",
      "\n",
      "bookings.book_date[0]\n",
      "\n",
      "bookings_by_date = bookings.groupby('booking_date').count()"
     ],
     "language": "python",
     "metadata": {},
     "outputs": [],
     "prompt_number": 15
    },
    {
     "cell_type": "code",
     "collapsed": false,
     "input": [
      "bookings_by_date.head(5)"
     ],
     "language": "python",
     "metadata": {},
     "outputs": [
      {
       "html": [
        "<div style=\"max-height:1000px;max-width:1500px;overflow:auto;\">\n",
        "<table border=\"1\" class=\"dataframe\">\n",
        "  <thead>\n",
        "    <tr style=\"text-align: right;\">\n",
        "      <th></th>\n",
        "      <th>prop_id</th>\n",
        "    </tr>\n",
        "    <tr>\n",
        "      <th>booking_date</th>\n",
        "      <th></th>\n",
        "    </tr>\n",
        "  </thead>\n",
        "  <tbody>\n",
        "    <tr>\n",
        "      <th>2011-01-01</th>\n",
        "      <td> 11</td>\n",
        "    </tr>\n",
        "    <tr>\n",
        "      <th>2011-01-02</th>\n",
        "      <td>  9</td>\n",
        "    </tr>\n",
        "    <tr>\n",
        "      <th>2011-01-03</th>\n",
        "      <td> 10</td>\n",
        "    </tr>\n",
        "    <tr>\n",
        "      <th>2011-01-04</th>\n",
        "      <td>  8</td>\n",
        "    </tr>\n",
        "    <tr>\n",
        "      <th>2011-01-05</th>\n",
        "      <td> 15</td>\n",
        "    </tr>\n",
        "  </tbody>\n",
        "</table>\n",
        "</div>"
       ],
       "metadata": {},
       "output_type": "pyout",
       "prompt_number": 16,
       "text": [
        "              prop_id\n",
        "booking_date         \n",
        "2011-01-01         11\n",
        "2011-01-02          9\n",
        "2011-01-03         10\n",
        "2011-01-04          8\n",
        "2011-01-05         15"
       ]
      }
     ],
     "prompt_number": 16
    },
    {
     "cell_type": "code",
     "collapsed": false,
     "input": [
      "bookings_by_date.tail(5)"
     ],
     "language": "python",
     "metadata": {},
     "outputs": [
      {
       "html": [
        "<div style=\"max-height:1000px;max-width:1500px;overflow:auto;\">\n",
        "<table border=\"1\" class=\"dataframe\">\n",
        "  <thead>\n",
        "    <tr style=\"text-align: right;\">\n",
        "      <th></th>\n",
        "      <th>prop_id</th>\n",
        "    </tr>\n",
        "    <tr>\n",
        "      <th>booking_date</th>\n",
        "      <th></th>\n",
        "    </tr>\n",
        "  </thead>\n",
        "  <tbody>\n",
        "    <tr>\n",
        "      <th>2011-12-27</th>\n",
        "      <td>  9</td>\n",
        "    </tr>\n",
        "    <tr>\n",
        "      <th>2011-12-28</th>\n",
        "      <td> 14</td>\n",
        "    </tr>\n",
        "    <tr>\n",
        "      <th>2011-12-29</th>\n",
        "      <td> 14</td>\n",
        "    </tr>\n",
        "    <tr>\n",
        "      <th>2011-12-30</th>\n",
        "      <td> 14</td>\n",
        "    </tr>\n",
        "    <tr>\n",
        "      <th>2011-12-31</th>\n",
        "      <td> 10</td>\n",
        "    </tr>\n",
        "  </tbody>\n",
        "</table>\n",
        "</div>"
       ],
       "metadata": {},
       "output_type": "pyout",
       "prompt_number": 17,
       "text": [
        "              prop_id\n",
        "booking_date         \n",
        "2011-12-27          9\n",
        "2011-12-28         14\n",
        "2011-12-29         14\n",
        "2011-12-30         14\n",
        "2011-12-31         10"
       ]
      }
     ],
     "prompt_number": 17
    },
    {
     "cell_type": "code",
     "collapsed": false,
     "input": [
      "bookings_by_date.info()"
     ],
     "language": "python",
     "metadata": {},
     "outputs": [
      {
       "output_type": "stream",
       "stream": "stdout",
       "text": [
        "<class 'pandas.core.frame.DataFrame'>\n",
        "DatetimeIndex: 365 entries, 2011-01-01 00:00:00 to 2011-12-31 00:00:00\n",
        "Data columns (total 1 columns):\n",
        "prop_id    365 non-null int64\n",
        "dtypes: int64(1)"
       ]
      }
     ],
     "prompt_number": 18
    },
    {
     "cell_type": "code",
     "collapsed": false,
     "input": [
      "bookings_by_date.hist()"
     ],
     "language": "python",
     "metadata": {},
     "outputs": [
      {
       "metadata": {},
       "output_type": "pyout",
       "prompt_number": 20,
       "text": [
        "array([[<matplotlib.axes._subplots.AxesSubplot object at 0x00000000163D7B00>]], dtype=object)"
       ]
      },
      {
       "metadata": {},
       "output_type": "display_data",
       "png": "[encoded data removed]",
       "text": [
        "<matplotlib.figure.Figure at 0x1614cb00>"
       ]
      }
     ],
     "prompt_number": 20
    },
    {
     "cell_type": "code",
     "collapsed": false,
     "input": [
      "# wait maybe we aren't supposed to build a histogram -- we may want a line chart / time series instead?\n",
      "bookings_by_date.unstack()\n",
      "bookings_by_date.rename(columns={'prop_id':'bookings'})"
     ],
     "language": "python",
     "metadata": {},
     "outputs": [
      {
       "html": [
        "<div style=\"max-height:1000px;max-width:1500px;overflow:auto;\">\n",
        "<table border=\"1\" class=\"dataframe\">\n",
        "  <thead>\n",
        "    <tr style=\"text-align: right;\">\n",
        "      <th></th>\n",
        "      <th>bookings</th>\n",
        "    </tr>\n",
        "    <tr>\n",
        "      <th>booking_date</th>\n",
        "      <th></th>\n",
        "    </tr>\n",
        "  </thead>\n",
        "  <tbody>\n",
        "    <tr>\n",
        "      <th>2011-01-01</th>\n",
        "      <td> 11</td>\n",
        "    </tr>\n",
        "    <tr>\n",
        "      <th>2011-01-02</th>\n",
        "      <td>  9</td>\n",
        "    </tr>\n",
        "    <tr>\n",
        "      <th>2011-01-03</th>\n",
        "      <td> 10</td>\n",
        "    </tr>\n",
        "    <tr>\n",
        "      <th>2011-01-04</th>\n",
        "      <td>  8</td>\n",
        "    </tr>\n",
        "    <tr>\n",
        "      <th>2011-01-05</th>\n",
        "      <td> 15</td>\n",
        "    </tr>\n",
        "    <tr>\n",
        "      <th>...</th>\n",
        "      <td>...</td>\n",
        "    </tr>\n",
        "    <tr>\n",
        "      <th>2011-12-27</th>\n",
        "      <td>  9</td>\n",
        "    </tr>\n",
        "    <tr>\n",
        "      <th>2011-12-28</th>\n",
        "      <td> 14</td>\n",
        "    </tr>\n",
        "    <tr>\n",
        "      <th>2011-12-29</th>\n",
        "      <td> 14</td>\n",
        "    </tr>\n",
        "    <tr>\n",
        "      <th>2011-12-30</th>\n",
        "      <td> 14</td>\n",
        "    </tr>\n",
        "    <tr>\n",
        "      <th>2011-12-31</th>\n",
        "      <td> 10</td>\n",
        "    </tr>\n",
        "  </tbody>\n",
        "</table>\n",
        "<p>365 rows \u00d7 1 columns</p>\n",
        "</div>"
       ],
       "metadata": {},
       "output_type": "pyout",
       "prompt_number": 150,
       "text": [
        "              bookings\n",
        "booking_date          \n",
        "2011-01-01          11\n",
        "2011-01-02           9\n",
        "2011-01-03          10\n",
        "2011-01-04           8\n",
        "2011-01-05          15\n",
        "...                ...\n",
        "2011-12-27           9\n",
        "2011-12-28          14\n",
        "2011-12-29          14\n",
        "2011-12-30          14\n",
        "2011-12-31          10\n",
        "\n",
        "[365 rows x 1 columns]"
       ]
      }
     ],
     "prompt_number": 150
    },
    {
     "cell_type": "code",
     "collapsed": false,
     "input": [
      "\n",
      "bookings_by_date.plot()\n"
     ],
     "language": "python",
     "metadata": {},
     "outputs": [
      {
       "metadata": {},
       "output_type": "pyout",
       "prompt_number": 148,
       "text": [
        "<matplotlib.axes._subplots.AxesSubplot at 0x2331d208>"
       ]
      },
      {
       "metadata": {},
       "output_type": "display_data",
       "png": "[encoded data removed]",
       "text": [
        "<matplotlib.figure.Figure at 0x2331d2b0>"
       ]
      }
     ],
     "prompt_number": 148
    },
    {
     "cell_type": "markdown",
     "metadata": {},
     "source": [
      "###Plot the daily bookings per neighborhood (provide a legend)"
     ]
    },
    {
     "cell_type": "code",
     "collapsed": false,
     "input": [
      "# merge listings data into bookings (by prop_id)\n",
      "bookinginfo = bookings.merge(listings)\n",
      "\n",
      "bookinginfo.info()"
     ],
     "language": "python",
     "metadata": {},
     "outputs": [
      {
       "output_type": "stream",
       "stream": "stdout",
       "text": [
        "<class 'pandas.core.frame.DataFrame'>\n",
        "Int64Index: 6076 entries, 0 to 6075\n",
        "Data columns (total 9 columns):\n",
        "prop_id               6076 non-null int64\n",
        "booking_date          6076 non-null datetime64[ns]\n",
        "prop_type             6076 non-null object\n",
        "neighborhood          6076 non-null object\n",
        "price                 6076 non-null int64\n",
        "person_capacity       6076 non-null int64\n",
        "picture_count         6076 non-null int64\n",
        "description_length    6076 non-null int64\n",
        "tenure_months         6076 non-null int64\n",
        "dtypes: datetime64[ns](1), int64(6), object(2)"
       ]
      }
     ],
     "prompt_number": 22
    },
    {
     "cell_type": "code",
     "collapsed": false,
     "input": [
      "bookinginfo.head(5)"
     ],
     "language": "python",
     "metadata": {},
     "outputs": [
      {
       "html": [
        "<div style=\"max-height:1000px;max-width:1500px;overflow:auto;\">\n",
        "<table border=\"1\" class=\"dataframe\">\n",
        "  <thead>\n",
        "    <tr style=\"text-align: right;\">\n",
        "      <th></th>\n",
        "      <th>prop_id</th>\n",
        "      <th>booking_date</th>\n",
        "      <th>prop_type</th>\n",
        "      <th>neighborhood</th>\n",
        "      <th>price</th>\n",
        "      <th>person_capacity</th>\n",
        "      <th>picture_count</th>\n",
        "      <th>description_length</th>\n",
        "      <th>tenure_months</th>\n",
        "    </tr>\n",
        "  </thead>\n",
        "  <tbody>\n",
        "    <tr>\n",
        "      <th>0</th>\n",
        "      <td>  9</td>\n",
        "      <td>2011-06-17</td>\n",
        "      <td> Property type 1</td>\n",
        "      <td> Neighborhood 13</td>\n",
        "      <td> 210</td>\n",
        "      <td> 6</td>\n",
        "      <td> 27</td>\n",
        "      <td> 180</td>\n",
        "      <td> 23</td>\n",
        "    </tr>\n",
        "    <tr>\n",
        "      <th>1</th>\n",
        "      <td>  9</td>\n",
        "      <td>2011-07-23</td>\n",
        "      <td> Property type 1</td>\n",
        "      <td> Neighborhood 13</td>\n",
        "      <td> 210</td>\n",
        "      <td> 6</td>\n",
        "      <td> 27</td>\n",
        "      <td> 180</td>\n",
        "      <td> 23</td>\n",
        "    </tr>\n",
        "    <tr>\n",
        "      <th>2</th>\n",
        "      <td>  9</td>\n",
        "      <td>2011-10-28</td>\n",
        "      <td> Property type 1</td>\n",
        "      <td> Neighborhood 13</td>\n",
        "      <td> 210</td>\n",
        "      <td> 6</td>\n",
        "      <td> 27</td>\n",
        "      <td> 180</td>\n",
        "      <td> 23</td>\n",
        "    </tr>\n",
        "    <tr>\n",
        "      <th>3</th>\n",
        "      <td> 13</td>\n",
        "      <td>2011-08-12</td>\n",
        "      <td> Property type 2</td>\n",
        "      <td> Neighborhood 14</td>\n",
        "      <td>  96</td>\n",
        "      <td> 2</td>\n",
        "      <td> 10</td>\n",
        "      <td> 245</td>\n",
        "      <td> 20</td>\n",
        "    </tr>\n",
        "    <tr>\n",
        "      <th>4</th>\n",
        "      <td> 13</td>\n",
        "      <td>2011-03-17</td>\n",
        "      <td> Property type 2</td>\n",
        "      <td> Neighborhood 14</td>\n",
        "      <td>  96</td>\n",
        "      <td> 2</td>\n",
        "      <td> 10</td>\n",
        "      <td> 245</td>\n",
        "      <td> 20</td>\n",
        "    </tr>\n",
        "  </tbody>\n",
        "</table>\n",
        "</div>"
       ],
       "metadata": {},
       "output_type": "pyout",
       "prompt_number": 25,
       "text": [
        "   prop_id booking_date        prop_type     neighborhood  price  \\\n",
        "0        9   2011-06-17  Property type 1  Neighborhood 13    210   \n",
        "1        9   2011-07-23  Property type 1  Neighborhood 13    210   \n",
        "2        9   2011-10-28  Property type 1  Neighborhood 13    210   \n",
        "3       13   2011-08-12  Property type 2  Neighborhood 14     96   \n",
        "4       13   2011-03-17  Property type 2  Neighborhood 14     96   \n",
        "\n",
        "   person_capacity  picture_count  description_length  tenure_months  \n",
        "0                6             27                 180             23  \n",
        "1                6             27                 180             23  \n",
        "2                6             27                 180             23  \n",
        "3                2             10                 245             20  \n",
        "4                2             10                 245             20  "
       ]
      }
     ],
     "prompt_number": 25
    },
    {
     "cell_type": "code",
     "collapsed": false,
     "input": [
      "neighbookinfo = bookinginfo.groupby(bookinginfo.booking_date)\n",
      "\n",
      "neighbookinfo.head(5)"
     ],
     "language": "python",
     "metadata": {},
     "outputs": [
      {
       "html": [
        "<div style=\"max-height:1000px;max-width:1500px;overflow:auto;\">\n",
        "<table border=\"1\" class=\"dataframe\">\n",
        "  <thead>\n",
        "    <tr style=\"text-align: right;\">\n",
        "      <th></th>\n",
        "      <th>prop_id</th>\n",
        "      <th>booking_date</th>\n",
        "      <th>prop_type</th>\n",
        "      <th>neighborhood</th>\n",
        "      <th>price</th>\n",
        "      <th>person_capacity</th>\n",
        "      <th>picture_count</th>\n",
        "      <th>description_length</th>\n",
        "      <th>tenure_months</th>\n",
        "    </tr>\n",
        "  </thead>\n",
        "  <tbody>\n",
        "    <tr>\n",
        "      <th>0   </th>\n",
        "      <td>   9</td>\n",
        "      <td>2011-06-17</td>\n",
        "      <td> Property type 1</td>\n",
        "      <td> Neighborhood 13</td>\n",
        "      <td> 210</td>\n",
        "      <td> 6</td>\n",
        "      <td> 27</td>\n",
        "      <td> 180</td>\n",
        "      <td> 23</td>\n",
        "    </tr>\n",
        "    <tr>\n",
        "      <th>1   </th>\n",
        "      <td>   9</td>\n",
        "      <td>2011-07-23</td>\n",
        "      <td> Property type 1</td>\n",
        "      <td> Neighborhood 13</td>\n",
        "      <td> 210</td>\n",
        "      <td> 6</td>\n",
        "      <td> 27</td>\n",
        "      <td> 180</td>\n",
        "      <td> 23</td>\n",
        "    </tr>\n",
        "    <tr>\n",
        "      <th>2   </th>\n",
        "      <td>   9</td>\n",
        "      <td>2011-10-28</td>\n",
        "      <td> Property type 1</td>\n",
        "      <td> Neighborhood 13</td>\n",
        "      <td> 210</td>\n",
        "      <td> 6</td>\n",
        "      <td> 27</td>\n",
        "      <td> 180</td>\n",
        "      <td> 23</td>\n",
        "    </tr>\n",
        "    <tr>\n",
        "      <th>3   </th>\n",
        "      <td>  13</td>\n",
        "      <td>2011-08-12</td>\n",
        "      <td> Property type 2</td>\n",
        "      <td> Neighborhood 14</td>\n",
        "      <td>  96</td>\n",
        "      <td> 2</td>\n",
        "      <td> 10</td>\n",
        "      <td> 245</td>\n",
        "      <td> 20</td>\n",
        "    </tr>\n",
        "    <tr>\n",
        "      <th>4   </th>\n",
        "      <td>  13</td>\n",
        "      <td>2011-03-17</td>\n",
        "      <td> Property type 2</td>\n",
        "      <td> Neighborhood 14</td>\n",
        "      <td>  96</td>\n",
        "      <td> 2</td>\n",
        "      <td> 10</td>\n",
        "      <td> 245</td>\n",
        "      <td> 20</td>\n",
        "    </tr>\n",
        "    <tr>\n",
        "      <th>...</th>\n",
        "      <td>...</td>\n",
        "      <td>...</td>\n",
        "      <td>...</td>\n",
        "      <td>...</td>\n",
        "      <td>...</td>\n",
        "      <td>...</td>\n",
        "      <td>...</td>\n",
        "      <td>...</td>\n",
        "      <td>...</td>\n",
        "    </tr>\n",
        "    <tr>\n",
        "      <th>5263</th>\n",
        "      <td> 326</td>\n",
        "      <td>2011-02-13</td>\n",
        "      <td> Property type 1</td>\n",
        "      <td> Neighborhood 12</td>\n",
        "      <td> 120</td>\n",
        "      <td> 3</td>\n",
        "      <td> 20</td>\n",
        "      <td> 395</td>\n",
        "      <td>  3</td>\n",
        "    </tr>\n",
        "    <tr>\n",
        "      <th>5335</th>\n",
        "      <td> 329</td>\n",
        "      <td>2011-09-12</td>\n",
        "      <td> Property type 2</td>\n",
        "      <td> Neighborhood 13</td>\n",
        "      <td>  95</td>\n",
        "      <td> 2</td>\n",
        "      <td> 20</td>\n",
        "      <td> 212</td>\n",
        "      <td>  3</td>\n",
        "    </tr>\n",
        "    <tr>\n",
        "      <th>5405</th>\n",
        "      <td> 334</td>\n",
        "      <td>2011-01-18</td>\n",
        "      <td> Property type 1</td>\n",
        "      <td> Neighborhood 15</td>\n",
        "      <td> 185</td>\n",
        "      <td> 3</td>\n",
        "      <td> 28</td>\n",
        "      <td> 101</td>\n",
        "      <td>  3</td>\n",
        "    </tr>\n",
        "    <tr>\n",
        "      <th>5420</th>\n",
        "      <td> 334</td>\n",
        "      <td>2011-12-03</td>\n",
        "      <td> Property type 1</td>\n",
        "      <td> Neighborhood 15</td>\n",
        "      <td> 185</td>\n",
        "      <td> 3</td>\n",
        "      <td> 28</td>\n",
        "      <td> 101</td>\n",
        "      <td>  3</td>\n",
        "    </tr>\n",
        "    <tr>\n",
        "      <th>5479</th>\n",
        "      <td> 342</td>\n",
        "      <td>2011-12-03</td>\n",
        "      <td> Property type 2</td>\n",
        "      <td> Neighborhood 16</td>\n",
        "      <td>  53</td>\n",
        "      <td> 1</td>\n",
        "      <td>  2</td>\n",
        "      <td> 191</td>\n",
        "      <td>  3</td>\n",
        "    </tr>\n",
        "  </tbody>\n",
        "</table>\n",
        "<p>1819 rows \u00d7 9 columns</p>\n",
        "</div>"
       ],
       "metadata": {},
       "output_type": "pyout",
       "prompt_number": 251,
       "text": [
        "      prop_id booking_date        prop_type     neighborhood  price  \\\n",
        "0           9   2011-06-17  Property type 1  Neighborhood 13    210   \n",
        "1           9   2011-07-23  Property type 1  Neighborhood 13    210   \n",
        "2           9   2011-10-28  Property type 1  Neighborhood 13    210   \n",
        "3          13   2011-08-12  Property type 2  Neighborhood 14     96   \n",
        "4          13   2011-03-17  Property type 2  Neighborhood 14     96   \n",
        "...       ...          ...              ...              ...    ...   \n",
        "5263      326   2011-02-13  Property type 1  Neighborhood 12    120   \n",
        "5335      329   2011-09-12  Property type 2  Neighborhood 13     95   \n",
        "5405      334   2011-01-18  Property type 1  Neighborhood 15    185   \n",
        "5420      334   2011-12-03  Property type 1  Neighborhood 15    185   \n",
        "5479      342   2011-12-03  Property type 2  Neighborhood 16     53   \n",
        "\n",
        "      person_capacity  picture_count  description_length  tenure_months  \n",
        "0                   6             27                 180             23  \n",
        "1                   6             27                 180             23  \n",
        "2                   6             27                 180             23  \n",
        "3                   2             10                 245             20  \n",
        "4                   2             10                 245             20  \n",
        "...               ...            ...                 ...            ...  \n",
        "5263                3             20                 395              3  \n",
        "5335                2             20                 212              3  \n",
        "5405                3             28                 101              3  \n",
        "5420                3             28                 101              3  \n",
        "5479                1              2                 191              3  \n",
        "\n",
        "[1819 rows x 9 columns]"
       ]
      }
     ],
     "prompt_number": 251
    },
    {
     "cell_type": "code",
     "collapsed": false,
     "input": [
      "neigh_new = bookinginfo[['booking_date','neighborhood']]"
     ],
     "language": "python",
     "metadata": {},
     "outputs": [],
     "prompt_number": 265
    },
    {
     "cell_type": "code",
     "collapsed": false,
     "input": [
      "neigh_new.head(5)"
     ],
     "language": "python",
     "metadata": {},
     "outputs": [
      {
       "html": [
        "<div style=\"max-height:1000px;max-width:1500px;overflow:auto;\">\n",
        "<table border=\"1\" class=\"dataframe\">\n",
        "  <thead>\n",
        "    <tr style=\"text-align: right;\">\n",
        "      <th></th>\n",
        "      <th>booking_date</th>\n",
        "      <th>neighborhood</th>\n",
        "    </tr>\n",
        "  </thead>\n",
        "  <tbody>\n",
        "    <tr>\n",
        "      <th>0</th>\n",
        "      <td>2011-06-17</td>\n",
        "      <td> Neighborhood 13</td>\n",
        "    </tr>\n",
        "    <tr>\n",
        "      <th>1</th>\n",
        "      <td>2011-07-23</td>\n",
        "      <td> Neighborhood 13</td>\n",
        "    </tr>\n",
        "    <tr>\n",
        "      <th>2</th>\n",
        "      <td>2011-10-28</td>\n",
        "      <td> Neighborhood 13</td>\n",
        "    </tr>\n",
        "    <tr>\n",
        "      <th>3</th>\n",
        "      <td>2011-08-12</td>\n",
        "      <td> Neighborhood 14</td>\n",
        "    </tr>\n",
        "    <tr>\n",
        "      <th>4</th>\n",
        "      <td>2011-03-17</td>\n",
        "      <td> Neighborhood 14</td>\n",
        "    </tr>\n",
        "  </tbody>\n",
        "</table>\n",
        "</div>"
       ],
       "metadata": {},
       "output_type": "pyout",
       "prompt_number": 267,
       "text": [
        "  booking_date     neighborhood\n",
        "0   2011-06-17  Neighborhood 13\n",
        "1   2011-07-23  Neighborhood 13\n",
        "2   2011-10-28  Neighborhood 13\n",
        "3   2011-08-12  Neighborhood 14\n",
        "4   2011-03-17  Neighborhood 14"
       ]
      }
     ],
     "prompt_number": 267
    },
    {
     "cell_type": "code",
     "collapsed": false,
     "input": [
      "neigh_new.groupby(neigh_new.booking_date).count()\n",
      "\n",
      "neigh_new.plot(x=neigh_new.booking_date, y=neigh_new.count(), by=neigh_new.neighborhood)\n",
      "# I just can't seem to quite wrangle this dataframe into useable form"
     ],
     "language": "python",
     "metadata": {},
     "outputs": [
      {
       "ename": "IndexError",
       "evalue": "indices are out-of-bounds",
       "output_type": "pyerr",
       "traceback": [
        "\u001b[1;31m---------------------------------------------------------------------------\u001b[0m\n\u001b[1;31mIndexError\u001b[0m                                Traceback (most recent call last)",
        "\u001b[1;32m<ipython-input-282-17644444d34f>\u001b[0m in \u001b[0;36m<module>\u001b[1;34m()\u001b[0m\n\u001b[0;32m      1\u001b[0m \u001b[0mneigh_new\u001b[0m\u001b[1;33m.\u001b[0m\u001b[0mgroupby\u001b[0m\u001b[1;33m(\u001b[0m\u001b[0mneigh_new\u001b[0m\u001b[1;33m.\u001b[0m\u001b[0mbooking_date\u001b[0m\u001b[1;33m)\u001b[0m\u001b[1;33m.\u001b[0m\u001b[0mcount\u001b[0m\u001b[1;33m(\u001b[0m\u001b[1;33m)\u001b[0m\u001b[1;33m\u001b[0m\u001b[0m\n\u001b[0;32m      2\u001b[0m \u001b[1;33m\u001b[0m\u001b[0m\n\u001b[1;32m----> 3\u001b[1;33m \u001b[0mneigh_new\u001b[0m\u001b[1;33m.\u001b[0m\u001b[0mplot\u001b[0m\u001b[1;33m(\u001b[0m\u001b[0mx\u001b[0m\u001b[1;33m=\u001b[0m\u001b[0mneigh_new\u001b[0m\u001b[1;33m.\u001b[0m\u001b[0mbooking_date\u001b[0m\u001b[1;33m,\u001b[0m \u001b[0my\u001b[0m\u001b[1;33m=\u001b[0m\u001b[0mneigh_new\u001b[0m\u001b[1;33m.\u001b[0m\u001b[0mcount\u001b[0m\u001b[1;33m(\u001b[0m\u001b[1;33m)\u001b[0m\u001b[1;33m,\u001b[0m \u001b[0mby\u001b[0m\u001b[1;33m=\u001b[0m\u001b[0mneigh_new\u001b[0m\u001b[1;33m.\u001b[0m\u001b[0mneighborhood\u001b[0m\u001b[1;33m)\u001b[0m\u001b[1;33m\u001b[0m\u001b[0m\n\u001b[0m",
        "\u001b[1;32mC:\\Anaconda\\lib\\site-packages\\pandas\\tools\\plotting.pyc\u001b[0m in \u001b[0;36mplot_frame\u001b[1;34m(frame, x, y, subplots, sharex, sharey, use_index, figsize, grid, legend, rot, ax, style, title, xlim, ylim, logx, logy, xticks, yticks, kind, sort_columns, fontsize, secondary_y, **kwds)\u001b[0m\n\u001b[0;32m   2135\u001b[0m             \u001b[0mlabel\u001b[0m \u001b[1;33m=\u001b[0m \u001b[0mx\u001b[0m \u001b[1;32mif\u001b[0m \u001b[0mx\u001b[0m \u001b[1;32mis\u001b[0m \u001b[1;32mnot\u001b[0m \u001b[0mNone\u001b[0m \u001b[1;32melse\u001b[0m \u001b[0mframe\u001b[0m\u001b[1;33m.\u001b[0m\u001b[0mindex\u001b[0m\u001b[1;33m.\u001b[0m\u001b[0mname\u001b[0m\u001b[1;33m\u001b[0m\u001b[0m\n\u001b[0;32m   2136\u001b[0m             \u001b[0mlabel\u001b[0m \u001b[1;33m=\u001b[0m \u001b[0mkwds\u001b[0m\u001b[1;33m.\u001b[0m\u001b[0mpop\u001b[0m\u001b[1;33m(\u001b[0m\u001b[1;34m'label'\u001b[0m\u001b[1;33m,\u001b[0m \u001b[0mlabel\u001b[0m\u001b[1;33m)\u001b[0m\u001b[1;33m\u001b[0m\u001b[0m\n\u001b[1;32m-> 2137\u001b[1;33m             \u001b[0mser\u001b[0m \u001b[1;33m=\u001b[0m \u001b[0mframe\u001b[0m\u001b[1;33m[\u001b[0m\u001b[0my\u001b[0m\u001b[1;33m]\u001b[0m\u001b[1;33m\u001b[0m\u001b[0m\n\u001b[0m\u001b[0;32m   2138\u001b[0m             \u001b[0mser\u001b[0m\u001b[1;33m.\u001b[0m\u001b[0mindex\u001b[0m\u001b[1;33m.\u001b[0m\u001b[0mname\u001b[0m \u001b[1;33m=\u001b[0m \u001b[0mlabel\u001b[0m\u001b[1;33m\u001b[0m\u001b[0m\n\u001b[0;32m   2139\u001b[0m \u001b[1;33m\u001b[0m\u001b[0m\n",
        "\u001b[1;32mC:\\Anaconda\\lib\\site-packages\\pandas\\core\\frame.pyc\u001b[0m in \u001b[0;36m__getitem__\u001b[1;34m(self, key)\u001b[0m\n\u001b[0;32m   1670\u001b[0m         \u001b[1;32mif\u001b[0m \u001b[0misinstance\u001b[0m\u001b[1;33m(\u001b[0m\u001b[0mkey\u001b[0m\u001b[1;33m,\u001b[0m \u001b[1;33m(\u001b[0m\u001b[0mSeries\u001b[0m\u001b[1;33m,\u001b[0m \u001b[0mnp\u001b[0m\u001b[1;33m.\u001b[0m\u001b[0mndarray\u001b[0m\u001b[1;33m,\u001b[0m \u001b[0mlist\u001b[0m\u001b[1;33m)\u001b[0m\u001b[1;33m)\u001b[0m\u001b[1;33m:\u001b[0m\u001b[1;33m\u001b[0m\u001b[0m\n\u001b[0;32m   1671\u001b[0m             \u001b[1;31m# either boolean or fancy integer index\u001b[0m\u001b[1;33m\u001b[0m\u001b[1;33m\u001b[0m\u001b[0m\n\u001b[1;32m-> 1672\u001b[1;33m             \u001b[1;32mreturn\u001b[0m \u001b[0mself\u001b[0m\u001b[1;33m.\u001b[0m\u001b[0m_getitem_array\u001b[0m\u001b[1;33m(\u001b[0m\u001b[0mkey\u001b[0m\u001b[1;33m)\u001b[0m\u001b[1;33m\u001b[0m\u001b[0m\n\u001b[0m\u001b[0;32m   1673\u001b[0m         \u001b[1;32melif\u001b[0m \u001b[0misinstance\u001b[0m\u001b[1;33m(\u001b[0m\u001b[0mkey\u001b[0m\u001b[1;33m,\u001b[0m \u001b[0mDataFrame\u001b[0m\u001b[1;33m)\u001b[0m\u001b[1;33m:\u001b[0m\u001b[1;33m\u001b[0m\u001b[0m\n\u001b[0;32m   1674\u001b[0m             \u001b[1;32mreturn\u001b[0m \u001b[0mself\u001b[0m\u001b[1;33m.\u001b[0m\u001b[0m_getitem_frame\u001b[0m\u001b[1;33m(\u001b[0m\u001b[0mkey\u001b[0m\u001b[1;33m)\u001b[0m\u001b[1;33m\u001b[0m\u001b[0m\n",
        "\u001b[1;32mC:\\Anaconda\\lib\\site-packages\\pandas\\core\\frame.pyc\u001b[0m in \u001b[0;36m_getitem_array\u001b[1;34m(self, key)\u001b[0m\n\u001b[0;32m   1715\u001b[0m         \u001b[1;32melse\u001b[0m\u001b[1;33m:\u001b[0m\u001b[1;33m\u001b[0m\u001b[0m\n\u001b[0;32m   1716\u001b[0m             \u001b[0mindexer\u001b[0m \u001b[1;33m=\u001b[0m \u001b[0mself\u001b[0m\u001b[1;33m.\u001b[0m\u001b[0mix\u001b[0m\u001b[1;33m.\u001b[0m\u001b[0m_convert_to_indexer\u001b[0m\u001b[1;33m(\u001b[0m\u001b[0mkey\u001b[0m\u001b[1;33m,\u001b[0m \u001b[0maxis\u001b[0m\u001b[1;33m=\u001b[0m\u001b[1;36m1\u001b[0m\u001b[1;33m)\u001b[0m\u001b[1;33m\u001b[0m\u001b[0m\n\u001b[1;32m-> 1717\u001b[1;33m             \u001b[1;32mreturn\u001b[0m \u001b[0mself\u001b[0m\u001b[1;33m.\u001b[0m\u001b[0mtake\u001b[0m\u001b[1;33m(\u001b[0m\u001b[0mindexer\u001b[0m\u001b[1;33m,\u001b[0m \u001b[0maxis\u001b[0m\u001b[1;33m=\u001b[0m\u001b[1;36m1\u001b[0m\u001b[1;33m,\u001b[0m \u001b[0mconvert\u001b[0m\u001b[1;33m=\u001b[0m\u001b[0mTrue\u001b[0m\u001b[1;33m)\u001b[0m\u001b[1;33m\u001b[0m\u001b[0m\n\u001b[0m\u001b[0;32m   1718\u001b[0m \u001b[1;33m\u001b[0m\u001b[0m\n\u001b[0;32m   1719\u001b[0m     \u001b[1;32mdef\u001b[0m \u001b[0m_getitem_multilevel\u001b[0m\u001b[1;33m(\u001b[0m\u001b[0mself\u001b[0m\u001b[1;33m,\u001b[0m \u001b[0mkey\u001b[0m\u001b[1;33m)\u001b[0m\u001b[1;33m:\u001b[0m\u001b[1;33m\u001b[0m\u001b[0m\n",
        "\u001b[1;32mC:\\Anaconda\\lib\\site-packages\\pandas\\core\\generic.pyc\u001b[0m in \u001b[0;36mtake\u001b[1;34m(self, indices, axis, convert, is_copy)\u001b[0m\n\u001b[0;32m   1233\u001b[0m         new_data = self._data.take(indices,\n\u001b[0;32m   1234\u001b[0m                                    \u001b[0maxis\u001b[0m\u001b[1;33m=\u001b[0m\u001b[0mself\u001b[0m\u001b[1;33m.\u001b[0m\u001b[0m_get_block_manager_axis\u001b[0m\u001b[1;33m(\u001b[0m\u001b[0maxis\u001b[0m\u001b[1;33m)\u001b[0m\u001b[1;33m,\u001b[0m\u001b[1;33m\u001b[0m\u001b[0m\n\u001b[1;32m-> 1235\u001b[1;33m                                    convert=True, verify=True)\n\u001b[0m\u001b[0;32m   1236\u001b[0m         \u001b[0mresult\u001b[0m \u001b[1;33m=\u001b[0m \u001b[0mself\u001b[0m\u001b[1;33m.\u001b[0m\u001b[0m_constructor\u001b[0m\u001b[1;33m(\u001b[0m\u001b[0mnew_data\u001b[0m\u001b[1;33m)\u001b[0m\u001b[1;33m.\u001b[0m\u001b[0m__finalize__\u001b[0m\u001b[1;33m(\u001b[0m\u001b[0mself\u001b[0m\u001b[1;33m)\u001b[0m\u001b[1;33m\u001b[0m\u001b[0m\n\u001b[0;32m   1237\u001b[0m \u001b[1;33m\u001b[0m\u001b[0m\n",
        "\u001b[1;32mC:\\Anaconda\\lib\\site-packages\\pandas\\core\\internals.pyc\u001b[0m in \u001b[0;36mtake\u001b[1;34m(self, indexer, axis, verify, convert)\u001b[0m\n\u001b[0;32m   2968\u001b[0m         \u001b[0mn\u001b[0m \u001b[1;33m=\u001b[0m \u001b[0mself\u001b[0m\u001b[1;33m.\u001b[0m\u001b[0mshape\u001b[0m\u001b[1;33m[\u001b[0m\u001b[0maxis\u001b[0m\u001b[1;33m]\u001b[0m\u001b[1;33m\u001b[0m\u001b[0m\n\u001b[0;32m   2969\u001b[0m         \u001b[1;32mif\u001b[0m \u001b[0mconvert\u001b[0m\u001b[1;33m:\u001b[0m\u001b[1;33m\u001b[0m\u001b[0m\n\u001b[1;32m-> 2970\u001b[1;33m             \u001b[0mindexer\u001b[0m \u001b[1;33m=\u001b[0m \u001b[0m_maybe_convert_indices\u001b[0m\u001b[1;33m(\u001b[0m\u001b[0mindexer\u001b[0m\u001b[1;33m,\u001b[0m \u001b[0mn\u001b[0m\u001b[1;33m)\u001b[0m\u001b[1;33m\u001b[0m\u001b[0m\n\u001b[0m\u001b[0;32m   2971\u001b[0m \u001b[1;33m\u001b[0m\u001b[0m\n\u001b[0;32m   2972\u001b[0m         \u001b[1;32mif\u001b[0m \u001b[0mverify\u001b[0m\u001b[1;33m:\u001b[0m\u001b[1;33m\u001b[0m\u001b[0m\n",
        "\u001b[1;32mC:\\Anaconda\\lib\\site-packages\\pandas\\core\\indexing.pyc\u001b[0m in \u001b[0;36m_maybe_convert_indices\u001b[1;34m(indices, n)\u001b[0m\n\u001b[0;32m   1630\u001b[0m     \u001b[0mmask\u001b[0m \u001b[1;33m=\u001b[0m \u001b[1;33m(\u001b[0m\u001b[0mindices\u001b[0m \u001b[1;33m>=\u001b[0m \u001b[0mn\u001b[0m\u001b[1;33m)\u001b[0m \u001b[1;33m|\u001b[0m \u001b[1;33m(\u001b[0m\u001b[0mindices\u001b[0m \u001b[1;33m<\u001b[0m \u001b[1;36m0\u001b[0m\u001b[1;33m)\u001b[0m\u001b[1;33m\u001b[0m\u001b[0m\n\u001b[0;32m   1631\u001b[0m     \u001b[1;32mif\u001b[0m \u001b[0mmask\u001b[0m\u001b[1;33m.\u001b[0m\u001b[0many\u001b[0m\u001b[1;33m(\u001b[0m\u001b[1;33m)\u001b[0m\u001b[1;33m:\u001b[0m\u001b[1;33m\u001b[0m\u001b[0m\n\u001b[1;32m-> 1632\u001b[1;33m         \u001b[1;32mraise\u001b[0m \u001b[0mIndexError\u001b[0m\u001b[1;33m(\u001b[0m\u001b[1;34m\"indices are out-of-bounds\"\u001b[0m\u001b[1;33m)\u001b[0m\u001b[1;33m\u001b[0m\u001b[0m\n\u001b[0m\u001b[0;32m   1633\u001b[0m     \u001b[1;32mreturn\u001b[0m \u001b[0mindices\u001b[0m\u001b[1;33m\u001b[0m\u001b[0m\n\u001b[0;32m   1634\u001b[0m \u001b[1;33m\u001b[0m\u001b[0m\n",
        "\u001b[1;31mIndexError\u001b[0m: indices are out-of-bounds"
       ]
      }
     ],
     "prompt_number": 282
    },
    {
     "cell_type": "markdown",
     "metadata": {},
     "source": [
      "##Part 2 - Develop a data set"
     ]
    },
    {
     "cell_type": "code",
     "collapsed": false,
     "input": [
      "# group bookings dataframe by prop_id and merge into listings\n",
      "# calculate booking_rate\n",
      "bookrate = bookings.groupby('prop_id').count()\n",
      "\n",
      "bookrate.rename(columns={'booking_date':'times_booked'}, inplace=True)\n",
      "bookrate.info()"
     ],
     "language": "python",
     "metadata": {},
     "outputs": [
      {
       "output_type": "stream",
       "stream": "stdout",
       "text": [
        "<class 'pandas.core.frame.DataFrame'>\n",
        "Int64Index: 328 entries, 1 to 408\n",
        "Data columns (total 1 columns):\n",
        "times_booked    328 non-null int64\n",
        "dtypes: int64(1)"
       ]
      }
     ],
     "prompt_number": 50
    },
    {
     "cell_type": "code",
     "collapsed": false,
     "input": [
      "bookrate.head(5)"
     ],
     "language": "python",
     "metadata": {},
     "outputs": [
      {
       "html": [
        "<div style=\"max-height:1000px;max-width:1500px;overflow:auto;\">\n",
        "<table border=\"1\" class=\"dataframe\">\n",
        "  <thead>\n",
        "    <tr style=\"text-align: right;\">\n",
        "      <th></th>\n",
        "      <th>times_booked</th>\n",
        "    </tr>\n",
        "    <tr>\n",
        "      <th>prop_id</th>\n",
        "      <th></th>\n",
        "    </tr>\n",
        "  </thead>\n",
        "  <tbody>\n",
        "    <tr>\n",
        "      <th>1</th>\n",
        "      <td>  4</td>\n",
        "    </tr>\n",
        "    <tr>\n",
        "      <th>3</th>\n",
        "      <td>  1</td>\n",
        "    </tr>\n",
        "    <tr>\n",
        "      <th>4</th>\n",
        "      <td> 27</td>\n",
        "    </tr>\n",
        "    <tr>\n",
        "      <th>6</th>\n",
        "      <td> 88</td>\n",
        "    </tr>\n",
        "    <tr>\n",
        "      <th>7</th>\n",
        "      <td>  2</td>\n",
        "    </tr>\n",
        "  </tbody>\n",
        "</table>\n",
        "</div>"
       ],
       "metadata": {},
       "output_type": "pyout",
       "prompt_number": 46,
       "text": [
        "         times_booked\n",
        "prop_id              \n",
        "1                   4\n",
        "3                   1\n",
        "4                  27\n",
        "6                  88\n",
        "7                   2"
       ]
      }
     ],
     "prompt_number": 46
    },
    {
     "cell_type": "code",
     "collapsed": false,
     "input": [
      "bookrate.info()"
     ],
     "language": "python",
     "metadata": {},
     "outputs": [
      {
       "output_type": "stream",
       "stream": "stdout",
       "text": [
        "<class 'pandas.core.frame.DataFrame'>\n",
        "Int64Index: 328 entries, 1 to 408\n",
        "Data columns (total 1 columns):\n",
        "times_booked    328 non-null int64\n",
        "dtypes: int64(1)"
       ]
      }
     ],
     "prompt_number": 62
    },
    {
     "cell_type": "code",
     "collapsed": false,
     "input": [
      "bookrate.reset_index(inplace=True)"
     ],
     "language": "python",
     "metadata": {},
     "outputs": [],
     "prompt_number": 63
    },
    {
     "cell_type": "markdown",
     "metadata": {},
     "source": [
      "###Add the columns `number_of_bookings` and `booking_rate` (number_of_bookings/tenure_months) to your `listings` data frame"
     ]
    },
    {
     "cell_type": "code",
     "collapsed": false,
     "input": [
      "listinginfo = listings.merge(bookrate, on='prop_id', how='left')"
     ],
     "language": "python",
     "metadata": {},
     "outputs": [],
     "prompt_number": 66
    },
    {
     "cell_type": "code",
     "collapsed": false,
     "input": [
      "listinginfo['booking_rate'] = (listinginfo.times_booked / listinginfo.tenure_months)"
     ],
     "language": "python",
     "metadata": {},
     "outputs": [],
     "prompt_number": 74
    },
    {
     "cell_type": "code",
     "collapsed": false,
     "input": [
      "listinginfo.info()"
     ],
     "language": "python",
     "metadata": {},
     "outputs": [
      {
       "output_type": "stream",
       "stream": "stdout",
       "text": [
        "<class 'pandas.core.frame.DataFrame'>\n",
        "Int64Index: 408 entries, 0 to 407\n",
        "Data columns (total 10 columns):\n",
        "prop_id               408 non-null int64\n",
        "prop_type             408 non-null object\n",
        "neighborhood          408 non-null object\n",
        "price                 408 non-null int64\n",
        "person_capacity       408 non-null int64\n",
        "picture_count         408 non-null int64\n",
        "description_length    408 non-null int64\n",
        "tenure_months         408 non-null int64\n",
        "times_booked          328 non-null float64\n",
        "booking_rate          328 non-null float64\n",
        "dtypes: float64(2), int64(6), object(2)"
       ]
      }
     ],
     "prompt_number": 75
    },
    {
     "cell_type": "markdown",
     "metadata": {},
     "source": [
      "###We only want to analyze well established properties, so let's filter out any properties that have a tenure less than 10 months "
     ]
    },
    {
     "cell_type": "code",
     "collapsed": false,
     "input": [
      "srlistings = listinginfo[listinginfo.tenure_months>=10]\n",
      "\n",
      "srlistings.info()"
     ],
     "language": "python",
     "metadata": {},
     "outputs": [
      {
       "output_type": "stream",
       "stream": "stdout",
       "text": [
        "<class 'pandas.core.frame.DataFrame'>\n",
        "Int64Index: 144 entries, 0 to 143\n",
        "Data columns (total 10 columns):\n",
        "prop_id               144 non-null int64\n",
        "prop_type             144 non-null object\n",
        "neighborhood          144 non-null object\n",
        "price                 144 non-null int64\n",
        "person_capacity       144 non-null int64\n",
        "picture_count         144 non-null int64\n",
        "description_length    144 non-null int64\n",
        "tenure_months         144 non-null int64\n",
        "times_booked          113 non-null float64\n",
        "booking_rate          113 non-null float64\n",
        "dtypes: float64(2), int64(6), object(2)"
       ]
      }
     ],
     "prompt_number": 224
    },
    {
     "cell_type": "markdown",
     "metadata": {},
     "source": [
      "###`prop_type` and `neighborhood` are categorical variables, use `get_dummies()` (http://pandas.pydata.org/pandas-docs/stable/generated/pandas.core.reshape.get_dummies.html) to transform this column of categorical data to many columns of boolean values (after applying this function correctly there should be 1 column for every prop_type and 1 column for every neighborhood category."
     ]
    },
    {
     "cell_type": "code",
     "collapsed": false,
     "input": [
      "srlistings.groupby('prop_type').prop_id.count()"
     ],
     "language": "python",
     "metadata": {},
     "outputs": [
      {
       "metadata": {},
       "output_type": "pyout",
       "prompt_number": 225,
       "text": [
        "prop_type\n",
        "Property type 1    98\n",
        "Property type 2    44\n",
        "Property type 3     2\n",
        "Name: prop_id, dtype: int64"
       ]
      }
     ],
     "prompt_number": 225
    },
    {
     "cell_type": "code",
     "collapsed": false,
     "input": [
      "# need to construct dummy variables in pandas 0.14.1\n",
      "prop_type_dummies = pd.get_dummies(srlistings.prop_type)\n",
      "\n",
      "neighborhood_dummies = pd.get_dummies(srlistings.neighborhood)\n",
      "\n",
      "srlistings = srlistings.merge(prop_type_dummies,left_index=True, right_index=True)\n",
      "srlistings = srlistings.merge(neighborhood_dummies, left_index=True, right_index=True)\n"
     ],
     "language": "python",
     "metadata": {},
     "outputs": [
      {
       "output_type": "stream",
       "stream": "stdout",
       "text": [
        "<class 'pandas.core.frame.DataFrame'>\n",
        "Int64Index: 144 entries, 0 to 143\n",
        "Data columns (total 29 columns):\n",
        "prop_id               144 non-null int64\n",
        "prop_type             144 non-null object\n",
        "neighborhood          144 non-null object\n",
        "price                 144 non-null int64\n",
        "person_capacity       144 non-null int64\n",
        "picture_count         144 non-null int64\n",
        "description_length    144 non-null int64\n",
        "tenure_months         144 non-null int64\n",
        "times_booked          113 non-null float64\n",
        "booking_rate          113 non-null float64\n",
        "Property type 1       144 non-null float64\n",
        "Property type 2       144 non-null float64\n",
        "Property type 3       144 non-null float64\n",
        "Neighborhood 11       144 non-null float64\n",
        "Neighborhood 12       144 non-null float64\n",
        "Neighborhood 13       144 non-null float64\n",
        "Neighborhood 14       144 non-null float64\n",
        "Neighborhood 15       144 non-null float64\n",
        "Neighborhood 16       144 non-null float64\n",
        "Neighborhood 17       144 non-null float64\n",
        "Neighborhood 18       144 non-null float64\n",
        "Neighborhood 19       144 non-null float64\n",
        "Neighborhood 20       144 non-null float64\n",
        "Neighborhood 21       144 non-null float64\n",
        "Neighborhood 4        144 non-null float64\n",
        "Neighborhood 5        144 non-null float64\n",
        "Neighborhood 7        144 non-null float64\n",
        "Neighborhood 8        144 non-null float64\n",
        "Neighborhood 9        144 non-null float64\n",
        "dtypes: float64(21), int64(6), object(2)"
       ]
      }
     ],
     "prompt_number": 226
    },
    {
     "cell_type": "code",
     "collapsed": false,
     "input": [
      "srlistings.drop(['prop_id','prop_type','neighborhood'], axis=1, inplace=True)"
     ],
     "language": "python",
     "metadata": {},
     "outputs": [],
     "prompt_number": 230
    },
    {
     "cell_type": "markdown",
     "metadata": {},
     "source": [
      "###create test and training sets for your regressors and predictors\n",
      "predictor (y) is `booking_rate`, regressors (X) are everything else, except `prop_id`,`booking_rate`,`prop_type`,`neighborhood` and `number_of_bookings`<br>\n",
      "http://scikit-learn.org/stable/modules/generated/sklearn.cross_validation.train_test_split.html<br>\n",
      "http://pandas.pydata.org/pandas-docs/stable/basics.html#dropping-labels-from-an-axis"
     ]
    },
    {
     "cell_type": "code",
     "collapsed": false,
     "input": [
      "from sklearn.cross_validation import train_test_split"
     ],
     "language": "python",
     "metadata": {},
     "outputs": [],
     "prompt_number": 158
    },
    {
     "cell_type": "code",
     "collapsed": false,
     "input": [
      "#modellistings = srlistings.ix[::,['price','person_capacity','picture_count','description_length','tenure_months']]\n",
      "\n",
      "modellistings = srlistings.drop(['times_booked','booking_rate'], axis=1)"
     ],
     "language": "python",
     "metadata": {},
     "outputs": [],
     "prompt_number": 233
    },
    {
     "cell_type": "code",
     "collapsed": false,
     "input": [
      "modellistings.info()"
     ],
     "language": "python",
     "metadata": {},
     "outputs": [
      {
       "output_type": "stream",
       "stream": "stdout",
       "text": [
        "<class 'pandas.core.frame.DataFrame'>\n",
        "Int64Index: 144 entries, 0 to 143\n",
        "Data columns (total 24 columns):\n",
        "price                 144 non-null int64\n",
        "person_capacity       144 non-null int64\n",
        "picture_count         144 non-null int64\n",
        "description_length    144 non-null int64\n",
        "tenure_months         144 non-null int64\n",
        "Property type 1       144 non-null float64\n",
        "Property type 2       144 non-null float64\n",
        "Property type 3       144 non-null float64\n",
        "Neighborhood 11       144 non-null float64\n",
        "Neighborhood 12       144 non-null float64\n",
        "Neighborhood 13       144 non-null float64\n",
        "Neighborhood 14       144 non-null float64\n",
        "Neighborhood 15       144 non-null float64\n",
        "Neighborhood 16       144 non-null float64\n",
        "Neighborhood 17       144 non-null float64\n",
        "Neighborhood 18       144 non-null float64\n",
        "Neighborhood 19       144 non-null float64\n",
        "Neighborhood 20       144 non-null float64\n",
        "Neighborhood 21       144 non-null float64\n",
        "Neighborhood 4        144 non-null float64\n",
        "Neighborhood 5        144 non-null float64\n",
        "Neighborhood 7        144 non-null float64\n",
        "Neighborhood 8        144 non-null float64\n",
        "Neighborhood 9        144 non-null float64\n",
        "dtypes: float64(19), int64(5)"
       ]
      }
     ],
     "prompt_number": 234
    },
    {
     "cell_type": "code",
     "collapsed": false,
     "input": [
      "X_train, X_test, y_train, y_test = train_test_split(modellistings,srlistings.booking_rate, test_size=.3)"
     ],
     "language": "python",
     "metadata": {},
     "outputs": [],
     "prompt_number": 235
    },
    {
     "cell_type": "code",
     "collapsed": false,
     "input": [
      "modellistings.sort_index(by='tenure_months')"
     ],
     "language": "python",
     "metadata": {},
     "outputs": [
      {
       "html": [
        "<div style=\"max-height:1000px;max-width:1500px;overflow:auto;\">\n",
        "<table border=\"1\" class=\"dataframe\">\n",
        "  <thead>\n",
        "    <tr style=\"text-align: right;\">\n",
        "      <th></th>\n",
        "      <th>price</th>\n",
        "      <th>person_capacity</th>\n",
        "      <th>picture_count</th>\n",
        "      <th>description_length</th>\n",
        "      <th>tenure_months</th>\n",
        "      <th>Property type 1</th>\n",
        "      <th>Property type 2</th>\n",
        "      <th>Property type 3</th>\n",
        "      <th>Neighborhood 11</th>\n",
        "      <th>Neighborhood 12</th>\n",
        "      <th>...</th>\n",
        "      <th>Neighborhood 17</th>\n",
        "      <th>Neighborhood 18</th>\n",
        "      <th>Neighborhood 19</th>\n",
        "      <th>Neighborhood 20</th>\n",
        "      <th>Neighborhood 21</th>\n",
        "      <th>Neighborhood 4</th>\n",
        "      <th>Neighborhood 5</th>\n",
        "      <th>Neighborhood 7</th>\n",
        "      <th>Neighborhood 8</th>\n",
        "      <th>Neighborhood 9</th>\n",
        "    </tr>\n",
        "  </thead>\n",
        "  <tbody>\n",
        "    <tr>\n",
        "      <th>143</th>\n",
        "      <td> 100</td>\n",
        "      <td> 2</td>\n",
        "      <td>  5</td>\n",
        "      <td>  35</td>\n",
        "      <td> 10</td>\n",
        "      <td> 0</td>\n",
        "      <td> 1</td>\n",
        "      <td> 0</td>\n",
        "      <td> 0</td>\n",
        "      <td> 0</td>\n",
        "      <td>...</td>\n",
        "      <td> 0</td>\n",
        "      <td> 0</td>\n",
        "      <td> 0</td>\n",
        "      <td> 0</td>\n",
        "      <td> 0</td>\n",
        "      <td> 0</td>\n",
        "      <td> 0</td>\n",
        "      <td> 0</td>\n",
        "      <td> 0</td>\n",
        "      <td> 0</td>\n",
        "    </tr>\n",
        "    <tr>\n",
        "      <th>120</th>\n",
        "      <td>  69</td>\n",
        "      <td> 3</td>\n",
        "      <td> 15</td>\n",
        "      <td> 418</td>\n",
        "      <td> 10</td>\n",
        "      <td> 0</td>\n",
        "      <td> 1</td>\n",
        "      <td> 0</td>\n",
        "      <td> 0</td>\n",
        "      <td> 0</td>\n",
        "      <td>...</td>\n",
        "      <td> 0</td>\n",
        "      <td> 0</td>\n",
        "      <td> 0</td>\n",
        "      <td> 0</td>\n",
        "      <td> 0</td>\n",
        "      <td> 0</td>\n",
        "      <td> 0</td>\n",
        "      <td> 0</td>\n",
        "      <td> 0</td>\n",
        "      <td> 0</td>\n",
        "    </tr>\n",
        "    <tr>\n",
        "      <th>121</th>\n",
        "      <td> 125</td>\n",
        "      <td> 2</td>\n",
        "      <td> 24</td>\n",
        "      <td> 756</td>\n",
        "      <td> 10</td>\n",
        "      <td> 1</td>\n",
        "      <td> 0</td>\n",
        "      <td> 0</td>\n",
        "      <td> 0</td>\n",
        "      <td> 0</td>\n",
        "      <td>...</td>\n",
        "      <td> 0</td>\n",
        "      <td> 1</td>\n",
        "      <td> 0</td>\n",
        "      <td> 0</td>\n",
        "      <td> 0</td>\n",
        "      <td> 0</td>\n",
        "      <td> 0</td>\n",
        "      <td> 0</td>\n",
        "      <td> 0</td>\n",
        "      <td> 0</td>\n",
        "    </tr>\n",
        "    <tr>\n",
        "      <th>122</th>\n",
        "      <td>  63</td>\n",
        "      <td> 1</td>\n",
        "      <td>  6</td>\n",
        "      <td> 575</td>\n",
        "      <td> 10</td>\n",
        "      <td> 0</td>\n",
        "      <td> 1</td>\n",
        "      <td> 0</td>\n",
        "      <td> 0</td>\n",
        "      <td> 0</td>\n",
        "      <td>...</td>\n",
        "      <td> 0</td>\n",
        "      <td> 0</td>\n",
        "      <td> 0</td>\n",
        "      <td> 0</td>\n",
        "      <td> 0</td>\n",
        "      <td> 0</td>\n",
        "      <td> 0</td>\n",
        "      <td> 0</td>\n",
        "      <td> 0</td>\n",
        "      <td> 0</td>\n",
        "    </tr>\n",
        "    <tr>\n",
        "      <th>123</th>\n",
        "      <td> 135</td>\n",
        "      <td> 2</td>\n",
        "      <td> 19</td>\n",
        "      <td> 538</td>\n",
        "      <td> 10</td>\n",
        "      <td> 1</td>\n",
        "      <td> 0</td>\n",
        "      <td> 0</td>\n",
        "      <td> 0</td>\n",
        "      <td> 1</td>\n",
        "      <td>...</td>\n",
        "      <td> 0</td>\n",
        "      <td> 0</td>\n",
        "      <td> 0</td>\n",
        "      <td> 0</td>\n",
        "      <td> 0</td>\n",
        "      <td> 0</td>\n",
        "      <td> 0</td>\n",
        "      <td> 0</td>\n",
        "      <td> 0</td>\n",
        "      <td> 0</td>\n",
        "    </tr>\n",
        "    <tr>\n",
        "      <th>...</th>\n",
        "      <td>...</td>\n",
        "      <td>...</td>\n",
        "      <td>...</td>\n",
        "      <td>...</td>\n",
        "      <td>...</td>\n",
        "      <td>...</td>\n",
        "      <td>...</td>\n",
        "      <td>...</td>\n",
        "      <td>...</td>\n",
        "      <td>...</td>\n",
        "      <td>...</td>\n",
        "      <td>...</td>\n",
        "      <td>...</td>\n",
        "      <td>...</td>\n",
        "      <td>...</td>\n",
        "      <td>...</td>\n",
        "      <td>...</td>\n",
        "      <td>...</td>\n",
        "      <td>...</td>\n",
        "      <td>...</td>\n",
        "      <td>...</td>\n",
        "    </tr>\n",
        "    <tr>\n",
        "      <th>4  </th>\n",
        "      <td> 125</td>\n",
        "      <td> 5</td>\n",
        "      <td> 21</td>\n",
        "      <td> 442</td>\n",
        "      <td> 28</td>\n",
        "      <td> 1</td>\n",
        "      <td> 0</td>\n",
        "      <td> 0</td>\n",
        "      <td> 0</td>\n",
        "      <td> 0</td>\n",
        "      <td>...</td>\n",
        "      <td> 0</td>\n",
        "      <td> 0</td>\n",
        "      <td> 0</td>\n",
        "      <td> 0</td>\n",
        "      <td> 0</td>\n",
        "      <td> 0</td>\n",
        "      <td> 0</td>\n",
        "      <td> 0</td>\n",
        "      <td> 0</td>\n",
        "      <td> 0</td>\n",
        "    </tr>\n",
        "    <tr>\n",
        "      <th>3  </th>\n",
        "      <td>  90</td>\n",
        "      <td> 2</td>\n",
        "      <td> 19</td>\n",
        "      <td> 472</td>\n",
        "      <td> 28</td>\n",
        "      <td> 0</td>\n",
        "      <td> 1</td>\n",
        "      <td> 0</td>\n",
        "      <td> 0</td>\n",
        "      <td> 0</td>\n",
        "      <td>...</td>\n",
        "      <td> 0</td>\n",
        "      <td> 0</td>\n",
        "      <td> 0</td>\n",
        "      <td> 0</td>\n",
        "      <td> 0</td>\n",
        "      <td> 0</td>\n",
        "      <td> 0</td>\n",
        "      <td> 0</td>\n",
        "      <td> 0</td>\n",
        "      <td> 0</td>\n",
        "    </tr>\n",
        "    <tr>\n",
        "      <th>2  </th>\n",
        "      <td>  95</td>\n",
        "      <td> 2</td>\n",
        "      <td> 16</td>\n",
        "      <td> 172</td>\n",
        "      <td> 29</td>\n",
        "      <td> 0</td>\n",
        "      <td> 1</td>\n",
        "      <td> 0</td>\n",
        "      <td> 0</td>\n",
        "      <td> 0</td>\n",
        "      <td>...</td>\n",
        "      <td> 0</td>\n",
        "      <td> 0</td>\n",
        "      <td> 0</td>\n",
        "      <td> 0</td>\n",
        "      <td> 0</td>\n",
        "      <td> 0</td>\n",
        "      <td> 0</td>\n",
        "      <td> 0</td>\n",
        "      <td> 0</td>\n",
        "      <td> 0</td>\n",
        "    </tr>\n",
        "    <tr>\n",
        "      <th>1  </th>\n",
        "      <td>  95</td>\n",
        "      <td> 2</td>\n",
        "      <td>  3</td>\n",
        "      <td>  37</td>\n",
        "      <td> 29</td>\n",
        "      <td> 1</td>\n",
        "      <td> 0</td>\n",
        "      <td> 0</td>\n",
        "      <td> 0</td>\n",
        "      <td> 0</td>\n",
        "      <td>...</td>\n",
        "      <td> 0</td>\n",
        "      <td> 0</td>\n",
        "      <td> 0</td>\n",
        "      <td> 0</td>\n",
        "      <td> 0</td>\n",
        "      <td> 0</td>\n",
        "      <td> 0</td>\n",
        "      <td> 0</td>\n",
        "      <td> 0</td>\n",
        "      <td> 0</td>\n",
        "    </tr>\n",
        "    <tr>\n",
        "      <th>0  </th>\n",
        "      <td> 140</td>\n",
        "      <td> 3</td>\n",
        "      <td> 11</td>\n",
        "      <td> 232</td>\n",
        "      <td> 30</td>\n",
        "      <td> 1</td>\n",
        "      <td> 0</td>\n",
        "      <td> 0</td>\n",
        "      <td> 0</td>\n",
        "      <td> 0</td>\n",
        "      <td>...</td>\n",
        "      <td> 0</td>\n",
        "      <td> 0</td>\n",
        "      <td> 0</td>\n",
        "      <td> 0</td>\n",
        "      <td> 0</td>\n",
        "      <td> 0</td>\n",
        "      <td> 0</td>\n",
        "      <td> 0</td>\n",
        "      <td> 0</td>\n",
        "      <td> 0</td>\n",
        "    </tr>\n",
        "  </tbody>\n",
        "</table>\n",
        "<p>144 rows \u00d7 24 columns</p>\n",
        "</div>"
       ],
       "metadata": {},
       "output_type": "pyout",
       "prompt_number": 236,
       "text": [
        "     price  person_capacity  picture_count  description_length  tenure_months  \\\n",
        "143    100                2              5                  35             10   \n",
        "120     69                3             15                 418             10   \n",
        "121    125                2             24                 756             10   \n",
        "122     63                1              6                 575             10   \n",
        "123    135                2             19                 538             10   \n",
        "..     ...              ...            ...                 ...            ...   \n",
        "4      125                5             21                 442             28   \n",
        "3       90                2             19                 472             28   \n",
        "2       95                2             16                 172             29   \n",
        "1       95                2              3                  37             29   \n",
        "0      140                3             11                 232             30   \n",
        "\n",
        "     Property type 1  Property type 2  Property type 3  Neighborhood 11  \\\n",
        "143                0                1                0                0   \n",
        "120                0                1                0                0   \n",
        "121                1                0                0                0   \n",
        "122                0                1                0                0   \n",
        "123                1                0                0                0   \n",
        "..               ...              ...              ...              ...   \n",
        "4                  1                0                0                0   \n",
        "3                  0                1                0                0   \n",
        "2                  0                1                0                0   \n",
        "1                  1                0                0                0   \n",
        "0                  1                0                0                0   \n",
        "\n",
        "     Neighborhood 12       ...         Neighborhood 17  Neighborhood 18  \\\n",
        "143                0       ...                       0                0   \n",
        "120                0       ...                       0                0   \n",
        "121                0       ...                       0                1   \n",
        "122                0       ...                       0                0   \n",
        "123                1       ...                       0                0   \n",
        "..               ...       ...                     ...              ...   \n",
        "4                  0       ...                       0                0   \n",
        "3                  0       ...                       0                0   \n",
        "2                  0       ...                       0                0   \n",
        "1                  0       ...                       0                0   \n",
        "0                  0       ...                       0                0   \n",
        "\n",
        "     Neighborhood 19  Neighborhood 20  Neighborhood 21  Neighborhood 4  \\\n",
        "143                0                0                0               0   \n",
        "120                0                0                0               0   \n",
        "121                0                0                0               0   \n",
        "122                0                0                0               0   \n",
        "123                0                0                0               0   \n",
        "..               ...              ...              ...             ...   \n",
        "4                  0                0                0               0   \n",
        "3                  0                0                0               0   \n",
        "2                  0                0                0               0   \n",
        "1                  0                0                0               0   \n",
        "0                  0                0                0               0   \n",
        "\n",
        "     Neighborhood 5  Neighborhood 7  Neighborhood 8  Neighborhood 9  \n",
        "143               0               0               0               0  \n",
        "120               0               0               0               0  \n",
        "121               0               0               0               0  \n",
        "122               0               0               0               0  \n",
        "123               0               0               0               0  \n",
        "..              ...             ...             ...             ...  \n",
        "4                 0               0               0               0  \n",
        "3                 0               0               0               0  \n",
        "2                 0               0               0               0  \n",
        "1                 0               0               0               0  \n",
        "0                 0               0               0               0  \n",
        "\n",
        "[144 rows x 24 columns]"
       ]
      }
     ],
     "prompt_number": 236
    },
    {
     "cell_type": "code",
     "collapsed": false,
     "input": [
      "y_train = np.nan_to_num(y_train)"
     ],
     "language": "python",
     "metadata": {},
     "outputs": [],
     "prompt_number": 237
    },
    {
     "cell_type": "markdown",
     "metadata": {},
     "source": [
      "##Part 3 - Model `booking_rate`"
     ]
    },
    {
     "cell_type": "markdown",
     "metadata": {},
     "source": [
      "###Create a linear regression model of your listings"
     ]
    },
    {
     "cell_type": "code",
     "collapsed": false,
     "input": [
      "from sklearn.linear_model import LinearRegression\n",
      "lr = LinearRegression()"
     ],
     "language": "python",
     "metadata": {},
     "outputs": [],
     "prompt_number": 238
    },
    {
     "cell_type": "code",
     "collapsed": false,
     "input": [
      "#import matplotlib.pylab as plt\n",
      "#from sklearn.preprocessing import PolynomialFeatures\n",
      "#from sklearn.pipeline import make_pipeline\n",
      "#from IPython.core.pylabtools import figsize\n",
      "#figsize(5,5)\n",
      "#plt.style.use('fivethirtyeight')"
     ],
     "language": "python",
     "metadata": {},
     "outputs": [],
     "prompt_number": 170
    },
    {
     "cell_type": "markdown",
     "metadata": {},
     "source": [
      "###fit your model with your test sets"
     ]
    },
    {
     "cell_type": "code",
     "collapsed": false,
     "input": [
      "lr.fit(X_train,y_train)\n",
      "\n",
      "print('Coefficients: \\n', lr.coef_)"
     ],
     "language": "python",
     "metadata": {},
     "outputs": [
      {
       "output_type": "stream",
       "stream": "stdout",
       "text": [
        "('Coefficients: \\n', array([ -5.15980915e-04,   1.57102967e-02,   2.04011171e-02,\n",
        "         1.53288879e-03,  -7.88203222e-02,  -9.02142932e-01,\n",
        "         3.00686525e-01,   6.01456408e-01,   3.54698057e-01,\n",
        "        -6.07957700e-01,   1.82638734e-01,   1.26453752e-02,\n",
        "         4.18162607e-01,  -4.43934253e-01,  -1.42811465e-01,\n",
        "         3.64039496e-01,   1.00859318e+00,  -2.77319193e-01,\n",
        "        -5.13646903e-01,  -6.74803004e-01,  -3.37308868e-01,\n",
        "        -5.87278460e-01,  -4.40710666e-01,   1.68499307e+00]))\n"
       ]
      }
     ],
     "prompt_number": 239
    },
    {
     "cell_type": "code",
     "collapsed": false,
     "input": [
      "modellistings.info()"
     ],
     "language": "python",
     "metadata": {},
     "outputs": [
      {
       "output_type": "stream",
       "stream": "stdout",
       "text": [
        "<class 'pandas.core.frame.DataFrame'>\n",
        "Int64Index: 144 entries, 0 to 143\n",
        "Data columns (total 24 columns):\n",
        "price                 144 non-null int64\n",
        "person_capacity       144 non-null int64\n",
        "picture_count         144 non-null int64\n",
        "description_length    144 non-null int64\n",
        "tenure_months         144 non-null int64\n",
        "Property type 1       144 non-null float64\n",
        "Property type 2       144 non-null float64\n",
        "Property type 3       144 non-null float64\n",
        "Neighborhood 11       144 non-null float64\n",
        "Neighborhood 12       144 non-null float64\n",
        "Neighborhood 13       144 non-null float64\n",
        "Neighborhood 14       144 non-null float64\n",
        "Neighborhood 15       144 non-null float64\n",
        "Neighborhood 16       144 non-null float64\n",
        "Neighborhood 17       144 non-null float64\n",
        "Neighborhood 18       144 non-null float64\n",
        "Neighborhood 19       144 non-null float64\n",
        "Neighborhood 20       144 non-null float64\n",
        "Neighborhood 21       144 non-null float64\n",
        "Neighborhood 4        144 non-null float64\n",
        "Neighborhood 5        144 non-null float64\n",
        "Neighborhood 7        144 non-null float64\n",
        "Neighborhood 8        144 non-null float64\n",
        "Neighborhood 9        144 non-null float64\n",
        "dtypes: float64(19), int64(5)"
       ]
      }
     ],
     "prompt_number": 243
    },
    {
     "cell_type": "code",
     "collapsed": false,
     "input": [
      "lr.predict(X_test)"
     ],
     "language": "python",
     "metadata": {},
     "outputs": [
      {
       "metadata": {},
       "output_type": "pyout",
       "prompt_number": 240,
       "text": [
        "array([-0.06599738,  2.32405604,  1.18787317, -0.23328787,  1.09711999,\n",
        "       -0.16546032,  0.73572247,  0.5511452 ,  1.46521969,  0.3648306 ,\n",
        "        0.78192198,  0.14247383,  1.18942348,  1.11047552,  2.10705106,\n",
        "        1.3818424 ,  2.29948621,  0.48172804,  2.77998107,  0.87298155,\n",
        "        1.20971872,  1.70067505,  0.7009982 , -0.37032488,  1.16190267,\n",
        "        0.6640804 ,  1.30046839,  0.11121503,  1.56715565,  3.38038782,\n",
        "        0.171327  ,  0.70128567,  0.32396861,  4.43545202,  2.02793682,\n",
        "        1.26352596,  1.6955839 ,  1.40814721, -0.04009127,  0.95441145,\n",
        "        1.97966647,  1.20869839,  1.8460597 ,  0.82481806])"
       ]
      }
     ],
     "prompt_number": 240
    },
    {
     "cell_type": "markdown",
     "metadata": {},
     "source": [
      "###report the score\n",
      "http://scikit-learn.org/stable/modules/generated/sklearn.linear_model.LinearRegression.html#sklearn.linear_model.LinearRegression.score"
     ]
    },
    {
     "cell_type": "code",
     "collapsed": false,
     "input": [
      "lr.score(X_train, y_train, sample_weight=None)"
     ],
     "language": "python",
     "metadata": {},
     "outputs": [
      {
       "metadata": {},
       "output_type": "pyout",
       "prompt_number": 241,
       "text": [
        "0.40364920996567188"
       ]
      }
     ],
     "prompt_number": 241
    },
    {
     "cell_type": "markdown",
     "metadata": {},
     "source": [
      "###Interpret the results of the above model:\n",
      "* What does the `score` method do?\n",
      "* What does this tell us about our model?"
     ]
    },
    {
     "cell_type": "markdown",
     "metadata": {},
     "source": [
      "Estimates the variation in booking rate explained by the regressors (less than 20%).\n",
      "\n",
      ". Other factors than price / size / pics / desc / tenure may be important (e.g. rating, responsiveness)\n",
      ". Some of the selected factors (e.g. tenure) may be unimportant and thus add noise to the model\n",
      ". Still need to add category, neighborhood dummies\n",
      ". "
     ]
    },
    {
     "cell_type": "markdown",
     "metadata": {},
     "source": [
      "##Optional - Iterate\n",
      "Create an alternative predictor (e.g. monthly revenue) and use the same modeling pattern in Part 3 to  "
     ]
    },
    {
     "cell_type": "code",
     "collapsed": false,
     "input": [
      "# Simplify the model: remove neighborhoods, tenure"
     ],
     "language": "python",
     "metadata": {},
     "outputs": []
    },
    {
     "cell_type": "code",
     "collapsed": false,
     "input": [
      "newmodellistings = modellistings.ix[::,['price','person_capacity','picture_count','description_length','Property type 1','Property type 2','Property type 3']]\n",
      "X_train, X_test, y_train, y_test = train_test_split(newmodellistings,srlistings.booking_rate, test_size=.3)"
     ],
     "language": "python",
     "metadata": {},
     "outputs": [],
     "prompt_number": 246
    },
    {
     "cell_type": "code",
     "collapsed": false,
     "input": [
      "y_train = np.nan_to_num(y_train)\n",
      "\n",
      "lr.fit(X_train,y_train)\n",
      "\n",
      "print('Coefficients: \\n', lr.coef_)"
     ],
     "language": "python",
     "metadata": {},
     "outputs": [
      {
       "output_type": "stream",
       "stream": "stdout",
       "text": [
        "('Coefficients: \\n', array([-0.00087834,  0.00581314,  0.02427057,  0.00131916, -0.4251979 ,\n",
        "        0.66151885, -0.23632095]))\n"
       ]
      }
     ],
     "prompt_number": 248
    },
    {
     "cell_type": "code",
     "collapsed": false,
     "input": [
      "lr.score(X_train, y_train, sample_weight=None)"
     ],
     "language": "python",
     "metadata": {},
     "outputs": [
      {
       "metadata": {},
       "output_type": "pyout",
       "prompt_number": 249,
       "text": [
        "0.23673363337564579"
       ]
      }
     ],
     "prompt_number": 249
    },
    {
     "cell_type": "code",
     "collapsed": false,
     "input": [
      "# Maybe use a lasso or something to constrain the list of terms? With only 144 data points, 24 columns seems excessive\n"
     ],
     "language": "python",
     "metadata": {},
     "outputs": []
    }
   ],
   "metadata": {}
  }
 ]
}