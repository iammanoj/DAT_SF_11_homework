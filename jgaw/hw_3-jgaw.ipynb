{
 "metadata": {
  "name": "",
  "signature": "sha256:e9a92f037ca85c6416653b82623c26b5c79eb5baca4a672e0149e3838d3736fc"
 },
 "nbformat": 3,
 "nbformat_minor": 0,
 "worksheets": [
  {
   "cells": [
    {
     "cell_type": "markdown",
     "metadata": {},
     "source": [
      "#HW 3: KNN & Random Forest\n",
      "Get your data [here](https://archive.ics.uci.edu/ml/datasets/Bank+Marketing). The data is related with direct marketing campaigns of a Portuguese banking institution. The marketing campaigns were based on phone calls. Often, more than one contact to the same client was required, in order to access if the product (bank term deposit) would be ('yes') or not ('no') subscribed. There are four datasets:\n",
      "\n",
      "1) bank-additional-full.csv with all examples (41188) and 20 inputs, ordered by date (from May 2008 to November 2010)\n",
      "\n",
      "2) bank-additional.csv with 10% of the examples (4119), randomly selected from 1), and 20 inputs.\n",
      "\n",
      "3) bank-full.csv with all examples and 17 inputs, ordered by date (older version of this dataset with less inputs). \n",
      "\n",
      "4) bank.csv with 10% of the examples and 17 inputs, randomly selected from 3 (older version of this dataset with less inputs). \n",
      "\n",
      "The smallest datasets are provided to test more computationally demanding machine \n",
      "learning algorithms (e.g., SVM). \n",
      "\n",
      "The classification goal is to predict if the client will subscribe (yes/no) a term deposit (variable y)."
     ]
    },
    {
     "cell_type": "markdown",
     "metadata": {},
     "source": [
      "##Assignment\n",
      "* Preprocess your data (you may find `LabelEncoder` useful)\n",
      "* Train both KNN and Random Forest models\n",
      "* Find the best parameters by computing their learning curve (feel free to verify this with grid search)\n",
      "* Create a clasification report\n",
      "* Inspect your models, what features are most important? How might you use this information to improve model precision?\n"
     ]
    },
    {
     "cell_type": "code",
     "collapsed": false,
     "input": [
      "import pandas as pd\n",
      "import numpy as np\n",
      "import matplotlib.pyplot as plt\n",
      "from sklearn.ensemble import RandomForestClassifier \n",
      "from sklearn.neighbors import KNeighborsClassifier \n",
      "from sklearn import preprocessing\n",
      "from sklearn import metrics\n",
      "from sklearn.cross_validation import train_test_split\n",
      "from sklearn.metrics import confusion_matrix, classification_report, mean_squared_error\n",
      "from sklearn.grid_search import GridSearchCV\n",
      "from sklearn.neighbors import DistanceMetric\n",
      "\n",
      "\n",
      "\n",
      "%matplotlib inline"
     ],
     "language": "python",
     "metadata": {},
     "outputs": [],
     "prompt_number": 1
    },
    {
     "cell_type": "code",
     "collapsed": false,
     "input": [
      "!pwd"
     ],
     "language": "python",
     "metadata": {},
     "outputs": [
      {
       "output_type": "stream",
       "stream": "stdout",
       "text": [
        "/Users/sampathweb/ga/DAT_SF_11_homework/jgaw\r\n"
       ]
      }
     ],
     "prompt_number": 2
    },
    {
     "cell_type": "code",
     "collapsed": false,
     "input": [
      "bank_df = pd.read_csv('../DATA/bank-additional/bank-additional-full.csv', sep = ';')"
     ],
     "language": "python",
     "metadata": {},
     "outputs": [],
     "prompt_number": 4
    },
    {
     "cell_type": "code",
     "collapsed": false,
     "input": [
      "bank_df.info()"
     ],
     "language": "python",
     "metadata": {},
     "outputs": [
      {
       "output_type": "stream",
       "stream": "stdout",
       "text": [
        "<class 'pandas.core.frame.DataFrame'>\n",
        "Int64Index: 41188 entries, 0 to 41187\n",
        "Data columns (total 21 columns):\n",
        "age               41188 non-null int64\n",
        "job               41188 non-null object\n",
        "marital           41188 non-null object\n",
        "education         41188 non-null object\n",
        "default           41188 non-null object\n",
        "housing           41188 non-null object\n",
        "loan              41188 non-null object\n",
        "contact           41188 non-null object\n",
        "month             41188 non-null object\n",
        "day_of_week       41188 non-null object\n",
        "duration          41188 non-null int64\n",
        "campaign          41188 non-null int64\n",
        "pdays             41188 non-null int64\n",
        "previous          41188 non-null int64\n",
        "poutcome          41188 non-null object\n",
        "emp.var.rate      41188 non-null float64\n",
        "cons.price.idx    41188 non-null float64\n",
        "cons.conf.idx     41188 non-null float64\n",
        "euribor3m         41188 non-null float64\n",
        "nr.employed       41188 non-null float64\n",
        "y                 41188 non-null object\n",
        "dtypes: float64(5), int64(5), object(11)\n",
        "memory usage: 6.9+ MB\n"
       ]
      }
     ],
     "prompt_number": 5
    },
    {
     "cell_type": "code",
     "collapsed": false,
     "input": [
      "bank_data = pd.DataFrame()\n",
      "label_encoders = {}\n",
      "\n",
      "for col in bank_df.columns:\n",
      "    if bank_df[col].dtype == 'object':\n",
      "        label_encoders[col] = preprocessing.LabelEncoder()\n",
      "        bank_data[col] = label_encoders[col].fit_transform(bank_df[col])\n",
      "    else:\n",
      "        bank_data[col] = bank_df[col]\n"
     ],
     "language": "python",
     "metadata": {},
     "outputs": [],
     "prompt_number": 6
    },
    {
     "cell_type": "code",
     "collapsed": false,
     "input": [
      "label_encoders"
     ],
     "language": "python",
     "metadata": {},
     "outputs": [
      {
       "metadata": {},
       "output_type": "pyout",
       "prompt_number": 7,
       "text": [
        "{'contact': LabelEncoder(),\n",
        " 'day_of_week': LabelEncoder(),\n",
        " 'default': LabelEncoder(),\n",
        " 'education': LabelEncoder(),\n",
        " 'housing': LabelEncoder(),\n",
        " 'job': LabelEncoder(),\n",
        " 'loan': LabelEncoder(),\n",
        " 'marital': LabelEncoder(),\n",
        " 'month': LabelEncoder(),\n",
        " 'poutcome': LabelEncoder(),\n",
        " 'y': LabelEncoder()}"
       ]
      }
     ],
     "prompt_number": 7
    },
    {
     "cell_type": "code",
     "collapsed": false,
     "input": [
      "xcols = [col for col in bank_data.columns if col != 'y']\n",
      "\n",
      "X = bank_data[xcols].values\n",
      "y = bank_data['y'].values\n",
      "\n",
      "X_train, X_test, y_train, y_test = train_test_split(X, y, test_size = 0.2, random_state=99)"
     ],
     "language": "python",
     "metadata": {},
     "outputs": [],
     "prompt_number": 8
    },
    {
     "cell_type": "code",
     "collapsed": false,
     "input": [],
     "language": "python",
     "metadata": {},
     "outputs": [],
     "prompt_number": 8
    },
    {
     "cell_type": "code",
     "collapsed": false,
     "input": [
      "%%time\n",
      "\n",
      "param_grid = {'n_neighbors':[6], \n",
      "              'algorithm' : ['auto'], \n",
      "              'p': [2], \n",
      "              'leaf_size':[1],\n",
      "              'metric': ['euclidean']\n",
      "              }\n",
      "clf = GridSearchCV(KNeighborsClassifier(), param_grid = param_grid )\n",
      "clf.fit(X_train, y_train)\n",
      "y_pred = clf.predict(X_test)\n",
      "\n",
      "\n"
     ],
     "language": "python",
     "metadata": {},
     "outputs": [
      {
       "output_type": "stream",
       "stream": "stdout",
       "text": [
        "CPU times: user 8.55 s, sys: 28.5 ms, total: 8.58 s\n",
        "Wall time: 8.58 s\n"
       ]
      }
     ],
     "prompt_number": 9
    },
    {
     "cell_type": "code",
     "collapsed": false,
     "input": [
      "print 'Best Params: ', clf.best_params_\n",
      "print 'Score: ', clf.score(X_test, y_test)\n",
      "print\n",
      "print 'Classification Report: '\n",
      "print classification_report(y_test, y_pred)"
     ],
     "language": "python",
     "metadata": {},
     "outputs": [
      {
       "output_type": "stream",
       "stream": "stdout",
       "text": [
        "Best Params:  {'n_neighbors': 6, 'metric': 'euclidean', 'leaf_size': 1, 'algorithm': 'auto', 'p': 2}\n",
        "Score:  "
       ]
      },
      {
       "output_type": "stream",
       "stream": "stdout",
       "text": [
        "0.905074047099\n",
        "\n",
        "Classification Report: \n",
        "             precision    recall  f1-score   support\n",
        "\n",
        "          0       0.92      0.97      0.95      7303\n",
        "          1       0.64      0.38      0.48       935\n",
        "\n",
        "avg / total       0.89      0.91      0.89      8238\n",
        "\n"
       ]
      }
     ],
     "prompt_number": 10
    },
    {
     "cell_type": "code",
     "collapsed": false,
     "input": [
      "cm = confusion_matrix(y_test, y_pred)\n",
      "\n",
      "print(cm)\n",
      "\n",
      "# Show confusion matrix in a separate window\n",
      "plt.matshow(cm)\n",
      "plt.title('Confusion matrix')\n",
      "plt.colorbar()\n",
      "plt.ylabel('True label')\n",
      "plt.xlabel('Predicted label')\n",
      "plt.show()\n",
      "\n",
      "\n",
      "#[[7103  216]\n",
      "# [ 553  366]]"
     ],
     "language": "python",
     "metadata": {},
     "outputs": [
      {
       "output_type": "stream",
       "stream": "stdout",
       "text": [
        "[[7097  206]\n",
        " [ 576  359]]\n"
       ]
      },
      {
       "metadata": {},
       "output_type": "display_data",
       "png": "[encoded data removed]",
       "text": [
        "<matplotlib.figure.Figure at 0x108e30dd0>"
       ]
      }
     ],
     "prompt_number": 11
    },
    {
     "cell_type": "code",
     "collapsed": false,
     "input": [
      "def plot_learning_curve(X_train, y_train, X_test, y_test, n_est=5):\n",
      "    errors_train = []\n",
      "    errors_test = []\n",
      "    for i in range(n_est):\n",
      "        est = RandomForestClassifier(n_jobs = -1,n_estimators = i+1)\n",
      "        est.fit(X_train, y_train)\n",
      "        y_pred = est.predict(X_test)\n",
      "        errors_train.append(mean_squared_error(est.predict(X_train), y_train)) \n",
      "        errors_test.append(mean_squared_error(y_pred,y_test))\n",
      "    fig, ax = plt.subplots(figsize=(15,10))\n",
      "    ax.plot(range(n_est), errors_train, 'o-', color=\"g\", label='mse_train')\n",
      "    ax.plot(range(n_est), errors_test, 'o-', color=\"r\", label='mse_test')\n",
      "    ax.set_xlabel('n_estimators')\n",
      "    ax.set_ylabel('error')\n",
      "    ax.legend(loc=0)\n",
      "    ax.set_title('Learning Curve of N Estimators')\n",
      "    \n",
      "    print 'Score: ' ,est.score(X_test, y_test)\n",
      "    print 'Confusion Matrix: '\n",
      "    print confusion_matrix(y_pred, y_test)\n",
      "    print\n",
      "    print classification_report(y_pred, y_test)\n",
      "    print \n",
      "    print sorted(zip(est.feature_importances_, bank_df.columns),reverse=True)[:10]\n",
      "\n",
      "\n"
     ],
     "language": "python",
     "metadata": {},
     "outputs": [],
     "prompt_number": 12
    },
    {
     "cell_type": "code",
     "collapsed": false,
     "input": [
      "plot_learning_curve(X_train, y_train, X_test, y_test, n_est = 50)"
     ],
     "language": "python",
     "metadata": {},
     "outputs": [
      {
       "output_type": "stream",
       "stream": "stdout",
       "text": [
        "Score:  "
       ]
      },
      {
       "output_type": "stream",
       "stream": "stdout",
       "text": [
        "0.913692643846\n",
        "Confusion Matrix: \n",
        "[[7044  452]\n",
        " [ 259  483]]\n",
        "\n",
        "             precision    recall  f1-score   support\n",
        "\n",
        "          0       0.96      0.94      0.95      7496\n",
        "          1       0.52      0.65      0.58       742\n",
        "\n",
        "avg / total       0.92      0.91      0.92      8238\n",
        "\n",
        "\n",
        "[(0.31385481631095186, 'duration'), (0.1090622725566975, 'euribor3m'), (0.093519825829489769, 'age'), (0.06438357075098522, 'nr.employed'), (0.048099527941428022, 'job'), (0.043019627313560634, 'education'), (0.04266307931767975, 'campaign'), (0.040940208068242633, 'day_of_week'), (0.039562418338822541, 'pdays'), (0.028714623318760232, 'cons.conf.idx')]\n"
       ]
      },
      {
       "metadata": {},
       "output_type": "display_data",
       "png": "[encoded data removed]",
       "text": [
        "<matplotlib.figure.Figure at 0x1092eb510>"
       ]
      }
     ],
     "prompt_number": 13
    },
    {
     "cell_type": "code",
     "collapsed": false,
     "input": [],
     "language": "python",
     "metadata": {},
     "outputs": [],
     "prompt_number": 13
    },
    {
     "cell_type": "code",
     "collapsed": false,
     "input": [],
     "language": "python",
     "metadata": {},
     "outputs": []
    }
   ],
   "metadata": {}
  }
 ]
}