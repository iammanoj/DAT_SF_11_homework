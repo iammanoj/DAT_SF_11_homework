{
 "metadata": {
  "name": "",
  "signature": "sha256:815b875d60282ef2bc78805ae58d4a72f41bed0bbcbe46d4893d55524fe41c15"
 },
 "nbformat": 3,
 "nbformat_minor": 0,
 "worksheets": [
  {
   "cells": [
    {
     "cell_type": "markdown",
     "metadata": {},
     "source": [
      "#Homework 1 - Data Analysis and Regression\n",
      "In this assignment your challenge is to do some basic analysis for Airbnb. Provided in hw/data/ there are 2 data files, <a href=../data/bookings.csv>bookings.csv</a> and <a href=../data/listings.csv>listings.csv</a>. The objective is to practice data munging and begin our exploration of regression."
     ]
    },
    {
     "cell_type": "code",
     "collapsed": false,
     "input": [
      "import pandas as pd\n",
      "import numpy as np\n",
      "import seaborn as sns\n",
      "import matplotlib.pyplot as plt\n",
      "\n",
      "# This enables inline Plots\n",
      "%matplotlib inline\n",
      "\n",
      "pd.set_option('display.max_rows', 10)"
     ],
     "language": "python",
     "metadata": {},
     "outputs": [],
     "prompt_number": 229
    },
    {
     "cell_type": "markdown",
     "metadata": {},
     "source": [
      "##Part 1 - Data exploration\n",
      "###First, create 2 data frames: `listings` and `bookings` from their respective data files"
     ]
    },
    {
     "cell_type": "code",
     "collapsed": false,
     "input": [
      "bookings = pd.read_csv('../data/bookings.csv', parse_dates = ['booking_date'])\n",
      "listings = pd.read_csv('../data/listings.csv')"
     ],
     "language": "python",
     "metadata": {},
     "outputs": [],
     "prompt_number": 230
    },
    {
     "cell_type": "code",
     "collapsed": false,
     "input": [
      "print bookings"
     ],
     "language": "python",
     "metadata": {},
     "outputs": [
      {
       "output_type": "stream",
       "stream": "stdout",
       "text": [
        "      prop_id booking_date\n",
        "0           9   2011-06-17\n",
        "1          13   2011-08-12\n",
        "2          21   2011-06-20\n",
        "3          28   2011-05-05\n",
        "4          29   2011-11-17\n",
        "...       ...          ...\n",
        "6071      408   2011-06-02\n",
        "6072      408   2011-08-22\n",
        "6073      408   2011-07-24\n",
        "6074      408   2011-01-12\n",
        "6075      408   2011-09-08\n",
        "\n",
        "[6076 rows x 2 columns]\n"
       ]
      }
     ],
     "prompt_number": 231
    },
    {
     "cell_type": "code",
     "collapsed": false,
     "input": [
      "print listings"
     ],
     "language": "python",
     "metadata": {},
     "outputs": [
      {
       "output_type": "stream",
       "stream": "stdout",
       "text": [
        "     prop_id        prop_type     neighborhood  price  person_capacity  \\\n",
        "0          1  Property type 1  Neighborhood 14    140                3   \n",
        "1          2  Property type 1  Neighborhood 14     95                2   \n",
        "2          3  Property type 2  Neighborhood 16     95                2   \n",
        "3          4  Property type 2  Neighborhood 13     90                2   \n",
        "4          5  Property type 1  Neighborhood 15    125                5   \n",
        "..       ...              ...              ...    ...              ...   \n",
        "403      404  Property type 2  Neighborhood 14    100                1   \n",
        "404      405  Property type 2  Neighborhood 13     85                2   \n",
        "405      406  Property type 1   Neighborhood 9     70                3   \n",
        "406      407  Property type 1  Neighborhood 13    129                2   \n",
        "407      408  Property type 1  Neighborhood 14    100                3   \n",
        "\n",
        "     picture_count  description_length  tenure_months  \n",
        "0               11                 232             30  \n",
        "1                3                  37             29  \n",
        "2               16                 172             29  \n",
        "3               19                 472             28  \n",
        "4               21                 442             28  \n",
        "..             ...                 ...            ...  \n",
        "403              8                 235              1  \n",
        "404             27                1048              1  \n",
        "405             18                 153              1  \n",
        "406             13                 370              1  \n",
        "407             21                 707              1  \n",
        "\n",
        "[408 rows x 8 columns]\n"
       ]
      }
     ],
     "prompt_number": 232
    },
    {
     "cell_type": "markdown",
     "metadata": {},
     "source": [
      "###What is the mean, median and standard deviation of price, person capacity, picture count, description length and tenure of the properties?"
     ]
    },
    {
     "cell_type": "code",
     "collapsed": false,
     "input": [
      "bookings.info()"
     ],
     "language": "python",
     "metadata": {},
     "outputs": [
      {
       "output_type": "stream",
       "stream": "stdout",
       "text": [
        "<class 'pandas.core.frame.DataFrame'>\n",
        "Int64Index: 6076 entries, 0 to 6075\n",
        "Data columns (total 2 columns):\n",
        "prop_id         6076 non-null int64\n",
        "booking_date    6076 non-null datetime64[ns]\n",
        "dtypes: datetime64[ns](1), int64(1)"
       ]
      }
     ],
     "prompt_number": 233
    },
    {
     "cell_type": "code",
     "collapsed": false,
     "input": [
      "listings.info()"
     ],
     "language": "python",
     "metadata": {},
     "outputs": [
      {
       "output_type": "stream",
       "stream": "stdout",
       "text": [
        "<class 'pandas.core.frame.DataFrame'>\n",
        "Int64Index: 408 entries, 0 to 407\n",
        "Data columns (total 8 columns):\n",
        "prop_id               408 non-null int64\n",
        "prop_type             408 non-null object\n",
        "neighborhood          408 non-null object\n",
        "price                 408 non-null int64\n",
        "person_capacity       408 non-null int64\n",
        "picture_count         408 non-null int64\n",
        "description_length    408 non-null int64\n",
        "tenure_months         408 non-null int64\n",
        "dtypes: int64(6), object(2)"
       ]
      }
     ],
     "prompt_number": 234
    },
    {
     "cell_type": "code",
     "collapsed": false,
     "input": [
      "bookings.columns"
     ],
     "language": "python",
     "metadata": {},
     "outputs": [
      {
       "metadata": {},
       "output_type": "pyout",
       "prompt_number": 235,
       "text": [
        "Index([u'prop_id', u'booking_date'], dtype='object')"
       ]
      }
     ],
     "prompt_number": 235
    },
    {
     "cell_type": "code",
     "collapsed": false,
     "input": [
      "listings.columns"
     ],
     "language": "python",
     "metadata": {},
     "outputs": [
      {
       "metadata": {},
       "output_type": "pyout",
       "prompt_number": 236,
       "text": [
        "Index([u'prop_id', u'prop_type', u'neighborhood', u'price', u'person_capacity', u'picture_count', u'description_length', u'tenure_months'], dtype='object')"
       ]
      }
     ],
     "prompt_number": 236
    },
    {
     "cell_type": "code",
     "collapsed": false,
     "input": [
      "# for col in ['neighborhood']:\n",
      "#    listings[col] = listings[col].map(lambda x: x.replace('Neighborhood ', '')).astype(int)\n",
      "#for col in ['prop_type']:\n",
      "#    listings[col] = listings[col].map(lambda x: x.replace('Property type ', '')).astype(int)\n",
      "\n",
      "#print listings"
     ],
     "language": "python",
     "metadata": {},
     "outputs": [],
     "prompt_number": 237
    },
    {
     "cell_type": "code",
     "collapsed": false,
     "input": [
      "listings.info()"
     ],
     "language": "python",
     "metadata": {},
     "outputs": [
      {
       "output_type": "stream",
       "stream": "stdout",
       "text": [
        "<class 'pandas.core.frame.DataFrame'>\n",
        "Int64Index: 408 entries, 0 to 407\n",
        "Data columns (total 8 columns):\n",
        "prop_id               408 non-null int64\n",
        "prop_type             408 non-null object\n",
        "neighborhood          408 non-null object\n",
        "price                 408 non-null int64\n",
        "person_capacity       408 non-null int64\n",
        "picture_count         408 non-null int64\n",
        "description_length    408 non-null int64\n",
        "tenure_months         408 non-null int64\n",
        "dtypes: int64(6), object(2)"
       ]
      }
     ],
     "prompt_number": 238
    },
    {
     "cell_type": "code",
     "collapsed": false,
     "input": [
      "listings.price.std()"
     ],
     "language": "python",
     "metadata": {},
     "outputs": [
      {
       "metadata": {},
       "output_type": "pyout",
       "prompt_number": 239,
       "text": [
        "353.05085803923384"
       ]
      }
     ],
     "prompt_number": 239
    },
    {
     "cell_type": "code",
     "collapsed": false,
     "input": [
      "# listings.groupby('prop_id').price.mean()"
     ],
     "language": "python",
     "metadata": {},
     "outputs": [],
     "prompt_number": 240
    },
    {
     "cell_type": "code",
     "collapsed": false,
     "input": [
      "listings[['price', 'person_capacity', 'picture_count', 'description_length']].describe()"
     ],
     "language": "python",
     "metadata": {},
     "outputs": [
      {
       "html": [
        "<div style=\"max-height:1000px;max-width:1500px;overflow:auto;\">\n",
        "<table border=\"1\" class=\"dataframe\">\n",
        "  <thead>\n",
        "    <tr style=\"text-align: right;\">\n",
        "      <th></th>\n",
        "      <th>price</th>\n",
        "      <th>person_capacity</th>\n",
        "      <th>picture_count</th>\n",
        "      <th>description_length</th>\n",
        "    </tr>\n",
        "  </thead>\n",
        "  <tbody>\n",
        "    <tr>\n",
        "      <th>count</th>\n",
        "      <td>  408.000000</td>\n",
        "      <td> 408.000000</td>\n",
        "      <td> 408.000000</td>\n",
        "      <td>  408.000000</td>\n",
        "    </tr>\n",
        "    <tr>\n",
        "      <th>mean</th>\n",
        "      <td>  187.806373</td>\n",
        "      <td>   2.997549</td>\n",
        "      <td>  14.389706</td>\n",
        "      <td>  309.159314</td>\n",
        "    </tr>\n",
        "    <tr>\n",
        "      <th>std</th>\n",
        "      <td>  353.050858</td>\n",
        "      <td>   1.594676</td>\n",
        "      <td>  10.477428</td>\n",
        "      <td>  228.021684</td>\n",
        "    </tr>\n",
        "    <tr>\n",
        "      <th>min</th>\n",
        "      <td>   39.000000</td>\n",
        "      <td>   1.000000</td>\n",
        "      <td>   1.000000</td>\n",
        "      <td>    0.000000</td>\n",
        "    </tr>\n",
        "    <tr>\n",
        "      <th>25%</th>\n",
        "      <td>   90.000000</td>\n",
        "      <td>   2.000000</td>\n",
        "      <td>   6.000000</td>\n",
        "      <td>  179.000000</td>\n",
        "    </tr>\n",
        "    <tr>\n",
        "      <th>50%</th>\n",
        "      <td>  125.000000</td>\n",
        "      <td>   2.000000</td>\n",
        "      <td>  12.000000</td>\n",
        "      <td>  250.000000</td>\n",
        "    </tr>\n",
        "    <tr>\n",
        "      <th>75%</th>\n",
        "      <td>  199.000000</td>\n",
        "      <td>   4.000000</td>\n",
        "      <td>  20.000000</td>\n",
        "      <td>  389.500000</td>\n",
        "    </tr>\n",
        "    <tr>\n",
        "      <th>max</th>\n",
        "      <td> 5000.000000</td>\n",
        "      <td>  10.000000</td>\n",
        "      <td>  71.000000</td>\n",
        "      <td> 1969.000000</td>\n",
        "    </tr>\n",
        "  </tbody>\n",
        "</table>\n",
        "</div>"
       ],
       "metadata": {},
       "output_type": "pyout",
       "prompt_number": 241,
       "text": [
        "             price  person_capacity  picture_count  description_length\n",
        "count   408.000000       408.000000     408.000000          408.000000\n",
        "mean    187.806373         2.997549      14.389706          309.159314\n",
        "std     353.050858         1.594676      10.477428          228.021684\n",
        "min      39.000000         1.000000       1.000000            0.000000\n",
        "25%      90.000000         2.000000       6.000000          179.000000\n",
        "50%     125.000000         2.000000      12.000000          250.000000\n",
        "75%     199.000000         4.000000      20.000000          389.500000\n",
        "max    5000.000000        10.000000      71.000000         1969.000000"
       ]
      }
     ],
     "prompt_number": 241
    },
    {
     "cell_type": "code",
     "collapsed": false,
     "input": [
      "fig, ax = plt.subplots(1,2)\n",
      "listings.boxplot('price', ax=ax[0])\n",
      "listings.price.plot(ax=ax[1])\n",
      "\n",
      "ax[0].set_ylim([0, 500])\n",
      "listings[listings.price > 1000]"
     ],
     "language": "python",
     "metadata": {},
     "outputs": [
      {
       "html": [
        "<div style=\"max-height:1000px;max-width:1500px;overflow:auto;\">\n",
        "<table border=\"1\" class=\"dataframe\">\n",
        "  <thead>\n",
        "    <tr style=\"text-align: right;\">\n",
        "      <th></th>\n",
        "      <th>prop_id</th>\n",
        "      <th>prop_type</th>\n",
        "      <th>neighborhood</th>\n",
        "      <th>price</th>\n",
        "      <th>person_capacity</th>\n",
        "      <th>picture_count</th>\n",
        "      <th>description_length</th>\n",
        "      <th>tenure_months</th>\n",
        "    </tr>\n",
        "  </thead>\n",
        "  <tbody>\n",
        "    <tr>\n",
        "      <th>48 </th>\n",
        "      <td>  49</td>\n",
        "      <td> Property type 1</td>\n",
        "      <td> Neighborhood 13</td>\n",
        "      <td> 2394</td>\n",
        "      <td> 8</td>\n",
        "      <td> 10</td>\n",
        "      <td> 363</td>\n",
        "      <td> 16</td>\n",
        "    </tr>\n",
        "    <tr>\n",
        "      <th>196</th>\n",
        "      <td> 197</td>\n",
        "      <td> Property type 1</td>\n",
        "      <td> Neighborhood 12</td>\n",
        "      <td> 3050</td>\n",
        "      <td> 4</td>\n",
        "      <td>  6</td>\n",
        "      <td> 227</td>\n",
        "      <td>  7</td>\n",
        "    </tr>\n",
        "    <tr>\n",
        "      <th>289</th>\n",
        "      <td> 290</td>\n",
        "      <td> Property type 1</td>\n",
        "      <td> Neighborhood 12</td>\n",
        "      <td> 2650</td>\n",
        "      <td> 4</td>\n",
        "      <td>  6</td>\n",
        "      <td> 232</td>\n",
        "      <td>  5</td>\n",
        "    </tr>\n",
        "    <tr>\n",
        "      <th>290</th>\n",
        "      <td> 291</td>\n",
        "      <td> Property type 1</td>\n",
        "      <td> Neighborhood 12</td>\n",
        "      <td> 2350</td>\n",
        "      <td> 1</td>\n",
        "      <td>  6</td>\n",
        "      <td> 219</td>\n",
        "      <td>  5</td>\n",
        "    </tr>\n",
        "    <tr>\n",
        "      <th>340</th>\n",
        "      <td> 341</td>\n",
        "      <td> Property type 1</td>\n",
        "      <td> Neighborhood 20</td>\n",
        "      <td> 5000</td>\n",
        "      <td> 4</td>\n",
        "      <td>  6</td>\n",
        "      <td> 145</td>\n",
        "      <td>  3</td>\n",
        "    </tr>\n",
        "  </tbody>\n",
        "</table>\n",
        "</div>"
       ],
       "metadata": {},
       "output_type": "pyout",
       "prompt_number": 242,
       "text": [
        "     prop_id        prop_type     neighborhood  price  person_capacity  \\\n",
        "48        49  Property type 1  Neighborhood 13   2394                8   \n",
        "196      197  Property type 1  Neighborhood 12   3050                4   \n",
        "289      290  Property type 1  Neighborhood 12   2650                4   \n",
        "290      291  Property type 1  Neighborhood 12   2350                1   \n",
        "340      341  Property type 1  Neighborhood 20   5000                4   \n",
        "\n",
        "     picture_count  description_length  tenure_months  \n",
        "48              10                 363             16  \n",
        "196              6                 227              7  \n",
        "289              6                 232              5  \n",
        "290              6                 219              5  \n",
        "340              6                 145              3  "
       ]
      },
      {
       "metadata": {},
       "output_type": "display_data",
       "png": "[encoded data removed]",
       "text": [
        "<matplotlib.figure.Figure at 0x182f4208>"
       ]
      }
     ],
     "prompt_number": 242
    },
    {
     "cell_type": "code",
     "collapsed": false,
     "input": [
      "grouped = listings.groupby('prop_type')\n",
      "grouped['price']"
     ],
     "language": "python",
     "metadata": {},
     "outputs": [
      {
       "metadata": {},
       "output_type": "pyout",
       "prompt_number": 243,
       "text": [
        "<pandas.core.groupby.SeriesGroupBy object at 0x00000000182FA1D0>"
       ]
      }
     ],
     "prompt_number": 243
    },
    {
     "cell_type": "code",
     "collapsed": false,
     "input": [
      "# grouped['price'].isnull() == False].describe()\n",
      "# grouped[grouped['price'].isnull() == False].describe()"
     ],
     "language": "python",
     "metadata": {},
     "outputs": [],
     "prompt_number": 244
    },
    {
     "cell_type": "markdown",
     "metadata": {},
     "source": [
      "###What what are the mean price, person capacity, picture count, description length and tenure of the properties grouped by property type?"
     ]
    },
    {
     "cell_type": "code",
     "collapsed": false,
     "input": [
      "grouped = listings.groupby('prop_type')\n",
      "\n",
      "grouped[['price', 'person_capacity', 'picture_count', 'description_length']].agg([np.mean, np.std, np.median])"
     ],
     "language": "python",
     "metadata": {},
     "outputs": [
      {
       "html": [
        "<div style=\"max-height:1000px;max-width:1500px;overflow:auto;\">\n",
        "<table border=\"1\" class=\"dataframe\">\n",
        "  <thead>\n",
        "    <tr>\n",
        "      <th></th>\n",
        "      <th colspan=\"3\" halign=\"left\">price</th>\n",
        "      <th colspan=\"3\" halign=\"left\">person_capacity</th>\n",
        "      <th colspan=\"3\" halign=\"left\">picture_count</th>\n",
        "      <th colspan=\"3\" halign=\"left\">description_length</th>\n",
        "    </tr>\n",
        "    <tr>\n",
        "      <th></th>\n",
        "      <th>mean</th>\n",
        "      <th>std</th>\n",
        "      <th>median</th>\n",
        "      <th>mean</th>\n",
        "      <th>std</th>\n",
        "      <th>median</th>\n",
        "      <th>mean</th>\n",
        "      <th>std</th>\n",
        "      <th>median</th>\n",
        "      <th>mean</th>\n",
        "      <th>std</th>\n",
        "      <th>median</th>\n",
        "    </tr>\n",
        "    <tr>\n",
        "      <th>prop_type</th>\n",
        "      <th></th>\n",
        "      <th></th>\n",
        "      <th></th>\n",
        "      <th></th>\n",
        "      <th></th>\n",
        "      <th></th>\n",
        "      <th></th>\n",
        "      <th></th>\n",
        "      <th></th>\n",
        "      <th></th>\n",
        "      <th></th>\n",
        "      <th></th>\n",
        "    </tr>\n",
        "  </thead>\n",
        "  <tbody>\n",
        "    <tr>\n",
        "      <th>Property type 1</th>\n",
        "      <td> 237.085502</td>\n",
        "      <td> 425.710534</td>\n",
        "      <td> 150</td>\n",
        "      <td> 3.516729</td>\n",
        "      <td> 1.644955</td>\n",
        "      <td> 3</td>\n",
        "      <td> 14.695167</td>\n",
        "      <td> 10.623651</td>\n",
        "      <td> 12.0</td>\n",
        "      <td> 313.171004</td>\n",
        "      <td> 214.769141</td>\n",
        "      <td> 266.0</td>\n",
        "    </tr>\n",
        "    <tr>\n",
        "      <th>Property type 2</th>\n",
        "      <td>  93.288889</td>\n",
        "      <td>  42.261246</td>\n",
        "      <td>  89</td>\n",
        "      <td> 2.000000</td>\n",
        "      <td> 0.846415</td>\n",
        "      <td> 2</td>\n",
        "      <td> 13.948148</td>\n",
        "      <td> 10.255191</td>\n",
        "      <td> 11.0</td>\n",
        "      <td> 304.851852</td>\n",
        "      <td> 255.135332</td>\n",
        "      <td> 239.0</td>\n",
        "    </tr>\n",
        "    <tr>\n",
        "      <th>Property type 3</th>\n",
        "      <td>  63.750000</td>\n",
        "      <td>  16.520190</td>\n",
        "      <td>  70</td>\n",
        "      <td> 1.750000</td>\n",
        "      <td> 0.500000</td>\n",
        "      <td> 2</td>\n",
        "      <td>  8.750000</td>\n",
        "      <td>  7.320064</td>\n",
        "      <td>  9.5</td>\n",
        "      <td> 184.750000</td>\n",
        "      <td>  53.093471</td>\n",
        "      <td> 192.5</td>\n",
        "    </tr>\n",
        "  </tbody>\n",
        "</table>\n",
        "</div>"
       ],
       "metadata": {},
       "output_type": "pyout",
       "prompt_number": 245,
       "text": [
        "                      price                      person_capacity            \\\n",
        "                       mean         std  median             mean       std   \n",
        "prop_type                                                                    \n",
        "Property type 1  237.085502  425.710534     150         3.516729  1.644955   \n",
        "Property type 2   93.288889   42.261246      89         2.000000  0.846415   \n",
        "Property type 3   63.750000   16.520190      70         1.750000  0.500000   \n",
        "\n",
        "                         picture_count                     description_length  \\\n",
        "                 median           mean        std  median                mean   \n",
        "prop_type                                                                       \n",
        "Property type 1       3      14.695167  10.623651    12.0          313.171004   \n",
        "Property type 2       2      13.948148  10.255191    11.0          304.851852   \n",
        "Property type 3       2       8.750000   7.320064     9.5          184.750000   \n",
        "\n",
        "                                     \n",
        "                        std  median  \n",
        "prop_type                            \n",
        "Property type 1  214.769141   266.0  \n",
        "Property type 2  255.135332   239.0  \n",
        "Property type 3   53.093471   192.5  "
       ]
      }
     ],
     "prompt_number": 245
    },
    {
     "cell_type": "code",
     "collapsed": false,
     "input": [
      "grouped.prop_type.unique()"
     ],
     "language": "python",
     "metadata": {},
     "outputs": [
      {
       "metadata": {},
       "output_type": "pyout",
       "prompt_number": 246,
       "text": [
        "prop_type\n",
        "Property type 1    [Property type 1]\n",
        "Property type 2    [Property type 2]\n",
        "Property type 3    [Property type 3]\n",
        "Name: prop_type, dtype: object"
       ]
      }
     ],
     "prompt_number": 246
    },
    {
     "cell_type": "markdown",
     "metadata": {},
     "source": [
      "###Same, but by property type per neighborhood? "
     ]
    },
    {
     "cell_type": "code",
     "collapsed": false,
     "input": [
      "naybor = listings.groupby(['prop_type', 'neighborhood'])['price', 'person_capacity', 'picture_count', 'description_length']"
     ],
     "language": "python",
     "metadata": {},
     "outputs": [],
     "prompt_number": 247
    },
    {
     "cell_type": "code",
     "collapsed": false,
     "input": [
      "naybor.agg([np.mean, np.std, np.median])"
     ],
     "language": "python",
     "metadata": {},
     "outputs": [
      {
       "html": [
        "<div style=\"max-height:1000px;max-width:1500px;overflow:auto;\">\n",
        "<table border=\"1\" class=\"dataframe\">\n",
        "  <thead>\n",
        "    <tr>\n",
        "      <th></th>\n",
        "      <th></th>\n",
        "      <th colspan=\"3\" halign=\"left\">price</th>\n",
        "      <th colspan=\"3\" halign=\"left\">person_capacity</th>\n",
        "      <th colspan=\"3\" halign=\"left\">picture_count</th>\n",
        "      <th colspan=\"3\" halign=\"left\">description_length</th>\n",
        "    </tr>\n",
        "    <tr>\n",
        "      <th></th>\n",
        "      <th></th>\n",
        "      <th>mean</th>\n",
        "      <th>std</th>\n",
        "      <th>median</th>\n",
        "      <th>mean</th>\n",
        "      <th>std</th>\n",
        "      <th>median</th>\n",
        "      <th>mean</th>\n",
        "      <th>std</th>\n",
        "      <th>median</th>\n",
        "      <th>mean</th>\n",
        "      <th>std</th>\n",
        "      <th>median</th>\n",
        "    </tr>\n",
        "    <tr>\n",
        "      <th>prop_type</th>\n",
        "      <th>neighborhood</th>\n",
        "      <th></th>\n",
        "      <th></th>\n",
        "      <th></th>\n",
        "      <th></th>\n",
        "      <th></th>\n",
        "      <th></th>\n",
        "      <th></th>\n",
        "      <th></th>\n",
        "      <th></th>\n",
        "      <th></th>\n",
        "      <th></th>\n",
        "      <th></th>\n",
        "    </tr>\n",
        "  </thead>\n",
        "  <tbody>\n",
        "    <tr>\n",
        "      <th rowspan=\"5\" valign=\"top\">Property type 1</th>\n",
        "      <th>Neighborhood 1</th>\n",
        "      <td>  85.000000</td>\n",
        "      <td>        NaN</td>\n",
        "      <td>  85.0</td>\n",
        "      <td> 2.000000</td>\n",
        "      <td>      NaN</td>\n",
        "      <td> 2</td>\n",
        "      <td> 26.000000</td>\n",
        "      <td>      NaN</td>\n",
        "      <td> 26.0</td>\n",
        "      <td> 209.000000</td>\n",
        "      <td>        NaN</td>\n",
        "      <td> 209.0</td>\n",
        "    </tr>\n",
        "    <tr>\n",
        "      <th>Neighborhood 10</th>\n",
        "      <td> 142.500000</td>\n",
        "      <td>  36.979724</td>\n",
        "      <td> 137.5</td>\n",
        "      <td> 3.500000</td>\n",
        "      <td> 1.224745</td>\n",
        "      <td> 4</td>\n",
        "      <td> 13.333333</td>\n",
        "      <td> 8.571270</td>\n",
        "      <td> 12.0</td>\n",
        "      <td> 391.000000</td>\n",
        "      <td> 146.929915</td>\n",
        "      <td> 425.5</td>\n",
        "    </tr>\n",
        "    <tr>\n",
        "      <th>Neighborhood 11</th>\n",
        "      <td> 159.428571</td>\n",
        "      <td>  70.962302</td>\n",
        "      <td> 130.0</td>\n",
        "      <td> 3.214286</td>\n",
        "      <td> 1.311404</td>\n",
        "      <td> 3</td>\n",
        "      <td>  9.928571</td>\n",
        "      <td> 5.928605</td>\n",
        "      <td>  8.0</td>\n",
        "      <td> 379.000000</td>\n",
        "      <td> 396.956111</td>\n",
        "      <td> 295.5</td>\n",
        "    </tr>\n",
        "    <tr>\n",
        "      <th>Neighborhood 12</th>\n",
        "      <td> 365.615385</td>\n",
        "      <td> 686.086484</td>\n",
        "      <td> 150.0</td>\n",
        "      <td> 3.435897</td>\n",
        "      <td> 1.874972</td>\n",
        "      <td> 3</td>\n",
        "      <td> 10.820513</td>\n",
        "      <td> 7.118810</td>\n",
        "      <td>  8.0</td>\n",
        "      <td> 267.205128</td>\n",
        "      <td> 137.867820</td>\n",
        "      <td> 251.0</td>\n",
        "    </tr>\n",
        "    <tr>\n",
        "      <th>Neighborhood 13</th>\n",
        "      <td> 241.897959</td>\n",
        "      <td> 320.997874</td>\n",
        "      <td> 180.0</td>\n",
        "      <td> 4.061224</td>\n",
        "      <td> 1.586508</td>\n",
        "      <td> 4</td>\n",
        "      <td> 15.653061</td>\n",
        "      <td> 9.828850</td>\n",
        "      <td> 13.0</td>\n",
        "      <td> 290.408163</td>\n",
        "      <td> 124.417965</td>\n",
        "      <td> 256.0</td>\n",
        "    </tr>\n",
        "    <tr>\n",
        "      <th>...</th>\n",
        "      <th>...</th>\n",
        "      <td>...</td>\n",
        "      <td>...</td>\n",
        "      <td>...</td>\n",
        "      <td>...</td>\n",
        "      <td>...</td>\n",
        "      <td>...</td>\n",
        "      <td>...</td>\n",
        "      <td>...</td>\n",
        "      <td>...</td>\n",
        "      <td>...</td>\n",
        "      <td>...</td>\n",
        "      <td>...</td>\n",
        "    </tr>\n",
        "    <tr>\n",
        "      <th>Property type 2</th>\n",
        "      <th>Neighborhood 9</th>\n",
        "      <td> 110.000000</td>\n",
        "      <td>  14.142136</td>\n",
        "      <td> 110.0</td>\n",
        "      <td> 2.000000</td>\n",
        "      <td> 1.414214</td>\n",
        "      <td> 2</td>\n",
        "      <td>  3.500000</td>\n",
        "      <td> 0.707107</td>\n",
        "      <td>  3.5</td>\n",
        "      <td> 114.500000</td>\n",
        "      <td> 137.885822</td>\n",
        "      <td> 114.5</td>\n",
        "    </tr>\n",
        "    <tr>\n",
        "      <th rowspan=\"4\" valign=\"top\">Property type 3</th>\n",
        "      <th>Neighborhood 11</th>\n",
        "      <td>  75.000000</td>\n",
        "      <td>        NaN</td>\n",
        "      <td>  75.0</td>\n",
        "      <td> 2.000000</td>\n",
        "      <td>      NaN</td>\n",
        "      <td> 2</td>\n",
        "      <td> 15.000000</td>\n",
        "      <td>      NaN</td>\n",
        "      <td> 15.0</td>\n",
        "      <td> 196.000000</td>\n",
        "      <td>        NaN</td>\n",
        "      <td> 196.0</td>\n",
        "    </tr>\n",
        "    <tr>\n",
        "      <th>Neighborhood 14</th>\n",
        "      <td>  75.000000</td>\n",
        "      <td>        NaN</td>\n",
        "      <td>  75.0</td>\n",
        "      <td> 1.000000</td>\n",
        "      <td>      NaN</td>\n",
        "      <td> 1</td>\n",
        "      <td>  1.000000</td>\n",
        "      <td>      NaN</td>\n",
        "      <td>  1.0</td>\n",
        "      <td> 113.000000</td>\n",
        "      <td>        NaN</td>\n",
        "      <td> 113.0</td>\n",
        "    </tr>\n",
        "    <tr>\n",
        "      <th>Neighborhood 17</th>\n",
        "      <td>  65.000000</td>\n",
        "      <td>        NaN</td>\n",
        "      <td>  65.0</td>\n",
        "      <td> 2.000000</td>\n",
        "      <td>      NaN</td>\n",
        "      <td> 2</td>\n",
        "      <td> 15.000000</td>\n",
        "      <td>      NaN</td>\n",
        "      <td> 15.0</td>\n",
        "      <td> 189.000000</td>\n",
        "      <td>        NaN</td>\n",
        "      <td> 189.0</td>\n",
        "    </tr>\n",
        "    <tr>\n",
        "      <th>Neighborhood 4</th>\n",
        "      <td>  40.000000</td>\n",
        "      <td>        NaN</td>\n",
        "      <td>  40.0</td>\n",
        "      <td> 2.000000</td>\n",
        "      <td>      NaN</td>\n",
        "      <td> 2</td>\n",
        "      <td>  4.000000</td>\n",
        "      <td>      NaN</td>\n",
        "      <td>  4.0</td>\n",
        "      <td> 241.000000</td>\n",
        "      <td>        NaN</td>\n",
        "      <td> 241.0</td>\n",
        "    </tr>\n",
        "  </tbody>\n",
        "</table>\n",
        "<p>40 rows \u00d7 12 columns</p>\n",
        "</div>"
       ],
       "metadata": {},
       "output_type": "pyout",
       "prompt_number": 248,
       "text": [
        "                                      price                      \\\n",
        "                                       mean         std  median   \n",
        "prop_type       neighborhood                                      \n",
        "Property type 1 Neighborhood 1    85.000000         NaN    85.0   \n",
        "                Neighborhood 10  142.500000   36.979724   137.5   \n",
        "                Neighborhood 11  159.428571   70.962302   130.0   \n",
        "                Neighborhood 12  365.615385  686.086484   150.0   \n",
        "                Neighborhood 13  241.897959  320.997874   180.0   \n",
        "...                                     ...         ...     ...   \n",
        "Property type 2 Neighborhood 9   110.000000   14.142136   110.0   \n",
        "Property type 3 Neighborhood 11   75.000000         NaN    75.0   \n",
        "                Neighborhood 14   75.000000         NaN    75.0   \n",
        "                Neighborhood 17   65.000000         NaN    65.0   \n",
        "                Neighborhood 4    40.000000         NaN    40.0   \n",
        "\n",
        "                                 person_capacity                    \\\n",
        "                                            mean       std  median   \n",
        "prop_type       neighborhood                                         \n",
        "Property type 1 Neighborhood 1          2.000000       NaN       2   \n",
        "                Neighborhood 10         3.500000  1.224745       4   \n",
        "                Neighborhood 11         3.214286  1.311404       3   \n",
        "                Neighborhood 12         3.435897  1.874972       3   \n",
        "                Neighborhood 13         4.061224  1.586508       4   \n",
        "...                                          ...       ...     ...   \n",
        "Property type 2 Neighborhood 9          2.000000  1.414214       2   \n",
        "Property type 3 Neighborhood 11         2.000000       NaN       2   \n",
        "                Neighborhood 14         1.000000       NaN       1   \n",
        "                Neighborhood 17         2.000000       NaN       2   \n",
        "                Neighborhood 4          2.000000       NaN       2   \n",
        "\n",
        "                                 picture_count                    \\\n",
        "                                          mean       std  median   \n",
        "prop_type       neighborhood                                       \n",
        "Property type 1 Neighborhood 1       26.000000       NaN    26.0   \n",
        "                Neighborhood 10      13.333333  8.571270    12.0   \n",
        "                Neighborhood 11       9.928571  5.928605     8.0   \n",
        "                Neighborhood 12      10.820513  7.118810     8.0   \n",
        "                Neighborhood 13      15.653061  9.828850    13.0   \n",
        "...                                        ...       ...     ...   \n",
        "Property type 2 Neighborhood 9        3.500000  0.707107     3.5   \n",
        "Property type 3 Neighborhood 11      15.000000       NaN    15.0   \n",
        "                Neighborhood 14       1.000000       NaN     1.0   \n",
        "                Neighborhood 17      15.000000       NaN    15.0   \n",
        "                Neighborhood 4        4.000000       NaN     4.0   \n",
        "\n",
        "                                 description_length                      \n",
        "                                               mean         std  median  \n",
        "prop_type       neighborhood                                             \n",
        "Property type 1 Neighborhood 1           209.000000         NaN   209.0  \n",
        "                Neighborhood 10          391.000000  146.929915   425.5  \n",
        "                Neighborhood 11          379.000000  396.956111   295.5  \n",
        "                Neighborhood 12          267.205128  137.867820   251.0  \n",
        "                Neighborhood 13          290.408163  124.417965   256.0  \n",
        "...                                             ...         ...     ...  \n",
        "Property type 2 Neighborhood 9           114.500000  137.885822   114.5  \n",
        "Property type 3 Neighborhood 11          196.000000         NaN   196.0  \n",
        "                Neighborhood 14          113.000000         NaN   113.0  \n",
        "                Neighborhood 17          189.000000         NaN   189.0  \n",
        "                Neighborhood 4           241.000000         NaN   241.0  \n",
        "\n",
        "[40 rows x 12 columns]"
       ]
      }
     ],
     "prompt_number": 248
    },
    {
     "cell_type": "markdown",
     "metadata": {},
     "source": [
      "###Plot daily bookings:"
     ]
    },
    {
     "cell_type": "code",
     "collapsed": false,
     "input": [
      "bookings.plot('booking_date', 'prop_id').fig_size = (50, 20)\n",
      "plt.suptitle('Daily Bookings')\n",
      "plt.xlabel('Booking Date')\n",
      "plt.ylabel('# of Bookings')"
     ],
     "language": "python",
     "metadata": {},
     "outputs": [
      {
       "metadata": {},
       "output_type": "pyout",
       "prompt_number": 249,
       "text": [
        "<matplotlib.text.Text at 0x1736ebe0>"
       ]
      },
      {
       "metadata": {},
       "output_type": "display_data",
       "png": "[encoded data removed]",
       "text": [
        "<matplotlib.figure.Figure at 0x1772abe0>"
       ]
      }
     ],
     "prompt_number": 249
    },
    {
     "cell_type": "markdown",
     "metadata": {},
     "source": [
      "###Plot the daily bookings per neighborhood (provide a legend)"
     ]
    },
    {
     "cell_type": "code",
     "collapsed": false,
     "input": [
      "n_listings = listings.merge(bookings, on = 'prop_id', how = 'left')"
     ],
     "language": "python",
     "metadata": {},
     "outputs": [],
     "prompt_number": 250
    },
    {
     "cell_type": "code",
     "collapsed": false,
     "input": [
      "n_listings.info()"
     ],
     "language": "python",
     "metadata": {},
     "outputs": [
      {
       "output_type": "stream",
       "stream": "stdout",
       "text": [
        "<class 'pandas.core.frame.DataFrame'>\n",
        "Int64Index: 6156 entries, 0 to 6155\n",
        "Data columns (total 9 columns):\n",
        "prop_id               6156 non-null int64\n",
        "prop_type             6156 non-null object\n",
        "neighborhood          6156 non-null object\n",
        "price                 6156 non-null int64\n",
        "person_capacity       6156 non-null int64\n",
        "picture_count         6156 non-null int64\n",
        "description_length    6156 non-null int64\n",
        "tenure_months         6156 non-null int64\n",
        "booking_date          6076 non-null datetime64[ns]\n",
        "dtypes: datetime64[ns](1), int64(6), object(2)"
       ]
      }
     ],
     "prompt_number": 251
    },
    {
     "cell_type": "code",
     "collapsed": false,
     "input": [
      "#n_listings.booking_date = pd.to_datetime(n_listings.booking_date)"
     ],
     "language": "python",
     "metadata": {},
     "outputs": [],
     "prompt_number": 252
    },
    {
     "cell_type": "code",
     "collapsed": false,
     "input": [
      "n_listings.booking_date.map(lambda x: x.dayofweek)"
     ],
     "language": "python",
     "metadata": {},
     "outputs": [
      {
       "ename": "AttributeError",
       "evalue": "'NaTType' object has no attribute 'dayofweek'",
       "output_type": "pyerr",
       "traceback": [
        "\u001b[1;31m---------------------------------------------------------------------------\u001b[0m\n\u001b[1;31mAttributeError\u001b[0m                            Traceback (most recent call last)",
        "\u001b[1;32m<ipython-input-253-23c2edc35118>\u001b[0m in \u001b[0;36m<module>\u001b[1;34m()\u001b[0m\n\u001b[1;32m----> 1\u001b[1;33m \u001b[0mn_listings\u001b[0m\u001b[1;33m.\u001b[0m\u001b[0mbooking_date\u001b[0m\u001b[1;33m.\u001b[0m\u001b[0mmap\u001b[0m\u001b[1;33m(\u001b[0m\u001b[1;32mlambda\u001b[0m \u001b[0mx\u001b[0m\u001b[1;33m:\u001b[0m \u001b[0mx\u001b[0m\u001b[1;33m.\u001b[0m\u001b[0mdayofweek\u001b[0m\u001b[1;33m)\u001b[0m\u001b[1;33m\u001b[0m\u001b[0m\n\u001b[0m",
        "\u001b[1;32mC:\\Users\\selah\\AppData\\Local\\Continuum\\Anaconda\\lib\\site-packages\\pandas\\core\\series.pyc\u001b[0m in \u001b[0;36mmap\u001b[1;34m(self, arg, na_action)\u001b[0m\n\u001b[0;32m   1953\u001b[0m                                      index=self.index).__finalize__(self)\n\u001b[0;32m   1954\u001b[0m         \u001b[1;32melse\u001b[0m\u001b[1;33m:\u001b[0m\u001b[1;33m\u001b[0m\u001b[0m\n\u001b[1;32m-> 1955\u001b[1;33m             \u001b[0mmapped\u001b[0m \u001b[1;33m=\u001b[0m \u001b[0mmap_f\u001b[0m\u001b[1;33m(\u001b[0m\u001b[0mvalues\u001b[0m\u001b[1;33m,\u001b[0m \u001b[0marg\u001b[0m\u001b[1;33m)\u001b[0m\u001b[1;33m\u001b[0m\u001b[0m\n\u001b[0m\u001b[0;32m   1956\u001b[0m             return self._constructor(mapped,\n\u001b[0;32m   1957\u001b[0m                                      index=self.index).__finalize__(self)\n",
        "\u001b[1;32mC:\\Users\\selah\\AppData\\Local\\Continuum\\Anaconda\\lib\\site-packages\\pandas\\lib.pyd\u001b[0m in \u001b[0;36mpandas.lib.map_infer (pandas\\lib.c:53184)\u001b[1;34m()\u001b[0m\n",
        "\u001b[1;32m<ipython-input-253-23c2edc35118>\u001b[0m in \u001b[0;36m<lambda>\u001b[1;34m(x)\u001b[0m\n\u001b[1;32m----> 1\u001b[1;33m \u001b[0mn_listings\u001b[0m\u001b[1;33m.\u001b[0m\u001b[0mbooking_date\u001b[0m\u001b[1;33m.\u001b[0m\u001b[0mmap\u001b[0m\u001b[1;33m(\u001b[0m\u001b[1;32mlambda\u001b[0m \u001b[0mx\u001b[0m\u001b[1;33m:\u001b[0m \u001b[0mx\u001b[0m\u001b[1;33m.\u001b[0m\u001b[0mdayofweek\u001b[0m\u001b[1;33m)\u001b[0m\u001b[1;33m\u001b[0m\u001b[0m\n\u001b[0m",
        "\u001b[1;31mAttributeError\u001b[0m: 'NaTType' object has no attribute 'dayofweek'"
       ]
      }
     ],
     "prompt_number": 253
    },
    {
     "cell_type": "code",
     "collapsed": false,
     "input": [],
     "language": "python",
     "metadata": {},
     "outputs": [],
     "prompt_number": 253
    },
    {
     "cell_type": "code",
     "collapsed": false,
     "input": [],
     "language": "python",
     "metadata": {},
     "outputs": [],
     "prompt_number": 253
    },
    {
     "cell_type": "code",
     "collapsed": false,
     "input": [
      "sns.factorplot(\"neighborhood\", hue =\"day_name\", data = n_listings, palette = \"Purples_d\", size = 25, legend = True);"
     ],
     "language": "python",
     "metadata": {},
     "outputs": [
      {
       "ename": "KeyError",
       "evalue": "\"['day_name'] not in index\"",
       "output_type": "pyerr",
       "traceback": [
        "\u001b[1;31m---------------------------------------------------------------------------\u001b[0m\n\u001b[1;31mKeyError\u001b[0m                                  Traceback (most recent call last)",
        "\u001b[1;32m<ipython-input-254-585a63fc9d8c>\u001b[0m in \u001b[0;36m<module>\u001b[1;34m()\u001b[0m\n\u001b[1;32m----> 1\u001b[1;33m \u001b[0msns\u001b[0m\u001b[1;33m.\u001b[0m\u001b[0mfactorplot\u001b[0m\u001b[1;33m(\u001b[0m\u001b[1;34m\"neighborhood\"\u001b[0m\u001b[1;33m,\u001b[0m \u001b[0mhue\u001b[0m \u001b[1;33m=\u001b[0m\u001b[1;34m\"day_name\"\u001b[0m\u001b[1;33m,\u001b[0m \u001b[0mdata\u001b[0m \u001b[1;33m=\u001b[0m \u001b[0mn_listings\u001b[0m\u001b[1;33m,\u001b[0m \u001b[0mpalette\u001b[0m \u001b[1;33m=\u001b[0m \u001b[1;34m\"Purples_d\"\u001b[0m\u001b[1;33m,\u001b[0m \u001b[0msize\u001b[0m \u001b[1;33m=\u001b[0m \u001b[1;36m25\u001b[0m\u001b[1;33m,\u001b[0m \u001b[0mlegend\u001b[0m \u001b[1;33m=\u001b[0m \u001b[0mTrue\u001b[0m\u001b[1;33m)\u001b[0m\u001b[1;33m;\u001b[0m\u001b[1;33m\u001b[0m\u001b[0m\n\u001b[0m",
        "\u001b[1;32mC:\\Users\\selah\\AppData\\Local\\Continuum\\Anaconda\\lib\\site-packages\\seaborn\\linearmodels.pyc\u001b[0m in \u001b[0;36mfactorplot\u001b[1;34m(x, y, hue, data, row, col, col_wrap, estimator, ci, n_boot, units, x_order, hue_order, col_order, row_order, kind, markers, linestyles, dodge, join, hline, size, aspect, palette, legend, legend_out, dropna, sharex, sharey, margin_titles)\u001b[0m\n\u001b[0;32m    900\u001b[0m     \u001b[0mcols\u001b[0m \u001b[1;33m=\u001b[0m \u001b[1;33m[\u001b[0m\u001b[0ma\u001b[0m \u001b[1;32mfor\u001b[0m \u001b[0ma\u001b[0m \u001b[1;32min\u001b[0m \u001b[1;33m[\u001b[0m\u001b[0mx\u001b[0m\u001b[1;33m,\u001b[0m \u001b[0my\u001b[0m\u001b[1;33m,\u001b[0m \u001b[0mhue\u001b[0m\u001b[1;33m,\u001b[0m \u001b[0mcol\u001b[0m\u001b[1;33m,\u001b[0m \u001b[0mrow\u001b[0m\u001b[1;33m,\u001b[0m \u001b[0munits\u001b[0m\u001b[1;33m]\u001b[0m \u001b[1;32mif\u001b[0m \u001b[0ma\u001b[0m \u001b[1;32mis\u001b[0m \u001b[1;32mnot\u001b[0m \u001b[0mNone\u001b[0m\u001b[1;33m]\u001b[0m\u001b[1;33m\u001b[0m\u001b[0m\n\u001b[0;32m    901\u001b[0m     \u001b[0mcols\u001b[0m \u001b[1;33m=\u001b[0m \u001b[0mpd\u001b[0m\u001b[1;33m.\u001b[0m\u001b[0munique\u001b[0m\u001b[1;33m(\u001b[0m\u001b[0mcols\u001b[0m\u001b[1;33m)\u001b[0m\u001b[1;33m.\u001b[0m\u001b[0mtolist\u001b[0m\u001b[1;33m(\u001b[0m\u001b[1;33m)\u001b[0m\u001b[1;33m\u001b[0m\u001b[0m\n\u001b[1;32m--> 902\u001b[1;33m     \u001b[0mdata\u001b[0m \u001b[1;33m=\u001b[0m \u001b[0mdata\u001b[0m\u001b[1;33m[\u001b[0m\u001b[0mcols\u001b[0m\u001b[1;33m]\u001b[0m\u001b[1;33m\u001b[0m\u001b[0m\n\u001b[0m\u001b[0;32m    903\u001b[0m \u001b[1;33m\u001b[0m\u001b[0m\n\u001b[0;32m    904\u001b[0m     \u001b[0mfacet_hue\u001b[0m \u001b[1;33m=\u001b[0m \u001b[0mhue\u001b[0m \u001b[1;32mif\u001b[0m \u001b[0mhue\u001b[0m \u001b[1;32min\u001b[0m \u001b[1;33m[\u001b[0m\u001b[0mrow\u001b[0m\u001b[1;33m,\u001b[0m \u001b[0mcol\u001b[0m\u001b[1;33m]\u001b[0m \u001b[1;32melse\u001b[0m \u001b[0mNone\u001b[0m\u001b[1;33m\u001b[0m\u001b[0m\n",
        "\u001b[1;32mC:\\Users\\selah\\AppData\\Local\\Continuum\\Anaconda\\lib\\site-packages\\pandas\\core\\frame.pyc\u001b[0m in \u001b[0;36m__getitem__\u001b[1;34m(self, key)\u001b[0m\n\u001b[0;32m   1670\u001b[0m         \u001b[1;32mif\u001b[0m \u001b[0misinstance\u001b[0m\u001b[1;33m(\u001b[0m\u001b[0mkey\u001b[0m\u001b[1;33m,\u001b[0m \u001b[1;33m(\u001b[0m\u001b[0mSeries\u001b[0m\u001b[1;33m,\u001b[0m \u001b[0mnp\u001b[0m\u001b[1;33m.\u001b[0m\u001b[0mndarray\u001b[0m\u001b[1;33m,\u001b[0m \u001b[0mlist\u001b[0m\u001b[1;33m)\u001b[0m\u001b[1;33m)\u001b[0m\u001b[1;33m:\u001b[0m\u001b[1;33m\u001b[0m\u001b[0m\n\u001b[0;32m   1671\u001b[0m             \u001b[1;31m# either boolean or fancy integer index\u001b[0m\u001b[1;33m\u001b[0m\u001b[1;33m\u001b[0m\u001b[0m\n\u001b[1;32m-> 1672\u001b[1;33m             \u001b[1;32mreturn\u001b[0m \u001b[0mself\u001b[0m\u001b[1;33m.\u001b[0m\u001b[0m_getitem_array\u001b[0m\u001b[1;33m(\u001b[0m\u001b[0mkey\u001b[0m\u001b[1;33m)\u001b[0m\u001b[1;33m\u001b[0m\u001b[0m\n\u001b[0m\u001b[0;32m   1673\u001b[0m         \u001b[1;32melif\u001b[0m \u001b[0misinstance\u001b[0m\u001b[1;33m(\u001b[0m\u001b[0mkey\u001b[0m\u001b[1;33m,\u001b[0m \u001b[0mDataFrame\u001b[0m\u001b[1;33m)\u001b[0m\u001b[1;33m:\u001b[0m\u001b[1;33m\u001b[0m\u001b[0m\n\u001b[0;32m   1674\u001b[0m             \u001b[1;32mreturn\u001b[0m \u001b[0mself\u001b[0m\u001b[1;33m.\u001b[0m\u001b[0m_getitem_frame\u001b[0m\u001b[1;33m(\u001b[0m\u001b[0mkey\u001b[0m\u001b[1;33m)\u001b[0m\u001b[1;33m\u001b[0m\u001b[0m\n",
        "\u001b[1;32mC:\\Users\\selah\\AppData\\Local\\Continuum\\Anaconda\\lib\\site-packages\\pandas\\core\\frame.pyc\u001b[0m in \u001b[0;36m_getitem_array\u001b[1;34m(self, key)\u001b[0m\n\u001b[0;32m   1714\u001b[0m             \u001b[1;32mreturn\u001b[0m \u001b[0mself\u001b[0m\u001b[1;33m.\u001b[0m\u001b[0mtake\u001b[0m\u001b[1;33m(\u001b[0m\u001b[0mindexer\u001b[0m\u001b[1;33m,\u001b[0m \u001b[0maxis\u001b[0m\u001b[1;33m=\u001b[0m\u001b[1;36m0\u001b[0m\u001b[1;33m,\u001b[0m \u001b[0mconvert\u001b[0m\u001b[1;33m=\u001b[0m\u001b[0mFalse\u001b[0m\u001b[1;33m)\u001b[0m\u001b[1;33m\u001b[0m\u001b[0m\n\u001b[0;32m   1715\u001b[0m         \u001b[1;32melse\u001b[0m\u001b[1;33m:\u001b[0m\u001b[1;33m\u001b[0m\u001b[0m\n\u001b[1;32m-> 1716\u001b[1;33m             \u001b[0mindexer\u001b[0m \u001b[1;33m=\u001b[0m \u001b[0mself\u001b[0m\u001b[1;33m.\u001b[0m\u001b[0mix\u001b[0m\u001b[1;33m.\u001b[0m\u001b[0m_convert_to_indexer\u001b[0m\u001b[1;33m(\u001b[0m\u001b[0mkey\u001b[0m\u001b[1;33m,\u001b[0m \u001b[0maxis\u001b[0m\u001b[1;33m=\u001b[0m\u001b[1;36m1\u001b[0m\u001b[1;33m)\u001b[0m\u001b[1;33m\u001b[0m\u001b[0m\n\u001b[0m\u001b[0;32m   1717\u001b[0m             \u001b[1;32mreturn\u001b[0m \u001b[0mself\u001b[0m\u001b[1;33m.\u001b[0m\u001b[0mtake\u001b[0m\u001b[1;33m(\u001b[0m\u001b[0mindexer\u001b[0m\u001b[1;33m,\u001b[0m \u001b[0maxis\u001b[0m\u001b[1;33m=\u001b[0m\u001b[1;36m1\u001b[0m\u001b[1;33m,\u001b[0m \u001b[0mconvert\u001b[0m\u001b[1;33m=\u001b[0m\u001b[0mTrue\u001b[0m\u001b[1;33m)\u001b[0m\u001b[1;33m\u001b[0m\u001b[0m\n\u001b[0;32m   1718\u001b[0m \u001b[1;33m\u001b[0m\u001b[0m\n",
        "\u001b[1;32mC:\\Users\\selah\\AppData\\Local\\Continuum\\Anaconda\\lib\\site-packages\\pandas\\core\\indexing.pyc\u001b[0m in \u001b[0;36m_convert_to_indexer\u001b[1;34m(self, obj, axis, is_setter)\u001b[0m\n\u001b[0;32m   1083\u001b[0m                     \u001b[1;32mif\u001b[0m \u001b[0misinstance\u001b[0m\u001b[1;33m(\u001b[0m\u001b[0mobj\u001b[0m\u001b[1;33m,\u001b[0m \u001b[0mtuple\u001b[0m\u001b[1;33m)\u001b[0m \u001b[1;32mand\u001b[0m \u001b[0mis_setter\u001b[0m\u001b[1;33m:\u001b[0m\u001b[1;33m\u001b[0m\u001b[0m\n\u001b[0;32m   1084\u001b[0m                         \u001b[1;32mreturn\u001b[0m \u001b[1;33m{\u001b[0m\u001b[1;34m'key'\u001b[0m\u001b[1;33m:\u001b[0m \u001b[0mobj\u001b[0m\u001b[1;33m}\u001b[0m\u001b[1;33m\u001b[0m\u001b[0m\n\u001b[1;32m-> 1085\u001b[1;33m                     \u001b[1;32mraise\u001b[0m \u001b[0mKeyError\u001b[0m\u001b[1;33m(\u001b[0m\u001b[1;34m'%s not in index'\u001b[0m \u001b[1;33m%\u001b[0m \u001b[0mobjarr\u001b[0m\u001b[1;33m[\u001b[0m\u001b[0mmask\u001b[0m\u001b[1;33m]\u001b[0m\u001b[1;33m)\u001b[0m\u001b[1;33m\u001b[0m\u001b[0m\n\u001b[0m\u001b[0;32m   1086\u001b[0m \u001b[1;33m\u001b[0m\u001b[0m\n\u001b[0;32m   1087\u001b[0m                 \u001b[1;32mreturn\u001b[0m \u001b[0mindexer\u001b[0m\u001b[1;33m\u001b[0m\u001b[0m\n",
        "\u001b[1;31mKeyError\u001b[0m: \"['day_name'] not in index\""
       ]
      }
     ],
     "prompt_number": 254
    },
    {
     "cell_type": "code",
     "collapsed": false,
     "input": [
      "fig, ax = bookings.plot('booking_date', 'neighborhood').fig_size = (50, 20)\n",
      "plt.suptitle('Daily Bookings')\n",
      "ax.set_xlabel('Neighborhood')\n",
      "ax.set_ylabel('# of Bookings')\n",
      "ax.legend()"
     ],
     "language": "python",
     "metadata": {},
     "outputs": [
      {
       "ename": "KeyError",
       "evalue": "'neighborhood'",
       "output_type": "pyerr",
       "traceback": [
        "\u001b[1;31m---------------------------------------------------------------------------\u001b[0m\n\u001b[1;31mKeyError\u001b[0m                                  Traceback (most recent call last)",
        "\u001b[1;32m<ipython-input-255-fdef08f7f71c>\u001b[0m in \u001b[0;36m<module>\u001b[1;34m()\u001b[0m\n\u001b[1;32m----> 1\u001b[1;33m \u001b[0mfig\u001b[0m\u001b[1;33m,\u001b[0m \u001b[0max\u001b[0m \u001b[1;33m=\u001b[0m \u001b[0mbookings\u001b[0m\u001b[1;33m.\u001b[0m\u001b[0mplot\u001b[0m\u001b[1;33m(\u001b[0m\u001b[1;34m'booking_date'\u001b[0m\u001b[1;33m,\u001b[0m \u001b[1;34m'neighborhood'\u001b[0m\u001b[1;33m)\u001b[0m\u001b[1;33m.\u001b[0m\u001b[0mfig_size\u001b[0m \u001b[1;33m=\u001b[0m \u001b[1;33m(\u001b[0m\u001b[1;36m50\u001b[0m\u001b[1;33m,\u001b[0m \u001b[1;36m20\u001b[0m\u001b[1;33m)\u001b[0m\u001b[1;33m\u001b[0m\u001b[0m\n\u001b[0m\u001b[0;32m      2\u001b[0m \u001b[0mplt\u001b[0m\u001b[1;33m.\u001b[0m\u001b[0msuptitle\u001b[0m\u001b[1;33m(\u001b[0m\u001b[1;34m'Daily Bookings'\u001b[0m\u001b[1;33m)\u001b[0m\u001b[1;33m\u001b[0m\u001b[0m\n\u001b[0;32m      3\u001b[0m \u001b[0max\u001b[0m\u001b[1;33m.\u001b[0m\u001b[0mset_xlabel\u001b[0m\u001b[1;33m(\u001b[0m\u001b[1;34m'Neighborhood'\u001b[0m\u001b[1;33m)\u001b[0m\u001b[1;33m\u001b[0m\u001b[0m\n\u001b[0;32m      4\u001b[0m \u001b[0max\u001b[0m\u001b[1;33m.\u001b[0m\u001b[0mset_ylabel\u001b[0m\u001b[1;33m(\u001b[0m\u001b[1;34m'# of Bookings'\u001b[0m\u001b[1;33m)\u001b[0m\u001b[1;33m\u001b[0m\u001b[0m\n\u001b[0;32m      5\u001b[0m \u001b[0max\u001b[0m\u001b[1;33m.\u001b[0m\u001b[0mlegend\u001b[0m\u001b[1;33m(\u001b[0m\u001b[1;33m)\u001b[0m\u001b[1;33m\u001b[0m\u001b[0m\n",
        "\u001b[1;32mC:\\Users\\selah\\AppData\\Local\\Continuum\\Anaconda\\lib\\site-packages\\pandas\\tools\\plotting.pyc\u001b[0m in \u001b[0;36mplot_frame\u001b[1;34m(frame, x, y, subplots, sharex, sharey, use_index, figsize, grid, legend, rot, ax, style, title, xlim, ylim, logx, logy, xticks, yticks, kind, sort_columns, fontsize, secondary_y, **kwds)\u001b[0m\n\u001b[0;32m   2135\u001b[0m             \u001b[0mlabel\u001b[0m \u001b[1;33m=\u001b[0m \u001b[0mx\u001b[0m \u001b[1;32mif\u001b[0m \u001b[0mx\u001b[0m \u001b[1;32mis\u001b[0m \u001b[1;32mnot\u001b[0m \u001b[0mNone\u001b[0m \u001b[1;32melse\u001b[0m \u001b[0mframe\u001b[0m\u001b[1;33m.\u001b[0m\u001b[0mindex\u001b[0m\u001b[1;33m.\u001b[0m\u001b[0mname\u001b[0m\u001b[1;33m\u001b[0m\u001b[0m\n\u001b[0;32m   2136\u001b[0m             \u001b[0mlabel\u001b[0m \u001b[1;33m=\u001b[0m \u001b[0mkwds\u001b[0m\u001b[1;33m.\u001b[0m\u001b[0mpop\u001b[0m\u001b[1;33m(\u001b[0m\u001b[1;34m'label'\u001b[0m\u001b[1;33m,\u001b[0m \u001b[0mlabel\u001b[0m\u001b[1;33m)\u001b[0m\u001b[1;33m\u001b[0m\u001b[0m\n\u001b[1;32m-> 2137\u001b[1;33m             \u001b[0mser\u001b[0m \u001b[1;33m=\u001b[0m \u001b[0mframe\u001b[0m\u001b[1;33m[\u001b[0m\u001b[0my\u001b[0m\u001b[1;33m]\u001b[0m\u001b[1;33m\u001b[0m\u001b[0m\n\u001b[0m\u001b[0;32m   2138\u001b[0m             \u001b[0mser\u001b[0m\u001b[1;33m.\u001b[0m\u001b[0mindex\u001b[0m\u001b[1;33m.\u001b[0m\u001b[0mname\u001b[0m \u001b[1;33m=\u001b[0m \u001b[0mlabel\u001b[0m\u001b[1;33m\u001b[0m\u001b[0m\n\u001b[0;32m   2139\u001b[0m \u001b[1;33m\u001b[0m\u001b[0m\n",
        "\u001b[1;32mC:\\Users\\selah\\AppData\\Local\\Continuum\\Anaconda\\lib\\site-packages\\pandas\\core\\frame.pyc\u001b[0m in \u001b[0;36m__getitem__\u001b[1;34m(self, key)\u001b[0m\n\u001b[0;32m   1676\u001b[0m             \u001b[1;32mreturn\u001b[0m \u001b[0mself\u001b[0m\u001b[1;33m.\u001b[0m\u001b[0m_getitem_multilevel\u001b[0m\u001b[1;33m(\u001b[0m\u001b[0mkey\u001b[0m\u001b[1;33m)\u001b[0m\u001b[1;33m\u001b[0m\u001b[0m\n\u001b[0;32m   1677\u001b[0m         \u001b[1;32melse\u001b[0m\u001b[1;33m:\u001b[0m\u001b[1;33m\u001b[0m\u001b[0m\n\u001b[1;32m-> 1678\u001b[1;33m             \u001b[1;32mreturn\u001b[0m \u001b[0mself\u001b[0m\u001b[1;33m.\u001b[0m\u001b[0m_getitem_column\u001b[0m\u001b[1;33m(\u001b[0m\u001b[0mkey\u001b[0m\u001b[1;33m)\u001b[0m\u001b[1;33m\u001b[0m\u001b[0m\n\u001b[0m\u001b[0;32m   1679\u001b[0m \u001b[1;33m\u001b[0m\u001b[0m\n\u001b[0;32m   1680\u001b[0m     \u001b[1;32mdef\u001b[0m \u001b[0m_getitem_column\u001b[0m\u001b[1;33m(\u001b[0m\u001b[0mself\u001b[0m\u001b[1;33m,\u001b[0m \u001b[0mkey\u001b[0m\u001b[1;33m)\u001b[0m\u001b[1;33m:\u001b[0m\u001b[1;33m\u001b[0m\u001b[0m\n",
        "\u001b[1;32mC:\\Users\\selah\\AppData\\Local\\Continuum\\Anaconda\\lib\\site-packages\\pandas\\core\\frame.pyc\u001b[0m in \u001b[0;36m_getitem_column\u001b[1;34m(self, key)\u001b[0m\n\u001b[0;32m   1683\u001b[0m         \u001b[1;31m# get column\u001b[0m\u001b[1;33m\u001b[0m\u001b[1;33m\u001b[0m\u001b[0m\n\u001b[0;32m   1684\u001b[0m         \u001b[1;32mif\u001b[0m \u001b[0mself\u001b[0m\u001b[1;33m.\u001b[0m\u001b[0mcolumns\u001b[0m\u001b[1;33m.\u001b[0m\u001b[0mis_unique\u001b[0m\u001b[1;33m:\u001b[0m\u001b[1;33m\u001b[0m\u001b[0m\n\u001b[1;32m-> 1685\u001b[1;33m             \u001b[1;32mreturn\u001b[0m \u001b[0mself\u001b[0m\u001b[1;33m.\u001b[0m\u001b[0m_get_item_cache\u001b[0m\u001b[1;33m(\u001b[0m\u001b[0mkey\u001b[0m\u001b[1;33m)\u001b[0m\u001b[1;33m\u001b[0m\u001b[0m\n\u001b[0m\u001b[0;32m   1686\u001b[0m \u001b[1;33m\u001b[0m\u001b[0m\n\u001b[0;32m   1687\u001b[0m         \u001b[1;31m# duplicate columns & possible reduce dimensionaility\u001b[0m\u001b[1;33m\u001b[0m\u001b[1;33m\u001b[0m\u001b[0m\n",
        "\u001b[1;32mC:\\Users\\selah\\AppData\\Local\\Continuum\\Anaconda\\lib\\site-packages\\pandas\\core\\generic.pyc\u001b[0m in \u001b[0;36m_get_item_cache\u001b[1;34m(self, item)\u001b[0m\n\u001b[0;32m   1050\u001b[0m         \u001b[0mres\u001b[0m \u001b[1;33m=\u001b[0m \u001b[0mcache\u001b[0m\u001b[1;33m.\u001b[0m\u001b[0mget\u001b[0m\u001b[1;33m(\u001b[0m\u001b[0mitem\u001b[0m\u001b[1;33m)\u001b[0m\u001b[1;33m\u001b[0m\u001b[0m\n\u001b[0;32m   1051\u001b[0m         \u001b[1;32mif\u001b[0m \u001b[0mres\u001b[0m \u001b[1;32mis\u001b[0m \u001b[0mNone\u001b[0m\u001b[1;33m:\u001b[0m\u001b[1;33m\u001b[0m\u001b[0m\n\u001b[1;32m-> 1052\u001b[1;33m             \u001b[0mvalues\u001b[0m \u001b[1;33m=\u001b[0m \u001b[0mself\u001b[0m\u001b[1;33m.\u001b[0m\u001b[0m_data\u001b[0m\u001b[1;33m.\u001b[0m\u001b[0mget\u001b[0m\u001b[1;33m(\u001b[0m\u001b[0mitem\u001b[0m\u001b[1;33m)\u001b[0m\u001b[1;33m\u001b[0m\u001b[0m\n\u001b[0m\u001b[0;32m   1053\u001b[0m             \u001b[0mres\u001b[0m \u001b[1;33m=\u001b[0m \u001b[0mself\u001b[0m\u001b[1;33m.\u001b[0m\u001b[0m_box_item_values\u001b[0m\u001b[1;33m(\u001b[0m\u001b[0mitem\u001b[0m\u001b[1;33m,\u001b[0m \u001b[0mvalues\u001b[0m\u001b[1;33m)\u001b[0m\u001b[1;33m\u001b[0m\u001b[0m\n\u001b[0;32m   1054\u001b[0m             \u001b[0mcache\u001b[0m\u001b[1;33m[\u001b[0m\u001b[0mitem\u001b[0m\u001b[1;33m]\u001b[0m \u001b[1;33m=\u001b[0m \u001b[0mres\u001b[0m\u001b[1;33m\u001b[0m\u001b[0m\n",
        "\u001b[1;32mC:\\Users\\selah\\AppData\\Local\\Continuum\\Anaconda\\lib\\site-packages\\pandas\\core\\internals.pyc\u001b[0m in \u001b[0;36mget\u001b[1;34m(self, item, fastpath)\u001b[0m\n\u001b[0;32m   2563\u001b[0m \u001b[1;33m\u001b[0m\u001b[0m\n\u001b[0;32m   2564\u001b[0m             \u001b[1;32mif\u001b[0m \u001b[1;32mnot\u001b[0m \u001b[0misnull\u001b[0m\u001b[1;33m(\u001b[0m\u001b[0mitem\u001b[0m\u001b[1;33m)\u001b[0m\u001b[1;33m:\u001b[0m\u001b[1;33m\u001b[0m\u001b[0m\n\u001b[1;32m-> 2565\u001b[1;33m                 \u001b[0mloc\u001b[0m \u001b[1;33m=\u001b[0m \u001b[0mself\u001b[0m\u001b[1;33m.\u001b[0m\u001b[0mitems\u001b[0m\u001b[1;33m.\u001b[0m\u001b[0mget_loc\u001b[0m\u001b[1;33m(\u001b[0m\u001b[0mitem\u001b[0m\u001b[1;33m)\u001b[0m\u001b[1;33m\u001b[0m\u001b[0m\n\u001b[0m\u001b[0;32m   2566\u001b[0m             \u001b[1;32melse\u001b[0m\u001b[1;33m:\u001b[0m\u001b[1;33m\u001b[0m\u001b[0m\n\u001b[0;32m   2567\u001b[0m                 \u001b[0mindexer\u001b[0m \u001b[1;33m=\u001b[0m \u001b[0mnp\u001b[0m\u001b[1;33m.\u001b[0m\u001b[0marange\u001b[0m\u001b[1;33m(\u001b[0m\u001b[0mlen\u001b[0m\u001b[1;33m(\u001b[0m\u001b[0mself\u001b[0m\u001b[1;33m.\u001b[0m\u001b[0mitems\u001b[0m\u001b[1;33m)\u001b[0m\u001b[1;33m)\u001b[0m\u001b[1;33m[\u001b[0m\u001b[0misnull\u001b[0m\u001b[1;33m(\u001b[0m\u001b[0mself\u001b[0m\u001b[1;33m.\u001b[0m\u001b[0mitems\u001b[0m\u001b[1;33m)\u001b[0m\u001b[1;33m]\u001b[0m\u001b[1;33m\u001b[0m\u001b[0m\n",
        "\u001b[1;32mC:\\Users\\selah\\AppData\\Local\\Continuum\\Anaconda\\lib\\site-packages\\pandas\\core\\index.pyc\u001b[0m in \u001b[0;36mget_loc\u001b[1;34m(self, key)\u001b[0m\n\u001b[0;32m   1179\u001b[0m         \u001b[0mloc\u001b[0m \u001b[1;33m:\u001b[0m \u001b[0mint\u001b[0m \u001b[1;32mif\u001b[0m \u001b[0munique\u001b[0m \u001b[0mindex\u001b[0m\u001b[1;33m,\u001b[0m \u001b[0mpossibly\u001b[0m \u001b[0mslice\u001b[0m \u001b[1;32mor\u001b[0m \u001b[0mmask\u001b[0m \u001b[1;32mif\u001b[0m \u001b[1;32mnot\u001b[0m\u001b[1;33m\u001b[0m\u001b[0m\n\u001b[0;32m   1180\u001b[0m         \"\"\"\n\u001b[1;32m-> 1181\u001b[1;33m         \u001b[1;32mreturn\u001b[0m \u001b[0mself\u001b[0m\u001b[1;33m.\u001b[0m\u001b[0m_engine\u001b[0m\u001b[1;33m.\u001b[0m\u001b[0mget_loc\u001b[0m\u001b[1;33m(\u001b[0m\u001b[0m_values_from_object\u001b[0m\u001b[1;33m(\u001b[0m\u001b[0mkey\u001b[0m\u001b[1;33m)\u001b[0m\u001b[1;33m)\u001b[0m\u001b[1;33m\u001b[0m\u001b[0m\n\u001b[0m\u001b[0;32m   1182\u001b[0m \u001b[1;33m\u001b[0m\u001b[0m\n\u001b[0;32m   1183\u001b[0m     \u001b[1;32mdef\u001b[0m \u001b[0mget_value\u001b[0m\u001b[1;33m(\u001b[0m\u001b[0mself\u001b[0m\u001b[1;33m,\u001b[0m \u001b[0mseries\u001b[0m\u001b[1;33m,\u001b[0m \u001b[0mkey\u001b[0m\u001b[1;33m)\u001b[0m\u001b[1;33m:\u001b[0m\u001b[1;33m\u001b[0m\u001b[0m\n",
        "\u001b[1;32mC:\\Users\\selah\\AppData\\Local\\Continuum\\Anaconda\\lib\\site-packages\\pandas\\index.pyd\u001b[0m in \u001b[0;36mpandas.index.IndexEngine.get_loc (pandas\\index.c:3656)\u001b[1;34m()\u001b[0m\n",
        "\u001b[1;32mC:\\Users\\selah\\AppData\\Local\\Continuum\\Anaconda\\lib\\site-packages\\pandas\\index.pyd\u001b[0m in \u001b[0;36mpandas.index.IndexEngine.get_loc (pandas\\index.c:3534)\u001b[1;34m()\u001b[0m\n",
        "\u001b[1;32mC:\\Users\\selah\\AppData\\Local\\Continuum\\Anaconda\\lib\\site-packages\\pandas\\hashtable.pyd\u001b[0m in \u001b[0;36mpandas.hashtable.PyObjectHashTable.get_item (pandas\\hashtable.c:11911)\u001b[1;34m()\u001b[0m\n",
        "\u001b[1;32mC:\\Users\\selah\\AppData\\Local\\Continuum\\Anaconda\\lib\\site-packages\\pandas\\hashtable.pyd\u001b[0m in \u001b[0;36mpandas.hashtable.PyObjectHashTable.get_item (pandas\\hashtable.c:11864)\u001b[1;34m()\u001b[0m\n",
        "\u001b[1;31mKeyError\u001b[0m: 'neighborhood'"
       ]
      }
     ],
     "prompt_number": 255
    },
    {
     "cell_type": "markdown",
     "metadata": {},
     "source": [
      "##Part 2 - Develop a data set"
     ]
    },
    {
     "cell_type": "code",
     "collapsed": false,
     "input": [
      "listings.info()"
     ],
     "language": "python",
     "metadata": {},
     "outputs": [
      {
       "output_type": "stream",
       "stream": "stdout",
       "text": [
        "<class 'pandas.core.frame.DataFrame'>\n",
        "Int64Index: 408 entries, 0 to 407\n",
        "Data columns (total 8 columns):\n",
        "prop_id               408 non-null int64\n",
        "prop_type             408 non-null object\n",
        "neighborhood          408 non-null object\n",
        "price                 408 non-null int64\n",
        "person_capacity       408 non-null int64\n",
        "picture_count         408 non-null int64\n",
        "description_length    408 non-null int64\n",
        "tenure_months         408 non-null int64\n",
        "dtypes: int64(6), object(2)"
       ]
      }
     ],
     "prompt_number": 256
    },
    {
     "cell_type": "markdown",
     "metadata": {},
     "source": [
      "###Add the columns `number_of_bookings` and `booking_rate` (number_of_bookings/tenure_months) to your `listings` data frame"
     ]
    },
    {
     "cell_type": "code",
     "collapsed": false,
     "input": [
      "total_book = bookings.groupby('prop_id').count().reset_index()\n",
      "\n",
      "total_book.rename(columns = {'booking_date' : 'number_of_bookings'}, inplace = True)\n",
      "\n",
      "total_book\n",
      "\n",
      "\n",
      "# listings['e'] = Series(np.random.randn(sLength), index=df1.index)\n"
     ],
     "language": "python",
     "metadata": {},
     "outputs": [
      {
       "html": [
        "<div style=\"max-height:1000px;max-width:1500px;overflow:auto;\">\n",
        "<table border=\"1\" class=\"dataframe\">\n",
        "  <thead>\n",
        "    <tr style=\"text-align: right;\">\n",
        "      <th></th>\n",
        "      <th>prop_id</th>\n",
        "      <th>number_of_bookings</th>\n",
        "    </tr>\n",
        "  </thead>\n",
        "  <tbody>\n",
        "    <tr>\n",
        "      <th>0  </th>\n",
        "      <td>   1</td>\n",
        "      <td>  4</td>\n",
        "    </tr>\n",
        "    <tr>\n",
        "      <th>1  </th>\n",
        "      <td>   3</td>\n",
        "      <td>  1</td>\n",
        "    </tr>\n",
        "    <tr>\n",
        "      <th>2  </th>\n",
        "      <td>   4</td>\n",
        "      <td> 27</td>\n",
        "    </tr>\n",
        "    <tr>\n",
        "      <th>3  </th>\n",
        "      <td>   6</td>\n",
        "      <td> 88</td>\n",
        "    </tr>\n",
        "    <tr>\n",
        "      <th>4  </th>\n",
        "      <td>   7</td>\n",
        "      <td>  2</td>\n",
        "    </tr>\n",
        "    <tr>\n",
        "      <th>...</th>\n",
        "      <td>...</td>\n",
        "      <td>...</td>\n",
        "    </tr>\n",
        "    <tr>\n",
        "      <th>323</th>\n",
        "      <td> 404</td>\n",
        "      <td>  3</td>\n",
        "    </tr>\n",
        "    <tr>\n",
        "      <th>324</th>\n",
        "      <td> 405</td>\n",
        "      <td> 19</td>\n",
        "    </tr>\n",
        "    <tr>\n",
        "      <th>325</th>\n",
        "      <td> 406</td>\n",
        "      <td> 19</td>\n",
        "    </tr>\n",
        "    <tr>\n",
        "      <th>326</th>\n",
        "      <td> 407</td>\n",
        "      <td> 15</td>\n",
        "    </tr>\n",
        "    <tr>\n",
        "      <th>327</th>\n",
        "      <td> 408</td>\n",
        "      <td> 54</td>\n",
        "    </tr>\n",
        "  </tbody>\n",
        "</table>\n",
        "<p>328 rows \u00d7 2 columns</p>\n",
        "</div>"
       ],
       "metadata": {},
       "output_type": "pyout",
       "prompt_number": 257,
       "text": [
        "     prop_id  number_of_bookings\n",
        "0          1                   4\n",
        "1          3                   1\n",
        "2          4                  27\n",
        "3          6                  88\n",
        "4          7                   2\n",
        "..       ...                 ...\n",
        "323      404                   3\n",
        "324      405                  19\n",
        "325      406                  19\n",
        "326      407                  15\n",
        "327      408                  54\n",
        "\n",
        "[328 rows x 2 columns]"
       ]
      }
     ],
     "prompt_number": 257
    },
    {
     "cell_type": "code",
     "collapsed": false,
     "input": [
      "listings = listings.merge(total_book, on = 'prop_id', how = 'left')"
     ],
     "language": "python",
     "metadata": {},
     "outputs": [],
     "prompt_number": 258
    },
    {
     "cell_type": "code",
     "collapsed": false,
     "input": [
      "listings.number_of_bookings.fillna(0, inplace = True)"
     ],
     "language": "python",
     "metadata": {},
     "outputs": [],
     "prompt_number": 259
    },
    {
     "cell_type": "code",
     "collapsed": false,
     "input": [
      "listings.head()"
     ],
     "language": "python",
     "metadata": {},
     "outputs": [
      {
       "html": [
        "<div style=\"max-height:1000px;max-width:1500px;overflow:auto;\">\n",
        "<table border=\"1\" class=\"dataframe\">\n",
        "  <thead>\n",
        "    <tr style=\"text-align: right;\">\n",
        "      <th></th>\n",
        "      <th>prop_id</th>\n",
        "      <th>prop_type</th>\n",
        "      <th>neighborhood</th>\n",
        "      <th>price</th>\n",
        "      <th>person_capacity</th>\n",
        "      <th>picture_count</th>\n",
        "      <th>description_length</th>\n",
        "      <th>tenure_months</th>\n",
        "      <th>number_of_bookings</th>\n",
        "    </tr>\n",
        "  </thead>\n",
        "  <tbody>\n",
        "    <tr>\n",
        "      <th>0</th>\n",
        "      <td> 1</td>\n",
        "      <td> Property type 1</td>\n",
        "      <td> Neighborhood 14</td>\n",
        "      <td> 140</td>\n",
        "      <td> 3</td>\n",
        "      <td> 11</td>\n",
        "      <td> 232</td>\n",
        "      <td> 30</td>\n",
        "      <td>  4</td>\n",
        "    </tr>\n",
        "    <tr>\n",
        "      <th>1</th>\n",
        "      <td> 2</td>\n",
        "      <td> Property type 1</td>\n",
        "      <td> Neighborhood 14</td>\n",
        "      <td>  95</td>\n",
        "      <td> 2</td>\n",
        "      <td>  3</td>\n",
        "      <td>  37</td>\n",
        "      <td> 29</td>\n",
        "      <td>  0</td>\n",
        "    </tr>\n",
        "    <tr>\n",
        "      <th>2</th>\n",
        "      <td> 3</td>\n",
        "      <td> Property type 2</td>\n",
        "      <td> Neighborhood 16</td>\n",
        "      <td>  95</td>\n",
        "      <td> 2</td>\n",
        "      <td> 16</td>\n",
        "      <td> 172</td>\n",
        "      <td> 29</td>\n",
        "      <td>  1</td>\n",
        "    </tr>\n",
        "    <tr>\n",
        "      <th>3</th>\n",
        "      <td> 4</td>\n",
        "      <td> Property type 2</td>\n",
        "      <td> Neighborhood 13</td>\n",
        "      <td>  90</td>\n",
        "      <td> 2</td>\n",
        "      <td> 19</td>\n",
        "      <td> 472</td>\n",
        "      <td> 28</td>\n",
        "      <td> 27</td>\n",
        "    </tr>\n",
        "    <tr>\n",
        "      <th>4</th>\n",
        "      <td> 5</td>\n",
        "      <td> Property type 1</td>\n",
        "      <td> Neighborhood 15</td>\n",
        "      <td> 125</td>\n",
        "      <td> 5</td>\n",
        "      <td> 21</td>\n",
        "      <td> 442</td>\n",
        "      <td> 28</td>\n",
        "      <td>  0</td>\n",
        "    </tr>\n",
        "  </tbody>\n",
        "</table>\n",
        "</div>"
       ],
       "metadata": {},
       "output_type": "pyout",
       "prompt_number": 260,
       "text": [
        "   prop_id        prop_type     neighborhood  price  person_capacity  \\\n",
        "0        1  Property type 1  Neighborhood 14    140                3   \n",
        "1        2  Property type 1  Neighborhood 14     95                2   \n",
        "2        3  Property type 2  Neighborhood 16     95                2   \n",
        "3        4  Property type 2  Neighborhood 13     90                2   \n",
        "4        5  Property type 1  Neighborhood 15    125                5   \n",
        "\n",
        "   picture_count  description_length  tenure_months  number_of_bookings  \n",
        "0             11                 232             30                   4  \n",
        "1              3                  37             29                   0  \n",
        "2             16                 172             29                   1  \n",
        "3             19                 472             28                  27  \n",
        "4             21                 442             28                   0  "
       ]
      }
     ],
     "prompt_number": 260
    },
    {
     "cell_type": "code",
     "collapsed": false,
     "input": [
      "listings['booking_rate'] = listings['number_of_bookings']/listings['tenure_months']\n",
      "\n",
      "listings"
     ],
     "language": "python",
     "metadata": {},
     "outputs": [
      {
       "html": [
        "<div style=\"max-height:1000px;max-width:1500px;overflow:auto;\">\n",
        "<table border=\"1\" class=\"dataframe\">\n",
        "  <thead>\n",
        "    <tr style=\"text-align: right;\">\n",
        "      <th></th>\n",
        "      <th>prop_id</th>\n",
        "      <th>prop_type</th>\n",
        "      <th>neighborhood</th>\n",
        "      <th>price</th>\n",
        "      <th>person_capacity</th>\n",
        "      <th>picture_count</th>\n",
        "      <th>description_length</th>\n",
        "      <th>tenure_months</th>\n",
        "      <th>number_of_bookings</th>\n",
        "      <th>booking_rate</th>\n",
        "    </tr>\n",
        "  </thead>\n",
        "  <tbody>\n",
        "    <tr>\n",
        "      <th>0  </th>\n",
        "      <td>   1</td>\n",
        "      <td> Property type 1</td>\n",
        "      <td> Neighborhood 14</td>\n",
        "      <td> 140</td>\n",
        "      <td> 3</td>\n",
        "      <td> 11</td>\n",
        "      <td>  232</td>\n",
        "      <td> 30</td>\n",
        "      <td>  4</td>\n",
        "      <td>  0.133333</td>\n",
        "    </tr>\n",
        "    <tr>\n",
        "      <th>1  </th>\n",
        "      <td>   2</td>\n",
        "      <td> Property type 1</td>\n",
        "      <td> Neighborhood 14</td>\n",
        "      <td>  95</td>\n",
        "      <td> 2</td>\n",
        "      <td>  3</td>\n",
        "      <td>   37</td>\n",
        "      <td> 29</td>\n",
        "      <td>  0</td>\n",
        "      <td>  0.000000</td>\n",
        "    </tr>\n",
        "    <tr>\n",
        "      <th>2  </th>\n",
        "      <td>   3</td>\n",
        "      <td> Property type 2</td>\n",
        "      <td> Neighborhood 16</td>\n",
        "      <td>  95</td>\n",
        "      <td> 2</td>\n",
        "      <td> 16</td>\n",
        "      <td>  172</td>\n",
        "      <td> 29</td>\n",
        "      <td>  1</td>\n",
        "      <td>  0.034483</td>\n",
        "    </tr>\n",
        "    <tr>\n",
        "      <th>3  </th>\n",
        "      <td>   4</td>\n",
        "      <td> Property type 2</td>\n",
        "      <td> Neighborhood 13</td>\n",
        "      <td>  90</td>\n",
        "      <td> 2</td>\n",
        "      <td> 19</td>\n",
        "      <td>  472</td>\n",
        "      <td> 28</td>\n",
        "      <td> 27</td>\n",
        "      <td>  0.964286</td>\n",
        "    </tr>\n",
        "    <tr>\n",
        "      <th>4  </th>\n",
        "      <td>   5</td>\n",
        "      <td> Property type 1</td>\n",
        "      <td> Neighborhood 15</td>\n",
        "      <td> 125</td>\n",
        "      <td> 5</td>\n",
        "      <td> 21</td>\n",
        "      <td>  442</td>\n",
        "      <td> 28</td>\n",
        "      <td>  0</td>\n",
        "      <td>  0.000000</td>\n",
        "    </tr>\n",
        "    <tr>\n",
        "      <th>...</th>\n",
        "      <td>...</td>\n",
        "      <td>...</td>\n",
        "      <td>...</td>\n",
        "      <td>...</td>\n",
        "      <td>...</td>\n",
        "      <td>...</td>\n",
        "      <td>...</td>\n",
        "      <td>...</td>\n",
        "      <td>...</td>\n",
        "      <td>...</td>\n",
        "    </tr>\n",
        "    <tr>\n",
        "      <th>403</th>\n",
        "      <td> 404</td>\n",
        "      <td> Property type 2</td>\n",
        "      <td> Neighborhood 14</td>\n",
        "      <td> 100</td>\n",
        "      <td> 1</td>\n",
        "      <td>  8</td>\n",
        "      <td>  235</td>\n",
        "      <td>  1</td>\n",
        "      <td>  3</td>\n",
        "      <td>  3.000000</td>\n",
        "    </tr>\n",
        "    <tr>\n",
        "      <th>404</th>\n",
        "      <td> 405</td>\n",
        "      <td> Property type 2</td>\n",
        "      <td> Neighborhood 13</td>\n",
        "      <td>  85</td>\n",
        "      <td> 2</td>\n",
        "      <td> 27</td>\n",
        "      <td> 1048</td>\n",
        "      <td>  1</td>\n",
        "      <td> 19</td>\n",
        "      <td> 19.000000</td>\n",
        "    </tr>\n",
        "    <tr>\n",
        "      <th>405</th>\n",
        "      <td> 406</td>\n",
        "      <td> Property type 1</td>\n",
        "      <td>  Neighborhood 9</td>\n",
        "      <td>  70</td>\n",
        "      <td> 3</td>\n",
        "      <td> 18</td>\n",
        "      <td>  153</td>\n",
        "      <td>  1</td>\n",
        "      <td> 19</td>\n",
        "      <td> 19.000000</td>\n",
        "    </tr>\n",
        "    <tr>\n",
        "      <th>406</th>\n",
        "      <td> 407</td>\n",
        "      <td> Property type 1</td>\n",
        "      <td> Neighborhood 13</td>\n",
        "      <td> 129</td>\n",
        "      <td> 2</td>\n",
        "      <td> 13</td>\n",
        "      <td>  370</td>\n",
        "      <td>  1</td>\n",
        "      <td> 15</td>\n",
        "      <td> 15.000000</td>\n",
        "    </tr>\n",
        "    <tr>\n",
        "      <th>407</th>\n",
        "      <td> 408</td>\n",
        "      <td> Property type 1</td>\n",
        "      <td> Neighborhood 14</td>\n",
        "      <td> 100</td>\n",
        "      <td> 3</td>\n",
        "      <td> 21</td>\n",
        "      <td>  707</td>\n",
        "      <td>  1</td>\n",
        "      <td> 54</td>\n",
        "      <td> 54.000000</td>\n",
        "    </tr>\n",
        "  </tbody>\n",
        "</table>\n",
        "<p>408 rows \u00d7 10 columns</p>\n",
        "</div>"
       ],
       "metadata": {},
       "output_type": "pyout",
       "prompt_number": 261,
       "text": [
        "     prop_id        prop_type     neighborhood  price  person_capacity  \\\n",
        "0          1  Property type 1  Neighborhood 14    140                3   \n",
        "1          2  Property type 1  Neighborhood 14     95                2   \n",
        "2          3  Property type 2  Neighborhood 16     95                2   \n",
        "3          4  Property type 2  Neighborhood 13     90                2   \n",
        "4          5  Property type 1  Neighborhood 15    125                5   \n",
        "..       ...              ...              ...    ...              ...   \n",
        "403      404  Property type 2  Neighborhood 14    100                1   \n",
        "404      405  Property type 2  Neighborhood 13     85                2   \n",
        "405      406  Property type 1   Neighborhood 9     70                3   \n",
        "406      407  Property type 1  Neighborhood 13    129                2   \n",
        "407      408  Property type 1  Neighborhood 14    100                3   \n",
        "\n",
        "     picture_count  description_length  tenure_months  number_of_bookings  \\\n",
        "0               11                 232             30                   4   \n",
        "1                3                  37             29                   0   \n",
        "2               16                 172             29                   1   \n",
        "3               19                 472             28                  27   \n",
        "4               21                 442             28                   0   \n",
        "..             ...                 ...            ...                 ...   \n",
        "403              8                 235              1                   3   \n",
        "404             27                1048              1                  19   \n",
        "405             18                 153              1                  19   \n",
        "406             13                 370              1                  15   \n",
        "407             21                 707              1                  54   \n",
        "\n",
        "     booking_rate  \n",
        "0        0.133333  \n",
        "1        0.000000  \n",
        "2        0.034483  \n",
        "3        0.964286  \n",
        "4        0.000000  \n",
        "..            ...  \n",
        "403      3.000000  \n",
        "404     19.000000  \n",
        "405     19.000000  \n",
        "406     15.000000  \n",
        "407     54.000000  \n",
        "\n",
        "[408 rows x 10 columns]"
       ]
      }
     ],
     "prompt_number": 261
    },
    {
     "cell_type": "markdown",
     "metadata": {},
     "source": [
      "###We only want to analyze well established properties, so let's filter out any properties that have a tenure less than 10 months "
     ]
    },
    {
     "cell_type": "code",
     "collapsed": false,
     "input": [
      "listings = listings[listings.tenure_months >= 10]\n",
      "listings.info()"
     ],
     "language": "python",
     "metadata": {},
     "outputs": [
      {
       "output_type": "stream",
       "stream": "stdout",
       "text": [
        "<class 'pandas.core.frame.DataFrame'>\n",
        "Int64Index: 144 entries, 0 to 143\n",
        "Data columns (total 10 columns):\n",
        "prop_id               144 non-null int64\n",
        "prop_type             144 non-null object\n",
        "neighborhood          144 non-null object\n",
        "price                 144 non-null int64\n",
        "person_capacity       144 non-null int64\n",
        "picture_count         144 non-null int64\n",
        "description_length    144 non-null int64\n",
        "tenure_months         144 non-null int64\n",
        "number_of_bookings    144 non-null float64\n",
        "booking_rate          144 non-null float64\n",
        "dtypes: float64(2), int64(6), object(2)"
       ]
      }
     ],
     "prompt_number": 268
    },
    {
     "cell_type": "markdown",
     "metadata": {},
     "source": [
      "###`prop_type` and `neighborhood` are categorical variables, use `get_dummies()` (http://pandas.pydata.org/pandas-docs/stable/generated/pandas.core.reshape.get_dummies.html) to transform this column of categorical data to many columns of boolean values (after applying this function correctly there should be 1 column for every prop_type and 1 column for every neighborhood category."
     ]
    },
    {
     "cell_type": "code",
     "collapsed": false,
     "input": [
      "dummy_prop = pd.get_dummies(listings['prop_type'])\n",
      "dummy_nay = pd.get_dummies(listings['neighborhood'])\n",
      "listings_prop = listings.join([dummy_prop, dummy_nay])\n"
     ],
     "language": "python",
     "metadata": {},
     "outputs": [],
     "prompt_number": 273
    },
    {
     "cell_type": "code",
     "collapsed": false,
     "input": [
      "listings_prop.booking_rate.fillna(0, inplace = True)"
     ],
     "language": "python",
     "metadata": {},
     "outputs": [],
     "prompt_number": 299
    },
    {
     "cell_type": "code",
     "collapsed": false,
     "input": [
      "listings_prop.info()"
     ],
     "language": "python",
     "metadata": {},
     "outputs": [
      {
       "output_type": "stream",
       "stream": "stdout",
       "text": [
        "<class 'pandas.core.frame.DataFrame'>\n",
        "Int64Index: 144 entries, 0 to 143\n",
        "Data columns (total 29 columns):\n",
        "prop_id               144 non-null int64\n",
        "prop_type             144 non-null object\n",
        "neighborhood          144 non-null object\n",
        "price                 144 non-null int64\n",
        "person_capacity       144 non-null int64\n",
        "picture_count         144 non-null int64\n",
        "description_length    144 non-null int64\n",
        "tenure_months         144 non-null int64\n",
        "number_of_bookings    144 non-null float64\n",
        "booking_rate          144 non-null float64\n",
        "Property type 1       144 non-null float64\n",
        "Property type 2       144 non-null float64\n",
        "Property type 3       144 non-null float64\n",
        "Neighborhood 11       144 non-null float64\n",
        "Neighborhood 12       144 non-null float64\n",
        "Neighborhood 13       144 non-null float64\n",
        "Neighborhood 14       144 non-null float64\n",
        "Neighborhood 15       144 non-null float64\n",
        "Neighborhood 16       144 non-null float64\n",
        "Neighborhood 17       144 non-null float64\n",
        "Neighborhood 18       144 non-null float64\n",
        "Neighborhood 19       144 non-null float64\n",
        "Neighborhood 20       144 non-null float64\n",
        "Neighborhood 21       144 non-null float64\n",
        "Neighborhood 4        144 non-null float64\n",
        "Neighborhood 5        144 non-null float64\n",
        "Neighborhood 7        144 non-null float64\n",
        "Neighborhood 8        144 non-null float64\n",
        "Neighborhood 9        144 non-null float64\n",
        "dtypes: float64(21), int64(6), object(2)"
       ]
      }
     ],
     "prompt_number": 300
    },
    {
     "cell_type": "markdown",
     "metadata": {},
     "source": [
      "###create test and training sets for your regressors and predictors\n",
      "predictor (y) is `booking_rate`, regressors (X) are everything else, except `prop_id`,`booking_rate`,`prop_type`,`neighborhood` and `number_of_bookings`<br>\n",
      "http://scikit-learn.org/stable/modules/generated/sklearn.cross_validation.train_test_split.html<br>\n",
      "http://pandas.pydata.org/pandas-docs/stable/basics.html#dropping-labels-from-an-axis"
     ]
    },
    {
     "cell_type": "code",
     "collapsed": false,
     "input": [
      "from sklearn.cross_validation import train_test_split"
     ],
     "language": "python",
     "metadata": {},
     "outputs": [],
     "prompt_number": 301
    },
    {
     "cell_type": "code",
     "collapsed": false,
     "input": [
      "merged_final = listings_prop.drop(['prop_id', 'prop_type', 'neighborhood', 'number_of_bookings'], axis = 1)\n",
      "features = merged_final.drop(['booking_rate'], axis = 1).values\n",
      "target = merged_final['booking_rate'].values"
     ],
     "language": "python",
     "metadata": {},
     "outputs": [],
     "prompt_number": 302
    },
    {
     "cell_type": "code",
     "collapsed": false,
     "input": [],
     "language": "python",
     "metadata": {},
     "outputs": [
      {
       "ename": "AttributeError",
       "evalue": "'numpy.ndarray' object has no attribute 'fillna'",
       "output_type": "pyerr",
       "traceback": [
        "\u001b[1;31m---------------------------------------------------------------------------\u001b[0m\n\u001b[1;31mAttributeError\u001b[0m                            Traceback (most recent call last)",
        "\u001b[1;32m<ipython-input-304-2f710f4ceb78>\u001b[0m in \u001b[0;36m<module>\u001b[1;34m()\u001b[0m\n\u001b[1;32m----> 1\u001b[1;33m \u001b[0mtarget\u001b[0m\u001b[1;33m.\u001b[0m\u001b[0mfillna\u001b[0m\u001b[1;33m(\u001b[0m\u001b[1;36m0\u001b[0m\u001b[1;33m)\u001b[0m\u001b[1;33m\u001b[0m\u001b[0m\n\u001b[0m",
        "\u001b[1;31mAttributeError\u001b[0m: 'numpy.ndarray' object has no attribute 'fillna'"
       ]
      }
     ],
     "prompt_number": 304
    },
    {
     "cell_type": "code",
     "collapsed": false,
     "input": [
      "feature_train, feature_test, target_train, target_test = train_test_split(features, target, test_size=0.3)"
     ],
     "language": "python",
     "metadata": {},
     "outputs": [],
     "prompt_number": 305
    },
    {
     "cell_type": "code",
     "collapsed": false,
     "input": [
      "target = np.log(target)"
     ],
     "language": "python",
     "metadata": {},
     "outputs": [],
     "prompt_number": 306
    },
    {
     "cell_type": "raw",
     "metadata": {},
     "source": []
    },
    {
     "cell_type": "code",
     "collapsed": false,
     "input": [],
     "language": "python",
     "metadata": {},
     "outputs": [],
     "prompt_number": 306
    },
    {
     "cell_type": "raw",
     "metadata": {},
     "source": []
    },
    {
     "cell_type": "raw",
     "metadata": {},
     "source": []
    },
    {
     "cell_type": "markdown",
     "metadata": {},
     "source": [
      "##Part 3 - Model `booking_rate`"
     ]
    },
    {
     "cell_type": "markdown",
     "metadata": {},
     "source": [
      "###Create a linear regression model of your listings"
     ]
    },
    {
     "cell_type": "code",
     "collapsed": false,
     "input": [
      "from sklearn.linear_model import LinearRegression\n",
      "lr = LinearRegression()"
     ],
     "language": "python",
     "metadata": {},
     "outputs": [],
     "prompt_number": 307
    },
    {
     "cell_type": "code",
     "collapsed": false,
     "input": [
      "lr.fit(feature_train, target_train)"
     ],
     "language": "python",
     "metadata": {},
     "outputs": [
      {
       "metadata": {},
       "output_type": "pyout",
       "prompt_number": 308,
       "text": [
        "LinearRegression(copy_X=True, fit_intercept=True, normalize=False)"
       ]
      }
     ],
     "prompt_number": 308
    },
    {
     "cell_type": "markdown",
     "metadata": {},
     "source": [
      "###fit your model with your test sets"
     ]
    },
    {
     "cell_type": "code",
     "collapsed": false,
     "input": [],
     "language": "python",
     "metadata": {},
     "outputs": []
    },
    {
     "cell_type": "markdown",
     "metadata": {},
     "source": [
      "###report the score\n",
      "http://scikit-learn.org/stable/modules/generated/sklearn.linear_model.LinearRegression.html#sklearn.linear_model.LinearRegression.score"
     ]
    },
    {
     "cell_type": "code",
     "collapsed": false,
     "input": [],
     "language": "python",
     "metadata": {},
     "outputs": []
    },
    {
     "cell_type": "markdown",
     "metadata": {},
     "source": [
      "###Interpret the results of the above model:\n",
      "* What does the `score` method do?\n",
      "* What does this tell us about our model?"
     ]
    },
    {
     "cell_type": "markdown",
     "metadata": {},
     "source": [
      "...type here..."
     ]
    },
    {
     "cell_type": "markdown",
     "metadata": {},
     "source": [
      "##Optional - Iterate\n",
      "Create an alternative predictor (e.g. monthly revenue) and use the same modeling pattern in Part 3 to  "
     ]
    },
    {
     "cell_type": "code",
     "collapsed": false,
     "input": [],
     "language": "python",
     "metadata": {},
     "outputs": []
    }
   ],
   "metadata": {}
  }
 ]
}