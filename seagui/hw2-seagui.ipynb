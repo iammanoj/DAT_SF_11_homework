{
 "metadata": {
  "name": "",
  "signature": "sha256:ebac362895a26ab9dcbb0f399dbf623b78853342e771b960fdfeab8721f361b7"
 },
 "nbformat": 3,
 "nbformat_minor": 0,
 "worksheets": [
  {
   "cells": [
    {
     "cell_type": "code",
     "collapsed": false,
     "input": [
      "import pandas as pd\n",
      "import numpy as np\n",
      "import seaborn as sns\n",
      "import matplotlib.pyplot as plt\n",
      "\n",
      "# This enables inline Plots\n",
      "%matplotlib inline\n",
      "\n",
      "pd.set_option('display.max_rows', 10)"
     ],
     "language": "python",
     "metadata": {},
     "outputs": []
    },
    {
     "cell_type": "code",
     "collapsed": false,
     "input": [
      "credit = pd.read_csv('C:\\Users\\selah\\ga\\DAT_SF_11\\homeworks\\data\\crx.csv', header = None, \n",
      "                     names = ['A1', 'A2', 'A3', 'A4', 'A5', 'A6', 'A7', 'A8', 'A9', 'A10', 'A11', 'A12', 'A13', 'A14', 'A15', 'A16'])"
     ],
     "language": "python",
     "metadata": {},
     "outputs": []
    },
    {
     "cell_type": "code",
     "collapsed": false,
     "input": [
      "print credit"
     ],
     "language": "python",
     "metadata": {},
     "outputs": []
    },
    {
     "cell_type": "code",
     "collapsed": false,
     "input": [
      "credit.info()"
     ],
     "language": "python",
     "metadata": {},
     "outputs": []
    },
    {
     "cell_type": "code",
     "collapsed": false,
     "input": [
      "credit.columns"
     ],
     "language": "python",
     "metadata": {},
     "outputs": []
    },
    {
     "cell_type": "code",
     "collapsed": false,
     "input": [
      "credit.head()"
     ],
     "language": "python",
     "metadata": {},
     "outputs": []
    },
    {
     "cell_type": "code",
     "collapsed": false,
     "input": [
      "credit.info()"
     ],
     "language": "python",
     "metadata": {},
     "outputs": []
    },
    {
     "cell_type": "code",
     "collapsed": false,
     "input": [
      "def recodeA16(sign):\n",
      "        if sign == '+':\n",
      "            return 1\n",
      "        return 0\n",
      "credit['A16R'] = credit['A16'].map(recodeA16).astype(float)\n",
      "credit = credit.drop('A16', axis = 1)"
     ],
     "language": "python",
     "metadata": {},
     "outputs": []
    },
    {
     "cell_type": "code",
     "collapsed": false,
     "input": [
      "#credit['A1': 'A3', 'A4': 'A8', 'A9': 'A11', 'A12':'A15'] = credit['A1': 'A3', 'A4': 'A8', 'A9': 'A11', 'A12':'A15'].astype(float)"
     ],
     "language": "python",
     "metadata": {},
     "outputs": []
    },
    {
     "cell_type": "code",
     "collapsed": false,
     "input": [
      "credit.replace('?', np.NaN, inplace = True)"
     ],
     "language": "python",
     "metadata": {},
     "outputs": []
    },
    {
     "cell_type": "code",
     "collapsed": false,
     "input": [
      "credit.A1.unique()"
     ],
     "language": "python",
     "metadata": {},
     "outputs": []
    },
    {
     "cell_type": "code",
     "collapsed": false,
     "input": [
      "credit.drop(['A4', 'A5', 'A6', 'A7'], axis = 1)"
     ],
     "language": "python",
     "metadata": {},
     "outputs": []
    },
    {
     "cell_type": "code",
     "collapsed": false,
     "input": [
      "credit.A1.unique()"
     ],
     "language": "python",
     "metadata": {},
     "outputs": []
    },
    {
     "cell_type": "code",
     "collapsed": false,
     "input": [
      "def impute_a1(val):\n",
      "    return np.random.choice(['a', 'b'], p=[0.7, 0.3])"
     ],
     "language": "python",
     "metadata": {},
     "outputs": []
    },
    {
     "cell_type": "raw",
     "metadata": {},
     "source": []
    },
    {
     "cell_type": "code",
     "collapsed": false,
     "input": [
      "credit.A1.value_counts()/credit.A1.size"
     ],
     "language": "python",
     "metadata": {},
     "outputs": []
    },
    {
     "cell_type": "code",
     "collapsed": false,
     "input": [
      "def impute_a1(val):\n",
      "    return np.random.choice(['a', 'b'], p = [0.7, 0.3])"
     ],
     "language": "python",
     "metadata": {},
     "outputs": []
    },
    {
     "cell_type": "code",
     "collapsed": false,
     "input": [
      "credit.A1 = credit.A1.map(impute_a1)"
     ],
     "language": "python",
     "metadata": {},
     "outputs": []
    },
    {
     "cell_type": "code",
     "collapsed": false,
     "input": [
      "credit.A1.unique()"
     ],
     "language": "python",
     "metadata": {},
     "outputs": []
    },
    {
     "cell_type": "code",
     "collapsed": false,
     "input": [
      "credit.A5.unique()"
     ],
     "language": "python",
     "metadata": {},
     "outputs": []
    },
    {
     "cell_type": "code",
     "collapsed": false,
     "input": [
      "col_dist = {}\n",
      "def get_col_dist(col_name):\n",
      "    excl_null_mask = credit[col_name] != '?'\n",
      "    row_count = credit[excl_null_mask][col_name].size\n",
      "    col_data = {}\n",
      "    col_data['prob'] = (credit[excl_null_mask][col_name].value_counts() / row_count).values\n",
      "    col_data['values'] = (credit[excl_null_mask][col_name].value_counts() / row_count).index.values\n",
      "    return col_data"
     ],
     "language": "python",
     "metadata": {},
     "outputs": []
    },
    {
     "cell_type": "code",
     "collapsed": false,
     "input": [
      "col_dist['A5'] = get_col_dist('A5')\n",
      "col_dist['A6'] = get_col_dist('A6')\n",
      "col_dist['A7'] = get_col_dist('A7')"
     ],
     "language": "python",
     "metadata": {},
     "outputs": []
    },
    {
     "cell_type": "code",
     "collapsed": false,
     "input": [
      "def impute_cols(val, options):\n",
      "    if val == '?':\n",
      "        return np.random.choice(options['values'], p=options['prob'])\n",
      "    return val"
     ],
     "language": "python",
     "metadata": {},
     "outputs": []
    },
    {
     "cell_type": "code",
     "collapsed": false,
     "input": [
      "def impute_a5(val):\n",
      "    return impute_cols(val, col_dist['A5'])\n",
      "\n",
      "def impute_a6(val):\n",
      "    return impute_cols(val, col_dist['A6'])\n",
      "\n",
      "def impute_a7(val):\n",
      "    return impute_cols(val, col_dist['A7'])"
     ],
     "language": "python",
     "metadata": {},
     "outputs": []
    },
    {
     "cell_type": "code",
     "collapsed": false,
     "input": [
      "credit.A5 = credit.A5.map(impute_a5)\n",
      "credit.A6 = credit.A6.map(impute_a6)\n",
      "credit.A7 = credit.A7.map(impute_a7)\n",
      "# crx_data.A14 = crx_data.A14.map(impute_a14)"
     ],
     "language": "python",
     "metadata": {},
     "outputs": []
    },
    {
     "cell_type": "code",
     "collapsed": false,
     "input": [
      "credit.A6.unique()\n",
      "credit.A7.unique()"
     ],
     "language": "python",
     "metadata": {},
     "outputs": []
    },
    {
     "cell_type": "code",
     "collapsed": false,
     "input": [
      "credit.A2.unique()"
     ],
     "language": "python",
     "metadata": {},
     "outputs": []
    },
    {
     "cell_type": "code",
     "collapsed": false,
     "input": [
      "credit.A2 = credit.A2.replace('?', np.nan)"
     ],
     "language": "python",
     "metadata": {},
     "outputs": []
    },
    {
     "cell_type": "code",
     "collapsed": false,
     "input": [
      "credit.A2 = credit.A2.astype(float)"
     ],
     "language": "python",
     "metadata": {},
     "outputs": []
    },
    {
     "cell_type": "code",
     "collapsed": false,
     "input": [
      "credit.A2.hist()"
     ],
     "language": "python",
     "metadata": {},
     "outputs": []
    },
    {
     "cell_type": "code",
     "collapsed": false,
     "input": [
      "a2_missing_vals = np.random.normal(credit.A2.mean(), credit.A2.std(), 12)\n",
      "credit.loc[credit.A2.isnull(), 'A2'] = a2_missing_vals\n",
      "credit.A2.isnull().sum()"
     ],
     "language": "python",
     "metadata": {},
     "outputs": []
    },
    {
     "cell_type": "code",
     "collapsed": false,
     "input": [
      "def impute_numeric_cols(col_data, col_name):\n",
      "    na_row_count = col_data.isnull().sum()\n",
      "    impute_vals = np.random.normal(col_data.mean(), col_data.std(), na_row_count)\n",
      "    return impute_vals\n",
      "credit['A14'] = credit['A14'].replace('?', np.nan)\n",
      "credit['A14'] = credit['A14'].astype(float)\n",
      "\n",
      "na_rows_mask = credit['A14'].isnull()\n",
      "credit.loc[na_rows_mask, 'A14'] = impute_numeric_cols(credit['A14'], 'A14')"
     ],
     "language": "python",
     "metadata": {},
     "outputs": []
    },
    {
     "cell_type": "code",
     "collapsed": false,
     "input": [
      "credit.head()"
     ],
     "language": "python",
     "metadata": {},
     "outputs": []
    },
    {
     "cell_type": "code",
     "collapsed": false,
     "input": [
      "features = credit.ix[:, 'A1':'A15']\n",
      "target = credit['A16R']"
     ],
     "language": "python",
     "metadata": {},
     "outputs": []
    },
    {
     "cell_type": "code",
     "collapsed": false,
     "input": [
      "# Build X_data (Features) and y_data (target)\n",
      "X_data = pd.get_dummies(features)\n",
      "y_data = target.values"
     ],
     "language": "python",
     "metadata": {},
     "outputs": []
    },
    {
     "cell_type": "code",
     "collapsed": false,
     "input": [
      "X_data"
     ],
     "language": "python",
     "metadata": {},
     "outputs": []
    },
    {
     "cell_type": "code",
     "collapsed": false,
     "input": [
      "from sklearn import linear_model, tree, metrics, cross_validation, grid_search"
     ],
     "language": "python",
     "metadata": {},
     "outputs": []
    },
    {
     "cell_type": "code",
     "collapsed": false,
     "input": [
      "X_train, X_test, y_train, y_test = cross_validation.train_test_split(X_data, y_data, random_state=12, test_size=0.2)"
     ],
     "language": "python",
     "metadata": {},
     "outputs": []
    },
    {
     "cell_type": "code",
     "collapsed": false,
     "input": [
      "clf_lreg = linear_model.LogisticRegression()"
     ],
     "language": "python",
     "metadata": {},
     "outputs": []
    },
    {
     "cell_type": "code",
     "collapsed": false,
     "input": [
      "clf_lreg.fit(X_train, y_train)"
     ],
     "language": "python",
     "metadata": {},
     "outputs": []
    },
    {
     "cell_type": "code",
     "collapsed": false,
     "input": [
      "clf_lreg.score(X_test, y_test)"
     ],
     "language": "python",
     "metadata": {},
     "outputs": []
    },
    {
     "cell_type": "code",
     "collapsed": false,
     "input": [],
     "language": "python",
     "metadata": {},
     "outputs": []
    }
   ],
   "metadata": {}
  }
 ]
}