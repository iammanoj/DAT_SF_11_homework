{
 "metadata": {
  "name": "",
  "signature": "sha256:a012b509c9e70135612a39b84acce98a8ccdf882c03a755fc37ddbf77bcf026b"
 },
 "nbformat": 3,
 "nbformat_minor": 0,
 "worksheets": [
  {
   "cells": [
    {
     "cell_type": "code",
     "collapsed": false,
     "input": [
      "# Homework 2\n",
      "\n",
      "import pandas as pd\n",
      "import numpy as np\n",
      "import seaborn as sns\n",
      "from matplotlib import pyplot as plt\n",
      "from scipy.stats import stats\n",
      "from sklearn.cross_validation import train_test_split\n",
      "from sklearn.svm import LinearSVC as svc\n",
      "from sklearn.svm import SVC\n",
      "from sklearn.grid_search import GridSearchCV as gs\n",
      "from sklearn.linear_model import SGDClassifier as SGD\n",
      "from sklearn.linear_model import LogisticRegression as LR\n",
      "from sklearn.metrics import confusion_matrix, classification_report\n",
      "from sklearn.dummy import DummyClassifier\n",
      "\n",
      "%matplotlib inline\n"
     ],
     "language": "python",
     "metadata": {},
     "outputs": [],
     "prompt_number": 2
    },
    {
     "cell_type": "code",
     "collapsed": false,
     "input": [
      "column_names=[['A'+str(i) for i in range(1,17)]\n",
      "data = pd.read_csv('./crx.data', names=column_names)\n"
     ],
     "language": "python",
     "metadata": {},
     "outputs": [
      {
       "ename": "SyntaxError",
       "evalue": "invalid syntax (<ipython-input-6-4fa65fb1b246>, line 2)",
       "output_type": "pyerr",
       "traceback": [
        "\u001b[0;36m  File \u001b[0;32m\"<ipython-input-6-4fa65fb1b246>\"\u001b[0;36m, line \u001b[0;32m2\u001b[0m\n\u001b[0;31m    data = pd.read_csv('./crx.data', names=column_names)\u001b[0m\n\u001b[0m       ^\u001b[0m\n\u001b[0;31mSyntaxError\u001b[0m\u001b[0;31m:\u001b[0m invalid syntax\n"
       ]
      }
     ],
     "prompt_number": 6
    },
    {
     "cell_type": "code",
     "collapsed": false,
     "input": [
      "data.head()"
     ],
     "language": "python",
     "metadata": {},
     "outputs": [
      {
       "html": [
        "<div style=\"max-height:1000px;max-width:1500px;overflow:auto;\">\n",
        "<table border=\"1\" class=\"dataframe\">\n",
        "  <thead>\n",
        "    <tr style=\"text-align: right;\">\n",
        "      <th></th>\n",
        "      <th>A1</th>\n",
        "      <th>A2</th>\n",
        "      <th>A3</th>\n",
        "      <th>A4</th>\n",
        "      <th>A5</th>\n",
        "      <th>A6</th>\n",
        "      <th>A7</th>\n",
        "      <th>A8</th>\n",
        "      <th>A9</th>\n",
        "      <th>A10</th>\n",
        "      <th>A11</th>\n",
        "      <th>A12</th>\n",
        "      <th>A13</th>\n",
        "      <th>A14</th>\n",
        "      <th>A15</th>\n",
        "      <th>A16</th>\n",
        "    </tr>\n",
        "  </thead>\n",
        "  <tbody>\n",
        "    <tr>\n",
        "      <th>0</th>\n",
        "      <td> b</td>\n",
        "      <td> 30.83</td>\n",
        "      <td> 0.000</td>\n",
        "      <td> u</td>\n",
        "      <td> g</td>\n",
        "      <td> w</td>\n",
        "      <td> v</td>\n",
        "      <td> 1.25</td>\n",
        "      <td> t</td>\n",
        "      <td> t</td>\n",
        "      <td> 1</td>\n",
        "      <td> f</td>\n",
        "      <td> g</td>\n",
        "      <td> 00202</td>\n",
        "      <td>   0</td>\n",
        "      <td> +</td>\n",
        "    </tr>\n",
        "    <tr>\n",
        "      <th>1</th>\n",
        "      <td> a</td>\n",
        "      <td> 58.67</td>\n",
        "      <td> 4.460</td>\n",
        "      <td> u</td>\n",
        "      <td> g</td>\n",
        "      <td> q</td>\n",
        "      <td> h</td>\n",
        "      <td> 3.04</td>\n",
        "      <td> t</td>\n",
        "      <td> t</td>\n",
        "      <td> 6</td>\n",
        "      <td> f</td>\n",
        "      <td> g</td>\n",
        "      <td> 00043</td>\n",
        "      <td> 560</td>\n",
        "      <td> +</td>\n",
        "    </tr>\n",
        "    <tr>\n",
        "      <th>2</th>\n",
        "      <td> a</td>\n",
        "      <td> 24.50</td>\n",
        "      <td> 0.500</td>\n",
        "      <td> u</td>\n",
        "      <td> g</td>\n",
        "      <td> q</td>\n",
        "      <td> h</td>\n",
        "      <td> 1.50</td>\n",
        "      <td> t</td>\n",
        "      <td> f</td>\n",
        "      <td> 0</td>\n",
        "      <td> f</td>\n",
        "      <td> g</td>\n",
        "      <td> 00280</td>\n",
        "      <td> 824</td>\n",
        "      <td> +</td>\n",
        "    </tr>\n",
        "    <tr>\n",
        "      <th>3</th>\n",
        "      <td> b</td>\n",
        "      <td> 27.83</td>\n",
        "      <td> 1.540</td>\n",
        "      <td> u</td>\n",
        "      <td> g</td>\n",
        "      <td> w</td>\n",
        "      <td> v</td>\n",
        "      <td> 3.75</td>\n",
        "      <td> t</td>\n",
        "      <td> t</td>\n",
        "      <td> 5</td>\n",
        "      <td> t</td>\n",
        "      <td> g</td>\n",
        "      <td> 00100</td>\n",
        "      <td>   3</td>\n",
        "      <td> +</td>\n",
        "    </tr>\n",
        "    <tr>\n",
        "      <th>4</th>\n",
        "      <td> b</td>\n",
        "      <td> 20.17</td>\n",
        "      <td> 5.625</td>\n",
        "      <td> u</td>\n",
        "      <td> g</td>\n",
        "      <td> w</td>\n",
        "      <td> v</td>\n",
        "      <td> 1.71</td>\n",
        "      <td> t</td>\n",
        "      <td> f</td>\n",
        "      <td> 0</td>\n",
        "      <td> f</td>\n",
        "      <td> s</td>\n",
        "      <td> 00120</td>\n",
        "      <td>   0</td>\n",
        "      <td> +</td>\n",
        "    </tr>\n",
        "  </tbody>\n",
        "</table>\n",
        "</div>"
       ],
       "metadata": {},
       "output_type": "pyout",
       "prompt_number": 7,
       "text": [
        "  A1     A2     A3 A4 A5 A6 A7    A8 A9 A10  A11 A12 A13    A14  A15 A16\n",
        "0  b  30.83  0.000  u  g  w  v  1.25  t   t    1   f   g  00202    0   +\n",
        "1  a  58.67  4.460  u  g  q  h  3.04  t   t    6   f   g  00043  560   +\n",
        "2  a  24.50  0.500  u  g  q  h  1.50  t   f    0   f   g  00280  824   +\n",
        "3  b  27.83  1.540  u  g  w  v  3.75  t   t    5   t   g  00100    3   +\n",
        "4  b  20.17  5.625  u  g  w  v  1.71  t   f    0   f   s  00120    0   +"
       ]
      }
     ],
     "prompt_number": 7
    },
    {
     "cell_type": "code",
     "collapsed": false,
     "input": [
      "data.describe()"
     ],
     "language": "python",
     "metadata": {},
     "outputs": [
      {
       "html": [
        "<div style=\"max-height:1000px;max-width:1500px;overflow:auto;\">\n",
        "<table border=\"1\" class=\"dataframe\">\n",
        "  <thead>\n",
        "    <tr style=\"text-align: right;\">\n",
        "      <th></th>\n",
        "      <th>A3</th>\n",
        "      <th>A8</th>\n",
        "      <th>A11</th>\n",
        "      <th>A15</th>\n",
        "    </tr>\n",
        "  </thead>\n",
        "  <tbody>\n",
        "    <tr>\n",
        "      <th>count</th>\n",
        "      <td> 690.000000</td>\n",
        "      <td> 690.000000</td>\n",
        "      <td> 690.00000</td>\n",
        "      <td>    690.000000</td>\n",
        "    </tr>\n",
        "    <tr>\n",
        "      <th>mean</th>\n",
        "      <td>   4.758725</td>\n",
        "      <td>   2.223406</td>\n",
        "      <td>   2.40000</td>\n",
        "      <td>   1017.385507</td>\n",
        "    </tr>\n",
        "    <tr>\n",
        "      <th>std</th>\n",
        "      <td>   4.978163</td>\n",
        "      <td>   3.346513</td>\n",
        "      <td>   4.86294</td>\n",
        "      <td>   5210.102598</td>\n",
        "    </tr>\n",
        "    <tr>\n",
        "      <th>min</th>\n",
        "      <td>   0.000000</td>\n",
        "      <td>   0.000000</td>\n",
        "      <td>   0.00000</td>\n",
        "      <td>      0.000000</td>\n",
        "    </tr>\n",
        "    <tr>\n",
        "      <th>25%</th>\n",
        "      <td>   1.000000</td>\n",
        "      <td>   0.165000</td>\n",
        "      <td>   0.00000</td>\n",
        "      <td>      0.000000</td>\n",
        "    </tr>\n",
        "    <tr>\n",
        "      <th>50%</th>\n",
        "      <td>   2.750000</td>\n",
        "      <td>   1.000000</td>\n",
        "      <td>   0.00000</td>\n",
        "      <td>      5.000000</td>\n",
        "    </tr>\n",
        "    <tr>\n",
        "      <th>75%</th>\n",
        "      <td>   7.207500</td>\n",
        "      <td>   2.625000</td>\n",
        "      <td>   3.00000</td>\n",
        "      <td>    395.500000</td>\n",
        "    </tr>\n",
        "    <tr>\n",
        "      <th>max</th>\n",
        "      <td>  28.000000</td>\n",
        "      <td>  28.500000</td>\n",
        "      <td>  67.00000</td>\n",
        "      <td> 100000.000000</td>\n",
        "    </tr>\n",
        "  </tbody>\n",
        "</table>\n",
        "</div>"
       ],
       "metadata": {},
       "output_type": "pyout",
       "prompt_number": 8,
       "text": [
        "               A3          A8        A11            A15\n",
        "count  690.000000  690.000000  690.00000     690.000000\n",
        "mean     4.758725    2.223406    2.40000    1017.385507\n",
        "std      4.978163    3.346513    4.86294    5210.102598\n",
        "min      0.000000    0.000000    0.00000       0.000000\n",
        "25%      1.000000    0.165000    0.00000       0.000000\n",
        "50%      2.750000    1.000000    0.00000       5.000000\n",
        "75%      7.207500    2.625000    3.00000     395.500000\n",
        "max     28.000000   28.500000   67.00000  100000.000000"
       ]
      }
     ],
     "prompt_number": 8
    },
    {
     "cell_type": "code",
     "collapsed": false,
     "input": [
      "data.info()"
     ],
     "language": "python",
     "metadata": {},
     "outputs": [
      {
       "output_type": "stream",
       "stream": "stdout",
       "text": [
        "<class 'pandas.core.frame.DataFrame'>\n",
        "Int64Index: 690 entries, 0 to 689\n",
        "Data columns (total 16 columns):\n",
        "A1     690 non-null object\n",
        "A2     690 non-null object\n",
        "A3     690 non-null float64\n",
        "A4     690 non-null object\n",
        "A5     690 non-null object\n",
        "A6     690 non-null object\n",
        "A7     690 non-null object\n",
        "A8     690 non-null float64\n",
        "A9     690 non-null object\n",
        "A10    690 non-null object\n",
        "A11    690 non-null int64\n",
        "A12    690 non-null object\n",
        "A13    690 non-null object\n",
        "A14    690 non-null object\n",
        "A15    690 non-null int64\n",
        "A16    690 non-null object\n",
        "dtypes: float64(2), int64(2), object(12)\n",
        "memory usage: 91.6+ KB\n"
       ]
      }
     ],
     "prompt_number": 9
    },
    {
     "cell_type": "code",
     "collapsed": false,
     "input": [
      "# Ok. So now we've got our data, and have taken a look at it. \n",
      "# I really wish this stuff wasn't so masked out, it feels like gibberish.\n",
      "\n",
      "with open('./crx.names') as f:\n",
      "    lines=f.readlines()\n",
      "for line in lines:\n",
      "    print line"
     ],
     "language": "python",
     "metadata": {},
     "outputs": [
      {
       "output_type": "stream",
       "stream": "stdout",
       "text": [
        "\n",
        "\n",
        "1. Title: Credit Approval\n",
        "\n",
        "\n",
        "\n",
        "2. Sources: \n",
        "\n",
        "    (confidential)\n",
        "\n",
        "    Submitted by quinlan@cs.su.oz.au\n",
        "\n",
        "\n",
        "\n",
        "3.  Past Usage:\n",
        "\n",
        "\n",
        "\n",
        "    See Quinlan,\n",
        "\n",
        "    * \"Simplifying decision trees\", Int J Man-Machine Studies 27,\n",
        "\n",
        "      Dec 1987, pp. 221-234.\n",
        "\n",
        "    * \"C4.5: Programs for Machine Learning\", Morgan Kaufmann, Oct 1992\n",
        "\n",
        "  \n",
        "\n",
        "4.  Relevant Information:\n",
        "\n",
        "\n",
        "\n",
        "    This file concerns credit card applications.  All attribute names\n",
        "\n",
        "    and values have been changed to meaningless symbols to protect\n",
        "\n",
        "    confidentiality of the data.\n",
        "\n",
        "  \n",
        "\n",
        "    This dataset is interesting because there is a good mix of\n",
        "\n",
        "    attributes -- continuous, nominal with small numbers of\n",
        "\n",
        "    values, and nominal with larger numbers of values.  There\n",
        "\n",
        "    are also a few missing values.\n",
        "\n",
        "  \n",
        "\n",
        "5.  Number of Instances: 690\n",
        "\n",
        "\n",
        "\n",
        "6.  Number of Attributes: 15 + class attribute\n",
        "\n",
        "\n",
        "\n",
        "7.  Attribute Information:\n",
        "\n",
        "\n",
        "\n",
        "    A1:\tb, a.\n",
        "\n",
        "    A2:\tcontinuous.\n",
        "\n",
        "    A3:\tcontinuous.\n",
        "\n",
        "    A4:\tu, y, l, t.\n",
        "\n",
        "    A5:\tg, p, gg.\n",
        "\n",
        "    A6:\tc, d, cc, i, j, k, m, r, q, w, x, e, aa, ff.\n",
        "\n",
        "    A7:\tv, h, bb, j, n, z, dd, ff, o.\n",
        "\n",
        "    A8:\tcontinuous.\n",
        "\n",
        "    A9:\tt, f.\n",
        "\n",
        "    A10:\tt, f.\n",
        "\n",
        "    A11:\tcontinuous.\n",
        "\n",
        "    A12:\tt, f.\n",
        "\n",
        "    A13:\tg, p, s.\n",
        "\n",
        "    A14:\tcontinuous.\n",
        "\n",
        "    A15:\tcontinuous.\n",
        "\n",
        "    A16: +,-         (class attribute)\n",
        "\n",
        "\n",
        "\n",
        "8.  Missing Attribute Values:\n",
        "\n",
        "    37 cases (5%) have one or more missing values.  The missing\n",
        "\n",
        "    values from particular attributes are:\n",
        "\n",
        "\n",
        "\n",
        "    A1:  12\n",
        "\n",
        "    A2:  12\n",
        "\n",
        "    A4:   6\n",
        "\n",
        "    A5:   6\n",
        "\n",
        "    A6:   9\n",
        "\n",
        "    A7:   9\n",
        "\n",
        "    A14: 13\n",
        "\n",
        "\n",
        "\n",
        "9.  Class Distribution\n",
        "\n",
        "  \n",
        "\n",
        "    +: 307 (44.5%)\n",
        "\n",
        "    -: 383 (55.5%)\n",
        "\n",
        "\n",
        "\n"
       ]
      }
     ],
     "prompt_number": 10
    },
    {
     "cell_type": "code",
     "collapsed": false,
     "input": [
      "# Does data.info() make the correct columns continuous?\n",
      "# we need 2, 3, 8, 11, 14, 15\n",
      "data.info()"
     ],
     "language": "python",
     "metadata": {},
     "outputs": [
      {
       "output_type": "stream",
       "stream": "stdout",
       "text": [
        "<class 'pandas.core.frame.DataFrame'>\n",
        "Int64Index: 690 entries, 0 to 689\n",
        "Data columns (total 16 columns):\n",
        "A1     690 non-null object\n",
        "A2     690 non-null object\n",
        "A3     690 non-null float64\n",
        "A4     690 non-null object\n",
        "A5     690 non-null object\n",
        "A6     690 non-null object\n",
        "A7     690 non-null object\n",
        "A8     690 non-null float64\n",
        "A9     690 non-null object\n",
        "A10    690 non-null object\n",
        "A11    690 non-null int64\n",
        "A12    690 non-null object\n",
        "A13    690 non-null object\n",
        "A14    690 non-null object\n",
        "A15    690 non-null int64\n",
        "A16    690 non-null object\n",
        "dtypes: float64(2), int64(2), object(12)\n",
        "memory usage: 91.6+ KB\n"
       ]
      }
     ],
     "prompt_number": 11
    },
    {
     "cell_type": "markdown",
     "metadata": {},
     "source": [
      "###[Mean substitution](http://www.uvm.edu/~dhowell/StatPages/More_Stuff/Missing_Data/Missing.html)\n",
      "\n",
      ">An old procedure that should certainly be relegated to the past was the idea of substituting a mean for the missing data. For example, if you don't know my systolic blood pressure, just substitute the mean systolic blood pressure for mine and continue. There are a couple of problems with this approach. In the first place it adds no new information. The overall mean, with or without replacing my missing data, will be the same. In addition, such a process leads to an underestimate of error. Cohen et al. (2003) gave an interesting example of a data set on university faculty. The data consisted of data on salary and citation level of publications. There were 62 cases with complete data and 7 cases for which the citation index was missing. Cohen gives the following table.\n",
      "\n",
      "N\t r\t b\t St. Err. b Analysis \n",
      "\n",
      "62\t.55\t310.747\t60.95 Complete cases \n",
      "\n",
      "69\t.54\t310.747\t59.13 Mean substitution \n",
      "\n",
      "\n",
      ">Notice that using mean substitution makes only a trivial change in the correlation coefficient and no change in the regression coefficient. But the st. err (b) is noticeably smaller using mean substitution. That should not be surprising. We have really added no new information to the data but we have increased the sample size. The effect of increasing the sample size is to increase the denominator for computing the standard error, thus reducing the standard error. Adding no new information certainly should not make you more comfortable with the result, but this would seem to. The reduction is spurious and should be avoided--as we'll see below.\n",
      "\n",
      "So I was reading on best methods for imputation and I came to a bypass... I didn't find a super good source of information on best practices. I sort of wondered how good I could do if I just got rid of the data with missing values? Since we areonly missing 5%, which to me seems like very little, I've proceeded to do the rest of the homework and dropping the rows with missing data."
     ]
    },
    {
     "cell_type": "code",
     "collapsed": false,
     "input": [
      "data.replace('?', np.NaN, inplace=True)\n",
      "data[['A2', 'A14']] = data[['A2', 'A14']].astype(float)\n",
      "data.info()\n",
      "\n",
      "what_if_i_want_to_impute_later = data.copy()\n",
      "\n",
      "# We're assuming the data is missing at random\n",
      "clean = data.dropna(axis=0)\n",
      "clean.info()"
     ],
     "language": "python",
     "metadata": {},
     "outputs": [
      {
       "output_type": "stream",
       "stream": "stdout",
       "text": [
        "<class 'pandas.core.frame.DataFrame'>\n",
        "Int64Index: 690 entries, 0 to 689\n",
        "Data columns (total 16 columns):\n",
        "A1     678 non-null object\n",
        "A2     678 non-null float64\n",
        "A3     690 non-null float64\n",
        "A4     684 non-null object\n",
        "A5     684 non-null object\n",
        "A6     681 non-null object\n",
        "A7     681 non-null object\n",
        "A8     690 non-null float64\n",
        "A9     690 non-null object\n",
        "A10    690 non-null object\n",
        "A11    690 non-null int64\n",
        "A12    690 non-null object\n",
        "A13    690 non-null object\n",
        "A14    677 non-null float64\n",
        "A15    690 non-null int64\n",
        "A16    690 non-null object\n",
        "dtypes: float64(4), int64(2), object(10)\n",
        "memory usage: 91.6+ KB\n",
        "<class 'pandas.core.frame.DataFrame'>\n",
        "Int64Index: 653 entries, 0 to 689\n",
        "Data columns (total 16 columns):\n",
        "A1     653 non-null object\n",
        "A2     653 non-null float64\n",
        "A3     653 non-null float64\n",
        "A4     653 non-null object\n",
        "A5     653 non-null object\n",
        "A6     653 non-null object\n",
        "A7     653 non-null object\n",
        "A8     653 non-null float64\n",
        "A9     653 non-null object\n",
        "A10    653 non-null object\n",
        "A11    653 non-null int64\n",
        "A12    653 non-null object\n",
        "A13    653 non-null object\n",
        "A14    653 non-null float64\n",
        "A15    653 non-null int64\n",
        "A16    653 non-null object\n",
        "dtypes: float64(4), int64(2), object(10)\n",
        "memory usage: 86.7+ KB\n"
       ]
      }
     ],
     "prompt_number": 12
    },
    {
     "cell_type": "code",
     "collapsed": false,
     "input": [
      "data.describe()"
     ],
     "language": "python",
     "metadata": {},
     "outputs": [
      {
       "html": [
        "<div style=\"max-height:1000px;max-width:1500px;overflow:auto;\">\n",
        "<table border=\"1\" class=\"dataframe\">\n",
        "  <thead>\n",
        "    <tr style=\"text-align: right;\">\n",
        "      <th></th>\n",
        "      <th>A2</th>\n",
        "      <th>A3</th>\n",
        "      <th>A8</th>\n",
        "      <th>A11</th>\n",
        "      <th>A14</th>\n",
        "      <th>A15</th>\n",
        "    </tr>\n",
        "  </thead>\n",
        "  <tbody>\n",
        "    <tr>\n",
        "      <th>count</th>\n",
        "      <td> 678.000000</td>\n",
        "      <td> 690.000000</td>\n",
        "      <td> 690.000000</td>\n",
        "      <td> 690.00000</td>\n",
        "      <td>  677.000000</td>\n",
        "      <td>    690.000000</td>\n",
        "    </tr>\n",
        "    <tr>\n",
        "      <th>mean</th>\n",
        "      <td>  31.568171</td>\n",
        "      <td>   4.758725</td>\n",
        "      <td>   2.223406</td>\n",
        "      <td>   2.40000</td>\n",
        "      <td>  184.014771</td>\n",
        "      <td>   1017.385507</td>\n",
        "    </tr>\n",
        "    <tr>\n",
        "      <th>std</th>\n",
        "      <td>  11.957862</td>\n",
        "      <td>   4.978163</td>\n",
        "      <td>   3.346513</td>\n",
        "      <td>   4.86294</td>\n",
        "      <td>  173.806768</td>\n",
        "      <td>   5210.102598</td>\n",
        "    </tr>\n",
        "    <tr>\n",
        "      <th>min</th>\n",
        "      <td>  13.750000</td>\n",
        "      <td>   0.000000</td>\n",
        "      <td>   0.000000</td>\n",
        "      <td>   0.00000</td>\n",
        "      <td>    0.000000</td>\n",
        "      <td>      0.000000</td>\n",
        "    </tr>\n",
        "    <tr>\n",
        "      <th>25%</th>\n",
        "      <td>  22.602500</td>\n",
        "      <td>   1.000000</td>\n",
        "      <td>   0.165000</td>\n",
        "      <td>   0.00000</td>\n",
        "      <td>   75.000000</td>\n",
        "      <td>      0.000000</td>\n",
        "    </tr>\n",
        "    <tr>\n",
        "      <th>50%</th>\n",
        "      <td>  28.460000</td>\n",
        "      <td>   2.750000</td>\n",
        "      <td>   1.000000</td>\n",
        "      <td>   0.00000</td>\n",
        "      <td>  160.000000</td>\n",
        "      <td>      5.000000</td>\n",
        "    </tr>\n",
        "    <tr>\n",
        "      <th>75%</th>\n",
        "      <td>  38.230000</td>\n",
        "      <td>   7.207500</td>\n",
        "      <td>   2.625000</td>\n",
        "      <td>   3.00000</td>\n",
        "      <td>  276.000000</td>\n",
        "      <td>    395.500000</td>\n",
        "    </tr>\n",
        "    <tr>\n",
        "      <th>max</th>\n",
        "      <td>  80.250000</td>\n",
        "      <td>  28.000000</td>\n",
        "      <td>  28.500000</td>\n",
        "      <td>  67.00000</td>\n",
        "      <td> 2000.000000</td>\n",
        "      <td> 100000.000000</td>\n",
        "    </tr>\n",
        "  </tbody>\n",
        "</table>\n",
        "</div>"
       ],
       "metadata": {},
       "output_type": "pyout",
       "prompt_number": 13,
       "text": [
        "               A2          A3          A8        A11          A14  \\\n",
        "count  678.000000  690.000000  690.000000  690.00000   677.000000   \n",
        "mean    31.568171    4.758725    2.223406    2.40000   184.014771   \n",
        "std     11.957862    4.978163    3.346513    4.86294   173.806768   \n",
        "min     13.750000    0.000000    0.000000    0.00000     0.000000   \n",
        "25%     22.602500    1.000000    0.165000    0.00000    75.000000   \n",
        "50%     28.460000    2.750000    1.000000    0.00000   160.000000   \n",
        "75%     38.230000    7.207500    2.625000    3.00000   276.000000   \n",
        "max     80.250000   28.000000   28.500000   67.00000  2000.000000   \n",
        "\n",
        "                 A15  \n",
        "count     690.000000  \n",
        "mean     1017.385507  \n",
        "std      5210.102598  \n",
        "min         0.000000  \n",
        "25%         0.000000  \n",
        "50%         5.000000  \n",
        "75%       395.500000  \n",
        "max    100000.000000  "
       ]
      }
     ],
     "prompt_number": 13
    },
    {
     "cell_type": "code",
     "collapsed": false,
     "input": [
      "clean.describe()"
     ],
     "language": "python",
     "metadata": {},
     "outputs": [
      {
       "html": [
        "<div style=\"max-height:1000px;max-width:1500px;overflow:auto;\">\n",
        "<table border=\"1\" class=\"dataframe\">\n",
        "  <thead>\n",
        "    <tr style=\"text-align: right;\">\n",
        "      <th></th>\n",
        "      <th>A2</th>\n",
        "      <th>A3</th>\n",
        "      <th>A8</th>\n",
        "      <th>A11</th>\n",
        "      <th>A14</th>\n",
        "      <th>A15</th>\n",
        "    </tr>\n",
        "  </thead>\n",
        "  <tbody>\n",
        "    <tr>\n",
        "      <th>count</th>\n",
        "      <td> 653.000000</td>\n",
        "      <td> 653.000000</td>\n",
        "      <td> 653.000000</td>\n",
        "      <td> 653.000000</td>\n",
        "      <td>  653.000000</td>\n",
        "      <td>    653.000000</td>\n",
        "    </tr>\n",
        "    <tr>\n",
        "      <th>mean</th>\n",
        "      <td>  31.503813</td>\n",
        "      <td>   4.829533</td>\n",
        "      <td>   2.244296</td>\n",
        "      <td>   2.502297</td>\n",
        "      <td>  180.359877</td>\n",
        "      <td>   1013.761103</td>\n",
        "    </tr>\n",
        "    <tr>\n",
        "      <th>std</th>\n",
        "      <td>  11.838267</td>\n",
        "      <td>   5.027077</td>\n",
        "      <td>   3.371120</td>\n",
        "      <td>   4.968497</td>\n",
        "      <td>  168.296811</td>\n",
        "      <td>   5253.278504</td>\n",
        "    </tr>\n",
        "    <tr>\n",
        "      <th>min</th>\n",
        "      <td>  13.750000</td>\n",
        "      <td>   0.000000</td>\n",
        "      <td>   0.000000</td>\n",
        "      <td>   0.000000</td>\n",
        "      <td>    0.000000</td>\n",
        "      <td>      0.000000</td>\n",
        "    </tr>\n",
        "    <tr>\n",
        "      <th>25%</th>\n",
        "      <td>  22.580000</td>\n",
        "      <td>   1.040000</td>\n",
        "      <td>   0.165000</td>\n",
        "      <td>   0.000000</td>\n",
        "      <td>   73.000000</td>\n",
        "      <td>      0.000000</td>\n",
        "    </tr>\n",
        "    <tr>\n",
        "      <th>50%</th>\n",
        "      <td>  28.420000</td>\n",
        "      <td>   2.835000</td>\n",
        "      <td>   1.000000</td>\n",
        "      <td>   0.000000</td>\n",
        "      <td>  160.000000</td>\n",
        "      <td>      5.000000</td>\n",
        "    </tr>\n",
        "    <tr>\n",
        "      <th>75%</th>\n",
        "      <td>  38.250000</td>\n",
        "      <td>   7.500000</td>\n",
        "      <td>   2.625000</td>\n",
        "      <td>   3.000000</td>\n",
        "      <td>  272.000000</td>\n",
        "      <td>    400.000000</td>\n",
        "    </tr>\n",
        "    <tr>\n",
        "      <th>max</th>\n",
        "      <td>  76.750000</td>\n",
        "      <td>  28.000000</td>\n",
        "      <td>  28.500000</td>\n",
        "      <td>  67.000000</td>\n",
        "      <td> 2000.000000</td>\n",
        "      <td> 100000.000000</td>\n",
        "    </tr>\n",
        "  </tbody>\n",
        "</table>\n",
        "</div>"
       ],
       "metadata": {},
       "output_type": "pyout",
       "prompt_number": 14,
       "text": [
        "               A2          A3          A8         A11          A14  \\\n",
        "count  653.000000  653.000000  653.000000  653.000000   653.000000   \n",
        "mean    31.503813    4.829533    2.244296    2.502297   180.359877   \n",
        "std     11.838267    5.027077    3.371120    4.968497   168.296811   \n",
        "min     13.750000    0.000000    0.000000    0.000000     0.000000   \n",
        "25%     22.580000    1.040000    0.165000    0.000000    73.000000   \n",
        "50%     28.420000    2.835000    1.000000    0.000000   160.000000   \n",
        "75%     38.250000    7.500000    2.625000    3.000000   272.000000   \n",
        "max     76.750000   28.000000   28.500000   67.000000  2000.000000   \n",
        "\n",
        "                 A15  \n",
        "count     653.000000  \n",
        "mean     1013.761103  \n",
        "std      5253.278504  \n",
        "min         0.000000  \n",
        "25%         0.000000  \n",
        "50%         5.000000  \n",
        "75%       400.000000  \n",
        "max    100000.000000  "
       ]
      }
     ],
     "prompt_number": 14
    },
    {
     "cell_type": "code",
     "collapsed": false,
     "input": [
      "# what difference does cleaning make ? \n",
      "clean.describe() - data.describe()\n",
      "\n",
      "# not that much"
     ],
     "language": "python",
     "metadata": {},
     "outputs": [
      {
       "html": [
        "<div style=\"max-height:1000px;max-width:1500px;overflow:auto;\">\n",
        "<table border=\"1\" class=\"dataframe\">\n",
        "  <thead>\n",
        "    <tr style=\"text-align: right;\">\n",
        "      <th></th>\n",
        "      <th>A2</th>\n",
        "      <th>A3</th>\n",
        "      <th>A8</th>\n",
        "      <th>A11</th>\n",
        "      <th>A14</th>\n",
        "      <th>A15</th>\n",
        "    </tr>\n",
        "  </thead>\n",
        "  <tbody>\n",
        "    <tr>\n",
        "      <th>count</th>\n",
        "      <td>-25.000000</td>\n",
        "      <td>-37.000000</td>\n",
        "      <td>-37.000000</td>\n",
        "      <td>-37.000000</td>\n",
        "      <td>-24.000000</td>\n",
        "      <td>-37.000000</td>\n",
        "    </tr>\n",
        "    <tr>\n",
        "      <th>mean</th>\n",
        "      <td> -0.064358</td>\n",
        "      <td>  0.070808</td>\n",
        "      <td>  0.020890</td>\n",
        "      <td>  0.102297</td>\n",
        "      <td> -3.654894</td>\n",
        "      <td> -3.624405</td>\n",
        "    </tr>\n",
        "    <tr>\n",
        "      <th>std</th>\n",
        "      <td> -0.119595</td>\n",
        "      <td>  0.048914</td>\n",
        "      <td>  0.024607</td>\n",
        "      <td>  0.105557</td>\n",
        "      <td> -5.509957</td>\n",
        "      <td> 43.175905</td>\n",
        "    </tr>\n",
        "    <tr>\n",
        "      <th>min</th>\n",
        "      <td>  0.000000</td>\n",
        "      <td>  0.000000</td>\n",
        "      <td>  0.000000</td>\n",
        "      <td>  0.000000</td>\n",
        "      <td>  0.000000</td>\n",
        "      <td>  0.000000</td>\n",
        "    </tr>\n",
        "    <tr>\n",
        "      <th>25%</th>\n",
        "      <td> -0.022500</td>\n",
        "      <td>  0.040000</td>\n",
        "      <td>  0.000000</td>\n",
        "      <td>  0.000000</td>\n",
        "      <td> -2.000000</td>\n",
        "      <td>  0.000000</td>\n",
        "    </tr>\n",
        "    <tr>\n",
        "      <th>50%</th>\n",
        "      <td> -0.040000</td>\n",
        "      <td>  0.085000</td>\n",
        "      <td>  0.000000</td>\n",
        "      <td>  0.000000</td>\n",
        "      <td>  0.000000</td>\n",
        "      <td>  0.000000</td>\n",
        "    </tr>\n",
        "    <tr>\n",
        "      <th>75%</th>\n",
        "      <td>  0.020000</td>\n",
        "      <td>  0.292500</td>\n",
        "      <td>  0.000000</td>\n",
        "      <td>  0.000000</td>\n",
        "      <td> -4.000000</td>\n",
        "      <td>  4.500000</td>\n",
        "    </tr>\n",
        "    <tr>\n",
        "      <th>max</th>\n",
        "      <td> -3.500000</td>\n",
        "      <td>  0.000000</td>\n",
        "      <td>  0.000000</td>\n",
        "      <td>  0.000000</td>\n",
        "      <td>  0.000000</td>\n",
        "      <td>  0.000000</td>\n",
        "    </tr>\n",
        "  </tbody>\n",
        "</table>\n",
        "</div>"
       ],
       "metadata": {},
       "output_type": "pyout",
       "prompt_number": 15,
       "text": [
        "              A2         A3         A8        A11        A14        A15\n",
        "count -25.000000 -37.000000 -37.000000 -37.000000 -24.000000 -37.000000\n",
        "mean   -0.064358   0.070808   0.020890   0.102297  -3.654894  -3.624405\n",
        "std    -0.119595   0.048914   0.024607   0.105557  -5.509957  43.175905\n",
        "min     0.000000   0.000000   0.000000   0.000000   0.000000   0.000000\n",
        "25%    -0.022500   0.040000   0.000000   0.000000  -2.000000   0.000000\n",
        "50%    -0.040000   0.085000   0.000000   0.000000   0.000000   0.000000\n",
        "75%     0.020000   0.292500   0.000000   0.000000  -4.000000   4.500000\n",
        "max    -3.500000   0.000000   0.000000   0.000000   0.000000   0.000000"
       ]
      }
     ],
     "prompt_number": 15
    },
    {
     "cell_type": "code",
     "collapsed": false,
     "input": [
      "# But what if it isn't random ? are the missing values correlated with something?\n",
      "dirty = data[pd.isnull(data).any(axis=1)]"
     ],
     "language": "python",
     "metadata": {},
     "outputs": [],
     "prompt_number": 16
    },
    {
     "cell_type": "code",
     "collapsed": false,
     "input": [
      "dirty.corr()"
     ],
     "language": "python",
     "metadata": {},
     "outputs": [
      {
       "html": [
        "<div style=\"max-height:1000px;max-width:1500px;overflow:auto;\">\n",
        "<table border=\"1\" class=\"dataframe\">\n",
        "  <thead>\n",
        "    <tr style=\"text-align: right;\">\n",
        "      <th></th>\n",
        "      <th>A2</th>\n",
        "      <th>A3</th>\n",
        "      <th>A8</th>\n",
        "      <th>A11</th>\n",
        "      <th>A14</th>\n",
        "      <th>A15</th>\n",
        "    </tr>\n",
        "  </thead>\n",
        "  <tbody>\n",
        "    <tr>\n",
        "      <th>A2</th>\n",
        "      <td> 1.000000</td>\n",
        "      <td>-0.141654</td>\n",
        "      <td>-0.096642</td>\n",
        "      <td>-0.269982</td>\n",
        "      <td>-0.044375</td>\n",
        "      <td>-0.208973</td>\n",
        "    </tr>\n",
        "    <tr>\n",
        "      <th>A3</th>\n",
        "      <td>-0.141654</td>\n",
        "      <td> 1.000000</td>\n",
        "      <td> 0.227406</td>\n",
        "      <td> 0.211036</td>\n",
        "      <td>-0.366915</td>\n",
        "      <td> 0.229068</td>\n",
        "    </tr>\n",
        "    <tr>\n",
        "      <th>A8</th>\n",
        "      <td>-0.096642</td>\n",
        "      <td> 0.227406</td>\n",
        "      <td> 1.000000</td>\n",
        "      <td> 0.092876</td>\n",
        "      <td>-0.375809</td>\n",
        "      <td> 0.033493</td>\n",
        "    </tr>\n",
        "    <tr>\n",
        "      <th>A11</th>\n",
        "      <td>-0.269982</td>\n",
        "      <td> 0.211036</td>\n",
        "      <td> 0.092876</td>\n",
        "      <td> 1.000000</td>\n",
        "      <td>-0.142303</td>\n",
        "      <td> 0.545660</td>\n",
        "    </tr>\n",
        "    <tr>\n",
        "      <th>A14</th>\n",
        "      <td>-0.044375</td>\n",
        "      <td>-0.366915</td>\n",
        "      <td>-0.375809</td>\n",
        "      <td>-0.142303</td>\n",
        "      <td> 1.000000</td>\n",
        "      <td>-0.019799</td>\n",
        "    </tr>\n",
        "    <tr>\n",
        "      <th>A15</th>\n",
        "      <td>-0.208973</td>\n",
        "      <td> 0.229068</td>\n",
        "      <td> 0.033493</td>\n",
        "      <td> 0.545660</td>\n",
        "      <td>-0.019799</td>\n",
        "      <td> 1.000000</td>\n",
        "    </tr>\n",
        "  </tbody>\n",
        "</table>\n",
        "</div>"
       ],
       "metadata": {},
       "output_type": "pyout",
       "prompt_number": 17,
       "text": [
        "           A2        A3        A8       A11       A14       A15\n",
        "A2   1.000000 -0.141654 -0.096642 -0.269982 -0.044375 -0.208973\n",
        "A3  -0.141654  1.000000  0.227406  0.211036 -0.366915  0.229068\n",
        "A8  -0.096642  0.227406  1.000000  0.092876 -0.375809  0.033493\n",
        "A11 -0.269982  0.211036  0.092876  1.000000 -0.142303  0.545660\n",
        "A14 -0.044375 -0.366915 -0.375809 -0.142303  1.000000 -0.019799\n",
        "A15 -0.208973  0.229068  0.033493  0.545660 -0.019799  1.000000"
       ]
      }
     ],
     "prompt_number": 17
    },
    {
     "cell_type": "code",
     "collapsed": false,
     "input": [
      "# A11 and A14 are the only possibly correlated."
     ],
     "language": "python",
     "metadata": {},
     "outputs": [],
     "prompt_number": 18
    },
    {
     "cell_type": "code",
     "collapsed": false,
     "input": [
      "print stats.pearsonr(data['A11'], data['A15'])\n",
      "print stats.pearsonr(clean['A11'], clean['A15'])\n"
     ],
     "language": "python",
     "metadata": {},
     "outputs": [
      {
       "output_type": "stream",
       "stream": "stdout",
       "text": [
        "(0.063692439330212028, 0.094578025231347326)\n",
        "(0.058407562463740265, 0.13597400501151491)\n"
       ]
      }
     ],
     "prompt_number": 19
    },
    {
     "cell_type": "code",
     "collapsed": false,
     "input": [
      "# Basically we can see here that removing the data doesn't change the correlation much or anything."
     ],
     "language": "python",
     "metadata": {},
     "outputs": [],
     "prompt_number": 20
    },
    {
     "cell_type": "code",
     "collapsed": false,
     "input": [
      "from pandas import scatter_matrix\n",
      "scatter_matrix(clean)"
     ],
     "language": "python",
     "metadata": {},
     "outputs": [
      {
       "metadata": {},
       "output_type": "pyout",
       "prompt_number": 21,
       "text": [
        "array([[<matplotlib.axes.AxesSubplot object at 0x108a5e650>,\n",
        "        <matplotlib.axes.AxesSubplot object at 0x108a18710>,\n",
        "        <matplotlib.axes.AxesSubplot object at 0x108a8fe10>,\n",
        "        <matplotlib.axes.AxesSubplot object at 0x108abccd0>,\n",
        "        <matplotlib.axes.AxesSubplot object at 0x108ba6390>,\n",
        "        <matplotlib.axes.AxesSubplot object at 0x108bcfe10>],\n",
        "       [<matplotlib.axes.AxesSubplot object at 0x108c084d0>,\n",
        "        <matplotlib.axes.AxesSubplot object at 0x108c31f50>,\n",
        "        <matplotlib.axes.AxesSubplot object at 0x108c6d610>,\n",
        "        <matplotlib.axes.AxesSubplot object at 0x108c9a0d0>,\n",
        "        <matplotlib.axes.AxesSubplot object at 0x108cd1750>,\n",
        "        <matplotlib.axes.AxesSubplot object at 0x108cff210>],\n",
        "       [<matplotlib.axes.AxesSubplot object at 0x108d35890>,\n",
        "        <matplotlib.axes.AxesSubplot object at 0x108d62350>,\n",
        "        <matplotlib.axes.AxesSubplot object at 0x108d989d0>,\n",
        "        <matplotlib.axes.AxesSubplot object at 0x108dc6490>,\n",
        "        <matplotlib.axes.AxesSubplot object at 0x108dfdb10>,\n",
        "        <matplotlib.axes.AxesSubplot object at 0x108e2a5d0>],\n",
        "       [<matplotlib.axes.AxesSubplot object at 0x108e61c50>,\n",
        "        <matplotlib.axes.AxesSubplot object at 0x108e8f710>,\n",
        "        <matplotlib.axes.AxesSubplot object at 0x108ec5d90>,\n",
        "        <matplotlib.axes.AxesSubplot object at 0x108817b50>,\n",
        "        <matplotlib.axes.AxesSubplot object at 0x108f00cd0>,\n",
        "        <matplotlib.axes.AxesSubplot object at 0x108f320d0>],\n",
        "       [<matplotlib.axes.AxesSubplot object at 0x108f696d0>,\n",
        "        <matplotlib.axes.AxesSubplot object at 0x108f96a90>,\n",
        "        <matplotlib.axes.AxesSubplot object at 0x108fd1290>,\n",
        "        <matplotlib.axes.AxesSubplot object at 0x108ffd190>,\n",
        "        <matplotlib.axes.AxesSubplot object at 0x109033a10>,\n",
        "        <matplotlib.axes.AxesSubplot object at 0x109062850>],\n",
        "       [<matplotlib.axes.AxesSubplot object at 0x10909b110>,\n",
        "        <matplotlib.axes.AxesSubplot object at 0x1090c5f10>,\n",
        "        <matplotlib.axes.AxesSubplot object at 0x1091007d0>,\n",
        "        <matplotlib.axes.AxesSubplot object at 0x10912f610>,\n",
        "        <matplotlib.axes.AxesSubplot object at 0x109165e90>,\n",
        "        <matplotlib.axes.AxesSubplot object at 0x109195cd0>]], dtype=object)"
       ]
      },
      {
       "metadata": {},
       "output_type": "display_data",
       "png": "[encoded data removed]",
       "text": [
        "<matplotlib.figure.Figure at 0x108a43a50>"
       ]
      }
     ],
     "prompt_number": 21
    },
    {
     "cell_type": "code",
     "collapsed": false,
     "input": [
      "# change those plus and minus signs\n",
      "clean.replace('+', '1', axis=1, inplace=True)\n",
      "clean.replace('-', '0', axis=1, inplace=True)\n",
      "\n",
      "clean['A16'].describe()"
     ],
     "language": "python",
     "metadata": {},
     "outputs": [
      {
       "output_type": "stream",
       "stream": "stderr",
       "text": [
        "/Library/Python/2.7/site-packages/pandas-0.15.0_93_ga0ac41d-py2.7-macosx-10.9-intel.egg/pandas/core/generic.py:2488: UserWarning: the \"axis\" argument is deprecated and will be removed inv0.13; this argument has no effect\n",
        "  warn('the \"axis\" argument is deprecated and will be removed in'\n",
        "-c:2: SettingWithCopyWarning: \n",
        "A value is trying to be set on a copy of a slice from a DataFrame\n",
        "\n",
        "See the the caveats in the documentation: http://pandas.pydata.org/pandas-docs/stable/indexing.html#indexing-view-versus-copy\n"
       ]
      },
      {
       "output_type": "stream",
       "stream": "stderr",
       "text": [
        "-c:3: SettingWithCopyWarning: \n",
        "A value is trying to be set on a copy of a slice from a DataFrame\n",
        "\n",
        "See the the caveats in the documentation: http://pandas.pydata.org/pandas-docs/stable/indexing.html#indexing-view-versus-copy\n"
       ]
      },
      {
       "metadata": {},
       "output_type": "pyout",
       "prompt_number": 22,
       "text": [
        "count     653\n",
        "unique      2\n",
        "top         0\n",
        "freq      357\n",
        "Name: A16, dtype: object"
       ]
      }
     ],
     "prompt_number": 22
    },
    {
     "cell_type": "code",
     "collapsed": false,
     "input": [
      "approval = clean['A16']\n",
      "data = clean.drop('A16', 1)\n",
      "data = pd.get_dummies(data)\n",
      "data.head()"
     ],
     "language": "python",
     "metadata": {},
     "outputs": [
      {
       "html": [
        "<div style=\"max-height:1000px;max-width:1500px;overflow:auto;\">\n",
        "<table border=\"1\" class=\"dataframe\">\n",
        "  <thead>\n",
        "    <tr style=\"text-align: right;\">\n",
        "      <th></th>\n",
        "      <th>A2</th>\n",
        "      <th>A3</th>\n",
        "      <th>A8</th>\n",
        "      <th>A11</th>\n",
        "      <th>A14</th>\n",
        "      <th>A15</th>\n",
        "      <th>A1_a</th>\n",
        "      <th>A1_b</th>\n",
        "      <th>A4_l</th>\n",
        "      <th>A4_u</th>\n",
        "      <th>...</th>\n",
        "      <th>A7_z</th>\n",
        "      <th>A9_f</th>\n",
        "      <th>A9_t</th>\n",
        "      <th>A10_f</th>\n",
        "      <th>A10_t</th>\n",
        "      <th>A12_f</th>\n",
        "      <th>A12_t</th>\n",
        "      <th>A13_g</th>\n",
        "      <th>A13_p</th>\n",
        "      <th>A13_s</th>\n",
        "    </tr>\n",
        "  </thead>\n",
        "  <tbody>\n",
        "    <tr>\n",
        "      <th>0</th>\n",
        "      <td> 30.83</td>\n",
        "      <td> 0.000</td>\n",
        "      <td> 1.25</td>\n",
        "      <td> 1</td>\n",
        "      <td> 202</td>\n",
        "      <td>   0</td>\n",
        "      <td> 0</td>\n",
        "      <td> 1</td>\n",
        "      <td> 0</td>\n",
        "      <td> 1</td>\n",
        "      <td>...</td>\n",
        "      <td> 0</td>\n",
        "      <td> 0</td>\n",
        "      <td> 1</td>\n",
        "      <td> 0</td>\n",
        "      <td> 1</td>\n",
        "      <td> 1</td>\n",
        "      <td> 0</td>\n",
        "      <td> 1</td>\n",
        "      <td> 0</td>\n",
        "      <td> 0</td>\n",
        "    </tr>\n",
        "    <tr>\n",
        "      <th>1</th>\n",
        "      <td> 58.67</td>\n",
        "      <td> 4.460</td>\n",
        "      <td> 3.04</td>\n",
        "      <td> 6</td>\n",
        "      <td>  43</td>\n",
        "      <td> 560</td>\n",
        "      <td> 1</td>\n",
        "      <td> 0</td>\n",
        "      <td> 0</td>\n",
        "      <td> 1</td>\n",
        "      <td>...</td>\n",
        "      <td> 0</td>\n",
        "      <td> 0</td>\n",
        "      <td> 1</td>\n",
        "      <td> 0</td>\n",
        "      <td> 1</td>\n",
        "      <td> 1</td>\n",
        "      <td> 0</td>\n",
        "      <td> 1</td>\n",
        "      <td> 0</td>\n",
        "      <td> 0</td>\n",
        "    </tr>\n",
        "    <tr>\n",
        "      <th>2</th>\n",
        "      <td> 24.50</td>\n",
        "      <td> 0.500</td>\n",
        "      <td> 1.50</td>\n",
        "      <td> 0</td>\n",
        "      <td> 280</td>\n",
        "      <td> 824</td>\n",
        "      <td> 1</td>\n",
        "      <td> 0</td>\n",
        "      <td> 0</td>\n",
        "      <td> 1</td>\n",
        "      <td>...</td>\n",
        "      <td> 0</td>\n",
        "      <td> 0</td>\n",
        "      <td> 1</td>\n",
        "      <td> 1</td>\n",
        "      <td> 0</td>\n",
        "      <td> 1</td>\n",
        "      <td> 0</td>\n",
        "      <td> 1</td>\n",
        "      <td> 0</td>\n",
        "      <td> 0</td>\n",
        "    </tr>\n",
        "    <tr>\n",
        "      <th>3</th>\n",
        "      <td> 27.83</td>\n",
        "      <td> 1.540</td>\n",
        "      <td> 3.75</td>\n",
        "      <td> 5</td>\n",
        "      <td> 100</td>\n",
        "      <td>   3</td>\n",
        "      <td> 0</td>\n",
        "      <td> 1</td>\n",
        "      <td> 0</td>\n",
        "      <td> 1</td>\n",
        "      <td>...</td>\n",
        "      <td> 0</td>\n",
        "      <td> 0</td>\n",
        "      <td> 1</td>\n",
        "      <td> 0</td>\n",
        "      <td> 1</td>\n",
        "      <td> 0</td>\n",
        "      <td> 1</td>\n",
        "      <td> 1</td>\n",
        "      <td> 0</td>\n",
        "      <td> 0</td>\n",
        "    </tr>\n",
        "    <tr>\n",
        "      <th>4</th>\n",
        "      <td> 20.17</td>\n",
        "      <td> 5.625</td>\n",
        "      <td> 1.71</td>\n",
        "      <td> 0</td>\n",
        "      <td> 120</td>\n",
        "      <td>   0</td>\n",
        "      <td> 0</td>\n",
        "      <td> 1</td>\n",
        "      <td> 0</td>\n",
        "      <td> 1</td>\n",
        "      <td>...</td>\n",
        "      <td> 0</td>\n",
        "      <td> 0</td>\n",
        "      <td> 1</td>\n",
        "      <td> 1</td>\n",
        "      <td> 0</td>\n",
        "      <td> 1</td>\n",
        "      <td> 0</td>\n",
        "      <td> 0</td>\n",
        "      <td> 0</td>\n",
        "      <td> 1</td>\n",
        "    </tr>\n",
        "  </tbody>\n",
        "</table>\n",
        "<p>5 rows \u00d7 46 columns</p>\n",
        "</div>"
       ],
       "metadata": {},
       "output_type": "pyout",
       "prompt_number": 23,
       "text": [
        "      A2     A3    A8  A11  A14  A15  A1_a  A1_b  A4_l  A4_u  ...    A7_z  \\\n",
        "0  30.83  0.000  1.25    1  202    0     0     1     0     1  ...       0   \n",
        "1  58.67  4.460  3.04    6   43  560     1     0     0     1  ...       0   \n",
        "2  24.50  0.500  1.50    0  280  824     1     0     0     1  ...       0   \n",
        "3  27.83  1.540  3.75    5  100    3     0     1     0     1  ...       0   \n",
        "4  20.17  5.625  1.71    0  120    0     0     1     0     1  ...       0   \n",
        "\n",
        "   A9_f  A9_t  A10_f  A10_t  A12_f  A12_t  A13_g  A13_p  A13_s  \n",
        "0     0     1      0      1      1      0      1      0      0  \n",
        "1     0     1      0      1      1      0      1      0      0  \n",
        "2     0     1      1      0      1      0      1      0      0  \n",
        "3     0     1      0      1      0      1      1      0      0  \n",
        "4     0     1      1      0      1      0      0      0      1  \n",
        "\n",
        "[5 rows x 46 columns]"
       ]
      }
     ],
     "prompt_number": 23
    },
    {
     "cell_type": "code",
     "collapsed": false,
     "input": [
      "x_train, x_test, y_train, y_test = train_test_split(data, approval, test_size=0.30)"
     ],
     "language": "python",
     "metadata": {},
     "outputs": [],
     "prompt_number": 24
    },
    {
     "cell_type": "code",
     "collapsed": false,
     "input": [
      "# Logistc\n",
      "log_est = LR()\n",
      "print log_est.fit(x_train, y_train).score(x_test, y_test)\n",
      "# Damn, thats pretty good.\n",
      "y_pred = log_est.predict(x_test)\n",
      "cm = confusion_matrix(y_test, y_pred)\n",
      "plt.imshow(cm, cmap='Blues', interpolation='nearest')\n",
      "plt.title('Confusion matrix')\n",
      "plt.colorbar()\n",
      "plt.ylabel('True label')\n",
      "plt.grid(False)\n",
      "plt.xlabel('Predicted label')\n",
      "plt.show()\n",
      "print cm"
     ],
     "language": "python",
     "metadata": {},
     "outputs": [
      {
       "output_type": "stream",
       "stream": "stdout",
       "text": [
        "0.852040816327\n"
       ]
      },
      {
       "output_type": "stream",
       "stream": "stderr",
       "text": [
        "/Library/Python/2.7/site-packages/numpy-1.9.1-py2.7-macosx-10.9-intel.egg/numpy/core/fromnumeric.py:2499: VisibleDeprecationWarning: `rank` is deprecated; use the `ndim` attribute or function instead. To find the rank of a matrix see `numpy.linalg.matrix_rank`.\n",
        "  VisibleDeprecationWarning)\n"
       ]
      },
      {
       "metadata": {},
       "output_type": "display_data",
       "png": "[encoded data removed]",
       "text": [
        "<matplotlib.figure.Figure at 0x1092903d0>"
       ]
      },
      {
       "output_type": "stream",
       "stream": "stdout",
       "text": [
        "[[88 20]\n",
        " [ 9 79]]\n"
       ]
      }
     ],
     "prompt_number": 25
    },
    {
     "cell_type": "code",
     "collapsed": false,
     "input": [
      "# Linear SVM\n",
      "est = svc()\n",
      "est.fit(x_train, y_train)\n",
      "d = {'C': np.logspace(-3., 3., 10)}\n",
      "g = gs(est, d)\n",
      "g.fit(x_train, y_train)\n",
      "g.score(x_test, y_test)\n",
      "linear_results = g.best_estimator_, g.best_params_, g.best_score_; linear_results"
     ],
     "language": "python",
     "metadata": {},
     "outputs": [
      {
       "metadata": {},
       "output_type": "pyout",
       "prompt_number": 26,
       "text": [
        "(LinearSVC(C=0.001, class_weight=None, dual=True, fit_intercept=True,\n",
        "      intercept_scaling=1, loss='l2', multi_class='ovr', penalty='l2',\n",
        "      random_state=None, tol=0.0001, verbose=0),\n",
        " {'C': 0.001},\n",
        " 0.80962800875273522)"
       ]
      }
     ],
     "prompt_number": 26
    },
    {
     "cell_type": "code",
     "collapsed": false,
     "input": [
      "# Non linear SVM\n",
      "est = SVC()\n",
      "est.fit(x_train, y_train)\n",
      "d = {\n",
      "'C': np.logspace(-3., 3., 10),\n",
      "'gamma': np.logspace(-3., 3., 10),\n",
      "'kernel' : ['sigmoid', 'rbf'],\n",
      "    } # I actually added a few more here but some took too long so I left them out.\n",
      "g = gs(est, d)\n",
      "g.fit(x_train, y_train)\n",
      "g.score(x_test, y_test)\n",
      "nonlinear_results = g.best_estimator_, g.best_params_, g.best_score_"
     ],
     "language": "python",
     "metadata": {},
     "outputs": [],
     "prompt_number": 27
    },
    {
     "cell_type": "code",
     "collapsed": false,
     "input": [
      "nonlinear_results"
     ],
     "language": "python",
     "metadata": {},
     "outputs": [
      {
       "metadata": {},
       "output_type": "pyout",
       "prompt_number": 28,
       "text": [
        "(SVC(C=46.415888336127729, cache_size=200, class_weight=None, coef0=0.0,\n",
        "   degree=3, gamma=0.001, kernel='rbf', max_iter=-1, probability=False,\n",
        "   random_state=None, shrinking=True, tol=0.001, verbose=False),\n",
        " {'C': 46.415888336127729, 'gamma': 0.001, 'kernel': 'rbf'},\n",
        " 0.67177242888402622)"
       ]
      }
     ],
     "prompt_number": 28
    },
    {
     "cell_type": "code",
     "collapsed": false,
     "input": [
      "# Hmm. Let's try some more\n",
      "est = SGD()\n",
      "est.fit(x_train, y_train)\n",
      "d = {\n",
      "'loss': ['log', 'perceptron', 'huber', 'epsilon_insensitive'],\n",
      "'penalty': ['l1', 'elasticnet', 'l2'],\n",
      "'alpha' : np.logspace(-3., 3., 10),\n",
      "'epsilon' : np.logspace(-3., 3., 10)\n",
      "}\n",
      "g = gs(est, d)\n",
      "g.fit(x_train, y_train)\n",
      "g.score(x_test, y_test)\n",
      "sgd_results = g.best_estimator_, g.best_params_, g.best_score_"
     ],
     "language": "python",
     "metadata": {},
     "outputs": [],
     "prompt_number": 29
    },
    {
     "cell_type": "code",
     "collapsed": false,
     "input": [
      "sgd_results"
     ],
     "language": "python",
     "metadata": {},
     "outputs": [
      {
       "metadata": {},
       "output_type": "pyout",
       "prompt_number": 30,
       "text": [
        "(SGDClassifier(alpha=1000.0, class_weight=None, epsilon=0.0046415888336127772,\n",
        "        eta0=0.0, fit_intercept=True, l1_ratio=0.15,\n",
        "        learning_rate='optimal', loss='huber', n_iter=5, n_jobs=1,\n",
        "        penalty='l2', power_t=0.5, random_state=None, shuffle=False,\n",
        "        verbose=0, warm_start=False),\n",
        " {'alpha': 1000.0,\n",
        "  'epsilon': 0.0046415888336127772,\n",
        "  'loss': 'huber',\n",
        "  'penalty': 'l2'},\n",
        " 0.6827133479212254)"
       ]
      }
     ],
     "prompt_number": 30
    },
    {
     "cell_type": "code",
     "collapsed": false,
     "input": [
      "print linear_results[2]\n",
      "print nonlinear_results[2]\n",
      "print sgd_results[2]\n",
      "\n",
      "# It looks like the logistic regression did best actually... "
     ],
     "language": "python",
     "metadata": {},
     "outputs": [
      {
       "output_type": "stream",
       "stream": "stdout",
       "text": [
        "0.809628008753\n",
        "0.671772428884\n",
        "0.682713347921\n"
       ]
      }
     ],
     "prompt_number": 31
    },
    {
     "cell_type": "code",
     "collapsed": false,
     "input": [
      "# Linear\n",
      "est = svc()\n",
      "est.fit(x_train, y_train)\n",
      "d = {\n",
      "'C': np.logspace(-3., 3., 10),\n",
      "'tol': np.logspace(-3., 3., 10),\n",
      "'dual': [True, False]\n",
      "    }\n",
      "g = gs(est, d)\n",
      "g.fit(x_train, y_train)\n",
      "g.score(x_test, y_test)\n",
      "linear_results = g.best_estimator_, g.best_params_, g.best_score_; linear_results"
     ],
     "language": "python",
     "metadata": {},
     "outputs": [
      {
       "metadata": {},
       "output_type": "pyout",
       "prompt_number": 32,
       "text": [
        "(LinearSVC(C=46.415888336127729, class_weight=None, dual=False,\n",
        "      fit_intercept=True, intercept_scaling=1, loss='l2', multi_class='ovr',\n",
        "      penalty='l2', random_state=None, tol=0.001, verbose=0),\n",
        " {'C': 46.415888336127729, 'dual': False, 'tol': 0.001},\n",
        " 0.87089715536105028)"
       ]
      }
     ],
     "prompt_number": 32
    },
    {
     "cell_type": "code",
     "collapsed": false,
     "input": [
      "# Adding tol / dual made a notable difference.\n",
      "\n",
      "# Linear\n",
      "est = svc()\n",
      "est.fit(x_train, y_train)\n",
      "d = {\n",
      "'C': np.logspace(-3., 3., 10),\n",
      "'tol': np.logspace(-3., 3., 10),\n",
      "'intercept_scaling': np.logspace(-3., 3., 10)\n",
      "    }\n",
      "g = gs(est, d)\n",
      "g.fit(x_train, y_train)\n",
      "g.score(x_test, y_test)\n",
      "linear_results = g.best_estimator_, g.best_params_, g.best_score_; linear_results"
     ],
     "language": "python",
     "metadata": {},
     "outputs": [
      {
       "metadata": {},
       "output_type": "pyout",
       "prompt_number": 33,
       "text": [
        "(LinearSVC(C=0.46415888336127775, class_weight=None, dual=True,\n",
        "      fit_intercept=True, intercept_scaling=0.021544346900318832, loss='l2',\n",
        "      multi_class='ovr', penalty='l2', random_state=None,\n",
        "      tol=0.10000000000000001, verbose=0),\n",
        " {'C': 0.46415888336127775,\n",
        "  'intercept_scaling': 0.021544346900318832,\n",
        "  'tol': 0.10000000000000001},\n",
        " 0.86870897155361049)"
       ]
      }
     ],
     "prompt_number": 33
    },
    {
     "cell_type": "code",
     "collapsed": false,
     "input": [
      "# Ok, intercept_scaling is whatever.\n",
      "# Our best params: 'C': 0.021544346900318832, 'dual': False, 'tol': 0.001\n",
      "est = svc(C=0.021544346900318832, dual=False, tol=0.001)\n",
      "est.fit(x_train, y_train)\n",
      "print est.score(x_test, y_test)\n",
      "y_pred = est.predict(x_test)\n",
      "cm = confusion_matrix(y_test, y_pred)\n",
      "print cm\n",
      "print classification_report(y_test, y_pred)"
     ],
     "language": "python",
     "metadata": {},
     "outputs": [
      {
       "output_type": "stream",
       "stream": "stdout",
       "text": [
        "0.852040816327\n",
        "[[86 22]\n",
        " [ 7 81]]\n",
        "             precision    recall  f1-score   support\n",
        "\n",
        "          0       0.92      0.80      0.86       108\n",
        "          1       0.79      0.92      0.85        88\n",
        "\n",
        "avg / total       0.86      0.85      0.85       196\n",
        "\n"
       ]
      }
     ],
     "prompt_number": 34
    },
    {
     "cell_type": "code",
     "collapsed": false,
     "input": [
      "plt.matshow(cm)\n",
      "plt.title('Confusion matrix')\n",
      "plt.colorbar()\n",
      "plt.ylabel('True label')\n",
      "plt.xlabel('Predicted label')\n",
      "plt.show()"
     ],
     "language": "python",
     "metadata": {},
     "outputs": [
      {
       "metadata": {},
       "output_type": "display_data",
       "png": "[encoded data removed]",
       "text": [
        "<matplotlib.figure.Figure at 0x102a2d7d0>"
       ]
      }
     ],
     "prompt_number": 35
    },
    {
     "cell_type": "code",
     "collapsed": false,
     "input": [
      "current_palette = sns.color_palette()\n",
      "sns.palplot(current_palette)\n",
      "sns.palplot(sns.color_palette(\"GnBu\"))"
     ],
     "language": "python",
     "metadata": {},
     "outputs": [
      {
       "metadata": {},
       "output_type": "display_data",
       "png": "[encoded data removed]",
       "text": [
        "<matplotlib.figure.Figure at 0x102a2d990>"
       ]
      },
      {
       "metadata": {},
       "output_type": "display_data",
       "png": "[encoded data removed]",
       "text": [
        "<matplotlib.figure.Figure at 0x109ab4850>"
       ]
      }
     ],
     "prompt_number": 36
    },
    {
     "cell_type": "code",
     "collapsed": false,
     "input": [
      "# Pretty time !"
     ],
     "language": "python",
     "metadata": {},
     "outputs": [],
     "prompt_number": 37
    },
    {
     "cell_type": "code",
     "collapsed": false,
     "input": [
      "plt.imshow(cm, cmap='GnBu', interpolation='nearest')\n",
      "plt.title('Confusion matrix')\n",
      "plt.colorbar()\n",
      "plt.ylabel('True label')\n",
      "plt.grid(False)\n",
      "plt.xlabel('Predicted label')\n",
      "plt.show()\n",
      "print cm"
     ],
     "language": "python",
     "metadata": {},
     "outputs": [
      {
       "metadata": {},
       "output_type": "display_data",
       "png": "[encoded data removed]",
       "text": [
        "<matplotlib.figure.Figure at 0x109ad61d0>"
       ]
      },
      {
       "output_type": "stream",
       "stream": "stdout",
       "text": [
        "[[86 22]\n",
        " [ 7 81]]\n"
       ]
      }
     ],
     "prompt_number": 38
    },
    {
     "cell_type": "code",
     "collapsed": false,
     "input": [
      "# Let's use a dummy classifier just to check and see whats up.\n",
      "dummy_test1 = DummyClassifier(strategy=\"stratified\").fit(x_train, y_train).score(x_test, y_test)\n",
      "dummy_test2 = DummyClassifier(strategy=\"most_frequent\").fit(x_train, y_train).score(x_test, y_test)\n",
      "dummy_test3 = DummyClassifier(strategy=\"uniform\").fit(x_train, y_train).score(x_test, y_test)\n",
      "print dummy_test1, dummy_test2, dummy_test3, est.score(x_test, y_test)\n"
     ],
     "language": "python",
     "metadata": {},
     "outputs": [
      {
       "output_type": "stream",
       "stream": "stdout",
       "text": [
        "0.505102040816 0.551020408163 0.489795918367 0.852040816327\n"
       ]
      }
     ],
     "prompt_number": 39
    },
    {
     "cell_type": "code",
     "collapsed": false,
     "input": [
      "# Look's like we are doing alright."
     ],
     "language": "python",
     "metadata": {},
     "outputs": [],
     "prompt_number": 40
    },
    {
     "cell_type": "code",
     "collapsed": false,
     "input": [
      "# SO overall it looks like logistic regression seemed to do the best, even without adjusting parameters. "
     ],
     "language": "python",
     "metadata": {},
     "outputs": [],
     "prompt_number": 41
    },
    {
     "cell_type": "code",
     "collapsed": false,
     "input": [
      "est = LR()\n",
      "est.fit(x_train, y_train)\n",
      "d = {\n",
      "'C': np.logspace(-3., 3., 10)\n",
      "    }\n",
      "g = gs(est, d)\n",
      "g.fit(x_train, y_train)\n",
      "g.score(x_test, y_test)\n",
      "log_results = g.best_estimator_, g.best_params_, g.best_score_"
     ],
     "language": "python",
     "metadata": {},
     "outputs": [],
     "prompt_number": 42
    },
    {
     "cell_type": "code",
     "collapsed": false,
     "input": [
      "log_results"
     ],
     "language": "python",
     "metadata": {},
     "outputs": [
      {
       "metadata": {},
       "output_type": "pyout",
       "prompt_number": 43,
       "text": [
        "(LogisticRegression(C=2.154434690031882, class_weight=None, dual=False,\n",
        "           fit_intercept=True, intercept_scaling=1, penalty='l2',\n",
        "           random_state=None, tol=0.0001),\n",
        " {'C': 2.154434690031882},\n",
        " 0.86870897155361049)"
       ]
      }
     ],
     "prompt_number": 43
    },
    {
     "cell_type": "code",
     "collapsed": false,
     "input": [
      "cm = confusion_matrix(y_test, y_pred)\n",
      "plt.imshow(cm, cmap='Blues', interpolation='nearest')\n",
      "plt.title('Confusion matrix')\n",
      "plt.colorbar()\n",
      "plt.ylabel('True label')\n",
      "plt.grid(False)\n",
      "plt.xlabel('Predicted label')\n",
      "plt.show()\n",
      "print cm"
     ],
     "language": "python",
     "metadata": {},
     "outputs": [
      {
       "metadata": {},
       "output_type": "display_data",
       "png": "[encoded data removed]",
       "text": [
        "<matplotlib.figure.Figure at 0x109ac6f10>"
       ]
      },
      {
       "output_type": "stream",
       "stream": "stdout",
       "text": [
        "[[86 22]\n",
        " [ 7 81]]\n"
       ]
      }
     ],
     "prompt_number": 44
    },
    {
     "cell_type": "code",
     "collapsed": false,
     "input": [
      "# Logistic # NO PARAMETERS ADJUSTED\n",
      "log_est = LR()\n",
      "print log_est.fit(x_train, y_train).score(x_test, y_test)\n",
      "# Damn, thats pretty good.\n",
      "y_pred = log_est.predict(x_test)\n",
      "cm = confusion_matrix(y_test, y_pred)\n",
      "plt.imshow(cm, cmap='Blues', interpolation='nearest')\n",
      "plt.title('Confusion matrix')\n",
      "plt.colorbar()\n",
      "plt.ylabel('True label')\n",
      "plt.grid(False)\n",
      "plt.xlabel('Predicted label')\n",
      "plt.show()\n",
      "print cm"
     ],
     "language": "python",
     "metadata": {},
     "outputs": [
      {
       "output_type": "stream",
       "stream": "stdout",
       "text": [
        "0.852040816327\n"
       ]
      },
      {
       "metadata": {},
       "output_type": "display_data",
       "png": "[encoded data removed]",
       "text": [
        "<matplotlib.figure.Figure at 0x108ed1450>"
       ]
      },
      {
       "output_type": "stream",
       "stream": "stdout",
       "text": [
        "[[88 20]\n",
        " [ 9 79]]\n"
       ]
      }
     ],
     "prompt_number": 46
    },
    {
     "cell_type": "code",
     "collapsed": false,
     "input": [
      "# increase interval... by factor... of 10 !\n",
      "est = LR()\n",
      "est.fit(x_train, y_train)\n",
      "d = {\n",
      "'C': np.logspace(-3., 3., 100)\n",
      "    }\n",
      "g = gs(est, d)\n",
      "g.fit(x_train, y_train)\n",
      "g.score(x_test, y_test)\n",
      "log_results = g.best_estimator_, g.best_params_, g.best_score_; log_results"
     ],
     "language": "python",
     "metadata": {},
     "outputs": [
      {
       "metadata": {},
       "output_type": "pyout",
       "prompt_number": 74,
       "text": [
        "(LogisticRegression(C=0.065793322465756823, class_weight=None, dual=False,\n",
        "           fit_intercept=True, intercept_scaling=1, penalty='l2',\n",
        "           random_state=None, tol=0.0001),\n",
        " {'C': 0.065793322465756823},\n",
        " 0.87964989059080967)"
       ]
      }
     ],
     "prompt_number": 74
    },
    {
     "cell_type": "code",
     "collapsed": false,
     "input": [
      "# Ok. 300 intervals, with further min / max\n",
      "# increase interval... by factor... of 10 !\n",
      "est = LR()\n",
      "est.fit(x_train, y_train)\n",
      "d = {\n",
      "'C': np.logspace(-4., 4., 20),\n",
      "'tol': np.logspace(-4., 4., 20)\n",
      "    }\n",
      "g = gs(est, d)\n",
      "g.fit(x_train, y_train)\n",
      "g.score(x_test, y_test)\n",
      "log_results = g.best_estimator_, g.best_params_, g.best_score_; log_results"
     ],
     "language": "python",
     "metadata": {},
     "outputs": [
      {
       "metadata": {},
       "output_type": "pyout",
       "prompt_number": 75,
       "text": [
        "(LogisticRegression(C=3792.6901907322458, class_weight=None, dual=False,\n",
        "           fit_intercept=True, intercept_scaling=1, penalty='l2',\n",
        "           random_state=None, tol=0.00026366508987303583),\n",
        " {'C': 3792.6901907322458, 'tol': 0.00026366508987303583},\n",
        " 0.87746170678336977)"
       ]
      }
     ],
     "prompt_number": 75
    },
    {
     "cell_type": "code",
     "collapsed": false,
     "input": [
      "# So basically you should just leave C at 1.0 evidently, haha."
     ],
     "language": "python",
     "metadata": {},
     "outputs": [],
     "prompt_number": 51
    },
    {
     "cell_type": "markdown",
     "metadata": {},
     "source": [
      "# Conclusion\n",
      "\n",
      "Logistic regression was the best. These were my parameters:\n",
      "\n",
      "```\n",
      "(LogisticRegression(C=0.065793322465756823, class_weight=None, dual=False,\n",
      "           fit_intercept=True, intercept_scaling=1, penalty='l2',\n",
      "           random_state=None, tol=0.0001),\n",
      " {'C': 0.065793322465756823},\n",
      " 0.87964989059080967)\n",
      " ```"
     ]
    },
    {
     "cell_type": "code",
     "collapsed": false,
     "input": [
      "# Logistic # NO PARAMETERS ADJUSTED\n",
      "log_est = LR()\n",
      "print log_est.fit(x_train, y_train).score(x_test, y_test)\n",
      "# Damn, thats pretty good.\n",
      "y_pred = log_est.predict(x_test)\n",
      "cm = confusion_matrix(y_test, y_pred)\n",
      "plt.imshow(cm, cmap='Blues', interpolation='nearest')\n",
      "plt.title('Confusion matrix')\n",
      "plt.colorbar()\n",
      "plt.ylabel('True label')\n",
      "plt.grid(False)\n",
      "plt.xlabel('Predicted label')\n",
      "plt.show()\n",
      "print cm"
     ],
     "language": "python",
     "metadata": {},
     "outputs": [
      {
       "output_type": "stream",
       "stream": "stdout",
       "text": [
        "0.862244897959\n"
       ]
      },
      {
       "metadata": {},
       "output_type": "display_data",
       "png": "[encoded data removed]",
       "text": [
        "<matplotlib.figure.Figure at 0x1093e0cd0>"
       ]
      },
      {
       "output_type": "stream",
       "stream": "stdout",
       "text": [
        "[[89 19]\n",
        " [ 8 80]]\n"
       ]
      }
     ],
     "prompt_number": 73
    },
    {
     "cell_type": "code",
     "collapsed": false,
     "input": [],
     "language": "python",
     "metadata": {},
     "outputs": []
    }
   ],
   "metadata": {}
  }
 ]
}