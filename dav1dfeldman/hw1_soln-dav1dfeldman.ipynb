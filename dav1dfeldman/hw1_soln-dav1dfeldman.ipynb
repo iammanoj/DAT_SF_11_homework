{
 "metadata": {
  "name": "",
  "signature": "sha256:46333f9e95bb98d93fecb5154c742c74b09962b2745f95909d2fdce086c24dc9"
 },
 "nbformat": 3,
 "nbformat_minor": 0,
 "worksheets": [
  {
   "cells": [
    {
     "cell_type": "heading",
     "level": 3,
     "metadata": {},
     "source": [
      "#Homework 1 - Data Analysis and Regression\n",
      "In this assignment your challenge is to do some basic analysis for Airbnb. Provided in hw/data/ there are 2 data files, <a href=../data/bookings.csv>bookings.csv</a> and <a href=../data/listings.csv>listings.csv</a>. The objective is to practice data munging and begin our exploration of regression."
     ]
    },
    {
     "cell_type": "code",
     "collapsed": false,
     "input": [
      "import pandas as pd\n",
      "import numpy as np\n",
      "import seaborn as sns\n",
      "import matplotlib.pyplot as plt\n",
      "%matplotlib inline"
     ],
     "language": "python",
     "metadata": {},
     "outputs": [],
     "prompt_number": 331
    },
    {
     "cell_type": "code",
     "collapsed": false,
     "input": [
      "pd.set_option('display.max_row', None)\n",
      "pd.set_option('display.precision', 3)\n",
      "pd.set_option('display.max_column', None)"
     ],
     "language": "python",
     "metadata": {},
     "outputs": [],
     "prompt_number": 332
    },
    {
     "cell_type": "markdown",
     "metadata": {},
     "source": [
      "##Part 1 - Data exploration\n",
      "###First, create 2 data frames: `listings` and `bookings` from their respective data files"
     ]
    },
    {
     "cell_type": "code",
     "collapsed": false,
     "input": [
      "bookings = pd.read_csv('../data/bookings.csv', parse_dates = ['booking_date'])\n",
      "bookings.info()"
     ],
     "language": "python",
     "metadata": {},
     "outputs": [
      {
       "output_type": "stream",
       "stream": "stdout",
       "text": [
        "<class 'pandas.core.frame.DataFrame'>\n",
        "Int64Index: 6076 entries, 0 to 6075\n",
        "Data columns (total 2 columns):\n",
        "prop_id         6076 non-null int64\n",
        "booking_date    6076 non-null datetime64[ns]\n",
        "dtypes: datetime64[ns](1), int64(1)"
       ]
      }
     ],
     "prompt_number": 333
    },
    {
     "cell_type": "code",
     "collapsed": false,
     "input": [
      "listings = pd.read_csv('../data/listings.csv')"
     ],
     "language": "python",
     "metadata": {},
     "outputs": [],
     "prompt_number": 334
    },
    {
     "cell_type": "code",
     "collapsed": false,
     "input": [
      "merged = listings.merge(bookings)\n",
      "merged.info()"
     ],
     "language": "python",
     "metadata": {},
     "outputs": [
      {
       "output_type": "stream",
       "stream": "stdout",
       "text": [
        "<class 'pandas.core.frame.DataFrame'>\n",
        "Int64Index: 6076 entries, 0 to 6075\n",
        "Data columns (total 9 columns):\n",
        "prop_id               6076 non-null int64\n",
        "prop_type             6076 non-null object\n",
        "neighborhood          6076 non-null object\n",
        "price                 6076 non-null int64\n",
        "person_capacity       6076 non-null int64\n",
        "picture_count         6076 non-null int64\n",
        "description_length    6076 non-null int64\n",
        "tenure_months         6076 non-null int64\n",
        "booking_date          6076 non-null datetime64[ns]\n",
        "dtypes: datetime64[ns](1), int64(6), object(2)"
       ]
      }
     ],
     "prompt_number": 335
    },
    {
     "cell_type": "markdown",
     "metadata": {},
     "source": [
      "###What is the mean, median and standard deviation of price, person capacity, picture count, description length and tenure of the properties?"
     ]
    },
    {
     "cell_type": "code",
     "collapsed": false,
     "input": [
      "listings[['price', 'person_capacity',\n",
      "          'picture_count', 'description_length',\n",
      "          'tenure_months']].describe().loc[['mean', '50%', 'std']]"
     ],
     "language": "python",
     "metadata": {},
     "outputs": [
      {
       "html": [
        "<div style=\"max-height:1000px;max-width:1500px;overflow:auto;\">\n",
        "<table border=\"1\" class=\"dataframe\">\n",
        "  <thead>\n",
        "    <tr style=\"text-align: right;\">\n",
        "      <th></th>\n",
        "      <th>price</th>\n",
        "      <th>person_capacity</th>\n",
        "      <th>picture_count</th>\n",
        "      <th>description_length</th>\n",
        "      <th>tenure_months</th>\n",
        "    </tr>\n",
        "  </thead>\n",
        "  <tbody>\n",
        "    <tr>\n",
        "      <th>mean</th>\n",
        "      <td> 187.81</td>\n",
        "      <td> 3.00</td>\n",
        "      <td> 14.39</td>\n",
        "      <td> 309.16</td>\n",
        "      <td> 8.49</td>\n",
        "    </tr>\n",
        "    <tr>\n",
        "      <th>50%</th>\n",
        "      <td> 125.00</td>\n",
        "      <td> 2.00</td>\n",
        "      <td> 12.00</td>\n",
        "      <td> 250.00</td>\n",
        "      <td> 7.00</td>\n",
        "    </tr>\n",
        "    <tr>\n",
        "      <th>std</th>\n",
        "      <td> 353.05</td>\n",
        "      <td> 1.59</td>\n",
        "      <td> 10.48</td>\n",
        "      <td> 228.02</td>\n",
        "      <td> 5.87</td>\n",
        "    </tr>\n",
        "  </tbody>\n",
        "</table>\n",
        "</div>"
       ],
       "metadata": {},
       "output_type": "pyout",
       "prompt_number": 336,
       "text": [
        "       price  person_capacity  picture_count  description_length  \\\n",
        "mean  187.81             3.00          14.39              309.16   \n",
        "50%   125.00             2.00          12.00              250.00   \n",
        "std   353.05             1.59          10.48              228.02   \n",
        "\n",
        "      tenure_months  \n",
        "mean           8.49  \n",
        "50%            7.00  \n",
        "std            5.87  "
       ]
      }
     ],
     "prompt_number": 336
    },
    {
     "cell_type": "markdown",
     "metadata": {},
     "source": [
      "###What what are the mean price, person capacity, picture count, description length and tenure of the properties grouped by property type?"
     ]
    },
    {
     "cell_type": "code",
     "collapsed": false,
     "input": [
      "listings.groupby('prop_type')['price',\n",
      "                              'person_capacity', 'picture_count',\n",
      "                              'description_length', 'tenure_months'].mean()"
     ],
     "language": "python",
     "metadata": {},
     "outputs": [
      {
       "html": [
        "<div style=\"max-height:1000px;max-width:1500px;overflow:auto;\">\n",
        "<table border=\"1\" class=\"dataframe\">\n",
        "  <thead>\n",
        "    <tr style=\"text-align: right;\">\n",
        "      <th></th>\n",
        "      <th>price</th>\n",
        "      <th>person_capacity</th>\n",
        "      <th>picture_count</th>\n",
        "      <th>description_length</th>\n",
        "      <th>tenure_months</th>\n",
        "    </tr>\n",
        "    <tr>\n",
        "      <th>prop_type</th>\n",
        "      <th></th>\n",
        "      <th></th>\n",
        "      <th></th>\n",
        "      <th></th>\n",
        "      <th></th>\n",
        "    </tr>\n",
        "  </thead>\n",
        "  <tbody>\n",
        "    <tr>\n",
        "      <th>Property type 1</th>\n",
        "      <td> 237.09</td>\n",
        "      <td> 3.52</td>\n",
        "      <td> 14.70</td>\n",
        "      <td> 313.17</td>\n",
        "      <td>  8.46</td>\n",
        "    </tr>\n",
        "    <tr>\n",
        "      <th>Property type 2</th>\n",
        "      <td>  93.29</td>\n",
        "      <td> 2.00</td>\n",
        "      <td> 13.95</td>\n",
        "      <td> 304.85</td>\n",
        "      <td>  8.38</td>\n",
        "    </tr>\n",
        "    <tr>\n",
        "      <th>Property type 3</th>\n",
        "      <td>  63.75</td>\n",
        "      <td> 1.75</td>\n",
        "      <td>  8.75</td>\n",
        "      <td> 184.75</td>\n",
        "      <td> 13.75</td>\n",
        "    </tr>\n",
        "  </tbody>\n",
        "</table>\n",
        "</div>"
       ],
       "metadata": {},
       "output_type": "pyout",
       "prompt_number": 337,
       "text": [
        "                  price  person_capacity  picture_count  description_length  \\\n",
        "prop_type                                                                     \n",
        "Property type 1  237.09             3.52          14.70              313.17   \n",
        "Property type 2   93.29             2.00          13.95              304.85   \n",
        "Property type 3   63.75             1.75           8.75              184.75   \n",
        "\n",
        "                 tenure_months  \n",
        "prop_type                       \n",
        "Property type 1           8.46  \n",
        "Property type 2           8.38  \n",
        "Property type 3          13.75  "
       ]
      }
     ],
     "prompt_number": 337
    },
    {
     "cell_type": "markdown",
     "metadata": {},
     "source": [
      "###Same, but by property type per neighborhood? "
     ]
    },
    {
     "cell_type": "code",
     "collapsed": false,
     "input": [
      "listings.groupby(['neighborhood', 'prop_type'])['price',\n",
      "                                                'person_capacity', 'picture_count',\n",
      "                                                'description_length', 'tenure_months'].mean()"
     ],
     "language": "python",
     "metadata": {},
     "outputs": [
      {
       "html": [
        "<div style=\"max-height:1000px;max-width:1500px;overflow:auto;\">\n",
        "<table border=\"1\" class=\"dataframe\">\n",
        "  <thead>\n",
        "    <tr style=\"text-align: right;\">\n",
        "      <th></th>\n",
        "      <th></th>\n",
        "      <th>price</th>\n",
        "      <th>person_capacity</th>\n",
        "      <th>picture_count</th>\n",
        "      <th>description_length</th>\n",
        "      <th>tenure_months</th>\n",
        "    </tr>\n",
        "    <tr>\n",
        "      <th>neighborhood</th>\n",
        "      <th>prop_type</th>\n",
        "      <th></th>\n",
        "      <th></th>\n",
        "      <th></th>\n",
        "      <th></th>\n",
        "      <th></th>\n",
        "    </tr>\n",
        "  </thead>\n",
        "  <tbody>\n",
        "    <tr>\n",
        "      <th>Neighborhood 1</th>\n",
        "      <th>Property type 1</th>\n",
        "      <td>  85.00</td>\n",
        "      <td> 2.00</td>\n",
        "      <td> 26.00</td>\n",
        "      <td> 209.00</td>\n",
        "      <td>  6.00</td>\n",
        "    </tr>\n",
        "    <tr>\n",
        "      <th rowspan=\"2\" valign=\"top\">Neighborhood 10</th>\n",
        "      <th>Property type 1</th>\n",
        "      <td> 142.50</td>\n",
        "      <td> 3.50</td>\n",
        "      <td> 13.33</td>\n",
        "      <td> 391.00</td>\n",
        "      <td>  3.83</td>\n",
        "    </tr>\n",
        "    <tr>\n",
        "      <th>Property type 2</th>\n",
        "      <td> 137.50</td>\n",
        "      <td> 2.00</td>\n",
        "      <td> 20.00</td>\n",
        "      <td> 126.00</td>\n",
        "      <td>  3.50</td>\n",
        "    </tr>\n",
        "    <tr>\n",
        "      <th rowspan=\"3\" valign=\"top\">Neighborhood 11</th>\n",
        "      <th>Property type 1</th>\n",
        "      <td> 159.43</td>\n",
        "      <td> 3.21</td>\n",
        "      <td>  9.93</td>\n",
        "      <td> 379.00</td>\n",
        "      <td>  9.64</td>\n",
        "    </tr>\n",
        "    <tr>\n",
        "      <th>Property type 2</th>\n",
        "      <td>  78.75</td>\n",
        "      <td> 2.00</td>\n",
        "      <td> 16.75</td>\n",
        "      <td> 161.25</td>\n",
        "      <td> 11.25</td>\n",
        "    </tr>\n",
        "    <tr>\n",
        "      <th>Property type 3</th>\n",
        "      <td>  75.00</td>\n",
        "      <td> 2.00</td>\n",
        "      <td> 15.00</td>\n",
        "      <td> 196.00</td>\n",
        "      <td>  8.00</td>\n",
        "    </tr>\n",
        "    <tr>\n",
        "      <th rowspan=\"2\" valign=\"top\">Neighborhood 12</th>\n",
        "      <th>Property type 1</th>\n",
        "      <td> 365.62</td>\n",
        "      <td> 3.44</td>\n",
        "      <td> 10.82</td>\n",
        "      <td> 267.21</td>\n",
        "      <td>  7.90</td>\n",
        "    </tr>\n",
        "    <tr>\n",
        "      <th>Property type 2</th>\n",
        "      <td>  96.89</td>\n",
        "      <td> 1.95</td>\n",
        "      <td> 10.47</td>\n",
        "      <td> 244.53</td>\n",
        "      <td>  9.84</td>\n",
        "    </tr>\n",
        "    <tr>\n",
        "      <th rowspan=\"2\" valign=\"top\">Neighborhood 13</th>\n",
        "      <th>Property type 1</th>\n",
        "      <td> 241.90</td>\n",
        "      <td> 4.06</td>\n",
        "      <td> 15.65</td>\n",
        "      <td> 290.41</td>\n",
        "      <td>  9.12</td>\n",
        "    </tr>\n",
        "    <tr>\n",
        "      <th>Property type 2</th>\n",
        "      <td>  81.13</td>\n",
        "      <td> 1.83</td>\n",
        "      <td> 16.70</td>\n",
        "      <td> 418.57</td>\n",
        "      <td>  9.74</td>\n",
        "    </tr>\n",
        "    <tr>\n",
        "      <th rowspan=\"3\" valign=\"top\">Neighborhood 14</th>\n",
        "      <th>Property type 1</th>\n",
        "      <td> 164.68</td>\n",
        "      <td> 3.21</td>\n",
        "      <td> 14.76</td>\n",
        "      <td> 317.21</td>\n",
        "      <td>  8.44</td>\n",
        "    </tr>\n",
        "    <tr>\n",
        "      <th>Property type 2</th>\n",
        "      <td>  83.81</td>\n",
        "      <td> 1.86</td>\n",
        "      <td> 15.90</td>\n",
        "      <td> 348.62</td>\n",
        "      <td>  8.71</td>\n",
        "    </tr>\n",
        "    <tr>\n",
        "      <th>Property type 3</th>\n",
        "      <td>  75.00</td>\n",
        "      <td> 1.00</td>\n",
        "      <td>  1.00</td>\n",
        "      <td> 113.00</td>\n",
        "      <td>  5.00</td>\n",
        "    </tr>\n",
        "    <tr>\n",
        "      <th rowspan=\"2\" valign=\"top\">Neighborhood 15</th>\n",
        "      <th>Property type 1</th>\n",
        "      <td> 178.88</td>\n",
        "      <td> 3.72</td>\n",
        "      <td> 14.32</td>\n",
        "      <td> 321.76</td>\n",
        "      <td>  9.32</td>\n",
        "    </tr>\n",
        "    <tr>\n",
        "      <th>Property type 2</th>\n",
        "      <td>  95.00</td>\n",
        "      <td> 2.27</td>\n",
        "      <td> 11.73</td>\n",
        "      <td> 301.73</td>\n",
        "      <td>  8.20</td>\n",
        "    </tr>\n",
        "    <tr>\n",
        "      <th rowspan=\"2\" valign=\"top\">Neighborhood 16</th>\n",
        "      <th>Property type 1</th>\n",
        "      <td> 158.93</td>\n",
        "      <td> 2.93</td>\n",
        "      <td> 21.64</td>\n",
        "      <td> 310.71</td>\n",
        "      <td>  7.07</td>\n",
        "    </tr>\n",
        "    <tr>\n",
        "      <th>Property type 2</th>\n",
        "      <td>  83.62</td>\n",
        "      <td> 2.06</td>\n",
        "      <td> 15.38</td>\n",
        "      <td> 246.25</td>\n",
        "      <td>  6.69</td>\n",
        "    </tr>\n",
        "    <tr>\n",
        "      <th rowspan=\"3\" valign=\"top\">Neighborhood 17</th>\n",
        "      <th>Property type 1</th>\n",
        "      <td> 189.87</td>\n",
        "      <td> 3.52</td>\n",
        "      <td> 16.09</td>\n",
        "      <td> 317.35</td>\n",
        "      <td>  9.87</td>\n",
        "    </tr>\n",
        "    <tr>\n",
        "      <th>Property type 2</th>\n",
        "      <td> 102.45</td>\n",
        "      <td> 2.00</td>\n",
        "      <td> 15.45</td>\n",
        "      <td> 308.27</td>\n",
        "      <td>  7.18</td>\n",
        "    </tr>\n",
        "    <tr>\n",
        "      <th>Property type 3</th>\n",
        "      <td>  65.00</td>\n",
        "      <td> 2.00</td>\n",
        "      <td> 15.00</td>\n",
        "      <td> 189.00</td>\n",
        "      <td> 23.00</td>\n",
        "    </tr>\n",
        "    <tr>\n",
        "      <th rowspan=\"2\" valign=\"top\">Neighborhood 18</th>\n",
        "      <th>Property type 1</th>\n",
        "      <td> 173.59</td>\n",
        "      <td> 2.95</td>\n",
        "      <td> 16.09</td>\n",
        "      <td> 369.23</td>\n",
        "      <td>  8.23</td>\n",
        "    </tr>\n",
        "    <tr>\n",
        "      <th>Property type 2</th>\n",
        "      <td> 120.67</td>\n",
        "      <td> 2.22</td>\n",
        "      <td> 12.33</td>\n",
        "      <td> 297.78</td>\n",
        "      <td>  9.22</td>\n",
        "    </tr>\n",
        "    <tr>\n",
        "      <th rowspan=\"2\" valign=\"top\">Neighborhood 19</th>\n",
        "      <th>Property type 1</th>\n",
        "      <td> 222.38</td>\n",
        "      <td> 3.62</td>\n",
        "      <td> 11.00</td>\n",
        "      <td> 254.50</td>\n",
        "      <td>  6.50</td>\n",
        "    </tr>\n",
        "    <tr>\n",
        "      <th>Property type 2</th>\n",
        "      <td>  88.88</td>\n",
        "      <td> 2.00</td>\n",
        "      <td> 15.12</td>\n",
        "      <td> 383.38</td>\n",
        "      <td>  5.50</td>\n",
        "    </tr>\n",
        "    <tr>\n",
        "      <th>Neighborhood 2</th>\n",
        "      <th>Property type 1</th>\n",
        "      <td> 250.00</td>\n",
        "      <td> 6.00</td>\n",
        "      <td>  8.00</td>\n",
        "      <td> 423.00</td>\n",
        "      <td>  6.00</td>\n",
        "    </tr>\n",
        "    <tr>\n",
        "      <th rowspan=\"2\" valign=\"top\">Neighborhood 20</th>\n",
        "      <th>Property type 1</th>\n",
        "      <td> 804.33</td>\n",
        "      <td> 2.78</td>\n",
        "      <td>  9.44</td>\n",
        "      <td> 223.56</td>\n",
        "      <td>  9.67</td>\n",
        "    </tr>\n",
        "    <tr>\n",
        "      <th>Property type 2</th>\n",
        "      <td>  60.00</td>\n",
        "      <td> 1.00</td>\n",
        "      <td>  3.00</td>\n",
        "      <td> 101.00</td>\n",
        "      <td>  6.00</td>\n",
        "    </tr>\n",
        "    <tr>\n",
        "      <th>Neighborhood 21</th>\n",
        "      <th>Property type 1</th>\n",
        "      <td> 362.50</td>\n",
        "      <td> 4.25</td>\n",
        "      <td> 49.00</td>\n",
        "      <td> 306.25</td>\n",
        "      <td> 14.75</td>\n",
        "    </tr>\n",
        "    <tr>\n",
        "      <th>Neighborhood 22</th>\n",
        "      <th>Property type 1</th>\n",
        "      <td> 225.00</td>\n",
        "      <td> 3.00</td>\n",
        "      <td> 19.00</td>\n",
        "      <td> 500.00</td>\n",
        "      <td>  9.00</td>\n",
        "    </tr>\n",
        "    <tr>\n",
        "      <th>Neighborhood 3</th>\n",
        "      <th>Property type 2</th>\n",
        "      <td>  60.00</td>\n",
        "      <td> 2.00</td>\n",
        "      <td>  7.00</td>\n",
        "      <td> 264.00</td>\n",
        "      <td>  9.00</td>\n",
        "    </tr>\n",
        "    <tr>\n",
        "      <th rowspan=\"2\" valign=\"top\">Neighborhood 4</th>\n",
        "      <th>Property type 2</th>\n",
        "      <td>  60.00</td>\n",
        "      <td> 2.00</td>\n",
        "      <td> 10.00</td>\n",
        "      <td>  95.00</td>\n",
        "      <td> 11.00</td>\n",
        "    </tr>\n",
        "    <tr>\n",
        "      <th>Property type 3</th>\n",
        "      <td>  40.00</td>\n",
        "      <td> 2.00</td>\n",
        "      <td>  4.00</td>\n",
        "      <td> 241.00</td>\n",
        "      <td> 19.00</td>\n",
        "    </tr>\n",
        "    <tr>\n",
        "      <th>Neighborhood 5</th>\n",
        "      <th>Property type 1</th>\n",
        "      <td> 194.50</td>\n",
        "      <td> 2.50</td>\n",
        "      <td>  8.50</td>\n",
        "      <td> 266.50</td>\n",
        "      <td> 11.50</td>\n",
        "    </tr>\n",
        "    <tr>\n",
        "      <th>Neighborhood 6</th>\n",
        "      <th>Property type 1</th>\n",
        "      <td> 146.00</td>\n",
        "      <td> 3.33</td>\n",
        "      <td> 12.67</td>\n",
        "      <td> 290.67</td>\n",
        "      <td>  4.00</td>\n",
        "    </tr>\n",
        "    <tr>\n",
        "      <th rowspan=\"2\" valign=\"top\">Neighborhood 7</th>\n",
        "      <th>Property type 1</th>\n",
        "      <td> 161.00</td>\n",
        "      <td> 3.67</td>\n",
        "      <td> 14.33</td>\n",
        "      <td> 343.00</td>\n",
        "      <td>  5.33</td>\n",
        "    </tr>\n",
        "    <tr>\n",
        "      <th>Property type 2</th>\n",
        "      <td> 100.00</td>\n",
        "      <td> 2.00</td>\n",
        "      <td>  3.00</td>\n",
        "      <td> 148.00</td>\n",
        "      <td>  2.00</td>\n",
        "    </tr>\n",
        "    <tr>\n",
        "      <th rowspan=\"2\" valign=\"top\">Neighborhood 8</th>\n",
        "      <th>Property type 1</th>\n",
        "      <td> 174.75</td>\n",
        "      <td> 5.00</td>\n",
        "      <td> 11.00</td>\n",
        "      <td> 300.00</td>\n",
        "      <td>  6.75</td>\n",
        "    </tr>\n",
        "    <tr>\n",
        "      <th>Property type 2</th>\n",
        "      <td> 350.00</td>\n",
        "      <td> 4.00</td>\n",
        "      <td>  5.00</td>\n",
        "      <td> 223.00</td>\n",
        "      <td>  3.00</td>\n",
        "    </tr>\n",
        "    <tr>\n",
        "      <th rowspan=\"2\" valign=\"top\">Neighborhood 9</th>\n",
        "      <th>Property type 1</th>\n",
        "      <td> 151.14</td>\n",
        "      <td> 4.29</td>\n",
        "      <td> 13.43</td>\n",
        "      <td> 471.43</td>\n",
        "      <td>  5.71</td>\n",
        "    </tr>\n",
        "    <tr>\n",
        "      <th>Property type 2</th>\n",
        "      <td> 110.00</td>\n",
        "      <td> 2.00</td>\n",
        "      <td>  3.50</td>\n",
        "      <td> 114.50</td>\n",
        "      <td>  9.00</td>\n",
        "    </tr>\n",
        "  </tbody>\n",
        "</table>\n",
        "</div>"
       ],
       "metadata": {},
       "output_type": "pyout",
       "prompt_number": 338,
       "text": [
        "                                  price  person_capacity  picture_count  \\\n",
        "neighborhood    prop_type                                                 \n",
        "Neighborhood 1  Property type 1   85.00             2.00          26.00   \n",
        "Neighborhood 10 Property type 1  142.50             3.50          13.33   \n",
        "                Property type 2  137.50             2.00          20.00   \n",
        "Neighborhood 11 Property type 1  159.43             3.21           9.93   \n",
        "                Property type 2   78.75             2.00          16.75   \n",
        "                Property type 3   75.00             2.00          15.00   \n",
        "Neighborhood 12 Property type 1  365.62             3.44          10.82   \n",
        "                Property type 2   96.89             1.95          10.47   \n",
        "Neighborhood 13 Property type 1  241.90             4.06          15.65   \n",
        "                Property type 2   81.13             1.83          16.70   \n",
        "Neighborhood 14 Property type 1  164.68             3.21          14.76   \n",
        "                Property type 2   83.81             1.86          15.90   \n",
        "                Property type 3   75.00             1.00           1.00   \n",
        "Neighborhood 15 Property type 1  178.88             3.72          14.32   \n",
        "                Property type 2   95.00             2.27          11.73   \n",
        "Neighborhood 16 Property type 1  158.93             2.93          21.64   \n",
        "                Property type 2   83.62             2.06          15.38   \n",
        "Neighborhood 17 Property type 1  189.87             3.52          16.09   \n",
        "                Property type 2  102.45             2.00          15.45   \n",
        "                Property type 3   65.00             2.00          15.00   \n",
        "Neighborhood 18 Property type 1  173.59             2.95          16.09   \n",
        "                Property type 2  120.67             2.22          12.33   \n",
        "Neighborhood 19 Property type 1  222.38             3.62          11.00   \n",
        "                Property type 2   88.88             2.00          15.12   \n",
        "Neighborhood 2  Property type 1  250.00             6.00           8.00   \n",
        "Neighborhood 20 Property type 1  804.33             2.78           9.44   \n",
        "                Property type 2   60.00             1.00           3.00   \n",
        "Neighborhood 21 Property type 1  362.50             4.25          49.00   \n",
        "Neighborhood 22 Property type 1  225.00             3.00          19.00   \n",
        "Neighborhood 3  Property type 2   60.00             2.00           7.00   \n",
        "Neighborhood 4  Property type 2   60.00             2.00          10.00   \n",
        "                Property type 3   40.00             2.00           4.00   \n",
        "Neighborhood 5  Property type 1  194.50             2.50           8.50   \n",
        "Neighborhood 6  Property type 1  146.00             3.33          12.67   \n",
        "Neighborhood 7  Property type 1  161.00             3.67          14.33   \n",
        "                Property type 2  100.00             2.00           3.00   \n",
        "Neighborhood 8  Property type 1  174.75             5.00          11.00   \n",
        "                Property type 2  350.00             4.00           5.00   \n",
        "Neighborhood 9  Property type 1  151.14             4.29          13.43   \n",
        "                Property type 2  110.00             2.00           3.50   \n",
        "\n",
        "                                 description_length  tenure_months  \n",
        "neighborhood    prop_type                                           \n",
        "Neighborhood 1  Property type 1              209.00           6.00  \n",
        "Neighborhood 10 Property type 1              391.00           3.83  \n",
        "                Property type 2              126.00           3.50  \n",
        "Neighborhood 11 Property type 1              379.00           9.64  \n",
        "                Property type 2              161.25          11.25  \n",
        "                Property type 3              196.00           8.00  \n",
        "Neighborhood 12 Property type 1              267.21           7.90  \n",
        "                Property type 2              244.53           9.84  \n",
        "Neighborhood 13 Property type 1              290.41           9.12  \n",
        "                Property type 2              418.57           9.74  \n",
        "Neighborhood 14 Property type 1              317.21           8.44  \n",
        "                Property type 2              348.62           8.71  \n",
        "                Property type 3              113.00           5.00  \n",
        "Neighborhood 15 Property type 1              321.76           9.32  \n",
        "                Property type 2              301.73           8.20  \n",
        "Neighborhood 16 Property type 1              310.71           7.07  \n",
        "                Property type 2              246.25           6.69  \n",
        "Neighborhood 17 Property type 1              317.35           9.87  \n",
        "                Property type 2              308.27           7.18  \n",
        "                Property type 3              189.00          23.00  \n",
        "Neighborhood 18 Property type 1              369.23           8.23  \n",
        "                Property type 2              297.78           9.22  \n",
        "Neighborhood 19 Property type 1              254.50           6.50  \n",
        "                Property type 2              383.38           5.50  \n",
        "Neighborhood 2  Property type 1              423.00           6.00  \n",
        "Neighborhood 20 Property type 1              223.56           9.67  \n",
        "                Property type 2              101.00           6.00  \n",
        "Neighborhood 21 Property type 1              306.25          14.75  \n",
        "Neighborhood 22 Property type 1              500.00           9.00  \n",
        "Neighborhood 3  Property type 2              264.00           9.00  \n",
        "Neighborhood 4  Property type 2               95.00          11.00  \n",
        "                Property type 3              241.00          19.00  \n",
        "Neighborhood 5  Property type 1              266.50          11.50  \n",
        "Neighborhood 6  Property type 1              290.67           4.00  \n",
        "Neighborhood 7  Property type 1              343.00           5.33  \n",
        "                Property type 2              148.00           2.00  \n",
        "Neighborhood 8  Property type 1              300.00           6.75  \n",
        "                Property type 2              223.00           3.00  \n",
        "Neighborhood 9  Property type 1              471.43           5.71  \n",
        "                Property type 2              114.50           9.00  "
       ]
      }
     ],
     "prompt_number": 338
    },
    {
     "cell_type": "markdown",
     "metadata": {},
     "source": [
      "###Plot daily bookings:"
     ]
    },
    {
     "cell_type": "code",
     "collapsed": false,
     "input": [
      "merged.info()"
     ],
     "language": "python",
     "metadata": {},
     "outputs": [
      {
       "output_type": "stream",
       "stream": "stdout",
       "text": [
        "<class 'pandas.core.frame.DataFrame'>\n",
        "Int64Index: 6076 entries, 0 to 6075\n",
        "Data columns (total 9 columns):\n",
        "prop_id               6076 non-null int64\n",
        "prop_type             6076 non-null object\n",
        "neighborhood          6076 non-null object\n",
        "price                 6076 non-null int64\n",
        "person_capacity       6076 non-null int64\n",
        "picture_count         6076 non-null int64\n",
        "description_length    6076 non-null int64\n",
        "tenure_months         6076 non-null int64\n",
        "booking_date          6076 non-null datetime64[ns]\n",
        "dtypes: datetime64[ns](1), int64(6), object(2)"
       ]
      }
     ],
     "prompt_number": 339
    },
    {
     "cell_type": "code",
     "collapsed": false,
     "input": [
      "merged.booking_date = pd.to_datetime(merged.booking_date)"
     ],
     "language": "python",
     "metadata": {},
     "outputs": [],
     "prompt_number": 340
    },
    {
     "cell_type": "code",
     "collapsed": false,
     "input": [
      "merged.info()"
     ],
     "language": "python",
     "metadata": {},
     "outputs": [
      {
       "output_type": "stream",
       "stream": "stdout",
       "text": [
        "<class 'pandas.core.frame.DataFrame'>\n",
        "Int64Index: 6076 entries, 0 to 6075\n",
        "Data columns (total 9 columns):\n",
        "prop_id               6076 non-null int64\n",
        "prop_type             6076 non-null object\n",
        "neighborhood          6076 non-null object\n",
        "price                 6076 non-null int64\n",
        "person_capacity       6076 non-null int64\n",
        "picture_count         6076 non-null int64\n",
        "description_length    6076 non-null int64\n",
        "tenure_months         6076 non-null int64\n",
        "booking_date          6076 non-null datetime64[ns]\n",
        "dtypes: datetime64[ns](1), int64(6), object(2)"
       ]
      }
     ],
     "prompt_number": 341
    },
    {
     "cell_type": "code",
     "collapsed": false,
     "input": [
      "merged['day_of_week'] = merged.booking_date.map(lambda x: x.dayofweek)"
     ],
     "language": "python",
     "metadata": {},
     "outputs": [],
     "prompt_number": 342
    },
    {
     "cell_type": "code",
     "collapsed": false,
     "input": [
      "def day(x):\n",
      "    day_of_week = {}\n",
      "    day_of_week[0] = 'Mon'\n",
      "    day_of_week[1] = 'Tues'\n",
      "    day_of_week[2] = 'Wed'\n",
      "    day_of_week[3] = 'Thurs'\n",
      "    day_of_week[4] = 'Fri'\n",
      "    day_of_week[5] = 'Sat'\n",
      "    day_of_week[6] = 'Sun'\n",
      "    return day_of_week[x]\n",
      "\n",
      "merged['day_name'] = merged['day_of_week'].map(day)"
     ],
     "language": "python",
     "metadata": {},
     "outputs": [],
     "prompt_number": 343
    },
    {
     "cell_type": "code",
     "collapsed": false,
     "input": [
      "merged.groupby(['day_of_week'])['day_name'].value_counts().plot(kind = 'bar')"
     ],
     "language": "python",
     "metadata": {},
     "outputs": [
      {
       "metadata": {},
       "output_type": "pyout",
       "prompt_number": 344,
       "text": [
        "<matplotlib.axes._subplots.AxesSubplot at 0x110b7e5d0>"
       ]
      },
      {
       "metadata": {},
       "output_type": "display_data",
       "png": "[encoded data removed]",
       "text": [
        "<matplotlib.figure.Figure at 0x110909450>"
       ]
      }
     ],
     "prompt_number": 344
    },
    {
     "cell_type": "markdown",
     "metadata": {},
     "source": [
      "###Plot the daily bookings per neighborhood (provide a legend)"
     ]
    },
    {
     "cell_type": "code",
     "collapsed": false,
     "input": [
      "sns.factorplot(\"neighborhood\", hue=\"day_name\", data=merged, palette=\"Purples_d\", size = 25, legend = True);"
     ],
     "language": "python",
     "metadata": {},
     "outputs": [
      {
       "metadata": {},
       "output_type": "display_data",
       "png": "[encoded data removed]",
       "text": [
        "<matplotlib.figure.Figure at 0x110b34790>"
       ]
      }
     ],
     "prompt_number": 345
    },
    {
     "cell_type": "code",
     "collapsed": false,
     "input": [],
     "language": "python",
     "metadata": {},
     "outputs": [],
     "prompt_number": 345
    },
    {
     "cell_type": "markdown",
     "metadata": {},
     "source": [
      "##Part 2 - Develop a data set"
     ]
    },
    {
     "cell_type": "markdown",
     "metadata": {},
     "source": [
      "###Add the columns `number_of_bookings` and `booking_rate` (number_of_bookings/tenure_months) to your `listings` data frame"
     ]
    },
    {
     "cell_type": "code",
     "collapsed": false,
     "input": [
      "bookings_ct = bookings.groupby('prop_id').count().reset_index()\n",
      "merged2 = listings.merge(bookings_ct, on = 'prop_id')\n",
      "merged2.head()\n"
     ],
     "language": "python",
     "metadata": {},
     "outputs": [
      {
       "html": [
        "<div style=\"max-height:1000px;max-width:1500px;overflow:auto;\">\n",
        "<table border=\"1\" class=\"dataframe\">\n",
        "  <thead>\n",
        "    <tr style=\"text-align: right;\">\n",
        "      <th></th>\n",
        "      <th>prop_id</th>\n",
        "      <th>prop_type</th>\n",
        "      <th>neighborhood</th>\n",
        "      <th>price</th>\n",
        "      <th>person_capacity</th>\n",
        "      <th>picture_count</th>\n",
        "      <th>description_length</th>\n",
        "      <th>tenure_months</th>\n",
        "      <th>booking_date</th>\n",
        "    </tr>\n",
        "  </thead>\n",
        "  <tbody>\n",
        "    <tr>\n",
        "      <th>0</th>\n",
        "      <td> 1</td>\n",
        "      <td> Property type 1</td>\n",
        "      <td> Neighborhood 14</td>\n",
        "      <td> 140</td>\n",
        "      <td> 3</td>\n",
        "      <td> 11</td>\n",
        "      <td> 232</td>\n",
        "      <td> 30</td>\n",
        "      <td>  4</td>\n",
        "    </tr>\n",
        "    <tr>\n",
        "      <th>1</th>\n",
        "      <td> 3</td>\n",
        "      <td> Property type 2</td>\n",
        "      <td> Neighborhood 16</td>\n",
        "      <td>  95</td>\n",
        "      <td> 2</td>\n",
        "      <td> 16</td>\n",
        "      <td> 172</td>\n",
        "      <td> 29</td>\n",
        "      <td>  1</td>\n",
        "    </tr>\n",
        "    <tr>\n",
        "      <th>2</th>\n",
        "      <td> 4</td>\n",
        "      <td> Property type 2</td>\n",
        "      <td> Neighborhood 13</td>\n",
        "      <td>  90</td>\n",
        "      <td> 2</td>\n",
        "      <td> 19</td>\n",
        "      <td> 472</td>\n",
        "      <td> 28</td>\n",
        "      <td> 27</td>\n",
        "    </tr>\n",
        "    <tr>\n",
        "      <th>3</th>\n",
        "      <td> 6</td>\n",
        "      <td> Property type 2</td>\n",
        "      <td> Neighborhood 13</td>\n",
        "      <td>  89</td>\n",
        "      <td> 2</td>\n",
        "      <td> 10</td>\n",
        "      <td> 886</td>\n",
        "      <td> 28</td>\n",
        "      <td> 88</td>\n",
        "    </tr>\n",
        "    <tr>\n",
        "      <th>4</th>\n",
        "      <td> 7</td>\n",
        "      <td> Property type 2</td>\n",
        "      <td> Neighborhood 13</td>\n",
        "      <td>  85</td>\n",
        "      <td> 1</td>\n",
        "      <td> 11</td>\n",
        "      <td>  58</td>\n",
        "      <td> 24</td>\n",
        "      <td>  2</td>\n",
        "    </tr>\n",
        "  </tbody>\n",
        "</table>\n",
        "</div>"
       ],
       "metadata": {},
       "output_type": "pyout",
       "prompt_number": 395,
       "text": [
        "   prop_id        prop_type     neighborhood  price  person_capacity  \\\n",
        "0        1  Property type 1  Neighborhood 14    140                3   \n",
        "1        3  Property type 2  Neighborhood 16     95                2   \n",
        "2        4  Property type 2  Neighborhood 13     90                2   \n",
        "3        6  Property type 2  Neighborhood 13     89                2   \n",
        "4        7  Property type 2  Neighborhood 13     85                1   \n",
        "\n",
        "   picture_count  description_length  tenure_months  booking_date  \n",
        "0             11                 232             30             4  \n",
        "1             16                 172             29             1  \n",
        "2             19                 472             28            27  \n",
        "3             10                 886             28            88  \n",
        "4             11                  58             24             2  "
       ]
      }
     ],
     "prompt_number": 395
    },
    {
     "cell_type": "code",
     "collapsed": false,
     "input": [
      "merged2.rename(columns = {'booking_date' : 'number_of_bookings'}, inplace = True)\n",
      "merged2['booking_rate'] = merged2.number_of_bookings/merged2.tenure_months\n",
      "merged2.info()"
     ],
     "language": "python",
     "metadata": {},
     "outputs": [
      {
       "output_type": "stream",
       "stream": "stdout",
       "text": [
        "<class 'pandas.core.frame.DataFrame'>\n",
        "Int64Index: 328 entries, 0 to 327\n",
        "Data columns (total 10 columns):\n",
        "prop_id               328 non-null int64\n",
        "prop_type             328 non-null object\n",
        "neighborhood          328 non-null object\n",
        "price                 328 non-null int64\n",
        "person_capacity       328 non-null int64\n",
        "picture_count         328 non-null int64\n",
        "description_length    328 non-null int64\n",
        "tenure_months         328 non-null int64\n",
        "number_of_bookings    328 non-null int64\n",
        "booking_rate          328 non-null float64\n",
        "dtypes: float64(1), int64(7), object(2)"
       ]
      }
     ],
     "prompt_number": 396
    },
    {
     "cell_type": "markdown",
     "metadata": {},
     "source": [
      "###We only want to analyze well established properties, so let's filter out any properties that have a tenure less than 10 months "
     ]
    },
    {
     "cell_type": "code",
     "collapsed": false,
     "input": [
      "merged2 = merged2[merged2.tenure_months  > 9]\n",
      "merged2.info()"
     ],
     "language": "python",
     "metadata": {},
     "outputs": [
      {
       "output_type": "stream",
       "stream": "stdout",
       "text": [
        "<class 'pandas.core.frame.DataFrame'>\n",
        "Int64Index: 113 entries, 0 to 112\n",
        "Data columns (total 10 columns):\n",
        "prop_id               113 non-null int64\n",
        "prop_type             113 non-null object\n",
        "neighborhood          113 non-null object\n",
        "price                 113 non-null int64\n",
        "person_capacity       113 non-null int64\n",
        "picture_count         113 non-null int64\n",
        "description_length    113 non-null int64\n",
        "tenure_months         113 non-null int64\n",
        "number_of_bookings    113 non-null int64\n",
        "booking_rate          113 non-null float64\n",
        "dtypes: float64(1), int64(7), object(2)"
       ]
      }
     ],
     "prompt_number": 397
    },
    {
     "cell_type": "markdown",
     "metadata": {},
     "source": [
      "###`prop_type` and `neighborhood` are categorical variables, use `get_dummies()` (http://pandas.pydata.org/pandas-docs/stable/generated/pandas.core.reshape.get_dummies.html) to transform this column of categorical data to many columns of boolean values (after applying this function correctly there should be 1 column for every prop_type and 1 column for every neighborhood category."
     ]
    },
    {
     "cell_type": "code",
     "collapsed": false,
     "input": [
      "dummy_prop = pd.get_dummies(merged2['prop_type'])\n",
      "dummy_neigh = pd.get_dummies(merged2['neighborhood'])\n",
      "merged2_prop = merged2.join(dummy_prop)"
     ],
     "language": "python",
     "metadata": {},
     "outputs": [],
     "prompt_number": 398
    },
    {
     "cell_type": "code",
     "collapsed": false,
     "input": [
      "merged3 = merged2_prop.join(dummy_neigh)\n"
     ],
     "language": "python",
     "metadata": {},
     "outputs": [],
     "prompt_number": 399
    },
    {
     "cell_type": "markdown",
     "metadata": {},
     "source": [
      "\n",
      "###create test and training sets for your regressors and predictors\n",
      "predictor (y) is `booking_rate`, regressors (X) are everything else, except `prop_id`,`booking_rate`,`prop_type`,`neighborhood` and `number_of_bookings`<br>\n",
      "http://scikit-learn.org/stable/modules/generated/sklearn.cross_validation.train_test_split.html<br>\n",
      "http://pandas.pydata.org/pandas-docs/stable/basics.html#dropping-labels-from-an-axis"
     ]
    },
    {
     "cell_type": "code",
     "collapsed": false,
     "input": [
      "from sklearn.cross_validation import train_test_split"
     ],
     "language": "python",
     "metadata": {},
     "outputs": [],
     "prompt_number": 400
    },
    {
     "cell_type": "code",
     "collapsed": false,
     "input": [
      "merged_final = merged3.drop(['prop_id', 'prop_type', 'neighborhood', 'number_of_bookings'], axis = 1)\n",
      "features = merged_final.drop(['booking_rate'], axis = 1).values\n",
      "target = merged_final['booking_rate'].values"
     ],
     "language": "python",
     "metadata": {},
     "outputs": [],
     "prompt_number": 401
    },
    {
     "cell_type": "code",
     "collapsed": false,
     "input": [],
     "language": "python",
     "metadata": {},
     "outputs": [],
     "prompt_number": 401
    },
    {
     "cell_type": "code",
     "collapsed": false,
     "input": [
      "features.shape"
     ],
     "language": "python",
     "metadata": {},
     "outputs": [
      {
       "metadata": {},
       "output_type": "pyout",
       "prompt_number": 402,
       "text": [
        "(113, 22)"
       ]
      }
     ],
     "prompt_number": 402
    },
    {
     "cell_type": "code",
     "collapsed": false,
     "input": [
      "target = np.log(target)"
     ],
     "language": "python",
     "metadata": {},
     "outputs": [],
     "prompt_number": 403
    },
    {
     "cell_type": "code",
     "collapsed": false,
     "input": [
      "feature_train, feature_test, target_train, target_test = train_test_split(features, target, test_size = .2, random_state = (9))"
     ],
     "language": "python",
     "metadata": {},
     "outputs": [],
     "prompt_number": 404
    },
    {
     "cell_type": "markdown",
     "metadata": {},
     "source": [
      "##Part 3 - Model `booking_rate`"
     ]
    },
    {
     "cell_type": "markdown",
     "metadata": {},
     "source": [
      "###Create a linear regression model of your listings"
     ]
    },
    {
     "cell_type": "code",
     "collapsed": false,
     "input": [
      "from sklearn.linear_model import LinearRegression\n",
      "lr = LinearRegression()"
     ],
     "language": "python",
     "metadata": {},
     "outputs": [],
     "prompt_number": 419
    },
    {
     "cell_type": "code",
     "collapsed": false,
     "input": [
      "lr.fit(feature_train, target_train )"
     ],
     "language": "python",
     "metadata": {},
     "outputs": [
      {
       "metadata": {},
       "output_type": "pyout",
       "prompt_number": 420,
       "text": [
        "LinearRegression(copy_X=True, fit_intercept=True, normalize=False)"
       ]
      }
     ],
     "prompt_number": 420
    },
    {
     "cell_type": "markdown",
     "metadata": {},
     "source": [
      "###fit your model with your test sets"
     ]
    },
    {
     "cell_type": "code",
     "collapsed": false,
     "input": [
      "target_pred = lr.predict(feature_test)"
     ],
     "language": "python",
     "metadata": {},
     "outputs": [],
     "prompt_number": 421
    },
    {
     "cell_type": "code",
     "collapsed": false,
     "input": [
      "# target_pred[target_pred == target_pred.min()] = target_pred.mean()\n",
      "\n",
      "target_pred[target_pred < -4] = target_pred.mean()\n",
      "\n",
      "target_pred"
     ],
     "language": "python",
     "metadata": {},
     "outputs": [
      {
       "metadata": {},
       "output_type": "pyout",
       "prompt_number": 422,
       "text": [
        "array([ 0.29523577, -2.04599243, -1.15709947, -1.87976958, -0.65496419,\n",
        "       -0.1700946 , -0.73483983, -1.12476064,  0.48094131, -0.24461875,\n",
        "       -0.21776611,  0.2702393 , -1.06444888, -1.18860123, -0.3414003 ,\n",
        "       -0.76560807,  0.68593991, -0.20624223, -0.07908219, -1.11982075,\n",
        "       -0.38995087,  0.64780865,  0.29358936])"
       ]
      }
     ],
     "prompt_number": 422
    },
    {
     "cell_type": "markdown",
     "metadata": {},
     "source": [
      "###report the score\n",
      "http://scikit-learn.org/stable/modules/generated/sklearn.linear_model.LinearRegression.html#sklearn.linear_model.LinearRegression.score"
     ]
    },
    {
     "cell_type": "code",
     "collapsed": false,
     "input": [
      "sum_sq_model = np.sum((target_test - target_pred) ** 2)\n",
      "sum_sq_model"
     ],
     "language": "python",
     "metadata": {},
     "outputs": [
      {
       "metadata": {},
       "output_type": "pyout",
       "prompt_number": 423,
       "text": [
        "43.863998813931239"
       ]
      }
     ],
     "prompt_number": 423
    },
    {
     "cell_type": "code",
     "collapsed": false,
     "input": [
      "sum_sq_naive = np.sum((target_test - target_test.mean()) ** 2)\n",
      "sum_sq_naive"
     ],
     "language": "python",
     "metadata": {},
     "outputs": [
      {
       "metadata": {},
       "output_type": "pyout",
       "prompt_number": 424,
       "text": [
        "44.793393920738836"
       ]
      }
     ],
     "prompt_number": 424
    },
    {
     "cell_type": "code",
     "collapsed": false,
     "input": [
      "1 - sum_sq_model / sum_sq_naive"
     ],
     "language": "python",
     "metadata": {},
     "outputs": [
      {
       "metadata": {},
       "output_type": "pyout",
       "prompt_number": 425,
       "text": [
        "0.020748486003363542"
       ]
      }
     ],
     "prompt_number": 425
    },
    {
     "cell_type": "code",
     "collapsed": false,
     "input": [
      "lr.score(feature_test, target_test, sample_weight = None)"
     ],
     "language": "python",
     "metadata": {},
     "outputs": [
      {
       "metadata": {},
       "output_type": "pyout",
       "prompt_number": 426,
       "text": [
        "0.020748486003363542"
       ]
      }
     ],
     "prompt_number": 426
    },
    {
     "cell_type": "code",
     "collapsed": false,
     "input": [
      "fig, ax = plt.subplots(1,1)\n",
      "\n",
      "ax.scatter(target_pred, target_test)\n",
      "ax.plot(target, target, 'r')"
     ],
     "language": "python",
     "metadata": {},
     "outputs": [
      {
       "metadata": {},
       "output_type": "pyout",
       "prompt_number": 388,
       "text": [
        "[<matplotlib.lines.Line2D at 0x1108f5e50>]"
       ]
      },
      {
       "metadata": {},
       "output_type": "display_data",
       "png": "[encoded data removed]",
       "text": [
        "<matplotlib.figure.Figure at 0x10f5ef150>"
       ]
      }
     ],
     "prompt_number": 388
    },
    {
     "cell_type": "markdown",
     "metadata": {},
     "source": [
      "###Interpret the results of the above model:\n",
      "* What does the `score` method do?\n",
      "* What does this tell us about our model?"
     ]
    },
    {
     "cell_type": "markdown",
     "metadata": {},
     "source": [
      "The score method is an indicator of how well the model is performing. It takes the squared difference between the target test y value and the predicted 'y' value. It then takes 1 and subtracts the squared difference. If value is 1 it means that the squared difference is 0, which would reflex prefectly predicted 'y' values. If the value is below 0 it means that the predicted values are worse than the just placing the mean of 'y' for every predicted value.\n",
      "\n",
      "The model comes up with a generally low or negative number, varying each time because train_test_split takes a different sample each time it runs. That means that the prediction is generally slightly better or slightly worse than the mean depending on the target_test and feature_test sample."
     ]
    },
    {
     "cell_type": "markdown",
     "metadata": {},
     "source": [
      "##Optional - Iterate\n",
      "Create an alternative predictor (e.g. monthly revenue) and use the same modeling pattern in Part 3 to  "
     ]
    },
    {
     "cell_type": "code",
     "collapsed": false,
     "input": [
      "merged_final['monthly_rev'] = merged_final.booking_rate * merged_final.price"
     ],
     "language": "python",
     "metadata": {},
     "outputs": [],
     "prompt_number": 191
    },
    {
     "cell_type": "code",
     "collapsed": false,
     "input": [
      "merged_final.monthly_rev.hist(bins = 50);"
     ],
     "language": "python",
     "metadata": {},
     "outputs": [
      {
       "metadata": {},
       "output_type": "display_data",
       "png": "[encoded data removed]",
       "text": [
        "<matplotlib.figure.Figure at 0x10b3fb190>"
       ]
      }
     ],
     "prompt_number": 192
    },
    {
     "cell_type": "code",
     "collapsed": false,
     "input": [
      "features1 = merged_final.drop(['booking_rate', 'monthly_rev'], axis = 1).values"
     ],
     "language": "python",
     "metadata": {},
     "outputs": [],
     "prompt_number": 193
    },
    {
     "cell_type": "code",
     "collapsed": false,
     "input": [
      "target1 = merged_final['monthly_rev']"
     ],
     "language": "python",
     "metadata": {},
     "outputs": [],
     "prompt_number": 194
    },
    {
     "cell_type": "code",
     "collapsed": false,
     "input": [
      "target1 = np.log(target1)"
     ],
     "language": "python",
     "metadata": {},
     "outputs": [],
     "prompt_number": 195
    },
    {
     "cell_type": "code",
     "collapsed": false,
     "input": [
      "features_train1, features_test1, target_train1, target_test1 = train_test_split(features1, target1, test_size = .2)"
     ],
     "language": "python",
     "metadata": {},
     "outputs": [],
     "prompt_number": 196
    },
    {
     "cell_type": "code",
     "collapsed": false,
     "input": [
      "lr.fit(features_train1, target_train1)"
     ],
     "language": "python",
     "metadata": {},
     "outputs": [
      {
       "metadata": {},
       "output_type": "pyout",
       "prompt_number": 197,
       "text": [
        "LinearRegression(copy_X=True, fit_intercept=True, normalize=False)"
       ]
      }
     ],
     "prompt_number": 197
    },
    {
     "cell_type": "code",
     "collapsed": false,
     "input": [
      "features_train1"
     ],
     "language": "python",
     "metadata": {},
     "outputs": [
      {
       "metadata": {},
       "output_type": "pyout",
       "prompt_number": 198,
       "text": [
        "array([[  49.,    2.,   14., ...,    0.,    0.,    0.],\n",
        "       [ 350.,    4.,   71., ...,    0.,    0.,    0.],\n",
        "       [ 175.,    3.,   24., ...,    0.,    0.,    0.],\n",
        "       ..., \n",
        "       [ 180.,    6.,   26., ...,    0.,    0.,    0.],\n",
        "       [ 110.,    3.,   29., ...,    0.,    0.,    0.],\n",
        "       [  65.,    2.,   15., ...,    0.,    0.,    0.]])"
       ]
      }
     ],
     "prompt_number": 198
    },
    {
     "cell_type": "code",
     "collapsed": false,
     "input": [
      "target_pred1 = lr.predict(features_test1)"
     ],
     "language": "python",
     "metadata": {},
     "outputs": [],
     "prompt_number": 199
    },
    {
     "cell_type": "code",
     "collapsed": false,
     "input": [],
     "language": "python",
     "metadata": {},
     "outputs": [],
     "prompt_number": 199
    },
    {
     "cell_type": "code",
     "collapsed": false,
     "input": [
      "sum_sq_model = np.sum((target_test1 - target_pred1) ** 2)\n",
      "sum_sq_model"
     ],
     "language": "python",
     "metadata": {},
     "outputs": [
      {
       "metadata": {},
       "output_type": "pyout",
       "prompt_number": 200,
       "text": [
        "27.479035852227003"
       ]
      }
     ],
     "prompt_number": 200
    },
    {
     "cell_type": "code",
     "collapsed": false,
     "input": [
      "sum_sq_naive = np.sum((target_test1 - target_test1.mean()) ** 2)\n",
      "sum_sq_naive"
     ],
     "language": "python",
     "metadata": {},
     "outputs": [
      {
       "metadata": {},
       "output_type": "pyout",
       "prompt_number": 201,
       "text": [
        "21.537077221694485"
       ]
      }
     ],
     "prompt_number": 201
    },
    {
     "cell_type": "code",
     "collapsed": false,
     "input": [
      "1 - sum_sq_model / sum_sq_naive"
     ],
     "language": "python",
     "metadata": {},
     "outputs": [
      {
       "metadata": {},
       "output_type": "pyout",
       "prompt_number": 202,
       "text": [
        "-0.27589438294566415"
       ]
      }
     ],
     "prompt_number": 202
    },
    {
     "cell_type": "code",
     "collapsed": false,
     "input": [
      "lr.score(features_test1, target_test1, sample_weight = None)"
     ],
     "language": "python",
     "metadata": {},
     "outputs": [
      {
       "metadata": {},
       "output_type": "pyout",
       "prompt_number": 203,
       "text": [
        "-0.27589438294566415"
       ]
      }
     ],
     "prompt_number": 203
    },
    {
     "cell_type": "code",
     "collapsed": false,
     "input": [
      "fig, ax = plt.subplots(1,1)\n",
      "\n",
      "ax.scatter(target_pred1, target_test1)\n",
      "ax.plot(target1, target1, 'r')"
     ],
     "language": "python",
     "metadata": {},
     "outputs": [
      {
       "metadata": {},
       "output_type": "pyout",
       "prompt_number": 204,
       "text": [
        "[<matplotlib.lines.Line2D at 0x10f78b890>]"
       ]
      },
      {
       "metadata": {},
       "output_type": "display_data",
       "png": "[encoded data removed]",
       "text": [
        "<matplotlib.figure.Figure at 0x10f78b910>"
       ]
      }
     ],
     "prompt_number": 204
    },
    {
     "cell_type": "code",
     "collapsed": false,
     "input": [],
     "language": "python",
     "metadata": {},
     "outputs": [],
     "prompt_number": 43
    },
    {
     "cell_type": "code",
     "collapsed": false,
     "input": [],
     "language": "python",
     "metadata": {},
     "outputs": [],
     "prompt_number": 43
    },
    {
     "cell_type": "code",
     "collapsed": false,
     "input": [],
     "language": "python",
     "metadata": {},
     "outputs": []
    }
   ],
   "metadata": {}
  }
 ]
}