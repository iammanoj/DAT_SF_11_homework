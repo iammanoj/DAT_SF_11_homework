{
 "metadata": {
  "name": "",
  "signature": "sha256:317c43fbc59063b2baaacd3340a5d09ce2490ddf90d3004c07ca317558711924"
 },
 "nbformat": 3,
 "nbformat_minor": 0,
 "worksheets": [
  {
   "cells": [
    {
     "cell_type": "markdown",
     "metadata": {},
     "source": [
      "\n",
      "#HW 3: KNN & Random Forest\n",
      "Get your data [here](https://archive.ics.uci.edu/ml/datasets/Bank+Marketing). The data is related with direct marketing campaigns of a Portuguese banking institution. The marketing campaigns were based on phone calls. Often, more than one contact to the same client was required, in order to access if the product (bank term deposit) would be ('yes') or not ('no') subscribed. There are four datasets:\n",
      "\n",
      "1) bank-additional-full.csv with all examples (41188) and 20 inputs, ordered by date (from May 2008 to November 2010)\n",
      "\n",
      "2) bank-additional.csv with 10% of the examples (4119), randomly selected from 1), and 20 inputs.\n",
      "\n",
      "3) bank-full.csv with all examples and 17 inputs, ordered by date (older version of this dataset with less inputs). \n",
      "\n",
      "4) bank.csv with 10% of the examples and 17 inputs, randomly selected from 3 (older version of this dataset with less inputs). \n",
      "\n",
      "The smallest datasets are provided to test more computationally demanding machine \n",
      "learning algorithms (e.g., SVM). \n",
      "\n",
      "The classification goal is to predict if the client will subscribe (yes/no) a term deposit (variable y)."
     ]
    },
    {
     "cell_type": "markdown",
     "metadata": {},
     "source": [
      "##Assignment\n",
      "* Preprocess your data (you may find `LabelEncoder` useful)\n",
      "* Train both KNN and Random Forest models\n",
      "* Find the best parameters by computing their learning curve (feel free to verify this with grid search)\n",
      "* Create a clasification report\n",
      "* Inspect your models, what features are most important? How might you use this information to improve model precision?\n"
     ]
    },
    {
     "cell_type": "code",
     "collapsed": false,
     "input": [
      "import pandas as pd\n",
      "import numpy as np\n",
      "import matplotlib.pyplot as plt\n",
      "from sklearn.ensemble import RandomForestClassifier as RF\n",
      "from sklearn.neighbors import KNeighborsClassifier as KNN\n",
      "from sklearn import preprocessing\n",
      "from sklearn import metrics\n",
      "\n",
      "%matplotlib inline"
     ],
     "language": "python",
     "metadata": {},
     "outputs": [],
     "prompt_number": 1
    },
    {
     "cell_type": "code",
     "collapsed": false,
     "input": [
      "bank_full_df = pd.read_csv('bank/bank-full.csv', sep = ';')"
     ],
     "language": "python",
     "metadata": {},
     "outputs": [],
     "prompt_number": 2
    },
    {
     "cell_type": "code",
     "collapsed": false,
     "input": [
      "bank_df = pd.read_csv('bank/bank.csv', sep = ';')"
     ],
     "language": "python",
     "metadata": {},
     "outputs": [],
     "prompt_number": 3
    },
    {
     "cell_type": "code",
     "collapsed": false,
     "input": [
      "bank_additional_full_df = pd.read_csv('bank-additional/bank-additional-full.csv', sep = ';')"
     ],
     "language": "python",
     "metadata": {},
     "outputs": [],
     "prompt_number": 4
    },
    {
     "cell_type": "code",
     "collapsed": false,
     "input": [
      "bank_additional_df = pd.read_csv('bank-additional/bank-additional.csv', sep = ';')"
     ],
     "language": "python",
     "metadata": {},
     "outputs": [],
     "prompt_number": 5
    },
    {
     "cell_type": "code",
     "collapsed": false,
     "input": [
      "bank_additional_df.head()"
     ],
     "language": "python",
     "metadata": {},
     "outputs": [
      {
       "html": [
        "<div style=\"max-height:1000px;max-width:1500px;overflow:auto;\">\n",
        "<table border=\"1\" class=\"dataframe\">\n",
        "  <thead>\n",
        "    <tr style=\"text-align: right;\">\n",
        "      <th></th>\n",
        "      <th>age</th>\n",
        "      <th>job</th>\n",
        "      <th>marital</th>\n",
        "      <th>education</th>\n",
        "      <th>default</th>\n",
        "      <th>housing</th>\n",
        "      <th>loan</th>\n",
        "      <th>contact</th>\n",
        "      <th>month</th>\n",
        "      <th>day_of_week</th>\n",
        "      <th>...</th>\n",
        "      <th>campaign</th>\n",
        "      <th>pdays</th>\n",
        "      <th>previous</th>\n",
        "      <th>poutcome</th>\n",
        "      <th>emp.var.rate</th>\n",
        "      <th>cons.price.idx</th>\n",
        "      <th>cons.conf.idx</th>\n",
        "      <th>euribor3m</th>\n",
        "      <th>nr.employed</th>\n",
        "      <th>y</th>\n",
        "    </tr>\n",
        "  </thead>\n",
        "  <tbody>\n",
        "    <tr>\n",
        "      <th>0</th>\n",
        "      <td> 30</td>\n",
        "      <td> blue-collar</td>\n",
        "      <td> married</td>\n",
        "      <td>          basic.9y</td>\n",
        "      <td> no</td>\n",
        "      <td>     yes</td>\n",
        "      <td>      no</td>\n",
        "      <td>  cellular</td>\n",
        "      <td> may</td>\n",
        "      <td> fri</td>\n",
        "      <td>...</td>\n",
        "      <td> 2</td>\n",
        "      <td> 999</td>\n",
        "      <td> 0</td>\n",
        "      <td> nonexistent</td>\n",
        "      <td>-1.8</td>\n",
        "      <td> 92.893</td>\n",
        "      <td>-46.2</td>\n",
        "      <td> 1.313</td>\n",
        "      <td> 5099.1</td>\n",
        "      <td> no</td>\n",
        "    </tr>\n",
        "    <tr>\n",
        "      <th>1</th>\n",
        "      <td> 39</td>\n",
        "      <td>    services</td>\n",
        "      <td>  single</td>\n",
        "      <td>       high.school</td>\n",
        "      <td> no</td>\n",
        "      <td>      no</td>\n",
        "      <td>      no</td>\n",
        "      <td> telephone</td>\n",
        "      <td> may</td>\n",
        "      <td> fri</td>\n",
        "      <td>...</td>\n",
        "      <td> 4</td>\n",
        "      <td> 999</td>\n",
        "      <td> 0</td>\n",
        "      <td> nonexistent</td>\n",
        "      <td> 1.1</td>\n",
        "      <td> 93.994</td>\n",
        "      <td>-36.4</td>\n",
        "      <td> 4.855</td>\n",
        "      <td> 5191.0</td>\n",
        "      <td> no</td>\n",
        "    </tr>\n",
        "    <tr>\n",
        "      <th>2</th>\n",
        "      <td> 25</td>\n",
        "      <td>    services</td>\n",
        "      <td> married</td>\n",
        "      <td>       high.school</td>\n",
        "      <td> no</td>\n",
        "      <td>     yes</td>\n",
        "      <td>      no</td>\n",
        "      <td> telephone</td>\n",
        "      <td> jun</td>\n",
        "      <td> wed</td>\n",
        "      <td>...</td>\n",
        "      <td> 1</td>\n",
        "      <td> 999</td>\n",
        "      <td> 0</td>\n",
        "      <td> nonexistent</td>\n",
        "      <td> 1.4</td>\n",
        "      <td> 94.465</td>\n",
        "      <td>-41.8</td>\n",
        "      <td> 4.962</td>\n",
        "      <td> 5228.1</td>\n",
        "      <td> no</td>\n",
        "    </tr>\n",
        "    <tr>\n",
        "      <th>3</th>\n",
        "      <td> 38</td>\n",
        "      <td>    services</td>\n",
        "      <td> married</td>\n",
        "      <td>          basic.9y</td>\n",
        "      <td> no</td>\n",
        "      <td> unknown</td>\n",
        "      <td> unknown</td>\n",
        "      <td> telephone</td>\n",
        "      <td> jun</td>\n",
        "      <td> fri</td>\n",
        "      <td>...</td>\n",
        "      <td> 3</td>\n",
        "      <td> 999</td>\n",
        "      <td> 0</td>\n",
        "      <td> nonexistent</td>\n",
        "      <td> 1.4</td>\n",
        "      <td> 94.465</td>\n",
        "      <td>-41.8</td>\n",
        "      <td> 4.959</td>\n",
        "      <td> 5228.1</td>\n",
        "      <td> no</td>\n",
        "    </tr>\n",
        "    <tr>\n",
        "      <th>4</th>\n",
        "      <td> 47</td>\n",
        "      <td>      admin.</td>\n",
        "      <td> married</td>\n",
        "      <td> university.degree</td>\n",
        "      <td> no</td>\n",
        "      <td>     yes</td>\n",
        "      <td>      no</td>\n",
        "      <td>  cellular</td>\n",
        "      <td> nov</td>\n",
        "      <td> mon</td>\n",
        "      <td>...</td>\n",
        "      <td> 1</td>\n",
        "      <td> 999</td>\n",
        "      <td> 0</td>\n",
        "      <td> nonexistent</td>\n",
        "      <td>-0.1</td>\n",
        "      <td> 93.200</td>\n",
        "      <td>-42.0</td>\n",
        "      <td> 4.191</td>\n",
        "      <td> 5195.8</td>\n",
        "      <td> no</td>\n",
        "    </tr>\n",
        "  </tbody>\n",
        "</table>\n",
        "<p>5 rows \u00d7 21 columns</p>\n",
        "</div>"
       ],
       "metadata": {},
       "output_type": "pyout",
       "prompt_number": 6,
       "text": [
        "   age          job  marital          education default  housing     loan  \\\n",
        "0   30  blue-collar  married           basic.9y      no      yes       no   \n",
        "1   39     services   single        high.school      no       no       no   \n",
        "2   25     services  married        high.school      no      yes       no   \n",
        "3   38     services  married           basic.9y      no  unknown  unknown   \n",
        "4   47       admin.  married  university.degree      no      yes       no   \n",
        "\n",
        "     contact month day_of_week ...  campaign  pdays  previous     poutcome  \\\n",
        "0   cellular   may         fri ...         2    999         0  nonexistent   \n",
        "1  telephone   may         fri ...         4    999         0  nonexistent   \n",
        "2  telephone   jun         wed ...         1    999         0  nonexistent   \n",
        "3  telephone   jun         fri ...         3    999         0  nonexistent   \n",
        "4   cellular   nov         mon ...         1    999         0  nonexistent   \n",
        "\n",
        "  emp.var.rate  cons.price.idx  cons.conf.idx  euribor3m  nr.employed   y  \n",
        "0         -1.8          92.893          -46.2      1.313       5099.1  no  \n",
        "1          1.1          93.994          -36.4      4.855       5191.0  no  \n",
        "2          1.4          94.465          -41.8      4.962       5228.1  no  \n",
        "3          1.4          94.465          -41.8      4.959       5228.1  no  \n",
        "4         -0.1          93.200          -42.0      4.191       5195.8  no  \n",
        "\n",
        "[5 rows x 21 columns]"
       ]
      }
     ],
     "prompt_number": 6
    },
    {
     "cell_type": "code",
     "collapsed": false,
     "input": [
      "from sklearn.cross_validation import train_test_split\n",
      "from sklearn.metrics import confusion_matrix, classification_report\n",
      "from sklearn.ensemble import RandomForestClassifier as RF\n",
      "from sklearn.neighbors import KNeighborsClassifier as KNN"
     ],
     "language": "python",
     "metadata": {},
     "outputs": [],
     "prompt_number": 7
    },
    {
     "cell_type": "code",
     "collapsed": false,
     "input": [
      "cat_columns = ['job', 'marital', 'education', 'default', 'housing', 'loan', 'contact', 'month', 'day_of_week', 'poutcome', 'y']"
     ],
     "language": "python",
     "metadata": {},
     "outputs": [],
     "prompt_number": 8
    },
    {
     "cell_type": "code",
     "collapsed": false,
     "input": [
      "le = preprocessing.LabelEncoder()\n",
      "\n",
      "for col in cat_columns:\n",
      "    bank_additional_full_df[col] = le.fit_transform(bank_additional_full_df[col])"
     ],
     "language": "python",
     "metadata": {},
     "outputs": [],
     "prompt_number": 9
    },
    {
     "cell_type": "code",
     "collapsed": false,
     "input": [
      "bank_additional_full_df.head()"
     ],
     "language": "python",
     "metadata": {},
     "outputs": [
      {
       "html": [
        "<div style=\"max-height:1000px;max-width:1500px;overflow:auto;\">\n",
        "<table border=\"1\" class=\"dataframe\">\n",
        "  <thead>\n",
        "    <tr style=\"text-align: right;\">\n",
        "      <th></th>\n",
        "      <th>age</th>\n",
        "      <th>job</th>\n",
        "      <th>marital</th>\n",
        "      <th>education</th>\n",
        "      <th>default</th>\n",
        "      <th>housing</th>\n",
        "      <th>loan</th>\n",
        "      <th>contact</th>\n",
        "      <th>month</th>\n",
        "      <th>day_of_week</th>\n",
        "      <th>...</th>\n",
        "      <th>campaign</th>\n",
        "      <th>pdays</th>\n",
        "      <th>previous</th>\n",
        "      <th>poutcome</th>\n",
        "      <th>emp.var.rate</th>\n",
        "      <th>cons.price.idx</th>\n",
        "      <th>cons.conf.idx</th>\n",
        "      <th>euribor3m</th>\n",
        "      <th>nr.employed</th>\n",
        "      <th>y</th>\n",
        "    </tr>\n",
        "  </thead>\n",
        "  <tbody>\n",
        "    <tr>\n",
        "      <th>0</th>\n",
        "      <td> 56</td>\n",
        "      <td> 3</td>\n",
        "      <td> 1</td>\n",
        "      <td> 0</td>\n",
        "      <td> 0</td>\n",
        "      <td> 0</td>\n",
        "      <td> 0</td>\n",
        "      <td> 1</td>\n",
        "      <td> 6</td>\n",
        "      <td> 1</td>\n",
        "      <td>...</td>\n",
        "      <td> 1</td>\n",
        "      <td> 999</td>\n",
        "      <td> 0</td>\n",
        "      <td> 1</td>\n",
        "      <td> 1.1</td>\n",
        "      <td> 93.994</td>\n",
        "      <td>-36.4</td>\n",
        "      <td> 4.857</td>\n",
        "      <td> 5191</td>\n",
        "      <td> 0</td>\n",
        "    </tr>\n",
        "    <tr>\n",
        "      <th>1</th>\n",
        "      <td> 57</td>\n",
        "      <td> 7</td>\n",
        "      <td> 1</td>\n",
        "      <td> 3</td>\n",
        "      <td> 1</td>\n",
        "      <td> 0</td>\n",
        "      <td> 0</td>\n",
        "      <td> 1</td>\n",
        "      <td> 6</td>\n",
        "      <td> 1</td>\n",
        "      <td>...</td>\n",
        "      <td> 1</td>\n",
        "      <td> 999</td>\n",
        "      <td> 0</td>\n",
        "      <td> 1</td>\n",
        "      <td> 1.1</td>\n",
        "      <td> 93.994</td>\n",
        "      <td>-36.4</td>\n",
        "      <td> 4.857</td>\n",
        "      <td> 5191</td>\n",
        "      <td> 0</td>\n",
        "    </tr>\n",
        "    <tr>\n",
        "      <th>2</th>\n",
        "      <td> 37</td>\n",
        "      <td> 7</td>\n",
        "      <td> 1</td>\n",
        "      <td> 3</td>\n",
        "      <td> 0</td>\n",
        "      <td> 2</td>\n",
        "      <td> 0</td>\n",
        "      <td> 1</td>\n",
        "      <td> 6</td>\n",
        "      <td> 1</td>\n",
        "      <td>...</td>\n",
        "      <td> 1</td>\n",
        "      <td> 999</td>\n",
        "      <td> 0</td>\n",
        "      <td> 1</td>\n",
        "      <td> 1.1</td>\n",
        "      <td> 93.994</td>\n",
        "      <td>-36.4</td>\n",
        "      <td> 4.857</td>\n",
        "      <td> 5191</td>\n",
        "      <td> 0</td>\n",
        "    </tr>\n",
        "    <tr>\n",
        "      <th>3</th>\n",
        "      <td> 40</td>\n",
        "      <td> 0</td>\n",
        "      <td> 1</td>\n",
        "      <td> 1</td>\n",
        "      <td> 0</td>\n",
        "      <td> 0</td>\n",
        "      <td> 0</td>\n",
        "      <td> 1</td>\n",
        "      <td> 6</td>\n",
        "      <td> 1</td>\n",
        "      <td>...</td>\n",
        "      <td> 1</td>\n",
        "      <td> 999</td>\n",
        "      <td> 0</td>\n",
        "      <td> 1</td>\n",
        "      <td> 1.1</td>\n",
        "      <td> 93.994</td>\n",
        "      <td>-36.4</td>\n",
        "      <td> 4.857</td>\n",
        "      <td> 5191</td>\n",
        "      <td> 0</td>\n",
        "    </tr>\n",
        "    <tr>\n",
        "      <th>4</th>\n",
        "      <td> 56</td>\n",
        "      <td> 7</td>\n",
        "      <td> 1</td>\n",
        "      <td> 3</td>\n",
        "      <td> 0</td>\n",
        "      <td> 0</td>\n",
        "      <td> 2</td>\n",
        "      <td> 1</td>\n",
        "      <td> 6</td>\n",
        "      <td> 1</td>\n",
        "      <td>...</td>\n",
        "      <td> 1</td>\n",
        "      <td> 999</td>\n",
        "      <td> 0</td>\n",
        "      <td> 1</td>\n",
        "      <td> 1.1</td>\n",
        "      <td> 93.994</td>\n",
        "      <td>-36.4</td>\n",
        "      <td> 4.857</td>\n",
        "      <td> 5191</td>\n",
        "      <td> 0</td>\n",
        "    </tr>\n",
        "  </tbody>\n",
        "</table>\n",
        "<p>5 rows \u00d7 21 columns</p>\n",
        "</div>"
       ],
       "metadata": {},
       "output_type": "pyout",
       "prompt_number": 10,
       "text": [
        "   age  job  marital  education  default  housing  loan  contact  month  \\\n",
        "0   56    3        1          0        0        0     0        1      6   \n",
        "1   57    7        1          3        1        0     0        1      6   \n",
        "2   37    7        1          3        0        2     0        1      6   \n",
        "3   40    0        1          1        0        0     0        1      6   \n",
        "4   56    7        1          3        0        0     2        1      6   \n",
        "\n",
        "   day_of_week ...  campaign  pdays  previous  poutcome  emp.var.rate  \\\n",
        "0            1 ...         1    999         0         1           1.1   \n",
        "1            1 ...         1    999         0         1           1.1   \n",
        "2            1 ...         1    999         0         1           1.1   \n",
        "3            1 ...         1    999         0         1           1.1   \n",
        "4            1 ...         1    999         0         1           1.1   \n",
        "\n",
        "   cons.price.idx  cons.conf.idx  euribor3m  nr.employed  y  \n",
        "0          93.994          -36.4      4.857         5191  0  \n",
        "1          93.994          -36.4      4.857         5191  0  \n",
        "2          93.994          -36.4      4.857         5191  0  \n",
        "3          93.994          -36.4      4.857         5191  0  \n",
        "4          93.994          -36.4      4.857         5191  0  \n",
        "\n",
        "[5 rows x 21 columns]"
       ]
      }
     ],
     "prompt_number": 10
    },
    {
     "cell_type": "code",
     "collapsed": false,
     "input": [],
     "language": "python",
     "metadata": {},
     "outputs": [],
     "prompt_number": 10
    },
    {
     "cell_type": "code",
     "collapsed": false,
     "input": [
      "%%time\n",
      "\n",
      "\n",
      "from sklearn.ensemble import RandomForestClassifier as RF\n",
      "# Random Forest\n",
      "def preprocess(df):\n",
      "    # Feature - Target\n",
      "    X = df.drop('y', axis = 1)\n",
      "    y = df.y.values\n",
      "    X_train, X_test, y_train, y_test = train_test_split(X, y, test_size = .2)\n",
      "    # Run Model\n",
      "    clf = RF(n_estimators = 50)\n",
      "    clf.fit(X_train, y_train)\n",
      "    y_pred = clf.predict(X_test)\n",
      "    # Get results\n",
      "    print y_pred.shape\n",
      "    print clf.score(X_test, y_test)\n",
      "    print confusion_matrix(y_test, y_pred)\n",
      "    print classification_report(y_test, y_pred)\n",
      "preprocess(bank_additional_full_df)"
     ],
     "language": "python",
     "metadata": {},
     "outputs": [
      {
       "output_type": "stream",
       "stream": "stdout",
       "text": [
        "(8238,)\n",
        "0.907380432144"
       ]
      },
      {
       "output_type": "stream",
       "stream": "stdout",
       "text": [
        "\n",
        "[[7018  271]\n",
        " [ 492  457]]\n",
        "             precision    recall  f1-score   support\n",
        "\n",
        "          0       0.93      0.96      0.95      7289\n",
        "          1       0.63      0.48      0.55       949\n",
        "\n",
        "avg / total       0.90      0.91      0.90      8238\n",
        "\n",
        "CPU times: user 1.73 s, sys: 42.6 ms, total: 1.77 s\n",
        "Wall time: 1.82 s\n"
       ]
      }
     ],
     "prompt_number": 11
    },
    {
     "cell_type": "code",
     "collapsed": false,
     "input": [
      "%%time\n",
      "def preprocess(df):\n",
      "    # Feature - Target\n",
      "    X = df.drop('y', axis = 1)\n",
      "    y = df.y.values\n",
      "    X_train, X_test, y_train, y_test = train_test_split(X, y, test_size = .2)\n",
      "    # Run Model\n",
      "    clf = KNN(n_neighbors = 5, algorithm = \"kd_tree\")\n",
      "    clf.fit(X_train, y_train)\n",
      "    y_pred = clf.predict(X_test)\n",
      "    # Get results\n",
      "    print y_pred.shape\n",
      "    print clf.score(X_test, y_test)\n",
      "    print confusion_matrix(y_test, y_pred)\n",
      "    print classification_report(y_test, y_pred)\n",
      "preprocess(bank_additional_full_df)"
     ],
     "language": "python",
     "metadata": {},
     "outputs": [
      {
       "output_type": "stream",
       "stream": "stdout",
       "text": [
        "(8238,)\n",
        "0.905074047099"
       ]
      },
      {
       "output_type": "stream",
       "stream": "stdout",
       "text": [
        "\n",
        "[[6969  322]\n",
        " [ 460  487]]\n",
        "             precision    recall  f1-score   support\n",
        "\n",
        "          0       0.94      0.96      0.95      7291\n",
        "          1       0.60      0.51      0.55       947\n",
        "\n",
        "avg / total       0.90      0.91      0.90      8238\n",
        "\n",
        "CPU times: user 1.97 s, sys: 16.7 ms, total: 1.99 s\n",
        "Wall time: 2.15 s\n"
       ]
      }
     ],
     "prompt_number": 12
    },
    {
     "cell_type": "code",
     "collapsed": false,
     "input": [
      "%matplotlib inline\n",
      "import numpy as np\n",
      "import matplotlib.pyplot as plt\n",
      "from sklearn.learning_curve import learning_curve\n",
      "\n",
      "def plot_learning_curve(estimator, title, X, y, ylim=None, cv=None,\n",
      "                        n_jobs=1, train_sizes=np.linspace(.1, 1.0, 5)):\n",
      "    \"\"\"\n",
      "    Generate a simple plot of the test and traning learning curve.\n",
      "\n",
      "    Parameters\n",
      "    ----------\n",
      "    estimator : object type that implements the \"fit\" and \"predict\" methods\n",
      "        An object of that type which is cloned for each validation.\n",
      "\n",
      "    title : string\n",
      "        Title for the chart.\n",
      "\n",
      "    X : array-like, shape (n_samples, n_features)\n",
      "        Training vector, where n_samples is the number of samples and\n",
      "        n_features is the number of features.\n",
      "\n",
      "    y : array-like, shape (n_samples) or (n_samples, n_features), optional\n",
      "        Target relative to X for classification or regression;\n",
      "        None for unsupervised learning.\n",
      "\n",
      "    ylim : tuple, shape (ymin, ymax), optional\n",
      "        Defines minimum and maximum yvalues plotted.\n",
      "\n",
      "    cv : integer, cross-validation generator, optional\n",
      "        If an integer is passed, it is the number of folds (defaults to 3).\n",
      "        Specific cross-validation objects can be passed, see\n",
      "        sklearn.cross_validation module for the list of possible objects\n",
      "\n",
      "    n_jobs : integer, optional\n",
      "        Number of jobs to run in parallel (default 1).\n",
      "    \"\"\"\n",
      "    plt.figure()\n",
      "    plt.title(title)\n",
      "    if ylim is not None:\n",
      "        plt.ylim(*ylim)\n",
      "    plt.xlabel(\"Training examples\")\n",
      "    plt.ylabel(\"Score\")\n",
      "    \n",
      "    train_sizes, train_scores, test_scores = learning_curve(\n",
      "        estimator, X, y, cv=cv, n_jobs=n_jobs, train_sizes=train_sizes)\n",
      "    train_scores_mean = np.mean(train_scores, axis=1)\n",
      "    train_scores_std = np.std(train_scores, axis=1)\n",
      "    test_scores_mean = np.mean(test_scores, axis=1)\n",
      "    test_scores_std = np.std(test_scores, axis=1)\n",
      "    plt.grid()\n",
      "\n",
      "    plt.fill_between(train_sizes, train_scores_mean - train_scores_std,\n",
      "                     train_scores_mean + train_scores_std, alpha=0.1,\n",
      "                     color=\"r\")\n",
      "    plt.fill_between(train_sizes, test_scores_mean - test_scores_std,\n",
      "                     test_scores_mean + test_scores_std, alpha=0.1, color=\"g\")\n",
      "    plt.plot(train_sizes, train_scores_mean, 'o-', color=\"r\",\n",
      "             label=\"Training score\")\n",
      "    plt.plot(train_sizes, test_scores_mean, 'o-', color=\"g\",\n",
      "             label=\"Cross-validation score\")\n",
      "\n",
      "    plt.legend(loc=\"best\")\n",
      "    return plt"
     ],
     "language": "python",
     "metadata": {},
     "outputs": [],
     "prompt_number": 13
    },
    {
     "cell_type": "code",
     "collapsed": false,
     "input": [
      "%%time\n",
      "def training_examples(df):\n",
      "    X = df.drop('y', axis = 1)\n",
      "    y = df.y.values\n",
      "    X_train, X_test, y_train, y_test = train_test_split(X, y, test_size = .2)\n",
      "\n",
      "    #this is an example of 1 learning curve for 1 model, try a few more.\n",
      "    plot_learning_curve(RF(n_estimators=10),'test',X_train, y_train)\n",
      "    \n",
      "training_examples(bank_additional_full_df)"
     ],
     "language": "python",
     "metadata": {},
     "outputs": [
      {
       "output_type": "stream",
       "stream": "stdout",
       "text": [
        "CPU times: user 2.07 s, sys: 50.7 ms, total: 2.12 s\n",
        "Wall time: 2.2 s\n"
       ]
      },
      {
       "metadata": {},
       "output_type": "display_data",
       "png": "[encoded data removed]",
       "text": [
        "<matplotlib.figure.Figure at 0x10931fbd0>"
       ]
      }
     ],
     "prompt_number": 14
    },
    {
     "cell_type": "heading",
     "level": 2,
     "metadata": {},
     "source": [
      "RF mean squared error"
     ]
    },
    {
     "cell_type": "code",
     "collapsed": false,
     "input": [
      "%%time\n",
      "def plot_RF_recall(df):\n",
      "    re_scores = []\n",
      "    X = df.drop('y', axis = 1)\n",
      "    y = df.y.values\n",
      "    X_train, X_test, y_train, y_test = train_test_split(X, y, test_size = .2)\n",
      "    def learning_curve(n):\n",
      "        for i in range(1, n):\n",
      "            clf = RF(n_estimators = i)\n",
      "            clf.fit(X_train, y_train)\n",
      "            y_pred = clf.predict(X_test)\n",
      "            re_score = metrics.mean_squared_error(y_test, y_pred)\n",
      "            re_scores.append(re_score)\n",
      "    learning_curve(30)\n",
      "    pd.DataFrame(re_scores).plot()\n",
      "plot_RF_recall(bank_additional_full_df)"
     ],
     "language": "python",
     "metadata": {},
     "outputs": [
      {
       "output_type": "stream",
       "stream": "stdout",
       "text": [
        "CPU times: user 13.8 s, sys: 264 ms, total: 14 s\n",
        "Wall time: 14 s\n"
       ]
      },
      {
       "metadata": {},
       "output_type": "display_data",
       "png": "[encoded data removed]",
       "text": [
        "<matplotlib.figure.Figure at 0x109310c50>"
       ]
      }
     ],
     "prompt_number": 15
    },
    {
     "cell_type": "heading",
     "level": 2,
     "metadata": {},
     "source": [
      "RF Recall"
     ]
    },
    {
     "cell_type": "code",
     "collapsed": false,
     "input": [
      "%%time\n",
      "def plot_RF_recall(df):\n",
      "    re_scores = []\n",
      "    X = df.drop('y', axis = 1)\n",
      "    y = df.y.values\n",
      "    X_train, X_test, y_train, y_test = train_test_split(X, y, test_size = .2)\n",
      "    def learning_curve(n):\n",
      "        for i in range(1, n):\n",
      "            clf = RF(n_estimators = i)\n",
      "            clf.fit(X_train, y_train)\n",
      "            y_pred = clf.predict(X_test)\n",
      "            re_score = metrics.recall_score(y_test, y_pred)\n",
      "            re_scores.append(re_score)\n",
      "    learning_curve(20)\n",
      "    pd.DataFrame(re_scores).plot()\n",
      "plot_RF_recall(bank_additional_full_df)"
     ],
     "language": "python",
     "metadata": {},
     "outputs": [
      {
       "output_type": "stream",
       "stream": "stdout",
       "text": [
        "CPU times: user 6.15 s, sys: 126 ms, total: 6.27 s\n",
        "Wall time: 6.27 s\n"
       ]
      },
      {
       "metadata": {},
       "output_type": "display_data",
       "png": "[encoded data removed]",
       "text": [
        "<matplotlib.figure.Figure at 0x109672490>"
       ]
      }
     ],
     "prompt_number": 16
    },
    {
     "cell_type": "heading",
     "level": 2,
     "metadata": {},
     "source": [
      "RF precision score"
     ]
    },
    {
     "cell_type": "code",
     "collapsed": false,
     "input": [
      "%%time\n",
      "def plot_RF_precision(df):\n",
      "    pre_scores = []\n",
      "    X = df.drop('y', axis = 1)\n",
      "    y = df.y.values\n",
      "    X_train, X_test, y_train, y_test = train_test_split(X, y, test_size = .2)\n",
      "    def learning_curve(n):\n",
      "        for i in range(1, n):\n",
      "            clf = RF(n_estimators = i)\n",
      "            clf.fit(X_train, y_train)\n",
      "            y_pred = clf.predict(X_test)\n",
      "            pre_score = metrics.precision_score(y_test, y_pred)\n",
      "            pre_scores.append(pre_score)\n",
      "    learning_curve(20)\n",
      "    pd.DataFrame(pre_scores).plot()\n",
      "plot_RF_precision(bank_additional_full_df)"
     ],
     "language": "python",
     "metadata": {},
     "outputs": [
      {
       "output_type": "stream",
       "stream": "stdout",
       "text": [
        "CPU times: user 6.2 s, sys: 125 ms, total: 6.32 s\n",
        "Wall time: 6.32 s\n"
       ]
      },
      {
       "metadata": {},
       "output_type": "display_data",
       "png": "[encoded data removed]",
       "text": [
        "<matplotlib.figure.Figure at 0x1096c2210>"
       ]
      }
     ],
     "prompt_number": 17
    },
    {
     "cell_type": "heading",
     "level": 2,
     "metadata": {},
     "source": [
      "KNN mean squared error"
     ]
    },
    {
     "cell_type": "code",
     "collapsed": false,
     "input": [
      "%%time\n",
      "def plot_KNN_recall(df):\n",
      "    re_scores = []\n",
      "    X = df.drop('y', axis = 1)\n",
      "    X = pd.get_dummies(X)\n",
      "    y = df.y.values\n",
      "    le = preprocessing.LabelEncoder()\n",
      "    le.fit([\"yes\", \"no\"])\n",
      "    y = le.transform(y)\n",
      "    X_train, X_test, y_train, y_test = train_test_split(X, y, test_size = .2)\n",
      "    def learning_curve(n):\n",
      "        for i in range(1, n):\n",
      "            clf = KNN(n_neighbors = i, algorithm = \"kd_tree\")\n",
      "            clf.fit(X_train, y_train)\n",
      "            y_pred = clf.predict(X_test)\n",
      "            re_score = metrics.mean_squared_error(y_test, y_pred)\n",
      "            re_scores.append(re_score)\n",
      "    learning_curve(50)\n",
      "    pd.DataFrame(re_scores).plot()\n",
      "plot_KNN_recall(bank_additional_df)"
     ],
     "language": "python",
     "metadata": {},
     "outputs": [
      {
       "output_type": "stream",
       "stream": "stdout",
       "text": [
        "CPU times: user 3.32 s, sys: 14.1 ms, total: 3.34 s\n",
        "Wall time: 3.34 s\n"
       ]
      },
      {
       "metadata": {},
       "output_type": "display_data",
       "png": "[encoded data removed]",
       "text": [
        "<matplotlib.figure.Figure at 0x109a034d0>"
       ]
      }
     ],
     "prompt_number": 19
    },
    {
     "cell_type": "heading",
     "level": 2,
     "metadata": {},
     "source": [
      "KNN recall score"
     ]
    },
    {
     "cell_type": "code",
     "collapsed": false,
     "input": [
      "%%time\n",
      "def plot_KNN_recall(df):\n",
      "    re_scores = []\n",
      "    X = df.drop('y', axis = 1)\n",
      "    X = pd.get_dummies(X)\n",
      "    y = df.y.values\n",
      "    le = preprocessing.LabelEncoder()\n",
      "    le.fit([\"yes\", \"no\"])\n",
      "    y = le.transform(y)\n",
      "    X_train, X_test, y_train, y_test = train_test_split(X, y, test_size = .2)\n",
      "    def learning_curve(n):\n",
      "        for i in range(1, n):\n",
      "            clf = KNN(n_neighbors = i, algorithm = \"kd_tree\")\n",
      "            clf.fit(X_train, y_train)\n",
      "            y_pred = clf.predict(X_test)\n",
      "            re_score = metrics.recall_score(y_test, y_pred)\n",
      "            re_scores.append(re_score)\n",
      "    learning_curve(50)\n",
      "    pd.DataFrame(re_scores).plot()\n",
      "plot_KNN_recall(bank_additional_df)"
     ],
     "language": "python",
     "metadata": {},
     "outputs": [
      {
       "output_type": "stream",
       "stream": "stdout",
       "text": [
        "CPU times: user 3.19 s, sys: 9.46 ms, total: 3.2 s\n",
        "Wall time: 3.19 s\n"
       ]
      },
      {
       "metadata": {},
       "output_type": "display_data",
       "png": "[encoded data removed]",
       "text": [
        "<matplotlib.figure.Figure at 0x109d4ea50>"
       ]
      }
     ],
     "prompt_number": 20
    },
    {
     "cell_type": "heading",
     "level": 2,
     "metadata": {},
     "source": [
      "KNN precision score"
     ]
    },
    {
     "cell_type": "code",
     "collapsed": false,
     "input": [
      "%%time\n",
      "def plot_KNN_precision(df):\n",
      "    pre_scores = []\n",
      "    X = df.drop('y', axis = 1)\n",
      "    X = pd.get_dummies(X)\n",
      "    y = df.y.values\n",
      "    le = preprocessing.LabelEncoder()\n",
      "    le.fit([\"yes\", \"no\"])\n",
      "    y = le.transform(y)\n",
      "    X_train, X_test, y_train, y_test = train_test_split(X, y, test_size = .2)\n",
      "    def learning_curve(n):\n",
      "        for i in range(1, n):\n",
      "            clf = KNN(n_neighbors = i, algorithm = \"kd_tree\")\n",
      "            clf.fit(X_train, y_train)\n",
      "            y_pred = clf.predict(X_test)\n",
      "            pre_score = metrics.precision_score(y_test, y_pred)\n",
      "            pre_scores.append(pre_score)\n",
      "    learning_curve(50)\n",
      "    pd.DataFrame(pre_scores).plot()\n",
      "plot_KNN_precision(bank_additional_df)"
     ],
     "language": "python",
     "metadata": {},
     "outputs": [
      {
       "output_type": "stream",
       "stream": "stdout",
       "text": [
        "CPU times: user 3.18 s, sys: 8.63 ms, total: 3.19 s\n",
        "Wall time: 3.19 s\n"
       ]
      },
      {
       "metadata": {},
       "output_type": "display_data",
       "png": "[encoded data removed]",
       "text": [
        "<matplotlib.figure.Figure at 0x109656d10>"
       ]
      }
     ],
     "prompt_number": 21
    },
    {
     "cell_type": "heading",
     "level": 2,
     "metadata": {},
     "source": [
      "KNN classification_report"
     ]
    },
    {
     "cell_type": "code",
     "collapsed": false,
     "input": [
      "%%time\n",
      "def plot_KNN_precision(df):\n",
      "    re_scores = []\n",
      "    X = df.drop('y', axis = 1)\n",
      "    X = pd.get_dummies(X)\n",
      "    y = df.y.values\n",
      "    le = preprocessing.LabelEncoder()\n",
      "    le.fit([\"yes\", \"no\"])\n",
      "    y = le.transform(y)\n",
      "    X_train, X_test, y_train, y_test = train_test_split(X, y, test_size = .2)\n",
      "    clf = KNN(n_neighbors = 42, algorithm = \"kd_tree\")\n",
      "    clf.fit(X_train, y_train)\n",
      "    y_pred = clf.predict(X_test)\n",
      "    print classification_report(y_test, y_pred)\n",
      "plot_KNN_precision(bank_additional_df)"
     ],
     "language": "python",
     "metadata": {},
     "outputs": [
      {
       "output_type": "stream",
       "stream": "stdout",
       "text": [
        "             precision    recall  f1-score   support\n",
        "\n",
        "          0       0.95      0.98      0.96       759\n",
        "          1       0.60      0.37      0.46        65\n",
        "\n",
        "avg / total       0.92      0.93      0.92       824\n",
        "\n",
        "CPU times: user 108 ms, sys: 4.77 ms, total: 112 ms\n",
        "Wall time: 111 ms\n"
       ]
      }
     ],
     "prompt_number": 22
    },
    {
     "cell_type": "heading",
     "level": 2,
     "metadata": {},
     "source": [
      "RF feature importances "
     ]
    },
    {
     "cell_type": "code",
     "collapsed": false,
     "input": [
      "%%time\n",
      "from sklearn.ensemble import RandomForestClassifier as RF\n",
      "# Random ForestZaQ\n",
      "def preprocess(df):\n",
      "    # Feature - Target\n",
      "    X = df.drop('y', axis = 1)\n",
      "    y = df.y.values\n",
      "    X_train, X_test, y_train, y_test = train_test_split(X, y, test_size = .2)\n",
      "    # Run Model\n",
      "    clf = RF(n_estimators = 10)\n",
      "    clf.fit(X_train, y_train)\n",
      "    print sorted(zip(clf.feature_importances_, bank_additional_full_df.columns), reverse=True)[:5]\n",
      "preprocess(bank_additional_full_df)"
     ],
     "language": "python",
     "metadata": {},
     "outputs": [
      {
       "output_type": "stream",
       "stream": "stdout",
       "text": [
        "[(0.30022711109339417, 'duration'), (0.13223064311954683, 'euribor3m'), (0.094320775671858204, 'age'), (0.051103975755848727, 'pdays'), (0.051078511808145634, 'job')]\n",
        "CPU times: user 341 ms, sys: 17.3 ms, total: 359 ms\n",
        "Wall time: 357 ms\n"
       ]
      }
     ],
     "prompt_number": 23
    },
    {
     "cell_type": "code",
     "collapsed": false,
     "input": [],
     "language": "python",
     "metadata": {},
     "outputs": []
    },
    {
     "cell_type": "markdown",
     "metadata": {},
     "source": [
      "Most important feature is duration followed by euribor3m then age"
     ]
    },
    {
     "cell_type": "code",
     "collapsed": false,
     "input": [],
     "language": "python",
     "metadata": {},
     "outputs": [],
     "prompt_number": 23
    },
    {
     "cell_type": "code",
     "collapsed": false,
     "input": [],
     "language": "python",
     "metadata": {},
     "outputs": [],
     "prompt_number": 23
    },
    {
     "cell_type": "code",
     "collapsed": false,
     "input": [],
     "language": "python",
     "metadata": {},
     "outputs": []
    },
    {
     "cell_type": "code",
     "collapsed": false,
     "input": [],
     "language": "python",
     "metadata": {},
     "outputs": []
    },
    {
     "cell_type": "code",
     "collapsed": false,
     "input": [],
     "language": "python",
     "metadata": {},
     "outputs": []
    },
    {
     "cell_type": "code",
     "collapsed": false,
     "input": [],
     "language": "python",
     "metadata": {},
     "outputs": []
    }
   ],
   "metadata": {}
  }
 ]
}