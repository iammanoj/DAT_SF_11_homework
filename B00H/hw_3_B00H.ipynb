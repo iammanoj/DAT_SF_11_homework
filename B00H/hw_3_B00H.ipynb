{
 "metadata": {
  "name": "",
  "signature": "sha256:4c3bff1cc7fce6e1e9a3733e5bfd122e8be4ab48131968ab8135b515c29f8ffd"
 },
 "nbformat": 3,
 "nbformat_minor": 0,
 "worksheets": [
  {
   "cells": [
    {
     "cell_type": "markdown",
     "metadata": {},
     "source": [
      "#HW 3: KNN & Random Forest\n",
      "Get your data [here](https://archive.ics.uci.edu/ml/datasets/Bank+Marketing). The data is related with direct marketing campaigns of a Portuguese banking institution. The marketing campaigns were based on phone calls. Often, more than one contact to the same client was required, in order to access if the product (bank term deposit) would be ('yes') or not ('no') subscribed. There are four datasets:\n",
      "\n",
      "1) bank-additional-full.csv with all examples (41188) and 20 inputs, ordered by date (from May 2008 to November 2010)\n",
      "\n",
      "2) bank-additional.csv with 10% of the examples (4119), randomly selected from 1), and 20 inputs.\n",
      "\n",
      "3) bank-full.csv with all examples and 17 inputs, ordered by date (older version of this dataset with less inputs). \n",
      "\n",
      "4) bank.csv with 10% of the examples and 17 inputs, randomly selected from 3 (older version of this dataset with less inputs). \n",
      "\n",
      "The smallest datasets are provided to test more computationally demanding machine \n",
      "learning algorithms (e.g., SVM). \n",
      "\n",
      "The classification goal is to predict if the client will subscribe (yes/no) a term deposit (variable y)."
     ]
    },
    {
     "cell_type": "markdown",
     "metadata": {},
     "source": [
      "##Assignment\n",
      "* Preprocess your data (you may find `LabelEncoder` useful)\n",
      "* Train both KNN and Random Forest models\n",
      "* Find the best parameters by computing their learning curve (feel free to verify this with grid search)\n",
      "* Create a clasification report\n",
      "* Inspect your models, what features are most important? How might you use this information to improve model precision?\n"
     ]
    },
    {
     "cell_type": "code",
     "collapsed": false,
     "input": [
      "import json\n",
      "import pandas as pd\n",
      "import numpy as np\n",
      "import matplotlib.pyplot as plt\n",
      "import sklearn.cross_validation as cv\n",
      "\n",
      "import sys\n",
      "import re\n",
      "import os\n",
      "import pprint\n",
      "\n",
      "import random \n",
      "\n",
      "from scipy import stats \n",
      "from sklearn.cross_validation import train_test_split, cross_val_score\n",
      "from sklearn.metrics import confusion_matrix, classification_report, matthews_corrcoef\n",
      "from sklearn.grid_search import GridSearchCV\n",
      "from sklearn.svm import LinearSVC, SVC\n",
      "from sklearn import preprocessing\n",
      "from collections import Counter\n",
      "from datetime import datetime\n",
      "from collections import Counter\n",
      "from fuzzywuzzy import fuzz\n",
      "from sklearn.neighbors import KNeighborsClassifier\n",
      "from sklearn.learning_curve import learning_curve\n",
      "from sklearn.ensemble import RandomForestClassifier\n",
      "\n",
      "pd.set_option('display.max_rows', 25)\n",
      "pd.set_option('display.precision', 4)\n",
      "np.set_printoptions(precision = 4)\n",
      "\n",
      "%matplotlib inline\n",
      "\n",
      "print 'Python version ' + sys.version\n",
      "print 'Pandas version ' + pd.__version__\n",
      "print 'Numpy version ' + np.__version__"
     ],
     "language": "python",
     "metadata": {},
     "outputs": [
      {
       "output_type": "stream",
       "stream": "stdout",
       "text": [
        "Python version 2.7.9 |Anaconda 2.1.0 (x86_64)| (default, Dec 15 2014, 10:37:34) \n",
        "[GCC 4.2.1 (Apple Inc. build 5577)]\n",
        "Pandas version 0.15.2\n",
        "Numpy version 1.9.1\n"
       ]
      }
     ],
     "prompt_number": 1
    },
    {
     "cell_type": "code",
     "collapsed": false,
     "input": [
      "bank = pd.read_csv('./bank-additional/bank-additional-full.csv', delimiter = ';')"
     ],
     "language": "python",
     "metadata": {},
     "outputs": [],
     "prompt_number": 2
    },
    {
     "cell_type": "code",
     "collapsed": false,
     "input": [
      "bank.head()"
     ],
     "language": "python",
     "metadata": {},
     "outputs": [
      {
       "html": [
        "<div style=\"max-height:1000px;max-width:1500px;overflow:auto;\">\n",
        "<table border=\"1\" class=\"dataframe\">\n",
        "  <thead>\n",
        "    <tr style=\"text-align: right;\">\n",
        "      <th></th>\n",
        "      <th>age</th>\n",
        "      <th>job</th>\n",
        "      <th>marital</th>\n",
        "      <th>education</th>\n",
        "      <th>default</th>\n",
        "      <th>housing</th>\n",
        "      <th>loan</th>\n",
        "      <th>contact</th>\n",
        "      <th>month</th>\n",
        "      <th>day_of_week</th>\n",
        "      <th>...</th>\n",
        "      <th>campaign</th>\n",
        "      <th>pdays</th>\n",
        "      <th>previous</th>\n",
        "      <th>poutcome</th>\n",
        "      <th>emp.var.rate</th>\n",
        "      <th>cons.price.idx</th>\n",
        "      <th>cons.conf.idx</th>\n",
        "      <th>euribor3m</th>\n",
        "      <th>nr.employed</th>\n",
        "      <th>y</th>\n",
        "    </tr>\n",
        "  </thead>\n",
        "  <tbody>\n",
        "    <tr>\n",
        "      <th>0</th>\n",
        "      <td> 56</td>\n",
        "      <td> housemaid</td>\n",
        "      <td> married</td>\n",
        "      <td>    basic.4y</td>\n",
        "      <td>      no</td>\n",
        "      <td>  no</td>\n",
        "      <td>  no</td>\n",
        "      <td> telephone</td>\n",
        "      <td> may</td>\n",
        "      <td> mon</td>\n",
        "      <td>...</td>\n",
        "      <td> 1</td>\n",
        "      <td> 999</td>\n",
        "      <td> 0</td>\n",
        "      <td> nonexistent</td>\n",
        "      <td> 1.1</td>\n",
        "      <td> 93.994</td>\n",
        "      <td>-36.4</td>\n",
        "      <td> 4.857</td>\n",
        "      <td> 5191</td>\n",
        "      <td> no</td>\n",
        "    </tr>\n",
        "    <tr>\n",
        "      <th>1</th>\n",
        "      <td> 57</td>\n",
        "      <td>  services</td>\n",
        "      <td> married</td>\n",
        "      <td> high.school</td>\n",
        "      <td> unknown</td>\n",
        "      <td>  no</td>\n",
        "      <td>  no</td>\n",
        "      <td> telephone</td>\n",
        "      <td> may</td>\n",
        "      <td> mon</td>\n",
        "      <td>...</td>\n",
        "      <td> 1</td>\n",
        "      <td> 999</td>\n",
        "      <td> 0</td>\n",
        "      <td> nonexistent</td>\n",
        "      <td> 1.1</td>\n",
        "      <td> 93.994</td>\n",
        "      <td>-36.4</td>\n",
        "      <td> 4.857</td>\n",
        "      <td> 5191</td>\n",
        "      <td> no</td>\n",
        "    </tr>\n",
        "    <tr>\n",
        "      <th>2</th>\n",
        "      <td> 37</td>\n",
        "      <td>  services</td>\n",
        "      <td> married</td>\n",
        "      <td> high.school</td>\n",
        "      <td>      no</td>\n",
        "      <td> yes</td>\n",
        "      <td>  no</td>\n",
        "      <td> telephone</td>\n",
        "      <td> may</td>\n",
        "      <td> mon</td>\n",
        "      <td>...</td>\n",
        "      <td> 1</td>\n",
        "      <td> 999</td>\n",
        "      <td> 0</td>\n",
        "      <td> nonexistent</td>\n",
        "      <td> 1.1</td>\n",
        "      <td> 93.994</td>\n",
        "      <td>-36.4</td>\n",
        "      <td> 4.857</td>\n",
        "      <td> 5191</td>\n",
        "      <td> no</td>\n",
        "    </tr>\n",
        "    <tr>\n",
        "      <th>3</th>\n",
        "      <td> 40</td>\n",
        "      <td>    admin.</td>\n",
        "      <td> married</td>\n",
        "      <td>    basic.6y</td>\n",
        "      <td>      no</td>\n",
        "      <td>  no</td>\n",
        "      <td>  no</td>\n",
        "      <td> telephone</td>\n",
        "      <td> may</td>\n",
        "      <td> mon</td>\n",
        "      <td>...</td>\n",
        "      <td> 1</td>\n",
        "      <td> 999</td>\n",
        "      <td> 0</td>\n",
        "      <td> nonexistent</td>\n",
        "      <td> 1.1</td>\n",
        "      <td> 93.994</td>\n",
        "      <td>-36.4</td>\n",
        "      <td> 4.857</td>\n",
        "      <td> 5191</td>\n",
        "      <td> no</td>\n",
        "    </tr>\n",
        "    <tr>\n",
        "      <th>4</th>\n",
        "      <td> 56</td>\n",
        "      <td>  services</td>\n",
        "      <td> married</td>\n",
        "      <td> high.school</td>\n",
        "      <td>      no</td>\n",
        "      <td>  no</td>\n",
        "      <td> yes</td>\n",
        "      <td> telephone</td>\n",
        "      <td> may</td>\n",
        "      <td> mon</td>\n",
        "      <td>...</td>\n",
        "      <td> 1</td>\n",
        "      <td> 999</td>\n",
        "      <td> 0</td>\n",
        "      <td> nonexistent</td>\n",
        "      <td> 1.1</td>\n",
        "      <td> 93.994</td>\n",
        "      <td>-36.4</td>\n",
        "      <td> 4.857</td>\n",
        "      <td> 5191</td>\n",
        "      <td> no</td>\n",
        "    </tr>\n",
        "  </tbody>\n",
        "</table>\n",
        "<p>5 rows \u00d7 21 columns</p>\n",
        "</div>"
       ],
       "metadata": {},
       "output_type": "pyout",
       "prompt_number": 3,
       "text": [
        "   age        job  marital    education  default housing loan    contact  \\\n",
        "0   56  housemaid  married     basic.4y       no      no   no  telephone   \n",
        "1   57   services  married  high.school  unknown      no   no  telephone   \n",
        "2   37   services  married  high.school       no     yes   no  telephone   \n",
        "3   40     admin.  married     basic.6y       no      no   no  telephone   \n",
        "4   56   services  married  high.school       no      no  yes  telephone   \n",
        "\n",
        "  month day_of_week ...  campaign  pdays  previous     poutcome emp.var.rate  \\\n",
        "0   may         mon ...         1    999         0  nonexistent          1.1   \n",
        "1   may         mon ...         1    999         0  nonexistent          1.1   \n",
        "2   may         mon ...         1    999         0  nonexistent          1.1   \n",
        "3   may         mon ...         1    999         0  nonexistent          1.1   \n",
        "4   may         mon ...         1    999         0  nonexistent          1.1   \n",
        "\n",
        "   cons.price.idx  cons.conf.idx  euribor3m  nr.employed   y  \n",
        "0          93.994          -36.4      4.857         5191  no  \n",
        "1          93.994          -36.4      4.857         5191  no  \n",
        "2          93.994          -36.4      4.857         5191  no  \n",
        "3          93.994          -36.4      4.857         5191  no  \n",
        "4          93.994          -36.4      4.857         5191  no  \n",
        "\n",
        "[5 rows x 21 columns]"
       ]
      }
     ],
     "prompt_number": 3
    },
    {
     "cell_type": "code",
     "collapsed": false,
     "input": [
      "bank.info()"
     ],
     "language": "python",
     "metadata": {},
     "outputs": [
      {
       "output_type": "stream",
       "stream": "stdout",
       "text": [
        "<class 'pandas.core.frame.DataFrame'>\n",
        "Int64Index: 41188 entries, 0 to 41187\n",
        "Data columns (total 21 columns):\n",
        "age               41188 non-null int64\n",
        "job               41188 non-null object\n",
        "marital           41188 non-null object\n",
        "education         41188 non-null object\n",
        "default           41188 non-null object\n",
        "housing           41188 non-null object\n",
        "loan              41188 non-null object\n",
        "contact           41188 non-null object\n",
        "month             41188 non-null object\n",
        "day_of_week       41188 non-null object\n",
        "duration          41188 non-null int64\n",
        "campaign          41188 non-null int64\n",
        "pdays             41188 non-null int64\n",
        "previous          41188 non-null int64\n",
        "poutcome          41188 non-null object\n",
        "emp.var.rate      41188 non-null float64\n",
        "cons.price.idx    41188 non-null float64\n",
        "cons.conf.idx     41188 non-null float64\n",
        "euribor3m         41188 non-null float64\n",
        "nr.employed       41188 non-null float64\n",
        "y                 41188 non-null object\n",
        "dtypes: float64(5), int64(5), object(11)\n",
        "memory usage: 6.9+ MB\n"
       ]
      }
     ],
     "prompt_number": 4
    },
    {
     "cell_type": "heading",
     "level": 3,
     "metadata": {},
     "source": [
      "Deal with missing values"
     ]
    },
    {
     "cell_type": "code",
     "collapsed": false,
     "input": [
      "# Missing values - none?! Maybe coded with ?. Let's check unique codings.\n",
      "bank.isnull().sum()"
     ],
     "language": "python",
     "metadata": {},
     "outputs": [
      {
       "metadata": {},
       "output_type": "pyout",
       "prompt_number": 5,
       "text": [
        "age               0\n",
        "job               0\n",
        "marital           0\n",
        "education         0\n",
        "default           0\n",
        "housing           0\n",
        "loan              0\n",
        "contact           0\n",
        "month             0\n",
        "day_of_week       0\n",
        "duration          0\n",
        "campaign          0\n",
        "pdays             0\n",
        "previous          0\n",
        "poutcome          0\n",
        "emp.var.rate      0\n",
        "cons.price.idx    0\n",
        "cons.conf.idx     0\n",
        "euribor3m         0\n",
        "nr.employed       0\n",
        "y                 0\n",
        "dtype: int64"
       ]
      }
     ],
     "prompt_number": 5
    },
    {
     "cell_type": "code",
     "collapsed": false,
     "input": [
      "# Get column names.\n",
      "colNames = bank.columns"
     ],
     "language": "python",
     "metadata": {},
     "outputs": [],
     "prompt_number": 6
    },
    {
     "cell_type": "code",
     "collapsed": false,
     "input": [
      "# Print unique values per column. Missing values seem coded with 'unknown'.\n",
      "for col in colNames:\n",
      "    print col, set(bank[col])"
     ],
     "language": "python",
     "metadata": {},
     "outputs": [
      {
       "output_type": "stream",
       "stream": "stdout",
       "text": [
        "age set([17, 18, 19, 20, 21, 22, 23, 24, 25, 26, 27, 28, 29, 30, 31, 32, 33, 34, 35, 36, 37, 38, 39, 40, 41, 42, 43, 44, 45, 46, 47, 48, 49, 50, 51, 52, 53, 54, 55, 56, 57, 58, 59, 60, 61, 62, 63, 64, 65, 66, 67, 68, 69, 70, 71, 72, 73, 74, 75, 76, 77, 78, 79, 80, 81, 82, 83, 84, 85, 86, 87, 88, 89, 91, 92, 94, 95, 98])\n",
        "job set(['management', 'retired', 'self-employed', 'unknown', 'unemployed', 'admin.', 'technician', 'services', 'student', 'housemaid', 'entrepreneur', 'blue-collar'])\n",
        "marital set(['unknown', 'single', 'married', 'divorced'])\n",
        "education set(['basic.9y', 'illiterate', 'basic.4y', 'unknown', 'basic.6y', 'high.school', 'professional.course', 'university.degree'])\n",
        "default set(['unknown', 'yes', 'no'])\n",
        "housing set(['unknown', 'yes', 'no'])\n",
        "loan set(['unknown', 'yes', 'no'])\n",
        "contact set(['telephone', 'cellular'])\n",
        "month set(['mar', 'aug', 'sep', 'may', 'jun', 'jul', 'apr', 'nov', 'dec', 'oct'])\n",
        "day_of_week set(['fri', 'thu', 'wed', 'mon', 'tue'])\n",
        "duration set([0, 1, 2, 3, 4, 5, 6, 7, 8, 9, 10, 11, 12, 13, 14, 15, 16, 17, 18, 19, 20, 21, 22, 23, 24, 25, 26, 27, 28, 29, 30, 31, 32, 33, 34, 35, 36, 37, 38, 39, 40, 41, 42, 43, 44, 45, 46, 47, 48, 49, 50, 51, 52, 53, 54, 55, 56, 57, 58, 59, 60, 61, 62, 63, 64, 65, 66, 67, 68, 69, 70, 71, 72, 73, 74, 75, 76, 77, 78, 79, 80, 81, 82, 83, 84, 85, 86, 87, 88, 89, 90, 91, 92, 93, 94, 95, 96, 97, 98, 99, 100, 101, 102, 103, 104, 105, 106, 107, 108, 109, 110, 111, 112, 113, 114, 115, 116, 117, 118, 119, 120, 121, 122, 123, 124, 125, 126, 127, 128, 129, 130, 131, 132, 133, 134, 135, 136, 137, 138, 139, 140, 141, 142, 143, 144, 145, 146, 147, 148, 149, 150, 151, 152, 153, 154, 155, 156, 157, 158, 159, 160, 161, 162, 163, 164, 165, 166, 167, 168, 169, 170, 171, 172, 173, 174, 175, 176, 177, 178, 179, 180, 181, 182, 183, 184, 185, 186, 187, 188, 189, 190, 191, 192, 193, 194, 195, 196, 197, 198, 199, 200, 201, 202, 203, 204, 205, 206, 207, 208, 209, 210, 211, 212, 213, 214, 215, 216, 217, 218, 219, 220, 221, 222, 223, 224, 225, 226, 227, 228, 229, 230, 231, 232, 233, 234, 235, 236, 237, 238, 239, 240, 241, 242, 243, 244, 245, 246, 247, 248, 249, 250, 251, 252, 253, 254, 255, 256, 257, 258, 259, 260, 261, 262, 263, 264, 265, 266, 267, 268, 269, 270, 271, 272, 273, 274, 275, 276, 277, 278, 279, 280, 281, 282, 283, 284, 285, 286, 287, 288, 289, 290, 291, 292, 293, 294, 295, 296, 297, 298, 299, 300, 301, 302, 303, 304, 305, 306, 307, 308, 309, 310, 311, 312, 313, 314, 315, 316, 317, 318, 319, 320, 321, 322, 323, 324, 325, 326, 327, 328, 329, 330, 331, 332, 333, 334, 335, 336, 337, 338, 339, 340, 341, 342, 343, 344, 345, 346, 347, 348, 349, 350, 351, 352, 353, 354, 355, 356, 357, 358, 359, 360, 361, 362, 363, 364, 365, 366, 367, 368, 369, 370, 371, 372, 373, 374, 375, 376, 377, 378, 379, 380, 381, 382, 383, 384, 385, 386, 387, 388, 389, 390, 391, 392, 393, 394, 395, 396, 397, 398, 399, 400, 401, 402, 403, 404, 405, 406, 407, 408, 409, 410, 411, 412, 413, 414, 415, 416, 417, 418, 419, 420, 421, 422, 423, 424, 425, 426, 427, 428, 429, 430, 431, 432, 433, 434, 435, 436, 437, 438, 439, 440, 441, 442, 443, 444, 445, 446, 447, 448, 449, 450, 451, 452, 453, 454, 455, 456, 457, 458, 459, 460, 461, 462, 463, 464, 465, 466, 467, 468, 469, 470, 471, 472, 473, 474, 475, 476, 477, 478, 479, 480, 481, 482, 483, 484, 485, 486, 487, 488, 489, 490, 491, 492, 493, 494, 495, 496, 497, 498, 499, 500, 501, 502, 503, 504, 505, 506, 507, 508, 509, 510, 511, 512, 513, 514, 515, 516, 517, 518, 519, 520, 521, 522, 523, 524, 525, 526, 527, 528, 529, 530, 531, 532, 533, 534, 535, 536, 537, 538, 539, 540, 541, 542, 543, 544, 545, 546, 547, 548, 549, 550, 551, 552, 553, 554, 555, 556, 557, 558, 559, 560, 561, 562, 563, 564, 565, 566, 567, 568, 569, 570, 571, 572, 573, 574, 575, 576, 577, 578, 579, 580, 581, 582, 583, 584, 585, 586, 587, 588, 589, 590, 591, 592, 593, 594, 595, 596, 597, 598, 599, 600, 601, 602, 603, 604, 605, 606, 607, 608, 609, 610, 611, 612, 613, 614, 615, 616, 617, 618, 619, 620, 621, 622, 623, 624, 625, 626, 627, 628, 629, 630, 631, 632, 633, 634, 635, 636, 637, 638, 639, 640, 641, 642, 643, 644, 645, 646, 647, 648, 649, 650, 651, 652, 653, 654, 655, 656, 657, 658, 659, 660, 661, 662, 663, 664, 665, 666, 667, 668, 669, 670, 671, 672, 673, 674, 675, 676, 677, 678, 679, 680, 681, 682, 683, 684, 685, 686, 687, 688, 689, 690, 691, 692, 693, 694, 695, 696, 697, 698, 699, 700, 701, 702, 703, 704, 705, 706, 707, 708, 709, 710, 711, 712, 713, 714, 715, 716, 717, 718, 719, 720, 721, 722, 723, 724, 725, 726, 727, 728, 729, 730, 731, 732, 733, 734, 735, 736, 737, 738, 739, 740, 741, 742, 743, 744, 745, 746, 747, 748, 749, 750, 751, 752, 753, 754, 755, 756, 757, 758, 759, 760, 761, 762, 763, 764, 765, 766, 767, 768, 769, 770, 771, 772, 773, 774, 775, 776, 777, 778, 779, 780, 781, 782, 783, 784, 785, 786, 787, 788, 789, 790, 791, 792, 793, 794, 795, 796, 797, 798, 799, 800, 801, 802, 803, 804, 805, 806, 807, 808, 809, 810, 811, 812, 813, 814, 815, 816, 817, 818, 819, 820, 821, 822, 823, 824, 825, 826, 827, 828, 829, 830, 831, 832, 833, 834, 835, 836, 837, 838, 839, 840, 841, 843, 844, 845, 846, 847, 848, 849, 850, 851, 852, 853, 854, 855, 856, 857, 858, 859, 860, 861, 862, 863, 864, 865, 866, 867, 868, 869, 870, 871, 872, 873, 874, 875, 876, 877, 878, 879, 880, 881, 882, 883, 884, 885, 886, 888, 889, 890, 891, 892, 893, 894, 895, 896, 897, 898, 899, 900, 901, 902, 903, 904, 905, 906, 907, 908, 909, 910, 911, 912, 913, 915, 916, 917, 918, 919, 920, 921, 922, 923, 924, 925, 926, 927, 928, 929, 930, 931, 932, 933, 934, 935, 936, 937, 938, 939, 940, 941, 942, 943, 944, 945, 946, 947, 949, 950, 951, 952, 953, 954, 955, 956, 957, 958, 959, 960, 961, 962, 963, 964, 965, 966, 967, 968, 969, 970, 971, 972, 973, 974, 975, 976, 977, 978, 979, 980, 981, 982, 983, 984, 985, 986, 987, 988, 989, 990, 991, 992, 993, 994, 996, 997, 998, 999, 1000, 1001, 1002, 1003, 1005, 1007, 1008, 1009, 1010, 1011, 1012, 1013, 1014, 1015, 1017, 1018, 1019, 1020, 1021, 1022, 1023, 1024, 1025, 1026, 1027, 1028, 1029, 1030, 1031, 1032, 1033, 1034, 1035, 1036, 1037, 1038, 1039, 1040, 1041, 1042, 1043, 1044, 1045, 1046, 1047, 1048, 1049, 1051, 1052, 1053, 1054, 1055, 1056, 1057, 1058, 1059, 1060, 1061, 1062, 1063, 1064, 1065, 1066, 1067, 1068, 1070, 1071, 1072, 1073, 1074, 1075, 1076, 1077, 1078, 1079, 1080, 1081, 1082, 1083, 1084, 1085, 1087, 1088, 1089, 1090, 1091, 1092, 1093, 1094, 1095, 1096, 1097, 1098, 1099, 1100, 1101, 1102, 1103, 1104, 1105, 1106, 1108, 1109, 1110, 1111, 1112, 1114, 1117, 1118, 1119, 1120, 1121, 1122, 1123, 1124, 1125, 1126, 1127, 1128, 1129, 1130, 1131, 1132, 1133, 1134, 1135, 1136, 1137, 1138, 1139, 1140, 1141, 1142, 1143, 1144, 1145, 1147, 1148, 1149, 1150, 1151, 1152, 1153, 1154, 1156, 1161, 1162, 1164, 1165, 1166, 1167, 1168, 1169, 1170, 1171, 1173, 1174, 1175, 1176, 1178, 1180, 1181, 1182, 1183, 1184, 1185, 1186, 1187, 1190, 1191, 1192, 1193, 1195, 1196, 1197, 1199, 1200, 1201, 1202, 1203, 1204, 1205, 1206, 1207, 1208, 1210, 1211, 1212, 1214, 1217, 1218, 1220, 1221, 1222, 1223, 1224, 1225, 1226, 1227, 1228, 1230, 1231, 1232, 1233, 1234, 1236, 1237, 1238, 1239, 1240, 1241, 1242, 1243, 1244, 1245, 1246, 1248, 1250, 1252, 1254, 1255, 1256, 1257, 1258, 1259, 1260, 1262, 1263, 1265, 1266, 1267, 1268, 1269, 1271, 1272, 1273, 1275, 1276, 1277, 1279, 1281, 1282, 1283, 1285, 1286, 1287, 1288, 1290, 1291, 1293, 1294, 1297, 1298, 1300, 1302, 1303, 1306, 1307, 1309, 1310, 1311, 1313, 1317, 1318, 1319, 1321, 1323, 1326, 1327, 1328, 1329, 1330, 1331, 1332, 1333, 1334, 1336, 1337, 1339, 1340, 1341, 1342, 1344, 1345, 1346, 1347, 1348, 1349, 1352, 1353, 1356, 1357, 1359, 1360, 1361, 1363, 1364, 1365, 1366, 1368, 1369, 1370, 1372, 1373, 1374, 1376, 1380, 1386, 1388, 1389, 1390, 1391, 1392, 1394, 1395, 1397, 1398, 1399, 1405, 1407, 1408, 1410, 1411, 1412, 1416, 1422, 1423, 1424, 1425, 1426, 1432, 1434, 1435, 1437, 1438, 1439, 1440, 1441, 1446, 1447, 1448, 1449, 1452, 1456, 1460, 1461, 1462, 1463, 1464, 1467, 1468, 1469, 1471, 1472, 1473, 1476, 1478, 1479, 1480, 1487, 1488, 1489, 1490, 1491, 1492, 1495, 1499, 1500, 1502, 1503, 1504, 1505, 1508, 1512, 1514, 1516, 1521, 1528, 1529, 1530, 1531, 1532, 1534, 1540, 1543, 1545, 1548, 1550, 1551, 1552, 1554, 1555, 1556, 1559, 1563, 1567, 1569, 1571, 1573, 1574, 1575, 1576, 1579, 1580, 1581, 1584, 1590, 1594, 1597, 1598, 1602, 1603, 1606, 1608, 1611, 1613, 1615, 1616, 1617, 1618, 1622, 1623, 1624, 1628, 1640, 1642, 1649, 1662, 1663, 1665, 1666, 1669, 1673, 1677, 1681, 1689, 1692, 1697, 1707, 1710, 1713, 1720, 1721, 1723, 1730, 1735, 1739, 1740, 1745, 1756, 1767, 1776, 1777, 1788, 1804, 1805, 1806, 1809, 1816, 1817, 1820, 1833, 1834, 1842, 1848, 1850, 1855, 1867, 1868, 1869, 1871, 1877, 1880, 1882, 1906, 1925, 1934, 1946, 1954, 1957, 1958, 1960, 1962, 1966, 1970, 1973, 1975, 1978, 1980, 1992, 1994, 2015, 2016, 2025, 2028, 2029, 2033, 2035, 2053, 2055, 2062, 2078, 2087, 2089, 2093, 2122, 2129, 2139, 2184, 2187, 2191, 2203, 2219, 2231, 2260, 2299, 2301, 2316, 2372, 2420, 2429, 2453, 2456, 2462, 2486, 2516, 2621, 2635, 2653, 2680, 2692, 2769, 2870, 2926, 3076, 3078, 3094, 3183, 3253, 3284, 3322, 3366, 3422, 3509, 3631, 3643, 3785, 4199, 4918])\n",
        "campaign set([1, 2, 3, 4, 5, 6, 7, 8, 9, 10, 11, 12, 13, 14, 15, 16, 17, 18, 19, 20, 21, 22, 23, 24, 25, 26, 27, 28, 29, 30, 31, 32, 33, 34, 35, 37, 39, 40, 41, 42, 43, 56])\n",
        "pdays "
       ]
      },
      {
       "output_type": "stream",
       "stream": "stdout",
       "text": [
        "set([0, 1, 2, 3, 4, 5, 6, 7, 8, 9, 10, 11, 12, 13, 14, 15, 16, 17, 18, 19, 20, 21, 22, 25, 26, 27, 999])\n",
        "previous set([0, 1, 2, 3, 4, 5, 6, 7])\n",
        "poutcome set(['failure', 'success', 'nonexistent'])\n",
        "emp.var.rate set([1.1000000000000001, -3.3999999999999999, -1.8, -3.0, -2.8999999999999999, -1.7, 1.3999999999999999, -0.10000000000000001, -0.20000000000000001, -1.1000000000000001])\n",
        "cons.price.idx set([92.962999999999994, 92.430999999999997, 93.876000000000005, 93.917999999999992, 94.76700000000001, 94.600999999999999, 92.378999999999991, 92.892999999999986, 94.198999999999998, 92.712999999999994, 93.369, 93.075000000000003, 92.756, 93.797999999999988, 92.201000000000008, 94.215000000000003, 93.994, 92.842999999999989, 92.649000000000001, 92.468999999999994, 93.200000000000003, 94.465000000000003, 93.748999999999995, 94.027000000000001, 94.055000000000007, 93.444000000000003])\n",
        "cons.conf.idx set([-37.5, -49.5, -36.399999999999999, -50.799999999999997, -46.200000000000003, -29.800000000000001, -30.100000000000001, -42.700000000000003, -31.399999999999999, -36.100000000000001, -40.399999999999999, -38.299999999999997, -47.100000000000001, -45.899999999999999, -41.799999999999997, -40.799999999999997, -34.600000000000001, -50.0, -33.600000000000001, -42.0, -40.0, -40.299999999999997, -33.0, -39.799999999999997, -26.899999999999999, -34.799999999999997])\n",
        "euribor3m set([1.25, 0.75, 4.1909999999999998, 5.0, 0.82900000000000007, 0.71700000000000008, 3.8160000000000003, 0.64000000000000001, 0.88800000000000001, 1.6019999999999999, 0.90799999999999992, 4.9550000000000001, 0.83499999999999996, 0.80900000000000005, 0.96900000000000008, 4.0209999999999999, 0.72699999999999998, 4.9619999999999997, 0.86900000000000011, 4.1530000000000005, 3.6689999999999996, 0.66799999999999993, 1.556, 0.91400000000000003, 1.415, 1.2150000000000001, 3.488, 0.72900000000000009, 0.84900000000000009, 4.8580000000000005, 0.64400000000000002, 1.2809999999999999, 0.71599999999999997, 1.5600000000000001, 0.69900000000000007, 0.82200000000000006, 1.264, 0.94200000000000006, 1.4530000000000001, 0.71099999999999997, 0.68299999999999994, 0.81299999999999994, 0.68400000000000005, 0.71499999999999997, 0.90500000000000003, 4.8559999999999999, 0.64200000000000002, 0.74900000000000011, 4.827, 0.8909999999999999, 0.72099999999999997, 4.9589999999999996, 0.67700000000000005, 0.88500000000000001, 0.92700000000000005, 1.3840000000000001, 4.9660000000000002, 0.97199999999999998, 0.70900000000000007, 0.879, 0.85099999999999998, 4.2229999999999999, 0.99299999999999999, 1.2909999999999999, 0.72999999999999998, 1.52, 4.8550000000000004, 1.26, 0.65200000000000002, 1.5740000000000001, 1.05, 0.96499999999999997, 1.778, 0.74099999999999999, 1.4059999999999999, 0.95299999999999996, 1.8109999999999999, 0.70200000000000007, 0.71999999999999997, 0.80200000000000005, 1.6399999999999999, 0.89000000000000001, 1.224, 3.5630000000000002, 0.754, 1.548, 0.77099999999999991, 3.8789999999999996, 1.6140000000000001, 1.206, 0.87, 1.4099999999999999, 0.69700000000000006, 0.89400000000000002, 3.8530000000000002, 0.71400000000000008, 1.0309999999999999, 0.63600000000000001, 1.048, 4.9210000000000003, 1.4350000000000001, 4.9630000000000001, 0.873, 1.726, 4.1200000000000001, 0.65300000000000002, 4.9699999999999998, 0.98199999999999998, 0.63500000000000001, 4.2860000000000005, 1.008, 1.7569999999999999, 4.9180000000000001, 0.71200000000000008, 1.046, 4.859, 0.84599999999999997, 0.74199999999999999, 0.79299999999999993, 4.8660000000000005, 1.268, 1.4830000000000001, 0.65099999999999991, 0.73199999999999998, 0.68200000000000005, 1.6869999999999998, 0.877, 0.76700000000000002, 3.282, 0.77800000000000002, 1.0290000000000001, 0.98699999999999999, 1.7990000000000002, 0.73699999999999999, 0.73999999999999999, 0.67200000000000004, 0.8859999999999999, 0.69200000000000006, 0.878, 1.27, 0.89800000000000002, 1.286, 4.96, 1.03, 0.72199999999999998, 0.85400000000000009, 4.5919999999999996, 0.97699999999999998, 0.81900000000000006, 3.3289999999999997, 0.82099999999999995, 0.68500000000000005, 4.4740000000000002, 0.71299999999999997, 0.70700000000000007, 1.51, 1.085, 3.0529999999999999, 1.244, 0.71799999999999997, 0.73299999999999998, 0.83400000000000007, 0.63900000000000001, 1.0449999999999999, 1.3719999999999999, 0.78099999999999992, 0.79700000000000004, 0.78799999999999992, 0.65500000000000003, 4.2450000000000001, 1.032, 0.82499999999999996, 0.90400000000000003, 4.9359999999999999, 4.4060000000000006, 1.3130000000000002, 0.72400000000000009, 0.89500000000000002, 1.3919999999999999, 0.65900000000000003, 1.266, 0.996, 1.018, 4.7000000000000002, 1.629, 0.64900000000000002, 0.69999999999999996, 4.9569999999999999, 1.016, 4.7330000000000005, 1.5840000000000001, 0.65000000000000002, 4.9639999999999995, 1.0429999999999999, 1.0369999999999999, 1.4450000000000001, 0.98499999999999999, 0.97900000000000009, 0.76200000000000001, 0.90000000000000002, 1.538, 0.748, 0.95599999999999996, 0.7390000000000001, 1.0720000000000001, 0.89300000000000002, 0.80299999999999994, 4.7939999999999996, 0.64300000000000002, 1.0249999999999999, 0.69499999999999995, 4.8600000000000003, 0.77000000000000002, 1.028, 1.2990000000000002, 1.044, 0.752, 1.405, 4.9669999999999996, 1.4980000000000002, 4.343, 1.327, 0.63800000000000001, 1.5309999999999999, 0.755, 0.88400000000000001, 4.8650000000000002, 1.2350000000000001, 3.4279999999999999, 1.3440000000000001, 0.78200000000000003, 0.95900000000000007, 4.9470000000000001, 0.70599999999999996, 0.86099999999999999, 1.04, 0.72299999999999998, 0.83799999999999997, 0.90300000000000002, 5.0449999999999999, 0.64599999999999991, 0.68999999999999995, 0.64500000000000002, 0.88200000000000001, 4.9610000000000003, 1.0, 1.423, 1.663, 0.82700000000000007, 4.968, 0.88300000000000001, 0.93299999999999994, 0.87599999999999989, 0.70099999999999996, 1.3999999999999999, 1.0469999999999999, 1.6499999999999999, 1.0590000000000002, 1.4790000000000001, 0.8590000000000001, 4.8570000000000002, 1.2590000000000001, 1.252, 1.262, 0.76800000000000002, 4.8639999999999999, 1.0390000000000001, 0.70999999999999996, 1.3540000000000001, 0.93700000000000006, 0.94400000000000006, 0.84299999999999997, 0.73099999999999998, 1.7030000000000001, 0.7609999999999999, 0.79000000000000004, 0.7659999999999999, 0.72799999999999998, 0.81000000000000005, 0.74299999999999999, 1.365, 0.83999999999999997, 4.7599999999999998, 0.63700000000000001, 0.88900000000000001, 4.0760000000000005, 0.65400000000000003, 0.66299999999999992, 0.92099999999999993, 4.9580000000000002, 0.68799999999999994, 0.753, 1.0349999999999999, 0.73499999999999999, 4.9649999999999999, 0.70799999999999996, 0.88, 4.9119999999999999, 0.89599999999999991, 0.88099999999999989, 0.70400000000000007, 4.6630000000000003, 0.74400000000000011, 1.0490000000000002, 1.099, 1.0070000000000001, 1.3340000000000001, 4.9560000000000004, 3.7430000000000003, 3.9010000000000002, 0.89900000000000002, 0.63400000000000001, 1.466, 1.0409999999999999, 0.77300000000000002, 0.71900000000000008])\n",
        "nr.employed set([5017.5, 5023.5, 5008.6999999999998, 5228.1000000000004, 5099.1000000000004, 5191.0, 4963.6000000000004, 5195.8000000000002, 5076.1999999999998, 4991.6000000000004, 5176.3000000000002])\n",
        "y set(['yes', 'no'])\n"
       ]
      }
     ],
     "prompt_number": 7
    },
    {
     "cell_type": "code",
     "collapsed": false,
     "input": [
      "# Impute missing values.\n",
      "col_dist = {}\n",
      "def get_col_dist(col_name):\n",
      "    excl_null_mask = bank[col_name] != 'unknown'\n",
      "    row_count = bank[excl_null_mask][col_name].size\n",
      "    col_data = {}\n",
      "    col_data['prob'] = (bank[excl_null_mask][col_name].value_counts() / row_count).values\n",
      "    col_data['values'] = (bank[excl_null_mask][col_name].value_counts() / row_count).index.values\n",
      "    return col_data"
     ],
     "language": "python",
     "metadata": {},
     "outputs": [],
     "prompt_number": 8
    },
    {
     "cell_type": "code",
     "collapsed": false,
     "input": [
      "col_dist['job'] = get_col_dist('job')\n",
      "col_dist['marital'] = get_col_dist('marital')\n",
      "col_dist['education'] = get_col_dist('education')\n",
      "col_dist['default'] = get_col_dist('default')\n",
      "col_dist['housing'] = get_col_dist('housing')\n",
      "col_dist['loan'] = get_col_dist('loan')"
     ],
     "language": "python",
     "metadata": {},
     "outputs": [],
     "prompt_number": 9
    },
    {
     "cell_type": "code",
     "collapsed": false,
     "input": [
      "print col_dist"
     ],
     "language": "python",
     "metadata": {},
     "outputs": [
      {
       "output_type": "stream",
       "stream": "stdout",
       "text": [
        "{'default': {'values': array(['no', 'yes'], dtype=object), 'prob': array([  9.9991e-01,   9.2050e-05])}, 'loan': {'values': array(['no', 'yes'], dtype=object), 'prob': array([ 0.8446,  0.1554])}, 'marital': {'values': array(['married', 'single', 'divorced'], dtype=object), 'prob': array([ 0.6064,  0.2814,  0.1122])}, 'job': {'values': array(['admin.', 'blue-collar', 'technician', 'services', 'management',\n",
        "       'retired', 'entrepreneur', 'self-employed', 'housemaid',\n",
        "       'unemployed', 'student'], dtype=object), 'prob': array([ 0.2551,  0.2265,  0.165 ,  0.0971,  0.0716,  0.0421,  0.0356,\n",
        "        0.0348,  0.0259,  0.0248,  0.0214])}, 'education': {'values': array(['university.degree', 'high.school', 'basic.9y',\n",
        "       'professional.course', 'basic.4y', 'basic.6y', 'illiterate'], dtype=object), 'prob': array([ 0.3084,  0.2411,  0.1532,  0.1329,  0.1058,  0.0581,  0.0005])}, 'housing': {'values': array(['yes', 'no'], dtype=object), 'prob': array([ 0.5367,  0.4633])}}\n"
       ]
      }
     ],
     "prompt_number": 10
    },
    {
     "cell_type": "code",
     "collapsed": false,
     "input": [
      "def impute_cols(val, options):\n",
      "    if val == 'unknown':\n",
      "        return np.random.choice(options['values'], p=options['prob'])\n",
      "    return val"
     ],
     "language": "python",
     "metadata": {},
     "outputs": [],
     "prompt_number": 11
    },
    {
     "cell_type": "code",
     "collapsed": false,
     "input": [
      "def impute_job(val):\n",
      "    return impute_cols(val, col_dist['job'])\n",
      "def impute_marital(val):\n",
      "    return impute_cols(val, col_dist['marital'])\n",
      "def impute_edu(val):\n",
      "    return impute_cols(val, col_dist['education'])\n",
      "def impute_default(val):\n",
      "    return impute_cols(val, col_dist['default'])\n",
      "def impute_housing(val):\n",
      "    return impute_cols(val, col_dist['housing'])\n",
      "def impute_loan(val):\n",
      "    return impute_cols(val, col_dist['loan'])"
     ],
     "language": "python",
     "metadata": {},
     "outputs": [],
     "prompt_number": 12
    },
    {
     "cell_type": "code",
     "collapsed": false,
     "input": [
      "bank.job = bank.job.map(impute_job)\n",
      "bank.marital = bank.marital.map(impute_marital)\n",
      "bank.education = bank.education.map(impute_edu)\n",
      "bank.default = bank.default.map(impute_default)\n",
      "bank.housing = bank.housing.map(impute_housing)\n",
      "bank.loan = bank.loan.map(impute_loan)"
     ],
     "language": "python",
     "metadata": {},
     "outputs": [],
     "prompt_number": 13
    },
    {
     "cell_type": "code",
     "collapsed": false,
     "input": [
      "bank.head()"
     ],
     "language": "python",
     "metadata": {},
     "outputs": [
      {
       "html": [
        "<div style=\"max-height:1000px;max-width:1500px;overflow:auto;\">\n",
        "<table border=\"1\" class=\"dataframe\">\n",
        "  <thead>\n",
        "    <tr style=\"text-align: right;\">\n",
        "      <th></th>\n",
        "      <th>age</th>\n",
        "      <th>job</th>\n",
        "      <th>marital</th>\n",
        "      <th>education</th>\n",
        "      <th>default</th>\n",
        "      <th>housing</th>\n",
        "      <th>loan</th>\n",
        "      <th>contact</th>\n",
        "      <th>month</th>\n",
        "      <th>day_of_week</th>\n",
        "      <th>...</th>\n",
        "      <th>campaign</th>\n",
        "      <th>pdays</th>\n",
        "      <th>previous</th>\n",
        "      <th>poutcome</th>\n",
        "      <th>emp.var.rate</th>\n",
        "      <th>cons.price.idx</th>\n",
        "      <th>cons.conf.idx</th>\n",
        "      <th>euribor3m</th>\n",
        "      <th>nr.employed</th>\n",
        "      <th>y</th>\n",
        "    </tr>\n",
        "  </thead>\n",
        "  <tbody>\n",
        "    <tr>\n",
        "      <th>0</th>\n",
        "      <td> 56</td>\n",
        "      <td> housemaid</td>\n",
        "      <td> married</td>\n",
        "      <td>    basic.4y</td>\n",
        "      <td> no</td>\n",
        "      <td>  no</td>\n",
        "      <td>  no</td>\n",
        "      <td> telephone</td>\n",
        "      <td> may</td>\n",
        "      <td> mon</td>\n",
        "      <td>...</td>\n",
        "      <td> 1</td>\n",
        "      <td> 999</td>\n",
        "      <td> 0</td>\n",
        "      <td> nonexistent</td>\n",
        "      <td> 1.1</td>\n",
        "      <td> 93.994</td>\n",
        "      <td>-36.4</td>\n",
        "      <td> 4.857</td>\n",
        "      <td> 5191</td>\n",
        "      <td> no</td>\n",
        "    </tr>\n",
        "    <tr>\n",
        "      <th>1</th>\n",
        "      <td> 57</td>\n",
        "      <td>  services</td>\n",
        "      <td> married</td>\n",
        "      <td> high.school</td>\n",
        "      <td> no</td>\n",
        "      <td>  no</td>\n",
        "      <td>  no</td>\n",
        "      <td> telephone</td>\n",
        "      <td> may</td>\n",
        "      <td> mon</td>\n",
        "      <td>...</td>\n",
        "      <td> 1</td>\n",
        "      <td> 999</td>\n",
        "      <td> 0</td>\n",
        "      <td> nonexistent</td>\n",
        "      <td> 1.1</td>\n",
        "      <td> 93.994</td>\n",
        "      <td>-36.4</td>\n",
        "      <td> 4.857</td>\n",
        "      <td> 5191</td>\n",
        "      <td> no</td>\n",
        "    </tr>\n",
        "    <tr>\n",
        "      <th>2</th>\n",
        "      <td> 37</td>\n",
        "      <td>  services</td>\n",
        "      <td> married</td>\n",
        "      <td> high.school</td>\n",
        "      <td> no</td>\n",
        "      <td> yes</td>\n",
        "      <td>  no</td>\n",
        "      <td> telephone</td>\n",
        "      <td> may</td>\n",
        "      <td> mon</td>\n",
        "      <td>...</td>\n",
        "      <td> 1</td>\n",
        "      <td> 999</td>\n",
        "      <td> 0</td>\n",
        "      <td> nonexistent</td>\n",
        "      <td> 1.1</td>\n",
        "      <td> 93.994</td>\n",
        "      <td>-36.4</td>\n",
        "      <td> 4.857</td>\n",
        "      <td> 5191</td>\n",
        "      <td> no</td>\n",
        "    </tr>\n",
        "    <tr>\n",
        "      <th>3</th>\n",
        "      <td> 40</td>\n",
        "      <td>    admin.</td>\n",
        "      <td> married</td>\n",
        "      <td>    basic.6y</td>\n",
        "      <td> no</td>\n",
        "      <td>  no</td>\n",
        "      <td>  no</td>\n",
        "      <td> telephone</td>\n",
        "      <td> may</td>\n",
        "      <td> mon</td>\n",
        "      <td>...</td>\n",
        "      <td> 1</td>\n",
        "      <td> 999</td>\n",
        "      <td> 0</td>\n",
        "      <td> nonexistent</td>\n",
        "      <td> 1.1</td>\n",
        "      <td> 93.994</td>\n",
        "      <td>-36.4</td>\n",
        "      <td> 4.857</td>\n",
        "      <td> 5191</td>\n",
        "      <td> no</td>\n",
        "    </tr>\n",
        "    <tr>\n",
        "      <th>4</th>\n",
        "      <td> 56</td>\n",
        "      <td>  services</td>\n",
        "      <td> married</td>\n",
        "      <td> high.school</td>\n",
        "      <td> no</td>\n",
        "      <td>  no</td>\n",
        "      <td> yes</td>\n",
        "      <td> telephone</td>\n",
        "      <td> may</td>\n",
        "      <td> mon</td>\n",
        "      <td>...</td>\n",
        "      <td> 1</td>\n",
        "      <td> 999</td>\n",
        "      <td> 0</td>\n",
        "      <td> nonexistent</td>\n",
        "      <td> 1.1</td>\n",
        "      <td> 93.994</td>\n",
        "      <td>-36.4</td>\n",
        "      <td> 4.857</td>\n",
        "      <td> 5191</td>\n",
        "      <td> no</td>\n",
        "    </tr>\n",
        "  </tbody>\n",
        "</table>\n",
        "<p>5 rows \u00d7 21 columns</p>\n",
        "</div>"
       ],
       "metadata": {},
       "output_type": "pyout",
       "prompt_number": 14,
       "text": [
        "   age        job  marital    education default housing loan    contact month  \\\n",
        "0   56  housemaid  married     basic.4y      no      no   no  telephone   may   \n",
        "1   57   services  married  high.school      no      no   no  telephone   may   \n",
        "2   37   services  married  high.school      no     yes   no  telephone   may   \n",
        "3   40     admin.  married     basic.6y      no      no   no  telephone   may   \n",
        "4   56   services  married  high.school      no      no  yes  telephone   may   \n",
        "\n",
        "  day_of_week ...  campaign  pdays  previous     poutcome emp.var.rate  \\\n",
        "0         mon ...         1    999         0  nonexistent          1.1   \n",
        "1         mon ...         1    999         0  nonexistent          1.1   \n",
        "2         mon ...         1    999         0  nonexistent          1.1   \n",
        "3         mon ...         1    999         0  nonexistent          1.1   \n",
        "4         mon ...         1    999         0  nonexistent          1.1   \n",
        "\n",
        "   cons.price.idx  cons.conf.idx  euribor3m  nr.employed   y  \n",
        "0          93.994          -36.4      4.857         5191  no  \n",
        "1          93.994          -36.4      4.857         5191  no  \n",
        "2          93.994          -36.4      4.857         5191  no  \n",
        "3          93.994          -36.4      4.857         5191  no  \n",
        "4          93.994          -36.4      4.857         5191  no  \n",
        "\n",
        "[5 rows x 21 columns]"
       ]
      }
     ],
     "prompt_number": 14
    },
    {
     "cell_type": "heading",
     "level": 3,
     "metadata": {},
     "source": [
      "Exploratory analyses"
     ]
    },
    {
     "cell_type": "code",
     "collapsed": false,
     "input": [
      "# Numeric features.\n",
      "numFeats = ['age', 'duration', 'campaign', 'pdays', 'previous', 'cons.price.idx', 'cons.conf.idx', 'euribor3m', 'nr.employed']\n",
      "\n",
      "# Numeric features without pdays (strongly related to target).\n",
      "numFeatsR = ['age', 'duration', 'campaign', 'previous', 'cons.price.idx', 'cons.conf.idx', 'euribor3m', 'nr.employed']\n",
      "\n",
      "# Some descriptives.\n",
      "bank[numFeats].describe()"
     ],
     "language": "python",
     "metadata": {},
     "outputs": [
      {
       "html": [
        "<div style=\"max-height:1000px;max-width:1500px;overflow:auto;\">\n",
        "<table border=\"1\" class=\"dataframe\">\n",
        "  <thead>\n",
        "    <tr style=\"text-align: right;\">\n",
        "      <th></th>\n",
        "      <th>age</th>\n",
        "      <th>duration</th>\n",
        "      <th>campaign</th>\n",
        "      <th>pdays</th>\n",
        "      <th>previous</th>\n",
        "      <th>cons.price.idx</th>\n",
        "      <th>cons.conf.idx</th>\n",
        "      <th>euribor3m</th>\n",
        "      <th>nr.employed</th>\n",
        "    </tr>\n",
        "  </thead>\n",
        "  <tbody>\n",
        "    <tr>\n",
        "      <th>count</th>\n",
        "      <td> 41188.000</td>\n",
        "      <td> 41188.000</td>\n",
        "      <td> 41188.000</td>\n",
        "      <td> 41188.000</td>\n",
        "      <td> 41188.000</td>\n",
        "      <td> 41188.000</td>\n",
        "      <td> 41188.000</td>\n",
        "      <td> 41188.000</td>\n",
        "      <td> 41188.000</td>\n",
        "    </tr>\n",
        "    <tr>\n",
        "      <th>mean</th>\n",
        "      <td>    40.024</td>\n",
        "      <td>   258.285</td>\n",
        "      <td>     2.568</td>\n",
        "      <td>   962.475</td>\n",
        "      <td>     0.173</td>\n",
        "      <td>    93.576</td>\n",
        "      <td>   -40.503</td>\n",
        "      <td>     3.621</td>\n",
        "      <td>  5167.036</td>\n",
        "    </tr>\n",
        "    <tr>\n",
        "      <th>std</th>\n",
        "      <td>    10.421</td>\n",
        "      <td>   259.279</td>\n",
        "      <td>     2.770</td>\n",
        "      <td>   186.911</td>\n",
        "      <td>     0.495</td>\n",
        "      <td>     0.579</td>\n",
        "      <td>     4.628</td>\n",
        "      <td>     1.734</td>\n",
        "      <td>    72.252</td>\n",
        "    </tr>\n",
        "    <tr>\n",
        "      <th>min</th>\n",
        "      <td>    17.000</td>\n",
        "      <td>     0.000</td>\n",
        "      <td>     1.000</td>\n",
        "      <td>     0.000</td>\n",
        "      <td>     0.000</td>\n",
        "      <td>    92.201</td>\n",
        "      <td>   -50.800</td>\n",
        "      <td>     0.634</td>\n",
        "      <td>  4963.600</td>\n",
        "    </tr>\n",
        "    <tr>\n",
        "      <th>25%</th>\n",
        "      <td>    32.000</td>\n",
        "      <td>   102.000</td>\n",
        "      <td>     1.000</td>\n",
        "      <td>   999.000</td>\n",
        "      <td>     0.000</td>\n",
        "      <td>    93.075</td>\n",
        "      <td>   -42.700</td>\n",
        "      <td>     1.344</td>\n",
        "      <td>  5099.100</td>\n",
        "    </tr>\n",
        "    <tr>\n",
        "      <th>50%</th>\n",
        "      <td>    38.000</td>\n",
        "      <td>   180.000</td>\n",
        "      <td>     2.000</td>\n",
        "      <td>   999.000</td>\n",
        "      <td>     0.000</td>\n",
        "      <td>    93.749</td>\n",
        "      <td>   -41.800</td>\n",
        "      <td>     4.857</td>\n",
        "      <td>  5191.000</td>\n",
        "    </tr>\n",
        "    <tr>\n",
        "      <th>75%</th>\n",
        "      <td>    47.000</td>\n",
        "      <td>   319.000</td>\n",
        "      <td>     3.000</td>\n",
        "      <td>   999.000</td>\n",
        "      <td>     0.000</td>\n",
        "      <td>    93.994</td>\n",
        "      <td>   -36.400</td>\n",
        "      <td>     4.961</td>\n",
        "      <td>  5228.100</td>\n",
        "    </tr>\n",
        "    <tr>\n",
        "      <th>max</th>\n",
        "      <td>    98.000</td>\n",
        "      <td>  4918.000</td>\n",
        "      <td>    56.000</td>\n",
        "      <td>   999.000</td>\n",
        "      <td>     7.000</td>\n",
        "      <td>    94.767</td>\n",
        "      <td>   -26.900</td>\n",
        "      <td>     5.045</td>\n",
        "      <td>  5228.100</td>\n",
        "    </tr>\n",
        "  </tbody>\n",
        "</table>\n",
        "</div>"
       ],
       "metadata": {},
       "output_type": "pyout",
       "prompt_number": 15,
       "text": [
        "             age   duration   campaign      pdays   previous  cons.price.idx  \\\n",
        "count  41188.000  41188.000  41188.000  41188.000  41188.000       41188.000   \n",
        "mean      40.024    258.285      2.568    962.475      0.173          93.576   \n",
        "std       10.421    259.279      2.770    186.911      0.495           0.579   \n",
        "min       17.000      0.000      1.000      0.000      0.000          92.201   \n",
        "25%       32.000    102.000      1.000    999.000      0.000          93.075   \n",
        "50%       38.000    180.000      2.000    999.000      0.000          93.749   \n",
        "75%       47.000    319.000      3.000    999.000      0.000          93.994   \n",
        "max       98.000   4918.000     56.000    999.000      7.000          94.767   \n",
        "\n",
        "       cons.conf.idx  euribor3m  nr.employed  \n",
        "count      41188.000  41188.000    41188.000  \n",
        "mean         -40.503      3.621     5167.036  \n",
        "std            4.628      1.734       72.252  \n",
        "min          -50.800      0.634     4963.600  \n",
        "25%          -42.700      1.344     5099.100  \n",
        "50%          -41.800      4.857     5191.000  \n",
        "75%          -36.400      4.961     5228.100  \n",
        "max          -26.900      5.045     5228.100  "
       ]
      }
     ],
     "prompt_number": 15
    },
    {
     "cell_type": "code",
     "collapsed": false,
     "input": [
      "# Feature pdays looks weird. Checked documentation: 999 coded if customer contacted first time.\n",
      "# Recode into bins stating whether and when someone was contacted before (e.g., never, same day etc.)"
     ],
     "language": "python",
     "metadata": {},
     "outputs": [],
     "prompt_number": 16
    },
    {
     "cell_type": "code",
     "collapsed": false,
     "input": [
      "# Create artificial bins for pdays.\n",
      "def recode_pdays(val):\n",
      "    if val == 999:\n",
      "        return 'never contacted'\n",
      "    elif val == 0:\n",
      "        return 'same day'\n",
      "    elif 1 <= val <= 7:\n",
      "        return 'within 1 week'\n",
      "    elif 8<= val <= 14:\n",
      "        return 'between 1 and 2 weeks'\n",
      "    elif 15 <= val <= 21:\n",
      "        return 'between 2 and 3 weeks'\n",
      "    else:\n",
      "        return 'more than 3 weeks'    \n",
      "\n",
      "# Recode.\n",
      "bank['pdays_cat'] = bank.pdays.map(recode_pdays)\n",
      "\n",
      "# Drop pdays.\n",
      "bank.drop('pdays', axis = 1, inplace = True)"
     ],
     "language": "python",
     "metadata": {},
     "outputs": [],
     "prompt_number": 18
    },
    {
     "cell_type": "code",
     "collapsed": false,
     "input": [
      "# Preprocessing - label encoder.\n",
      "# Categorical features.\n",
      "catFeats = ['y', 'job', 'marital', 'education', 'default', 'housing', 'loan', 'contact', 'month', 'day_of_week', 'poutcome', \n",
      "            'pdays_cat']\n",
      "\n",
      "# Categorical features without target. \n",
      "catFeatsR = ['job', 'marital', 'education', 'default', 'housing', 'loan', 'contact', 'month', 'day_of_week', 'poutcome', \n",
      "            'pdays_cat']"
     ],
     "language": "python",
     "metadata": {},
     "outputs": [],
     "prompt_number": 19
    },
    {
     "cell_type": "code",
     "collapsed": false,
     "input": [
      "#le = preprocessing.LabelEncoder()\n",
      "# This doesn't work, need one labelencoder for each feature!!!\n",
      "#for cat in catFeats:\n",
      "#    bank[cat] = le.fit_transform(bank[cat])\n",
      "    \n",
      "label_encoders = {}\n",
      "\n",
      "for cat in catFeats:\n",
      "    label_encoders[cat] = preprocessing.LabelEncoder()\n",
      "    bank[cat] = label_encoders[cat].fit_transform(bank[cat])"
     ],
     "language": "python",
     "metadata": {},
     "outputs": [],
     "prompt_number": 20
    },
    {
     "cell_type": "code",
     "collapsed": false,
     "input": [
      "bank.head()"
     ],
     "language": "python",
     "metadata": {},
     "outputs": [
      {
       "html": [
        "<div style=\"max-height:1000px;max-width:1500px;overflow:auto;\">\n",
        "<table border=\"1\" class=\"dataframe\">\n",
        "  <thead>\n",
        "    <tr style=\"text-align: right;\">\n",
        "      <th></th>\n",
        "      <th>age</th>\n",
        "      <th>job</th>\n",
        "      <th>marital</th>\n",
        "      <th>education</th>\n",
        "      <th>default</th>\n",
        "      <th>housing</th>\n",
        "      <th>loan</th>\n",
        "      <th>contact</th>\n",
        "      <th>month</th>\n",
        "      <th>day_of_week</th>\n",
        "      <th>...</th>\n",
        "      <th>campaign</th>\n",
        "      <th>previous</th>\n",
        "      <th>poutcome</th>\n",
        "      <th>emp.var.rate</th>\n",
        "      <th>cons.price.idx</th>\n",
        "      <th>cons.conf.idx</th>\n",
        "      <th>euribor3m</th>\n",
        "      <th>nr.employed</th>\n",
        "      <th>y</th>\n",
        "      <th>pdays_cat</th>\n",
        "    </tr>\n",
        "  </thead>\n",
        "  <tbody>\n",
        "    <tr>\n",
        "      <th>0</th>\n",
        "      <td> 56</td>\n",
        "      <td> 3</td>\n",
        "      <td> 1</td>\n",
        "      <td> 0</td>\n",
        "      <td> 0</td>\n",
        "      <td> 0</td>\n",
        "      <td> 0</td>\n",
        "      <td> 1</td>\n",
        "      <td> 6</td>\n",
        "      <td> 1</td>\n",
        "      <td>...</td>\n",
        "      <td> 1</td>\n",
        "      <td> 0</td>\n",
        "      <td> 1</td>\n",
        "      <td> 1.1</td>\n",
        "      <td> 93.994</td>\n",
        "      <td>-36.4</td>\n",
        "      <td> 4.857</td>\n",
        "      <td> 5191</td>\n",
        "      <td> 0</td>\n",
        "      <td> 3</td>\n",
        "    </tr>\n",
        "    <tr>\n",
        "      <th>1</th>\n",
        "      <td> 57</td>\n",
        "      <td> 7</td>\n",
        "      <td> 1</td>\n",
        "      <td> 3</td>\n",
        "      <td> 0</td>\n",
        "      <td> 0</td>\n",
        "      <td> 0</td>\n",
        "      <td> 1</td>\n",
        "      <td> 6</td>\n",
        "      <td> 1</td>\n",
        "      <td>...</td>\n",
        "      <td> 1</td>\n",
        "      <td> 0</td>\n",
        "      <td> 1</td>\n",
        "      <td> 1.1</td>\n",
        "      <td> 93.994</td>\n",
        "      <td>-36.4</td>\n",
        "      <td> 4.857</td>\n",
        "      <td> 5191</td>\n",
        "      <td> 0</td>\n",
        "      <td> 3</td>\n",
        "    </tr>\n",
        "    <tr>\n",
        "      <th>2</th>\n",
        "      <td> 37</td>\n",
        "      <td> 7</td>\n",
        "      <td> 1</td>\n",
        "      <td> 3</td>\n",
        "      <td> 0</td>\n",
        "      <td> 1</td>\n",
        "      <td> 0</td>\n",
        "      <td> 1</td>\n",
        "      <td> 6</td>\n",
        "      <td> 1</td>\n",
        "      <td>...</td>\n",
        "      <td> 1</td>\n",
        "      <td> 0</td>\n",
        "      <td> 1</td>\n",
        "      <td> 1.1</td>\n",
        "      <td> 93.994</td>\n",
        "      <td>-36.4</td>\n",
        "      <td> 4.857</td>\n",
        "      <td> 5191</td>\n",
        "      <td> 0</td>\n",
        "      <td> 3</td>\n",
        "    </tr>\n",
        "    <tr>\n",
        "      <th>3</th>\n",
        "      <td> 40</td>\n",
        "      <td> 0</td>\n",
        "      <td> 1</td>\n",
        "      <td> 1</td>\n",
        "      <td> 0</td>\n",
        "      <td> 0</td>\n",
        "      <td> 0</td>\n",
        "      <td> 1</td>\n",
        "      <td> 6</td>\n",
        "      <td> 1</td>\n",
        "      <td>...</td>\n",
        "      <td> 1</td>\n",
        "      <td> 0</td>\n",
        "      <td> 1</td>\n",
        "      <td> 1.1</td>\n",
        "      <td> 93.994</td>\n",
        "      <td>-36.4</td>\n",
        "      <td> 4.857</td>\n",
        "      <td> 5191</td>\n",
        "      <td> 0</td>\n",
        "      <td> 3</td>\n",
        "    </tr>\n",
        "    <tr>\n",
        "      <th>4</th>\n",
        "      <td> 56</td>\n",
        "      <td> 7</td>\n",
        "      <td> 1</td>\n",
        "      <td> 3</td>\n",
        "      <td> 0</td>\n",
        "      <td> 0</td>\n",
        "      <td> 1</td>\n",
        "      <td> 1</td>\n",
        "      <td> 6</td>\n",
        "      <td> 1</td>\n",
        "      <td>...</td>\n",
        "      <td> 1</td>\n",
        "      <td> 0</td>\n",
        "      <td> 1</td>\n",
        "      <td> 1.1</td>\n",
        "      <td> 93.994</td>\n",
        "      <td>-36.4</td>\n",
        "      <td> 4.857</td>\n",
        "      <td> 5191</td>\n",
        "      <td> 0</td>\n",
        "      <td> 3</td>\n",
        "    </tr>\n",
        "  </tbody>\n",
        "</table>\n",
        "<p>5 rows \u00d7 21 columns</p>\n",
        "</div>"
       ],
       "metadata": {},
       "output_type": "pyout",
       "prompt_number": 18,
       "text": [
        "   age  job  marital  education  default  housing  loan  contact  month  \\\n",
        "0   56    3        1          0        0        0     0        1      6   \n",
        "1   57    7        1          3        0        0     0        1      6   \n",
        "2   37    7        1          3        0        1     0        1      6   \n",
        "3   40    0        1          1        0        0     0        1      6   \n",
        "4   56    7        1          3        0        0     1        1      6   \n",
        "\n",
        "   day_of_week    ...      campaign  previous  poutcome  emp.var.rate  \\\n",
        "0            1    ...             1         0         1           1.1   \n",
        "1            1    ...             1         0         1           1.1   \n",
        "2            1    ...             1         0         1           1.1   \n",
        "3            1    ...             1         0         1           1.1   \n",
        "4            1    ...             1         0         1           1.1   \n",
        "\n",
        "   cons.price.idx  cons.conf.idx  euribor3m  nr.employed  y  pdays_cat  \n",
        "0          93.994          -36.4      4.857         5191  0          3  \n",
        "1          93.994          -36.4      4.857         5191  0          3  \n",
        "2          93.994          -36.4      4.857         5191  0          3  \n",
        "3          93.994          -36.4      4.857         5191  0          3  \n",
        "4          93.994          -36.4      4.857         5191  0          3  \n",
        "\n",
        "[5 rows x 21 columns]"
       ]
      }
     ],
     "prompt_number": 18
    },
    {
     "cell_type": "code",
     "collapsed": false,
     "input": [
      "# Calls by month. Some months see more calls than others.  \n",
      "plot = bank['month'].value_counts().order(ascending = False).plot(kind = 'bar', figsize = (10, 10), color = 'r')\n",
      "plot.set_title('Last contact with customer by month')\n",
      "plot.set_xlabel('Month')\n",
      "plot.set_ylabel('Number of customers contacted');"
     ],
     "language": "python",
     "metadata": {},
     "outputs": [
      {
       "metadata": {},
       "output_type": "display_data",
       "png": "[encoded data removed]",
       "text": [
        "<matplotlib.figure.Figure at 0x10a210650>"
       ]
      }
     ],
     "prompt_number": 24
    },
    {
     "cell_type": "code",
     "collapsed": false,
     "input": [
      "# Calls by day of week: no apparent difference in call volume by day of week. \n",
      "plot = bank['day_of_week'].value_counts().order(ascending = False).plot(kind = 'bar', figsize = (10, 10), color = 'grey')\n",
      "plot.set_title('Last customer contact by day of week')\n",
      "plot.set_xlabel('Day of week')\n",
      "plot.set_ylabel('Number of customers')"
     ],
     "language": "python",
     "metadata": {},
     "outputs": [
      {
       "metadata": {},
       "output_type": "pyout",
       "prompt_number": 25,
       "text": [
        "<matplotlib.text.Text at 0x109e15050>"
       ]
      },
      {
       "metadata": {},
       "output_type": "display_data",
       "png": "[encoded data removed]",
       "text": [
        "<matplotlib.figure.Figure at 0x102103b90>"
       ]
      }
     ],
     "prompt_number": 25
    },
    {
     "cell_type": "code",
     "collapsed": false,
     "input": [
      "bank.age.hist(bins = 10) # Age a bit scewed, which makes sense, as more ppl probably apply for loans when they're younger. "
     ],
     "language": "python",
     "metadata": {},
     "outputs": [
      {
       "metadata": {},
       "output_type": "pyout",
       "prompt_number": 26,
       "text": [
        "<matplotlib.axes._subplots.AxesSubplot at 0x10a103590>"
       ]
      },
      {
       "metadata": {},
       "output_type": "display_data",
       "png": "[encoded data removed]",
       "text": [
        "<matplotlib.figure.Figure at 0x109ad7b50>"
       ]
      }
     ],
     "prompt_number": 26
    },
    {
     "cell_type": "code",
     "collapsed": false,
     "input": [
      "bank.duration.hist(bins = 10) # That is interesting - call duration is skewed and supershort for most calls.\n",
      "print 'Median duration of call:', bank.duration.median() # Median is 3 minutes!"
     ],
     "language": "python",
     "metadata": {},
     "outputs": [
      {
       "output_type": "stream",
       "stream": "stdout",
       "text": [
        "Median duration of call: 180.0\n"
       ]
      },
      {
       "metadata": {},
       "output_type": "display_data",
       "png": "[encoded data removed]",
       "text": [
        "<matplotlib.figure.Figure at 0x10a3cc3d0>"
       ]
      }
     ],
     "prompt_number": 27
    },
    {
     "cell_type": "code",
     "collapsed": false,
     "input": [
      "print 'Spearman correlation age, call duration', stats.spearmanr(bank.age, bank.duration) # No assoc. betw. age, call dur."
     ],
     "language": "python",
     "metadata": {},
     "outputs": [
      {
       "output_type": "stream",
       "stream": "stdout",
       "text": [
        "Spearman correlation age, call duration (-0.0021225520320207027, 0.66664603338596384)\n"
       ]
      }
     ],
     "prompt_number": 28
    },
    {
     "cell_type": "code",
     "collapsed": false,
     "input": [
      "bank.campaign.hist(bins = 10) # Lmtd. number of contact. \n",
      "print bank.campaign.median() # Median number of contacts is 2. "
     ],
     "language": "python",
     "metadata": {},
     "outputs": [
      {
       "output_type": "stream",
       "stream": "stdout",
       "text": [
        "2.0\n"
       ]
      },
      {
       "metadata": {},
       "output_type": "display_data",
       "png": "[encoded data removed]",
       "text": [
        "<matplotlib.figure.Figure at 0x109f54fd0>"
       ]
      }
     ],
     "prompt_number": 29
    },
    {
     "cell_type": "code",
     "collapsed": false,
     "input": [
      "print 'Spearman corr age, campaign', stats.spearmanr(bank.age, bank.campaign)\n",
      "print 'Spearman corr duration, campaign', stats.spearmanr(bank.duration, bank.campaign)"
     ],
     "language": "python",
     "metadata": {},
     "outputs": [
      {
       "output_type": "stream",
       "stream": "stdout",
       "text": [
        "Spearman corr age, campaign (0.0057152291644300109, 0.24610168278158667)\n",
        "Spearman corr duration, campaign (-0.080952981128037713, 7.6232414556298434e-61)\n"
       ]
      }
     ],
     "prompt_number": 30
    },
    {
     "cell_type": "code",
     "collapsed": false,
     "input": [
      "# Scatter plot of call duration, campaign. \n",
      "plt.scatter(bank.duration, bank.campaign)"
     ],
     "language": "python",
     "metadata": {},
     "outputs": [
      {
       "metadata": {},
       "output_type": "pyout",
       "prompt_number": 31,
       "text": [
        "<matplotlib.collections.PathCollection at 0x10b35d1d0>"
       ]
      },
      {
       "metadata": {},
       "output_type": "display_data",
       "png": "[encoded data removed]",
       "text": [
        "<matplotlib.figure.Figure at 0x10ae9fa90>"
       ]
      }
     ],
     "prompt_number": 31
    },
    {
     "cell_type": "code",
     "collapsed": false,
     "input": [
      "# Correlations between numeric non-binary features. Exclude pdays, as 999 could bias. \n",
      "# Some look significant, double-check them. \n",
      "bank[numFeatsR].corr(method = 'spearman')"
     ],
     "language": "python",
     "metadata": {},
     "outputs": [
      {
       "html": [
        "<div style=\"max-height:1000px;max-width:1500px;overflow:auto;\">\n",
        "<table border=\"1\" class=\"dataframe\">\n",
        "  <thead>\n",
        "    <tr style=\"text-align: right;\">\n",
        "      <th></th>\n",
        "      <th>age</th>\n",
        "      <th>duration</th>\n",
        "      <th>campaign</th>\n",
        "      <th>previous</th>\n",
        "      <th>cons.price.idx</th>\n",
        "      <th>cons.conf.idx</th>\n",
        "      <th>euribor3m</th>\n",
        "      <th>nr.employed</th>\n",
        "    </tr>\n",
        "  </thead>\n",
        "  <tbody>\n",
        "    <tr>\n",
        "      <th>age</th>\n",
        "      <td> 1.000</td>\n",
        "      <td>-0.002</td>\n",
        "      <td> 0.006</td>\n",
        "      <td>-0.013</td>\n",
        "      <td> 0.045</td>\n",
        "      <td> 0.115</td>\n",
        "      <td> 0.054</td>\n",
        "      <td> 0.045</td>\n",
        "    </tr>\n",
        "    <tr>\n",
        "      <th>duration</th>\n",
        "      <td>-0.002</td>\n",
        "      <td> 1.000</td>\n",
        "      <td>-0.081</td>\n",
        "      <td> 0.042</td>\n",
        "      <td> 0.003</td>\n",
        "      <td>-0.009</td>\n",
        "      <td>-0.078</td>\n",
        "      <td>-0.095</td>\n",
        "    </tr>\n",
        "    <tr>\n",
        "      <th>campaign</th>\n",
        "      <td> 0.006</td>\n",
        "      <td>-0.081</td>\n",
        "      <td> 1.000</td>\n",
        "      <td>-0.087</td>\n",
        "      <td> 0.096</td>\n",
        "      <td>-0.002</td>\n",
        "      <td> 0.141</td>\n",
        "      <td> 0.144</td>\n",
        "    </tr>\n",
        "    <tr>\n",
        "      <th>previous</th>\n",
        "      <td>-0.013</td>\n",
        "      <td> 0.042</td>\n",
        "      <td>-0.087</td>\n",
        "      <td> 1.000</td>\n",
        "      <td>-0.283</td>\n",
        "      <td>-0.116</td>\n",
        "      <td>-0.455</td>\n",
        "      <td>-0.439</td>\n",
        "    </tr>\n",
        "    <tr>\n",
        "      <th>cons.price.idx</th>\n",
        "      <td> 0.045</td>\n",
        "      <td> 0.003</td>\n",
        "      <td> 0.096</td>\n",
        "      <td>-0.283</td>\n",
        "      <td> 1.000</td>\n",
        "      <td> 0.246</td>\n",
        "      <td> 0.491</td>\n",
        "      <td> 0.465</td>\n",
        "    </tr>\n",
        "    <tr>\n",
        "      <th>cons.conf.idx</th>\n",
        "      <td> 0.115</td>\n",
        "      <td>-0.009</td>\n",
        "      <td>-0.002</td>\n",
        "      <td>-0.116</td>\n",
        "      <td> 0.246</td>\n",
        "      <td> 1.000</td>\n",
        "      <td> 0.237</td>\n",
        "      <td> 0.133</td>\n",
        "    </tr>\n",
        "    <tr>\n",
        "      <th>euribor3m</th>\n",
        "      <td> 0.054</td>\n",
        "      <td>-0.078</td>\n",
        "      <td> 0.141</td>\n",
        "      <td>-0.455</td>\n",
        "      <td> 0.491</td>\n",
        "      <td> 0.237</td>\n",
        "      <td> 1.000</td>\n",
        "      <td> 0.929</td>\n",
        "    </tr>\n",
        "    <tr>\n",
        "      <th>nr.employed</th>\n",
        "      <td> 0.045</td>\n",
        "      <td>-0.095</td>\n",
        "      <td> 0.144</td>\n",
        "      <td>-0.439</td>\n",
        "      <td> 0.465</td>\n",
        "      <td> 0.133</td>\n",
        "      <td> 0.929</td>\n",
        "      <td> 1.000</td>\n",
        "    </tr>\n",
        "  </tbody>\n",
        "</table>\n",
        "</div>"
       ],
       "metadata": {},
       "output_type": "pyout",
       "prompt_number": 32,
       "text": [
        "                  age  duration  campaign  previous  cons.price.idx  \\\n",
        "age             1.000    -0.002     0.006    -0.013           0.045   \n",
        "duration       -0.002     1.000    -0.081     0.042           0.003   \n",
        "campaign        0.006    -0.081     1.000    -0.087           0.096   \n",
        "previous       -0.013     0.042    -0.087     1.000          -0.283   \n",
        "cons.price.idx  0.045     0.003     0.096    -0.283           1.000   \n",
        "cons.conf.idx   0.115    -0.009    -0.002    -0.116           0.246   \n",
        "euribor3m       0.054    -0.078     0.141    -0.455           0.491   \n",
        "nr.employed     0.045    -0.095     0.144    -0.439           0.465   \n",
        "\n",
        "                cons.conf.idx  euribor3m  nr.employed  \n",
        "age                     0.115      0.054        0.045  \n",
        "duration               -0.009     -0.078       -0.095  \n",
        "campaign               -0.002      0.141        0.144  \n",
        "previous               -0.116     -0.455       -0.439  \n",
        "cons.price.idx          0.246      0.491        0.465  \n",
        "cons.conf.idx           1.000      0.237        0.133  \n",
        "euribor3m               0.237      1.000        0.929  \n",
        "nr.employed             0.133      0.929        1.000  "
       ]
      }
     ],
     "prompt_number": 32
    },
    {
     "cell_type": "code",
     "collapsed": false,
     "input": [
      "print 'p value of Spearman correlation between'\n",
      "print 'age, consumer confidence idx:', stats.spearmanr(bank['age'], bank['cons.conf.idx']) [1]\n",
      "print 'campaign, number of employees:', stats.spearmanr(bank.campaign, bank['nr.employed'])[1]\n",
      "print 'number of previous contacts, consumer confidence idx:', stats.spearmanr(bank.previous, bank['cons.conf.idx'])[1]\n",
      "print 'number of previous contacts, consumer price idx:', stats.spearmanr(bank.previous, bank['cons.price.idx'])[1]\n",
      "print 'number of previous contacts, Euribor rate:', stats.spearmanr(bank.previous, bank['euribor3m'])[1]\n",
      "print 'number of previous contacts, number of employees:', stats.spearmanr(bank.previous, bank['nr.employed'])[1]\n",
      "print 'consumer price idx, consumer confidence idx:', stats.spearmanr(bank['cons.price.idx'], bank['cons.conf.idx'])[1]\n",
      "print 'consumer price idx, number of employees:', stats.spearmanr(bank['cons.price.idx'], bank['nr.employed'])[1]\n",
      "print 'Euribor, consumer confidence index:', stats.spearmanr(bank.euribor3m, bank['cons.conf.idx'])[1]\n",
      "print 'Euribor, number of employees:', stats.spearmanr(bank.euribor3m, bank['nr.employed'])[1]"
     ],
     "language": "python",
     "metadata": {},
     "outputs": [
      {
       "output_type": "stream",
       "stream": "stdout",
       "text": [
        "p value of Spearman correlation between\n",
        "age, consumer confidence idx: 2.71127093552e-120\n",
        "campaign, number of employees: 2.17821966014e-190\n",
        "number of previous contacts, consumer confidence idx: 2.75118643084e-123\n",
        "number of previous contacts, consumer price idx: 0.0\n",
        "number of previous contacts, Euribor rate: 0.0\n",
        "number of previous contacts, number of employees: 0.0\n",
        "consumer price idx, consumer confidence idx: 0.0\n",
        "consumer price idx, number of employees: 0.0\n",
        "Euribor, consumer confidence index: 0.0\n",
        "Euribor, number of employees: "
       ]
      },
      {
       "output_type": "stream",
       "stream": "stdout",
       "text": [
        "0.0\n"
       ]
      }
     ],
     "prompt_number": 33
    },
    {
     "cell_type": "code",
     "collapsed": false,
     "input": [
      "# Correlations by target: Differ for some features. \n",
      "bank[bank.y == 0][numFeatsR].corr(method = 'spearman')"
     ],
     "language": "python",
     "metadata": {},
     "outputs": [
      {
       "html": [
        "<div style=\"max-height:1000px;max-width:1500px;overflow:auto;\">\n",
        "<table border=\"1\" class=\"dataframe\">\n",
        "  <thead>\n",
        "    <tr style=\"text-align: right;\">\n",
        "      <th></th>\n",
        "      <th>age</th>\n",
        "      <th>duration</th>\n",
        "      <th>campaign</th>\n",
        "      <th>previous</th>\n",
        "      <th>cons.price.idx</th>\n",
        "      <th>cons.conf.idx</th>\n",
        "      <th>euribor3m</th>\n",
        "      <th>nr.employed</th>\n",
        "    </tr>\n",
        "  </thead>\n",
        "  <tbody>\n",
        "    <tr>\n",
        "      <th>age</th>\n",
        "      <td> 1.000</td>\n",
        "      <td> 0.003</td>\n",
        "      <td> 0.006</td>\n",
        "      <td>-0.024</td>\n",
        "      <td> 0.050</td>\n",
        "      <td> 0.115</td>\n",
        "      <td> 0.065</td>\n",
        "      <td> 0.054</td>\n",
        "    </tr>\n",
        "    <tr>\n",
        "      <th>duration</th>\n",
        "      <td> 0.003</td>\n",
        "      <td> 1.000</td>\n",
        "      <td>-0.086</td>\n",
        "      <td>-0.003</td>\n",
        "      <td> 0.029</td>\n",
        "      <td>-0.009</td>\n",
        "      <td>-0.024</td>\n",
        "      <td>-0.043</td>\n",
        "    </tr>\n",
        "    <tr>\n",
        "      <th>campaign</th>\n",
        "      <td> 0.006</td>\n",
        "      <td>-0.086</td>\n",
        "      <td> 1.000</td>\n",
        "      <td>-0.075</td>\n",
        "      <td> 0.089</td>\n",
        "      <td> 0.006</td>\n",
        "      <td> 0.122</td>\n",
        "      <td> 0.125</td>\n",
        "    </tr>\n",
        "    <tr>\n",
        "      <th>previous</th>\n",
        "      <td>-0.024</td>\n",
        "      <td>-0.003</td>\n",
        "      <td>-0.075</td>\n",
        "      <td> 1.000</td>\n",
        "      <td>-0.330</td>\n",
        "      <td>-0.200</td>\n",
        "      <td>-0.418</td>\n",
        "      <td>-0.393</td>\n",
        "    </tr>\n",
        "    <tr>\n",
        "      <th>cons.price.idx</th>\n",
        "      <td> 0.050</td>\n",
        "      <td> 0.029</td>\n",
        "      <td> 0.089</td>\n",
        "      <td>-0.330</td>\n",
        "      <td> 1.000</td>\n",
        "      <td> 0.327</td>\n",
        "      <td> 0.496</td>\n",
        "      <td> 0.478</td>\n",
        "    </tr>\n",
        "    <tr>\n",
        "      <th>cons.conf.idx</th>\n",
        "      <td> 0.115</td>\n",
        "      <td>-0.009</td>\n",
        "      <td> 0.006</td>\n",
        "      <td>-0.200</td>\n",
        "      <td> 0.327</td>\n",
        "      <td> 1.000</td>\n",
        "      <td> 0.345</td>\n",
        "      <td> 0.218</td>\n",
        "    </tr>\n",
        "    <tr>\n",
        "      <th>euribor3m</th>\n",
        "      <td> 0.065</td>\n",
        "      <td>-0.024</td>\n",
        "      <td> 0.122</td>\n",
        "      <td>-0.418</td>\n",
        "      <td> 0.496</td>\n",
        "      <td> 0.345</td>\n",
        "      <td> 1.000</td>\n",
        "      <td> 0.915</td>\n",
        "    </tr>\n",
        "    <tr>\n",
        "      <th>nr.employed</th>\n",
        "      <td> 0.054</td>\n",
        "      <td>-0.043</td>\n",
        "      <td> 0.125</td>\n",
        "      <td>-0.393</td>\n",
        "      <td> 0.478</td>\n",
        "      <td> 0.218</td>\n",
        "      <td> 0.915</td>\n",
        "      <td> 1.000</td>\n",
        "    </tr>\n",
        "  </tbody>\n",
        "</table>\n",
        "</div>"
       ],
       "metadata": {},
       "output_type": "pyout",
       "prompt_number": 34,
       "text": [
        "                  age  duration  campaign  previous  cons.price.idx  \\\n",
        "age             1.000     0.003     0.006    -0.024           0.050   \n",
        "duration        0.003     1.000    -0.086    -0.003           0.029   \n",
        "campaign        0.006    -0.086     1.000    -0.075           0.089   \n",
        "previous       -0.024    -0.003    -0.075     1.000          -0.330   \n",
        "cons.price.idx  0.050     0.029     0.089    -0.330           1.000   \n",
        "cons.conf.idx   0.115    -0.009     0.006    -0.200           0.327   \n",
        "euribor3m       0.065    -0.024     0.122    -0.418           0.496   \n",
        "nr.employed     0.054    -0.043     0.125    -0.393           0.478   \n",
        "\n",
        "                cons.conf.idx  euribor3m  nr.employed  \n",
        "age                     0.115      0.065        0.054  \n",
        "duration               -0.009     -0.024       -0.043  \n",
        "campaign                0.006      0.122        0.125  \n",
        "previous               -0.200     -0.418       -0.393  \n",
        "cons.price.idx          0.327      0.496        0.478  \n",
        "cons.conf.idx           1.000      0.345        0.218  \n",
        "euribor3m               0.345      1.000        0.915  \n",
        "nr.employed             0.218      0.915        1.000  "
       ]
      }
     ],
     "prompt_number": 34
    },
    {
     "cell_type": "code",
     "collapsed": false,
     "input": [
      "bank[bank.y == 1][numFeatsR].corr(method = 'spearman')"
     ],
     "language": "python",
     "metadata": {},
     "outputs": [
      {
       "html": [
        "<div style=\"max-height:1000px;max-width:1500px;overflow:auto;\">\n",
        "<table border=\"1\" class=\"dataframe\">\n",
        "  <thead>\n",
        "    <tr style=\"text-align: right;\">\n",
        "      <th></th>\n",
        "      <th>age</th>\n",
        "      <th>duration</th>\n",
        "      <th>campaign</th>\n",
        "      <th>previous</th>\n",
        "      <th>cons.price.idx</th>\n",
        "      <th>cons.conf.idx</th>\n",
        "      <th>euribor3m</th>\n",
        "      <th>nr.employed</th>\n",
        "    </tr>\n",
        "  </thead>\n",
        "  <tbody>\n",
        "    <tr>\n",
        "      <th>age</th>\n",
        "      <td> 1.000</td>\n",
        "      <td>-0.005</td>\n",
        "      <td>-0.002</td>\n",
        "      <td> 0.047</td>\n",
        "      <td>-0.004</td>\n",
        "      <td> 0.120</td>\n",
        "      <td>-0.059</td>\n",
        "      <td>-0.042</td>\n",
        "    </tr>\n",
        "    <tr>\n",
        "      <th>duration</th>\n",
        "      <td>-0.005</td>\n",
        "      <td> 1.000</td>\n",
        "      <td> 0.165</td>\n",
        "      <td>-0.275</td>\n",
        "      <td> 0.272</td>\n",
        "      <td>-0.176</td>\n",
        "      <td> 0.490</td>\n",
        "      <td> 0.498</td>\n",
        "    </tr>\n",
        "    <tr>\n",
        "      <th>campaign</th>\n",
        "      <td>-0.002</td>\n",
        "      <td> 0.165</td>\n",
        "      <td> 1.000</td>\n",
        "      <td>-0.091</td>\n",
        "      <td> 0.097</td>\n",
        "      <td>-0.035</td>\n",
        "      <td> 0.156</td>\n",
        "      <td> 0.152</td>\n",
        "    </tr>\n",
        "    <tr>\n",
        "      <th>previous</th>\n",
        "      <td> 0.047</td>\n",
        "      <td>-0.275</td>\n",
        "      <td>-0.091</td>\n",
        "      <td> 1.000</td>\n",
        "      <td>-0.003</td>\n",
        "      <td> 0.186</td>\n",
        "      <td>-0.499</td>\n",
        "      <td>-0.534</td>\n",
        "    </tr>\n",
        "    <tr>\n",
        "      <th>cons.price.idx</th>\n",
        "      <td>-0.004</td>\n",
        "      <td> 0.272</td>\n",
        "      <td> 0.097</td>\n",
        "      <td>-0.003</td>\n",
        "      <td> 1.000</td>\n",
        "      <td>-0.251</td>\n",
        "      <td> 0.292</td>\n",
        "      <td> 0.024</td>\n",
        "    </tr>\n",
        "    <tr>\n",
        "      <th>cons.conf.idx</th>\n",
        "      <td> 0.120</td>\n",
        "      <td>-0.176</td>\n",
        "      <td>-0.035</td>\n",
        "      <td> 0.186</td>\n",
        "      <td>-0.251</td>\n",
        "      <td> 1.000</td>\n",
        "      <td>-0.472</td>\n",
        "      <td>-0.300</td>\n",
        "    </tr>\n",
        "    <tr>\n",
        "      <th>euribor3m</th>\n",
        "      <td>-0.059</td>\n",
        "      <td> 0.490</td>\n",
        "      <td> 0.156</td>\n",
        "      <td>-0.499</td>\n",
        "      <td> 0.292</td>\n",
        "      <td>-0.472</td>\n",
        "      <td> 1.000</td>\n",
        "      <td> 0.893</td>\n",
        "    </tr>\n",
        "    <tr>\n",
        "      <th>nr.employed</th>\n",
        "      <td>-0.042</td>\n",
        "      <td> 0.498</td>\n",
        "      <td> 0.152</td>\n",
        "      <td>-0.534</td>\n",
        "      <td> 0.024</td>\n",
        "      <td>-0.300</td>\n",
        "      <td> 0.893</td>\n",
        "      <td> 1.000</td>\n",
        "    </tr>\n",
        "  </tbody>\n",
        "</table>\n",
        "</div>"
       ],
       "metadata": {},
       "output_type": "pyout",
       "prompt_number": 35,
       "text": [
        "                  age  duration  campaign  previous  cons.price.idx  \\\n",
        "age             1.000    -0.005    -0.002     0.047          -0.004   \n",
        "duration       -0.005     1.000     0.165    -0.275           0.272   \n",
        "campaign       -0.002     0.165     1.000    -0.091           0.097   \n",
        "previous        0.047    -0.275    -0.091     1.000          -0.003   \n",
        "cons.price.idx -0.004     0.272     0.097    -0.003           1.000   \n",
        "cons.conf.idx   0.120    -0.176    -0.035     0.186          -0.251   \n",
        "euribor3m      -0.059     0.490     0.156    -0.499           0.292   \n",
        "nr.employed    -0.042     0.498     0.152    -0.534           0.024   \n",
        "\n",
        "                cons.conf.idx  euribor3m  nr.employed  \n",
        "age                     0.120     -0.059       -0.042  \n",
        "duration               -0.176      0.490        0.498  \n",
        "campaign               -0.035      0.156        0.152  \n",
        "previous                0.186     -0.499       -0.534  \n",
        "cons.price.idx         -0.251      0.292        0.024  \n",
        "cons.conf.idx           1.000     -0.472       -0.300  \n",
        "euribor3m              -0.472      1.000        0.893  \n",
        "nr.employed            -0.300      0.893        1.000  "
       ]
      }
     ],
     "prompt_number": 35
    },
    {
     "cell_type": "code",
     "collapsed": false,
     "input": [
      "# Factorplot by target.\n",
      "import seaborn as sns\n",
      "sns.factorplot('y', data = bank, palette = 'Greens') # Mostly 0 as target! Classification maybe biased?"
     ],
     "language": "python",
     "metadata": {},
     "outputs": [
      {
       "metadata": {},
       "output_type": "pyout",
       "prompt_number": 36,
       "text": [
        "<seaborn.axisgrid.FacetGrid at 0x10ae9fc90>"
       ]
      },
      {
       "metadata": {},
       "output_type": "display_data",
       "png": "[encoded data removed]",
       "text": [
        "<matplotlib.figure.Figure at 0x10b7d2ed0>"
       ]
      }
     ],
     "prompt_number": 36
    },
    {
     "cell_type": "code",
     "collapsed": false,
     "input": [
      "sns.factorplot('y', data = bank, palette = 'Blues', hue = 'loan')"
     ],
     "language": "python",
     "metadata": {},
     "outputs": [
      {
       "metadata": {},
       "output_type": "pyout",
       "prompt_number": 37,
       "text": [
        "<seaborn.axisgrid.FacetGrid at 0x109f32f50>"
       ]
      },
      {
       "metadata": {},
       "output_type": "display_data",
       "png": "[encoded data removed]",
       "text": [
        "<matplotlib.figure.Figure at 0x109f701d0>"
       ]
      }
     ],
     "prompt_number": 37
    },
    {
     "cell_type": "code",
     "collapsed": false,
     "input": [
      "sns.factorplot('y', data = bank, palette = 'Reds', hue = 'default')"
     ],
     "language": "python",
     "metadata": {},
     "outputs": [
      {
       "metadata": {},
       "output_type": "pyout",
       "prompt_number": 38,
       "text": [
        "<seaborn.axisgrid.FacetGrid at 0x10d9fef10>"
       ]
      },
      {
       "metadata": {},
       "output_type": "display_data",
       "png": "[encoded data removed]",
       "text": [
        "<matplotlib.figure.Figure at 0x10d9fe6d0>"
       ]
      }
     ],
     "prompt_number": 38
    },
    {
     "cell_type": "code",
     "collapsed": false,
     "input": [
      "sns.factorplot('y', data = bank, palette = 'Greens', hue = 'marital')"
     ],
     "language": "python",
     "metadata": {},
     "outputs": [
      {
       "metadata": {},
       "output_type": "pyout",
       "prompt_number": 39,
       "text": [
        "<seaborn.axisgrid.FacetGrid at 0x10ad14d90>"
       ]
      },
      {
       "metadata": {},
       "output_type": "display_data",
       "png": "[encoded data removed]",
       "text": [
        "<matplotlib.figure.Figure at 0x10ad14f10>"
       ]
      }
     ],
     "prompt_number": 39
    },
    {
     "cell_type": "heading",
     "level": 3,
     "metadata": {},
     "source": [
      "Preps for KNN and RF"
     ]
    },
    {
     "cell_type": "code",
     "collapsed": false,
     "input": [
      "# Get target variable.\n",
      "target = bank['y']"
     ],
     "language": "python",
     "metadata": {},
     "outputs": [],
     "prompt_number": 40
    },
    {
     "cell_type": "code",
     "collapsed": false,
     "input": [
      "target.shape"
     ],
     "language": "python",
     "metadata": {},
     "outputs": [
      {
       "metadata": {},
       "output_type": "pyout",
       "prompt_number": 41,
       "text": [
        "(41188,)"
       ]
      }
     ],
     "prompt_number": 41
    },
    {
     "cell_type": "code",
     "collapsed": false,
     "input": [
      "# Drop target.\n",
      "# Drop duration, documentation suggests.\n",
      "bank.drop(['y', 'duration'], axis = 1, inplace = True)"
     ],
     "language": "python",
     "metadata": {},
     "outputs": [],
     "prompt_number": 42
    },
    {
     "cell_type": "code",
     "collapsed": false,
     "input": [
      "features = bank.as_matrix()"
     ],
     "language": "python",
     "metadata": {},
     "outputs": [],
     "prompt_number": 43
    },
    {
     "cell_type": "code",
     "collapsed": false,
     "input": [
      "features.shape"
     ],
     "language": "python",
     "metadata": {},
     "outputs": [
      {
       "metadata": {},
       "output_type": "pyout",
       "prompt_number": 44,
       "text": [
        "(41188, 19)"
       ]
      }
     ],
     "prompt_number": 44
    },
    {
     "cell_type": "heading",
     "level": 3,
     "metadata": {},
     "source": [
      "KNN"
     ]
    },
    {
     "cell_type": "code",
     "collapsed": false,
     "input": [
      "# Split. \n",
      "X_train, X_test, y_train, y_test = train_test_split(features, target, test_size = 0.2, random_state = 12)"
     ],
     "language": "python",
     "metadata": {},
     "outputs": [],
     "prompt_number": 45
    },
    {
     "cell_type": "code",
     "collapsed": false,
     "input": [
      "knn = KNeighborsClassifier()"
     ],
     "language": "python",
     "metadata": {},
     "outputs": [],
     "prompt_number": 46
    },
    {
     "cell_type": "code",
     "collapsed": false,
     "input": [
      "# Grid Search for KNN parameters to be used. \n",
      "param_knn = {'n_neighbors' : np.arange(10, 101, 5)}\n",
      "knn_gs = GridSearchCV(knn, param_grid = param_knn)\n",
      "knn_gs.fit(X_train, y_train)\n",
      "print 'Best parameters:', knn_gs.best_params_"
     ],
     "language": "python",
     "metadata": {},
     "outputs": [
      {
       "output_type": "stream",
       "stream": "stdout",
       "text": [
        "Best parameters: {'n_neighbors': 50}\n"
       ]
      }
     ],
     "prompt_number": 47
    },
    {
     "cell_type": "code",
     "collapsed": false,
     "input": [
      "# Run knn with best parameters. \n",
      "knn = KNeighborsClassifier(n_neighbors = 50)\n",
      "knn.fit(X_train, y_train)"
     ],
     "language": "python",
     "metadata": {},
     "outputs": [
      {
       "metadata": {},
       "output_type": "pyout",
       "prompt_number": 48,
       "text": [
        "KNeighborsClassifier(algorithm='auto', leaf_size=30, metric='minkowski',\n",
        "           metric_params=None, n_neighbors=50, p=2, weights='uniform')"
       ]
      }
     ],
     "prompt_number": 48
    },
    {
     "cell_type": "code",
     "collapsed": false,
     "input": [
      "# Score.\n",
      "knn.score(X_test, y_test)"
     ],
     "language": "python",
     "metadata": {},
     "outputs": [
      {
       "metadata": {},
       "output_type": "pyout",
       "prompt_number": 49,
       "text": [
        "0.89317795581451809"
       ]
      }
     ],
     "prompt_number": 49
    },
    {
     "cell_type": "code",
     "collapsed": false,
     "input": [
      "# Predicted y.\n",
      "y_pred_knn = knn.predict(X_test)"
     ],
     "language": "python",
     "metadata": {},
     "outputs": [],
     "prompt_number": 50
    },
    {
     "cell_type": "code",
     "collapsed": false,
     "input": [
      "# Confusion matrix.\n",
      "print 'Confusion matrix:\\n', confusion_matrix(y_test, y_pred_knn)"
     ],
     "language": "python",
     "metadata": {},
     "outputs": [
      {
       "output_type": "stream",
       "stream": "stdout",
       "text": [
        "Confusion matrix:\n",
        "[[7232   84]\n",
        " [ 796  126]]\n"
       ]
      }
     ],
     "prompt_number": 51
    },
    {
     "cell_type": "code",
     "collapsed": false,
     "input": [
      "# Plot confusion matrix.\n",
      "plt.matshow(confusion_matrix(y_test, y_pred_knn))\n",
      "plt.title('KNN Confusion matrix')\n",
      "plt.colorbar()\n",
      "plt.ylabel('True')\n",
      "plt.xlabel('Predicted')"
     ],
     "language": "python",
     "metadata": {},
     "outputs": [
      {
       "metadata": {},
       "output_type": "pyout",
       "prompt_number": 52,
       "text": [
        "<matplotlib.text.Text at 0x10adc80d0>"
       ]
      },
      {
       "metadata": {},
       "output_type": "display_data",
       "png": "[encoded data removed]",
       "text": [
        "<matplotlib.figure.Figure at 0x10b32a490>"
       ]
      }
     ],
     "prompt_number": 52
    },
    {
     "cell_type": "code",
     "collapsed": false,
     "input": [
      "# Classification report/ \n",
      "print 'classification report:\\n', classification_report(y_test, y_pred_knn) # Works well for 0 target, not so for 1 target."
     ],
     "language": "python",
     "metadata": {},
     "outputs": [
      {
       "output_type": "stream",
       "stream": "stdout",
       "text": [
        "classification report:\n",
        "             precision    recall  f1-score   support\n",
        "\n",
        "          0       0.90      0.99      0.94      7316\n",
        "          1       0.60      0.14      0.22       922\n",
        "\n",
        "avg / total       0.87      0.89      0.86      8238\n",
        "\n"
       ]
      }
     ],
     "prompt_number": 53
    },
    {
     "cell_type": "code",
     "collapsed": false,
     "input": [
      "# Learning curve. Thanks to Chad for the code. \n",
      "def plot_learning_curve(estimator, title, X, y, ylim=None, cv=None,\n",
      "                        n_jobs=1, train_sizes=np.linspace(.1, 1.0, 5)):\n",
      "    \"\"\"\n",
      "    Generate a simple plot of the test and traning learning curve.\n",
      "\n",
      "    Parameters\n",
      "    ----------\n",
      "    estimator : object type that implements the \"fit\" and \"predict\" methods\n",
      "        An object of that type which is cloned for each validation.\n",
      "\n",
      "    title : string\n",
      "        Title for the chart.\n",
      "\n",
      "    X : array-like, shape (n_samples, n_features)\n",
      "        Training vector, where n_samples is the number of samples and\n",
      "        n_features is the number of features.\n",
      "\n",
      "    y : array-like, shape (n_samples) or (n_samples, n_features), optional\n",
      "        Target relative to X for classification or regression;\n",
      "        None for unsupervised learning.\n",
      "\n",
      "    ylim : tuple, shape (ymin, ymax), optional\n",
      "        Defines minimum and maximum yvalues plotted.\n",
      "\n",
      "    cv : integer, cross-validation generator, optional\n",
      "        If an integer is passed, it is the number of folds (defaults to 3).\n",
      "        Specific cross-validation objects can be passed, see\n",
      "        sklearn.cross_validation module for the list of possible objects\n",
      "\n",
      "    n_jobs : integer, optional\n",
      "        Number of jobs to run in parallel (default 1).\n",
      "    \"\"\"\n",
      "    plt.figure()\n",
      "    plt.title(title)\n",
      "    if ylim is not None:\n",
      "        plt.ylim(*ylim)\n",
      "    plt.xlabel(\"Training examples\")\n",
      "    plt.ylabel(\"Score\")\n",
      "    train_sizes, train_scores, test_scores = learning_curve(\n",
      "        estimator, X, y, cv=cv, n_jobs=n_jobs, train_sizes=train_sizes)\n",
      "    train_scores_mean = np.mean(train_scores, axis=1)\n",
      "    train_scores_std = np.std(train_scores, axis=1)\n",
      "    test_scores_mean = np.mean(test_scores, axis=1)\n",
      "    test_scores_std = np.std(test_scores, axis=1)\n",
      "    plt.grid()\n",
      "\n",
      "    plt.fill_between(train_sizes, train_scores_mean - train_scores_std,\n",
      "                     train_scores_mean + train_scores_std, alpha=0.1,\n",
      "                     color=\"r\")\n",
      "    plt.fill_between(train_sizes, test_scores_mean - test_scores_std,\n",
      "                     test_scores_mean + test_scores_std, alpha=0.1, color=\"g\")\n",
      "    plt.plot(train_sizes, train_scores_mean, 'o-', color=\"r\",\n",
      "             label=\"Training score\")\n",
      "    plt.plot(train_sizes, test_scores_mean, 'o-', color=\"g\",\n",
      "             label=\"Cross-validation score\")\n",
      "\n",
      "    plt.legend(loc=\"best\")\n",
      "    return plt"
     ],
     "language": "python",
     "metadata": {},
     "outputs": [],
     "prompt_number": 54
    },
    {
     "cell_type": "code",
     "collapsed": false,
     "input": [
      "# Plot learning curve to visualize bias variance trade-off in terms of training samples. \n",
      "plot_learning_curve(KNeighborsClassifier(n_neighbors = 50), 'KNN', X_train, y_train, ylim=None, cv=None, n_jobs=-1)"
     ],
     "language": "python",
     "metadata": {},
     "outputs": [
      {
       "metadata": {},
       "output_type": "pyout",
       "prompt_number": 55,
       "text": [
        "<module 'matplotlib.pyplot' from '/Users/mareen/anaconda/lib/python2.7/site-packages/matplotlib/pyplot.pyc'>"
       ]
      },
      {
       "metadata": {},
       "output_type": "display_data",
       "png": "[encoded data removed]",
       "text": [
        "<matplotlib.figure.Figure at 0x10db1dc50>"
       ]
      }
     ],
     "prompt_number": 55
    },
    {
     "cell_type": "code",
     "collapsed": false,
     "input": [
      "# Another plot. This time visualizing best parameter in terms of n_neighbors. \n",
      "train_scores = []\n",
      "test_scores = []\n",
      "ks = range(10, 101, 5)\n",
      "for i in ks:\n",
      "    knn = KNeighborsClassifier(n_neighbors = i)\n",
      "    knn.fit(X_train, y_train)\n",
      "    train_scores.append(knn.score(X_train, y_train))\n",
      "    test_scores.append(knn.score(X_test, y_test))\n",
      "plt.plot(ks, train_scores, label=\"training scores\")\n",
      "plt.legend(loc=\"best\")\n",
      "plt.tight_layout()\n",
      "plt.plot(ks, test_scores, label=\"validation scores\")\n",
      "plt.legend(loc=\"best\")"
     ],
     "language": "python",
     "metadata": {},
     "outputs": [
      {
       "metadata": {},
       "output_type": "pyout",
       "prompt_number": 56,
       "text": [
        "<matplotlib.legend.Legend at 0x10f98f490>"
       ]
      },
      {
       "metadata": {},
       "output_type": "display_data",
       "png": "[encoded data removed]",
       "text": [
        "<matplotlib.figure.Figure at 0x10f8f6350>"
       ]
      }
     ],
     "prompt_number": 56
    },
    {
     "cell_type": "code",
     "collapsed": false,
     "input": [
      "# Look at probabilities.\n",
      "bank_y_pred_df = pd.DataFrame(knn.predict_proba(X_test)) \n",
      "bank_y_pred_df['Predicted'] = y_pred_knn\n",
      "bank_y_pred_df['True'] = y_test\n",
      "# Show only FP/ FN examples. \n",
      "print 'FP, FN examples:\\n', bank_y_pred_df[bank_y_pred_df['Predicted'] != bank_y_pred_df['True']].head(20)\n",
      "print 'Total FP, FN:\\n', len(bank_y_pred_df[bank_y_pred_df['Predicted'] != bank_y_pred_df['True']])"
     ],
     "language": "python",
     "metadata": {},
     "outputs": [
      {
       "output_type": "stream",
       "stream": "stdout",
       "text": [
        "FP, FN examples:\n",
        "        0     1  Predicted  True\n",
        "6    0.47  0.53          0     1\n",
        "39   0.91  0.09          0     1\n",
        "43   0.91  0.09          0     1\n",
        "56   0.96  0.04          0     1\n",
        "58   0.95  0.05          0     1\n",
        "63   0.96  0.04          0     1\n",
        "77   0.96  0.04          0     1\n",
        "82   0.65  0.35          0     1\n",
        "83   0.97  0.03          0     1\n",
        "84   0.64  0.36          0     1\n",
        "93   0.46  0.54          0     1\n",
        "97   0.54  0.46          0     1\n",
        "118  0.97  0.03          0     1\n",
        "158  0.54  0.46          0     1\n",
        "161  0.67  0.33          0     1\n",
        "170  0.37  0.63          1     0\n",
        "188  0.98  0.02          0     1\n",
        "191  0.62  0.38          0     1\n",
        "194  0.99  0.01          0     1\n",
        "199  0.54  0.46          1     0\n",
        "Total FP, FN:\n",
        "880\n"
       ]
      }
     ],
     "prompt_number": 57
    },
    {
     "cell_type": "code",
     "collapsed": false,
     "input": [
      "# Matthews coeff is measure of quality of binary classification. Not very good. Maybe because of unequal target sizes? \n",
      "matthews_corrcoef(y_test, y_pred_knn) "
     ],
     "language": "python",
     "metadata": {},
     "outputs": [
      {
       "metadata": {},
       "output_type": "pyout",
       "prompt_number": 58,
       "text": [
        "0.25038950856307657"
       ]
      }
     ],
     "prompt_number": 58
    },
    {
     "cell_type": "heading",
     "level": 3,
     "metadata": {},
     "source": [
      "RF"
     ]
    },
    {
     "cell_type": "code",
     "collapsed": false,
     "input": [
      "# Random forest.\n",
      "rf = RandomForestClassifier(n_jobs = -1)"
     ],
     "language": "python",
     "metadata": {},
     "outputs": [],
     "prompt_number": 59
    },
    {
     "cell_type": "code",
     "collapsed": false,
     "input": [
      "# Run GridSearch for best parameters.\n",
      "param_rf = {'n_estimators': np.arange(10, 101, 10), 'criterion': ['gini', 'entropy']}"
     ],
     "language": "python",
     "metadata": {},
     "outputs": [],
     "prompt_number": 60
    },
    {
     "cell_type": "code",
     "collapsed": false,
     "input": [
      "rf_gs = GridSearchCV(rf, param_grid=param_rf)"
     ],
     "language": "python",
     "metadata": {},
     "outputs": [],
     "prompt_number": 61
    },
    {
     "cell_type": "code",
     "collapsed": false,
     "input": [
      "rf_gs.fit(features, target)"
     ],
     "language": "python",
     "metadata": {},
     "outputs": [
      {
       "metadata": {},
       "output_type": "pyout",
       "prompt_number": 62,
       "text": [
        "GridSearchCV(cv=None,\n",
        "       estimator=RandomForestClassifier(bootstrap=True, compute_importances=None,\n",
        "            criterion='gini', max_depth=None, max_features='auto',\n",
        "            max_leaf_nodes=None, min_density=None, min_samples_leaf=1,\n",
        "            min_samples_split=2, n_estimators=10, n_jobs=-1,\n",
        "            oob_score=False, random_state=None, verbose=0),\n",
        "       fit_params={}, iid=True, loss_func=None, n_jobs=1,\n",
        "       param_grid={'n_estimators': array([ 10,  20,  30,  40,  50,  60,  70,  80,  90, 100]), 'criterion': ['gini', 'entropy']},\n",
        "       pre_dispatch='2*n_jobs', refit=True, score_func=None, scoring=None,\n",
        "       verbose=0)"
       ]
      }
     ],
     "prompt_number": 62
    },
    {
     "cell_type": "code",
     "collapsed": false,
     "input": [
      "rf_gs.grid_scores_"
     ],
     "language": "python",
     "metadata": {},
     "outputs": [
      {
       "metadata": {},
       "output_type": "pyout",
       "prompt_number": 63,
       "text": [
        "[mean: 0.36911, std: 0.36796, params: {'n_estimators': 10, 'criterion': 'gini'},\n",
        " mean: 0.36440, std: 0.37202, params: {'n_estimators': 20, 'criterion': 'gini'},\n",
        " mean: 0.36547, std: 0.37104, params: {'n_estimators': 30, 'criterion': 'gini'},\n",
        " mean: 0.36627, std: 0.37035, params: {'n_estimators': 40, 'criterion': 'gini'},\n",
        " mean: 0.36632, std: 0.37033, params: {'n_estimators': 50, 'criterion': 'gini'},\n",
        " mean: 0.36489, std: 0.37157, params: {'n_estimators': 60, 'criterion': 'gini'},\n",
        " mean: 0.36523, std: 0.37122, params: {'n_estimators': 70, 'criterion': 'gini'},\n",
        " mean: 0.36445, std: 0.37189, params: {'n_estimators': 80, 'criterion': 'gini'},\n",
        " mean: 0.36605, std: 0.37056, params: {'n_estimators': 90, 'criterion': 'gini'},\n",
        " mean: 0.36545, std: 0.37104, params: {'n_estimators': 100, 'criterion': 'gini'},\n",
        " mean: 0.36736, std: 0.36961, params: {'n_estimators': 10, 'criterion': 'entropy'},\n",
        " mean: 0.36717, std: 0.36951, params: {'n_estimators': 20, 'criterion': 'entropy'},\n",
        " mean: 0.37246, std: 0.36531, params: {'n_estimators': 30, 'criterion': 'entropy'},\n",
        " mean: 0.36877, std: 0.36828, params: {'n_estimators': 40, 'criterion': 'entropy'},\n",
        " mean: 0.36785, std: 0.36903, params: {'n_estimators': 50, 'criterion': 'entropy'},\n",
        " mean: 0.36576, std: 0.37080, params: {'n_estimators': 60, 'criterion': 'entropy'},\n",
        " mean: 0.36834, std: 0.36871, params: {'n_estimators': 70, 'criterion': 'entropy'},\n",
        " mean: 0.36554, std: 0.37097, params: {'n_estimators': 80, 'criterion': 'entropy'},\n",
        " mean: 0.36596, std: 0.37063, params: {'n_estimators': 90, 'criterion': 'entropy'},\n",
        " mean: 0.36579, std: 0.37073, params: {'n_estimators': 100, 'criterion': 'entropy'}]"
       ]
      }
     ],
     "prompt_number": 63
    },
    {
     "cell_type": "code",
     "collapsed": false,
     "input": [
      "# Use these in rf model. \n",
      "rf_gs.best_params_"
     ],
     "language": "python",
     "metadata": {},
     "outputs": [
      {
       "metadata": {},
       "output_type": "pyout",
       "prompt_number": 64,
       "text": [
        "{'criterion': 'entropy', 'n_estimators': 30}"
       ]
      }
     ],
     "prompt_number": 64
    },
    {
     "cell_type": "code",
     "collapsed": false,
     "input": [
      "rf = RandomForestClassifier(n_jobs=-1, n_estimators=30, criterion='entropy')"
     ],
     "language": "python",
     "metadata": {},
     "outputs": [],
     "prompt_number": 65
    },
    {
     "cell_type": "code",
     "collapsed": false,
     "input": [
      "rf.fit(features, target)"
     ],
     "language": "python",
     "metadata": {},
     "outputs": [
      {
       "metadata": {},
       "output_type": "pyout",
       "prompt_number": 66,
       "text": [
        "RandomForestClassifier(bootstrap=True, compute_importances=None,\n",
        "            criterion='entropy', max_depth=None, max_features='auto',\n",
        "            max_leaf_nodes=None, min_density=None, min_samples_leaf=1,\n",
        "            min_samples_split=2, n_estimators=30, n_jobs=-1,\n",
        "            oob_score=False, random_state=None, verbose=0)"
       ]
      }
     ],
     "prompt_number": 66
    },
    {
     "cell_type": "code",
     "collapsed": false,
     "input": [
      "rf.feature_importances_"
     ],
     "language": "python",
     "metadata": {},
     "outputs": [
      {
       "metadata": {},
       "output_type": "pyout",
       "prompt_number": 67,
       "text": [
        "array([  2.0231e-01,   9.0210e-02,   4.2031e-02,   7.7438e-02,\n",
        "         1.0591e-06,   3.4507e-02,   2.3758e-02,   1.3714e-02,\n",
        "         1.5688e-02,   6.0585e-02,   9.8040e-02,   1.4692e-02,\n",
        "         3.7419e-02,   2.6222e-02,   2.2230e-02,   2.1399e-02,\n",
        "         1.3489e-01,   6.9029e-02,   1.5843e-02])"
       ]
      }
     ],
     "prompt_number": 67
    },
    {
     "cell_type": "code",
     "collapsed": false,
     "input": [
      "# 10 Most important features. Could build reduced model with just these. \n",
      "print 'Most important features:\\n', sorted(zip(rf.feature_importances_, bank.columns), reverse  = True)[:10]"
     ],
     "language": "python",
     "metadata": {},
     "outputs": [
      {
       "output_type": "stream",
       "stream": "stdout",
       "text": [
        "Most important features:\n",
        "[(0.20230857353207832, 'age'), (0.13488591961337854, 'euribor3m'), (0.098040068945891914, 'campaign'), (0.090209638072832346, 'job'), (0.077438334291449432, 'education'), (0.069028835181837458, 'nr.employed'), (0.060585052963373527, 'day_of_week'), (0.042030826371506555, 'marital'), (0.037419327129461707, 'poutcome'), (0.03450657183575602, 'housing')]\n"
       ]
      }
     ],
     "prompt_number": 68
    },
    {
     "cell_type": "code",
     "collapsed": false,
     "input": [
      "# Confusion matrix\n",
      "y_pred_rf = rf.predict(features)"
     ],
     "language": "python",
     "metadata": {},
     "outputs": [],
     "prompt_number": 69
    },
    {
     "cell_type": "code",
     "collapsed": false,
     "input": [
      "print 'cf matrix:\\n', confusion_matrix(target, y_pred_rf)"
     ],
     "language": "python",
     "metadata": {},
     "outputs": [
      {
       "output_type": "stream",
       "stream": "stdout",
       "text": [
        "cf matrix:\n",
        "[[36469    79]\n",
        " [  287  4353]]\n"
       ]
      }
     ],
     "prompt_number": 70
    },
    {
     "cell_type": "code",
     "collapsed": false,
     "input": [
      "# Plot confusion matrix.\n",
      "plt.matshow(confusion_matrix(target, y_pred_rf))\n",
      "plt.title('RF Confusion matrix')\n",
      "plt.colorbar()\n",
      "plt.ylabel('True')\n",
      "plt.xlabel('Predicted')"
     ],
     "language": "python",
     "metadata": {},
     "outputs": [
      {
       "metadata": {},
       "output_type": "pyout",
       "prompt_number": 71,
       "text": [
        "<matplotlib.text.Text at 0x10d77e5d0>"
       ]
      },
      {
       "metadata": {},
       "output_type": "display_data",
       "png": "[encoded data removed]",
       "text": [
        "<matplotlib.figure.Figure at 0x10f94d8d0>"
       ]
      }
     ],
     "prompt_number": 71
    },
    {
     "cell_type": "code",
     "collapsed": false,
     "input": [
      "# Classification report. \n",
      "print 'classification report:\\n', classification_report(target, y_pred_rf) # Works well for both."
     ],
     "language": "python",
     "metadata": {},
     "outputs": [
      {
       "output_type": "stream",
       "stream": "stdout",
       "text": [
        "classification report:\n",
        "             precision    recall  f1-score   support\n",
        "\n",
        "          0       0.99      1.00      1.00     36548\n",
        "          1       0.98      0.94      0.96      4640\n",
        "\n",
        "avg / total       0.99      0.99      0.99     41188\n",
        "\n"
       ]
      }
     ],
     "prompt_number": 72
    },
    {
     "cell_type": "code",
     "collapsed": false,
     "input": [
      "# # Look at probabilities.\n",
      "bank_y_pred_df_rf = pd.DataFrame(rf.predict_proba(features)) \n",
      "bank_y_pred_df_rf['Predicted'] = y_pred_rf\n",
      "bank_y_pred_df_rf['True'] = target\n",
      "# Show only FP/ FN\n",
      "print 'FP, FN examples:\\n', bank_y_pred_df_rf[bank_y_pred_df_rf['Predicted'] != bank_y_pred_df_rf['True']].head(20)\n",
      "print 'Total FP, Fn:\\n', len(bank_y_pred_df_rf[bank_y_pred_df_rf['Predicted'] != bank_y_pred_df_rf['True']])"
     ],
     "language": "python",
     "metadata": {},
     "outputs": [
      {
       "output_type": "stream",
       "stream": "stdout",
       "text": [
        "FP, FN examples:\n",
        "          0      1  Predicted  True\n",
        "75    0.536  0.464          0     1\n",
        "876   0.508  0.492          0     1\n",
        "1763  0.567  0.433          0     1\n",
        "1809  0.567  0.433          0     1\n",
        "2064  0.629  0.371          0     1\n",
        "2305  0.533  0.467          0     1\n",
        "2327  0.497  0.503          1     0\n",
        "2417  0.577  0.423          0     1\n",
        "2697  0.500  0.500          0     1\n",
        "2713  0.567  0.433          0     1\n",
        "2779  0.567  0.433          0     1\n",
        "3338  0.521  0.479          0     1\n",
        "4294  0.556  0.444          0     1\n",
        "4609  0.600  0.400          0     1\n",
        "4677  0.500  0.500          0     1\n",
        "5073  0.500  0.500          0     1\n",
        "5363  0.500  0.500          0     1\n",
        "5638  0.500  0.500          0     1\n",
        "5731  0.600  0.400          0     1\n",
        "6018  0.634  0.366          0     1\n",
        "Total FP, Fn:\n",
        "366\n"
       ]
      }
     ],
     "prompt_number": 73
    },
    {
     "cell_type": "code",
     "collapsed": false,
     "input": [
      "# Learning curve. So, more training samples actually brings the Cv score down ... \n",
      "plot_learning_curve(RandomForestClassifier(n_jobs=-1, n_estimators=30, criterion='entropy'), \n",
      "                    'RF', features, target)"
     ],
     "language": "python",
     "metadata": {},
     "outputs": [
      {
       "metadata": {},
       "output_type": "pyout",
       "prompt_number": 75,
       "text": [
        "<module 'matplotlib.pyplot' from '/Users/mareen/anaconda/lib/python2.7/site-packages/matplotlib/pyplot.pyc'>"
       ]
      },
      {
       "metadata": {},
       "output_type": "display_data",
       "png": "[encoded data removed]",
       "text": [
        "<matplotlib.figure.Figure at 0x10dd26890>"
       ]
      }
     ],
     "prompt_number": 75
    },
    {
     "cell_type": "code",
     "collapsed": false,
     "input": [
      "# Matthews coeff is measure of quality of binary classification. Pretty good.\n",
      "matthews_corrcoef(target, y_pred_rf) "
     ],
     "language": "python",
     "metadata": {},
     "outputs": [
      {
       "metadata": {},
       "output_type": "pyout",
       "prompt_number": 76,
       "text": [
        "0.95498311942036418"
       ]
      }
     ],
     "prompt_number": 76
    },
    {
     "cell_type": "code",
     "collapsed": false,
     "input": [
      "# Plot visualizing best params in terms of N-estimators: gini first.\n",
      "train_scores = []\n",
      "test_scores = []\n",
      "ks = range(10, 101, 10)\n",
      "for i in ks:\n",
      "    knn = RandomForestClassifier(n_estimators = i, criterion = 'gini')\n",
      "    knn.fit(X_train, y_train)\n",
      "    train_scores.append(knn.score(X_train, y_train))\n",
      "    test_scores.append(knn.score(X_test, y_test))\n",
      "plt.plot(ks, train_scores, label=\"training scores\")\n",
      "plt.legend(loc=\"best\")\n",
      "plt.tight_layout()\n",
      "plt.plot(ks, test_scores, label=\"validation scores\")\n",
      "plt.legend(loc=\"best\")"
     ],
     "language": "python",
     "metadata": {},
     "outputs": [
      {
       "metadata": {},
       "output_type": "pyout",
       "prompt_number": 78,
       "text": [
        "<matplotlib.legend.Legend at 0x11bd58a90>"
       ]
      },
      {
       "metadata": {},
       "output_type": "display_data",
       "png": "[encoded data removed]",
       "text": [
        "<matplotlib.figure.Figure at 0x10df80bd0>"
       ]
      }
     ],
     "prompt_number": 78
    },
    {
     "cell_type": "code",
     "collapsed": false,
     "input": [
      "# Plot visualizing best params in terms of N-estimators: entropy.\n",
      "train_scores = []\n",
      "test_scores = []\n",
      "ks = range(10, 101, 10)\n",
      "for i in ks:\n",
      "    knn = RandomForestClassifier(n_estimators = i, criterion = 'entropy')\n",
      "    knn.fit(X_train, y_train)\n",
      "    train_scores.append(knn.score(X_train, y_train))\n",
      "    test_scores.append(knn.score(X_test, y_test))\n",
      "plt.plot(ks, train_scores, label=\"training scores\")\n",
      "plt.legend(loc=\"best\")\n",
      "plt.tight_layout()\n",
      "plt.plot(ks, test_scores, label=\"validation scores\")\n",
      "plt.legend(loc=\"best\")"
     ],
     "language": "python",
     "metadata": {},
     "outputs": [
      {
       "metadata": {},
       "output_type": "pyout",
       "prompt_number": 79,
       "text": [
        "<matplotlib.legend.Legend at 0x10f7e5a50>"
       ]
      },
      {
       "metadata": {},
       "output_type": "display_data",
       "png": "[encoded data removed]",
       "text": [
        "<matplotlib.figure.Figure at 0x10f9b7dd0>"
       ]
      }
     ],
     "prompt_number": 79
    },
    {
     "cell_type": "code",
     "collapsed": false,
     "input": [],
     "language": "python",
     "metadata": {},
     "outputs": []
    }
   ],
   "metadata": {}
  }
 ]
}