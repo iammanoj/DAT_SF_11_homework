{
 "metadata": {
  "name": "",
  "signature": "sha256:ba2823f1ace6f26a07dd17262a6f6be9aafc797a8a5d5dbf466be4db8dd59c0d"
 },
 "nbformat": 3,
 "nbformat_minor": 0,
 "worksheets": [
  {
   "cells": [
    {
     "cell_type": "code",
     "collapsed": false,
     "input": [
      "import pandas as pd\n",
      "import numpy as np\n",
      "import matplotlib.pyplot as plt\n",
      "from scipy import stats \n",
      "from sklearn.cross_validation import train_test_split\n",
      "\n",
      "pd.set_option('display.max_rows', 10)\n",
      "pd.set_option('display.precision', 4)\n",
      "np.set_printoptions(precision = 4)\n",
      "\n",
      "%matplotlib inline"
     ],
     "language": "python",
     "metadata": {},
     "outputs": [],
     "prompt_number": 2
    },
    {
     "cell_type": "code",
     "collapsed": false,
     "input": [
      "credit = pd.read_csv('./crx.data', header = None,\n",
      "                     names = ['A1','A2','A3','A4','A5','A6','A7','A8','A9','A10','A11','A12','A13','A14','A15','A16'])"
     ],
     "language": "python",
     "metadata": {},
     "outputs": [],
     "prompt_number": 3
    },
    {
     "cell_type": "code",
     "collapsed": false,
     "input": [
      "credit.head()"
     ],
     "language": "python",
     "metadata": {},
     "outputs": [
      {
       "html": [
        "<div style=\"max-height:1000px;max-width:1500px;overflow:auto;\">\n",
        "<table border=\"1\" class=\"dataframe\">\n",
        "  <thead>\n",
        "    <tr style=\"text-align: right;\">\n",
        "      <th></th>\n",
        "      <th>A1</th>\n",
        "      <th>A2</th>\n",
        "      <th>A3</th>\n",
        "      <th>A4</th>\n",
        "      <th>A5</th>\n",
        "      <th>A6</th>\n",
        "      <th>A7</th>\n",
        "      <th>A8</th>\n",
        "      <th>A9</th>\n",
        "      <th>A10</th>\n",
        "      <th>A11</th>\n",
        "      <th>A12</th>\n",
        "      <th>A13</th>\n",
        "      <th>A14</th>\n",
        "      <th>A15</th>\n",
        "      <th>A16</th>\n",
        "    </tr>\n",
        "  </thead>\n",
        "  <tbody>\n",
        "    <tr>\n",
        "      <th>0</th>\n",
        "      <td> b</td>\n",
        "      <td> 30.83</td>\n",
        "      <td> 0.000</td>\n",
        "      <td> u</td>\n",
        "      <td> g</td>\n",
        "      <td> w</td>\n",
        "      <td> v</td>\n",
        "      <td> 1.25</td>\n",
        "      <td> t</td>\n",
        "      <td> t</td>\n",
        "      <td> 1</td>\n",
        "      <td> f</td>\n",
        "      <td> g</td>\n",
        "      <td> 00202</td>\n",
        "      <td>   0</td>\n",
        "      <td> +</td>\n",
        "    </tr>\n",
        "    <tr>\n",
        "      <th>1</th>\n",
        "      <td> a</td>\n",
        "      <td> 58.67</td>\n",
        "      <td> 4.460</td>\n",
        "      <td> u</td>\n",
        "      <td> g</td>\n",
        "      <td> q</td>\n",
        "      <td> h</td>\n",
        "      <td> 3.04</td>\n",
        "      <td> t</td>\n",
        "      <td> t</td>\n",
        "      <td> 6</td>\n",
        "      <td> f</td>\n",
        "      <td> g</td>\n",
        "      <td> 00043</td>\n",
        "      <td> 560</td>\n",
        "      <td> +</td>\n",
        "    </tr>\n",
        "    <tr>\n",
        "      <th>2</th>\n",
        "      <td> a</td>\n",
        "      <td> 24.50</td>\n",
        "      <td> 0.500</td>\n",
        "      <td> u</td>\n",
        "      <td> g</td>\n",
        "      <td> q</td>\n",
        "      <td> h</td>\n",
        "      <td> 1.50</td>\n",
        "      <td> t</td>\n",
        "      <td> f</td>\n",
        "      <td> 0</td>\n",
        "      <td> f</td>\n",
        "      <td> g</td>\n",
        "      <td> 00280</td>\n",
        "      <td> 824</td>\n",
        "      <td> +</td>\n",
        "    </tr>\n",
        "    <tr>\n",
        "      <th>3</th>\n",
        "      <td> b</td>\n",
        "      <td> 27.83</td>\n",
        "      <td> 1.540</td>\n",
        "      <td> u</td>\n",
        "      <td> g</td>\n",
        "      <td> w</td>\n",
        "      <td> v</td>\n",
        "      <td> 3.75</td>\n",
        "      <td> t</td>\n",
        "      <td> t</td>\n",
        "      <td> 5</td>\n",
        "      <td> t</td>\n",
        "      <td> g</td>\n",
        "      <td> 00100</td>\n",
        "      <td>   3</td>\n",
        "      <td> +</td>\n",
        "    </tr>\n",
        "    <tr>\n",
        "      <th>4</th>\n",
        "      <td> b</td>\n",
        "      <td> 20.17</td>\n",
        "      <td> 5.625</td>\n",
        "      <td> u</td>\n",
        "      <td> g</td>\n",
        "      <td> w</td>\n",
        "      <td> v</td>\n",
        "      <td> 1.71</td>\n",
        "      <td> t</td>\n",
        "      <td> f</td>\n",
        "      <td> 0</td>\n",
        "      <td> f</td>\n",
        "      <td> s</td>\n",
        "      <td> 00120</td>\n",
        "      <td>   0</td>\n",
        "      <td> +</td>\n",
        "    </tr>\n",
        "  </tbody>\n",
        "</table>\n",
        "</div>"
       ],
       "metadata": {},
       "output_type": "pyout",
       "prompt_number": 4,
       "text": [
        "  A1     A2     A3 A4 A5 A6 A7    A8 A9 A10  A11 A12 A13    A14  A15 A16\n",
        "0  b  30.83  0.000  u  g  w  v  1.25  t   t    1   f   g  00202    0   +\n",
        "1  a  58.67  4.460  u  g  q  h  3.04  t   t    6   f   g  00043  560   +\n",
        "2  a  24.50  0.500  u  g  q  h  1.50  t   f    0   f   g  00280  824   +\n",
        "3  b  27.83  1.540  u  g  w  v  3.75  t   t    5   t   g  00100    3   +\n",
        "4  b  20.17  5.625  u  g  w  v  1.71  t   f    0   f   s  00120    0   +"
       ]
      }
     ],
     "prompt_number": 4
    },
    {
     "cell_type": "code",
     "collapsed": false,
     "input": [
      "credit.info()"
     ],
     "language": "python",
     "metadata": {},
     "outputs": [
      {
       "output_type": "stream",
       "stream": "stdout",
       "text": [
        "<class 'pandas.core.frame.DataFrame'>\n",
        "Int64Index: 690 entries, 0 to 689\n",
        "Data columns (total 16 columns):\n",
        "A1     690 non-null object\n",
        "A2     690 non-null object\n",
        "A3     690 non-null float64\n",
        "A4     690 non-null object\n",
        "A5     690 non-null object\n",
        "A6     690 non-null object\n",
        "A7     690 non-null object\n",
        "A8     690 non-null float64\n",
        "A9     690 non-null object\n",
        "A10    690 non-null object\n",
        "A11    690 non-null int64\n",
        "A12    690 non-null object\n",
        "A13    690 non-null object\n",
        "A14    690 non-null object\n",
        "A15    690 non-null int64\n",
        "A16    690 non-null object\n",
        "dtypes: float64(2), int64(2), object(12)\n",
        "memory usage: 91.6+ KB\n"
       ]
      }
     ],
     "prompt_number": 5
    },
    {
     "cell_type": "code",
     "collapsed": false,
     "input": [
      "# Recode A16 plus minus into new variable with 1 and 0.\n",
      "def recodeA16(sign):\n",
      "    if sign == '+':\n",
      "        return 1\n",
      "    return 0\n",
      "credit['A16R'] = credit['A16'].map(recodeA16).astype(float)\n",
      "credit = credit.drop('A16', axis = 1)"
     ],
     "language": "python",
     "metadata": {},
     "outputs": [],
     "prompt_number": 6
    },
    {
     "cell_type": "code",
     "collapsed": false,
     "input": [
      "# Deal with missing NaN.\n",
      "# Transform numeric variables for float, the rest to str.\n",
      "stringFeat = {'A1', 'A4', 'A5', 'A6', 'A7', 'A9', 'A10', 'A12', 'A13'}\n",
      "numFeat = {'A2', 'A3', 'A8', 'A11', 'A14', 'A15', 'A16R'}\n",
      "for string in stringFeat:\n",
      "    credit[string] = credit[string].astype(str)\n",
      "for number in numFeat:\n",
      "    credit[number] = credit[number].convert_objects(convert_numeric = True)"
     ],
     "language": "python",
     "metadata": {},
     "outputs": [],
     "prompt_number": 7
    },
    {
     "cell_type": "code",
     "collapsed": false,
     "input": [
      "# This was my inefficient way of doing the imputations. \n",
      "# Check for missing values: A1, A2, A4, A5, A6, A7, and A14 should have some (documentation says so). \n",
      "# Some are coded as ?, so need to be replaced with NaN.\n",
      "# Recode ? as Nan.\n",
      "# credit.replace('?', np.nan, inplace = True)\n",
      "# Deal with missing values.\n",
      "# A1 imputation based on distribution of unique values in A1. \n",
      "# Binary mask for NaN.\n",
      "# A1_missing_mask = credit.A1.isnull()\n",
      "# Get unique values. \n",
      "# A1_choice = list(set(credit[-A1_missing_mask].A1))\n",
      "# Get counts of unique values.\n",
      "# A1_a_count = credit[credit.A1 == 'a']['A1'].count().astype(float)\n",
      "# A1_b_count = credit[credit.A1 == 'b']['A1'].count().astype(float)\n",
      "# Function to impute A1. \n",
      "# def get_A1_impute(number):\n",
      "#    return np.random.choice(A1_choice, number, p = [A1_a_count / (A1_a_count + A1_b_count), \n",
      "#                                                                           A1_b_count / (A1_a_count + A1_b_count)])\n",
      "# Impute. \n",
      "# credit.loc[A1_missing_mask, 'A1'] = get_A1_impute(len(credit[pd.isnull(credit.A1)]))\n",
      "# Deal with A4, A5, A6, A7. \n",
      "# Masks.\n",
      "# A4_missing_mask = credit.A4.isnull() # 6 missing\n",
      "# A5_missing_mask = credit.A5.isnull() # 6 missing\n",
      "# A6_missing_mask = credit.A6.isnull() # 8 missing\n",
      "# A7_missing_mask = credit.A7.isnull() # 8 missing\n",
      "# Compare rows idx A4 through A7. If the same/ subsets, drop for now.\n",
      "# def get_idx(data, feature):\n",
      "#    return data[data[feature].isnull()].index.tolist()\n",
      "# get_idx(credit, 'A4') == get_idx(credit, 'A5')\n",
      "# get_idx(credit, 'A6') == get_idx(credit, 'A7')\n",
      "# Check whether A4 and A5 are subsets of A6 and A7.\n",
      "# set(get_idx(credit,'A4')).issubset(get_idx(credit,'A6'))\n",
      "# Drop all rows where A6 NaN. Drop A2. \n",
      "# creditR = credit.drop(get_idx(credit,'A6'), axis = 0)"
     ],
     "language": "python",
     "metadata": {},
     "outputs": [],
     "prompt_number": 8
    },
    {
     "cell_type": "code",
     "collapsed": false,
     "input": [
      "# Code from Lab_07. Thank you! \n",
      "col_dist = {}\n",
      "def get_col_dist(col_name):\n",
      "    excl_null_mask = credit[col_name] != '?'\n",
      "    row_count = credit[excl_null_mask][col_name].size\n",
      "    col_data = {}\n",
      "    col_data['prob'] = (credit[excl_null_mask][col_name].value_counts() / row_count).values\n",
      "    col_data['values'] = (credit[excl_null_mask][col_name].value_counts() / row_count).index.values\n",
      "    return col_data\n",
      "col_dist['A1'] = get_col_dist('A1')\n",
      "col_dist['A4'] = get_col_dist('A4')\n",
      "col_dist['A5'] = get_col_dist('A5')\n",
      "col_dist['A6'] = get_col_dist('A6')\n",
      "col_dist['A7'] = get_col_dist('A7')\n",
      "\n",
      "def impute_cols(val, options):\n",
      "    if val == '?':\n",
      "        return np.random.choice(options['values'], p=options['prob'])\n",
      "    return val\n",
      "\n",
      "def impute_a1(val):\n",
      "    return impute_cols(val, col_dist['A1'])\n",
      "\n",
      "def impute_a4(val):\n",
      "    return impute_cols(val, col_dist['A4'])\n",
      "\n",
      "def impute_a5(val):\n",
      "    return impute_cols(val, col_dist['A5'])\n",
      "\n",
      "def impute_a6(val):\n",
      "    return impute_cols(val, col_dist['A6'])\n",
      "\n",
      "def impute_a7(val):\n",
      "    return impute_cols(val, col_dist['A7'])\n",
      "\n",
      "credit.A1 = credit.A1.map(impute_a1)\n",
      "credit.A4 = credit.A4.map(impute_a4)\n",
      "credit.A5 = credit.A5.map(impute_a5)\n",
      "credit.A6 = credit.A6.map(impute_a6)\n",
      "credit.A7 = credit.A7.map(impute_a7)"
     ],
     "language": "python",
     "metadata": {},
     "outputs": [],
     "prompt_number": 9
    },
    {
     "cell_type": "code",
     "collapsed": false,
     "input": [
      "# A2 imputation.\n",
      "# Check distribution. Looks like median would be better than mean. \n",
      "# Actually, this is snooping. It'd be better to split first, then impute. \n",
      "# But I didn't really know how to do it, so I left as is. \n",
      "credit.A2.hist(bins = 10)"
     ],
     "language": "python",
     "metadata": {},
     "outputs": [
      {
       "metadata": {},
       "output_type": "pyout",
       "prompt_number": 10,
       "text": [
        "<matplotlib.axes._subplots.AxesSubplot at 0x109bf3810>"
       ]
      },
      {
       "metadata": {},
       "output_type": "display_data",
       "png": "[encoded data removed]",
       "text": [
        "<matplotlib.figure.Figure at 0x109bf3dd0>"
       ]
      }
     ],
     "prompt_number": 10
    },
    {
     "cell_type": "code",
     "collapsed": false,
     "input": [
      "# Impute median in A2 NaNs. \n",
      "A2_median = credit['A2'].median()\n",
      "A2_missing_mask = credit.A2.isnull()\n",
      "credit.loc[A2_missing_mask, 'A2'] = A2_median"
     ],
     "language": "python",
     "metadata": {},
     "outputs": [],
     "prompt_number": 11
    },
    {
     "cell_type": "code",
     "collapsed": false,
     "input": [
      "# Impute A14 similar to A2.\n",
      "# Check distribution. Very skewed. \n",
      "credit['A14'].hist(bins=20)"
     ],
     "language": "python",
     "metadata": {},
     "outputs": [
      {
       "metadata": {},
       "output_type": "pyout",
       "prompt_number": 12,
       "text": [
        "<matplotlib.axes._subplots.AxesSubplot at 0x109e04390>"
       ]
      },
      {
       "metadata": {},
       "output_type": "display_data",
       "png": "[encoded data removed]",
       "text": [
        "<matplotlib.figure.Figure at 0x109bf3e50>"
       ]
      }
     ],
     "prompt_number": 12
    },
    {
     "cell_type": "code",
     "collapsed": false,
     "input": [
      "# Impute A14 NaN with median.\n",
      "A14_median = credit['A14'].median()\n",
      "A14_missing_mask = credit['A14'].isnull()\n",
      "credit.loc[A14_missing_mask, 'A14'] = A14_median"
     ],
     "language": "python",
     "metadata": {},
     "outputs": [],
     "prompt_number": 13
    },
    {
     "cell_type": "code",
     "collapsed": false,
     "input": [
      "# Get dummies.\n",
      "creditD = pd.get_dummies(credit)"
     ],
     "language": "python",
     "metadata": {},
     "outputs": [],
     "prompt_number": 14
    },
    {
     "cell_type": "code",
     "collapsed": false,
     "input": [
      "credit_cols = creditD.columns\n",
      "credit_cols"
     ],
     "language": "python",
     "metadata": {},
     "outputs": [
      {
       "metadata": {},
       "output_type": "pyout",
       "prompt_number": 15,
       "text": [
        "Index([u'A2', u'A3', u'A8', u'A11', u'A14', u'A15', u'A16R', u'A1_a', u'A1_b', u'A4_l', u'A4_u', u'A4_y', u'A5_g', u'A5_gg', u'A5_p', u'A6_aa', u'A6_c', u'A6_cc', u'A6_d', u'A6_e', u'A6_ff', u'A6_i', u'A6_j', u'A6_k', u'A6_m', u'A6_q', u'A6_r', u'A6_w', u'A6_x', u'A7_bb', u'A7_dd', u'A7_ff', u'A7_h', u'A7_j', u'A7_n', u'A7_o', u'A7_v', u'A7_z', u'A9_f', u'A9_t', u'A10_f', u'A10_t', u'A12_f', u'A12_t', u'A13_g', u'A13_p', u'A13_s'], dtype='object')"
       ]
      }
     ],
     "prompt_number": 15
    },
    {
     "cell_type": "code",
     "collapsed": false,
     "input": [
      "creditD.info()"
     ],
     "language": "python",
     "metadata": {},
     "outputs": [
      {
       "output_type": "stream",
       "stream": "stdout",
       "text": [
        "<class 'pandas.core.frame.DataFrame'>\n",
        "Int64Index: 690 entries, 0 to 689\n",
        "Data columns (total 47 columns):\n",
        "A2       690 non-null float64\n",
        "A3       690 non-null float64\n",
        "A8       690 non-null float64\n",
        "A11      690 non-null int64\n",
        "A14      690 non-null float64\n",
        "A15      690 non-null int64\n",
        "A16R     690 non-null float64\n",
        "A1_a     690 non-null float64\n",
        "A1_b     690 non-null float64\n",
        "A4_l     690 non-null float64\n",
        "A4_u     690 non-null float64\n",
        "A4_y     690 non-null float64\n",
        "A5_g     690 non-null float64\n",
        "A5_gg    690 non-null float64\n",
        "A5_p     690 non-null float64\n",
        "A6_aa    690 non-null float64\n",
        "A6_c     690 non-null float64\n",
        "A6_cc    690 non-null float64\n",
        "A6_d     690 non-null float64\n",
        "A6_e     690 non-null float64\n",
        "A6_ff    690 non-null float64\n",
        "A6_i     690 non-null float64\n",
        "A6_j     690 non-null float64\n",
        "A6_k     690 non-null float64\n",
        "A6_m     690 non-null float64\n",
        "A6_q     690 non-null float64\n",
        "A6_r     690 non-null float64\n",
        "A6_w     690 non-null float64\n",
        "A6_x     690 non-null float64\n",
        "A7_bb    690 non-null float64\n",
        "A7_dd    690 non-null float64\n",
        "A7_ff    690 non-null float64\n",
        "A7_h     690 non-null float64\n",
        "A7_j     690 non-null float64\n",
        "A7_n     690 non-null float64\n",
        "A7_o     690 non-null float64\n",
        "A7_v     690 non-null float64\n",
        "A7_z     690 non-null float64\n",
        "A9_f     690 non-null float64\n",
        "A9_t     690 non-null float64\n",
        "A10_f    690 non-null float64\n",
        "A10_t    690 non-null float64\n",
        "A12_f    690 non-null float64\n",
        "A12_t    690 non-null float64\n",
        "A13_g    690 non-null float64\n",
        "A13_p    690 non-null float64\n",
        "A13_s    690 non-null float64\n",
        "dtypes: float64(45), int64(2)\n",
        "memory usage: 258.8 KB\n"
       ]
      }
     ],
     "prompt_number": 16
    },
    {
     "cell_type": "code",
     "collapsed": false,
     "input": [
      "# Split.\n",
      "credit_y = creditD.A16R\n",
      "credit_X = creditD.drop('A16R', axis = 1)\n",
      "credit_X_train, credit_X_test, credit_y_train, credit_y_test = train_test_split(credit_X, credit_y, \n",
      "                                                                                test_size=0.2, \n",
      "                                                                                random_state = 12)"
     ],
     "language": "python",
     "metadata": {},
     "outputs": [],
     "prompt_number": 17
    },
    {
     "cell_type": "code",
     "collapsed": false,
     "input": [
      "## Exploratory analysis on credit_X_train, credit_y_train. \n",
      "credit_XTrain = pd.DataFrame(credit_X_train)\n",
      "credit_YTrain = pd.DataFrame(credit_y_train, columns = ['A16R'])\n",
      "creditExpl = credit_XTrain.join(credit_YTrain)"
     ],
     "language": "python",
     "metadata": {},
     "outputs": [],
     "prompt_number": 18
    },
    {
     "cell_type": "code",
     "collapsed": false,
     "input": [
      "creditExpl.columns = credit_cols"
     ],
     "language": "python",
     "metadata": {},
     "outputs": [],
     "prompt_number": 19
    },
    {
     "cell_type": "code",
     "collapsed": false,
     "input": [
      "creditExpl.info()"
     ],
     "language": "python",
     "metadata": {},
     "outputs": [
      {
       "output_type": "stream",
       "stream": "stdout",
       "text": [
        "<class 'pandas.core.frame.DataFrame'>\n",
        "Int64Index: 552 entries, 0 to 551\n",
        "Data columns (total 47 columns):\n",
        "A2       552 non-null float64\n",
        "A3       552 non-null float64\n",
        "A8       552 non-null float64\n",
        "A11      552 non-null float64\n",
        "A14      552 non-null float64\n",
        "A15      552 non-null float64\n",
        "A16R     552 non-null float64\n",
        "A1_a     552 non-null float64\n",
        "A1_b     552 non-null float64\n",
        "A4_l     552 non-null float64\n",
        "A4_u     552 non-null float64\n",
        "A4_y     552 non-null float64\n",
        "A5_g     552 non-null float64\n",
        "A5_gg    552 non-null float64\n",
        "A5_p     552 non-null float64\n",
        "A6_aa    552 non-null float64\n",
        "A6_c     552 non-null float64\n",
        "A6_cc    552 non-null float64\n",
        "A6_d     552 non-null float64\n",
        "A6_e     552 non-null float64\n",
        "A6_ff    552 non-null float64\n",
        "A6_i     552 non-null float64\n",
        "A6_j     552 non-null float64\n",
        "A6_k     552 non-null float64\n",
        "A6_m     552 non-null float64\n",
        "A6_q     552 non-null float64\n",
        "A6_r     552 non-null float64\n",
        "A6_w     552 non-null float64\n",
        "A6_x     552 non-null float64\n",
        "A7_bb    552 non-null float64\n",
        "A7_dd    552 non-null float64\n",
        "A7_ff    552 non-null float64\n",
        "A7_h     552 non-null float64\n",
        "A7_j     552 non-null float64\n",
        "A7_n     552 non-null float64\n",
        "A7_o     552 non-null float64\n",
        "A7_v     552 non-null float64\n",
        "A7_z     552 non-null float64\n",
        "A9_f     552 non-null float64\n",
        "A9_t     552 non-null float64\n",
        "A10_f    552 non-null float64\n",
        "A10_t    552 non-null float64\n",
        "A12_f    552 non-null float64\n",
        "A12_t    552 non-null float64\n",
        "A13_g    552 non-null float64\n",
        "A13_p    552 non-null float64\n",
        "A13_s    552 non-null float64\n",
        "dtypes: float64(47)\n",
        "memory usage: 207.0 KB\n"
       ]
      }
     ],
     "prompt_number": 20
    },
    {
     "cell_type": "code",
     "collapsed": false,
     "input": [
      "creditExpl.head(20)"
     ],
     "language": "python",
     "metadata": {},
     "outputs": [
      {
       "html": [
        "<div style=\"max-height:1000px;max-width:1500px;overflow:auto;\">\n",
        "<table border=\"1\" class=\"dataframe\">\n",
        "  <thead>\n",
        "    <tr style=\"text-align: right;\">\n",
        "      <th></th>\n",
        "      <th>A2</th>\n",
        "      <th>A3</th>\n",
        "      <th>A8</th>\n",
        "      <th>A11</th>\n",
        "      <th>A14</th>\n",
        "      <th>A15</th>\n",
        "      <th>A16R</th>\n",
        "      <th>A1_a</th>\n",
        "      <th>A1_b</th>\n",
        "      <th>A4_l</th>\n",
        "      <th>...</th>\n",
        "      <th>A7_z</th>\n",
        "      <th>A9_f</th>\n",
        "      <th>A9_t</th>\n",
        "      <th>A10_f</th>\n",
        "      <th>A10_t</th>\n",
        "      <th>A12_f</th>\n",
        "      <th>A12_t</th>\n",
        "      <th>A13_g</th>\n",
        "      <th>A13_p</th>\n",
        "      <th>A13_s</th>\n",
        "    </tr>\n",
        "  </thead>\n",
        "  <tbody>\n",
        "    <tr>\n",
        "      <th>0 </th>\n",
        "      <td> 23.75</td>\n",
        "      <td>  0.710</td>\n",
        "      <td> 0.250</td>\n",
        "      <td> 1</td>\n",
        "      <td> 240</td>\n",
        "      <td>   4</td>\n",
        "      <td> 1</td>\n",
        "      <td> 0</td>\n",
        "      <td> 0</td>\n",
        "      <td> 1</td>\n",
        "      <td>...</td>\n",
        "      <td> 1</td>\n",
        "      <td> 0</td>\n",
        "      <td> 0</td>\n",
        "      <td> 1</td>\n",
        "      <td> 0</td>\n",
        "      <td> 1</td>\n",
        "      <td> 1</td>\n",
        "      <td> 0</td>\n",
        "      <td> 0</td>\n",
        "      <td> 0</td>\n",
        "    </tr>\n",
        "    <tr>\n",
        "      <th>1 </th>\n",
        "      <td> 25.83</td>\n",
        "      <td> 12.835</td>\n",
        "      <td> 0.500</td>\n",
        "      <td> 0</td>\n",
        "      <td>   0</td>\n",
        "      <td>   2</td>\n",
        "      <td> 0</td>\n",
        "      <td> 1</td>\n",
        "      <td> 0</td>\n",
        "      <td> 1</td>\n",
        "      <td>...</td>\n",
        "      <td> 1</td>\n",
        "      <td> 0</td>\n",
        "      <td> 1</td>\n",
        "      <td> 0</td>\n",
        "      <td> 1</td>\n",
        "      <td> 0</td>\n",
        "      <td> 1</td>\n",
        "      <td> 0</td>\n",
        "      <td> 0</td>\n",
        "      <td> 0</td>\n",
        "    </tr>\n",
        "    <tr>\n",
        "      <th>2 </th>\n",
        "      <td> 25.17</td>\n",
        "      <td>  2.875</td>\n",
        "      <td> 0.875</td>\n",
        "      <td> 0</td>\n",
        "      <td> 360</td>\n",
        "      <td>   0</td>\n",
        "      <td> 1</td>\n",
        "      <td> 0</td>\n",
        "      <td> 0</td>\n",
        "      <td> 1</td>\n",
        "      <td>...</td>\n",
        "      <td> 0</td>\n",
        "      <td> 1</td>\n",
        "      <td> 1</td>\n",
        "      <td> 0</td>\n",
        "      <td> 1</td>\n",
        "      <td> 0</td>\n",
        "      <td> 1</td>\n",
        "      <td> 0</td>\n",
        "      <td> 0</td>\n",
        "      <td> 1</td>\n",
        "    </tr>\n",
        "    <tr>\n",
        "      <th>3 </th>\n",
        "      <td> 69.50</td>\n",
        "      <td>  6.000</td>\n",
        "      <td> 0.000</td>\n",
        "      <td> 0</td>\n",
        "      <td>   0</td>\n",
        "      <td>   0</td>\n",
        "      <td> 1</td>\n",
        "      <td> 0</td>\n",
        "      <td> 0</td>\n",
        "      <td> 1</td>\n",
        "      <td>...</td>\n",
        "      <td> 1</td>\n",
        "      <td> 0</td>\n",
        "      <td> 1</td>\n",
        "      <td> 0</td>\n",
        "      <td> 1</td>\n",
        "      <td> 0</td>\n",
        "      <td> 0</td>\n",
        "      <td> 0</td>\n",
        "      <td> 1</td>\n",
        "      <td> 0</td>\n",
        "    </tr>\n",
        "    <tr>\n",
        "      <th>4 </th>\n",
        "      <td> 32.08</td>\n",
        "      <td>  4.000</td>\n",
        "      <td> 1.500</td>\n",
        "      <td> 0</td>\n",
        "      <td> 120</td>\n",
        "      <td>   0</td>\n",
        "      <td> 0</td>\n",
        "      <td> 1</td>\n",
        "      <td> 0</td>\n",
        "      <td> 0</td>\n",
        "      <td>...</td>\n",
        "      <td> 1</td>\n",
        "      <td> 0</td>\n",
        "      <td> 1</td>\n",
        "      <td> 0</td>\n",
        "      <td> 0</td>\n",
        "      <td> 1</td>\n",
        "      <td> 1</td>\n",
        "      <td> 0</td>\n",
        "      <td> 0</td>\n",
        "      <td> 0</td>\n",
        "    </tr>\n",
        "    <tr>\n",
        "      <th>...</th>\n",
        "      <td>...</td>\n",
        "      <td>...</td>\n",
        "      <td>...</td>\n",
        "      <td>...</td>\n",
        "      <td>...</td>\n",
        "      <td>...</td>\n",
        "      <td>...</td>\n",
        "      <td>...</td>\n",
        "      <td>...</td>\n",
        "      <td>...</td>\n",
        "      <td>...</td>\n",
        "      <td>...</td>\n",
        "      <td>...</td>\n",
        "      <td>...</td>\n",
        "      <td>...</td>\n",
        "      <td>...</td>\n",
        "      <td>...</td>\n",
        "      <td>...</td>\n",
        "      <td>...</td>\n",
        "      <td>...</td>\n",
        "      <td>...</td>\n",
        "    </tr>\n",
        "    <tr>\n",
        "      <th>15</th>\n",
        "      <td> 29.50</td>\n",
        "      <td>  0.460</td>\n",
        "      <td> 0.540</td>\n",
        "      <td> 4</td>\n",
        "      <td> 380</td>\n",
        "      <td> 500</td>\n",
        "      <td> 1</td>\n",
        "      <td> 0</td>\n",
        "      <td> 0</td>\n",
        "      <td> 1</td>\n",
        "      <td>...</td>\n",
        "      <td> 0</td>\n",
        "      <td> 1</td>\n",
        "      <td> 0</td>\n",
        "      <td> 1</td>\n",
        "      <td> 1</td>\n",
        "      <td> 0</td>\n",
        "      <td> 1</td>\n",
        "      <td> 0</td>\n",
        "      <td> 0</td>\n",
        "      <td> 1</td>\n",
        "    </tr>\n",
        "    <tr>\n",
        "      <th>16</th>\n",
        "      <td> 18.58</td>\n",
        "      <td> 10.290</td>\n",
        "      <td> 0.415</td>\n",
        "      <td> 0</td>\n",
        "      <td>  80</td>\n",
        "      <td>   0</td>\n",
        "      <td> 0</td>\n",
        "      <td> 1</td>\n",
        "      <td> 0</td>\n",
        "      <td> 1</td>\n",
        "      <td>...</td>\n",
        "      <td> 1</td>\n",
        "      <td> 0</td>\n",
        "      <td> 1</td>\n",
        "      <td> 0</td>\n",
        "      <td> 1</td>\n",
        "      <td> 0</td>\n",
        "      <td> 1</td>\n",
        "      <td> 0</td>\n",
        "      <td> 0</td>\n",
        "      <td> 0</td>\n",
        "    </tr>\n",
        "    <tr>\n",
        "      <th>17</th>\n",
        "      <td> 17.92</td>\n",
        "      <td> 10.210</td>\n",
        "      <td> 0.000</td>\n",
        "      <td> 0</td>\n",
        "      <td>   0</td>\n",
        "      <td>  50</td>\n",
        "      <td> 1</td>\n",
        "      <td> 0</td>\n",
        "      <td> 0</td>\n",
        "      <td> 1</td>\n",
        "      <td>...</td>\n",
        "      <td> 1</td>\n",
        "      <td> 0</td>\n",
        "      <td> 1</td>\n",
        "      <td> 0</td>\n",
        "      <td> 1</td>\n",
        "      <td> 0</td>\n",
        "      <td> 1</td>\n",
        "      <td> 0</td>\n",
        "      <td> 0</td>\n",
        "      <td> 0</td>\n",
        "    </tr>\n",
        "    <tr>\n",
        "      <th>18</th>\n",
        "      <td> 23.58</td>\n",
        "      <td>  0.835</td>\n",
        "      <td> 0.085</td>\n",
        "      <td> 0</td>\n",
        "      <td> 220</td>\n",
        "      <td>   5</td>\n",
        "      <td> 0</td>\n",
        "      <td> 1</td>\n",
        "      <td> 0</td>\n",
        "      <td> 1</td>\n",
        "      <td>...</td>\n",
        "      <td> 1</td>\n",
        "      <td> 0</td>\n",
        "      <td> 1</td>\n",
        "      <td> 0</td>\n",
        "      <td> 0</td>\n",
        "      <td> 1</td>\n",
        "      <td> 1</td>\n",
        "      <td> 0</td>\n",
        "      <td> 0</td>\n",
        "      <td> 0</td>\n",
        "    </tr>\n",
        "    <tr>\n",
        "      <th>19</th>\n",
        "      <td> 18.17</td>\n",
        "      <td> 10.250</td>\n",
        "      <td> 1.085</td>\n",
        "      <td> 0</td>\n",
        "      <td> 320</td>\n",
        "      <td>  13</td>\n",
        "      <td> 0</td>\n",
        "      <td> 1</td>\n",
        "      <td> 0</td>\n",
        "      <td> 1</td>\n",
        "      <td>...</td>\n",
        "      <td> 1</td>\n",
        "      <td> 0</td>\n",
        "      <td> 1</td>\n",
        "      <td> 0</td>\n",
        "      <td> 1</td>\n",
        "      <td> 0</td>\n",
        "      <td> 1</td>\n",
        "      <td> 0</td>\n",
        "      <td> 0</td>\n",
        "      <td> 0</td>\n",
        "    </tr>\n",
        "  </tbody>\n",
        "</table>\n",
        "<p>20 rows \u00d7 47 columns</p>\n",
        "</div>"
       ],
       "metadata": {},
       "output_type": "pyout",
       "prompt_number": 21,
       "text": [
        "       A2      A3     A8  A11  A14  A15  A16R  A1_a  A1_b  A4_l  ...    A7_z  \\\n",
        "0   23.75   0.710  0.250    1  240    4     1     0     0     1  ...       1   \n",
        "1   25.83  12.835  0.500    0    0    2     0     1     0     1  ...       1   \n",
        "2   25.17   2.875  0.875    0  360    0     1     0     0     1  ...       0   \n",
        "3   69.50   6.000  0.000    0    0    0     1     0     0     1  ...       1   \n",
        "4   32.08   4.000  1.500    0  120    0     0     1     0     0  ...       1   \n",
        "..    ...     ...    ...  ...  ...  ...   ...   ...   ...   ...  ...     ...   \n",
        "15  29.50   0.460  0.540    4  380  500     1     0     0     1  ...       0   \n",
        "16  18.58  10.290  0.415    0   80    0     0     1     0     1  ...       1   \n",
        "17  17.92  10.210  0.000    0    0   50     1     0     0     1  ...       1   \n",
        "18  23.58   0.835  0.085    0  220    5     0     1     0     1  ...       1   \n",
        "19  18.17  10.250  1.085    0  320   13     0     1     0     1  ...       1   \n",
        "\n",
        "    A9_f  A9_t  A10_f  A10_t  A12_f  A12_t  A13_g  A13_p  A13_s  \n",
        "0      0     0      1      0      1      1      0      0      0  \n",
        "1      0     1      0      1      0      1      0      0      0  \n",
        "2      1     1      0      1      0      1      0      0      1  \n",
        "3      0     1      0      1      0      0      0      1      0  \n",
        "4      0     1      0      0      1      1      0      0      0  \n",
        "..   ...   ...    ...    ...    ...    ...    ...    ...    ...  \n",
        "15     1     0      1      1      0      1      0      0      1  \n",
        "16     0     1      0      1      0      1      0      0      0  \n",
        "17     0     1      0      1      0      1      0      0      0  \n",
        "18     0     1      0      0      1      1      0      0      0  \n",
        "19     0     1      0      1      0      1      0      0      0  \n",
        "\n",
        "[20 rows x 47 columns]"
       ]
      }
     ],
     "prompt_number": 21
    },
    {
     "cell_type": "code",
     "collapsed": false,
     "input": [
      "numFeat = ['A2', 'A3', 'A8', 'A14', 'A15']\n",
      "creditExpl[numFeat].describe()"
     ],
     "language": "python",
     "metadata": {},
     "outputs": [
      {
       "html": [
        "<div style=\"max-height:1000px;max-width:1500px;overflow:auto;\">\n",
        "<table border=\"1\" class=\"dataframe\">\n",
        "  <thead>\n",
        "    <tr style=\"text-align: right;\">\n",
        "      <th></th>\n",
        "      <th>A2</th>\n",
        "      <th>A3</th>\n",
        "      <th>A8</th>\n",
        "      <th>A14</th>\n",
        "      <th>A15</th>\n",
        "    </tr>\n",
        "  </thead>\n",
        "  <tbody>\n",
        "    <tr>\n",
        "      <th>count</th>\n",
        "      <td> 552.000</td>\n",
        "      <td> 552.000</td>\n",
        "      <td> 552.000</td>\n",
        "      <td>  552.000</td>\n",
        "      <td>    552.000</td>\n",
        "    </tr>\n",
        "    <tr>\n",
        "      <th>mean</th>\n",
        "      <td>  31.445</td>\n",
        "      <td>   4.796</td>\n",
        "      <td>   2.125</td>\n",
        "      <td>  187.393</td>\n",
        "      <td>   1144.716</td>\n",
        "    </tr>\n",
        "    <tr>\n",
        "      <th>std</th>\n",
        "      <td>  11.976</td>\n",
        "      <td>   4.856</td>\n",
        "      <td>   3.065</td>\n",
        "      <td>  177.605</td>\n",
        "      <td>   5766.012</td>\n",
        "    </tr>\n",
        "    <tr>\n",
        "      <th>min</th>\n",
        "      <td>  15.170</td>\n",
        "      <td>   0.000</td>\n",
        "      <td>   0.000</td>\n",
        "      <td>    0.000</td>\n",
        "      <td>      0.000</td>\n",
        "    </tr>\n",
        "    <tr>\n",
        "      <th>25%</th>\n",
        "      <td>  22.730</td>\n",
        "      <td>   1.040</td>\n",
        "      <td>   0.165</td>\n",
        "      <td>   80.000</td>\n",
        "      <td>      0.000</td>\n",
        "    </tr>\n",
        "    <tr>\n",
        "      <th>50%</th>\n",
        "      <td>  28.460</td>\n",
        "      <td>   2.855</td>\n",
        "      <td>   1.000</td>\n",
        "      <td>  160.000</td>\n",
        "      <td>      4.500</td>\n",
        "    </tr>\n",
        "    <tr>\n",
        "      <th>75%</th>\n",
        "      <td>  37.330</td>\n",
        "      <td>   7.510</td>\n",
        "      <td>   2.551</td>\n",
        "      <td>  280.000</td>\n",
        "      <td>    379.750</td>\n",
        "    </tr>\n",
        "    <tr>\n",
        "      <th>max</th>\n",
        "      <td>  80.250</td>\n",
        "      <td>  26.335</td>\n",
        "      <td>  20.000</td>\n",
        "      <td> 2000.000</td>\n",
        "      <td> 100000.000</td>\n",
        "    </tr>\n",
        "  </tbody>\n",
        "</table>\n",
        "</div>"
       ],
       "metadata": {},
       "output_type": "pyout",
       "prompt_number": 22,
       "text": [
        "            A2       A3       A8       A14         A15\n",
        "count  552.000  552.000  552.000   552.000     552.000\n",
        "mean    31.445    4.796    2.125   187.393    1144.716\n",
        "std     11.976    4.856    3.065   177.605    5766.012\n",
        "min     15.170    0.000    0.000     0.000       0.000\n",
        "25%     22.730    1.040    0.165    80.000       0.000\n",
        "50%     28.460    2.855    1.000   160.000       4.500\n",
        "75%     37.330    7.510    2.551   280.000     379.750\n",
        "max     80.250   26.335   20.000  2000.000  100000.000"
       ]
      }
     ],
     "prompt_number": 22
    },
    {
     "cell_type": "code",
     "collapsed": false,
     "input": [
      "# Scatter matrix all data. Clearly non-normal/ skewed. \n",
      "pd.tools.plotting.scatter_matrix(creditExpl[numFeat], alpha = 0.2, figsize = (15, 10), diagonal = 'kde');"
     ],
     "language": "python",
     "metadata": {},
     "outputs": [
      {
       "metadata": {},
       "output_type": "display_data",
       "png": "[encoded data removed]",
       "text": [
        "<matplotlib.figure.Figure at 0x105c8de90>"
       ]
      }
     ],
     "prompt_number": 23
    },
    {
     "cell_type": "code",
     "collapsed": false,
     "input": [
      "# Note: If you have seaborn already imported, outliers won't show. If that happends, restart Kernel. \n",
      "# Some boxplots: A2, A3, A8, A11, A14, A15.\n",
      "# Super skewed, outliers. \n",
      "fig, axarr = plt.subplots(2, 3, figsize = (15, 15))\n",
      "axarr[0, 0].boxplot(creditExpl['A2'], 1);\n",
      "axarr[0, 0].set_title('A2')\n",
      "axarr[0, 1].boxplot(creditExpl['A3'], 1);\n",
      "axarr[0, 1].set_title('A3')\n",
      "axarr[0, 2].boxplot(creditExpl['A8'], 1);\n",
      "axarr[0, 2].set_title('A8')\n",
      "axarr[1, 0].boxplot(creditExpl['A11'], 1);\n",
      "axarr[1, 0].set_title('A11')\n",
      "axarr[1, 1].boxplot(creditExpl['A14'], 1);\n",
      "axarr[1, 1].set_title('A14')\n",
      "axarr[1, 2].boxplot(creditExpl['A15'], 1);\n",
      "axarr[1, 2].set_title('A15')"
     ],
     "language": "python",
     "metadata": {},
     "outputs": [
      {
       "metadata": {},
       "output_type": "pyout",
       "prompt_number": 24,
       "text": [
        "<matplotlib.text.Text at 0x10c69bf90>"
       ]
      },
      {
       "metadata": {},
       "output_type": "display_data",
       "png": "[encoded data removed]",
       "text": [
        "<matplotlib.figure.Figure at 0x10b86b450>"
       ]
      }
     ],
     "prompt_number": 24
    },
    {
     "cell_type": "code",
     "collapsed": false,
     "input": [
      "# Non-parametric correlations.\n",
      "creditExpl[numFeat].corr(method = 'spearman')"
     ],
     "language": "python",
     "metadata": {},
     "outputs": [
      {
       "html": [
        "<div style=\"max-height:1000px;max-width:1500px;overflow:auto;\">\n",
        "<table border=\"1\" class=\"dataframe\">\n",
        "  <thead>\n",
        "    <tr style=\"text-align: right;\">\n",
        "      <th></th>\n",
        "      <th>A2</th>\n",
        "      <th>A3</th>\n",
        "      <th>A8</th>\n",
        "      <th>A14</th>\n",
        "      <th>A15</th>\n",
        "    </tr>\n",
        "  </thead>\n",
        "  <tbody>\n",
        "    <tr>\n",
        "      <th>A2</th>\n",
        "      <td> 1.000</td>\n",
        "      <td> 0.068</td>\n",
        "      <td> 0.224</td>\n",
        "      <td>-0.000</td>\n",
        "      <td> 0.018</td>\n",
        "    </tr>\n",
        "    <tr>\n",
        "      <th>A3</th>\n",
        "      <td> 0.068</td>\n",
        "      <td> 1.000</td>\n",
        "      <td> 0.228</td>\n",
        "      <td>-0.315</td>\n",
        "      <td> 0.095</td>\n",
        "    </tr>\n",
        "    <tr>\n",
        "      <th>A8</th>\n",
        "      <td> 0.224</td>\n",
        "      <td> 0.228</td>\n",
        "      <td> 1.000</td>\n",
        "      <td>-0.047</td>\n",
        "      <td> 0.089</td>\n",
        "    </tr>\n",
        "    <tr>\n",
        "      <th>A14</th>\n",
        "      <td>-0.000</td>\n",
        "      <td>-0.315</td>\n",
        "      <td>-0.047</td>\n",
        "      <td> 1.000</td>\n",
        "      <td>-0.083</td>\n",
        "    </tr>\n",
        "    <tr>\n",
        "      <th>A15</th>\n",
        "      <td> 0.018</td>\n",
        "      <td> 0.095</td>\n",
        "      <td> 0.089</td>\n",
        "      <td>-0.083</td>\n",
        "      <td> 1.000</td>\n",
        "    </tr>\n",
        "  </tbody>\n",
        "</table>\n",
        "</div>"
       ],
       "metadata": {},
       "output_type": "pyout",
       "prompt_number": 25,
       "text": [
        "        A2     A3     A8    A14    A15\n",
        "A2   1.000  0.068  0.224 -0.000  0.018\n",
        "A3   0.068  1.000  0.228 -0.315  0.095\n",
        "A8   0.224  0.228  1.000 -0.047  0.089\n",
        "A14 -0.000 -0.315 -0.047  1.000 -0.083\n",
        "A15  0.018  0.095  0.089 -0.083  1.000"
       ]
      }
     ],
     "prompt_number": 25
    },
    {
     "cell_type": "code",
     "collapsed": false,
     "input": [
      "# Double-check a few corr for significance. Seem pretty high. \n",
      "# Sign. corr would violate assumption of logReg. But scatter plots/ boxplots suggest influential cases.\n",
      "print 'A2, A8:', stats.spearmanr(creditExpl['A2'], creditExpl['A8'])\n",
      "print 'A3, A8:', stats.spearmanr(creditExpl['A8'], creditExpl['A3'])\n",
      "print 'A3, A14:', stats.spearmanr(creditExpl['A3'], creditExpl['A14'])"
     ],
     "language": "python",
     "metadata": {},
     "outputs": [
      {
       "output_type": "stream",
       "stream": "stdout",
       "text": [
        "A2, A8: (0.22406272719179662, 1.036890574115048e-07)\n",
        "A3, A8: (0.22793218520983996, 6.1464903856487324e-08)\n",
        "A3, A14: (-0.31469589038511209, 3.729592309652447e-14)\n"
       ]
      }
     ],
     "prompt_number": 26
    },
    {
     "cell_type": "code",
     "collapsed": false,
     "input": [
      "# Means by group (y). \n",
      "creditExpl.groupby(creditExpl.A16R)[numFeat].agg('mean')"
     ],
     "language": "python",
     "metadata": {},
     "outputs": [
      {
       "html": [
        "<div style=\"max-height:1000px;max-width:1500px;overflow:auto;\">\n",
        "<table border=\"1\" class=\"dataframe\">\n",
        "  <thead>\n",
        "    <tr style=\"text-align: right;\">\n",
        "      <th></th>\n",
        "      <th>A2</th>\n",
        "      <th>A3</th>\n",
        "      <th>A8</th>\n",
        "      <th>A14</th>\n",
        "      <th>A15</th>\n",
        "    </tr>\n",
        "    <tr>\n",
        "      <th>A16R</th>\n",
        "      <th></th>\n",
        "      <th></th>\n",
        "      <th></th>\n",
        "      <th></th>\n",
        "      <th></th>\n",
        "    </tr>\n",
        "  </thead>\n",
        "  <tbody>\n",
        "    <tr>\n",
        "      <th>0</th>\n",
        "      <td> 31.821</td>\n",
        "      <td> 4.688</td>\n",
        "      <td> 2.315</td>\n",
        "      <td> 195.379</td>\n",
        "      <td> 1174.624</td>\n",
        "    </tr>\n",
        "    <tr>\n",
        "      <th>1</th>\n",
        "      <td> 30.615</td>\n",
        "      <td> 5.035</td>\n",
        "      <td> 1.707</td>\n",
        "      <td> 169.750</td>\n",
        "      <td> 1078.640</td>\n",
        "    </tr>\n",
        "  </tbody>\n",
        "</table>\n",
        "</div>"
       ],
       "metadata": {},
       "output_type": "pyout",
       "prompt_number": 27,
       "text": [
        "          A2     A3     A8      A14       A15\n",
        "A16R                                         \n",
        "0     31.821  4.688  2.315  195.379  1174.624\n",
        "1     30.615  5.035  1.707  169.750  1078.640"
       ]
      }
     ],
     "prompt_number": 27
    },
    {
     "cell_type": "code",
     "collapsed": false,
     "input": [
      "# Medians by group (y).\n",
      "creditExpl.groupby(creditExpl.A16R)[numFeat].agg('median')"
     ],
     "language": "python",
     "metadata": {},
     "outputs": [
      {
       "html": [
        "<div style=\"max-height:1000px;max-width:1500px;overflow:auto;\">\n",
        "<table border=\"1\" class=\"dataframe\">\n",
        "  <thead>\n",
        "    <tr style=\"text-align: right;\">\n",
        "      <th></th>\n",
        "      <th>A2</th>\n",
        "      <th>A3</th>\n",
        "      <th>A8</th>\n",
        "      <th>A14</th>\n",
        "      <th>A15</th>\n",
        "    </tr>\n",
        "    <tr>\n",
        "      <th>A16R</th>\n",
        "      <th></th>\n",
        "      <th></th>\n",
        "      <th></th>\n",
        "      <th></th>\n",
        "      <th></th>\n",
        "    </tr>\n",
        "  </thead>\n",
        "  <tbody>\n",
        "    <tr>\n",
        "      <th>0</th>\n",
        "      <td> 28.750</td>\n",
        "      <td> 2.73</td>\n",
        "      <td> 1.085</td>\n",
        "      <td> 160</td>\n",
        "      <td>  2</td>\n",
        "    </tr>\n",
        "    <tr>\n",
        "      <th>1</th>\n",
        "      <td> 26.125</td>\n",
        "      <td> 3.00</td>\n",
        "      <td> 0.875</td>\n",
        "      <td> 140</td>\n",
        "      <td> 10</td>\n",
        "    </tr>\n",
        "  </tbody>\n",
        "</table>\n",
        "</div>"
       ],
       "metadata": {},
       "output_type": "pyout",
       "prompt_number": 28,
       "text": [
        "          A2    A3     A8  A14  A15\n",
        "A16R                               \n",
        "0     28.750  2.73  1.085  160    2\n",
        "1     26.125  3.00  0.875  140   10"
       ]
      }
     ],
     "prompt_number": 28
    },
    {
     "cell_type": "code",
     "collapsed": false,
     "input": [
      "# Build logistic regression.\n",
      "from sklearn.linear_model import LogisticRegression\n",
      "logReg = LogisticRegression()"
     ],
     "language": "python",
     "metadata": {},
     "outputs": [],
     "prompt_number": 29
    },
    {
     "cell_type": "code",
     "collapsed": false,
     "input": [
      "logReg.fit(credit_X_train, credit_y_train)"
     ],
     "language": "python",
     "metadata": {},
     "outputs": [
      {
       "metadata": {},
       "output_type": "pyout",
       "prompt_number": 30,
       "text": [
        "LogisticRegression(C=1.0, class_weight=None, dual=False, fit_intercept=True,\n",
        "          intercept_scaling=1, penalty='l2', random_state=None, tol=0.0001)"
       ]
      }
     ],
     "prompt_number": 30
    },
    {
     "cell_type": "code",
     "collapsed": false,
     "input": [
      "logReg.intercept_"
     ],
     "language": "python",
     "metadata": {},
     "outputs": [
      {
       "metadata": {},
       "output_type": "pyout",
       "prompt_number": 31,
       "text": [
        "array([-0.0454])"
       ]
      }
     ],
     "prompt_number": 31
    },
    {
     "cell_type": "code",
     "collapsed": false,
     "input": [
      "logReg.coef_"
     ],
     "language": "python",
     "metadata": {},
     "outputs": [
      {
       "metadata": {},
       "output_type": "pyout",
       "prompt_number": 32,
       "text": [
        "array([[ -1.0359e-05,  -1.6605e-02,   9.0979e-02,   1.2233e-01,\n",
        "         -1.4361e-03,   3.9203e-04,  -1.0910e-01,   6.3675e-02,\n",
        "          2.8408e-01,   6.3370e-02,  -3.9288e-01,  -3.4432e-03,\n",
        "          2.8408e-01,  -3.2607e-01,  -4.5956e-01,  -2.0965e-01,\n",
        "          7.4176e-01,  -2.0231e-01,   9.3729e-03,  -8.9100e-01,\n",
        "         -6.9002e-01,  -1.0492e-01,   5.1600e-02,  -2.0996e-01,\n",
        "          3.3490e-01,   3.8309e-03,   3.7734e-01,   1.2032e+00,\n",
        "          1.1905e-01,   3.7856e-02,  -5.8530e-01,   3.2743e-01,\n",
        "          1.9429e-01,   2.4943e-01,  -2.2300e-02,  -4.8764e-02,\n",
        "         -3.1711e-01,  -1.6630e+00,   1.6176e+00,  -3.3007e-01,\n",
        "          2.8464e-01,   1.1066e-01,  -1.5608e-01,  -5.7705e-01,\n",
        "          7.6783e-01,  -2.3620e-01]])"
       ]
      }
     ],
     "prompt_number": 32
    },
    {
     "cell_type": "code",
     "collapsed": false,
     "input": [
      "# Explained variance (R squared) - about 86%. Pretty high. \n",
      "logReg.score(credit_X_test, credit_y_test)"
     ],
     "language": "python",
     "metadata": {},
     "outputs": [
      {
       "metadata": {},
       "output_type": "pyout",
       "prompt_number": 33,
       "text": [
        "0.85507246376811596"
       ]
      }
     ],
     "prompt_number": 33
    },
    {
     "cell_type": "code",
     "collapsed": false,
     "input": [
      "from sklearn.metrics import confusion_matrix, classification_report"
     ],
     "language": "python",
     "metadata": {},
     "outputs": [],
     "prompt_number": 34
    },
    {
     "cell_type": "code",
     "collapsed": false,
     "input": [
      "# Confusion Matrix\n",
      "credit_y_pred = logReg.predict(credit_X_test)\n",
      "credit_cm = confusion_matrix(credit_y_test, credit_y_pred)\n",
      "credit_cm"
     ],
     "language": "python",
     "metadata": {},
     "outputs": [
      {
       "metadata": {},
       "output_type": "pyout",
       "prompt_number": 35,
       "text": [
        "array([[62, 15],\n",
        "       [ 5, 56]])"
       ]
      }
     ],
     "prompt_number": 35
    },
    {
     "cell_type": "code",
     "collapsed": false,
     "input": [
      "# Plot confusion matrix.\n",
      "plt.matshow(credit_cm)\n",
      "plt.title('Confusion matrix for credit data')\n",
      "plt.colorbar()\n",
      "plt.ylabel('True')\n",
      "plt.xlabel('Predicted')"
     ],
     "language": "python",
     "metadata": {},
     "outputs": [
      {
       "metadata": {},
       "output_type": "pyout",
       "prompt_number": 36,
       "text": [
        "<matplotlib.text.Text at 0x10da92d90>"
       ]
      },
      {
       "metadata": {},
       "output_type": "display_data",
       "png": "[encoded data removed]",
       "text": [
        "<matplotlib.figure.Figure at 0x10d9cfad0>"
       ]
      }
     ],
     "prompt_number": 36
    },
    {
     "cell_type": "code",
     "collapsed": false,
     "input": [
      "# Get precision and recall\n",
      "# Precision: better for 0 than 1 credit. Closer to 1 is better. TP/ TP + FP\n",
      "# Precision = not to label as positive a sample that is negative. \n",
      "# Recall (sensitivity): better for 1 than 0. Means algo is more sensitive for 1. TP / TP + FN\n",
      "# Recall find all the positive samples.\n",
      "# F measure is weighted harmonic mean of the precision and recall - better closer to 1 than 0. Seems ok.\n",
      "# Support is number of cases. \n",
      "print classification_report(credit_y_test, credit_y_pred)"
     ],
     "language": "python",
     "metadata": {},
     "outputs": [
      {
       "output_type": "stream",
       "stream": "stdout",
       "text": [
        "             precision    recall  f1-score   support\n",
        "\n",
        "        0.0       0.93      0.81      0.86        77\n",
        "        1.0       0.79      0.92      0.85        61\n",
        "\n",
        "avg / total       0.86      0.86      0.86       138\n",
        "\n"
       ]
      }
     ],
     "prompt_number": 37
    },
    {
     "cell_type": "code",
     "collapsed": false,
     "input": [
      "# Look at coefs. But they are not normalized, so don't know their importance. \n",
      "# Need to check out/ include preprocessing module to normalize X.  \n",
      "pd.DataFrame(zip(credit_cols, np.transpose(logReg.coef_)))"
     ],
     "language": "python",
     "metadata": {},
     "outputs": [
      {
       "html": [
        "<div style=\"max-height:1000px;max-width:1500px;overflow:auto;\">\n",
        "<table border=\"1\" class=\"dataframe\">\n",
        "  <thead>\n",
        "    <tr style=\"text-align: right;\">\n",
        "      <th></th>\n",
        "      <th>0</th>\n",
        "      <th>1</th>\n",
        "    </tr>\n",
        "  </thead>\n",
        "  <tbody>\n",
        "    <tr>\n",
        "      <th>0 </th>\n",
        "      <td>    A2</td>\n",
        "      <td> [-1.03593533785e-05]</td>\n",
        "    </tr>\n",
        "    <tr>\n",
        "      <th>1 </th>\n",
        "      <td>    A3</td>\n",
        "      <td>    [-0.016604785678]</td>\n",
        "    </tr>\n",
        "    <tr>\n",
        "      <th>2 </th>\n",
        "      <td>    A8</td>\n",
        "      <td>    [0.0909788100897]</td>\n",
        "    </tr>\n",
        "    <tr>\n",
        "      <th>3 </th>\n",
        "      <td>   A11</td>\n",
        "      <td>     [0.122327498209]</td>\n",
        "    </tr>\n",
        "    <tr>\n",
        "      <th>4 </th>\n",
        "      <td>   A14</td>\n",
        "      <td>  [-0.00143610989014]</td>\n",
        "    </tr>\n",
        "    <tr>\n",
        "      <th>...</th>\n",
        "      <td>...</td>\n",
        "      <td>...</td>\n",
        "    </tr>\n",
        "    <tr>\n",
        "      <th>41</th>\n",
        "      <td> A10_t</td>\n",
        "      <td>     [0.110658968395]</td>\n",
        "    </tr>\n",
        "    <tr>\n",
        "      <th>42</th>\n",
        "      <td> A12_f</td>\n",
        "      <td>    [-0.156083948483]</td>\n",
        "    </tr>\n",
        "    <tr>\n",
        "      <th>43</th>\n",
        "      <td> A12_t</td>\n",
        "      <td>    [-0.577048002548]</td>\n",
        "    </tr>\n",
        "    <tr>\n",
        "      <th>44</th>\n",
        "      <td> A13_g</td>\n",
        "      <td>     [0.767827860262]</td>\n",
        "    </tr>\n",
        "    <tr>\n",
        "      <th>45</th>\n",
        "      <td> A13_p</td>\n",
        "      <td>    [-0.236204837802]</td>\n",
        "    </tr>\n",
        "  </tbody>\n",
        "</table>\n",
        "<p>46 rows \u00d7 2 columns</p>\n",
        "</div>"
       ],
       "metadata": {},
       "output_type": "pyout",
       "prompt_number": 38,
       "text": [
        "        0                     1\n",
        "0      A2  [-1.03593533785e-05]\n",
        "1      A3     [-0.016604785678]\n",
        "2      A8     [0.0909788100897]\n",
        "3     A11      [0.122327498209]\n",
        "4     A14   [-0.00143610989014]\n",
        "..    ...                   ...\n",
        "41  A10_t      [0.110658968395]\n",
        "42  A12_f     [-0.156083948483]\n",
        "43  A12_t     [-0.577048002548]\n",
        "44  A13_g      [0.767827860262]\n",
        "45  A13_p     [-0.236204837802]\n",
        "\n",
        "[46 rows x 2 columns]"
       ]
      }
     ],
     "prompt_number": 38
    },
    {
     "cell_type": "code",
     "collapsed": false,
     "input": [
      "# Look at probabilities.\n",
      "credit_y_pred_df = pd.DataFrame(logReg.predict_proba(credit_X_test)) \n",
      "credit_y_pred_df['Predicted credit'] = credit_y_pred\n",
      "credit_y_pred_df['True credit'] = credit_y_test\n",
      "credit_y_pred_df.head(10)"
     ],
     "language": "python",
     "metadata": {},
     "outputs": [
      {
       "html": [
        "<div style=\"max-height:1000px;max-width:1500px;overflow:auto;\">\n",
        "<table border=\"1\" class=\"dataframe\">\n",
        "  <thead>\n",
        "    <tr style=\"text-align: right;\">\n",
        "      <th></th>\n",
        "      <th>0</th>\n",
        "      <th>1</th>\n",
        "      <th>Predicted credit</th>\n",
        "      <th>True credit</th>\n",
        "    </tr>\n",
        "  </thead>\n",
        "  <tbody>\n",
        "    <tr>\n",
        "      <th>0</th>\n",
        "      <td> 0.037</td>\n",
        "      <td> 0.963</td>\n",
        "      <td> 1</td>\n",
        "      <td> 0</td>\n",
        "    </tr>\n",
        "    <tr>\n",
        "      <th>1</th>\n",
        "      <td> 0.935</td>\n",
        "      <td> 0.065</td>\n",
        "      <td> 0</td>\n",
        "      <td> 0</td>\n",
        "    </tr>\n",
        "    <tr>\n",
        "      <th>2</th>\n",
        "      <td> 0.231</td>\n",
        "      <td> 0.769</td>\n",
        "      <td> 1</td>\n",
        "      <td> 1</td>\n",
        "    </tr>\n",
        "    <tr>\n",
        "      <th>3</th>\n",
        "      <td> 0.252</td>\n",
        "      <td> 0.748</td>\n",
        "      <td> 1</td>\n",
        "      <td> 1</td>\n",
        "    </tr>\n",
        "    <tr>\n",
        "      <th>4</th>\n",
        "      <td> 0.391</td>\n",
        "      <td> 0.609</td>\n",
        "      <td> 1</td>\n",
        "      <td> 1</td>\n",
        "    </tr>\n",
        "    <tr>\n",
        "      <th>5</th>\n",
        "      <td> 0.011</td>\n",
        "      <td> 0.989</td>\n",
        "      <td> 1</td>\n",
        "      <td> 1</td>\n",
        "    </tr>\n",
        "    <tr>\n",
        "      <th>6</th>\n",
        "      <td> 0.956</td>\n",
        "      <td> 0.044</td>\n",
        "      <td> 0</td>\n",
        "      <td> 0</td>\n",
        "    </tr>\n",
        "    <tr>\n",
        "      <th>7</th>\n",
        "      <td> 0.933</td>\n",
        "      <td> 0.067</td>\n",
        "      <td> 0</td>\n",
        "      <td> 1</td>\n",
        "    </tr>\n",
        "    <tr>\n",
        "      <th>8</th>\n",
        "      <td> 0.062</td>\n",
        "      <td> 0.938</td>\n",
        "      <td> 1</td>\n",
        "      <td> 1</td>\n",
        "    </tr>\n",
        "    <tr>\n",
        "      <th>9</th>\n",
        "      <td> 0.020</td>\n",
        "      <td> 0.980</td>\n",
        "      <td> 1</td>\n",
        "      <td> 1</td>\n",
        "    </tr>\n",
        "  </tbody>\n",
        "</table>\n",
        "</div>"
       ],
       "metadata": {},
       "output_type": "pyout",
       "prompt_number": 39,
       "text": [
        "       0      1  Predicted credit  True credit\n",
        "0  0.037  0.963                 1            0\n",
        "1  0.935  0.065                 0            0\n",
        "2  0.231  0.769                 1            1\n",
        "3  0.252  0.748                 1            1\n",
        "4  0.391  0.609                 1            1\n",
        "5  0.011  0.989                 1            1\n",
        "6  0.956  0.044                 0            0\n",
        "7  0.933  0.067                 0            1\n",
        "8  0.062  0.938                 1            1\n",
        "9  0.020  0.980                 1            1"
       ]
      }
     ],
     "prompt_number": 39
    },
    {
     "cell_type": "code",
     "collapsed": false,
     "input": [
      "# Plot predicted vs true values\n",
      "import seaborn as sns\n",
      "sns.regplot(credit_y_pred, credit_y_test, x_jitter=0.15, y_jitter=0.15, color = 'r');"
     ],
     "language": "python",
     "metadata": {},
     "outputs": [
      {
       "metadata": {},
       "output_type": "display_data",
       "png": "[encoded data removed]",
       "text": [
        "<matplotlib.figure.Figure at 0x10b566a50>"
       ]
      }
     ],
     "prompt_number": 40
    },
    {
     "cell_type": "code",
     "collapsed": false,
     "input": [
      "# Calculate Matthews corr coeff as measure of quality of binary classification. Closer to 1 = better. \n",
      "from sklearn.metrics import matthews_corrcoef\n",
      "matthews_corrcoef(credit_y_test, credit_y_pred)"
     ],
     "language": "python",
     "metadata": {},
     "outputs": [
      {
       "metadata": {},
       "output_type": "pyout",
       "prompt_number": 41,
       "text": [
        "0.71865208690214999"
       ]
      }
     ],
     "prompt_number": 41
    },
    {
     "cell_type": "code",
     "collapsed": false,
     "input": [
      "# Cross validation. Values seem to vary a lot, so model seems to be sensitive to train test split. \n",
      "import sklearn.cross_validation as cv\n",
      "cv.cross_val_score(logReg, credit_X, credit_y, )"
     ],
     "language": "python",
     "metadata": {},
     "outputs": [
      {
       "metadata": {},
       "output_type": "pyout",
       "prompt_number": 42,
       "text": [
        "array([ 0.7662,  0.8826,  0.8297])"
       ]
      }
     ],
     "prompt_number": 42
    },
    {
     "cell_type": "code",
     "collapsed": false,
     "input": [
      "# Do grid search for logistic regression.\n",
      "from sklearn.grid_search import GridSearchCV\n",
      "gs_LogReg = GridSearchCV(logReg, {'C': np.logspace(-5, 5, 200)}, n_jobs=4)\n",
      "gs_LogReg.fit(credit_X_train, credit_y_train);\n",
      "gs_LogReg.best_params_, gs_LogReg.best_score_, gs_LogReg.best_estimator_# These would be the best params to use. "
     ],
     "language": "python",
     "metadata": {},
     "outputs": [
      {
       "metadata": {},
       "output_type": "pyout",
       "prompt_number": 43,
       "text": [
        "({'C': 1231.5506032928261},\n",
        " 0.87681159420289856,\n",
        " LogisticRegression(C=1231.5506032928261, class_weight=None, dual=False,\n",
        "           fit_intercept=True, intercept_scaling=1, penalty='l2',\n",
        "           random_state=None, tol=0.0001))"
       ]
      }
     ],
     "prompt_number": 43
    },
    {
     "cell_type": "code",
     "collapsed": false,
     "input": [
      "gs_LogReg_scores = cv.cross_val_score(gs_LogReg.best_estimator_, credit_X, credit_y, cv=5)\n",
      "gs_LogReg_scores.min(), gs_LogReg_scores.max(), gs_LogReg_scores.mean() # Scores vary with split - not good."
     ],
     "language": "python",
     "metadata": {},
     "outputs": [
      {
       "metadata": {},
       "output_type": "pyout",
       "prompt_number": 44,
       "text": [
        "(0.61870503597122306, 0.97122302158273377, 0.84368115789818154)"
       ]
      }
     ],
     "prompt_number": 44
    },
    {
     "cell_type": "code",
     "collapsed": false,
     "input": [
      "# SVM\n",
      "from sklearn.svm import LinearSVC"
     ],
     "language": "python",
     "metadata": {},
     "outputs": [],
     "prompt_number": 45
    },
    {
     "cell_type": "code",
     "collapsed": false,
     "input": [
      "# Linear first.\n",
      "# Smaller C, larger margin. \n",
      "LinSVC = LinearSVC() # basic model"
     ],
     "language": "python",
     "metadata": {},
     "outputs": [],
     "prompt_number": 46
    },
    {
     "cell_type": "code",
     "collapsed": false,
     "input": [
      "LinSVC.fit(credit_X_train, credit_y_train)"
     ],
     "language": "python",
     "metadata": {},
     "outputs": [
      {
       "metadata": {},
       "output_type": "pyout",
       "prompt_number": 47,
       "text": [
        "LinearSVC(C=1.0, class_weight=None, dual=True, fit_intercept=True,\n",
        "     intercept_scaling=1, loss='l2', multi_class='ovr', penalty='l2',\n",
        "     random_state=None, tol=0.0001, verbose=0)"
       ]
      }
     ],
     "prompt_number": 47
    },
    {
     "cell_type": "code",
     "collapsed": false,
     "input": [
      "LinSVC.score(credit_X_test, credit_y_test) # Pretty good. "
     ],
     "language": "python",
     "metadata": {},
     "outputs": [
      {
       "metadata": {},
       "output_type": "pyout",
       "prompt_number": 48,
       "text": [
        "0.81159420289855078"
       ]
      }
     ],
     "prompt_number": 48
    },
    {
     "cell_type": "code",
     "collapsed": false,
     "input": [
      "# Confusion Matrix\n",
      "credit_y_pred2 = LinSVC.predict(credit_X_test)\n",
      "credit_cm2 = confusion_matrix(credit_y_test, credit_y_pred2)\n",
      "credit_cm2 # This model works similar to LogReg model. "
     ],
     "language": "python",
     "metadata": {},
     "outputs": [
      {
       "metadata": {},
       "output_type": "pyout",
       "prompt_number": 49,
       "text": [
        "array([[59, 18],\n",
        "       [ 8, 53]])"
       ]
      }
     ],
     "prompt_number": 49
    },
    {
     "cell_type": "code",
     "collapsed": false,
     "input": [
      "# Plot confusion matrix.\n",
      "plt.matshow(credit_cm2)\n",
      "plt.title('Confusion matrix for credit data')\n",
      "plt.colorbar()\n",
      "plt.ylabel('True')\n",
      "plt.xlabel('Predicted')"
     ],
     "language": "python",
     "metadata": {},
     "outputs": [
      {
       "metadata": {},
       "output_type": "pyout",
       "prompt_number": 50,
       "text": [
        "<matplotlib.text.Text at 0x10ae57250>"
       ]
      },
      {
       "metadata": {},
       "output_type": "display_data",
       "png": "[encoded data removed]",
       "text": [
        "<matplotlib.figure.Figure at 0x10aeb0ed0>"
       ]
      }
     ],
     "prompt_number": 50
    },
    {
     "cell_type": "code",
     "collapsed": false,
     "input": [
      "print classification_report(credit_y_test, credit_y_pred2)"
     ],
     "language": "python",
     "metadata": {},
     "outputs": [
      {
       "output_type": "stream",
       "stream": "stdout",
       "text": [
        "             precision    recall  f1-score   support\n",
        "\n",
        "        0.0       0.88      0.77      0.82        77\n",
        "        1.0       0.75      0.87      0.80        61\n",
        "\n",
        "avg / total       0.82      0.81      0.81       138\n",
        "\n"
       ]
      }
     ],
     "prompt_number": 51
    },
    {
     "cell_type": "code",
     "collapsed": false,
     "input": [
      "# Plot predicted vs true values\n",
      "import seaborn as sns\n",
      "sns.regplot(credit_y_test, credit_y_pred2, x_jitter=0.15, y_jitter=0.15, color = 'r');"
     ],
     "language": "python",
     "metadata": {},
     "outputs": [
      {
       "metadata": {},
       "output_type": "display_data",
       "png": "[encoded data removed]",
       "text": [
        "<matplotlib.figure.Figure at 0x10aeb0110>"
       ]
      }
     ],
     "prompt_number": 52
    },
    {
     "cell_type": "code",
     "collapsed": false,
     "input": [
      "# Gridsearch for linear \n",
      "from sklearn.grid_search import GridSearchCV\n",
      "linParameters = {'C': np.logspace(-3,3,10)}"
     ],
     "language": "python",
     "metadata": {},
     "outputs": [],
     "prompt_number": 53
    },
    {
     "cell_type": "code",
     "collapsed": false,
     "input": [
      "gs_LinSVC = GridSearchCV(LinearSVC(), linParameters)"
     ],
     "language": "python",
     "metadata": {},
     "outputs": [],
     "prompt_number": 54
    },
    {
     "cell_type": "code",
     "collapsed": false,
     "input": [
      "gs_LinSVC.fit(credit_X_train, credit_y_train) # random_state also seems to set other params. meaning? influence?"
     ],
     "language": "python",
     "metadata": {},
     "outputs": [
      {
       "metadata": {},
       "output_type": "pyout",
       "prompt_number": 55,
       "text": [
        "GridSearchCV(cv=None,\n",
        "       estimator=LinearSVC(C=1.0, class_weight=None, dual=True, fit_intercept=True,\n",
        "     intercept_scaling=1, loss='l2', multi_class='ovr', penalty='l2',\n",
        "     random_state=None, tol=0.0001, verbose=0),\n",
        "       fit_params={}, iid=True, loss_func=None, n_jobs=1,\n",
        "       param_grid={'C': array([  1.00000e-03,   4.64159e-03,   2.15443e-02,   1.00000e-01,\n",
        "         4.64159e-01,   2.15443e+00,   1.00000e+01,   4.64159e+01,\n",
        "         2.15443e+02,   1.00000e+03])},\n",
        "       pre_dispatch='2*n_jobs', refit=True, score_func=None, scoring=None,\n",
        "       verbose=0)"
       ]
      }
     ],
     "prompt_number": 55
    },
    {
     "cell_type": "code",
     "collapsed": false,
     "input": [
      "gs_LinSVC.score(credit_X_test, credit_y_test) # Pretty good too. "
     ],
     "language": "python",
     "metadata": {},
     "outputs": [
      {
       "metadata": {},
       "output_type": "pyout",
       "prompt_number": 56,
       "text": [
        "0.84782608695652173"
       ]
      }
     ],
     "prompt_number": 56
    },
    {
     "cell_type": "code",
     "collapsed": false,
     "input": [
      "gs_LinSVC.best_params_, gs_LinSVC.best_score_ # Best params to use (C and gamma). Score comparable to LogReg. "
     ],
     "language": "python",
     "metadata": {},
     "outputs": [
      {
       "metadata": {},
       "output_type": "pyout",
       "prompt_number": 57,
       "text": [
        "({'C': 0.021544346900318832}, 0.83695652173913049)"
       ]
      }
     ],
     "prompt_number": 57
    },
    {
     "cell_type": "code",
     "collapsed": false,
     "input": [
      "gs_LinSVC.grid_scores_ # Everything calculated. "
     ],
     "language": "python",
     "metadata": {},
     "outputs": [
      {
       "metadata": {},
       "output_type": "pyout",
       "prompt_number": 58,
       "text": [
        "[mean: 0.74819, std: 0.07767, params: {'C': 0.001},\n",
        " mean: 0.78080, std: 0.03614, params: {'C': 0.0046415888336127772},\n",
        " mean: 0.83696, std: 0.02662, params: {'C': 0.021544346900318832},\n",
        " mean: 0.82971, std: 0.03360, params: {'C': 0.10000000000000001},\n",
        " mean: 0.74457, std: 0.06889, params: {'C': 0.46415888336127775},\n",
        " mean: 0.75725, std: 0.08210, params: {'C': 2.154434690031882},\n",
        " mean: 0.74275, std: 0.07548, params: {'C': 10.0},\n",
        " mean: 0.74275, std: 0.05619, params: {'C': 46.415888336127729},\n",
        " mean: 0.72826, std: 0.14989, params: {'C': 215.44346900318823},\n",
        " mean: 0.71558, std: 0.10542, params: {'C': 1000.0}]"
       ]
      }
     ],
     "prompt_number": 58
    },
    {
     "cell_type": "code",
     "collapsed": false,
     "input": [
      "from sklearn.svm import SVC"
     ],
     "language": "python",
     "metadata": {},
     "outputs": [],
     "prompt_number": 59
    },
    {
     "cell_type": "code",
     "collapsed": false,
     "input": [
      "# Non-linear SVC. \n",
      "NlSVC = SVC()  "
     ],
     "language": "python",
     "metadata": {},
     "outputs": [],
     "prompt_number": 60
    },
    {
     "cell_type": "code",
     "collapsed": false,
     "input": [
      "NlSVC.fit(credit_X_train, credit_y_train)"
     ],
     "language": "python",
     "metadata": {},
     "outputs": [
      {
       "metadata": {},
       "output_type": "pyout",
       "prompt_number": 61,
       "text": [
        "SVC(C=1.0, cache_size=200, class_weight=None, coef0=0.0, degree=3, gamma=0.0,\n",
        "  kernel='rbf', max_iter=-1, probability=False, random_state=None,\n",
        "  shrinking=True, tol=0.001, verbose=False)"
       ]
      }
     ],
     "prompt_number": 61
    },
    {
     "cell_type": "code",
     "collapsed": false,
     "input": [
      "NlSVC.score(credit_X_test, credit_y_test) # Pretty low. "
     ],
     "language": "python",
     "metadata": {},
     "outputs": [
      {
       "metadata": {},
       "output_type": "pyout",
       "prompt_number": 62,
       "text": [
        "0.55072463768115942"
       ]
      }
     ],
     "prompt_number": 62
    },
    {
     "cell_type": "code",
     "collapsed": false,
     "input": [
      "# Confusion Matrix\n",
      "credit_y_pred3 = NlSVC.predict(credit_X_test)\n",
      "credit_cm3 = confusion_matrix(credit_y_test, credit_y_pred3)\n",
      "credit_cm3 # That's pretty bad. "
     ],
     "language": "python",
     "metadata": {},
     "outputs": [
      {
       "metadata": {},
       "output_type": "pyout",
       "prompt_number": 63,
       "text": [
        "array([[70,  7],\n",
        "       [55,  6]])"
       ]
      }
     ],
     "prompt_number": 63
    },
    {
     "cell_type": "code",
     "collapsed": false,
     "input": [
      "print classification_report(credit_y_test, credit_y_pred3)"
     ],
     "language": "python",
     "metadata": {},
     "outputs": [
      {
       "output_type": "stream",
       "stream": "stdout",
       "text": [
        "             precision    recall  f1-score   support\n",
        "\n",
        "        0.0       0.56      0.91      0.69        77\n",
        "        1.0       0.46      0.10      0.16        61\n",
        "\n",
        "avg / total       0.52      0.55      0.46       138\n",
        "\n"
       ]
      }
     ],
     "prompt_number": 64
    },
    {
     "cell_type": "code",
     "collapsed": false,
     "input": [
      "# Plot confusion matrix.\n",
      "plt.matshow(credit_cm3)\n",
      "plt.title('Confusion matrix for credit data')\n",
      "plt.colorbar()\n",
      "plt.ylabel('True')\n",
      "plt.xlabel('Predicted')"
     ],
     "language": "python",
     "metadata": {},
     "outputs": [
      {
       "metadata": {},
       "output_type": "pyout",
       "prompt_number": 65,
       "text": [
        "<matplotlib.text.Text at 0x10a8d77d0>"
       ]
      },
      {
       "metadata": {},
       "output_type": "display_data",
       "png": "[encoded data removed]",
       "text": [
        "<matplotlib.figure.Figure at 0x10b257550>"
       ]
      }
     ],
     "prompt_number": 65
    },
    {
     "cell_type": "code",
     "collapsed": false,
     "input": [
      "sns.regplot(credit_y_test, credit_y_pred3, x_jitter=0.15, y_jitter=0.15, color = 'r'); #Yikes. "
     ],
     "language": "python",
     "metadata": {},
     "outputs": [
      {
       "metadata": {},
       "output_type": "pyout",
       "prompt_number": 66,
       "text": [
        "<matplotlib.axes._subplots.AxesSubplot at 0x10aaec1d0>"
       ]
      },
      {
       "metadata": {},
       "output_type": "display_data",
       "png": "[encoded data removed]",
       "text": [
        "<matplotlib.figure.Figure at 0x10b26f0d0>"
       ]
      }
     ],
     "prompt_number": 66
    },
    {
     "cell_type": "code",
     "collapsed": false,
     "input": [
      "# Params for GridSearch\n",
      "nlParameters = {'C': np.logspace(-3,3,10), 'gamma': np.logspace(-3,3,10)}"
     ],
     "language": "python",
     "metadata": {},
     "outputs": [],
     "prompt_number": 67
    },
    {
     "cell_type": "code",
     "collapsed": false,
     "input": [
      "gs_nlSVC = GridSearchCV(SVC(random_state = 12), nlParameters)"
     ],
     "language": "python",
     "metadata": {},
     "outputs": [],
     "prompt_number": 68
    },
    {
     "cell_type": "code",
     "collapsed": false,
     "input": [
      "gs_nlSVC.fit(credit_X_train, credit_y_train)"
     ],
     "language": "python",
     "metadata": {},
     "outputs": [
      {
       "metadata": {},
       "output_type": "pyout",
       "prompt_number": 69,
       "text": [
        "GridSearchCV(cv=None,\n",
        "       estimator=SVC(C=1.0, cache_size=200, class_weight=None, coef0=0.0, degree=3, gamma=0.0,\n",
        "  kernel='rbf', max_iter=-1, probability=False, random_state=12,\n",
        "  shrinking=True, tol=0.001, verbose=False),\n",
        "       fit_params={}, iid=True, loss_func=None, n_jobs=1,\n",
        "       param_grid={'C': array([  1.00000e-03,   4.64159e-03,   2.15443e-02,   1.00000e-01,\n",
        "         4.64159e-01,   2.15443e+00,   1.00000e+01,   4.64159e+01,\n",
        "         2.15443e+02,   1.00000e+03]), 'gamma': array([  1.00000e-03,   4.64159e-03,   2.15443e-02,   1.00000e-01,\n",
        "         4.64159e-01,   2.15443e+00,   1.00000e+01,   4.64159e+01,\n",
        "         2.15443e+02,   1.00000e+03])},\n",
        "       pre_dispatch='2*n_jobs', refit=True, score_func=None, scoring=None,\n",
        "       verbose=0)"
       ]
      }
     ],
     "prompt_number": 69
    },
    {
     "cell_type": "code",
     "collapsed": false,
     "input": [
      "gs_nlSVC.score(credit_X_test, credit_y_test) # Ok, but not great. "
     ],
     "language": "python",
     "metadata": {},
     "outputs": [
      {
       "metadata": {},
       "output_type": "pyout",
       "prompt_number": 70,
       "text": [
        "0.73188405797101452"
       ]
      }
     ],
     "prompt_number": 70
    },
    {
     "cell_type": "code",
     "collapsed": false,
     "input": [
      "gs_nlSVC.best_params_, gs_nlSVC.best_score_ # Confused by this. Large C means smaller margin? "
     ],
     "language": "python",
     "metadata": {},
     "outputs": [
      {
       "metadata": {},
       "output_type": "pyout",
       "prompt_number": 71,
       "text": [
        "({'C': 46.415888336127729, 'gamma': 0.001}, 0.67391304347826086)"
       ]
      }
     ],
     "prompt_number": 71
    },
    {
     "cell_type": "code",
     "collapsed": false,
     "input": [
      "gs_nlSVC.grid_scores_ # Everything calculated. "
     ],
     "language": "python",
     "metadata": {},
     "outputs": [
      {
       "metadata": {},
       "output_type": "pyout",
       "prompt_number": 72,
       "text": [
        "[mean: 0.55435, std: 0.00000, params: {'C': 0.001, 'gamma': 0.001},\n",
        " mean: 0.55435, std: 0.00000, params: {'C': 0.001, 'gamma': 0.0046415888336127772},\n",
        " mean: 0.55435, std: 0.00000, params: {'C': 0.001, 'gamma': 0.021544346900318832},\n",
        " mean: 0.55435, std: 0.00000, params: {'C': 0.001, 'gamma': 0.10000000000000001},\n",
        " mean: 0.55435, std: 0.00000, params: {'C': 0.001, 'gamma': 0.46415888336127775},\n",
        " mean: 0.55435, std: 0.00000, params: {'C': 0.001, 'gamma': 2.154434690031882},\n",
        " mean: 0.55435, std: 0.00000, params: {'C': 0.001, 'gamma': 10.0},\n",
        " mean: 0.55435, std: 0.00000, params: {'C': 0.001, 'gamma': 46.415888336127729},\n",
        " mean: 0.55435, std: 0.00000, params: {'C': 0.001, 'gamma': 215.44346900318823},\n",
        " mean: 0.55435, std: 0.00000, params: {'C': 0.001, 'gamma': 1000.0},\n",
        " mean: 0.55435, std: 0.00000, params: {'C': 0.0046415888336127772, 'gamma': 0.001},\n",
        " mean: 0.55435, std: 0.00000, params: {'C': 0.0046415888336127772, 'gamma': 0.0046415888336127772},\n",
        " mean: 0.55435, std: 0.00000, params: {'C': 0.0046415888336127772, 'gamma': 0.021544346900318832},\n",
        " mean: 0.55435, std: 0.00000, params: {'C': 0.0046415888336127772, 'gamma': 0.10000000000000001},\n",
        " mean: 0.55435, std: 0.00000, params: {'C': 0.0046415888336127772, 'gamma': 0.46415888336127775},\n",
        " mean: 0.55435, std: 0.00000, params: {'C': 0.0046415888336127772, 'gamma': 2.154434690031882},\n",
        " mean: 0.55435, std: 0.00000, params: {'C': 0.0046415888336127772, 'gamma': 10.0},\n",
        " mean: 0.55435, std: 0.00000, params: {'C': 0.0046415888336127772, 'gamma': 46.415888336127729},\n",
        " mean: 0.55435, std: 0.00000, params: {'C': 0.0046415888336127772, 'gamma': 215.44346900318823},\n",
        " mean: 0.55435, std: 0.00000, params: {'C': 0.0046415888336127772, 'gamma': 1000.0},\n",
        " mean: 0.55435, std: 0.00000, params: {'C': 0.021544346900318832, 'gamma': 0.001},\n",
        " mean: 0.55435, std: 0.00000, params: {'C': 0.021544346900318832, 'gamma': 0.0046415888336127772},\n",
        " mean: 0.55435, std: 0.00000, params: {'C': 0.021544346900318832, 'gamma': 0.021544346900318832},\n",
        " mean: 0.55435, std: 0.00000, params: {'C': 0.021544346900318832, 'gamma': 0.10000000000000001},\n",
        " mean: 0.55435, std: 0.00000, params: {'C': 0.021544346900318832, 'gamma': 0.46415888336127775},\n",
        " mean: 0.55435, std: 0.00000, params: {'C': 0.021544346900318832, 'gamma': 2.154434690031882},\n",
        " mean: 0.55435, std: 0.00000, params: {'C': 0.021544346900318832, 'gamma': 10.0},\n",
        " mean: 0.55435, std: 0.00000, params: {'C': 0.021544346900318832, 'gamma': 46.415888336127729},\n",
        " mean: 0.55435, std: 0.00000, params: {'C': 0.021544346900318832, 'gamma': 215.44346900318823},\n",
        " mean: 0.55435, std: 0.00000, params: {'C': 0.021544346900318832, 'gamma': 1000.0},\n",
        " mean: 0.55435, std: 0.00000, params: {'C': 0.10000000000000001, 'gamma': 0.001},\n",
        " mean: 0.55435, std: 0.00000, params: {'C': 0.10000000000000001, 'gamma': 0.0046415888336127772},\n",
        " mean: 0.55435, std: 0.00000, params: {'C': 0.10000000000000001, 'gamma': 0.021544346900318832},\n",
        " mean: 0.55435, std: 0.00000, params: {'C': 0.10000000000000001, 'gamma': 0.10000000000000001},\n",
        " mean: 0.55435, std: 0.00000, params: {'C': 0.10000000000000001, 'gamma': 0.46415888336127775},\n",
        " mean: 0.55435, std: 0.00000, params: {'C': 0.10000000000000001, 'gamma': 2.154434690031882},\n",
        " mean: 0.55435, std: 0.00000, params: {'C': 0.10000000000000001, 'gamma': 10.0},\n",
        " mean: 0.55435, std: 0.00000, params: {'C': 0.10000000000000001, 'gamma': 46.415888336127729},\n",
        " mean: 0.55435, std: 0.00000, params: {'C': 0.10000000000000001, 'gamma': 215.44346900318823},\n",
        " mean: 0.55435, std: 0.00000, params: {'C': 0.10000000000000001, 'gamma': 1000.0},\n",
        " mean: 0.63406, std: 0.02818, params: {'C': 0.46415888336127775, 'gamma': 0.001},\n",
        " mean: 0.53986, std: 0.01281, params: {'C': 0.46415888336127775, 'gamma': 0.0046415888336127772},\n",
        " mean: 0.55616, std: 0.00256, params: {'C': 0.46415888336127775, 'gamma': 0.021544346900318832},\n",
        " mean: 0.55435, std: 0.00000, params: {'C': 0.46415888336127775, 'gamma': 0.10000000000000001},\n",
        " mean: 0.55435, std: 0.00000, params: {'C': 0.46415888336127775, 'gamma': 0.46415888336127775},\n",
        " mean: 0.55435, std: 0.00000, params: {'C': 0.46415888336127775, 'gamma': 2.154434690031882},\n",
        " mean: 0.55435, std: 0.00000, params: {'C': 0.46415888336127775, 'gamma': 10.0},\n",
        " mean: 0.55435, std: 0.00000, params: {'C': 0.46415888336127775, 'gamma': 46.415888336127729},\n",
        " mean: 0.55435, std: 0.00000, params: {'C': 0.46415888336127775, 'gamma': 215.44346900318823},\n",
        " mean: 0.55435, std: 0.00000, params: {'C': 0.46415888336127775, 'gamma': 1000.0},\n",
        " mean: 0.63768, std: 0.01793, params: {'C': 2.154434690031882, 'gamma': 0.001},\n",
        " mean: 0.60326, std: 0.01174, params: {'C': 2.154434690031882, 'gamma': 0.0046415888336127772},\n",
        " mean: 0.51630, std: 0.01600, params: {'C': 2.154434690031882, 'gamma': 0.021544346900318832},\n",
        " mean: 0.54348, std: 0.00444, params: {'C': 2.154434690031882, 'gamma': 0.10000000000000001},\n",
        " mean: 0.55616, std: 0.00256, params: {'C': 2.154434690031882, 'gamma': 0.46415888336127775},\n",
        " mean: 0.55435, std: 0.00000, params: {'C': 2.154434690031882, 'gamma': 2.154434690031882},\n",
        " mean: 0.55435, std: 0.00000, params: {'C': 2.154434690031882, 'gamma': 10.0},\n",
        " mean: 0.55435, std: 0.00000, params: {'C': 2.154434690031882, 'gamma': 46.415888336127729},\n",
        " mean: 0.55435, std: 0.00000, params: {'C': 2.154434690031882, 'gamma': 215.44346900318823},\n",
        " mean: 0.55435, std: 0.00000, params: {'C': 2.154434690031882, 'gamma': 1000.0},\n",
        " mean: 0.65942, std: 0.01356, params: {'C': 10.0, 'gamma': 0.001},\n",
        " mean: 0.61957, std: 0.01174, params: {'C': 10.0, 'gamma': 0.0046415888336127772},\n",
        " mean: 0.51449, std: 0.01117, params: {'C': 10.0, 'gamma': 0.021544346900318832},\n",
        " mean: 0.54348, std: 0.00444, params: {'C': 10.0, 'gamma': 0.10000000000000001},\n",
        " mean: 0.55616, std: 0.00256, params: {'C': 10.0, 'gamma': 0.46415888336127775},\n",
        " mean: 0.55435, std: 0.00000, params: {'C': 10.0, 'gamma': 2.154434690031882},\n",
        " mean: 0.55435, std: 0.00000, params: {'C': 10.0, 'gamma': 10.0},\n",
        " mean: 0.55435, std: 0.00000, params: {'C': 10.0, 'gamma': 46.415888336127729},\n",
        " mean: 0.55435, std: 0.00000, params: {'C': 10.0, 'gamma': 215.44346900318823},\n",
        " mean: 0.55435, std: 0.00000, params: {'C': 10.0, 'gamma': 1000.0},\n",
        " mean: 0.67391, std: 0.01174, params: {'C': 46.415888336127729, 'gamma': 0.001},\n",
        " mean: 0.61594, std: 0.02600, params: {'C': 46.415888336127729, 'gamma': 0.0046415888336127772},\n",
        " mean: 0.51449, std: 0.01117, params: {'C': 46.415888336127729, 'gamma': 0.021544346900318832},\n",
        " mean: 0.54348, std: 0.00444, params: {'C': 46.415888336127729, 'gamma': 0.10000000000000001},\n",
        " mean: 0.55616, std: 0.00256, params: {'C': 46.415888336127729, 'gamma': 0.46415888336127775},\n",
        " mean: 0.55435, std: 0.00000, params: {'C': 46.415888336127729, 'gamma': 2.154434690031882},\n",
        " mean: 0.55435, std: 0.00000, params: {'C': 46.415888336127729, 'gamma': 10.0},\n",
        " mean: 0.55435, std: 0.00000, params: {'C': 46.415888336127729, 'gamma': 46.415888336127729},\n",
        " mean: 0.55435, std: 0.00000, params: {'C': 46.415888336127729, 'gamma': 215.44346900318823},\n",
        " mean: 0.55435, std: 0.00000, params: {'C': 46.415888336127729, 'gamma': 1000.0},\n",
        " mean: 0.65036, std: 0.00256, params: {'C': 215.44346900318823, 'gamma': 0.001},\n",
        " mean: 0.61594, std: 0.02600, params: {'C': 215.44346900318823, 'gamma': 0.0046415888336127772},\n",
        " mean: 0.51449, std: 0.01117, params: {'C': 215.44346900318823, 'gamma': 0.021544346900318832},\n",
        " mean: 0.54348, std: 0.00444, params: {'C': 215.44346900318823, 'gamma': 0.10000000000000001},\n",
        " mean: 0.55616, std: 0.00256, params: {'C': 215.44346900318823, 'gamma': 0.46415888336127775},\n",
        " mean: 0.55435, std: 0.00000, params: {'C': 215.44346900318823, 'gamma': 2.154434690031882},\n",
        " mean: 0.55435, std: 0.00000, params: {'C': 215.44346900318823, 'gamma': 10.0},\n",
        " mean: 0.55435, std: 0.00000, params: {'C': 215.44346900318823, 'gamma': 46.415888336127729},\n",
        " mean: 0.55435, std: 0.00000, params: {'C': 215.44346900318823, 'gamma': 215.44346900318823},\n",
        " mean: 0.55435, std: 0.00000, params: {'C': 215.44346900318823, 'gamma': 1000.0},\n",
        " mean: 0.65217, std: 0.00000, params: {'C': 1000.0, 'gamma': 0.001},\n",
        " mean: 0.61594, std: 0.02600, params: {'C': 1000.0, 'gamma': 0.0046415888336127772},\n",
        " mean: 0.51449, std: 0.01117, params: {'C': 1000.0, 'gamma': 0.021544346900318832},\n",
        " mean: 0.54348, std: 0.00444, params: {'C': 1000.0, 'gamma': 0.10000000000000001},\n",
        " mean: 0.55616, std: 0.00256, params: {'C': 1000.0, 'gamma': 0.46415888336127775},\n",
        " mean: 0.55435, std: 0.00000, params: {'C': 1000.0, 'gamma': 2.154434690031882},\n",
        " mean: 0.55435, std: 0.00000, params: {'C': 1000.0, 'gamma': 10.0},\n",
        " mean: 0.55435, std: 0.00000, params: {'C': 1000.0, 'gamma': 46.415888336127729},\n",
        " mean: 0.55435, std: 0.00000, params: {'C': 1000.0, 'gamma': 215.44346900318823},\n",
        " mean: 0.55435, std: 0.00000, params: {'C': 1000.0, 'gamma': 1000.0}]"
       ]
      }
     ],
     "prompt_number": 72
    },
    {
     "cell_type": "code",
     "collapsed": false,
     "input": [
      "# LogReg and LinearSVC worked pretty well. Non-linear SVC did not - not sure why. "
     ],
     "language": "python",
     "metadata": {},
     "outputs": []
    }
   ],
   "metadata": {}
  }
 ]
}