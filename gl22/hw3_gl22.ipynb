{
 "metadata": {
  "name": "",
  "signature": "sha256:e9caa3fa9eaee5b0c08a4cdddc7bee22613414eff328b243b2cf6106780d8cf1"
 },
 "nbformat": 3,
 "nbformat_minor": 0,
 "worksheets": [
  {
   "cells": [
    {
     "cell_type": "markdown",
     "metadata": {},
     "source": [
      "#HW 3: KNN & Random Forest\n",
      "Get your data [here](https://archive.ics.uci.edu/ml/datasets/Bank+Marketing). The data is related with direct marketing campaigns of a Portuguese banking institution. The marketing campaigns were based on phone calls. Often, more than one contact to the same client was required, in order to access if the product (bank term deposit) would be ('yes') or not ('no') subscribed. There are four datasets:\n",
      "\n",
      "1) bank-additional-full.csv with all examples (41188) and 20 inputs, ordered by date (from May 2008 to November 2010)\n",
      "\n",
      "2) bank-additional.csv with 10% of the examples (4119), randomly selected from 1), and 20 inputs.\n",
      "\n",
      "3) bank-full.csv with all examples and 17 inputs, ordered by date (older version of this dataset with less inputs). \n",
      "\n",
      "4) bank.csv with 10% of the examples and 17 inputs, randomly selected from 3 (older version of this dataset with less inputs). \n",
      "\n",
      "The smallest datasets are provided to test more computationally demanding machine \n",
      "learning algorithms (e.g., SVM). \n",
      "\n",
      "The classification goal is to predict if the client will subscribe (yes/no) a term deposit (variable y)."
     ]
    },
    {
     "cell_type": "markdown",
     "metadata": {},
     "source": [
      "##Assignment\n",
      "* Preprocess your data (you may find `LabelEncoder` useful)\n",
      "* Train both KNN and Random Forest models\n",
      "* Find the best parameters by computing their learning curve (feel free to verify this with grid search)\n",
      "* Create a clasification report\n",
      "* Inspect your models, what features are most important? How might you use this information to improve model precision?\n"
     ]
    },
    {
     "cell_type": "code",
     "collapsed": false,
     "input": [
      "# Standard imports\n",
      "import pandas as pd\n",
      "import numpy as np\n",
      "import matplotlib as mpl\n",
      "import matplotlib.pyplot as plt\n",
      "from sklearn import preprocessing\n",
      "\n",
      "pd.set_option('display.max_rows', 10)"
     ],
     "language": "python",
     "metadata": {},
     "outputs": [],
     "prompt_number": 8
    },
    {
     "cell_type": "code",
     "collapsed": false,
     "input": [
      "print 'Pandas:', pd.__version__\n",
      "print 'Numpy:', np.__version__\n",
      "print 'Matplotlib:', mpl.__version__"
     ],
     "language": "python",
     "metadata": {},
     "outputs": [
      {
       "output_type": "stream",
       "stream": "stdout",
       "text": [
        "Pandas: 0.14.1\n",
        "Numpy: 1.9.1\n",
        "Matplotlib: 1.4.2\n"
       ]
      }
     ],
     "prompt_number": 9
    },
    {
     "cell_type": "code",
     "collapsed": false,
     "input": [
      "data_addl = pd.read_csv('bank-additional-full.csv', delimiter=\";\")\n",
      "data_addl.describe()\n",
      "#data_addl.info()\n",
      "data_addl.education.unique()\n",
      "data_addl.month.unique()\n",
      "#need to encode job, marital, education, default, housing, loan, contact, month, day_of_week, poutcome, y? \n",
      " "
     ],
     "language": "python",
     "metadata": {},
     "outputs": [
      {
       "metadata": {},
       "output_type": "pyout",
       "prompt_number": 10,
       "text": [
        "array(['may', 'jun', 'jul', 'aug', 'oct', 'nov', 'dec', 'mar', 'apr', 'sep'], dtype=object)"
       ]
      }
     ],
     "prompt_number": 10
    },
    {
     "cell_type": "code",
     "collapsed": false,
     "input": [
      "obj_fields = ['y','job', 'marital', 'education', 'default', 'housing', 'loan', 'contact', 'month', 'day_of_week', 'poutcome']\n",
      "num_fields = ['age','duration','campaign','pdays','previous','emp.var.rate','cons.price.idx','cons.conf.idx','euribor3m','nr.employed']\n",
      "\n",
      "dataX = data_addl[num_fields]\n",
      "\n",
      "\n",
      "for field in obj_fields:\n",
      "    print field\n",
      "    le = preprocessing.LabelEncoder()\n",
      "    le.fit(data_addl[field])\n",
      "#    print list(le.classes_)\n",
      "    data_addl[field] = le.transform(data_addl[field])\n",
      "#    le_field = pd.DataFrame(le_field)\n",
      "#    print len(le_field)\n",
      "#    print le_field_df.info()\n",
      "#    dataX.append(le_field, ignore_index=True)\n",
      "#    print dataX.columns\n",
      "    #print data_addl.head()\n",
      "print data_addl.describe()\n"
     ],
     "language": "python",
     "metadata": {},
     "outputs": [
      {
       "output_type": "stream",
       "stream": "stdout",
       "text": [
        "y\n",
        "job\n",
        "marital\n",
        "education"
       ]
      },
      {
       "output_type": "stream",
       "stream": "stdout",
       "text": [
        "\n",
        "default\n",
        "housing\n",
        "loan"
       ]
      },
      {
       "output_type": "stream",
       "stream": "stdout",
       "text": [
        "\n",
        "contact\n",
        "month\n",
        "day_of_week\n",
        "poutcome"
       ]
      },
      {
       "output_type": "stream",
       "stream": "stdout",
       "text": [
        "\n",
        "               age          job       marital     education       default  \\\n",
        "count  41188.00000  41188.00000  41188.000000  41188.000000  41188.000000   \n",
        "mean      40.02406      3.72458      1.172769      3.747184      0.208872   \n",
        "std       10.42125      3.59456      0.608902      2.136482      0.406686   \n",
        "min       17.00000      0.00000      0.000000      0.000000      0.000000   \n",
        "25%       32.00000      0.00000      1.000000      2.000000      0.000000   \n",
        "50%       38.00000      2.00000      1.000000      3.000000      0.000000   \n",
        "75%       47.00000      7.00000      2.000000      6.000000      0.000000   \n",
        "max       98.00000     11.00000      3.000000      7.000000      2.000000   \n",
        "\n",
        "            housing          loan       contact         month   day_of_week  \\\n",
        "count  41188.000000  41188.000000  41188.000000  41188.000000  41188.000000   \n",
        "mean       1.071720      0.327425      0.365252      4.230868      2.004613   \n",
        "std        0.985314      0.723616      0.481507      2.320025      1.397575   \n",
        "min        0.000000      0.000000      0.000000      0.000000      0.000000   \n",
        "25%        0.000000      0.000000      0.000000      3.000000      1.000000   \n",
        "50%        2.000000      0.000000      0.000000      4.000000      2.000000   \n",
        "75%        2.000000      0.000000      1.000000      6.000000      3.000000   \n",
        "max        2.000000      2.000000      1.000000      9.000000      4.000000   \n",
        "\n",
        "           ...           campaign         pdays      previous      poutcome  \\\n",
        "count      ...       41188.000000  41188.000000  41188.000000  41188.000000   \n",
        "mean       ...           2.567593    962.475454      0.172963      0.930101   \n",
        "std        ...           2.770014    186.910907      0.494901      0.362886   \n",
        "min        ...           1.000000      0.000000      0.000000      0.000000   \n",
        "25%        ...           1.000000    999.000000      0.000000      1.000000   \n",
        "50%        ...           2.000000    999.000000      0.000000      1.000000   \n",
        "75%        ...           3.000000    999.000000      0.000000      1.000000   \n",
        "max        ...          56.000000    999.000000      7.000000      2.000000   \n",
        "\n",
        "       emp.var.rate  cons.price.idx  cons.conf.idx     euribor3m  \\\n",
        "count  41188.000000    41188.000000   41188.000000  41188.000000   \n",
        "mean       0.081886       93.575664     -40.502600      3.621291   \n",
        "std        1.570960        0.578840       4.628198      1.734447   \n",
        "min       -3.400000       92.201000     -50.800000      0.634000   \n",
        "25%       -1.800000       93.075000     -42.700000      1.344000   \n",
        "50%        1.100000       93.749000     -41.800000      4.857000   \n",
        "75%        1.400000       93.994000     -36.400000      4.961000   \n",
        "max        1.400000       94.767000     -26.900000      5.045000   \n",
        "\n",
        "        nr.employed             y  \n",
        "count  41188.000000  41188.000000  \n",
        "mean    5167.035911      0.112654  \n",
        "std       72.251528      0.316173  \n",
        "min     4963.600000      0.000000  \n",
        "25%     5099.100000      0.000000  \n",
        "50%     5191.000000      0.000000  \n",
        "75%     5228.100000      0.000000  \n",
        "max     5228.100000      1.000000  \n",
        "\n",
        "[8 rows x 21 columns]"
       ]
      },
      {
       "output_type": "stream",
       "stream": "stdout",
       "text": [
        "\n"
       ]
      }
     ],
     "prompt_number": 11
    },
    {
     "cell_type": "code",
     "collapsed": false,
     "input": [
      "\n",
      "le_df = pd.DataFrame(lelist)\n",
      "le_df = le_df.transpose()\n",
      "le_df.columns = fields\n"
     ],
     "language": "python",
     "metadata": {},
     "outputs": [
      {
       "ename": "NameError",
       "evalue": "name 'lelist' is not defined",
       "output_type": "pyerr",
       "traceback": [
        "\u001b[1;31m---------------------------------------------------------------------------\u001b[0m\n\u001b[1;31mNameError\u001b[0m                                 Traceback (most recent call last)",
        "\u001b[1;32m<ipython-input-12-b3df6792a525>\u001b[0m in \u001b[0;36m<module>\u001b[1;34m()\u001b[0m\n\u001b[0;32m      1\u001b[0m \u001b[1;33m\u001b[0m\u001b[0m\n\u001b[1;32m----> 2\u001b[1;33m \u001b[0mle_df\u001b[0m \u001b[1;33m=\u001b[0m \u001b[0mpd\u001b[0m\u001b[1;33m.\u001b[0m\u001b[0mDataFrame\u001b[0m\u001b[1;33m(\u001b[0m\u001b[0mlelist\u001b[0m\u001b[1;33m)\u001b[0m\u001b[1;33m\u001b[0m\u001b[0m\n\u001b[0m\u001b[0;32m      3\u001b[0m \u001b[0mle_df\u001b[0m \u001b[1;33m=\u001b[0m \u001b[0mle_df\u001b[0m\u001b[1;33m.\u001b[0m\u001b[0mtranspose\u001b[0m\u001b[1;33m(\u001b[0m\u001b[1;33m)\u001b[0m\u001b[1;33m\u001b[0m\u001b[0m\n\u001b[0;32m      4\u001b[0m \u001b[0mle_df\u001b[0m\u001b[1;33m.\u001b[0m\u001b[0mcolumns\u001b[0m \u001b[1;33m=\u001b[0m \u001b[0mfields\u001b[0m\u001b[1;33m\u001b[0m\u001b[0m\n",
        "\u001b[1;31mNameError\u001b[0m: name 'lelist' is not defined"
       ]
      }
     ],
     "prompt_number": 12
    },
    {
     "cell_type": "code",
     "collapsed": false,
     "input": [
      "#le_df.head()\n",
      "#data_addl.info()\n",
      "#num_fields = ['age','duration','campaign','pdays','previous','emp.var.rate','cons.price.idx','cons.conf.idx','euribor3m','nr.employed']\n",
      "\n",
      "\n",
      "#data = le_df.merge(data_addl[num_fields], ignore_index=True)\n",
      "data_fields = [col for col in data_addl.columns if col not in ['y']]\n",
      "print data_fields\n",
      "features = data_addl[data_fields]\n",
      "features.head()"
     ],
     "language": "python",
     "metadata": {},
     "outputs": [
      {
       "output_type": "stream",
       "stream": "stdout",
       "text": [
        "['age', 'job', 'marital', 'education', 'default', 'housing', 'loan', 'contact', 'month', 'day_of_week', 'duration', 'campaign', 'pdays', 'previous', 'poutcome', 'emp.var.rate', 'cons.price.idx', 'cons.conf.idx', 'euribor3m', 'nr.employed']\n"
       ]
      },
      {
       "html": [
        "<div style=\"max-height:1000px;max-width:1500px;overflow:auto;\">\n",
        "<table border=\"1\" class=\"dataframe\">\n",
        "  <thead>\n",
        "    <tr style=\"text-align: right;\">\n",
        "      <th></th>\n",
        "      <th>age</th>\n",
        "      <th>job</th>\n",
        "      <th>marital</th>\n",
        "      <th>education</th>\n",
        "      <th>default</th>\n",
        "      <th>housing</th>\n",
        "      <th>loan</th>\n",
        "      <th>contact</th>\n",
        "      <th>month</th>\n",
        "      <th>day_of_week</th>\n",
        "      <th>duration</th>\n",
        "      <th>campaign</th>\n",
        "      <th>pdays</th>\n",
        "      <th>previous</th>\n",
        "      <th>poutcome</th>\n",
        "      <th>emp.var.rate</th>\n",
        "      <th>cons.price.idx</th>\n",
        "      <th>cons.conf.idx</th>\n",
        "      <th>euribor3m</th>\n",
        "      <th>nr.employed</th>\n",
        "    </tr>\n",
        "  </thead>\n",
        "  <tbody>\n",
        "    <tr>\n",
        "      <th>0</th>\n",
        "      <td> 56</td>\n",
        "      <td> 3</td>\n",
        "      <td> 1</td>\n",
        "      <td> 0</td>\n",
        "      <td> 0</td>\n",
        "      <td> 0</td>\n",
        "      <td> 0</td>\n",
        "      <td> 1</td>\n",
        "      <td> 6</td>\n",
        "      <td> 1</td>\n",
        "      <td> 261</td>\n",
        "      <td> 1</td>\n",
        "      <td> 999</td>\n",
        "      <td> 0</td>\n",
        "      <td> 1</td>\n",
        "      <td> 1.1</td>\n",
        "      <td> 93.994</td>\n",
        "      <td>-36.4</td>\n",
        "      <td> 4.857</td>\n",
        "      <td> 5191</td>\n",
        "    </tr>\n",
        "    <tr>\n",
        "      <th>1</th>\n",
        "      <td> 57</td>\n",
        "      <td> 7</td>\n",
        "      <td> 1</td>\n",
        "      <td> 3</td>\n",
        "      <td> 1</td>\n",
        "      <td> 0</td>\n",
        "      <td> 0</td>\n",
        "      <td> 1</td>\n",
        "      <td> 6</td>\n",
        "      <td> 1</td>\n",
        "      <td> 149</td>\n",
        "      <td> 1</td>\n",
        "      <td> 999</td>\n",
        "      <td> 0</td>\n",
        "      <td> 1</td>\n",
        "      <td> 1.1</td>\n",
        "      <td> 93.994</td>\n",
        "      <td>-36.4</td>\n",
        "      <td> 4.857</td>\n",
        "      <td> 5191</td>\n",
        "    </tr>\n",
        "    <tr>\n",
        "      <th>2</th>\n",
        "      <td> 37</td>\n",
        "      <td> 7</td>\n",
        "      <td> 1</td>\n",
        "      <td> 3</td>\n",
        "      <td> 0</td>\n",
        "      <td> 2</td>\n",
        "      <td> 0</td>\n",
        "      <td> 1</td>\n",
        "      <td> 6</td>\n",
        "      <td> 1</td>\n",
        "      <td> 226</td>\n",
        "      <td> 1</td>\n",
        "      <td> 999</td>\n",
        "      <td> 0</td>\n",
        "      <td> 1</td>\n",
        "      <td> 1.1</td>\n",
        "      <td> 93.994</td>\n",
        "      <td>-36.4</td>\n",
        "      <td> 4.857</td>\n",
        "      <td> 5191</td>\n",
        "    </tr>\n",
        "    <tr>\n",
        "      <th>3</th>\n",
        "      <td> 40</td>\n",
        "      <td> 0</td>\n",
        "      <td> 1</td>\n",
        "      <td> 1</td>\n",
        "      <td> 0</td>\n",
        "      <td> 0</td>\n",
        "      <td> 0</td>\n",
        "      <td> 1</td>\n",
        "      <td> 6</td>\n",
        "      <td> 1</td>\n",
        "      <td> 151</td>\n",
        "      <td> 1</td>\n",
        "      <td> 999</td>\n",
        "      <td> 0</td>\n",
        "      <td> 1</td>\n",
        "      <td> 1.1</td>\n",
        "      <td> 93.994</td>\n",
        "      <td>-36.4</td>\n",
        "      <td> 4.857</td>\n",
        "      <td> 5191</td>\n",
        "    </tr>\n",
        "    <tr>\n",
        "      <th>4</th>\n",
        "      <td> 56</td>\n",
        "      <td> 7</td>\n",
        "      <td> 1</td>\n",
        "      <td> 3</td>\n",
        "      <td> 0</td>\n",
        "      <td> 0</td>\n",
        "      <td> 2</td>\n",
        "      <td> 1</td>\n",
        "      <td> 6</td>\n",
        "      <td> 1</td>\n",
        "      <td> 307</td>\n",
        "      <td> 1</td>\n",
        "      <td> 999</td>\n",
        "      <td> 0</td>\n",
        "      <td> 1</td>\n",
        "      <td> 1.1</td>\n",
        "      <td> 93.994</td>\n",
        "      <td>-36.4</td>\n",
        "      <td> 4.857</td>\n",
        "      <td> 5191</td>\n",
        "    </tr>\n",
        "  </tbody>\n",
        "</table>\n",
        "</div>"
       ],
       "metadata": {},
       "output_type": "pyout",
       "prompt_number": 13,
       "text": [
        "   age  job  marital  education  default  housing  loan  contact  month  \\\n",
        "0   56    3        1          0        0        0     0        1      6   \n",
        "1   57    7        1          3        1        0     0        1      6   \n",
        "2   37    7        1          3        0        2     0        1      6   \n",
        "3   40    0        1          1        0        0     0        1      6   \n",
        "4   56    7        1          3        0        0     2        1      6   \n",
        "\n",
        "   day_of_week  duration  campaign  pdays  previous  poutcome  emp.var.rate  \\\n",
        "0            1       261         1    999         0         1           1.1   \n",
        "1            1       149         1    999         0         1           1.1   \n",
        "2            1       226         1    999         0         1           1.1   \n",
        "3            1       151         1    999         0         1           1.1   \n",
        "4            1       307         1    999         0         1           1.1   \n",
        "\n",
        "   cons.price.idx  cons.conf.idx  euribor3m  nr.employed  \n",
        "0          93.994          -36.4      4.857         5191  \n",
        "1          93.994          -36.4      4.857         5191  \n",
        "2          93.994          -36.4      4.857         5191  \n",
        "3          93.994          -36.4      4.857         5191  \n",
        "4          93.994          -36.4      4.857         5191  "
       ]
      }
     ],
     "prompt_number": 13
    },
    {
     "cell_type": "code",
     "collapsed": false,
     "input": [
      "from sklearn.cross_validation import train_test_split\n",
      "\n",
      "X_train, X_test, y_train, y_test = train_test_split(features, data_addl.y, test_size=0.3)"
     ],
     "language": "python",
     "metadata": {},
     "outputs": [],
     "prompt_number": 14
    },
    {
     "cell_type": "code",
     "collapsed": false,
     "input": [
      "from sklearn.cross_validation import cross_val_score\n",
      "from sklearn.ensemble import RandomForestClassifier\n",
      "from sklearn.tree import DecisionTreeClassifier\n",
      "X_train = pd.DataFrame(X_train, columns=features.columns)"
     ],
     "language": "python",
     "metadata": {},
     "outputs": [],
     "prompt_number": 15
    },
    {
     "cell_type": "code",
     "collapsed": false,
     "input": [
      "%%time\n",
      "rf_model = RandomForestClassifier(n_estimators=100,max_depth=15,criterion='entropy')\n",
      "rf_model.fit(X_train, y_train)\n",
      "print cross_val_score(rf_model, X_train, y_train).mean()"
     ],
     "language": "python",
     "metadata": {},
     "outputs": [
      {
       "output_type": "stream",
       "stream": "stdout",
       "text": [
        "0.913634758498\n",
        "Wall time: 9.13 s\n"
       ]
      }
     ],
     "prompt_number": 16
    },
    {
     "cell_type": "code",
     "collapsed": false,
     "input": [
      "#importance\n",
      "sorted(zip(rf_model.feature_importances_,features.columns),reverse=True)\n",
      "#sorted(zip(rf_model.feature_importances_, vectorizer.get_feature_names()), reverse=True)[:20]"
     ],
     "language": "python",
     "metadata": {},
     "outputs": [
      {
       "metadata": {},
       "output_type": "pyout",
       "prompt_number": 17,
       "text": [
        "[(0.3610549594527131, 'duration'),\n",
        " (0.11609582624771214, 'euribor3m'),\n",
        " (0.090188910652724719, 'nr.employed'),\n",
        " (0.064971854874751378, 'age'),\n",
        " (0.041317250277320597, 'emp.var.rate'),\n",
        " (0.033920827816514169, 'job'),\n",
        " (0.032878569339131608, 'cons.conf.idx'),\n",
        " (0.032082502003733221, 'education'),\n",
        " (0.031539582407124664, 'pdays'),\n",
        " (0.031100430616478481, 'campaign'),\n",
        " (0.030369118288527598, 'day_of_week'),\n",
        " (0.02464954291719999, 'month'),\n",
        " (0.022665648130125358, 'cons.price.idx'),\n",
        " (0.018474401106435095, 'poutcome'),\n",
        " (0.01667205779792609, 'marital'),\n",
        " (0.013492804429195289, 'housing'),\n",
        " (0.010875887461125576, 'loan'),\n",
        " (0.010769701699461705, 'previous'),\n",
        " (0.0093314597867219812, 'contact'),\n",
        " (0.0075486646950773161, 'default')]"
       ]
      }
     ],
     "prompt_number": 17
    },
    {
     "cell_type": "code",
     "collapsed": false,
     "input": [
      "from sklearn.neighbors import KNeighborsClassifier\n",
      "from sklearn.metrics import confusion_matrix\n",
      "\n",
      "neigh = KNeighborsClassifier(n_neighbors=2)\n",
      "neigh.fit(X_train, y_train) \n",
      "y_pred = neigh.predict(X_test)\n",
      "\n",
      "\n",
      "def plot_confusion_matrix(y_pred, y):\n",
      "    plt.imshow(confusion_matrix(y, y_pred),\n",
      "               cmap=plt.cm.binary, interpolation='nearest')\n",
      "    plt.colorbar()\n",
      "    plt.xlabel('true value')\n",
      "    plt.ylabel('predicted value')\n",
      "    \n",
      "plot_confusion_matrix(y_pred,y_test)"
     ],
     "language": "python",
     "metadata": {},
     "outputs": [
      {
       "metadata": {},
       "output_type": "display_data",
       "png": "[encoded data removed]",
       "text": [
        "<matplotlib.figure.Figure at 0x18c165f8>"
       ]
      }
     ],
     "prompt_number": 18
    },
    {
     "cell_type": "code",
     "collapsed": false,
     "input": [
      "from sklearn.metrics import classification_report\n",
      "print classification_report(y_test,y_pred)"
     ],
     "language": "python",
     "metadata": {},
     "outputs": [
      {
       "output_type": "stream",
       "stream": "stdout",
       "text": [
        "             precision    recall  f1-score   support\n",
        "\n",
        "          0       0.92      0.98      0.95     10992\n",
        "          1       0.60      0.29      0.39      1365\n",
        "\n",
        "avg / total       0.88      0.90      0.88     12357\n",
        "\n"
       ]
      }
     ],
     "prompt_number": 19
    },
    {
     "cell_type": "code",
     "collapsed": false,
     "input": [
      "%matplotlib inline\n",
      "import numpy as np\n",
      "import matplotlib.pyplot as plt\n",
      "from sklearn.learning_curve import learning_curve\n",
      "\n",
      "def plot_learning_curve(estimator, title, X, y, ylim=None, cv=None,\n",
      "                        n_jobs=1, train_sizes=np.linspace(.1, 1.0, 5)):\n",
      "    \"\"\"\n",
      "    Generate a simple plot of the test and traning learning curve.\n",
      "\n",
      "    Parameters\n",
      "    ----------\n",
      "    estimator : object type that implements the \"fit\" and \"predict\" methods\n",
      "        An object of that type which is cloned for each validation.\n",
      "\n",
      "    title : string\n",
      "        Title for the chart.\n",
      "\n",
      "    X : array-like, shape (n_samples, n_features)\n",
      "        Training vector, where n_samples is the number of samples and\n",
      "        n_features is the number of features.\n",
      "\n",
      "    y : array-like, shape (n_samples) or (n_samples, n_features), optional\n",
      "        Target relative to X for classification or regression;\n",
      "        None for unsupervised learning.\n",
      "\n",
      "    ylim : tuple, shape (ymin, ymax), optional\n",
      "        Defines minimum and maximum yvalues plotted.\n",
      "\n",
      "    cv : integer, cross-validation generator, optional\n",
      "        If an integer is passed, it is the number of folds (defaults to 3).\n",
      "        Specific cross-validation objects can be passed, see\n",
      "        sklearn.cross_validation module for the list of possible objects\n",
      "\n",
      "    n_jobs : integer, optional\n",
      "        Number of jobs to run in parallel (default 1).\n",
      "    \"\"\"\n",
      "    plt.figure()\n",
      "    plt.title(title)\n",
      "    if ylim is not None:\n",
      "        plt.ylim(*ylim)\n",
      "    plt.xlabel(\"Training examples\")\n",
      "    plt.ylabel(\"Score\")\n",
      "    train_sizes, train_scores, test_scores = learning_curve(\n",
      "        estimator, X, y, cv=cv, n_jobs=n_jobs, train_sizes=train_sizes)\n",
      "    train_scores_mean = np.mean(train_scores, axis=1)\n",
      "    train_scores_std = np.std(train_scores, axis=1)\n",
      "    test_scores_mean = np.mean(test_scores, axis=1)\n",
      "    test_scores_std = np.std(test_scores, axis=1)\n",
      "    plt.grid()\n",
      "\n",
      "    plt.fill_between(train_sizes, train_scores_mean - train_scores_std,\n",
      "                     train_scores_mean + train_scores_std, alpha=0.1,\n",
      "                     color=\"r\")\n",
      "    plt.fill_between(train_sizes, test_scores_mean - test_scores_std,\n",
      "                     test_scores_mean + test_scores_std, alpha=0.1, color=\"g\")\n",
      "    plt.plot(train_sizes, train_scores_mean, 'o-', color=\"r\",\n",
      "             label=\"Training score\")\n",
      "    plt.plot(train_sizes, test_scores_mean, 'o-', color=\"g\",\n",
      "             label=\"Cross-validation score\")\n",
      "\n",
      "    plt.legend(loc=\"best\")\n",
      "    return plt"
     ],
     "language": "python",
     "metadata": {},
     "outputs": [],
     "prompt_number": 20
    },
    {
     "cell_type": "code",
     "collapsed": false,
     "input": [
      "%%time\n",
      "#this is an example of 1 learning curve for 1 model, try a few more.\n",
      "_ = plot_learning_curve(RandomForestClassifier(n_estimators=100),'test',X_train,y_train)"
     ],
     "language": "python",
     "metadata": {},
     "outputs": [
      {
       "output_type": "stream",
       "stream": "stdout",
       "text": [
        "Wall time: 20.7 s\n"
       ]
      },
      {
       "metadata": {},
       "output_type": "display_data",
       "png": "[encoded data removed]",
       "text": [
        "<matplotlib.figure.Figure at 0x1b034dd8>"
       ]
      }
     ],
     "prompt_number": 21
    },
    {
     "cell_type": "code",
     "collapsed": false,
     "input": [],
     "language": "python",
     "metadata": {},
     "outputs": []
    }
   ],
   "metadata": {}
  }
 ]
}