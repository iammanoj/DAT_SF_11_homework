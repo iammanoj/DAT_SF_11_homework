{
 "metadata": {
  "name": "",
  "signature": "sha256:357f5133b04c907ba179176a284c17432119cbbc199c26a50defa4fb99f38cc6"
 },
 "nbformat": 3,
 "nbformat_minor": 0,
 "worksheets": [
  {
   "cells": [
    {
     "cell_type": "code",
     "collapsed": false,
     "input": [
      "from __future__ import print_function\n",
      "import pandas as pd\n",
      "import numpy as np\n",
      "import matplotlib.pyplot as plt\n",
      "from sklearn.cross_validation import train_test_split\n",
      "from sklearn.svm import LinearSVC\n",
      "from sklearn.grid_search import GridSearchCV\n",
      "import random\n",
      "\n",
      "\n",
      "# This enables inline Plots\n",
      "%matplotlib inline\n"
     ],
     "language": "python",
     "metadata": {},
     "outputs": [],
     "prompt_number": 4
    },
    {
     "cell_type": "code",
     "collapsed": false,
     "input": [
      "#bookings = pd.read_csv('../data/bookings.csv')\n",
      "data = pd.read_table('crx.data',sep=',', header = None, na_values='?')\n",
      "#print(data.describe())\n",
      "#print(data.info())"
     ],
     "language": "python",
     "metadata": {},
     "outputs": [],
     "prompt_number": 5
    },
    {
     "cell_type": "code",
     "collapsed": false,
     "input": [
      "#Missing values\n",
      "\n",
      "#    A1:  12 --> category... will not impute\n",
      "#    A2:  12\n",
      "#    A4:   6 --> category... will not impute\n",
      "#    A5:   6 --> category... will not impute\n",
      "#    A6:   9 --> category... will not impute\n",
      "#    A7:   9 --> category... will not impute\n",
      "#    A14: 13 \n",
      "\n",
      "\n",
      "#Impute Function\n",
      "def get_data_impute_values(column, n):\n",
      "    return np.random.normal(column.mean(), column.std(), n)\n",
      "\n",
      "#col 1\n",
      "#Impute!\n",
      "data1_missing_mask = data[1].isnull()\n",
      "#print('Mean col 1:', data[1].mean())\n",
      "#print('Std col 1:', data[1].std())\n",
      "data.loc[data[1].isnull(),1] = get_data_impute_values(data[1],n=12)\n",
      "\n",
      "#Col 13\n",
      "data[data[13].isnull()]\n",
      "data.loc[data[13].isnull(),13] = get_data_impute_values(data[13],n=len(data[13].isnull()))"
     ],
     "language": "python",
     "metadata": {},
     "outputs": [],
     "prompt_number": 6
    },
    {
     "cell_type": "code",
     "collapsed": false,
     "input": [
      "#change column 15 to 0's and 1s\n",
      "data.loc[data[15] == '+',15] = 1\n",
      "data.loc[data[15] == '-',15] = 0\n",
      "data[15] = data[15].astype(int)\n",
      "data.info()\n",
      "\n",
      "#Drop NAs\n",
      "data = data.dropna()\n",
      "data.info()"
     ],
     "language": "python",
     "metadata": {},
     "outputs": [
      {
       "output_type": "stream",
       "stream": "stdout",
       "text": [
        "<class 'pandas.core.frame.DataFrame'>\n",
        "Int64Index: 690 entries, 0 to 689\n",
        "Data columns (total 16 columns):\n",
        "0     678 non-null object\n",
        "1     690 non-null float64\n",
        "2     690 non-null float64\n",
        "3     684 non-null object\n",
        "4     684 non-null object\n",
        "5     681 non-null object\n",
        "6     681 non-null object\n",
        "7     690 non-null float64\n",
        "8     690 non-null object\n",
        "9     690 non-null object\n",
        "10    690 non-null int64\n",
        "11    690 non-null object\n",
        "12    690 non-null object\n",
        "13    690 non-null float64\n",
        "14    690 non-null int64\n",
        "15    690 non-null int32\n",
        "dtypes: float64(4), int32(1), int64(2), object(9)<class 'pandas.core.frame.DataFrame'>\n",
        "Int64Index: 671 entries, 0 to 689\n",
        "Data columns (total 16 columns):\n",
        "0     671 non-null object\n",
        "1     671 non-null float64\n",
        "2     671 non-null float64\n",
        "3     671 non-null object\n",
        "4     671 non-null object\n",
        "5     671 non-null object\n",
        "6     671 non-null object\n",
        "7     671 non-null float64\n",
        "8     671 non-null object\n",
        "9     671 non-null object\n",
        "10    671 non-null int64\n",
        "11    671 non-null object\n",
        "12    671 non-null object\n",
        "13    671 non-null float64\n",
        "14    671 non-null int64\n",
        "15    671 non-null int32\n",
        "dtypes: float64(4), int32(1), int64(2), object(9)"
       ]
      }
     ],
     "prompt_number": 7
    },
    {
     "cell_type": "code",
     "collapsed": false,
     "input": [
      "#Create Dummy Variables\n",
      "cat_data = [0,3,4,5,6,8,9,11,12]\n",
      "num_data = [1,2,7,10,13,14]\n",
      "dataX = data[num_data]\n",
      "#new_data = data[cat_data]\n",
      "\n",
      "#new_data = pd.get_dummies(new_data)\n",
      "for i in cat_data:\n",
      "    dataX = dataX.merge(pd.get_dummies(data[i],i), right_index=True, left_index=True)\n",
      "    print(i, len(dataX))\n"
     ],
     "language": "python",
     "metadata": {},
     "outputs": [
      {
       "output_type": "stream",
       "stream": "stdout",
       "text": [
        "0 671\n",
        "3 671\n",
        "4 671\n",
        "5 671\n",
        "6 671\n",
        "8 671\n",
        "9 671\n",
        "11 671\n",
        "12 671\n"
       ]
      }
     ],
     "prompt_number": 8
    },
    {
     "cell_type": "code",
     "collapsed": false,
     "input": [
      "#Split Data\n",
      "X_train, X_test, y_train, y_test = train_test_split(dataX, data[15], random_state=12, test_size=0.3)"
     ],
     "language": "python",
     "metadata": {},
     "outputs": [],
     "prompt_number": 9
    },
    {
     "cell_type": "code",
     "collapsed": false,
     "input": [
      "from sklearn.linear_model import LogisticRegression\n",
      "clf = LogisticRegression()\n",
      "clf.fit(X_train, y_train)\n",
      "clf.score(X_test, y_test)"
     ],
     "language": "python",
     "metadata": {},
     "outputs": [
      {
       "metadata": {},
       "output_type": "pyout",
       "prompt_number": 10,
       "text": [
        "0.86138613861386137"
       ]
      }
     ],
     "prompt_number": 10
    },
    {
     "cell_type": "code",
     "collapsed": false,
     "input": [
      "from sklearn.metrics import confusion_matrix, classification_report\n",
      "y_pred = clf.predict(X_test)"
     ],
     "language": "python",
     "metadata": {},
     "outputs": [],
     "prompt_number": 11
    },
    {
     "cell_type": "code",
     "collapsed": false,
     "input": [
      "# Confusion Matrix for Type 1 and Type 2 Error\n",
      "confusion_matrix(y_test, y_pred)"
     ],
     "language": "python",
     "metadata": {},
     "outputs": [
      {
       "metadata": {},
       "output_type": "pyout",
       "prompt_number": 12,
       "text": [
        "array([[95, 14],\n",
        "       [14, 79]])"
       ]
      }
     ],
     "prompt_number": 12
    },
    {
     "cell_type": "code",
     "collapsed": false,
     "input": [
      "import seaborn as sns\n",
      "# Examine Precision and Recall\n",
      "print(classification_report(y_test, y_pred))\n",
      "# Take a look at Predicted vs True Values\n",
      "sns.regplot(y_pred, y_test, x_jitter=0.1, y_jitter=0.1)"
     ],
     "language": "python",
     "metadata": {},
     "outputs": [
      {
       "output_type": "stream",
       "stream": "stdout",
       "text": [
        "             precision    recall  f1-score   support\n",
        "\n",
        "          0       0.87      0.87      0.87       109\n",
        "          1       0.85      0.85      0.85        93\n",
        "\n",
        "avg / total       0.86      0.86      0.86       202\n",
        "\n"
       ]
      },
      {
       "metadata": {},
       "output_type": "pyout",
       "prompt_number": 13,
       "text": [
        "<matplotlib.axes._subplots.AxesSubplot at 0x1751af60>"
       ]
      },
      {
       "metadata": {},
       "output_type": "display_data",
       "png": "[encoded data removed]",
       "text": [
        "<matplotlib.figure.Figure at 0x16c102e8>"
       ]
      }
     ],
     "prompt_number": 13
    },
    {
     "cell_type": "code",
     "collapsed": false,
     "input": [],
     "language": "python",
     "metadata": {},
     "outputs": [],
     "prompt_number": 13
    },
    {
     "cell_type": "code",
     "collapsed": false,
     "input": [],
     "language": "python",
     "metadata": {},
     "outputs": [],
     "prompt_number": 13
    },
    {
     "cell_type": "code",
     "collapsed": false,
     "input": [
      "#SVM\n",
      "#initialize C=1e-3\n",
      "random.seed(1)\n",
      "C=1e-3\n",
      "est = LinearSVC(C=C)\n",
      "est.fit(X_train, y_train)\n",
      "est.score(X_test, y_test)"
     ],
     "language": "python",
     "metadata": {},
     "outputs": [
      {
       "metadata": {},
       "output_type": "pyout",
       "prompt_number": 14,
       "text": [
        "0.82673267326732669"
       ]
      }
     ],
     "prompt_number": 14
    },
    {
     "cell_type": "code",
     "collapsed": false,
     "input": [
      "from sklearn import svm, grid_search, datasets\n",
      "parameters = {'kernel':['rbf'], 'C':np.logspace(-3.,3.,10),'gamma':np.logspace(-3.,3.,10)}\n",
      "svr = svm.SVC()\n",
      "clf = grid_search.GridSearchCV(svr, parameters, n_jobs=3)\n",
      "clf.fit(X_train, y_train)\n",
      "\n",
      "# Examine Precision and Recall\n",
      "print(classification_report(y_test, y_pred))\n",
      "\n",
      "# Take a look at Predicted vs True Values\n",
      "sns.regplot(y_pred, y_test, x_jitter=0.1, y_jitter=0.1)"
     ],
     "language": "python",
     "metadata": {},
     "outputs": [
      {
       "metadata": {},
       "output_type": "pyout",
       "prompt_number": 17,
       "text": [
        "<matplotlib.axes._subplots.AxesSubplot at 0x190cbb70>"
       ]
      },
      {
       "metadata": {},
       "output_type": "display_data",
       "png": "[encoded data removed]",
       "text": [
        "<matplotlib.figure.Figure at 0x175f4630>"
       ]
      }
     ],
     "prompt_number": 17
    },
    {
     "cell_type": "code",
     "collapsed": false,
     "input": [
      "clf.score(X_test, y_test)"
     ],
     "language": "python",
     "metadata": {},
     "outputs": [
      {
       "metadata": {},
       "output_type": "pyout",
       "prompt_number": 18,
       "text": [
        "0.67821782178217827"
       ]
      }
     ],
     "prompt_number": 18
    },
    {
     "cell_type": "code",
     "collapsed": false,
     "input": [
      "clf.best_params_\n",
      "\n",
      "# Confusion Matrix for Type 1 and Type 2 Error\n",
      "confusion_matrix(y_test, y_pred)"
     ],
     "language": "python",
     "metadata": {},
     "outputs": [
      {
       "metadata": {},
       "output_type": "pyout",
       "prompt_number": 20,
       "text": [
        "array([[95, 14],\n",
        "       [14, 79]])"
       ]
      }
     ],
     "prompt_number": 20
    },
    {
     "cell_type": "code",
     "collapsed": false,
     "input": [],
     "language": "python",
     "metadata": {},
     "outputs": []
    }
   ],
   "metadata": {}
  }
 ]
}