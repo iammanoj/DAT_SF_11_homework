{
 "metadata": {
  "name": "",
  "signature": "sha256:dbd2b770c9d5cedbe0205a51e10abaa0bcef873742a68f54c1f3e9a443084629"
 },
 "nbformat": 3,
 "nbformat_minor": 0,
 "worksheets": [
  {
   "cells": [
    {
     "cell_type": "markdown",
     "metadata": {},
     "source": [
      "## Homework 4:\n",
      "\n",
      "1. Follow the steps below to:\n",
      "    - Read `wine.csv` in the data folder.\n",
      "    - The First Column contains the Wine Category.  Don't use it in the models below.  We are going to treat it as unsupervized learning and compare the results to the Wine column.\n",
      "2. Try `KMeans` where `n_clusters = 3` and compare the clusters to the `Wine` column.\n",
      "3. Try PCA and see how much can you reduce the variable space.\n",
      "    - How many Components did you need to explain 99% of variance in this dataset?\n",
      "    - Plot the PCA variables to see if it brings out the clusters.\n",
      "5. Try `KMeans` and Hierarchical Clustering using data from PCA and compare again the clusters to the `Wine` column."
     ]
    },
    {
     "cell_type": "markdown",
     "metadata": {},
     "source": [
      "#### Dataset\n",
      "\n",
      "wine.csv is in data folder under homeworks"
     ]
    },
    {
     "cell_type": "code",
     "collapsed": false,
     "input": [
      "# Standard imports\n",
      "from __future__ import print_function\n",
      "import pandas as pd\n",
      "import numpy as np\n",
      "import matplotlib as mpl\n",
      "import matplotlib.pyplot as plt\n",
      "from sklearn import preprocessing\n",
      "from time import time\n",
      "\n",
      "from sklearn import metrics\n",
      "from sklearn.cluster import KMeans\n",
      "from sklearn.decomposition import PCA\n",
      "\n",
      "pd.set_option('display.max_rows', 10)\n",
      "%matplotlib inline\n",
      "\n",
      "np.random.seed(123)"
     ],
     "language": "python",
     "metadata": {},
     "outputs": [],
     "prompt_number": 362
    },
    {
     "cell_type": "code",
     "collapsed": false,
     "input": [
      "print('Pandas:', pd.__version__)\n",
      "print('Numpy:', np.__version__)\n",
      "print('Matplotlib:', mpl.__version__)"
     ],
     "language": "python",
     "metadata": {},
     "outputs": [
      {
       "output_type": "stream",
       "stream": "stdout",
       "text": [
        "Pandas: 0.14.1\n",
        "Numpy: 1.9.1\n",
        "Matplotlib: 1.4.2\n"
       ]
      }
     ],
     "prompt_number": 363
    },
    {
     "cell_type": "code",
     "collapsed": false,
     "input": [
      "raw_data = pd.read_csv('../data/wine.csv', delimiter=\",\")\n",
      "labels = raw_data.Wine\n",
      "data = raw_data.drop('Wine', axis=1)"
     ],
     "language": "python",
     "metadata": {},
     "outputs": [],
     "prompt_number": 364
    },
    {
     "cell_type": "code",
     "collapsed": false,
     "input": [
      "sample_size, features = raw_data.shape"
     ],
     "language": "python",
     "metadata": {},
     "outputs": [],
     "prompt_number": 365
    },
    {
     "cell_type": "markdown",
     "metadata": {},
     "source": [
      "Exploratory Analysis"
     ]
    },
    {
     "cell_type": "code",
     "collapsed": false,
     "input": [
      "data.describe()"
     ],
     "language": "python",
     "metadata": {},
     "outputs": [
      {
       "html": [
        "<div style=\"max-height:1000px;max-width:1500px;overflow:auto;\">\n",
        "<table border=\"1\" class=\"dataframe\">\n",
        "  <thead>\n",
        "    <tr style=\"text-align: right;\">\n",
        "      <th></th>\n",
        "      <th>Alcohol</th>\n",
        "      <th>Malic.acid</th>\n",
        "      <th>Ash</th>\n",
        "      <th>Acl</th>\n",
        "      <th>Mg</th>\n",
        "      <th>Phenols</th>\n",
        "      <th>Flavanoids</th>\n",
        "      <th>Nonflavanoid.phenols</th>\n",
        "      <th>Proanth</th>\n",
        "      <th>Color.int</th>\n",
        "      <th>Hue</th>\n",
        "      <th>OD</th>\n",
        "      <th>Proline</th>\n",
        "    </tr>\n",
        "  </thead>\n",
        "  <tbody>\n",
        "    <tr>\n",
        "      <th>count</th>\n",
        "      <td> 178.000000</td>\n",
        "      <td> 178.000000</td>\n",
        "      <td> 178.000000</td>\n",
        "      <td> 178.000000</td>\n",
        "      <td> 178.000000</td>\n",
        "      <td> 178.000000</td>\n",
        "      <td> 178.000000</td>\n",
        "      <td> 178.000000</td>\n",
        "      <td> 178.000000</td>\n",
        "      <td> 178.000000</td>\n",
        "      <td> 178.000000</td>\n",
        "      <td> 178.000000</td>\n",
        "      <td>  178.000000</td>\n",
        "    </tr>\n",
        "    <tr>\n",
        "      <th>mean</th>\n",
        "      <td>  13.000618</td>\n",
        "      <td>   2.336348</td>\n",
        "      <td>   2.366517</td>\n",
        "      <td>  19.494944</td>\n",
        "      <td>  99.741573</td>\n",
        "      <td>   2.295112</td>\n",
        "      <td>   2.029270</td>\n",
        "      <td>   0.361854</td>\n",
        "      <td>   1.590899</td>\n",
        "      <td>   5.058090</td>\n",
        "      <td>   0.957449</td>\n",
        "      <td>   2.611685</td>\n",
        "      <td>  746.893258</td>\n",
        "    </tr>\n",
        "    <tr>\n",
        "      <th>std</th>\n",
        "      <td>   0.811827</td>\n",
        "      <td>   1.117146</td>\n",
        "      <td>   0.274344</td>\n",
        "      <td>   3.339564</td>\n",
        "      <td>  14.282484</td>\n",
        "      <td>   0.625851</td>\n",
        "      <td>   0.998859</td>\n",
        "      <td>   0.124453</td>\n",
        "      <td>   0.572359</td>\n",
        "      <td>   2.318286</td>\n",
        "      <td>   0.228572</td>\n",
        "      <td>   0.709990</td>\n",
        "      <td>  314.907474</td>\n",
        "    </tr>\n",
        "    <tr>\n",
        "      <th>min</th>\n",
        "      <td>  11.030000</td>\n",
        "      <td>   0.740000</td>\n",
        "      <td>   1.360000</td>\n",
        "      <td>  10.600000</td>\n",
        "      <td>  70.000000</td>\n",
        "      <td>   0.980000</td>\n",
        "      <td>   0.340000</td>\n",
        "      <td>   0.130000</td>\n",
        "      <td>   0.410000</td>\n",
        "      <td>   1.280000</td>\n",
        "      <td>   0.480000</td>\n",
        "      <td>   1.270000</td>\n",
        "      <td>  278.000000</td>\n",
        "    </tr>\n",
        "    <tr>\n",
        "      <th>25%</th>\n",
        "      <td>  12.362500</td>\n",
        "      <td>   1.602500</td>\n",
        "      <td>   2.210000</td>\n",
        "      <td>  17.200000</td>\n",
        "      <td>  88.000000</td>\n",
        "      <td>   1.742500</td>\n",
        "      <td>   1.205000</td>\n",
        "      <td>   0.270000</td>\n",
        "      <td>   1.250000</td>\n",
        "      <td>   3.220000</td>\n",
        "      <td>   0.782500</td>\n",
        "      <td>   1.937500</td>\n",
        "      <td>  500.500000</td>\n",
        "    </tr>\n",
        "    <tr>\n",
        "      <th>50%</th>\n",
        "      <td>  13.050000</td>\n",
        "      <td>   1.865000</td>\n",
        "      <td>   2.360000</td>\n",
        "      <td>  19.500000</td>\n",
        "      <td>  98.000000</td>\n",
        "      <td>   2.355000</td>\n",
        "      <td>   2.135000</td>\n",
        "      <td>   0.340000</td>\n",
        "      <td>   1.555000</td>\n",
        "      <td>   4.690000</td>\n",
        "      <td>   0.965000</td>\n",
        "      <td>   2.780000</td>\n",
        "      <td>  673.500000</td>\n",
        "    </tr>\n",
        "    <tr>\n",
        "      <th>75%</th>\n",
        "      <td>  13.677500</td>\n",
        "      <td>   3.082500</td>\n",
        "      <td>   2.557500</td>\n",
        "      <td>  21.500000</td>\n",
        "      <td> 107.000000</td>\n",
        "      <td>   2.800000</td>\n",
        "      <td>   2.875000</td>\n",
        "      <td>   0.437500</td>\n",
        "      <td>   1.950000</td>\n",
        "      <td>   6.200000</td>\n",
        "      <td>   1.120000</td>\n",
        "      <td>   3.170000</td>\n",
        "      <td>  985.000000</td>\n",
        "    </tr>\n",
        "    <tr>\n",
        "      <th>max</th>\n",
        "      <td>  14.830000</td>\n",
        "      <td>   5.800000</td>\n",
        "      <td>   3.230000</td>\n",
        "      <td>  30.000000</td>\n",
        "      <td> 162.000000</td>\n",
        "      <td>   3.880000</td>\n",
        "      <td>   5.080000</td>\n",
        "      <td>   0.660000</td>\n",
        "      <td>   3.580000</td>\n",
        "      <td>  13.000000</td>\n",
        "      <td>   1.710000</td>\n",
        "      <td>   4.000000</td>\n",
        "      <td> 1680.000000</td>\n",
        "    </tr>\n",
        "  </tbody>\n",
        "</table>\n",
        "</div>"
       ],
       "metadata": {},
       "output_type": "pyout",
       "prompt_number": 366,
       "text": [
        "          Alcohol  Malic.acid         Ash         Acl          Mg     Phenols  \\\n",
        "count  178.000000  178.000000  178.000000  178.000000  178.000000  178.000000   \n",
        "mean    13.000618    2.336348    2.366517   19.494944   99.741573    2.295112   \n",
        "std      0.811827    1.117146    0.274344    3.339564   14.282484    0.625851   \n",
        "min     11.030000    0.740000    1.360000   10.600000   70.000000    0.980000   \n",
        "25%     12.362500    1.602500    2.210000   17.200000   88.000000    1.742500   \n",
        "50%     13.050000    1.865000    2.360000   19.500000   98.000000    2.355000   \n",
        "75%     13.677500    3.082500    2.557500   21.500000  107.000000    2.800000   \n",
        "max     14.830000    5.800000    3.230000   30.000000  162.000000    3.880000   \n",
        "\n",
        "       Flavanoids  Nonflavanoid.phenols     Proanth   Color.int         Hue  \\\n",
        "count  178.000000            178.000000  178.000000  178.000000  178.000000   \n",
        "mean     2.029270              0.361854    1.590899    5.058090    0.957449   \n",
        "std      0.998859              0.124453    0.572359    2.318286    0.228572   \n",
        "min      0.340000              0.130000    0.410000    1.280000    0.480000   \n",
        "25%      1.205000              0.270000    1.250000    3.220000    0.782500   \n",
        "50%      2.135000              0.340000    1.555000    4.690000    0.965000   \n",
        "75%      2.875000              0.437500    1.950000    6.200000    1.120000   \n",
        "max      5.080000              0.660000    3.580000   13.000000    1.710000   \n",
        "\n",
        "               OD      Proline  \n",
        "count  178.000000   178.000000  \n",
        "mean     2.611685   746.893258  \n",
        "std      0.709990   314.907474  \n",
        "min      1.270000   278.000000  \n",
        "25%      1.937500   500.500000  \n",
        "50%      2.780000   673.500000  \n",
        "75%      3.170000   985.000000  \n",
        "max      4.000000  1680.000000  "
       ]
      }
     ],
     "prompt_number": 366
    },
    {
     "cell_type": "code",
     "collapsed": false,
     "input": [
      "scaled_data = preprocessing.scale(data)\n",
      "scaled_data = pd.DataFrame(scaled_data)"
     ],
     "language": "python",
     "metadata": {},
     "outputs": [],
     "prompt_number": 367
    },
    {
     "cell_type": "code",
     "collapsed": false,
     "input": [
      "scaled_data.columns = data.columns"
     ],
     "language": "python",
     "metadata": {},
     "outputs": [],
     "prompt_number": 368
    },
    {
     "cell_type": "code",
     "collapsed": false,
     "input": [
      "raw_data.groupby('Wine').describe()"
     ],
     "language": "python",
     "metadata": {},
     "outputs": [
      {
       "html": [
        "<div style=\"max-height:1000px;max-width:1500px;overflow:auto;\">\n",
        "<table border=\"1\" class=\"dataframe\">\n",
        "  <thead>\n",
        "    <tr style=\"text-align: right;\">\n",
        "      <th></th>\n",
        "      <th></th>\n",
        "      <th>Acl</th>\n",
        "      <th>Alcohol</th>\n",
        "      <th>Ash</th>\n",
        "      <th>Color.int</th>\n",
        "      <th>Flavanoids</th>\n",
        "      <th>Hue</th>\n",
        "      <th>Malic.acid</th>\n",
        "      <th>Mg</th>\n",
        "      <th>Nonflavanoid.phenols</th>\n",
        "      <th>OD</th>\n",
        "      <th>Phenols</th>\n",
        "      <th>Proanth</th>\n",
        "      <th>Proline</th>\n",
        "    </tr>\n",
        "    <tr>\n",
        "      <th>Wine</th>\n",
        "      <th></th>\n",
        "      <th></th>\n",
        "      <th></th>\n",
        "      <th></th>\n",
        "      <th></th>\n",
        "      <th></th>\n",
        "      <th></th>\n",
        "      <th></th>\n",
        "      <th></th>\n",
        "      <th></th>\n",
        "      <th></th>\n",
        "      <th></th>\n",
        "      <th></th>\n",
        "      <th></th>\n",
        "    </tr>\n",
        "  </thead>\n",
        "  <tbody>\n",
        "    <tr>\n",
        "      <th rowspan=\"5\" valign=\"top\">1</th>\n",
        "      <th>count</th>\n",
        "      <td> 59.000000</td>\n",
        "      <td> 59.000000</td>\n",
        "      <td> 59.000000</td>\n",
        "      <td> 59.000000</td>\n",
        "      <td> 59.000000</td>\n",
        "      <td> 59.000000</td>\n",
        "      <td> 59.000000</td>\n",
        "      <td>  59.000000</td>\n",
        "      <td> 59.000000</td>\n",
        "      <td> 59.000000</td>\n",
        "      <td> 59.000000</td>\n",
        "      <td> 59.000000</td>\n",
        "      <td>   59.000000</td>\n",
        "    </tr>\n",
        "    <tr>\n",
        "      <th>mean</th>\n",
        "      <td> 17.037288</td>\n",
        "      <td> 13.744746</td>\n",
        "      <td>  2.455593</td>\n",
        "      <td>  5.528305</td>\n",
        "      <td>  2.982373</td>\n",
        "      <td>  1.062034</td>\n",
        "      <td>  2.010678</td>\n",
        "      <td> 106.338983</td>\n",
        "      <td>  0.290000</td>\n",
        "      <td>  3.157797</td>\n",
        "      <td>  2.840169</td>\n",
        "      <td>  1.899322</td>\n",
        "      <td> 1115.711864</td>\n",
        "    </tr>\n",
        "    <tr>\n",
        "      <th>std</th>\n",
        "      <td>  2.546322</td>\n",
        "      <td>  0.462125</td>\n",
        "      <td>  0.227166</td>\n",
        "      <td>  1.238573</td>\n",
        "      <td>  0.397494</td>\n",
        "      <td>  0.116483</td>\n",
        "      <td>  0.688549</td>\n",
        "      <td>  10.498949</td>\n",
        "      <td>  0.070049</td>\n",
        "      <td>  0.357077</td>\n",
        "      <td>  0.338961</td>\n",
        "      <td>  0.412109</td>\n",
        "      <td>  221.520767</td>\n",
        "    </tr>\n",
        "    <tr>\n",
        "      <th>min</th>\n",
        "      <td> 11.200000</td>\n",
        "      <td> 12.850000</td>\n",
        "      <td>  2.040000</td>\n",
        "      <td>  3.520000</td>\n",
        "      <td>  2.190000</td>\n",
        "      <td>  0.820000</td>\n",
        "      <td>  1.350000</td>\n",
        "      <td>  89.000000</td>\n",
        "      <td>  0.170000</td>\n",
        "      <td>  2.510000</td>\n",
        "      <td>  2.200000</td>\n",
        "      <td>  1.250000</td>\n",
        "      <td>  680.000000</td>\n",
        "    </tr>\n",
        "    <tr>\n",
        "      <th>25%</th>\n",
        "      <td> 16.000000</td>\n",
        "      <td> 13.400000</td>\n",
        "      <td>  2.295000</td>\n",
        "      <td>  4.550000</td>\n",
        "      <td>  2.680000</td>\n",
        "      <td>  0.995000</td>\n",
        "      <td>  1.665000</td>\n",
        "      <td>  98.000000</td>\n",
        "      <td>  0.255000</td>\n",
        "      <td>  2.870000</td>\n",
        "      <td>  2.600000</td>\n",
        "      <td>  1.640000</td>\n",
        "      <td>  987.500000</td>\n",
        "    </tr>\n",
        "    <tr>\n",
        "      <th>...</th>\n",
        "      <th>...</th>\n",
        "      <td>...</td>\n",
        "      <td>...</td>\n",
        "      <td>...</td>\n",
        "      <td>...</td>\n",
        "      <td>...</td>\n",
        "      <td>...</td>\n",
        "      <td>...</td>\n",
        "      <td>...</td>\n",
        "      <td>...</td>\n",
        "      <td>...</td>\n",
        "      <td>...</td>\n",
        "      <td>...</td>\n",
        "      <td>...</td>\n",
        "    </tr>\n",
        "    <tr>\n",
        "      <th rowspan=\"5\" valign=\"top\">3</th>\n",
        "      <th>min</th>\n",
        "      <td> 17.500000</td>\n",
        "      <td> 12.200000</td>\n",
        "      <td>  2.100000</td>\n",
        "      <td>  3.850000</td>\n",
        "      <td>  0.340000</td>\n",
        "      <td>  0.480000</td>\n",
        "      <td>  1.240000</td>\n",
        "      <td>  80.000000</td>\n",
        "      <td>  0.170000</td>\n",
        "      <td>  1.270000</td>\n",
        "      <td>  0.980000</td>\n",
        "      <td>  0.550000</td>\n",
        "      <td>  415.000000</td>\n",
        "    </tr>\n",
        "    <tr>\n",
        "      <th>25%</th>\n",
        "      <td> 20.000000</td>\n",
        "      <td> 12.805000</td>\n",
        "      <td>  2.300000</td>\n",
        "      <td>  5.437500</td>\n",
        "      <td>  0.580000</td>\n",
        "      <td>  0.587500</td>\n",
        "      <td>  2.587500</td>\n",
        "      <td>  89.750000</td>\n",
        "      <td>  0.397500</td>\n",
        "      <td>  1.510000</td>\n",
        "      <td>  1.407500</td>\n",
        "      <td>  0.855000</td>\n",
        "      <td>  545.000000</td>\n",
        "    </tr>\n",
        "    <tr>\n",
        "      <th>50%</th>\n",
        "      <td> 21.000000</td>\n",
        "      <td> 13.165000</td>\n",
        "      <td>  2.380000</td>\n",
        "      <td>  7.550000</td>\n",
        "      <td>  0.685000</td>\n",
        "      <td>  0.665000</td>\n",
        "      <td>  3.265000</td>\n",
        "      <td>  97.000000</td>\n",
        "      <td>  0.470000</td>\n",
        "      <td>  1.660000</td>\n",
        "      <td>  1.635000</td>\n",
        "      <td>  1.105000</td>\n",
        "      <td>  627.500000</td>\n",
        "    </tr>\n",
        "    <tr>\n",
        "      <th>75%</th>\n",
        "      <td> 23.000000</td>\n",
        "      <td> 13.505000</td>\n",
        "      <td>  2.602500</td>\n",
        "      <td>  9.225000</td>\n",
        "      <td>  0.920000</td>\n",
        "      <td>  0.752500</td>\n",
        "      <td>  3.957500</td>\n",
        "      <td> 106.000000</td>\n",
        "      <td>  0.530000</td>\n",
        "      <td>  1.820000</td>\n",
        "      <td>  1.807500</td>\n",
        "      <td>  1.350000</td>\n",
        "      <td>  695.000000</td>\n",
        "    </tr>\n",
        "    <tr>\n",
        "      <th>max</th>\n",
        "      <td> 27.000000</td>\n",
        "      <td> 14.340000</td>\n",
        "      <td>  2.860000</td>\n",
        "      <td> 13.000000</td>\n",
        "      <td>  1.570000</td>\n",
        "      <td>  0.960000</td>\n",
        "      <td>  5.650000</td>\n",
        "      <td> 123.000000</td>\n",
        "      <td>  0.630000</td>\n",
        "      <td>  2.470000</td>\n",
        "      <td>  2.800000</td>\n",
        "      <td>  2.700000</td>\n",
        "      <td>  880.000000</td>\n",
        "    </tr>\n",
        "  </tbody>\n",
        "</table>\n",
        "<p>24 rows \u00d7 13 columns</p>\n",
        "</div>"
       ],
       "metadata": {},
       "output_type": "pyout",
       "prompt_number": 369,
       "text": [
        "                  Acl    Alcohol        Ash  Color.int  Flavanoids        Hue  \\\n",
        "Wine                                                                            \n",
        "1    count  59.000000  59.000000  59.000000  59.000000   59.000000  59.000000   \n",
        "     mean   17.037288  13.744746   2.455593   5.528305    2.982373   1.062034   \n",
        "     std     2.546322   0.462125   0.227166   1.238573    0.397494   0.116483   \n",
        "     min    11.200000  12.850000   2.040000   3.520000    2.190000   0.820000   \n",
        "     25%    16.000000  13.400000   2.295000   4.550000    2.680000   0.995000   \n",
        "...               ...        ...        ...        ...         ...        ...   \n",
        "3    min    17.500000  12.200000   2.100000   3.850000    0.340000   0.480000   \n",
        "     25%    20.000000  12.805000   2.300000   5.437500    0.580000   0.587500   \n",
        "     50%    21.000000  13.165000   2.380000   7.550000    0.685000   0.665000   \n",
        "     75%    23.000000  13.505000   2.602500   9.225000    0.920000   0.752500   \n",
        "     max    27.000000  14.340000   2.860000  13.000000    1.570000   0.960000   \n",
        "\n",
        "            Malic.acid          Mg  Nonflavanoid.phenols         OD  \\\n",
        "Wine                                                                  \n",
        "1    count   59.000000   59.000000             59.000000  59.000000   \n",
        "     mean     2.010678  106.338983              0.290000   3.157797   \n",
        "     std      0.688549   10.498949              0.070049   0.357077   \n",
        "     min      1.350000   89.000000              0.170000   2.510000   \n",
        "     25%      1.665000   98.000000              0.255000   2.870000   \n",
        "...                ...         ...                   ...        ...   \n",
        "3    min      1.240000   80.000000              0.170000   1.270000   \n",
        "     25%      2.587500   89.750000              0.397500   1.510000   \n",
        "     50%      3.265000   97.000000              0.470000   1.660000   \n",
        "     75%      3.957500  106.000000              0.530000   1.820000   \n",
        "     max      5.650000  123.000000              0.630000   2.470000   \n",
        "\n",
        "              Phenols    Proanth      Proline  \n",
        "Wine                                           \n",
        "1    count  59.000000  59.000000    59.000000  \n",
        "     mean    2.840169   1.899322  1115.711864  \n",
        "     std     0.338961   0.412109   221.520767  \n",
        "     min     2.200000   1.250000   680.000000  \n",
        "     25%     2.600000   1.640000   987.500000  \n",
        "...               ...        ...          ...  \n",
        "3    min     0.980000   0.550000   415.000000  \n",
        "     25%     1.407500   0.855000   545.000000  \n",
        "     50%     1.635000   1.105000   627.500000  \n",
        "     75%     1.807500   1.350000   695.000000  \n",
        "     max     2.800000   2.700000   880.000000  \n",
        "\n",
        "[24 rows x 13 columns]"
       ]
      }
     ],
     "prompt_number": 369
    },
    {
     "cell_type": "code",
     "collapsed": false,
     "input": [
      "raw_data['Wine'].hist(bins=3)"
     ],
     "language": "python",
     "metadata": {},
     "outputs": [
      {
       "metadata": {},
       "output_type": "pyout",
       "prompt_number": 370,
       "text": [
        "<matplotlib.axes._subplots.AxesSubplot at 0x2e5839e8>"
       ]
      },
      {
       "metadata": {},
       "output_type": "display_data",
       "png": "[encoded data removed]",
       "text": [
        "<matplotlib.figure.Figure at 0x1af14b00>"
       ]
      }
     ],
     "prompt_number": 370
    },
    {
     "cell_type": "markdown",
     "metadata": {},
     "source": [
      "Distance Matrix & Dendogram with scaled data"
     ]
    },
    {
     "cell_type": "code",
     "collapsed": false,
     "input": [
      "# compute distance matrix\n",
      "from scipy.spatial.distance import pdist, squareform\n",
      "\n",
      "scaled_data_array = scaled_data.as_matrix()\n",
      "\n",
      "# not printed as pretty, but the values are correct\n",
      "distx = squareform(pdist(scaled_data, metric='euclidean'))\n",
      "print(distx)\n",
      "\n",
      "from scipy.cluster.hierarchy import linkage, dendrogram\n",
      "\n",
      "R = dendrogram(linkage(scaled_data, method='single'), color_threshold=10)\n",
      "\n",
      "plt.xlabel('points')\n",
      "plt.ylabel('Height')\n",
      "plt.suptitle('Cluster Dendrogram', fontweight='bold', fontsize=14);"
     ],
     "language": "python",
     "metadata": {},
     "outputs": [
      {
       "output_type": "stream",
       "stream": "stdout",
       "text": [
        "[[ 0.          3.49753522  3.02660794 ...,  6.4909413   6.07878091\n",
        "   7.18442107]\n",
        " [ 3.49753522  0.          4.1429119  ...,  6.39689969  6.09492714\n",
        "   7.36771922]\n",
        " [ 3.02660794  4.1429119   0.         ...,  6.25367723  5.85179331\n",
        "   6.35388503]\n",
        " ..., \n",
        " [ 6.4909413   6.39689969  6.25367723 ...,  0.          1.82621785\n",
        "   3.39251526]\n",
        " [ 6.07878091  6.09492714  5.85179331 ...,  1.82621785  0.          3.32427633]\n",
        " [ 7.18442107  7.36771922  6.35388503 ...,  3.39251526  3.32427633  0.        ]]\n"
       ]
      },
      {
       "metadata": {},
       "output_type": "display_data",
       "png": "[encoded data removed]",
       "text": [
        "<matplotlib.figure.Figure at 0x1b82c9e8>"
       ]
      }
     ],
     "prompt_number": 371
    },
    {
     "cell_type": "markdown",
     "metadata": {},
     "source": [
      "Determine if 3 clusters is true or not"
     ]
    },
    {
     "cell_type": "code",
     "collapsed": false,
     "input": [
      "##### cluster data into K=1..10 clusters #####\n",
      "#K, KM, centroids,D_k,cIdx,dist,avgWithinSS = kmeans.run_kmeans(X,10)\n",
      "from scipy.cluster.vq import kmeans,vq\n",
      "from scipy.spatial.distance import cdist\n",
      "\n",
      "K = range(1,10)\n",
      "\n",
      "  # scipy.cluster.vq.kmeans\n",
      "KM = [kmeans(scaled_data_array,k) for k in K] # apply kmeans 1 to 10\n",
      "centroids = [cent for (cent,var) in KM]   # cluster centroids\n",
      "\n",
      "D_k = [cdist(scaled_data_array, cent, 'euclidean') for cent in centroids]\n",
      "\n",
      "cIdx = [np.argmin(D,axis=1) for D in D_k]\n",
      "dist = [np.min(D,axis=1) for D in D_k]\n",
      "avgWithinSS = [sum(d)/scaled_data.shape[0] for d in dist]  \n",
      "\n",
      "kIdx = 2\n",
      "# plot elbow curve\n",
      "fig = plt.figure()\n",
      "ax = fig.add_subplot(111)\n",
      "ax.plot(K, avgWithinSS, 'b*-')\n",
      "ax.plot(K[kIdx], avgWithinSS[kIdx], marker='o', markersize=12, \n",
      "      markeredgewidth=2, markeredgecolor='r', markerfacecolor='None')\n",
      "plt.grid(True)\n",
      "plt.xlabel('Number of clusters')\n",
      "plt.ylabel('Average within-cluster sum of squares')\n",
      "tt = plt.title('Elbow for K-Means clustering')  "
     ],
     "language": "python",
     "metadata": {},
     "outputs": [
      {
       "metadata": {},
       "output_type": "display_data",
       "png": "[encoded data removed]",
       "text": [
        "<matplotlib.figure.Figure at 0x2db35a58>"
       ]
      }
     ],
     "prompt_number": 372
    },
    {
     "cell_type": "markdown",
     "metadata": {},
     "source": [
      "Awesome plotting function!"
     ]
    },
    {
     "cell_type": "code",
     "collapsed": false,
     "input": [
      "\n",
      "def plot_clusters(orig,pred,nx,ny,kmeans=False,legend=True):\n",
      "    data = orig\n",
      "    import matplotlib.pyplot as plt\n",
      "    \n",
      "    p0 = plt.plot(orig[pred==0,nx],orig[pred==0,ny],'ro',label='Wine 1')\n",
      "    p2 = plt.plot(orig[pred==2,nx],orig[pred==2,ny],'go',label='Wine 2') \n",
      "    p1 = plt.plot(orig[pred==1,nx],orig[pred==1,ny],'bo',label='Wine 3') \n",
      "\n",
      "    tt= plt.title('Wine Data set, KMeans clustering with K=3')\n",
      "     \n",
      "    if kmeans:\n",
      "        #CENTROIDS\n",
      "        centroids = kmeans.cluster_centers_\n",
      "        plt.scatter(centroids[:, 0], centroids[:, 1],\n",
      "        marker='^', s=169, linewidths=3,\n",
      "        color='orange', zorder=10)\n",
      "\n",
      "\n",
      "    if legend:\n",
      "        ll=plt.legend()  \n",
      "    return (p0,p1,p2)\n",
      "\n"
     ],
     "language": "python",
     "metadata": {},
     "outputs": [],
     "prompt_number": 373
    },
    {
     "cell_type": "markdown",
     "metadata": {},
     "source": [
      "Predict with K_Means (Scaled Data)"
     ]
    },
    {
     "cell_type": "code",
     "collapsed": false,
     "input": [
      "from sklearn.cluster import KMeans\n",
      "\n",
      "kmeans = KMeans(n_clusters=3, init='random', n_init=10 , max_iter = 300, random_state=1)\n",
      "Y_hat_kmeans = kmeans.fit(scaled_data).labels_\n",
      "\n",
      "(pl0,pl1,pl2) = plot_clusters(scaled_data.as_matrix(),Y_hat_kmeans,0,5,kmeans)"
     ],
     "language": "python",
     "metadata": {},
     "outputs": [
      {
       "metadata": {},
       "output_type": "display_data",
       "png": "[encoded data removed]",
       "text": [
        "<matplotlib.figure.Figure at 0x2decc0b8>"
       ]
      }
     ],
     "prompt_number": 374
    },
    {
     "cell_type": "markdown",
     "metadata": {},
     "source": [
      "With original Data and markers"
     ]
    },
    {
     "cell_type": "code",
     "collapsed": false,
     "input": [
      "groups = raw_data.groupby('Wine')\n",
      "\n",
      "# Plot\n",
      "fig, ax = plt.subplots()\n",
      "ax.margins(0.05) # Optional, just adds 5% padding to the autoscaling\n",
      "for name, group in groups:\n",
      "    ax.plot(group.Alcohol, group['Malic.acid'], marker='o', linestyle='', ms=6, label=name)\n",
      "    \n",
      "\n",
      "    plt.ylim(0,7)\n",
      "    plt.xlim(10,16)\n",
      "ax.legend()\n",
      "\n",
      "plt.show()"
     ],
     "language": "python",
     "metadata": {},
     "outputs": [
      {
       "metadata": {},
       "output_type": "display_data",
       "png": "[encoded data removed]",
       "text": [
        "<matplotlib.figure.Figure at 0x2414a128>"
       ]
      }
     ],
     "prompt_number": 375
    },
    {
     "cell_type": "markdown",
     "metadata": {},
     "source": [
      "Predict with K_Means (Raw Data)"
     ]
    },
    {
     "cell_type": "code",
     "collapsed": false,
     "input": [
      "kmeans = KMeans(n_clusters=3, init='random', n_init=10 , max_iter = 300, random_state=1)\n",
      "Y_hat_kmeans = kmeans.fit(data).labels_\n",
      "print(data.columns)\n",
      "(pl0,pl1,pl2) = plot_clusters(data.as_matrix(),Y_hat_kmeans,0,1,kmeans)"
     ],
     "language": "python",
     "metadata": {},
     "outputs": [
      {
       "output_type": "stream",
       "stream": "stdout",
       "text": [
        "Index([u'Alcohol', u'Malic.acid', u'Ash', u'Acl', u'Mg', u'Phenols', u'Flavanoids', u'Nonflavanoid.phenols', u'Proanth', u'Color.int', u'Hue', u'OD', u'Proline'], dtype='object')\n"
       ]
      },
      {
       "metadata": {},
       "output_type": "display_data",
       "png": "[encoded data removed]",
       "text": [
        "<matplotlib.figure.Figure at 0x2decccc0>"
       ]
      }
     ],
     "prompt_number": 376
    },
    {
     "cell_type": "markdown",
     "metadata": {},
     "source": [
      "Perform PCA on scaled data (Though it doesn't matter)"
     ]
    },
    {
     "cell_type": "code",
     "collapsed": false,
     "input": [
      "#Check out covariance matrix\n",
      "#print(np.cov(data,rowvar=False)) #too large so not running\n",
      "\n",
      "from sklearn.decomposition import PCA\n",
      "pca = PCA()\n",
      "X_pca = pca.fit_transform(scaled_data)\n",
      "#pca.components_\n",
      "pca.mean_"
     ],
     "language": "python",
     "metadata": {},
     "outputs": [
      {
       "metadata": {},
       "output_type": "pyout",
       "prompt_number": 377,
       "text": [
        "array([ -8.61982146e-16,  -8.35785872e-17,  -8.65724471e-16,\n",
        "        -1.16012069e-16,  -1.99590656e-17,  -2.97202961e-16,\n",
        "        -4.01676195e-16,   4.07913403e-16,  -1.69963918e-16,\n",
        "        -1.24744160e-18,   3.71737597e-16,   2.91901335e-16,\n",
        "        -7.48464960e-18])"
       ]
      }
     ],
     "prompt_number": 377
    },
    {
     "cell_type": "markdown",
     "metadata": {},
     "source": [
      "Explained Variance Ratio\n",
      "- We need the first 6 dimensions to explain 80% of the variance"
     ]
    },
    {
     "cell_type": "code",
     "collapsed": false,
     "input": [
      "plt.plot(pca.explained_variance_ratio_);\n",
      "print('Explained Variance',sum(pca.explained_variance_ratio_[0:5]))"
     ],
     "language": "python",
     "metadata": {},
     "outputs": [
      {
       "output_type": "stream",
       "stream": "stdout",
       "text": [
        "Explained Variance 0.801622927555\n"
       ]
      },
      {
       "metadata": {},
       "output_type": "display_data",
       "png": "[encoded data removed]",
       "text": [
        "<matplotlib.figure.Figure at 0x2e1675c0>"
       ]
      }
     ],
     "prompt_number": 378
    },
    {
     "cell_type": "markdown",
     "metadata": {},
     "source": [
      "Let's perform KMeans on PCA Results with 6 components"
     ]
    },
    {
     "cell_type": "code",
     "collapsed": false,
     "input": [
      "PCA_data = PCA(n_components=6).fit_transform(scaled_data)\n",
      "kmeans = KMeans(n_clusters=3, init='random', n_init=10 , max_iter = 300, random_state=1)\n",
      "Y_hat_kmeans = kmeans.fit(scaled_data).labels_\n",
      "\n",
      "(pl0,pl1,pl2) = plot_clusters(PCA_data,Y_hat_kmeans,0,1,kmeans)"
     ],
     "language": "python",
     "metadata": {},
     "outputs": [
      {
       "metadata": {},
       "output_type": "display_data",
       "png": "[encoded data removed]",
       "text": [
        "<matplotlib.figure.Figure at 0x1bc654e0>"
       ]
      }
     ],
     "prompt_number": 379
    },
    {
     "cell_type": "code",
     "collapsed": false,
     "input": [
      "PCA_data = PCA(n_components=5).fit_transform(scaled_data)\n",
      "kmeans = KMeans(n_clusters=3, init='random', n_init=10 , max_iter = 300, random_state=1)\n",
      "Y_hat_kmeans = kmeans.fit(PCA_data).labels_\n",
      "\n",
      "(pl0,pl1,pl2) = plot_clusters(PCA_data,Y_hat_kmeans,0,1,kmeans)\n"
     ],
     "language": "python",
     "metadata": {},
     "outputs": [
      {
       "metadata": {},
       "output_type": "display_data",
       "png": "[encoded data removed]",
       "text": [
        "<matplotlib.figure.Figure at 0x9e4afd0>"
       ]
      }
     ],
     "prompt_number": 380
    }
   ],
   "metadata": {}
  }
 ]
}