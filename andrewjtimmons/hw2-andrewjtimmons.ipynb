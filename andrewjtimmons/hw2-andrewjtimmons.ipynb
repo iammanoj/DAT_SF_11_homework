{
 "metadata": {
  "name": "",
  "signature": "sha256:fa69ffad080e0ac1d320a78133ee37c413d6ba180db16e75165ec82e29dcce0a"
 },
 "nbformat": 3,
 "nbformat_minor": 0,
 "worksheets": [
  {
   "cells": [
    {
     "cell_type": "code",
     "collapsed": false,
     "input": [
      "import pandas as pd\n",
      "import numpy as np\n",
      "\n",
      "import matplotlib.pyplot as plt\n",
      "import seaborn as sns\n",
      "plt.style.use('fivethirtyeight')\n",
      "%matplotlib inline\n",
      "\n",
      "from sklearn.cross_validation import train_test_split\n",
      "from sklearn.svm import LinearSVC\n",
      "from sklearn.svm import SVC\n",
      "from sklearn.grid_search import GridSearchCV\n",
      "from sklearn.linear_model import LogisticRegression\n",
      "\n",
      "from sklearn.metrics import confusion_matrix, classification_report\n"
     ],
     "language": "python",
     "metadata": {},
     "outputs": [],
     "prompt_number": 47
    },
    {
     "cell_type": "code",
     "collapsed": false,
     "input": [
      "df = pd.read_csv('../data/hw2data.csv', header = None)\n",
      "df.head()"
     ],
     "language": "python",
     "metadata": {},
     "outputs": [
      {
       "html": [
        "<div style=\"max-height:1000px;max-width:1500px;overflow:auto;\">\n",
        "<table border=\"1\" class=\"dataframe\">\n",
        "  <thead>\n",
        "    <tr style=\"text-align: right;\">\n",
        "      <th></th>\n",
        "      <th>0</th>\n",
        "      <th>1</th>\n",
        "      <th>2</th>\n",
        "      <th>3</th>\n",
        "      <th>4</th>\n",
        "      <th>5</th>\n",
        "      <th>6</th>\n",
        "      <th>7</th>\n",
        "      <th>8</th>\n",
        "      <th>9</th>\n",
        "      <th>10</th>\n",
        "      <th>11</th>\n",
        "      <th>12</th>\n",
        "      <th>13</th>\n",
        "      <th>14</th>\n",
        "      <th>15</th>\n",
        "    </tr>\n",
        "  </thead>\n",
        "  <tbody>\n",
        "    <tr>\n",
        "      <th>0</th>\n",
        "      <td> b</td>\n",
        "      <td> 30.83</td>\n",
        "      <td> 0.000</td>\n",
        "      <td> u</td>\n",
        "      <td> g</td>\n",
        "      <td> w</td>\n",
        "      <td> v</td>\n",
        "      <td> 1.25</td>\n",
        "      <td> t</td>\n",
        "      <td> t</td>\n",
        "      <td> 1</td>\n",
        "      <td> f</td>\n",
        "      <td> g</td>\n",
        "      <td> 00202</td>\n",
        "      <td>   0</td>\n",
        "      <td> +</td>\n",
        "    </tr>\n",
        "    <tr>\n",
        "      <th>1</th>\n",
        "      <td> a</td>\n",
        "      <td> 58.67</td>\n",
        "      <td> 4.460</td>\n",
        "      <td> u</td>\n",
        "      <td> g</td>\n",
        "      <td> q</td>\n",
        "      <td> h</td>\n",
        "      <td> 3.04</td>\n",
        "      <td> t</td>\n",
        "      <td> t</td>\n",
        "      <td> 6</td>\n",
        "      <td> f</td>\n",
        "      <td> g</td>\n",
        "      <td> 00043</td>\n",
        "      <td> 560</td>\n",
        "      <td> +</td>\n",
        "    </tr>\n",
        "    <tr>\n",
        "      <th>2</th>\n",
        "      <td> a</td>\n",
        "      <td> 24.50</td>\n",
        "      <td> 0.500</td>\n",
        "      <td> u</td>\n",
        "      <td> g</td>\n",
        "      <td> q</td>\n",
        "      <td> h</td>\n",
        "      <td> 1.50</td>\n",
        "      <td> t</td>\n",
        "      <td> f</td>\n",
        "      <td> 0</td>\n",
        "      <td> f</td>\n",
        "      <td> g</td>\n",
        "      <td> 00280</td>\n",
        "      <td> 824</td>\n",
        "      <td> +</td>\n",
        "    </tr>\n",
        "    <tr>\n",
        "      <th>3</th>\n",
        "      <td> b</td>\n",
        "      <td> 27.83</td>\n",
        "      <td> 1.540</td>\n",
        "      <td> u</td>\n",
        "      <td> g</td>\n",
        "      <td> w</td>\n",
        "      <td> v</td>\n",
        "      <td> 3.75</td>\n",
        "      <td> t</td>\n",
        "      <td> t</td>\n",
        "      <td> 5</td>\n",
        "      <td> t</td>\n",
        "      <td> g</td>\n",
        "      <td> 00100</td>\n",
        "      <td>   3</td>\n",
        "      <td> +</td>\n",
        "    </tr>\n",
        "    <tr>\n",
        "      <th>4</th>\n",
        "      <td> b</td>\n",
        "      <td> 20.17</td>\n",
        "      <td> 5.625</td>\n",
        "      <td> u</td>\n",
        "      <td> g</td>\n",
        "      <td> w</td>\n",
        "      <td> v</td>\n",
        "      <td> 1.71</td>\n",
        "      <td> t</td>\n",
        "      <td> f</td>\n",
        "      <td> 0</td>\n",
        "      <td> f</td>\n",
        "      <td> s</td>\n",
        "      <td> 00120</td>\n",
        "      <td>   0</td>\n",
        "      <td> +</td>\n",
        "    </tr>\n",
        "  </tbody>\n",
        "</table>\n",
        "</div>"
       ],
       "metadata": {},
       "output_type": "pyout",
       "prompt_number": 2,
       "text": [
        "  0      1      2  3  4  5  6     7  8  9   10 11 12     13   14 15\n",
        "0  b  30.83  0.000  u  g  w  v  1.25  t  t   1  f  g  00202    0  +\n",
        "1  a  58.67  4.460  u  g  q  h  3.04  t  t   6  f  g  00043  560  +\n",
        "2  a  24.50  0.500  u  g  q  h  1.50  t  f   0  f  g  00280  824  +\n",
        "3  b  27.83  1.540  u  g  w  v  3.75  t  t   5  t  g  00100    3  +\n",
        "4  b  20.17  5.625  u  g  w  v  1.71  t  f   0  f  s  00120    0  +"
       ]
      }
     ],
     "prompt_number": 2
    },
    {
     "cell_type": "code",
     "collapsed": false,
     "input": [
      "#change missing values represented by ? to NaN\n",
      "df.replace('?', np.nan, inplace = True)\n",
      "df[0].value_counts()"
     ],
     "language": "python",
     "metadata": {},
     "outputs": [
      {
       "metadata": {},
       "output_type": "pyout",
       "prompt_number": 3,
       "text": [
        "b    468\n",
        "a    210\n",
        "dtype: int64"
       ]
      }
     ],
     "prompt_number": 3
    },
    {
     "cell_type": "code",
     "collapsed": false,
     "input": [
      "df.info()"
     ],
     "language": "python",
     "metadata": {},
     "outputs": [
      {
       "output_type": "stream",
       "stream": "stdout",
       "text": [
        "<class 'pandas.core.frame.DataFrame'>\n",
        "Int64Index: 690 entries, 0 to 689\n",
        "Data columns (total 16 columns):\n",
        "0     678 non-null object\n",
        "1     678 non-null object\n",
        "2     690 non-null float64\n",
        "3     684 non-null object\n",
        "4     684 non-null object\n",
        "5     681 non-null object\n",
        "6     681 non-null object\n",
        "7     690 non-null float64\n",
        "8     690 non-null object\n",
        "9     690 non-null object\n",
        "10    690 non-null int64\n",
        "11    690 non-null object\n",
        "12    690 non-null object\n",
        "13    677 non-null object\n",
        "14    690 non-null int64\n",
        "15    690 non-null object\n",
        "dtypes: float64(2), int64(2), object(12)\n",
        "memory usage: 91.6+ KB\n"
       ]
      }
     ],
     "prompt_number": 4
    },
    {
     "cell_type": "code",
     "collapsed": false,
     "input": [
      "#need to impute values for colums 0,1,3,4,5,6,13\n",
      "#is there a way to auto calc the percents? I wish\n",
      "df[0].value_counts() #a-210, b-468\n",
      "df['0imp'] = df[0]\n",
      "df['0imp'].fillna(np.random.choice(['a','b'], p = [.31, .69]), inplace = True)\n",
      "\n",
      "#convert to float, make a copy\n",
      "df[1] = df[1].astype(float)\n",
      "df['1imp'] = df[1]\n",
      "df['1imp'].mean() #31.568171091445429 \n",
      "df['1imp'].std() #11.957862498270877\n",
      "df['1imp'].fillna(np.random.normal(31.568171091445429, 11.957862498270877), inplace = True) \n",
      "df['1imp'][df['1imp'] < 0] = 0\n",
      "\n",
      "df[3].value_counts()  #u-519, y-163, l-2\n",
      "df['3imp'] = df[3]\n",
      "df['3imp'].fillna(np.random.choice(['u','y','l'], p = [.758, .238, .004]), inplace = True)\n",
      "\n",
      "df[4].value_counts()\n",
      "df['4imp'] = df[4]\n",
      "df['4imp'].fillna(np.random.choice(['g','p','gg'], p = [.758, .238, .004]), inplace = True)\n",
      "\n",
      "#14 values! there has to be a faster way to do the probability\n",
      "keyVals = df[5].value_counts()\n",
      "keys = [x for x in keyVals.keys()]\n",
      "vals = keyVals.tolist()\n",
      "val_probability = map(lambda x: float(x)/sum(vals), vals)\n",
      "df['5imp'] = df[5]\n",
      "df['5imp'].fillna(np.random.choice(keys, p = val_probability), inplace = True)\n",
      "\n",
      "keyVals = df[6].value_counts()\n",
      "keys = [x for x in keyVals.keys()]\n",
      "vals = keyVals.tolist()\n",
      "val_probability = map(lambda x: float(x)/sum(vals), vals)\n",
      "df['6imp'] = df[6]\n",
      "df['6imp'].fillna(np.random.choice(keys, p = val_probability), inplace = True)\n",
      "\n",
      "df['13imp'] = df[13].astype(float)\n",
      "df['13imp'].mean() #184.01477104874445 \n",
      "df['13imp'].std() #173.80676822523813 \n",
      "df['13imp'].fillna(np.random.normal(184.01477104874445 , 173.80676822523813 ), inplace = True) \n",
      "df['13imp'][df['13imp'] < 0] = 0\n",
      "\n",
      "df.info()"
     ],
     "language": "python",
     "metadata": {},
     "outputs": [
      {
       "output_type": "stream",
       "stream": "stdout",
       "text": [
        "<class 'pandas.core.frame.DataFrame'>\n",
        "Int64Index: 690 entries, 0 to 689\n",
        "Data columns (total 23 columns):\n",
        "0        678 non-null object\n",
        "1        678 non-null float64\n",
        "2        690 non-null float64\n",
        "3        684 non-null object\n",
        "4        684 non-null object\n",
        "5        681 non-null object\n",
        "6        681 non-null object\n",
        "7        690 non-null float64\n",
        "8        690 non-null object\n",
        "9        690 non-null object\n",
        "10       690 non-null int64\n",
        "11       690 non-null object\n",
        "12       690 non-null object\n",
        "13       677 non-null object\n",
        "14       690 non-null int64\n",
        "15       690 non-null object\n",
        "0imp     690 non-null object\n",
        "1imp     690 non-null float64\n",
        "3imp     690 non-null object\n",
        "4imp     690 non-null object\n",
        "5imp     690 non-null object\n",
        "6imp     690 non-null object\n",
        "13imp    690 non-null float64\n",
        "dtypes: float64(5), int64(2), object(16)\n",
        "memory usage: 129.4+ KB\n"
       ]
      }
     ],
     "prompt_number": 6
    },
    {
     "cell_type": "code",
     "collapsed": false,
     "input": [
      "#change values to + -  boolean\n",
      "d = {'+': True, '-': False}\n",
      "df[15] = df[15].map(d)"
     ],
     "language": "python",
     "metadata": {},
     "outputs": [],
     "prompt_number": 7
    },
    {
     "cell_type": "markdown",
     "metadata": {},
     "source": [
      "### Plot, get dummies, and transmute"
     ]
    },
    {
     "cell_type": "code",
     "collapsed": false,
     "input": [
      "#PLOT STUFF YO\n",
      "#create a new dataframe with none of the none imputed columsn missing data\n",
      "dfImputed = df.copy()\n",
      "for x in [13,6,5,4,3,1,0]:\n",
      "    dfImputed.drop(x, axis=1, inplace=True)\n",
      "    \n",
      "plotted = pd.scatter_matrix(dfImputed, figsize=(15, 15))"
     ],
     "language": "python",
     "metadata": {},
     "outputs": [
      {
       "metadata": {},
       "output_type": "display_data",
       "png": "[encoded data removed]",
       "text": [
        "<matplotlib.figure.Figure at 0x109a50950>"
       ]
      }
     ],
     "prompt_number": 8
    },
    {
     "cell_type": "code",
     "collapsed": false,
     "input": [
      "#convert to bool on 8, 9, 11, \n",
      "d = {'t': True, 'f': False}\n",
      "dfImputed[8] = dfImputed[8].map(d)\n",
      "dfImputed[9] = dfImputed[9].map(d)\n",
      "dfImputed[11] = dfImputed[11].map(d)"
     ],
     "language": "python",
     "metadata": {},
     "outputs": [],
     "prompt_number": 9
    },
    {
     "cell_type": "code",
     "collapsed": false,
     "input": [
      "#get dummies on 12, '0imp', '3imp','4imp','5imp','6imp',\n",
      "#ugh some of these values repeat.  Gotta find em and remove em I suppose and convert them to something else\n",
      "\n",
      "#arr = pd.Series(['b', 'a', 'u', 'y', 'l', 't', 'g', 'p', 'gg', 'c', 'd', 'cc', 'i', 'j', 'k', 'm', 'r', 'q', 'w', 'x', 'e', 'aa', 'ff', 'v', 'h', 'bb', 'j', 'n', 'z', 'dd', 'ff', 'o', 'g', 'p', 's'])\n",
      "#arr.value_counts() # j, ff, p and g are the repeat offenders\n",
      "\n",
      "#j -> jj\n",
      "dfImputed['6imp'][dfImputed['6imp'] == 'j'] = 'jj'\n",
      "\n",
      "#ff -> 'fff'\n",
      "dfImputed['6imp'][dfImputed['6imp'] == 'ff'] = 'fff'\n",
      "\n",
      "#p -> pp\n",
      "dfImputed[12][dfImputed[12] == 'p'] = 'pp'\n",
      "\n",
      "#g -> ggg\n",
      "dfImputed[12][dfImputed[12] == 'g'] = 'ggg'\n",
      "\n"
     ],
     "language": "python",
     "metadata": {},
     "outputs": [],
     "prompt_number": 11
    },
    {
     "cell_type": "code",
     "collapsed": false,
     "input": [
      "for column in [12, '0imp', '3imp','4imp','5imp','6imp']:\n",
      "    dummies = pd.get_dummies(dfImputed[column])\n",
      "    dfImputed[dummies.columns] = dummies\n",
      "    \n",
      "for x in [12, '0imp', '3imp','4imp','5imp','6imp']:\n",
      "    dfImputed.drop(x, axis=1, inplace=True)\n",
      "dfImputed.info()"
     ],
     "language": "python",
     "metadata": {},
     "outputs": [
      {
       "output_type": "stream",
       "stream": "stdout",
       "text": [
        "<class 'pandas.core.frame.DataFrame'>\n",
        "Int64Index: 690 entries, 0 to 689\n",
        "Data columns (total 44 columns):\n",
        "2        690 non-null float64\n",
        "7        690 non-null float64\n",
        "8        690 non-null bool\n",
        "9        690 non-null bool\n",
        "10       690 non-null int64\n",
        "11       690 non-null bool\n",
        "14       690 non-null int64\n",
        "15       690 non-null bool\n",
        "1imp     690 non-null float64\n",
        "13imp    690 non-null float64\n",
        "ggg      690 non-null float64\n",
        "pp       690 non-null float64\n",
        "s        690 non-null float64\n",
        "a        690 non-null float64\n",
        "b        690 non-null float64\n",
        "l        690 non-null float64\n",
        "u        690 non-null float64\n",
        "y        690 non-null float64\n",
        "g        690 non-null float64\n",
        "gg       690 non-null float64\n",
        "p        690 non-null float64\n",
        "aa       690 non-null float64\n",
        "c        690 non-null float64\n",
        "cc       690 non-null float64\n",
        "d        690 non-null float64\n",
        "e        690 non-null float64\n",
        "ff       690 non-null float64\n",
        "i        690 non-null float64\n",
        "j        690 non-null float64\n",
        "k        690 non-null float64\n",
        "m        690 non-null float64\n",
        "q        690 non-null float64\n",
        "r        690 non-null float64\n",
        "w        690 non-null float64\n",
        "x        690 non-null float64\n",
        "bb       690 non-null float64\n",
        "dd       690 non-null float64\n",
        "fff      690 non-null float64\n",
        "h        690 non-null float64\n",
        "jj       690 non-null float64\n",
        "n        690 non-null float64\n",
        "o        690 non-null float64\n",
        "v        690 non-null float64\n",
        "z        690 non-null float64\n",
        "dtypes: bool(4), float64(38), int64(2)\n",
        "memory usage: 223.7 KB\n"
       ]
      }
     ],
     "prompt_number": 12
    },
    {
     "cell_type": "code",
     "collapsed": false,
     "input": [
      "#this is slow but i think it is right, commenting it out because it takes a heck of a long time to run\n",
      "#plotted = pd.scatter_matrix(dfImputed, figsize=(75,75))"
     ],
     "language": "python",
     "metadata": {},
     "outputs": [],
     "prompt_number": 13
    },
    {
     "cell_type": "markdown",
     "metadata": {},
     "source": [
      "### Logistic regression!\n",
      "\n"
     ]
    },
    {
     "cell_type": "code",
     "collapsed": false,
     "input": [
      "#lets use all the values for our model!\n",
      "keys = list(dfImputed.keys())\n",
      "keys.remove(15) #removes the y\n",
      "x_data = keys"
     ],
     "language": "python",
     "metadata": {},
     "outputs": [],
     "prompt_number": 20
    },
    {
     "cell_type": "code",
     "collapsed": false,
     "input": [
      "x_train, x_test, y_train, y_test = train_test_split(dfImputed[x_data], dfImputed[15])"
     ],
     "language": "python",
     "metadata": {},
     "outputs": [],
     "prompt_number": 21
    },
    {
     "cell_type": "code",
     "collapsed": false,
     "input": [
      "logReg = LogisticRegression()"
     ],
     "language": "python",
     "metadata": {},
     "outputs": [],
     "prompt_number": 22
    },
    {
     "cell_type": "code",
     "collapsed": false,
     "input": [
      "logReg.fit(x_train, y_train)"
     ],
     "language": "python",
     "metadata": {},
     "outputs": [
      {
       "metadata": {},
       "output_type": "pyout",
       "prompt_number": 23,
       "text": [
        "LogisticRegression(C=1.0, class_weight=None, dual=False, fit_intercept=True,\n",
        "          intercept_scaling=1, penalty='l2', random_state=None, tol=0.0001)"
       ]
      }
     ],
     "prompt_number": 23
    },
    {
     "cell_type": "code",
     "collapsed": false,
     "input": [
      "logReg.score(x_test, y_test)"
     ],
     "language": "python",
     "metadata": {},
     "outputs": [
      {
       "metadata": {},
       "output_type": "pyout",
       "prompt_number": 24,
       "text": [
        "0.87283236994219648"
       ]
      }
     ],
     "prompt_number": 24
    },
    {
     "cell_type": "markdown",
     "metadata": {},
     "source": [
      "###Make an SVM"
     ]
    },
    {
     "cell_type": "code",
     "collapsed": false,
     "input": [
      "#a linear one!\n",
      "linSVC = LinearSVC(C = 1e-3)\n",
      "linSVC.fit(x_train, y_train)\n",
      "linSVC.score(x_test, y_test)"
     ],
     "language": "python",
     "metadata": {},
     "outputs": [
      {
       "metadata": {},
       "output_type": "pyout",
       "prompt_number": 26,
       "text": [
        "0.83236994219653182"
       ]
      }
     ],
     "prompt_number": 26
    },
    {
     "cell_type": "code",
     "collapsed": false,
     "input": [
      "#using SVC!\n",
      "#linear again! but different!"
     ],
     "language": "python",
     "metadata": {},
     "outputs": [],
     "prompt_number": 27
    },
    {
     "cell_type": "code",
     "collapsed": false,
     "input": [
      "nlk = SVC()\n",
      "nlk.fit(x_train, y_train)"
     ],
     "language": "python",
     "metadata": {},
     "outputs": [
      {
       "metadata": {},
       "output_type": "pyout",
       "prompt_number": 33,
       "text": [
        "SVC(C=1.0, cache_size=200, class_weight=None, coef0=0.0, degree=3, gamma=0.0,\n",
        "  kernel='rbf', max_iter=-1, probability=False, random_state=None,\n",
        "  shrinking=True, tol=0.001, verbose=False)"
       ]
      }
     ],
     "prompt_number": 33
    },
    {
     "cell_type": "code",
     "collapsed": false,
     "input": [
      "nlk.score(x_test,y_test)"
     ],
     "language": "python",
     "metadata": {},
     "outputs": [
      {
       "metadata": {},
       "output_type": "pyout",
       "prompt_number": 34,
       "text": [
        "0.54913294797687862"
       ]
      }
     ],
     "prompt_number": 34
    },
    {
     "cell_type": "markdown",
     "metadata": {},
     "source": [
      "### grid search it\n"
     ]
    },
    {
     "cell_type": "code",
     "collapsed": false,
     "input": [
      "d = {}\n",
      "d['C'] = np.logspace(-.3, 3., 100)\n",
      "gs = GridSearchCV(LinearSVC(), d)"
     ],
     "language": "python",
     "metadata": {},
     "outputs": [],
     "prompt_number": 35
    },
    {
     "cell_type": "code",
     "collapsed": false,
     "input": [
      "gs.fit(x_train, y_train)"
     ],
     "language": "python",
     "metadata": {},
     "outputs": [
      {
       "metadata": {},
       "output_type": "pyout",
       "prompt_number": 36,
       "text": [
        "GridSearchCV(cv=None,\n",
        "       estimator=LinearSVC(C=1.0, class_weight=None, dual=True, fit_intercept=True,\n",
        "     intercept_scaling=1, loss='l2', multi_class='ovr', penalty='l2',\n",
        "     random_state=None, tol=0.0001, verbose=0),\n",
        "       fit_params={}, iid=True, loss_func=None, n_jobs=1,\n",
        "       param_grid={'C': array([  5.01187e-01,   5.41170e-01, ...,   9.26119e+02,   1.00000e+03])},\n",
        "       pre_dispatch='2*n_jobs', refit=True, score_func=None, scoring=None,\n",
        "       verbose=0)"
       ]
      }
     ],
     "prompt_number": 36
    },
    {
     "cell_type": "code",
     "collapsed": false,
     "input": [
      "gs.best_estimator_"
     ],
     "language": "python",
     "metadata": {},
     "outputs": [
      {
       "metadata": {},
       "output_type": "pyout",
       "prompt_number": 37,
       "text": [
        "LinearSVC(C=0.54116952654646366, class_weight=None, dual=True,\n",
        "     fit_intercept=True, intercept_scaling=1, loss='l2', multi_class='ovr',\n",
        "     penalty='l2', random_state=None, tol=0.0001, verbose=0)"
       ]
      }
     ],
     "prompt_number": 37
    },
    {
     "cell_type": "code",
     "collapsed": false,
     "input": [
      "gs.best_estimator_.score(x_test, y_test)"
     ],
     "language": "python",
     "metadata": {},
     "outputs": [
      {
       "metadata": {},
       "output_type": "pyout",
       "prompt_number": 38,
       "text": [
        "0.82658959537572252"
       ]
      }
     ],
     "prompt_number": 38
    },
    {
     "cell_type": "code",
     "collapsed": false,
     "input": [
      "#narrow the range for linear\n",
      "\n",
      "d['C'] = np.logspace(2., 2.5, 20)\n",
      "gs = GridSearchCV(LinearSVC(), d)"
     ],
     "language": "python",
     "metadata": {},
     "outputs": [],
     "prompt_number": 39
    },
    {
     "cell_type": "code",
     "collapsed": false,
     "input": [
      "gs.fit(x_train, y_train)\n",
      "gs.best_estimator_"
     ],
     "language": "python",
     "metadata": {},
     "outputs": [
      {
       "metadata": {},
       "output_type": "pyout",
       "prompt_number": 40,
       "text": [
        "LinearSVC(C=162.37767391887209, class_weight=None, dual=True,\n",
        "     fit_intercept=True, intercept_scaling=1, loss='l2', multi_class='ovr',\n",
        "     penalty='l2', random_state=None, tol=0.0001, verbose=0)"
       ]
      }
     ],
     "prompt_number": 40
    },
    {
     "cell_type": "code",
     "collapsed": false,
     "input": [
      "gs.best_estimator_.score(x_test, y_test)"
     ],
     "language": "python",
     "metadata": {},
     "outputs": [
      {
       "metadata": {},
       "output_type": "pyout",
       "prompt_number": 41,
       "text": [
        "0.83815028901734101"
       ]
      }
     ],
     "prompt_number": 41
    },
    {
     "cell_type": "code",
     "collapsed": false,
     "input": [
      "#well that is all kinda not great...\n",
      "#lets try the rbf radial basis function\n",
      "d = {}\n",
      "d['C'] = np.logspace(-.3, 3., 100)\n",
      "gs = GridSearchCV(SVC(), d)\n",
      "gs.fit(x_train, y_train)\n",
      "gs.best_estimator_"
     ],
     "language": "python",
     "metadata": {},
     "outputs": [
      {
       "metadata": {},
       "output_type": "pyout",
       "prompt_number": 42,
       "text": [
        "SVC(C=0.58434141337351764, cache_size=200, class_weight=None, coef0=0.0,\n",
        "  degree=3, gamma=0.0, kernel='rbf', max_iter=-1, probability=False,\n",
        "  random_state=None, shrinking=True, tol=0.001, verbose=False)"
       ]
      }
     ],
     "prompt_number": 42
    },
    {
     "cell_type": "code",
     "collapsed": false,
     "input": [
      "gs.best_estimator_.score(x_test, y_test)"
     ],
     "language": "python",
     "metadata": {},
     "outputs": [
      {
       "metadata": {},
       "output_type": "pyout",
       "prompt_number": 43,
       "text": [
        "0.53757225433526012"
       ]
      }
     ],
     "prompt_number": 43
    },
    {
     "cell_type": "code",
     "collapsed": false,
     "input": [
      "d['C'] = np.logspace(-.3, 3., 10)\n",
      "d['gamma'] = np.logspace(-.3, 3., 10)\n",
      "gs = GridSearchCV(SVC(), d)\n",
      "gs.fit(x_train, y_train)\n",
      "gs.best_estimator_\n"
     ],
     "language": "python",
     "metadata": {},
     "outputs": [
      {
       "metadata": {},
       "output_type": "pyout",
       "prompt_number": 44,
       "text": [
        "SVC(C=0.50118723362727224, cache_size=200, class_weight=None, coef0=0.0,\n",
        "  degree=3, gamma=0.50118723362727224, kernel='rbf', max_iter=-1,\n",
        "  probability=False, random_state=None, shrinking=True, tol=0.001,\n",
        "  verbose=False)"
       ]
      }
     ],
     "prompt_number": 44
    },
    {
     "cell_type": "code",
     "collapsed": false,
     "input": [
      "gs.best_estimator_.score(x_test, y_test)"
     ],
     "language": "python",
     "metadata": {},
     "outputs": [
      {
       "metadata": {},
       "output_type": "pyout",
       "prompt_number": 45,
       "text": [
        "0.52023121387283233"
       ]
      }
     ],
     "prompt_number": 45
    },
    {
     "cell_type": "markdown",
     "metadata": {},
     "source": [
      "###Confusion matrix!"
     ]
    },
    {
     "cell_type": "code",
     "collapsed": false,
     "input": [
      "#we had multiple predictions to map with a matrix\n",
      "#logReg\n",
      "#linSVC\n",
      "#nlk\n",
      "#gs\n",
      "y_pred = logReg.predict(x_test)\n",
      "confusion_matrix(y_test, y_pred)"
     ],
     "language": "python",
     "metadata": {},
     "outputs": [
      {
       "metadata": {},
       "output_type": "pyout",
       "prompt_number": 49,
       "text": [
        "array([[77, 13],\n",
        "       [ 9, 74]])"
       ]
      }
     ],
     "prompt_number": 49
    },
    {
     "cell_type": "code",
     "collapsed": false,
     "input": [
      "y_pred = linSVC.predict(x_test)\n",
      "confusion_matrix(y_test, y_pred)"
     ],
     "language": "python",
     "metadata": {},
     "outputs": [
      {
       "metadata": {},
       "output_type": "pyout",
       "prompt_number": 50,
       "text": [
        "array([[81,  9],\n",
        "       [20, 63]])"
       ]
      }
     ],
     "prompt_number": 50
    },
    {
     "cell_type": "code",
     "collapsed": false,
     "input": [
      "y_pred = nlk.predict(x_test)\n",
      "confusion_matrix(y_test, y_pred)"
     ],
     "language": "python",
     "metadata": {},
     "outputs": [
      {
       "metadata": {},
       "output_type": "pyout",
       "prompt_number": 51,
       "text": [
        "array([[86,  4],\n",
        "       [74,  9]])"
       ]
      }
     ],
     "prompt_number": 51
    },
    {
     "cell_type": "code",
     "collapsed": false,
     "input": [
      "y_pred = gs.predict(x_test)\n",
      "confusion_matrix(y_test, y_pred)"
     ],
     "language": "python",
     "metadata": {},
     "outputs": [
      {
       "metadata": {},
       "output_type": "pyout",
       "prompt_number": 52,
       "text": [
        "array([[90,  0],\n",
        "       [83,  0]])"
       ]
      }
     ],
     "prompt_number": 52
    }
   ],
   "metadata": {}
  }
 ]
}