{
 "metadata": {
  "name": "",
  "signature": "sha256:4c4517dc9a7a2ef979d88b16c97418a25035ec4c89bb5045e7e067539980726b"
 },
 "nbformat": 3,
 "nbformat_minor": 0,
 "worksheets": [
  {
   "cells": [
    {
     "cell_type": "code",
     "collapsed": false,
     "input": [
      "# Standard imports for data analysis packages in Python\n",
      "import pandas as pd\n",
      "import numpy as np\n",
      "import seaborn as sns\n",
      "import matplotlib.pyplot as plt\n",
      "from sklearn.svm import LinearSVC\n",
      "from sklearn.lda import LDA\n",
      "from sklearn.neighbors import KNeighborsClassifier\n",
      "from sklearn.grid_search import GridSearchCV\n",
      "# This enables inline Plots\n",
      "%matplotlib inline\n",
      "\n",
      "# Limit rows displayed in notebook\n",
      "pd.set_option('display.max_rows', 10)\n",
      "pd.set_option('display.precision', 2)"
     ],
     "language": "python",
     "metadata": {},
     "outputs": [],
     "prompt_number": 175
    },
    {
     "cell_type": "code",
     "collapsed": false,
     "input": [
      "!pwd"
     ],
     "language": "python",
     "metadata": {},
     "outputs": [
      {
       "output_type": "stream",
       "stream": "stdout",
       "text": [
        "/Users/megara/DAT_SF_11/homeworks/hw2\r\n"
       ]
      }
     ],
     "prompt_number": 176
    },
    {
     "cell_type": "code",
     "collapsed": false,
     "input": [
      "#I pull in the data twice. One set I filled using normal distributions for continous values and histograms/random integers \n",
      "# for discrete values which I replaced with strings to replicate the distribution. One set I just removed all ? data.\n",
      "col_names=[ \"A1\", \"A2\", \"A3\", \"A4\", \"A5\", \"A6\", \"A7\", \"A8\", \"A9\", \"A10\", \"A11\", \"A12\", \"A13\", \"A14\", \"A15\",\"A16\"]\n",
      "credit = pd.read_csv('.//data/crx.data', names=col_names)\n",
      "credit1 = pd.read_csv('.//data/crx.data', names=col_names, na_values='?')"
     ],
     "language": "python",
     "metadata": {},
     "outputs": [],
     "prompt_number": 189
    },
    {
     "cell_type": "code",
     "collapsed": false,
     "input": [
      "credit1.head()"
     ],
     "language": "python",
     "metadata": {},
     "outputs": [
      {
       "html": [
        "<div style=\"max-height:1000px;max-width:1500px;overflow:auto;\">\n",
        "<table border=\"1\" class=\"dataframe\">\n",
        "  <thead>\n",
        "    <tr style=\"text-align: right;\">\n",
        "      <th></th>\n",
        "      <th>A1</th>\n",
        "      <th>A2</th>\n",
        "      <th>A3</th>\n",
        "      <th>A4</th>\n",
        "      <th>A5</th>\n",
        "      <th>A6</th>\n",
        "      <th>A7</th>\n",
        "      <th>A8</th>\n",
        "      <th>A9</th>\n",
        "      <th>A10</th>\n",
        "      <th>A11</th>\n",
        "      <th>A12</th>\n",
        "      <th>A13</th>\n",
        "      <th>A14</th>\n",
        "      <th>A15</th>\n",
        "      <th>A16</th>\n",
        "    </tr>\n",
        "  </thead>\n",
        "  <tbody>\n",
        "    <tr>\n",
        "      <th>0</th>\n",
        "      <td> b</td>\n",
        "      <td> 30.8</td>\n",
        "      <td> 0.0</td>\n",
        "      <td> u</td>\n",
        "      <td> g</td>\n",
        "      <td> w</td>\n",
        "      <td> v</td>\n",
        "      <td> 1.2</td>\n",
        "      <td> t</td>\n",
        "      <td> t</td>\n",
        "      <td> 1</td>\n",
        "      <td> f</td>\n",
        "      <td> g</td>\n",
        "      <td> 202</td>\n",
        "      <td>   0</td>\n",
        "      <td> +</td>\n",
        "    </tr>\n",
        "    <tr>\n",
        "      <th>1</th>\n",
        "      <td> a</td>\n",
        "      <td> 58.7</td>\n",
        "      <td> 4.5</td>\n",
        "      <td> u</td>\n",
        "      <td> g</td>\n",
        "      <td> q</td>\n",
        "      <td> h</td>\n",
        "      <td> 3.0</td>\n",
        "      <td> t</td>\n",
        "      <td> t</td>\n",
        "      <td> 6</td>\n",
        "      <td> f</td>\n",
        "      <td> g</td>\n",
        "      <td>  43</td>\n",
        "      <td> 560</td>\n",
        "      <td> +</td>\n",
        "    </tr>\n",
        "    <tr>\n",
        "      <th>2</th>\n",
        "      <td> a</td>\n",
        "      <td> 24.5</td>\n",
        "      <td> 0.5</td>\n",
        "      <td> u</td>\n",
        "      <td> g</td>\n",
        "      <td> q</td>\n",
        "      <td> h</td>\n",
        "      <td> 1.5</td>\n",
        "      <td> t</td>\n",
        "      <td> f</td>\n",
        "      <td> 0</td>\n",
        "      <td> f</td>\n",
        "      <td> g</td>\n",
        "      <td> 280</td>\n",
        "      <td> 824</td>\n",
        "      <td> +</td>\n",
        "    </tr>\n",
        "    <tr>\n",
        "      <th>3</th>\n",
        "      <td> b</td>\n",
        "      <td> 27.8</td>\n",
        "      <td> 1.5</td>\n",
        "      <td> u</td>\n",
        "      <td> g</td>\n",
        "      <td> w</td>\n",
        "      <td> v</td>\n",
        "      <td> 3.8</td>\n",
        "      <td> t</td>\n",
        "      <td> t</td>\n",
        "      <td> 5</td>\n",
        "      <td> t</td>\n",
        "      <td> g</td>\n",
        "      <td> 100</td>\n",
        "      <td>   3</td>\n",
        "      <td> +</td>\n",
        "    </tr>\n",
        "    <tr>\n",
        "      <th>4</th>\n",
        "      <td> b</td>\n",
        "      <td> 20.2</td>\n",
        "      <td> 5.6</td>\n",
        "      <td> u</td>\n",
        "      <td> g</td>\n",
        "      <td> w</td>\n",
        "      <td> v</td>\n",
        "      <td> 1.7</td>\n",
        "      <td> t</td>\n",
        "      <td> f</td>\n",
        "      <td> 0</td>\n",
        "      <td> f</td>\n",
        "      <td> s</td>\n",
        "      <td> 120</td>\n",
        "      <td>   0</td>\n",
        "      <td> +</td>\n",
        "    </tr>\n",
        "  </tbody>\n",
        "</table>\n",
        "</div>"
       ],
       "metadata": {},
       "output_type": "pyout",
       "prompt_number": 192,
       "text": [
        "  A1    A2   A3 A4 A5 A6 A7   A8 A9 A10  A11 A12 A13  A14  A15 A16\n",
        "0  b  30.8  0.0  u  g  w  v  1.2  t   t    1   f   g  202    0   +\n",
        "1  a  58.7  4.5  u  g  q  h  3.0  t   t    6   f   g   43  560   +\n",
        "2  a  24.5  0.5  u  g  q  h  1.5  t   f    0   f   g  280  824   +\n",
        "3  b  27.8  1.5  u  g  w  v  3.8  t   t    5   t   g  100    3   +\n",
        "4  b  20.2  5.6  u  g  w  v  1.7  t   f    0   f   s  120    0   +"
       ]
      }
     ],
     "prompt_number": 192
    },
    {
     "cell_type": "code",
     "collapsed": false,
     "input": [
      "credit1=credit1.dropna()"
     ],
     "language": "python",
     "metadata": {},
     "outputs": [],
     "prompt_number": 191
    },
    {
     "cell_type": "code",
     "collapsed": false,
     "input": [
      "credit.head()"
     ],
     "language": "python",
     "metadata": {},
     "outputs": [
      {
       "html": [
        "<div style=\"max-height:1000px;max-width:1500px;overflow:auto;\">\n",
        "<table border=\"1\" class=\"dataframe\">\n",
        "  <thead>\n",
        "    <tr style=\"text-align: right;\">\n",
        "      <th></th>\n",
        "      <th>A1</th>\n",
        "      <th>A2</th>\n",
        "      <th>A3</th>\n",
        "      <th>A4</th>\n",
        "      <th>A5</th>\n",
        "      <th>A6</th>\n",
        "      <th>A7</th>\n",
        "      <th>A8</th>\n",
        "      <th>A9</th>\n",
        "      <th>A10</th>\n",
        "      <th>A11</th>\n",
        "      <th>A12</th>\n",
        "      <th>A13</th>\n",
        "      <th>A14</th>\n",
        "      <th>A15</th>\n",
        "      <th>A16</th>\n",
        "      <th>Approval</th>\n",
        "      <th>result</th>\n",
        "    </tr>\n",
        "  </thead>\n",
        "  <tbody>\n",
        "    <tr>\n",
        "      <th>0</th>\n",
        "      <td> b</td>\n",
        "      <td> 30.8</td>\n",
        "      <td> 0.0</td>\n",
        "      <td> u</td>\n",
        "      <td> g</td>\n",
        "      <td> w</td>\n",
        "      <td> v</td>\n",
        "      <td> 1.2</td>\n",
        "      <td> t</td>\n",
        "      <td> t</td>\n",
        "      <td> 1</td>\n",
        "      <td> f</td>\n",
        "      <td> g</td>\n",
        "      <td> 00202</td>\n",
        "      <td>   0</td>\n",
        "      <td> 1</td>\n",
        "      <td> 1</td>\n",
        "      <td> None</td>\n",
        "    </tr>\n",
        "    <tr>\n",
        "      <th>1</th>\n",
        "      <td> a</td>\n",
        "      <td> 58.7</td>\n",
        "      <td> 4.5</td>\n",
        "      <td> u</td>\n",
        "      <td> g</td>\n",
        "      <td> q</td>\n",
        "      <td> h</td>\n",
        "      <td> 3.0</td>\n",
        "      <td> t</td>\n",
        "      <td> t</td>\n",
        "      <td> 6</td>\n",
        "      <td> f</td>\n",
        "      <td> g</td>\n",
        "      <td> 00043</td>\n",
        "      <td> 560</td>\n",
        "      <td> 1</td>\n",
        "      <td> 1</td>\n",
        "      <td> None</td>\n",
        "    </tr>\n",
        "    <tr>\n",
        "      <th>2</th>\n",
        "      <td> a</td>\n",
        "      <td> 24.5</td>\n",
        "      <td> 0.5</td>\n",
        "      <td> u</td>\n",
        "      <td> g</td>\n",
        "      <td> q</td>\n",
        "      <td> h</td>\n",
        "      <td> 1.5</td>\n",
        "      <td> t</td>\n",
        "      <td> f</td>\n",
        "      <td> 0</td>\n",
        "      <td> f</td>\n",
        "      <td> g</td>\n",
        "      <td> 00280</td>\n",
        "      <td> 824</td>\n",
        "      <td> 1</td>\n",
        "      <td> 1</td>\n",
        "      <td> None</td>\n",
        "    </tr>\n",
        "    <tr>\n",
        "      <th>3</th>\n",
        "      <td> b</td>\n",
        "      <td> 27.8</td>\n",
        "      <td> 1.5</td>\n",
        "      <td> u</td>\n",
        "      <td> g</td>\n",
        "      <td> w</td>\n",
        "      <td> v</td>\n",
        "      <td> 3.8</td>\n",
        "      <td> t</td>\n",
        "      <td> t</td>\n",
        "      <td> 5</td>\n",
        "      <td> t</td>\n",
        "      <td> g</td>\n",
        "      <td> 00100</td>\n",
        "      <td>   3</td>\n",
        "      <td> 1</td>\n",
        "      <td> 1</td>\n",
        "      <td> None</td>\n",
        "    </tr>\n",
        "    <tr>\n",
        "      <th>4</th>\n",
        "      <td> b</td>\n",
        "      <td> 20.2</td>\n",
        "      <td> 5.6</td>\n",
        "      <td> u</td>\n",
        "      <td> g</td>\n",
        "      <td> w</td>\n",
        "      <td> v</td>\n",
        "      <td> 1.7</td>\n",
        "      <td> t</td>\n",
        "      <td> f</td>\n",
        "      <td> 0</td>\n",
        "      <td> f</td>\n",
        "      <td> s</td>\n",
        "      <td> 00120</td>\n",
        "      <td>   0</td>\n",
        "      <td> 1</td>\n",
        "      <td> 1</td>\n",
        "      <td> None</td>\n",
        "    </tr>\n",
        "  </tbody>\n",
        "</table>\n",
        "</div>"
       ],
       "metadata": {},
       "output_type": "pyout",
       "prompt_number": 85,
       "text": [
        "  A1    A2   A3 A4 A5 A6 A7   A8 A9 A10  A11 A12 A13    A14  A15 A16  \\\n",
        "0  b  30.8  0.0  u  g  w  v  1.2  t   t    1   f   g  00202    0   1   \n",
        "1  a  58.7  4.5  u  g  q  h  3.0  t   t    6   f   g  00043  560   1   \n",
        "2  a  24.5  0.5  u  g  q  h  1.5  t   f    0   f   g  00280  824   1   \n",
        "3  b  27.8  1.5  u  g  w  v  3.8  t   t    5   t   g  00100    3   1   \n",
        "4  b  20.2  5.6  u  g  w  v  1.7  t   f    0   f   s  00120    0   1   \n",
        "\n",
        "   Approval result  \n",
        "0         1   None  \n",
        "1         1   None  \n",
        "2         1   None  \n",
        "3         1   None  \n",
        "4         1   None  "
       ]
      }
     ],
     "prompt_number": 85
    },
    {
     "cell_type": "code",
     "collapsed": false,
     "input": [
      "credit.info()"
     ],
     "language": "python",
     "metadata": {},
     "outputs": [
      {
       "output_type": "stream",
       "stream": "stdout",
       "text": [
        "<class 'pandas.core.frame.DataFrame'>\n",
        "Int64Index: 690 entries, 0 to 689\n",
        "Data columns (total 16 columns):\n",
        "A1     690 non-null object\n",
        "A2     690 non-null object\n",
        "A3     690 non-null float64\n",
        "A4     690 non-null object\n",
        "A5     690 non-null object\n",
        "A6     690 non-null object\n",
        "A7     690 non-null object\n",
        "A8     690 non-null float64\n",
        "A9     690 non-null object\n",
        "A10    690 non-null object\n",
        "A11    690 non-null int64\n",
        "A12    690 non-null object\n",
        "A13    690 non-null object\n",
        "A14    690 non-null object\n",
        "A15    690 non-null int64\n",
        "A16    690 non-null object\n",
        "dtypes: float64(2), int64(2), object(12)\n",
        "memory usage: 91.6+ KB\n"
       ]
      }
     ],
     "prompt_number": 9
    },
    {
     "cell_type": "code",
     "collapsed": false,
     "input": [
      "credit['A1'].unique()"
     ],
     "language": "python",
     "metadata": {},
     "outputs": [
      {
       "metadata": {},
       "output_type": "pyout",
       "prompt_number": 10,
       "text": [
        "array(['b', 'a', '?'], dtype=object)"
       ]
      }
     ],
     "prompt_number": 10
    },
    {
     "cell_type": "code",
     "collapsed": false,
     "input": [
      "credit['A1'].value_counts().plot(kind='bar');"
     ],
     "language": "python",
     "metadata": {},
     "outputs": [
      {
       "metadata": {},
       "output_type": "display_data",
       "png": "[encoded data removed]",
       "text": [
        "<matplotlib.figure.Figure at 0x109b90f90>"
       ]
      }
     ],
     "prompt_number": 11
    },
    {
     "cell_type": "code",
     "collapsed": false,
     "input": [
      "credit['A1'].replace(to_replace='?', value=np.random.randint(0,2),inplace=True)"
     ],
     "language": "python",
     "metadata": {},
     "outputs": [],
     "prompt_number": 12
    },
    {
     "cell_type": "code",
     "collapsed": false,
     "input": [
      "credit['A1'].replace(to_replace=0, value='a',inplace=True)\n"
     ],
     "language": "python",
     "metadata": {},
     "outputs": [],
     "prompt_number": 13
    },
    {
     "cell_type": "code",
     "collapsed": false,
     "input": [
      "credit['A1'].replace(to_replace=1, value='b',inplace=True)\n",
      "credit['A1'].replace(to_replace=2, value='b',inplace=True)"
     ],
     "language": "python",
     "metadata": {},
     "outputs": [],
     "prompt_number": 14
    },
    {
     "cell_type": "code",
     "collapsed": false,
     "input": [
      "credit['A1'].unique()"
     ],
     "language": "python",
     "metadata": {},
     "outputs": [
      {
       "metadata": {},
       "output_type": "pyout",
       "prompt_number": 15,
       "text": [
        "array(['b', 'a'], dtype=object)"
       ]
      }
     ],
     "prompt_number": 15
    },
    {
     "cell_type": "code",
     "collapsed": false,
     "input": [
      "credit['A2'].replace(to_replace='?', value= 0,inplace=True)"
     ],
     "language": "python",
     "metadata": {},
     "outputs": [],
     "prompt_number": 16
    },
    {
     "cell_type": "code",
     "collapsed": false,
     "input": [
      "credit['A2'].unique()\n",
      "credit['A2']=list(map(float, credit['A2']))\n",
      "#credit['A2'].replace(to_replace='?', value=credit['A2'].mean(),inplace=True)"
     ],
     "language": "python",
     "metadata": {},
     "outputs": [],
     "prompt_number": 17
    },
    {
     "cell_type": "code",
     "collapsed": false,
     "input": [
      "listremove=credit['A2']"
     ],
     "language": "python",
     "metadata": {},
     "outputs": [],
     "prompt_number": 18
    },
    {
     "cell_type": "code",
     "collapsed": false,
     "input": [
      "data=[]\n",
      "for i in listremove:\n",
      "    if i != '0':\n",
      "        data.append(i)\n",
      "mean = sum(data)/len(data)\n",
      "std=np.std(data)"
     ],
     "language": "python",
     "metadata": {},
     "outputs": [],
     "prompt_number": 19
    },
    {
     "cell_type": "code",
     "collapsed": false,
     "input": [
      "credit['A2'].replace(to_replace=0, value=np.random.normal(mean,std),inplace=True)"
     ],
     "language": "python",
     "metadata": {},
     "outputs": [],
     "prompt_number": 20
    },
    {
     "cell_type": "code",
     "collapsed": false,
     "input": [
      "credit['A4'].unique()"
     ],
     "language": "python",
     "metadata": {},
     "outputs": [
      {
       "metadata": {},
       "output_type": "pyout",
       "prompt_number": 21,
       "text": [
        "array(['u', 'y', '?', 'l'], dtype=object)"
       ]
      }
     ],
     "prompt_number": 21
    },
    {
     "cell_type": "code",
     "collapsed": false,
     "input": [],
     "language": "python",
     "metadata": {},
     "outputs": [],
     "prompt_number": 21
    },
    {
     "cell_type": "code",
     "collapsed": false,
     "input": [
      "\n",
      "credit['A4'].value_counts().plot(kind='bar');\n"
     ],
     "language": "python",
     "metadata": {},
     "outputs": [
      {
       "metadata": {},
       "output_type": "display_data",
       "png": "[encoded data removed]",
       "text": [
        "<matplotlib.figure.Figure at 0x1049528d0>"
       ]
      }
     ],
     "prompt_number": 22
    },
    {
     "cell_type": "code",
     "collapsed": false,
     "input": [
      "credit['A4'].replace(to_replace='?', value=np.random.randint(0,2),inplace=True)"
     ],
     "language": "python",
     "metadata": {},
     "outputs": [],
     "prompt_number": 23
    },
    {
     "cell_type": "code",
     "collapsed": false,
     "input": [
      "credit['A4'].replace(to_replace=0, value='u' ,inplace=True)\n",
      "credit['A4'].replace(to_replace=1, value='u' ,inplace=True)\n",
      "credit['A4'].replace(to_replace=2, value='y' ,inplace=True)\n",
      "credit['A4'].replace(to_replace='l', value='y' ,inplace=True)"
     ],
     "language": "python",
     "metadata": {},
     "outputs": [],
     "prompt_number": 24
    },
    {
     "cell_type": "code",
     "collapsed": false,
     "input": [
      "credit['A5'].unique()"
     ],
     "language": "python",
     "metadata": {},
     "outputs": [
      {
       "metadata": {},
       "output_type": "pyout",
       "prompt_number": 25,
       "text": [
        "array(['g', 'p', '?', 'gg'], dtype=object)"
       ]
      }
     ],
     "prompt_number": 25
    },
    {
     "cell_type": "code",
     "collapsed": false,
     "input": [
      "\n",
      "credit['A5'].value_counts().plot(kind='bar');\n",
      "\n"
     ],
     "language": "python",
     "metadata": {},
     "outputs": [
      {
       "metadata": {},
       "output_type": "display_data",
       "png": "[encoded data removed]",
       "text": [
        "<matplotlib.figure.Figure at 0x109dea610>"
       ]
      }
     ],
     "prompt_number": 26
    },
    {
     "cell_type": "code",
     "collapsed": false,
     "input": [
      "credit['A5'].replace(to_replace='?', value=np.random.randint(0,2),inplace=True)"
     ],
     "language": "python",
     "metadata": {},
     "outputs": [],
     "prompt_number": 27
    },
    {
     "cell_type": "code",
     "collapsed": false,
     "input": [
      "credit['A5'].replace(to_replace=0, value='g' ,inplace=True)\n",
      "credit['A5'].replace(to_replace=1, value='g' ,inplace=True)\n",
      "credit['A5'].replace(to_replace=2, value='p' ,inplace=True)\n"
     ],
     "language": "python",
     "metadata": {},
     "outputs": [],
     "prompt_number": 28
    },
    {
     "cell_type": "code",
     "collapsed": false,
     "input": [
      "credit['A6'].unique()"
     ],
     "language": "python",
     "metadata": {},
     "outputs": [
      {
       "metadata": {},
       "output_type": "pyout",
       "prompt_number": 29,
       "text": [
        "array(['w', 'q', 'm', 'r', 'cc', 'k', 'c', 'd', 'x', 'i', 'e', 'aa', 'ff',\n",
        "       'j', '?'], dtype=object)"
       ]
      }
     ],
     "prompt_number": 29
    },
    {
     "cell_type": "code",
     "collapsed": false,
     "input": [
      "\n",
      "credit['A6'].value_counts().plot(kind='bar');"
     ],
     "language": "python",
     "metadata": {},
     "outputs": [
      {
       "metadata": {},
       "output_type": "display_data",
       "png": "[encoded data removed]",
       "text": [
        "<matplotlib.figure.Figure at 0x10a1a50d0>"
       ]
      }
     ],
     "prompt_number": 30
    },
    {
     "cell_type": "code",
     "collapsed": false,
     "input": [
      "credit['A6'].replace(to_replace='?', value=np.random.randint(0,2),inplace=True)"
     ],
     "language": "python",
     "metadata": {},
     "outputs": [],
     "prompt_number": 31
    },
    {
     "cell_type": "code",
     "collapsed": false,
     "input": [
      "credit['A6'].replace(to_replace=0, value='c' ,inplace=True)\n",
      "credit['A6'].replace(to_replace=1, value='q' ,inplace=True)\n",
      "credit['A6'].replace(to_replace=2, value='w' ,inplace=True)"
     ],
     "language": "python",
     "metadata": {},
     "outputs": [],
     "prompt_number": 32
    },
    {
     "cell_type": "code",
     "collapsed": false,
     "input": [
      "\n",
      "credit['A6'].value_counts().plot(kind='bar');"
     ],
     "language": "python",
     "metadata": {},
     "outputs": [
      {
       "metadata": {},
       "output_type": "display_data",
       "png": "[encoded data removed]",
       "text": [
        "<matplotlib.figure.Figure at 0x109d40b10>"
       ]
      }
     ],
     "prompt_number": 33
    },
    {
     "cell_type": "code",
     "collapsed": false,
     "input": [
      "credit['A7'].unique()"
     ],
     "language": "python",
     "metadata": {},
     "outputs": [
      {
       "metadata": {},
       "output_type": "pyout",
       "prompt_number": 34,
       "text": [
        "array(['v', 'h', 'bb', 'ff', 'j', 'z', '?', 'o', 'dd', 'n'], dtype=object)"
       ]
      }
     ],
     "prompt_number": 34
    },
    {
     "cell_type": "code",
     "collapsed": false,
     "input": [
      "credit['A7'].value_counts().plot(kind='bar');"
     ],
     "language": "python",
     "metadata": {},
     "outputs": [
      {
       "metadata": {},
       "output_type": "display_data",
       "png": "[encoded data removed]",
       "text": [
        "<matplotlib.figure.Figure at 0x109c63fd0>"
       ]
      }
     ],
     "prompt_number": 35
    },
    {
     "cell_type": "code",
     "collapsed": false,
     "input": [
      "credit['A7'].replace(to_replace='?', value=np.random.randint(0,7),inplace=True)"
     ],
     "language": "python",
     "metadata": {},
     "outputs": [],
     "prompt_number": 36
    },
    {
     "cell_type": "code",
     "collapsed": false,
     "input": [
      "credit['A7'].replace(to_replace=0, value='v' ,inplace=True)\n",
      "credit['A7'].replace(to_replace=1, value='v' ,inplace=True)\n",
      "credit['A7'].replace(to_replace=2, value='v' ,inplace=True)\n",
      "credit['A7'].replace(to_replace=3, value='h' ,inplace=True)\n",
      "credit['A7'].replace(to_replace=4, value='h' ,inplace=True)\n",
      "credit['A7'].replace(to_replace=5, value='bb' ,inplace=True)\n",
      "credit['A7'].replace(to_replace=6, value='ff' ,inplace=True)\n",
      "credit['A7'].replace(to_replace=7, value='z' ,inplace=True)"
     ],
     "language": "python",
     "metadata": {},
     "outputs": [],
     "prompt_number": 37
    },
    {
     "cell_type": "code",
     "collapsed": false,
     "input": [
      "credit['A8'].unique()\n",
      "#no missing values"
     ],
     "language": "python",
     "metadata": {},
     "outputs": [
      {
       "metadata": {},
       "output_type": "pyout",
       "prompt_number": 38,
       "text": [
        "array([  1.25 ,   3.04 ,   1.5  ,   3.75 ,   1.71 ,   2.5  ,   6.5  ,\n",
        "         0.04 ,   3.96 ,   3.165,   2.165,   4.335,   1.   ,   5.   ,\n",
        "         0.25 ,   0.96 ,   3.17 ,   0.665,   0.75 ,   0.835,   7.875,\n",
        "         3.085,   0.5  ,   5.165,  15.   ,   7.   ,   5.04 ,   7.96 ,\n",
        "         7.585,   0.415,   2.   ,   1.835,  14.415,   4.5  ,   5.335,\n",
        "         8.625,  28.5  ,   2.625,   0.125,   6.04 ,   3.5  ,   0.165,\n",
        "         0.875,   1.75 ,   0.   ,   7.415,   0.085,   5.75 ,   6.   ,\n",
        "         3.   ,   1.585,   4.29 ,   1.54 ,   1.46 ,   1.625,  12.5  ,\n",
        "        13.5  ,  10.75 ,   0.375,   0.585,   0.455,   4.   ,   8.5  ,\n",
        "         9.46 ,   2.25 ,  10.   ,   0.795,   1.375,   1.29 ,  11.5  ,\n",
        "         6.29 ,  14.   ,   0.335,   1.21 ,   7.375,   7.5  ,   3.25 ,\n",
        "        13.   ,   5.5  ,   4.25 ,   0.625,   5.085,   2.75 ,   2.375,\n",
        "         8.   ,   1.085,   2.54 ,   4.165,   1.665,  11.   ,   9.   ,\n",
        "         1.335,   1.415,   1.96 ,   2.585,   5.125,  15.5  ,   0.71 ,\n",
        "         5.665,  18.   ,   5.25 ,   8.665,   2.29 ,  20.   ,   2.46 ,\n",
        "        13.875,   2.085,   4.58 ,   2.71 ,   2.04 ,   0.29 ,   4.75 ,\n",
        "         0.46 ,   0.21 ,   0.54 ,   3.335,   2.335,   1.165,   2.415,\n",
        "         2.79 ,   4.625,   1.04 ,   6.75 ,   1.875,  16.   ,  12.75 ,\n",
        "         5.375,   2.125,  17.5  ,   3.125,   0.79 ,   8.29 ])"
       ]
      }
     ],
     "prompt_number": 38
    },
    {
     "cell_type": "code",
     "collapsed": false,
     "input": [
      "credit['A9'].unique()"
     ],
     "language": "python",
     "metadata": {},
     "outputs": [
      {
       "metadata": {},
       "output_type": "pyout",
       "prompt_number": 39,
       "text": [
        "array(['t', 'f'], dtype=object)"
       ]
      }
     ],
     "prompt_number": 39
    },
    {
     "cell_type": "code",
     "collapsed": false,
     "input": [
      "credit['A10'].unique()"
     ],
     "language": "python",
     "metadata": {},
     "outputs": [
      {
       "metadata": {},
       "output_type": "pyout",
       "prompt_number": 40,
       "text": [
        "array(['t', 'f'], dtype=object)"
       ]
      }
     ],
     "prompt_number": 40
    },
    {
     "cell_type": "code",
     "collapsed": false,
     "input": [
      "credit['A11'].unique()"
     ],
     "language": "python",
     "metadata": {},
     "outputs": [
      {
       "metadata": {},
       "output_type": "pyout",
       "prompt_number": 41,
       "text": [
        "array([ 1,  6,  0,  5,  7, 10,  3, 17,  2,  9,  8, 15, 11, 12, 40, 23,  4,\n",
        "       20, 67, 14, 16, 13, 19])"
       ]
      }
     ],
     "prompt_number": 41
    },
    {
     "cell_type": "code",
     "collapsed": false,
     "input": [
      "credit['A12'].unique()"
     ],
     "language": "python",
     "metadata": {},
     "outputs": [
      {
       "metadata": {},
       "output_type": "pyout",
       "prompt_number": 42,
       "text": [
        "array(['f', 't'], dtype=object)"
       ]
      }
     ],
     "prompt_number": 42
    },
    {
     "cell_type": "code",
     "collapsed": false,
     "input": [
      "credit['A13'].unique()"
     ],
     "language": "python",
     "metadata": {},
     "outputs": [
      {
       "metadata": {},
       "output_type": "pyout",
       "prompt_number": 43,
       "text": [
        "array(['g', 's', 'p'], dtype=object)"
       ]
      }
     ],
     "prompt_number": 43
    },
    {
     "cell_type": "code",
     "collapsed": false,
     "input": [
      "credit['A14'].unique()"
     ],
     "language": "python",
     "metadata": {},
     "outputs": [
      {
       "metadata": {},
       "output_type": "pyout",
       "prompt_number": 44,
       "text": [
        "array(['00202', '00043', '00280', '00100', '00120', '00360', '00164',\n",
        "       '00080', '00180', '00052', '00128', '00260', '00000', '00320',\n",
        "       '00396', '00096', '00200', '00300', '00145', '00500', '00168',\n",
        "       '00434', '00583', '00030', '00240', '00070', '00455', '00311',\n",
        "       '00216', '00491', '00400', '00239', '00160', '00711', '00250',\n",
        "       '00520', '00515', '00420', '?', '00980', '00443', '00140', '00094',\n",
        "       '00368', '00288', '00928', '00188', '00112', '00171', '00268',\n",
        "       '00167', '00075', '00152', '00176', '00329', '00212', '00410',\n",
        "       '00274', '00375', '00408', '00350', '00204', '00040', '00181',\n",
        "       '00399', '00440', '00093', '00060', '00395', '00393', '00021',\n",
        "       '00029', '00102', '00431', '00370', '00024', '00020', '00129',\n",
        "       '00510', '00195', '00144', '00380', '00049', '00050', '00381',\n",
        "       '00150', '00117', '00056', '00211', '00230', '00156', '00022',\n",
        "       '00228', '00519', '00253', '00487', '00220', '00088', '00073',\n",
        "       '00121', '00470', '00136', '00132', '00292', '00154', '00272',\n",
        "       '00340', '00108', '00720', '00450', '00232', '00170', '01160',\n",
        "       '00411', '00460', '00348', '00480', '00640', '00372', '00276',\n",
        "       '00221', '00352', '00141', '00178', '00600', '00550', '02000',\n",
        "       '00225', '00210', '00110', '00356', '00045', '00062', '00092',\n",
        "       '00174', '00017', '00086', '00454', '00254', '00028', '00263',\n",
        "       '00333', '00312', '00290', '00371', '00099', '00252', '00760',\n",
        "       '00560', '00130', '00523', '00680', '00163', '00208', '00383',\n",
        "       '00330', '00422', '00840', '00432', '00032', '00186', '00303',\n",
        "       '00349', '00224', '00369', '00076', '00231', '00309', '00416',\n",
        "       '00465', '00256'], dtype=object)"
       ]
      }
     ],
     "prompt_number": 44
    },
    {
     "cell_type": "code",
     "collapsed": false,
     "input": [
      "credit['A15'].unique()"
     ],
     "language": "python",
     "metadata": {},
     "outputs": [
      {
       "metadata": {},
       "output_type": "pyout",
       "prompt_number": 45,
       "text": [
        "array([     0,    560,    824,      3,  31285,   1349,    314,   1442,\n",
        "          200,   2690,    245,   1208,   1260,     11,  10000,   5000,\n",
        "         4000,     35,    713,    551,    500,    300,    221,   2283,\n",
        "          100,     15,    284,   1236,   5800,    730,    400,  50000,\n",
        "          456,  15108,   2954,      2,     20,     27,    225,      1,\n",
        "           38,      5,    130,    147,    210,  11202,   1332,     50,\n",
        "          258,    567,   1000,   2510,    809,    610,    150,  51100,\n",
        "          367,    600,    247,    375,    278,    827,   2072,    582,\n",
        "         2300,   3065,   2200,      6,   1602,   2184,   3376,   2000,\n",
        "         7544,  10561,    837,  11177,    639,   2028,   1065,    540,\n",
        "          158,  15000,   3000,   3257,   1655,   1430,      7,    790,\n",
        "          396,    678,   1187,   6590,    168,   1270,   1210,    742,\n",
        "         8851,   7059,   1704,    857,   6700,   2503,   9800,    196,\n",
        "           14,  26726,  18027,     99,    444,   1200,   2010,     13,\n",
        "          120,     32,    722,     40,    484,    204,     98,   5552,\n",
        "          105,   2803,    126,      4,     21,    173,     10,     25,\n",
        "           42, 100000,    113,      8,     44,   2732,    179,     16,\n",
        "         1062,    251,    228,     67,     12,    122,   4208,   1300,\n",
        "          112,   1110,   1004,    286,   4500,   1212,    195,     87,\n",
        "           17,    184,    140,     18,    146,     22,     55,     70,\n",
        "           60,   1058,    769,   5200,     19,    316,    350,   3552,\n",
        "          687,   1950,     53,     41,     33,     80,    351,   2100,\n",
        "          475,    892,   4607,   2206,   5860,     28,   1391,   2279,\n",
        "          591,    960,    690,    234,    800,    990,   2197,     90,\n",
        "          340,    347,    327,   4071,    109,   1249,    134,   1344,\n",
        "          321,    948,   2079,   2384,    458,   5298,    162,   1583,\n",
        "           58,     59,   1400,   1465,   8000,   4700,   1097,   3290,\n",
        "        13212,   5777,   5124,     23,   4159,    918,    768,    283,\n",
        "          108,      9,     68,    587,    141,    501,    160,    390,\n",
        "          154,    117,    246,    237,    364,    537,    394,    750])"
       ]
      }
     ],
     "prompt_number": 45
    },
    {
     "cell_type": "code",
     "collapsed": false,
     "input": [
      "type(credit['A15'][1])"
     ],
     "language": "python",
     "metadata": {},
     "outputs": [
      {
       "metadata": {},
       "output_type": "pyout",
       "prompt_number": 46,
       "text": [
        "numpy.int64"
       ]
      }
     ],
     "prompt_number": 46
    },
    {
     "cell_type": "code",
     "collapsed": false,
     "input": [
      "credit['A16'].unique()"
     ],
     "language": "python",
     "metadata": {},
     "outputs": [
      {
       "metadata": {},
       "output_type": "pyout",
       "prompt_number": 47,
       "text": [
        "array(['+', '-'], dtype=object)"
       ]
      }
     ],
     "prompt_number": 47
    },
    {
     "cell_type": "code",
     "collapsed": false,
     "input": [
      "credit['Approval']=credit['A16']"
     ],
     "language": "python",
     "metadata": {},
     "outputs": [],
     "prompt_number": 48
    },
    {
     "cell_type": "code",
     "collapsed": false,
     "input": [
      "credit['Approval']=credit['Approval'].replace('+',1)\n",
      "credit['Approval']=credit['Approval'].replace('-',0)\n",
      "credit['Approval']"
     ],
     "language": "python",
     "metadata": {},
     "outputs": [
      {
       "metadata": {},
       "output_type": "pyout",
       "prompt_number": 49,
       "text": [
        "0    1\n",
        "1    1\n",
        "2    1\n",
        "...\n",
        "687    0\n",
        "688    0\n",
        "689    0\n",
        "Name: Approval, Length: 690, dtype: int64"
       ]
      }
     ],
     "prompt_number": 49
    },
    {
     "cell_type": "code",
     "collapsed": false,
     "input": [
      "credit1['Approval']=credit1['A16']\n",
      "credit1['Approval']=credit1['Approval'].replace('+',1)\n",
      "credit1['Approval']=credit1['Approval'].replace('-',0)\n",
      "credit1['Approval']"
     ],
     "language": "python",
     "metadata": {},
     "outputs": [
      {
       "metadata": {},
       "output_type": "pyout",
       "prompt_number": 194,
       "text": [
        "0    1\n",
        "1    1\n",
        "2    1\n",
        "...\n",
        "687    0\n",
        "688    0\n",
        "689    0\n",
        "Name: Approval, Length: 653, dtype: int64"
       ]
      }
     ],
     "prompt_number": 194
    },
    {
     "cell_type": "code",
     "collapsed": false,
     "input": [
      "#Col A1 significant? Slightly\n",
      "approved_by_a1 = credit.groupby('A1').Approval.agg(['sum', 'count'])\n",
      "approved_by_a1['creditrating'] = approved_by_a1['sum'] / approved_by_a1['count']\n",
      "approved_by_a1"
     ],
     "language": "python",
     "metadata": {},
     "outputs": [
      {
       "html": [
        "<div style=\"max-height:1000px;max-width:1500px;overflow:auto;\">\n",
        "<table border=\"1\" class=\"dataframe\">\n",
        "  <thead>\n",
        "    <tr style=\"text-align: right;\">\n",
        "      <th></th>\n",
        "      <th>sum</th>\n",
        "      <th>count</th>\n",
        "      <th>creditrating</th>\n",
        "    </tr>\n",
        "    <tr>\n",
        "      <th>A1</th>\n",
        "      <th></th>\n",
        "      <th></th>\n",
        "      <th></th>\n",
        "    </tr>\n",
        "  </thead>\n",
        "  <tbody>\n",
        "    <tr>\n",
        "      <th>a</th>\n",
        "      <td> 101</td>\n",
        "      <td> 222</td>\n",
        "      <td> 0.5</td>\n",
        "    </tr>\n",
        "    <tr>\n",
        "      <th>b</th>\n",
        "      <td> 206</td>\n",
        "      <td> 468</td>\n",
        "      <td> 0.4</td>\n",
        "    </tr>\n",
        "  </tbody>\n",
        "</table>\n",
        "</div>"
       ],
       "metadata": {},
       "output_type": "pyout",
       "prompt_number": 50,
       "text": [
        "    sum  count  creditrating\n",
        "A1                          \n",
        "a   101    222           0.5\n",
        "b   206    468           0.4"
       ]
      }
     ],
     "prompt_number": 50
    },
    {
     "cell_type": "code",
     "collapsed": false,
     "input": [
      "counta=0\n",
      "for i in credit['A16']:\n",
      "    if i=='+':\n",
      "        counta = counta+1\n",
      "counta\n"
     ],
     "language": "python",
     "metadata": {},
     "outputs": [
      {
       "metadata": {},
       "output_type": "pyout",
       "prompt_number": 51,
       "text": [
        "307"
       ]
      }
     ],
     "prompt_number": 51
    },
    {
     "cell_type": "code",
     "collapsed": false,
     "input": [
      "countb=0\n",
      "for i in credit['A16']:\n",
      "    if i=='-':\n",
      "        countb = countb+1\n",
      "countb\n"
     ],
     "language": "python",
     "metadata": {},
     "outputs": [
      {
       "metadata": {},
       "output_type": "pyout",
       "prompt_number": 52,
       "text": [
        "383"
       ]
      }
     ],
     "prompt_number": 52
    },
    {
     "cell_type": "code",
     "collapsed": false,
     "input": [
      "#Col A4 significant? Yes\n",
      "approved_by_a4 = credit.groupby('A4').Approval.agg(['sum', 'count'])\n",
      "approved_by_a4['creditrating'] = approved_by_a4['sum'] / approved_by_a4['count']\n",
      "approved_by_a4"
     ],
     "language": "python",
     "metadata": {},
     "outputs": [
      {
       "html": [
        "<div style=\"max-height:1000px;max-width:1500px;overflow:auto;\">\n",
        "<table border=\"1\" class=\"dataframe\">\n",
        "  <thead>\n",
        "    <tr style=\"text-align: right;\">\n",
        "      <th></th>\n",
        "      <th>sum</th>\n",
        "      <th>count</th>\n",
        "      <th>creditrating</th>\n",
        "    </tr>\n",
        "    <tr>\n",
        "      <th>A4</th>\n",
        "      <th></th>\n",
        "      <th></th>\n",
        "      <th></th>\n",
        "    </tr>\n",
        "  </thead>\n",
        "  <tbody>\n",
        "    <tr>\n",
        "      <th>u</th>\n",
        "      <td> 260</td>\n",
        "      <td> 525</td>\n",
        "      <td> 0.5</td>\n",
        "    </tr>\n",
        "    <tr>\n",
        "      <th>y</th>\n",
        "      <td>  47</td>\n",
        "      <td> 165</td>\n",
        "      <td> 0.3</td>\n",
        "    </tr>\n",
        "  </tbody>\n",
        "</table>\n",
        "</div>"
       ],
       "metadata": {},
       "output_type": "pyout",
       "prompt_number": 53,
       "text": [
        "    sum  count  creditrating\n",
        "A4                          \n",
        "u   260    525           0.5\n",
        "y    47    165           0.3"
       ]
      }
     ],
     "prompt_number": 53
    },
    {
     "cell_type": "code",
     "collapsed": false,
     "input": [
      "approved_by_a5 = credit.groupby('A5').Approval.agg(['sum', 'count'])\n",
      "approved_by_a5['creditrating'] = approved_by_a5['sum'] / approved_by_a5['count']\n",
      "approved_by_a5"
     ],
     "language": "python",
     "metadata": {},
     "outputs": [
      {
       "html": [
        "<div style=\"max-height:1000px;max-width:1500px;overflow:auto;\">\n",
        "<table border=\"1\" class=\"dataframe\">\n",
        "  <thead>\n",
        "    <tr style=\"text-align: right;\">\n",
        "      <th></th>\n",
        "      <th>sum</th>\n",
        "      <th>count</th>\n",
        "      <th>creditrating</th>\n",
        "    </tr>\n",
        "    <tr>\n",
        "      <th>A5</th>\n",
        "      <th></th>\n",
        "      <th></th>\n",
        "      <th></th>\n",
        "    </tr>\n",
        "  </thead>\n",
        "  <tbody>\n",
        "    <tr>\n",
        "      <th>g</th>\n",
        "      <td> 260</td>\n",
        "      <td> 525</td>\n",
        "      <td> 0.5</td>\n",
        "    </tr>\n",
        "    <tr>\n",
        "      <th>gg</th>\n",
        "      <td>   2</td>\n",
        "      <td>   2</td>\n",
        "      <td> 1.0</td>\n",
        "    </tr>\n",
        "    <tr>\n",
        "      <th>p</th>\n",
        "      <td>  45</td>\n",
        "      <td> 163</td>\n",
        "      <td> 0.3</td>\n",
        "    </tr>\n",
        "  </tbody>\n",
        "</table>\n",
        "</div>"
       ],
       "metadata": {},
       "output_type": "pyout",
       "prompt_number": 54,
       "text": [
        "    sum  count  creditrating\n",
        "A5                          \n",
        "g   260    525           0.5\n",
        "gg    2      2           1.0\n",
        "p    45    163           0.3"
       ]
      }
     ],
     "prompt_number": 54
    },
    {
     "cell_type": "code",
     "collapsed": false,
     "input": [
      "approved_by_a6 = credit.groupby('A6').Approval.agg(['sum', 'count'])\n",
      "approved_by_a6['creditrating'] = approved_by_a6['sum'] / approved_by_a6['count']\n",
      "approved_by_a6"
     ],
     "language": "python",
     "metadata": {},
     "outputs": [
      {
       "html": [
        "<div style=\"max-height:1000px;max-width:1500px;overflow:auto;\">\n",
        "<table border=\"1\" class=\"dataframe\">\n",
        "  <thead>\n",
        "    <tr style=\"text-align: right;\">\n",
        "      <th></th>\n",
        "      <th>sum</th>\n",
        "      <th>count</th>\n",
        "      <th>creditrating</th>\n",
        "    </tr>\n",
        "    <tr>\n",
        "      <th>A6</th>\n",
        "      <th></th>\n",
        "      <th></th>\n",
        "      <th></th>\n",
        "    </tr>\n",
        "  </thead>\n",
        "  <tbody>\n",
        "    <tr>\n",
        "      <th>aa</th>\n",
        "      <td> 19</td>\n",
        "      <td>  54</td>\n",
        "      <td> 0.4</td>\n",
        "    </tr>\n",
        "    <tr>\n",
        "      <th>c</th>\n",
        "      <td> 66</td>\n",
        "      <td> 146</td>\n",
        "      <td> 0.5</td>\n",
        "    </tr>\n",
        "    <tr>\n",
        "      <th>cc</th>\n",
        "      <td> 29</td>\n",
        "      <td>  41</td>\n",
        "      <td> 0.7</td>\n",
        "    </tr>\n",
        "    <tr>\n",
        "      <th>d</th>\n",
        "      <td>  7</td>\n",
        "      <td>  30</td>\n",
        "      <td> 0.2</td>\n",
        "    </tr>\n",
        "    <tr>\n",
        "      <th>e</th>\n",
        "      <td> 14</td>\n",
        "      <td>  25</td>\n",
        "      <td> 0.6</td>\n",
        "    </tr>\n",
        "    <tr>\n",
        "      <th>...</th>\n",
        "      <td>...</td>\n",
        "      <td>...</td>\n",
        "      <td>...</td>\n",
        "    </tr>\n",
        "    <tr>\n",
        "      <th>m</th>\n",
        "      <td> 16</td>\n",
        "      <td>  38</td>\n",
        "      <td> 0.4</td>\n",
        "    </tr>\n",
        "    <tr>\n",
        "      <th>q</th>\n",
        "      <td> 51</td>\n",
        "      <td>  78</td>\n",
        "      <td> 0.7</td>\n",
        "    </tr>\n",
        "    <tr>\n",
        "      <th>r</th>\n",
        "      <td>  2</td>\n",
        "      <td>   3</td>\n",
        "      <td> 0.7</td>\n",
        "    </tr>\n",
        "    <tr>\n",
        "      <th>w</th>\n",
        "      <td> 33</td>\n",
        "      <td>  64</td>\n",
        "      <td> 0.5</td>\n",
        "    </tr>\n",
        "    <tr>\n",
        "      <th>x</th>\n",
        "      <td> 32</td>\n",
        "      <td>  38</td>\n",
        "      <td> 0.8</td>\n",
        "    </tr>\n",
        "  </tbody>\n",
        "</table>\n",
        "<p>14 rows \u00d7 3 columns</p>\n",
        "</div>"
       ],
       "metadata": {},
       "output_type": "pyout",
       "prompt_number": 55,
       "text": [
        "    sum  count  creditrating\n",
        "A6                          \n",
        "aa   19     54           0.4\n",
        "c    66    146           0.5\n",
        "cc   29     41           0.7\n",
        "d     7     30           0.2\n",
        "e    14     25           0.6\n",
        "..  ...    ...           ...\n",
        "m    16     38           0.4\n",
        "q    51     78           0.7\n",
        "r     2      3           0.7\n",
        "w    33     64           0.5\n",
        "x    32     38           0.8\n",
        "\n",
        "[14 rows x 3 columns]"
       ]
      }
     ],
     "prompt_number": 55
    },
    {
     "cell_type": "code",
     "collapsed": false,
     "input": [
      "# I start fitting and scoring my data to sereral models below including logistic regression, LDA, nearest neighbor, SVC, \n",
      "#and Linear SVC. I found logistic regression to return the best score with a grid search on the parameter C. \n",
      "#My confusion matrix shows I predicted the disapproval very well and approval moderately well. \n",
      "#When I recheck my model using a dataset that threw away all of the ? data rather than filling it. My model does even better. \n",
      "#This makes me question whether the idea to fill data is a good idea or now.\n",
      "\n"
     ],
     "language": "python",
     "metadata": {},
     "outputs": []
    },
    {
     "cell_type": "code",
     "collapsed": false,
     "input": [
      "from sklearn.cross_validation import train_test_split"
     ],
     "language": "python",
     "metadata": {},
     "outputs": [],
     "prompt_number": 56
    },
    {
     "cell_type": "code",
     "collapsed": false,
     "input": [
      "X_data = credit[[\"A1\", \"A2\", \"A3\", \"A4\", \"A5\", \"A6\", \"A7\", \"A8\", \"A9\", \"A10\", \"A11\", \"A12\", \"A13\", \"A15\"]]"
     ],
     "language": "python",
     "metadata": {},
     "outputs": [],
     "prompt_number": 57
    },
    {
     "cell_type": "code",
     "collapsed": false,
     "input": [
      "X_data = pd.get_dummies(X_data)"
     ],
     "language": "python",
     "metadata": {},
     "outputs": [],
     "prompt_number": 58
    },
    {
     "cell_type": "code",
     "collapsed": false,
     "input": [
      "y_data=credit[\"Approval\"]"
     ],
     "language": "python",
     "metadata": {},
     "outputs": [],
     "prompt_number": 119
    },
    {
     "cell_type": "code",
     "collapsed": false,
     "input": [
      "X_train, X_test, y_train, y_test = train_test_split(X_data, y_data, random_state=12, test_size=0.2)"
     ],
     "language": "python",
     "metadata": {},
     "outputs": [],
     "prompt_number": 120
    },
    {
     "cell_type": "code",
     "collapsed": false,
     "input": [
      "X_data1 = credit1[[\"A1\", \"A2\", \"A3\", \"A4\", \"A5\", \"A6\", \"A7\", \"A8\", \"A9\", \"A10\", \"A11\", \"A12\", \"A13\", \"A15\"]]\n",
      "X_data1 = pd.get_dummies(X_data1)"
     ],
     "language": "python",
     "metadata": {},
     "outputs": [],
     "prompt_number": 195
    },
    {
     "cell_type": "code",
     "collapsed": false,
     "input": [
      "y_data1=credit1[\"Approval\"]"
     ],
     "language": "python",
     "metadata": {},
     "outputs": [],
     "prompt_number": 197
    },
    {
     "cell_type": "code",
     "collapsed": false,
     "input": [
      "X_train1, X_test1, y_train1, y_test1 = train_test_split(X_data1, y_data1, random_state=12, test_size=0.2)"
     ],
     "language": "python",
     "metadata": {},
     "outputs": [],
     "prompt_number": 198
    },
    {
     "cell_type": "code",
     "collapsed": false,
     "input": [
      "from sklearn.linear_model import LogisticRegression"
     ],
     "language": "python",
     "metadata": {},
     "outputs": [],
     "prompt_number": 121
    },
    {
     "cell_type": "code",
     "collapsed": false,
     "input": [
      "clf = LogisticRegression(C=1.5)"
     ],
     "language": "python",
     "metadata": {},
     "outputs": [],
     "prompt_number": 122
    },
    {
     "cell_type": "code",
     "collapsed": false,
     "input": [
      "clf.fit(X_train, y_train)"
     ],
     "language": "python",
     "metadata": {},
     "outputs": [
      {
       "metadata": {},
       "output_type": "pyout",
       "prompt_number": 123,
       "text": [
        "LogisticRegression(C=1.5, class_weight=None, dual=False, fit_intercept=True,\n",
        "          intercept_scaling=1, penalty='l2', random_state=None, tol=0.0001)"
       ]
      }
     ],
     "prompt_number": 123
    },
    {
     "cell_type": "code",
     "collapsed": false,
     "input": [
      "#looks like logistic regression is the best\n",
      "clf.score(X_test, y_test)"
     ],
     "language": "python",
     "metadata": {},
     "outputs": [
      {
       "metadata": {},
       "output_type": "pyout",
       "prompt_number": 124,
       "text": [
        "0.85507246376811596"
       ]
      }
     ],
     "prompt_number": 124
    },
    {
     "cell_type": "code",
     "collapsed": false,
     "input": [
      "param={'C':np.logspace(-3,3,100)}\n",
      "lin_grid = GridSearchCV(LogisticRegression(),param)\n",
      "lin_grid.fit(X_train,y_train)"
     ],
     "language": "python",
     "metadata": {},
     "outputs": [
      {
       "metadata": {},
       "output_type": "pyout",
       "prompt_number": 155,
       "text": [
        "GridSearchCV(cv=None,\n",
        "       estimator=LogisticRegression(C=1.0, class_weight=None, dual=False, fit_intercept=True,\n",
        "          intercept_scaling=1, penalty='l2', random_state=None, tol=0.0001),\n",
        "       fit_params={}, iid=True, loss_func=None, n_jobs=1,\n",
        "       param_grid={'C': array([  1.00000e-03,   1.14976e-03, ...,   8.69749e+02,   1.00000e+03])},\n",
        "       pre_dispatch='2*n_jobs', refit=True, score_func=None, scoring=None,\n",
        "       verbose=0)"
       ]
      }
     ],
     "prompt_number": 155
    },
    {
     "cell_type": "code",
     "collapsed": false,
     "input": [
      "lin_grid.score(X_test, y_test)"
     ],
     "language": "python",
     "metadata": {},
     "outputs": [
      {
       "metadata": {},
       "output_type": "pyout",
       "prompt_number": 156,
       "text": [
        "0.85507246376811596"
       ]
      }
     ],
     "prompt_number": 156
    },
    {
     "cell_type": "code",
     "collapsed": false,
     "input": [
      "param={'C':np.logspace(-3,3,100)}\n",
      "lin_grid1 = GridSearchCV(LogisticRegression(),param)\n",
      "lin_grid1.fit(X_train1,y_train1)"
     ],
     "language": "python",
     "metadata": {},
     "outputs": [
      {
       "metadata": {},
       "output_type": "pyout",
       "prompt_number": 200,
       "text": [
        "GridSearchCV(cv=None,\n",
        "       estimator=LogisticRegression(C=1.0, class_weight=None, dual=False, fit_intercept=True,\n",
        "          intercept_scaling=1, penalty='l2', random_state=None, tol=0.0001),\n",
        "       fit_params={}, iid=True, loss_func=None, n_jobs=1,\n",
        "       param_grid={'C': array([  1.00000e-03,   1.14976e-03, ...,   8.69749e+02,   1.00000e+03])},\n",
        "       pre_dispatch='2*n_jobs', refit=True, score_func=None, scoring=None,\n",
        "       verbose=0)"
       ]
      }
     ],
     "prompt_number": 200
    },
    {
     "cell_type": "code",
     "collapsed": false,
     "input": [
      "lin_grid1.score(X_test1, y_test1)"
     ],
     "language": "python",
     "metadata": {},
     "outputs": [
      {
       "metadata": {},
       "output_type": "pyout",
       "prompt_number": 201,
       "text": [
        "0.90839694656488545"
       ]
      }
     ],
     "prompt_number": 201
    },
    {
     "cell_type": "code",
     "collapsed": false,
     "input": [
      "from sklearn.metrics import confusion_matrix, classification_report"
     ],
     "language": "python",
     "metadata": {},
     "outputs": [],
     "prompt_number": 125
    },
    {
     "cell_type": "code",
     "collapsed": false,
     "input": [
      "y_pred = clf.predict(X_test)"
     ],
     "language": "python",
     "metadata": {},
     "outputs": [],
     "prompt_number": 126
    },
    {
     "cell_type": "code",
     "collapsed": false,
     "input": [
      "confusion_matrix(y_test, y_pred)"
     ],
     "language": "python",
     "metadata": {},
     "outputs": [
      {
       "metadata": {},
       "output_type": "pyout",
       "prompt_number": 157,
       "text": [
        "array([[64, 13],\n",
        "       [ 7, 54]])"
       ]
      }
     ],
     "prompt_number": 157
    },
    {
     "cell_type": "code",
     "collapsed": false,
     "input": [
      "# Compute confusion matrix\n",
      "cm = confusion_matrix(y_test, y_pred)\n",
      "\n",
      "print(cm)\n",
      "\n",
      "# Show confusion matrix in a separate window\n",
      "plt.matshow(cm)\n",
      "plt.title('Confusion matrix')\n",
      "plt.colorbar()\n",
      "plt.ylabel('True label')\n",
      "plt.xlabel('Predicted label')\n",
      "plt.show()"
     ],
     "language": "python",
     "metadata": {},
     "outputs": [
      {
       "output_type": "stream",
       "stream": "stdout",
       "text": [
        "[[64 13]\n",
        " [ 7 54]]\n"
       ]
      },
      {
       "metadata": {},
       "output_type": "display_data",
       "png": "[encoded data removed]",
       "text": [
        "<matplotlib.figure.Figure at 0x109c75690>"
       ]
      }
     ],
     "prompt_number": 166
    },
    {
     "cell_type": "code",
     "collapsed": false,
     "input": [
      "print classification_report(y_test, y_pred)"
     ],
     "language": "python",
     "metadata": {},
     "outputs": [
      {
       "output_type": "stream",
       "stream": "stdout",
       "text": [
        "             precision    recall  f1-score   support\n",
        "\n",
        "          0       0.90      0.83      0.86        77\n",
        "          1       0.81      0.89      0.84        61\n",
        "\n",
        "avg / total       0.86      0.86      0.86       138\n",
        "\n"
       ]
      }
     ],
     "prompt_number": 128
    },
    {
     "cell_type": "code",
     "collapsed": false,
     "input": [
      "y_pred2 = lin_grid.predict(X_test)"
     ],
     "language": "python",
     "metadata": {},
     "outputs": [],
     "prompt_number": 207
    },
    {
     "cell_type": "code",
     "collapsed": false,
     "input": [
      "# Compute confusion matrix\n",
      "cm = confusion_matrix(y_test, y_pred2)\n",
      "\n",
      "print(cm)\n",
      "\n",
      "# Show confusion matrix in a separate window\n",
      "plt.matshow(cm)\n",
      "plt.title('Confusion matrix')\n",
      "plt.colorbar()\n",
      "plt.ylabel('True label')\n",
      "plt.xlabel('Predicted label')\n",
      "plt.show()"
     ],
     "language": "python",
     "metadata": {},
     "outputs": [
      {
       "output_type": "stream",
       "stream": "stdout",
       "text": [
        "[[64 13]\n",
        " [ 7 54]]\n"
       ]
      },
      {
       "metadata": {},
       "output_type": "display_data",
       "png": "[encoded data removed]",
       "text": [
        "<matplotlib.figure.Figure at 0x10a248f90>"
       ]
      }
     ],
     "prompt_number": 208
    },
    {
     "cell_type": "code",
     "collapsed": false,
     "input": [
      "y_pred1 = lin_grid1.predict(X_test1)"
     ],
     "language": "python",
     "metadata": {},
     "outputs": [],
     "prompt_number": 202
    },
    {
     "cell_type": "code",
     "collapsed": false,
     "input": [
      "# Compute confusion matrix\n",
      "cm = confusion_matrix(y_test1, y_pred1)\n",
      "\n",
      "print(cm)\n",
      "\n",
      "# Show confusion matrix in a separate window\n",
      "plt.matshow(cm)\n",
      "plt.title('Confusion matrix')\n",
      "plt.colorbar()\n",
      "plt.ylabel('True label')\n",
      "plt.xlabel('Predicted label')\n",
      "plt.show()"
     ],
     "language": "python",
     "metadata": {},
     "outputs": [
      {
       "output_type": "stream",
       "stream": "stdout",
       "text": [
        "[[70 11]\n",
        " [ 1 49]]\n"
       ]
      },
      {
       "metadata": {},
       "output_type": "display_data",
       "png": "[encoded data removed]",
       "text": [
        "<matplotlib.figure.Figure at 0x10a154590>"
       ]
      }
     ],
     "prompt_number": 204
    },
    {
     "cell_type": "code",
     "collapsed": false,
     "input": [
      "pd.DataFrame(zip(X_data.columns, np.transpose(clf.coef_)))"
     ],
     "language": "python",
     "metadata": {},
     "outputs": [
      {
       "html": [
        "<div style=\"max-height:1000px;max-width:1500px;overflow:auto;\">\n",
        "<table border=\"1\" class=\"dataframe\">\n",
        "  <thead>\n",
        "    <tr style=\"text-align: right;\">\n",
        "      <th></th>\n",
        "      <th>0</th>\n",
        "      <th>1</th>\n",
        "    </tr>\n",
        "  </thead>\n",
        "  <tbody>\n",
        "    <tr>\n",
        "      <th>0 </th>\n",
        "      <td>    A2</td>\n",
        "      <td>  [0.00421308149235]</td>\n",
        "    </tr>\n",
        "    <tr>\n",
        "      <th>1 </th>\n",
        "      <td>    A3</td>\n",
        "      <td> [0.000404238963896]</td>\n",
        "    </tr>\n",
        "    <tr>\n",
        "      <th>2 </th>\n",
        "      <td>    A8</td>\n",
        "      <td>   [0.0810899397003]</td>\n",
        "    </tr>\n",
        "    <tr>\n",
        "      <th>3 </th>\n",
        "      <td>   A11</td>\n",
        "      <td>    [0.143919472832]</td>\n",
        "    </tr>\n",
        "    <tr>\n",
        "      <th>4 </th>\n",
        "      <td>   A15</td>\n",
        "      <td> [0.000405937251194]</td>\n",
        "    </tr>\n",
        "    <tr>\n",
        "      <th>...</th>\n",
        "      <td>...</td>\n",
        "      <td>...</td>\n",
        "    </tr>\n",
        "    <tr>\n",
        "      <th>39</th>\n",
        "      <td> A12_f</td>\n",
        "      <td>   [0.0298110076537]</td>\n",
        "    </tr>\n",
        "    <tr>\n",
        "      <th>40</th>\n",
        "      <td> A12_t</td>\n",
        "      <td>   [-0.170524958022]</td>\n",
        "    </tr>\n",
        "    <tr>\n",
        "      <th>41</th>\n",
        "      <td> A13_g</td>\n",
        "      <td>     [-0.7433672102]</td>\n",
        "    </tr>\n",
        "    <tr>\n",
        "      <th>42</th>\n",
        "      <td> A13_p</td>\n",
        "      <td>    [0.907141521981]</td>\n",
        "    </tr>\n",
        "    <tr>\n",
        "      <th>43</th>\n",
        "      <td> A13_s</td>\n",
        "      <td>   [-0.304488262149]</td>\n",
        "    </tr>\n",
        "  </tbody>\n",
        "</table>\n",
        "<p>44 rows \u00d7 2 columns</p>\n",
        "</div>"
       ],
       "metadata": {},
       "output_type": "pyout",
       "prompt_number": 129,
       "text": [
        "        0                    1\n",
        "0      A2   [0.00421308149235]\n",
        "1      A3  [0.000404238963896]\n",
        "2      A8    [0.0810899397003]\n",
        "3     A11     [0.143919472832]\n",
        "4     A15  [0.000405937251194]\n",
        "..    ...                  ...\n",
        "39  A12_f    [0.0298110076537]\n",
        "40  A12_t    [-0.170524958022]\n",
        "41  A13_g      [-0.7433672102]\n",
        "42  A13_p     [0.907141521981]\n",
        "43  A13_s    [-0.304488262149]\n",
        "\n",
        "[44 rows x 2 columns]"
       ]
      }
     ],
     "prompt_number": 129
    },
    {
     "cell_type": "code",
     "collapsed": false,
     "input": [
      "y_pred_df = pd.DataFrame(clf.predict_proba(X_test))\n",
      "y_pred_df.rename(columns={0: 'No', 1: 'Yes'}, inplace=True)\n",
      "y_pred_df['y_pred'] = y_pred\n",
      "y_pred_df['y_true'] = y_test\n",
      "y_pred_df.head()"
     ],
     "language": "python",
     "metadata": {},
     "outputs": [
      {
       "html": [
        "<div style=\"max-height:1000px;max-width:1500px;overflow:auto;\">\n",
        "<table border=\"1\" class=\"dataframe\">\n",
        "  <thead>\n",
        "    <tr style=\"text-align: right;\">\n",
        "      <th></th>\n",
        "      <th>No</th>\n",
        "      <th>Yes</th>\n",
        "      <th>y_pred</th>\n",
        "      <th>y_true</th>\n",
        "    </tr>\n",
        "  </thead>\n",
        "  <tbody>\n",
        "    <tr>\n",
        "      <th>0</th>\n",
        "      <td> 0.0</td>\n",
        "      <td> 1.0</td>\n",
        "      <td> 1</td>\n",
        "      <td> 0</td>\n",
        "    </tr>\n",
        "    <tr>\n",
        "      <th>1</th>\n",
        "      <td> 1.0</td>\n",
        "      <td> 0.0</td>\n",
        "      <td> 0</td>\n",
        "      <td> 0</td>\n",
        "    </tr>\n",
        "    <tr>\n",
        "      <th>2</th>\n",
        "      <td> 0.2</td>\n",
        "      <td> 0.8</td>\n",
        "      <td> 1</td>\n",
        "      <td> 1</td>\n",
        "    </tr>\n",
        "    <tr>\n",
        "      <th>3</th>\n",
        "      <td> 0.2</td>\n",
        "      <td> 0.8</td>\n",
        "      <td> 1</td>\n",
        "      <td> 1</td>\n",
        "    </tr>\n",
        "    <tr>\n",
        "      <th>4</th>\n",
        "      <td> 0.3</td>\n",
        "      <td> 0.7</td>\n",
        "      <td> 1</td>\n",
        "      <td> 1</td>\n",
        "    </tr>\n",
        "  </tbody>\n",
        "</table>\n",
        "</div>"
       ],
       "metadata": {},
       "output_type": "pyout",
       "prompt_number": 158,
       "text": [
        "    No  Yes  y_pred  y_true\n",
        "0  0.0  1.0       1       0\n",
        "1  1.0  0.0       0       0\n",
        "2  0.2  0.8       1       1\n",
        "3  0.2  0.8       1       1\n",
        "4  0.3  0.7       1       1"
       ]
      }
     ],
     "prompt_number": 158
    },
    {
     "cell_type": "code",
     "collapsed": false,
     "input": [],
     "language": "python",
     "metadata": {},
     "outputs": [],
     "prompt_number": 130
    },
    {
     "cell_type": "code",
     "collapsed": false,
     "input": [
      "from sklearn.svm import SVC\n",
      "svc = SVC()\n",
      "svc.fit(X_train,y_train)"
     ],
     "language": "python",
     "metadata": {},
     "outputs": [
      {
       "metadata": {},
       "output_type": "pyout",
       "prompt_number": 131,
       "text": [
        "SVC(C=1.0, cache_size=200, class_weight=None, coef0=0.0, degree=3, gamma=0.0,\n",
        "  kernel='rbf', max_iter=-1, probability=False, random_state=None,\n",
        "  shrinking=True, tol=0.001, verbose=False)"
       ]
      }
     ],
     "prompt_number": 131
    },
    {
     "cell_type": "code",
     "collapsed": false,
     "input": [
      "svc.score(X_test,y_test)\n",
      "#not as good as logistic regression"
     ],
     "language": "python",
     "metadata": {},
     "outputs": [
      {
       "metadata": {},
       "output_type": "pyout",
       "prompt_number": 132,
       "text": [
        "0.71014492753623193"
       ]
      }
     ],
     "prompt_number": 132
    },
    {
     "cell_type": "code",
     "collapsed": false,
     "input": [
      "linest=LinearSVC(C=1e-3)\n",
      "linest.fit(X_train, y_train)"
     ],
     "language": "python",
     "metadata": {},
     "outputs": [
      {
       "metadata": {},
       "output_type": "pyout",
       "prompt_number": 133,
       "text": [
        "LinearSVC(C=0.001, class_weight=None, dual=True, fit_intercept=True,\n",
        "     intercept_scaling=1, loss='l2', multi_class='ovr', penalty='l2',\n",
        "     random_state=None, tol=0.0001, verbose=0)"
       ]
      }
     ],
     "prompt_number": 133
    },
    {
     "cell_type": "code",
     "collapsed": false,
     "input": [
      "#not as good as logistic regression\n",
      "linest.score(X_train, y_train)"
     ],
     "language": "python",
     "metadata": {},
     "outputs": [
      {
       "metadata": {},
       "output_type": "pyout",
       "prompt_number": 134,
       "text": [
        "0.78442028985507251"
       ]
      }
     ],
     "prompt_number": 134
    },
    {
     "cell_type": "code",
     "collapsed": false,
     "input": [
      "lda = LDA()\n",
      "lda.fit(X_train, y_train)"
     ],
     "language": "python",
     "metadata": {},
     "outputs": [
      {
       "metadata": {},
       "output_type": "pyout",
       "prompt_number": 135,
       "text": [
        "LDA(n_components=None, priors=None)"
       ]
      }
     ],
     "prompt_number": 135
    },
    {
     "cell_type": "code",
     "collapsed": false,
     "input": [
      "lda.score(X_test, y_test)\n",
      "#linear discriminant analysis not quite as good as logistic regression"
     ],
     "language": "python",
     "metadata": {},
     "outputs": [
      {
       "metadata": {},
       "output_type": "pyout",
       "prompt_number": 136,
       "text": [
        "0.84782608695652173"
       ]
      }
     ],
     "prompt_number": 136
    },
    {
     "cell_type": "code",
     "collapsed": false,
     "input": [
      "neighbor = KNeighborsClassifier(n_neighbors=1)\n",
      "neighbor.fit(X_train, y_train)"
     ],
     "language": "python",
     "metadata": {},
     "outputs": [
      {
       "metadata": {},
       "output_type": "pyout",
       "prompt_number": 137,
       "text": [
        "KNeighborsClassifier(algorithm='auto', leaf_size=30, metric='minkowski',\n",
        "           metric_params=None, n_neighbors=1, p=2, weights='uniform')"
       ]
      }
     ],
     "prompt_number": 137
    },
    {
     "cell_type": "code",
     "collapsed": false,
     "input": [
      "neighbor.score(X_test, y_test)\n",
      "#nearest neighbor not as good as logitic regression"
     ],
     "language": "python",
     "metadata": {},
     "outputs": [
      {
       "metadata": {},
       "output_type": "pyout",
       "prompt_number": 138,
       "text": [
        "0.72463768115942029"
       ]
      }
     ],
     "prompt_number": 138
    },
    {
     "cell_type": "code",
     "collapsed": false,
     "input": [
      "X_train.shape"
     ],
     "language": "python",
     "metadata": {},
     "outputs": [
      {
       "metadata": {},
       "output_type": "pyout",
       "prompt_number": 139,
       "text": [
        "(552, 44)"
       ]
      }
     ],
     "prompt_number": 139
    },
    {
     "cell_type": "code",
     "collapsed": false,
     "input": [
      "y_train.shape"
     ],
     "language": "python",
     "metadata": {},
     "outputs": [
      {
       "metadata": {},
       "output_type": "pyout",
       "prompt_number": 140,
       "text": [
        "(552,)"
       ]
      }
     ],
     "prompt_number": 140
    },
    {
     "cell_type": "code",
     "collapsed": false,
     "input": [
      "param={'C':np.logspace(-3,3,10), 'gamma':np.logspace(-3,3,10)}\n",
      "svc_grid = GridSearchCV(SVC(),param)\n",
      "svc_grid.fit(X_train,y_train)"
     ],
     "language": "python",
     "metadata": {},
     "outputs": [
      {
       "metadata": {},
       "output_type": "pyout",
       "prompt_number": 141,
       "text": [
        "GridSearchCV(cv=None,\n",
        "       estimator=SVC(C=1.0, cache_size=200, class_weight=None, coef0=0.0, degree=3, gamma=0.0,\n",
        "  kernel='rbf', max_iter=-1, probability=False, random_state=None,\n",
        "  shrinking=True, tol=0.001, verbose=False),\n",
        "       fit_params={}, iid=True, loss_func=None, n_jobs=1,\n",
        "       param_grid={'C': array([  1.00000e-03,   4.64159e-03,   2.15443e-02,   1.00000e-01,\n",
        "         4.64159e-01,   2.15443e+00,   1.00000e+01,   4.64159e+01,\n",
        "         2.15443e+02,   1.00000e+03]), 'gamma': array([  1.00000e-03,   4.64159e-03,   2.15443e-02,   1.00000e-01,\n",
        "         4.64159e-01,   2.15443e+00,   1.00000e+01,   4.64159e+01,\n",
        "         2.15443e+02,   1.00000e+03])},\n",
        "       pre_dispatch='2*n_jobs', refit=True, score_func=None, scoring=None,\n",
        "       verbose=0)"
       ]
      }
     ],
     "prompt_number": 141
    },
    {
     "cell_type": "code",
     "collapsed": false,
     "input": [
      "svc_grid.score(X_test,y_test)"
     ],
     "language": "python",
     "metadata": {},
     "outputs": [
      {
       "metadata": {},
       "output_type": "pyout",
       "prompt_number": 142,
       "text": [
        "0.76086956521739135"
       ]
      }
     ],
     "prompt_number": 142
    },
    {
     "cell_type": "code",
     "collapsed": false,
     "input": [
      "param={'C':np.logspace(-3,3,500)}\n",
      "linsvc_grid = GridSearchCV(LinearSVC(),param)\n",
      "linsvc_grid.fit(X_train,y_train)"
     ],
     "language": "python",
     "metadata": {},
     "outputs": [
      {
       "metadata": {},
       "output_type": "pyout",
       "prompt_number": 162,
       "text": [
        "GridSearchCV(cv=None,\n",
        "       estimator=LinearSVC(C=1.0, class_weight=None, dual=True, fit_intercept=True,\n",
        "     intercept_scaling=1, loss='l2', multi_class='ovr', penalty='l2',\n",
        "     random_state=None, tol=0.0001, verbose=0),\n",
        "       fit_params={}, iid=True, loss_func=None, n_jobs=1,\n",
        "       param_grid={'C': array([  1.00000e-03,   1.02807e-03, ...,   9.72693e+02,   1.00000e+03])},\n",
        "       pre_dispatch='2*n_jobs', refit=True, score_func=None, scoring=None,\n",
        "       verbose=0)"
       ]
      }
     ],
     "prompt_number": 162
    },
    {
     "cell_type": "code",
     "collapsed": false,
     "input": [
      "linsvc_grid.score(X_test,y_test)"
     ],
     "language": "python",
     "metadata": {},
     "outputs": [
      {
       "metadata": {},
       "output_type": "pyout",
       "prompt_number": 160,
       "text": [
        "0.8188405797101449"
       ]
      }
     ],
     "prompt_number": 160
    },
    {
     "cell_type": "code",
     "collapsed": false,
     "input": [],
     "language": "python",
     "metadata": {},
     "outputs": [],
     "prompt_number": 82
    },
    {
     "cell_type": "code",
     "collapsed": false,
     "input": [],
     "language": "python",
     "metadata": {},
     "outputs": []
    }
   ],
   "metadata": {}
  }
 ]
}