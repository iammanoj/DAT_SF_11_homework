{
 "metadata": {
  "name": "",
  "signature": "sha256:87a550c300c148160ae4c4dee8fe962a0ae912554079b05166fd4120efa6dde4"
 },
 "nbformat": 3,
 "nbformat_minor": 0,
 "worksheets": [
  {
   "cells": [
    {
     "cell_type": "markdown",
     "metadata": {},
     "source": [
      "#HW 3: KNN & Random Forest\n",
      "Get your data [here](https://archive.ics.uci.edu/ml/datasets/Bank+Marketing). The data is related with direct marketing campaigns of a Portuguese banking institution. The marketing campaigns were based on phone calls. Often, more than one contact to the same client was required, in order to access if the product (bank term deposit) would be ('yes') or not ('no') subscribed. There are four datasets:\n",
      "\n",
      "1) bank-additional-full.csv with all examples (41188) and 20 inputs, ordered by date (from May 2008 to November 2010)\n",
      "\n",
      "2) bank-additional.csv with 10% of the examples (4119), randomly selected from 1), and 20 inputs.\n",
      "\n",
      "3) bank-full.csv with all examples and 17 inputs, ordered by date (older version of this dataset with less inputs). \n",
      "\n",
      "4) bank.csv with 10% of the examples and 17 inputs, randomly selected from 3 (older version of this dataset with less inputs). \n",
      "\n",
      "The smallest datasets are provided to test more computationally demanding machine \n",
      "learning algorithms (e.g., SVM). \n",
      "\n",
      "The classification goal is to predict if the client will subscribe (yes/no) a term deposit (variable y)."
     ]
    },
    {
     "cell_type": "markdown",
     "metadata": {},
     "source": [
      "##Assignment\n",
      "* Preprocess your data (you may find `LabelEncoder` useful)\n",
      "* Train both KNN and Random Forest models\n",
      "* Find the best parameters by computing their learning curve (feel free to verify this with grid search)\n",
      "* Create a clasification report\n",
      "* Inspect your models, what features are most important? How might you use this information to improve model precision?\n"
     ]
    },
    {
     "cell_type": "code",
     "collapsed": false,
     "input": [
      "# Standard imports\n",
      "import pandas as pd\n",
      "import numpy as np\n",
      "import matplotlib as mpl\n",
      "import matplotlib.pyplot as plt\n",
      "from sklearn import preprocessing\n",
      "%matplotlib inline\n",
      "\n",
      "from sklearn import neighbors\n",
      "from sklearn.neighbors import KNeighborsClassifier\n",
      "from sklearn import preprocessing\n",
      "from sklearn.cross_validation import cross_val_score\n",
      "from sklearn.ensemble import RandomForestClassifier as RF\n",
      "from sklearn.tree import DecisionTreeClassifier\n",
      "from sklearn import cross_validation\n",
      "from sklearn.feature_extraction.text import TfidfVectorizer\n",
      "from sklearn.cross_validation import train_test_split\n",
      "from sklearn.metrics import confusion_matrix, classification_report\n",
      "from sklearn import svm, grid_search, datasets\n",
      "\n",
      "import numpy as np\n",
      "import matplotlib.pyplot as plt\n",
      "from sklearn.learning_curve import learning_curve"
     ],
     "language": "python",
     "metadata": {},
     "outputs": [],
     "prompt_number": 15
    },
    {
     "cell_type": "code",
     "collapsed": false,
     "input": [
      "#HI! I'm sorry I didn't complete the HW... this is what I did before class today. It was a busy week :( "
     ],
     "language": "python",
     "metadata": {},
     "outputs": [],
     "prompt_number": 16
    },
    {
     "cell_type": "code",
     "collapsed": false,
     "input": [
      "bank_full = pd.read_csv('.//bank/bank-full.csv', sep=\";\")\n",
      "bank = pd.read_csv('.//bank/bank.csv', sep=\";\")\n",
      "bank_add = pd.read_csv('.//bank-additional/bank-additional.csv', sep=\";\")\n",
      "bank_add_full = pd.read_csv('.//bank-additional/bank-additional-full.csv', sep=\";\")"
     ],
     "language": "python",
     "metadata": {},
     "outputs": [],
     "prompt_number": 17
    },
    {
     "cell_type": "code",
     "collapsed": false,
     "input": [
      "bank_data = pd.DataFrame()\n",
      "label_encoders = {}\n",
      "\n",
      "for column in bank_add.columns:\n",
      "    if bank_add[column].dtype == 'object':\n",
      "        label_encoders[column] = preprocessing.LabelEncoder()\n",
      "        bank_data[column] = label_encoders[column].fit_transform(bank_add[column])\n",
      "    else:\n",
      "        bank_data[column] = bank_add[column]\n"
     ],
     "language": "python",
     "metadata": {},
     "outputs": [],
     "prompt_number": 18
    },
    {
     "cell_type": "code",
     "collapsed": false,
     "input": [
      "xcols = [col for col in bank_data.columns if col != 'y']\n",
      "X = bank_data[xcols].values\n",
      "y = bank_data['y'].values\n",
      "X_train, X_test, y_train, y_test = train_test_split(X, y, random_state=0)"
     ],
     "language": "python",
     "metadata": {},
     "outputs": [],
     "prompt_number": 19
    },
    {
     "cell_type": "code",
     "collapsed": false,
     "input": [
      "from sklearn.metrics import confusion_matrix\n",
      "\n",
      "def plot_confusion_matrix(y_pred, y):\n",
      "    plt.imshow(confusion_matrix(y, y_pred),\n",
      "               cmap=plt.cm.binary, interpolation='nearest')\n",
      "    plt.colorbar()\n",
      "    plt.xlabel('true value')\n",
      "    plt.ylabel('predicted value')"
     ],
     "language": "python",
     "metadata": {},
     "outputs": [],
     "prompt_number": 20
    },
    {
     "cell_type": "code",
     "collapsed": false,
     "input": [
      "clf = KNeighborsClassifier()\n",
      "\n",
      "clf.fit(X_train, y_train)\n",
      "y_pred = clf.predict(X_test)\n",
      "\n",
      "print classification_report(y_test, y_pred)"
     ],
     "language": "python",
     "metadata": {},
     "outputs": [
      {
       "output_type": "stream",
       "stream": "stdout",
       "text": [
        "             precision    recall  f1-score   support\n",
        "\n",
        "          0       0.94      0.94      0.94       929\n",
        "          1       0.45      0.44      0.44       101\n",
        "\n",
        "avg / total       0.89      0.89      0.89      1030\n",
        "\n"
       ]
      }
     ],
     "prompt_number": 21
    },
    {
     "cell_type": "code",
     "collapsed": false,
     "input": [
      "%%time\n",
      "\n",
      "# Random Forest\n",
      "def forest(df):\n",
      "    # Feature - Target\n",
      "    xcols = [col for col in df.columns if col != 'y']\n",
      "    X = df[xcols].values\n",
      "    y = df['y'].values\n",
      "    X_train, X_test, y_train, y_test = train_test_split(X, y, test_size = .2)\n",
      "    # Run Model\n",
      "    clf = RF(n_estimators = 50)\n",
      "    clf.fit(X_train, y_train)\n",
      "    y_pred = clf.predict(X_test)\n",
      "    # Get results\n",
      "    print plot_confusion_matrix(y_test, y_pred)\n",
      "    print classification_report(y_test, y_pred)\n",
      "forest(bank_data)"
     ],
     "language": "python",
     "metadata": {},
     "outputs": [
      {
       "output_type": "stream",
       "stream": "stdout",
       "text": [
        "None\n",
        "             precision    recall  f1-score   support\n",
        "\n",
        "          0       0.94      0.98      0.96       746\n",
        "          1       0.65      0.44      0.52        78\n",
        "\n",
        "avg / total       0.92      0.92      0.92       824\n",
        "\n",
        "CPU times: user 341 ms, sys: 6.26 ms, total: 348 ms\n",
        "Wall time: 352 ms\n"
       ]
      },
      {
       "metadata": {},
       "output_type": "display_data",
       "png": "[encoded data removed]",
       "text": [
        "<matplotlib.figure.Figure at 0x109e85fd0>"
       ]
      }
     ],
     "prompt_number": 22
    },
    {
     "cell_type": "code",
     "collapsed": false,
     "input": [
      "def knn(df):  \n",
      "    X = df.drop('y', axis = 1)\n",
      "    y = df.y.values\n",
      "    X_train, X_test, y_train, y_test = train_test_split(X, y, test_size = .2)\n",
      "    \n",
      "    knn = neighbors.KNeighborsClassifier(n_neighbors=1)\n",
      "    knn.fit(X_train, y_train)\n",
      "    y_pred = knn.predict(X_test)\n",
      "    \n",
      "    print y_pred.shape\n",
      "    print knn.score(X_test, y_test)\n",
      "    print plot_confusion_matrix(y_test, y_pred)\n",
      "    print classification_report(y_test, y_pred)\n",
      "\n",
      "knn(bank_data)"
     ],
     "language": "python",
     "metadata": {},
     "outputs": [
      {
       "output_type": "stream",
       "stream": "stdout",
       "text": [
        "(824,)\n",
        "0.890776699029\n",
        "None"
       ]
      },
      {
       "output_type": "stream",
       "stream": "stdout",
       "text": [
        "\n",
        "             precision    recall  f1-score   support\n",
        "\n",
        "          0       0.94      0.94      0.94       735\n",
        "          1       0.49      0.49      0.49        89\n",
        "\n",
        "avg / total       0.89      0.89      0.89       824\n",
        "\n"
       ]
      },
      {
       "metadata": {},
       "output_type": "display_data",
       "png": "[encoded data removed]",
       "text": [
        "<matplotlib.figure.Figure at 0x10a86af50>"
       ]
      }
     ],
     "prompt_number": 23
    },
    {
     "cell_type": "code",
     "collapsed": false,
     "input": [
      "def plot_learning_curve(estimator, title, X, y,n_estimators, n_jobs=1, cv=None):\n",
      "\n",
      "    plt.figure()\n",
      "    plt.title(title)\n",
      "    plt.xlabel(\"N Neighbors\")\n",
      "    plt.ylabel(\"Score\")\n",
      "    score=[]\n",
      "    n_est=[]\n",
      "    for i in n_estimators:\n",
      "        clf = KNeighborsClassifier(n_neighbors=int(i))\n",
      "        score.append(cross_val_score(clf, X_train, y_train).mean())\n",
      "        n_est.append(i)\n",
      "    print score , n_estimators\n",
      "    \n",
      "    plt.grid()\n",
      "\n",
      "    plt.plot(n_est, score, 'o-', color=\"r\",\n",
      "             label=\"Training score\")\n",
      "    \n",
      "\n",
      "    plt.legend(loc=\"best\")\n",
      "    return plt\n",
      "    \n",
      "\n",
      "    \n",
      "    \n",
      "\n",
      "    \n",
      "\n",
      "estimator=KNeighborsClassifier()\n",
      "title=\"Learning Curve: K Nearest Neighbors\"\n",
      "X=X_train\n",
      "y=y_train\n",
      "plot_learning_curve(estimator, title, X, y, n_jobs=1, cv=None,n_estimators=np.linspace(1, 100, 10))"
     ],
     "language": "python",
     "metadata": {},
     "outputs": [
      {
       "output_type": "stream",
       "stream": "stdout",
       "text": [
        "[0.89284912300565156, 0.90935680791040419, 0.90806168052056702, 0.90935869493428445, 0.90903412682687501, 0.90903444133085509, 0.90838656313195643, 0.9080632530404672, 0.90903412682687501, 0.90903412682687501] [   1.   12.   23.   34.   45.   56.   67.   78.   89.  100.]\n"
       ]
      },
      {
       "metadata": {},
       "output_type": "pyout",
       "prompt_number": 24,
       "text": [
        "<module 'matplotlib.pyplot' from '/Users/megara/anaconda/lib/python2.7/site-packages/matplotlib/pyplot.pyc'>"
       ]
      },
      {
       "metadata": {},
       "output_type": "display_data",
       "png": "[encoded data removed]",
       "text": [
        "<matplotlib.figure.Figure at 0x109f81a50>"
       ]
      }
     ],
     "prompt_number": 24
    },
    {
     "cell_type": "code",
     "collapsed": false,
     "input": [
      "def plot_learning_curve(estimator, title, X, y,n_estimators, n_jobs=1, cv=None):\n",
      "\n",
      "    plt.figure()\n",
      "    plt.title(title)\n",
      "    plt.xlabel(\"Leaf Size\")\n",
      "    plt.ylabel(\"Score\")\n",
      "    score=[]\n",
      "    n_est=[]\n",
      "    for i in n_estimators:\n",
      "        clf = KNeighborsClassifier(leaf_size=int(i))\n",
      "        score.append(cross_val_score(clf, X_train, y_train).mean())\n",
      "        n_est.append(i)\n",
      "    print score , n_estimators\n",
      "    \n",
      "    plt.grid()\n",
      "\n",
      "    plt.plot(n_est, score, 'o-', color=\"r\",\n",
      "             label=\"Training score\")\n",
      "    \n",
      "\n",
      "    plt.legend(loc=\"best\")\n",
      "    return plt\n",
      "    \n",
      "\n",
      "    \n",
      "    \n",
      "\n",
      "    \n",
      "\n",
      "estimator=RF()\n",
      "title=\"Learning Curve: K Nearest neighbors\"\n",
      "X=X_train\n",
      "y=y_train\n",
      "plot_learning_curve(estimator, title, X, y, n_jobs=1, cv=None,n_estimators=np.linspace(1, 100, 10))"
     ],
     "language": "python",
     "metadata": {},
     "outputs": [
      {
       "output_type": "stream",
       "stream": "stdout",
       "text": [
        "[0.90579725186422222, 0.90579725186422222, 0.90579725186422222, 0.90579725186422222, 0.90579725186422222, 0.90579725186422222, 0.90579725186422222, 0.90579725186422222, 0.90579725186422222, 0.90579725186422222] [   1.   12.   23.   34.   45.   56.   67.   78.   89.  100.]\n"
       ]
      },
      {
       "metadata": {},
       "output_type": "pyout",
       "prompt_number": 25,
       "text": [
        "<module 'matplotlib.pyplot' from '/Users/megara/anaconda/lib/python2.7/site-packages/matplotlib/pyplot.pyc'>"
       ]
      },
      {
       "metadata": {},
       "output_type": "display_data",
       "png": "[encoded data removed]",
       "text": [
        "<matplotlib.figure.Figure at 0x109d3f7d0>"
       ]
      }
     ],
     "prompt_number": 25
    },
    {
     "cell_type": "code",
     "collapsed": false,
     "input": [
      "def plot_learning_curve(estimator, title, X, y,n_estimators, n_jobs=1, cv=None):\n",
      "\n",
      "    plt.figure()\n",
      "    plt.title(title)\n",
      "    plt.xlabel(\"N estimators\")\n",
      "    plt.ylabel(\"Score\")\n",
      "    score=[]\n",
      "    n_est=[]\n",
      "    for i in n_estimators:\n",
      "        clf = RF(n_estimators=int(i))\n",
      "        score.append(cross_val_score(clf, X_train, y_train).mean())\n",
      "        n_est.append(i)\n",
      "    print score , n_estimators\n",
      "    \n",
      "    plt.grid()\n",
      "\n",
      "    plt.plot(n_est, score, 'o-', color=\"r\",\n",
      "             label=\"Training score\")\n",
      "    \n",
      "\n",
      "    plt.legend(loc=\"best\")\n",
      "    return plt\n",
      "    \n",
      "\n",
      "    \n",
      "    \n",
      "\n",
      "    \n",
      "\n",
      "estimator=RF()\n",
      "title=\"Learning Curve: Random Forests\"\n",
      "X=X_train\n",
      "y=y_train\n",
      "plot_learning_curve(estimator, title, X, y, n_jobs=1, cv=None,n_estimators=np.linspace(1, 100, 10))"
     ],
     "language": "python",
     "metadata": {},
     "outputs": [
      {
       "output_type": "stream",
       "stream": "stdout",
       "text": [
        "[0.87957516802375135, 0.90417441132717535, 0.90870830070354547, 0.90611898943581126, 0.90708829070231889, 0.90773805592509771, 0.9067659241227698, 0.9074131733137083, 0.91032673818487175, 0.9087092442154856] [   1.   12.   23.   34.   45.   56.   67.   78.   89.  100.]\n"
       ]
      },
      {
       "metadata": {},
       "output_type": "pyout",
       "prompt_number": 26,
       "text": [
        "<module 'matplotlib.pyplot' from '/Users/megara/anaconda/lib/python2.7/site-packages/matplotlib/pyplot.pyc'>"
       ]
      },
      {
       "metadata": {},
       "output_type": "display_data",
       "png": "[encoded data removed]",
       "text": [
        "<matplotlib.figure.Figure at 0x109ed9c10>"
       ]
      }
     ],
     "prompt_number": 26
    },
    {
     "cell_type": "code",
     "collapsed": false,
     "input": [
      "def plot_learning_curve(estimator, title, X, y,n_estimators, n_jobs=1, cv=None):\n",
      "\n",
      "    plt.figure()\n",
      "    plt.title(title)\n",
      "    plt.xlabel(\"Max Depth\")\n",
      "    plt.ylabel(\"Score\")\n",
      "    score=[]\n",
      "    n_est=[]\n",
      "    for i in n_estimators:\n",
      "        clf = RF(max_depth=int(i))\n",
      "        score.append(cross_val_score(clf, X_train, y_train).mean())\n",
      "        n_est.append(i)\n",
      "    print score , n_estimators\n",
      "    \n",
      "    plt.grid()\n",
      "\n",
      "    plt.plot(n_est, score, 'o-', color=\"r\",\n",
      "             label=\"Training score\")\n",
      "    \n",
      "\n",
      "    plt.legend(loc=\"best\")\n",
      "    return plt\n",
      "    \n",
      "\n",
      "    \n",
      "    \n",
      "\n",
      "    \n",
      "\n",
      "estimator=RF()\n",
      "title=\"Learning Curve: Random Forests\"\n",
      "X=X_train\n",
      "y=y_train\n",
      "plot_learning_curve(estimator, title, X, y, n_jobs=1, cv=None,n_estimators=np.linspace(1, 1000, 10))"
     ],
     "language": "python",
     "metadata": {},
     "outputs": [
      {
       "output_type": "stream",
       "stream": "stdout",
       "text": [
        "[0.88701853371954409, 0.90870892971150552, 0.9074131733137083, 0.90353156519195765, 0.90449803592264466, 0.90806136601658693, 0.90741065728186798, 0.91064879026044077, 0.90579536484034195, 0.90514685763348324] [    1.   112.   223.   334.   445.   556.   667.   778.   889.  1000.]\n"
       ]
      },
      {
       "metadata": {},
       "output_type": "pyout",
       "prompt_number": 28,
       "text": [
        "<module 'matplotlib.pyplot' from '/Users/megara/anaconda/lib/python2.7/site-packages/matplotlib/pyplot.pyc'>"
       ]
      },
      {
       "metadata": {},
       "output_type": "display_data",
       "png": "[encoded data removed]",
       "text": [
        "<matplotlib.figure.Figure at 0x10b1efad0>"
       ]
      }
     ],
     "prompt_number": 28
    },
    {
     "cell_type": "code",
     "collapsed": false,
     "input": [
      "parameters = {'n_estimators':[1, 100]}\n",
      "random = RF()\n",
      "clf = grid_search.GridSearchCV(random, parameters)\n",
      "clf.fit(X_train, y_train)\n",
      "y_pred = clf.predict(X_test)"
     ],
     "language": "python",
     "metadata": {},
     "outputs": [],
     "prompt_number": 29
    },
    {
     "cell_type": "code",
     "collapsed": false,
     "input": [
      "# Random Forest\n",
      "def forest(df):\n",
      "    # Feature - Target\n",
      "    xcols = [col for col in df.columns if col != 'y']\n",
      "    X = df[xcols].values\n",
      "    y = df['y'].values\n",
      "    X_train, X_test, y_train, y_test = train_test_split(X, y, test_size = .2)\n",
      "    # Run Model\n",
      "    parameters = {'n_estimators':[1,100], 'max_depth':[1,1000]}\n",
      "    random = RF()\n",
      "    clf = grid_search.GridSearchCV(random, parameters)\n",
      "    clf.fit(X_train, y_train)\n",
      "    y_pred = clf.predict(X_test)\n",
      "    # Get results\n",
      "    print confusion_matrix(y_test, y_pred)\n",
      "    print classification_report(y_test, y_pred)\n",
      "forest(bank_data)\n",
      "\n"
     ],
     "language": "python",
     "metadata": {},
     "outputs": [
      {
       "output_type": "stream",
       "stream": "stdout",
       "text": [
        "[[712  20]\n",
        " [ 64  28]]\n",
        "             precision    recall  f1-score   support\n",
        "\n",
        "          0       0.92      0.97      0.94       732\n",
        "          1       0.58      0.30      0.40        92\n",
        "\n",
        "avg / total       0.88      0.90      0.88       824\n",
        "\n"
       ]
      }
     ],
     "prompt_number": 30
    },
    {
     "cell_type": "code",
     "collapsed": false,
     "input": [
      "def knn(df):  \n",
      "    X = df.drop('y', axis = 1)\n",
      "    y = df.y.values\n",
      "    X_train, X_test, y_train, y_test = train_test_split(X, y, test_size = .2)\n",
      "    parameters = {'n_neighbors':[1,100],'weights':('distance', 'uniform'),'algorithm':('auto', 'ball_tree', 'kd_tree', 'brute'), 'leaf_size':[1,100]}\n",
      "    knn = neighbors.KNeighborsClassifier()\n",
      "    clf = grid_search.GridSearchCV(knn, parameters)\n",
      "    clf.fit(X_train, y_train)\n",
      "    y_pred = clf.predict(X_test)\n",
      "    \n",
      "    print y_pred.shape\n",
      "    print clf.score(X_test, y_test)\n",
      "    print confusion_matrix(y_test, y_pred)\n",
      "    print classification_report(y_test, y_pred)\n",
      "\n",
      "knn(bank_data)"
     ],
     "language": "python",
     "metadata": {},
     "outputs": [
      {
       "output_type": "stream",
       "stream": "stdout",
       "text": [
        "(824,)\n",
        "0.902912621359"
       ]
      },
      {
       "output_type": "stream",
       "stream": "stdout",
       "text": [
        "\n",
        "[[704  19]\n",
        " [ 61  40]]\n",
        "             precision    recall  f1-score   support\n",
        "\n",
        "          0       0.92      0.97      0.95       723\n",
        "          1       0.68      0.40      0.50       101\n",
        "\n",
        "avg / total       0.89      0.90      0.89       824\n",
        "\n"
       ]
      }
     ],
     "prompt_number": 31
    },
    {
     "cell_type": "code",
     "collapsed": false,
     "input": [
      "# This prints the top 10 most important features \n",
      "clf = RF(n_estimators=20)\n",
      "clf.fit(X_train,y_train)\n",
      "important=sorted(zip(clf.feature_importances_, xcols), reverse=True)[:10]\n",
      "important"
     ],
     "language": "python",
     "metadata": {},
     "outputs": [
      {
       "metadata": {},
       "output_type": "pyout",
       "prompt_number": 32,
       "text": [
        "[(0.29121690076572976, 'duration'),\n",
        " (0.13211977990833673, 'euribor3m'),\n",
        " (0.080991808813905483, 'nr.employed'),\n",
        " (0.074646149603671941, 'age'),\n",
        " (0.044594731672786041, 'job'),\n",
        " (0.041913190543369984, 'education'),\n",
        " (0.036723507316899363, 'campaign'),\n",
        " (0.036035598291393071, 'day_of_week'),\n",
        " (0.033842355104980015, 'pdays'),\n",
        " (0.032747770866925915, 'cons.conf.idx')]"
       ]
      }
     ],
     "prompt_number": 32
    },
    {
     "cell_type": "code",
     "collapsed": false,
     "input": [
      "#let's grab those features as a list\n",
      "X_import=[]\n",
      "for i in range(len(important)):\n",
      "    X_import.append(important[i][1])\n",
      "X_import"
     ],
     "language": "python",
     "metadata": {},
     "outputs": [
      {
       "metadata": {},
       "output_type": "pyout",
       "prompt_number": 33,
       "text": [
        "['duration',\n",
        " 'euribor3m',\n",
        " 'nr.employed',\n",
        " 'age',\n",
        " 'job',\n",
        " 'education',\n",
        " 'campaign',\n",
        " 'day_of_week',\n",
        " 'pdays',\n",
        " 'cons.conf.idx']"
       ]
      }
     ],
     "prompt_number": 33
    },
    {
     "cell_type": "code",
     "collapsed": false,
     "input": [
      "# Random Forest using only top ten features\n",
      "def forest(df):\n",
      "    # Feature - Target\n",
      "    xcols = [col for col in df.columns if col != 'y']\n",
      "    X = df[X_import].values\n",
      "    y = df['y'].values\n",
      "    X_train, X_test, y_train, y_test = train_test_split(X, y, test_size = .2)\n",
      "    # Run Model\n",
      "    parameters = {'n_estimators':[1,100], 'max_depth':[1,1000]}\n",
      "    random = RF()\n",
      "    clf = grid_search.GridSearchCV(random, parameters)\n",
      "    clf.fit(X_train, y_train)\n",
      "    y_pred = clf.predict(X_test)\n",
      "    # Get results\n",
      "    plot_confusion_matrix(y_test, y_pred)\n",
      "    print classification_report(y_test, y_pred)\n",
      "forest(bank_data)\n",
      "\n",
      "\n",
      "\n"
     ],
     "language": "python",
     "metadata": {},
     "outputs": [
      {
       "output_type": "stream",
       "stream": "stdout",
       "text": [
        "             precision    recall  f1-score   support\n",
        "\n",
        "          0       0.93      0.97      0.95       724\n",
        "          1       0.68      0.46      0.55       100\n",
        "\n",
        "avg / total       0.90      0.91      0.90       824\n",
        "\n"
       ]
      },
      {
       "metadata": {},
       "output_type": "display_data",
       "png": "[encoded data removed]",
       "text": [
        "<matplotlib.figure.Figure at 0x10aba5190>"
       ]
      }
     ],
     "prompt_number": 34
    },
    {
     "cell_type": "code",
     "collapsed": false,
     "input": [
      "#knn using only top ten features\n",
      "def knn(df):  \n",
      "    X = df[X_import].values\n",
      "    y = df.y.values\n",
      "    X_train, X_test, y_train, y_test = train_test_split(X, y, test_size = .2)\n",
      "    parameters = {'n_neighbors':[1,100],'weights':('distance', 'uniform'),'algorithm':('auto', 'ball_tree', 'kd_tree', 'brute'), 'leaf_size':[1,100]}\n",
      "    knn = neighbors.KNeighborsClassifier()\n",
      "    clf = grid_search.GridSearchCV(knn, parameters)\n",
      "    clf.fit(X_train, y_train)\n",
      "    y_pred = clf.predict(X_test)\n",
      "    \n",
      "    print y_pred.shape\n",
      "    print clf.score(X_test, y_test)\n",
      "    print plot_confusion_matrix(y_test, y_pred)\n",
      "    print classification_report(y_test, y_pred)\n",
      "\n",
      "knn(bank_data)"
     ],
     "language": "python",
     "metadata": {},
     "outputs": [
      {
       "output_type": "stream",
       "stream": "stdout",
       "text": [
        "(824,)\n",
        "0.910194174757"
       ]
      },
      {
       "output_type": "stream",
       "stream": "stdout",
       "text": [
        "\n",
        "None"
       ]
      },
      {
       "output_type": "stream",
       "stream": "stdout",
       "text": [
        "\n",
        "             precision    recall  f1-score   support\n",
        "\n",
        "          0       0.93      0.97      0.95       734\n",
        "          1       0.63      0.43      0.51        90\n",
        "\n",
        "avg / total       0.90      0.91      0.90       824\n",
        "\n"
       ]
      },
      {
       "metadata": {},
       "output_type": "display_data",
       "png": "[encoded data removed]",
       "text": [
        "<matplotlib.figure.Figure at 0x10aa18290>"
       ]
      }
     ],
     "prompt_number": 35
    },
    {
     "cell_type": "code",
     "collapsed": false,
     "input": [
      "#top 5?\n",
      "X_import5=[]\n",
      "for i in range(4):\n",
      "    X_import5.append(important[i][1])\n",
      "X_import5"
     ],
     "language": "python",
     "metadata": {},
     "outputs": [
      {
       "metadata": {},
       "output_type": "pyout",
       "prompt_number": 37,
       "text": [
        "['duration', 'euribor3m', 'nr.employed', 'age']"
       ]
      }
     ],
     "prompt_number": 37
    },
    {
     "cell_type": "code",
     "collapsed": false,
     "input": [
      "# Random Forest using only top five features\n",
      "def forest(df):\n",
      "    # Feature - Target\n",
      "    xcols = [col for col in df.columns if col != 'y']\n",
      "    X = df[X_import5].values\n",
      "    y = df['y'].values\n",
      "    X_train, X_test, y_train, y_test = train_test_split(X, y, test_size = .2)\n",
      "    # Run Model\n",
      "    parameters = {'n_estimators':[1,100], 'max_depth':[1,1000]}\n",
      "    random = RF()\n",
      "    clf = grid_search.GridSearchCV(random, parameters)\n",
      "    clf.fit(X_train, y_train)\n",
      "    y_pred = clf.predict(X_test)\n",
      "    # Get results\n",
      "    plot_confusion_matrix(y_test, y_pred)\n",
      "    print classification_report(y_test, y_pred)\n",
      "forest(bank_data)\n",
      "\n",
      "\n"
     ],
     "language": "python",
     "metadata": {},
     "outputs": [
      {
       "output_type": "stream",
       "stream": "stdout",
       "text": [
        "             precision    recall  f1-score   support\n",
        "\n",
        "          0       0.94      0.96      0.95       736\n",
        "          1       0.56      0.45      0.50        88\n",
        "\n",
        "avg / total       0.90      0.90      0.90       824\n",
        "\n"
       ]
      },
      {
       "metadata": {},
       "output_type": "display_data",
       "png": "[encoded data removed]",
       "text": [
        "<matplotlib.figure.Figure at 0x10a86a390>"
       ]
      }
     ],
     "prompt_number": 39
    },
    {
     "cell_type": "code",
     "collapsed": false,
     "input": [
      "#knn using only top five features\n",
      "def knn(df):  \n",
      "    X = df[X_import5].values\n",
      "    y = df.y.values\n",
      "    X_train, X_test, y_train, y_test = train_test_split(X, y, test_size = .2)\n",
      "    parameters = {'n_neighbors':[1,100],'weights':('distance', 'uniform'),'algorithm':('auto', 'ball_tree', 'kd_tree', 'brute'), 'leaf_size':[1,100]}\n",
      "    knn = neighbors.KNeighborsClassifier()\n",
      "    clf = grid_search.GridSearchCV(knn, parameters)\n",
      "    clf.fit(X_train, y_train)\n",
      "    y_pred = clf.predict(X_test)\n",
      "    \n",
      "    print y_pred.shape\n",
      "    print clf.score(X_test, y_test)\n",
      "    print plot_confusion_matrix(y_test, y_pred)\n",
      "    print classification_report(y_test, y_pred)\n",
      "\n",
      "knn(bank_data)"
     ],
     "language": "python",
     "metadata": {},
     "outputs": [
      {
       "output_type": "stream",
       "stream": "stdout",
       "text": [
        "(824,)\n",
        "0.91140776699\n",
        "None"
       ]
      },
      {
       "output_type": "stream",
       "stream": "stdout",
       "text": [
        "\n",
        "             precision    recall  f1-score   support\n",
        "\n",
        "          0       0.93      0.97      0.95       733\n",
        "          1       0.65      0.43      0.52        91\n",
        "\n",
        "avg / total       0.90      0.91      0.90       824\n",
        "\n"
       ]
      },
      {
       "metadata": {},
       "output_type": "display_data",
       "png": "[encoded data removed]",
       "text": [
        "<matplotlib.figure.Figure at 0x109c0f890>"
       ]
      }
     ],
     "prompt_number": 40
    },
    {
     "cell_type": "code",
     "collapsed": false,
     "input": [
      "from sklearn.metrics import roc_curve\n",
      "from sklearn.metrics import auc\n",
      "\n",
      "def plot_roc_curve(target_test, target_predicted_proba):\n",
      "    fpr, tpr, thresholds = roc_curve(target_test, target_predicted_proba[:, 1\n",
      "                                                                         ])\n",
      "    roc_auc = auc(fpr, tpr)\n",
      "    \n",
      "    # Plot ROC curve\n",
      "    plt.plot(fpr, tpr, label='ROC curve (area = %0.3f)' % roc_auc)\n",
      "    plt.plot([0, 1], [0, 1], 'k--')  # random predictions curve\n",
      "    plt.xlim([0.0, 1.0])\n",
      "    plt.ylim([0.0, 1.0])\n",
      "    plt.xlabel('False Positive Rate or (1 - Specifity)')\n",
      "    plt.ylabel('True Positive Rate or (Sensitivity)')\n",
      "    plt.title('Receiver Operating Characteristic')\n",
      "    plt.legend(loc=\"lower right\")\n",
      "    \n",
      "y_predicted_proba = clf.predict_proba(X_test)\n",
      "plot_roc_curve(y_test, y_predicted_proba)"
     ],
     "language": "python",
     "metadata": {},
     "outputs": [
      {
       "metadata": {},
       "output_type": "display_data",
       "png": "[encoded data removed]",
       "text": [
        "<matplotlib.figure.Figure at 0x109c0fa10>"
       ]
      }
     ],
     "prompt_number": 38
    },
    {
     "cell_type": "code",
     "collapsed": false,
     "input": [],
     "language": "python",
     "metadata": {},
     "outputs": []
    }
   ],
   "metadata": {}
  }
 ]
}