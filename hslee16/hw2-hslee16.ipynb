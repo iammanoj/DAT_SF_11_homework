{
 "metadata": {
  "name": "",
  "signature": "sha256:86de5eecbaefcf580c79c370344682a6d1f031a3e7770cbcca0d39e7b96a6d46"
 },
 "nbformat": 3,
 "nbformat_minor": 0,
 "worksheets": [
  {
   "cells": [
    {
     "cell_type": "code",
     "collapsed": false,
     "input": [
      "# Standard imports for data analysis packages in Python\n",
      "import pandas as pd\n",
      "import numpy as np\n",
      "import seaborn as sns  # for pretty layout of plots\n",
      "import matplotlib.pyplot as plt\n",
      "from pprint import pprint  # for pretty printing\n",
      "from pandas.tools.plotting import scatter_matrix #scatter matrix plot\n",
      "from sklearn.cross_validation import train_test_split\n",
      "from sklearn.svm import SVC, LinearSVC\n",
      "from sklearn.linear_model import LogisticRegression\n",
      "from sklearn.grid_search import GridSearchCV\n",
      "from sklearn.metrics import confusion_matrix, classification_report\n",
      "import random\n",
      "import scipy.stats\n",
      "\n",
      "# This enables inline Plots\n",
      "%matplotlib inline"
     ],
     "language": "python",
     "metadata": {},
     "outputs": [],
     "prompt_number": 1
    },
    {
     "cell_type": "code",
     "collapsed": false,
     "input": [
      "# Read data from data file\n",
      "crx = pd.read_csv('crx.data', parse_dates=True)"
     ],
     "language": "python",
     "metadata": {},
     "outputs": [],
     "prompt_number": 2
    },
    {
     "cell_type": "code",
     "collapsed": false,
     "input": [
      "# first check out some sample values\n",
      "crx.head(5)"
     ],
     "language": "python",
     "metadata": {},
     "outputs": [
      {
       "html": [
        "<div style=\"max-height:1000px;max-width:1500px;overflow:auto;\">\n",
        "<table border=\"1\" class=\"dataframe\">\n",
        "  <thead>\n",
        "    <tr style=\"text-align: right;\">\n",
        "      <th></th>\n",
        "      <th>b</th>\n",
        "      <th>30.83</th>\n",
        "      <th>0</th>\n",
        "      <th>u</th>\n",
        "      <th>g</th>\n",
        "      <th>w</th>\n",
        "      <th>v</th>\n",
        "      <th>1.25</th>\n",
        "      <th>t</th>\n",
        "      <th>t.1</th>\n",
        "      <th>01</th>\n",
        "      <th>f</th>\n",
        "      <th>g.1</th>\n",
        "      <th>00202</th>\n",
        "      <th>0.1</th>\n",
        "      <th>+</th>\n",
        "    </tr>\n",
        "  </thead>\n",
        "  <tbody>\n",
        "    <tr>\n",
        "      <th>0</th>\n",
        "      <td> a</td>\n",
        "      <td> 58.67</td>\n",
        "      <td> 4.460</td>\n",
        "      <td> u</td>\n",
        "      <td> g</td>\n",
        "      <td> q</td>\n",
        "      <td> h</td>\n",
        "      <td> 3.04</td>\n",
        "      <td> t</td>\n",
        "      <td> t</td>\n",
        "      <td> 6</td>\n",
        "      <td> f</td>\n",
        "      <td> g</td>\n",
        "      <td> 00043</td>\n",
        "      <td> 560</td>\n",
        "      <td> +</td>\n",
        "    </tr>\n",
        "    <tr>\n",
        "      <th>1</th>\n",
        "      <td> a</td>\n",
        "      <td> 24.50</td>\n",
        "      <td> 0.500</td>\n",
        "      <td> u</td>\n",
        "      <td> g</td>\n",
        "      <td> q</td>\n",
        "      <td> h</td>\n",
        "      <td> 1.50</td>\n",
        "      <td> t</td>\n",
        "      <td> f</td>\n",
        "      <td> 0</td>\n",
        "      <td> f</td>\n",
        "      <td> g</td>\n",
        "      <td> 00280</td>\n",
        "      <td> 824</td>\n",
        "      <td> +</td>\n",
        "    </tr>\n",
        "    <tr>\n",
        "      <th>2</th>\n",
        "      <td> b</td>\n",
        "      <td> 27.83</td>\n",
        "      <td> 1.540</td>\n",
        "      <td> u</td>\n",
        "      <td> g</td>\n",
        "      <td> w</td>\n",
        "      <td> v</td>\n",
        "      <td> 3.75</td>\n",
        "      <td> t</td>\n",
        "      <td> t</td>\n",
        "      <td> 5</td>\n",
        "      <td> t</td>\n",
        "      <td> g</td>\n",
        "      <td> 00100</td>\n",
        "      <td>   3</td>\n",
        "      <td> +</td>\n",
        "    </tr>\n",
        "    <tr>\n",
        "      <th>3</th>\n",
        "      <td> b</td>\n",
        "      <td> 20.17</td>\n",
        "      <td> 5.625</td>\n",
        "      <td> u</td>\n",
        "      <td> g</td>\n",
        "      <td> w</td>\n",
        "      <td> v</td>\n",
        "      <td> 1.71</td>\n",
        "      <td> t</td>\n",
        "      <td> f</td>\n",
        "      <td> 0</td>\n",
        "      <td> f</td>\n",
        "      <td> s</td>\n",
        "      <td> 00120</td>\n",
        "      <td>   0</td>\n",
        "      <td> +</td>\n",
        "    </tr>\n",
        "    <tr>\n",
        "      <th>4</th>\n",
        "      <td> b</td>\n",
        "      <td> 32.08</td>\n",
        "      <td> 4.000</td>\n",
        "      <td> u</td>\n",
        "      <td> g</td>\n",
        "      <td> m</td>\n",
        "      <td> v</td>\n",
        "      <td> 2.50</td>\n",
        "      <td> t</td>\n",
        "      <td> f</td>\n",
        "      <td> 0</td>\n",
        "      <td> t</td>\n",
        "      <td> g</td>\n",
        "      <td> 00360</td>\n",
        "      <td>   0</td>\n",
        "      <td> +</td>\n",
        "    </tr>\n",
        "  </tbody>\n",
        "</table>\n",
        "</div>"
       ],
       "metadata": {},
       "output_type": "pyout",
       "prompt_number": 3,
       "text": [
        "   b  30.83      0  u  g  w  v  1.25  t t.1  01  f g.1  00202  0.1  +\n",
        "0  a  58.67  4.460  u  g  q  h  3.04  t   t   6  f   g  00043  560  +\n",
        "1  a  24.50  0.500  u  g  q  h  1.50  t   f   0  f   g  00280  824  +\n",
        "2  b  27.83  1.540  u  g  w  v  3.75  t   t   5  t   g  00100    3  +\n",
        "3  b  20.17  5.625  u  g  w  v  1.71  t   f   0  f   s  00120    0  +\n",
        "4  b  32.08  4.000  u  g  m  v  2.50  t   f   0  t   g  00360    0  +"
       ]
      }
     ],
     "prompt_number": 3
    },
    {
     "cell_type": "code",
     "collapsed": false,
     "input": [
      "# next see the info \n",
      "crx.info()"
     ],
     "language": "python",
     "metadata": {},
     "outputs": [
      {
       "output_type": "stream",
       "stream": "stdout",
       "text": [
        "<class 'pandas.core.frame.DataFrame'>\n",
        "Int64Index: 689 entries, 0 to 688\n",
        "Data columns (total 16 columns):\n",
        "b        689 non-null object\n",
        "30.83    689 non-null object\n",
        "0        689 non-null float64\n",
        "u        689 non-null object\n",
        "g        689 non-null object\n",
        "w        689 non-null object\n",
        "v        689 non-null object\n",
        "1.25     689 non-null float64\n",
        "t        689 non-null object\n",
        "t.1      689 non-null object\n",
        "01       689 non-null int64\n",
        "f        689 non-null object\n",
        "g.1      689 non-null object\n",
        "00202    689 non-null object\n",
        "0.1      689 non-null int64\n",
        "+        689 non-null object\n",
        "dtypes: float64(2), int64(2), object(12)\n",
        "memory usage: 91.5+ KB\n"
       ]
      }
     ],
     "prompt_number": 4
    },
    {
     "cell_type": "code",
     "collapsed": false,
     "input": [
      "# Replace '?' character with python \"nan\"\n",
      "crx.replace(to_replace='?', value=float(\"nan\"), inplace=True)\n",
      "crx.info()"
     ],
     "language": "python",
     "metadata": {},
     "outputs": [
      {
       "output_type": "stream",
       "stream": "stdout",
       "text": [
        "<class 'pandas.core.frame.DataFrame'>\n",
        "Int64Index: 689 entries, 0 to 688\n",
        "Data columns (total 16 columns):\n",
        "b        677 non-null object\n",
        "30.83    677 non-null object\n",
        "0        689 non-null float64\n",
        "u        683 non-null object\n",
        "g        683 non-null object\n",
        "w        680 non-null object\n",
        "v        680 non-null object\n",
        "1.25     689 non-null float64\n",
        "t        689 non-null object\n",
        "t.1      689 non-null object\n",
        "01       689 non-null int64\n",
        "f        689 non-null object\n",
        "g.1      689 non-null object\n",
        "00202    676 non-null object\n",
        "0.1      689 non-null int64\n",
        "+        689 non-null object\n",
        "dtypes: float64(2), int64(2), object(12)\n",
        "memory usage: 91.5+ KB\n"
       ]
      }
     ],
     "prompt_number": 5
    },
    {
     "cell_type": "code",
     "collapsed": false,
     "input": [
      "# Change the column names to something more easy to work with\n",
      "crx.columns = ['a', 'b', 'c', 'd', 'e', 'f', 'g', 'h', 'i', 'j', 'k', 'l', 'm', 'n', 'o', 'approved']"
     ],
     "language": "python",
     "metadata": {},
     "outputs": [],
     "prompt_number": 6
    },
    {
     "cell_type": "code",
     "collapsed": false,
     "input": [
      "# The 2nd column is contains floats but are stored as objects. Convert them to float\n",
      "a = crx['b'].map(lambda x: float(x))\n",
      "crx['b'] = a"
     ],
     "language": "python",
     "metadata": {},
     "outputs": [],
     "prompt_number": 7
    },
    {
     "cell_type": "code",
     "collapsed": false,
     "input": [
      "# Column n is described as being a contiuous. Thus we convert to float\n",
      "n = crx['n'].map(lambda x: float(x))\n",
      "crx['n'] = n"
     ],
     "language": "python",
     "metadata": {},
     "outputs": [],
     "prompt_number": 8
    },
    {
     "cell_type": "code",
     "collapsed": false,
     "input": [
      "# the description of numerical data\n",
      "crx.describe()"
     ],
     "language": "python",
     "metadata": {},
     "outputs": [
      {
       "html": [
        "<div style=\"max-height:1000px;max-width:1500px;overflow:auto;\">\n",
        "<table border=\"1\" class=\"dataframe\">\n",
        "  <thead>\n",
        "    <tr style=\"text-align: right;\">\n",
        "      <th></th>\n",
        "      <th>b</th>\n",
        "      <th>c</th>\n",
        "      <th>h</th>\n",
        "      <th>k</th>\n",
        "      <th>n</th>\n",
        "      <th>o</th>\n",
        "    </tr>\n",
        "  </thead>\n",
        "  <tbody>\n",
        "    <tr>\n",
        "      <th>count</th>\n",
        "      <td> 677.000000</td>\n",
        "      <td> 689.000000</td>\n",
        "      <td> 689.000000</td>\n",
        "      <td> 689.000000</td>\n",
        "      <td>  676.000000</td>\n",
        "      <td>    689.000000</td>\n",
        "    </tr>\n",
        "    <tr>\n",
        "      <th>mean</th>\n",
        "      <td>  31.569261</td>\n",
        "      <td>   4.765631</td>\n",
        "      <td>   2.224819</td>\n",
        "      <td>   2.402032</td>\n",
        "      <td>  183.988166</td>\n",
        "      <td>   1018.862119</td>\n",
        "    </tr>\n",
        "    <tr>\n",
        "      <th>std</th>\n",
        "      <td>  11.966670</td>\n",
        "      <td>   4.978470</td>\n",
        "      <td>   3.348739</td>\n",
        "      <td>   4.866180</td>\n",
        "      <td>  173.934087</td>\n",
        "      <td>   5213.743149</td>\n",
        "    </tr>\n",
        "    <tr>\n",
        "      <th>min</th>\n",
        "      <td>  13.750000</td>\n",
        "      <td>   0.000000</td>\n",
        "      <td>   0.000000</td>\n",
        "      <td>   0.000000</td>\n",
        "      <td>    0.000000</td>\n",
        "      <td>      0.000000</td>\n",
        "    </tr>\n",
        "    <tr>\n",
        "      <th>25%</th>\n",
        "      <td>  22.580000</td>\n",
        "      <td>   1.000000</td>\n",
        "      <td>   0.165000</td>\n",
        "      <td>   0.000000</td>\n",
        "      <td>   74.500000</td>\n",
        "      <td>      0.000000</td>\n",
        "    </tr>\n",
        "    <tr>\n",
        "      <th>50%</th>\n",
        "      <td>  28.420000</td>\n",
        "      <td>   2.750000</td>\n",
        "      <td>   1.000000</td>\n",
        "      <td>   0.000000</td>\n",
        "      <td>  160.000000</td>\n",
        "      <td>      5.000000</td>\n",
        "    </tr>\n",
        "    <tr>\n",
        "      <th>75%</th>\n",
        "      <td>  38.250000</td>\n",
        "      <td>   7.250000</td>\n",
        "      <td>   2.625000</td>\n",
        "      <td>   3.000000</td>\n",
        "      <td>  277.000000</td>\n",
        "      <td>    396.000000</td>\n",
        "    </tr>\n",
        "    <tr>\n",
        "      <th>max</th>\n",
        "      <td>  80.250000</td>\n",
        "      <td>  28.000000</td>\n",
        "      <td>  28.500000</td>\n",
        "      <td>  67.000000</td>\n",
        "      <td> 2000.000000</td>\n",
        "      <td> 100000.000000</td>\n",
        "    </tr>\n",
        "  </tbody>\n",
        "</table>\n",
        "</div>"
       ],
       "metadata": {},
       "output_type": "pyout",
       "prompt_number": 9,
       "text": [
        "                b           c           h           k            n  \\\n",
        "count  677.000000  689.000000  689.000000  689.000000   676.000000   \n",
        "mean    31.569261    4.765631    2.224819    2.402032   183.988166   \n",
        "std     11.966670    4.978470    3.348739    4.866180   173.934087   \n",
        "min     13.750000    0.000000    0.000000    0.000000     0.000000   \n",
        "25%     22.580000    1.000000    0.165000    0.000000    74.500000   \n",
        "50%     28.420000    2.750000    1.000000    0.000000   160.000000   \n",
        "75%     38.250000    7.250000    2.625000    3.000000   277.000000   \n",
        "max     80.250000   28.000000   28.500000   67.000000  2000.000000   \n",
        "\n",
        "                   o  \n",
        "count     689.000000  \n",
        "mean     1018.862119  \n",
        "std      5213.743149  \n",
        "min         0.000000  \n",
        "25%         0.000000  \n",
        "50%         5.000000  \n",
        "75%       396.000000  \n",
        "max    100000.000000  "
       ]
      }
     ],
     "prompt_number": 9
    },
    {
     "cell_type": "markdown",
     "metadata": {},
     "source": [
      "##Part 1 - Impute Missing Data"
     ]
    },
    {
     "cell_type": "markdown",
     "metadata": {},
     "source": [
      "  Missing Attribute Values:\n",
      "    37 cases (5%) have one or more missing values.  The missing\n",
      "    values from particular attributes are:\n",
      "\n",
      "    A1:  12\n",
      "    A2:  12\n",
      "    A4:   6\n",
      "    A5:   6\n",
      "    A6:   9\n",
      "    A7:   9\n",
      "    A14: 13\n",
      "    \n",
      "  Attribute Information:\n",
      "\n",
      "    A1:\tb, a.\n",
      "    A2:\tcontinuous.\n",
      "    A3:\tcontinuous.\n",
      "    A4:\tu, y, l, t.\n",
      "    A5:\tg, p, gg.\n",
      "    A6:\tc, d, cc, i, j, k, m, r, q, w, x, e, aa, ff.\n",
      "    A7:\tv, h, bb, j, n, z, dd, ff, o.\n",
      "    A8:\tcontinuous.\n",
      "    A9:\tt, f.\n",
      "    A10:\tt, f.\n",
      "    A11:\tcontinuous.\n",
      "    A12:\tt, f.\n",
      "    A13:\tg, p, s.\n",
      "    A14:\tcontinuous.\n",
      "    A15:\tcontinuous.\n",
      "    A16: +,-         (class attribute)"
     ]
    },
    {
     "cell_type": "code",
     "collapsed": false,
     "input": [
      "# Impute each column that is missing data using the appropriate method\n",
      "# The first column \n",
      "a =  crx.b[crx.a == 'a'].count() \n",
      "b =  crx.b[crx.a == 'b'].count()\n",
      "print(float(a) / float(a + b))"
     ],
     "language": "python",
     "metadata": {},
     "outputs": [
      {
       "output_type": "stream",
       "stream": "stdout",
       "text": [
        "0.311278195489\n"
       ]
      }
     ],
     "prompt_number": 10
    },
    {
     "cell_type": "code",
     "collapsed": false,
     "input": [
      "# Roughtly 31% of the first column has the value 'a'\n",
      "# We want to create a function that returns value 'a' 31% of the time and value 'b' 79% of the time\n",
      "def get_a_impute_values():\n",
      "    my_values = ['a'] * 31 + ['b'] * 79\n",
      "    return random.choice(my_values)"
     ],
     "language": "python",
     "metadata": {},
     "outputs": [],
     "prompt_number": 11
    },
    {
     "cell_type": "code",
     "collapsed": false,
     "input": [
      "crx.loc[crx.a.isnull(), 'a'] = get_a_impute_values()"
     ],
     "language": "python",
     "metadata": {},
     "outputs": [],
     "prompt_number": 12
    },
    {
     "cell_type": "code",
     "collapsed": false,
     "input": [
      "# Create a Normal Distribution centered on Mean of 31.57 and Standard Dev of 11.97\n",
      "# Get 12 Entries since that's how many missing entries we have for column b\n",
      "def get_b_impute_values():\n",
      "    return np.random.normal(31.57, 11.97, 12)"
     ],
     "language": "python",
     "metadata": {},
     "outputs": [],
     "prompt_number": 13
    },
    {
     "cell_type": "code",
     "collapsed": false,
     "input": [
      "crx.loc[crx.b.isnull(), 'b'] = get_b_impute_values()"
     ],
     "language": "python",
     "metadata": {},
     "outputs": [],
     "prompt_number": 14
    },
    {
     "cell_type": "code",
     "collapsed": false,
     "input": [
      "# According to the attribute information, the 4th column has unqiue values u, y, l, t.\n",
      "# Based on this info, we can determine that the 6 missing values will be 't' since the values u, y \n",
      "# and l are all present in the dataset\n",
      "crx.loc[crx.d.isnull(), 'd'] = 't'"
     ],
     "language": "python",
     "metadata": {},
     "outputs": [],
     "prompt_number": 15
    },
    {
     "cell_type": "code",
     "collapsed": false,
     "input": [
      "# Get the counts of the distinct values in column e\n",
      "g = crx.e[crx.e == 'g'].count()\n",
      "p = crx.e[crx.e == 'p'].count()\n",
      "gg = crx.e[crx.e == 'gg'].count()\n",
      "print g, p, gg"
     ],
     "language": "python",
     "metadata": {},
     "outputs": [
      {
       "output_type": "stream",
       "stream": "stdout",
       "text": [
        "518 163 2\n"
       ]
      }
     ],
     "prompt_number": 16
    },
    {
     "cell_type": "code",
     "collapsed": false,
     "input": [
      "# Impute according to the chance of getting the above value\n",
      "def get_e_impute_values():\n",
      "    my_values = ['g'] * 518 + ['p'] * 163 + ['gg'] * 2\n",
      "    return random.choice(my_values)"
     ],
     "language": "python",
     "metadata": {},
     "outputs": [],
     "prompt_number": 17
    },
    {
     "cell_type": "code",
     "collapsed": false,
     "input": [
      "crx.loc[crx.e.isnull(), 'e'] = get_e_impute_values()"
     ],
     "language": "python",
     "metadata": {},
     "outputs": [],
     "prompt_number": 18
    },
    {
     "cell_type": "code",
     "collapsed": false,
     "input": [
      "# Since column f has a wide range of values, we can impute according to those set of values\n",
      "def get_f_impute_values():\n",
      "    my_values = ['aa', 'c', 'cc', 'd', 'e', 'ff', 'i', 'j', 'k', 'm', 'q', 'r', 'w', 'x']\n",
      "    return random.choice(my_values)"
     ],
     "language": "python",
     "metadata": {},
     "outputs": [],
     "prompt_number": 19
    },
    {
     "cell_type": "code",
     "collapsed": false,
     "input": [
      "# Imput and plot\n",
      "crx.loc[crx.f.isnull(), 'f'] = get_f_impute_values()\n",
      "crx.f.value_counts().plot(kind='bar')"
     ],
     "language": "python",
     "metadata": {},
     "outputs": [
      {
       "metadata": {},
       "output_type": "pyout",
       "prompt_number": 23,
       "text": [
        "<matplotlib.axes._subplots.AxesSubplot at 0x10a2efed0>"
       ]
      },
      {
       "metadata": {},
       "output_type": "display_data",
       "png": "[encoded data removed]",
       "text": [
        "<matplotlib.figure.Figure at 0x10a7bb950>"
       ]
      }
     ],
     "prompt_number": 23
    },
    {
     "cell_type": "code",
     "collapsed": false,
     "input": [
      "# Column g also has a wide range of values so we can impute the same way as we did in column f\n",
      "def get_g_impute_values():\n",
      "    my_values = ['v', 'h', 'bb', 'j', 'n', 'z', 'dd', 'ff', 'o']\n",
      "    return random.choice(my_values)"
     ],
     "language": "python",
     "metadata": {},
     "outputs": [],
     "prompt_number": 20
    },
    {
     "cell_type": "code",
     "collapsed": false,
     "input": [
      "crx.loc[crx.g.isnull(), 'g'] = get_g_impute_values()"
     ],
     "language": "python",
     "metadata": {},
     "outputs": [],
     "prompt_number": 21
    },
    {
     "cell_type": "code",
     "collapsed": false,
     "input": [
      "# Create a Normal Distribution centered on Mean of 183.99 and Standard Dev of 173.93\n",
      "# Get 13 Entries since that's how many missing entries we have for column n\n",
      "def get_n_impute_values():\n",
      "    return np.random.normal(183.99, 173.93, 13)"
     ],
     "language": "python",
     "metadata": {},
     "outputs": [],
     "prompt_number": 22
    },
    {
     "cell_type": "code",
     "collapsed": false,
     "input": [
      "crx.loc[crx.n.isnull(), 'n'] = get_n_impute_values()\n",
      "crx.info()"
     ],
     "language": "python",
     "metadata": {},
     "outputs": [
      {
       "output_type": "stream",
       "stream": "stdout",
       "text": [
        "<class 'pandas.core.frame.DataFrame'>\n",
        "Int64Index: 689 entries, 0 to 688\n",
        "Data columns (total 16 columns):\n",
        "a           689 non-null object\n",
        "b           689 non-null float64\n",
        "c           689 non-null float64\n",
        "d           689 non-null object\n",
        "e           689 non-null object\n",
        "f           680 non-null object\n",
        "g           689 non-null object\n",
        "h           689 non-null float64\n",
        "i           689 non-null object\n",
        "j           689 non-null object\n",
        "k           689 non-null int64\n",
        "l           689 non-null object\n",
        "m           689 non-null object\n",
        "n           689 non-null float64\n",
        "o           689 non-null int64\n",
        "approved    689 non-null object\n",
        "dtypes: float64(4), int64(2), object(10)\n",
        "memory usage: 91.5+ KB\n"
       ]
      }
     ],
     "prompt_number": 23
    },
    {
     "cell_type": "markdown",
     "metadata": {},
     "source": [
      "##Part 2 - Plot and visualize data to see any patterns"
     ]
    },
    {
     "cell_type": "code",
     "collapsed": false,
     "input": [
      "# lets plot the categorical columns a, d, e, f, g, i, j, l, m, approved\n",
      "crx.a.value_counts().plot(kind='bar')"
     ],
     "language": "python",
     "metadata": {},
     "outputs": [
      {
       "metadata": {},
       "output_type": "pyout",
       "prompt_number": 24,
       "text": [
        "<matplotlib.axes._subplots.AxesSubplot at 0x10a7aa2d0>"
       ]
      },
      {
       "metadata": {},
       "output_type": "display_data",
       "png": "[encoded data removed]",
       "text": [
        "<matplotlib.figure.Figure at 0x10a4a4210>"
       ]
      }
     ],
     "prompt_number": 24
    },
    {
     "cell_type": "code",
     "collapsed": false,
     "input": [
      "crx.d.value_counts().plot(kind='bar')"
     ],
     "language": "python",
     "metadata": {},
     "outputs": [
      {
       "metadata": {},
       "output_type": "pyout",
       "prompt_number": 25,
       "text": [
        "<matplotlib.axes._subplots.AxesSubplot at 0x10a7f9810>"
       ]
      },
      {
       "metadata": {},
       "output_type": "display_data",
       "png": "[encoded data removed]",
       "text": [
        "<matplotlib.figure.Figure at 0x10a76bf10>"
       ]
      }
     ],
     "prompt_number": 25
    },
    {
     "cell_type": "code",
     "collapsed": false,
     "input": [
      "crx.e.value_counts().plot(kind='bar')"
     ],
     "language": "python",
     "metadata": {},
     "outputs": [
      {
       "metadata": {},
       "output_type": "pyout",
       "prompt_number": 26,
       "text": [
        "<matplotlib.axes._subplots.AxesSubplot at 0x10aa3ac50>"
       ]
      },
      {
       "metadata": {},
       "output_type": "display_data",
       "png": "[encoded data removed]",
       "text": [
        "<matplotlib.figure.Figure at 0x10aaac150>"
       ]
      }
     ],
     "prompt_number": 26
    },
    {
     "cell_type": "code",
     "collapsed": false,
     "input": [
      "crx.f.value_counts().plot(kind='bar')"
     ],
     "language": "python",
     "metadata": {},
     "outputs": [
      {
       "metadata": {},
       "output_type": "pyout",
       "prompt_number": 27,
       "text": [
        "<matplotlib.axes._subplots.AxesSubplot at 0x10abc7f50>"
       ]
      },
      {
       "metadata": {},
       "output_type": "display_data",
       "png": "[encoded data removed]",
       "text": [
        "<matplotlib.figure.Figure at 0x10abd3710>"
       ]
      }
     ],
     "prompt_number": 27
    },
    {
     "cell_type": "code",
     "collapsed": false,
     "input": [
      "crx.g.value_counts().plot(kind='bar')"
     ],
     "language": "python",
     "metadata": {},
     "outputs": [
      {
       "metadata": {},
       "output_type": "pyout",
       "prompt_number": 28,
       "text": [
        "<matplotlib.axes._subplots.AxesSubplot at 0x10aee6790>"
       ]
      },
      {
       "metadata": {},
       "output_type": "display_data",
       "png": "[encoded data removed]",
       "text": [
        "<matplotlib.figure.Figure at 0x10aecbe50>"
       ]
      }
     ],
     "prompt_number": 28
    },
    {
     "cell_type": "code",
     "collapsed": false,
     "input": [
      "crx.i.value_counts().plot(kind='bar')"
     ],
     "language": "python",
     "metadata": {},
     "outputs": [
      {
       "metadata": {},
       "output_type": "pyout",
       "prompt_number": 29,
       "text": [
        "<matplotlib.axes._subplots.AxesSubplot at 0x10af82250>"
       ]
      },
      {
       "metadata": {},
       "output_type": "display_data",
       "png": "[encoded data removed]",
       "text": [
        "<matplotlib.figure.Figure at 0x10abbe410>"
       ]
      }
     ],
     "prompt_number": 29
    },
    {
     "cell_type": "code",
     "collapsed": false,
     "input": [
      "crx.j.value_counts().plot(kind='bar')"
     ],
     "language": "python",
     "metadata": {},
     "outputs": [
      {
       "metadata": {},
       "output_type": "pyout",
       "prompt_number": 30,
       "text": [
        "<matplotlib.axes._subplots.AxesSubplot at 0x10b101e50>"
       ]
      },
      {
       "metadata": {},
       "output_type": "display_data",
       "png": "[encoded data removed]",
       "text": [
        "<matplotlib.figure.Figure at 0x10b252350>"
       ]
      }
     ],
     "prompt_number": 30
    },
    {
     "cell_type": "code",
     "collapsed": false,
     "input": [
      "crx.l.value_counts().plot(kind='bar')"
     ],
     "language": "python",
     "metadata": {},
     "outputs": [
      {
       "metadata": {},
       "output_type": "pyout",
       "prompt_number": 31,
       "text": [
        "<matplotlib.axes._subplots.AxesSubplot at 0x10b29a990>"
       ]
      },
      {
       "metadata": {},
       "output_type": "display_data",
       "png": "[encoded data removed]",
       "text": [
        "<matplotlib.figure.Figure at 0x10b363090>"
       ]
      }
     ],
     "prompt_number": 31
    },
    {
     "cell_type": "code",
     "collapsed": false,
     "input": [
      "crx.m.value_counts().plot(kind='bar')"
     ],
     "language": "python",
     "metadata": {},
     "outputs": [
      {
       "metadata": {},
       "output_type": "pyout",
       "prompt_number": 32,
       "text": [
        "<matplotlib.axes._subplots.AxesSubplot at 0x10b3ae390>"
       ]
      },
      {
       "metadata": {},
       "output_type": "display_data",
       "png": "[encoded data removed]",
       "text": [
        "<matplotlib.figure.Figure at 0x10b475290>"
       ]
      }
     ],
     "prompt_number": 32
    },
    {
     "cell_type": "code",
     "collapsed": false,
     "input": [
      "# looking at the distrubtion of x values, it looks like column b could be the age of the participant\n",
      "crx.b.hist()"
     ],
     "language": "python",
     "metadata": {},
     "outputs": [
      {
       "metadata": {},
       "output_type": "pyout",
       "prompt_number": 33,
       "text": [
        "<matplotlib.axes._subplots.AxesSubplot at 0x10b4becd0>"
       ]
      },
      {
       "metadata": {},
       "output_type": "display_data",
       "png": "[encoded data removed]",
       "text": [
        "<matplotlib.figure.Figure at 0x10b468a50>"
       ]
      }
     ],
     "prompt_number": 33
    },
    {
     "cell_type": "code",
     "collapsed": false,
     "input": [
      "# b, c, h, k, n, o\n",
      "crx.plot(kind='scatter', x='b', y='k')\n",
      "#scipy.stats.pointbiserialr(crx.b, crx.a)"
     ],
     "language": "python",
     "metadata": {},
     "outputs": [
      {
       "metadata": {},
       "output_type": "pyout",
       "prompt_number": 34,
       "text": [
        "<matplotlib.axes._subplots.AxesSubplot at 0x10b901390>"
       ]
      },
      {
       "metadata": {},
       "output_type": "display_data",
       "png": "[encoded data removed]",
       "text": [
        "<matplotlib.figure.Figure at 0x10b90a350>"
       ]
      }
     ],
     "prompt_number": 34
    },
    {
     "cell_type": "code",
     "collapsed": false,
     "input": [
      "scatter_matrix(crx, alpha=0.2, figsize=(6, 6), diagonal='kde')"
     ],
     "language": "python",
     "metadata": {},
     "outputs": [
      {
       "metadata": {},
       "output_type": "pyout",
       "prompt_number": 35,
       "text": [
        "array([[<matplotlib.axes._subplots.AxesSubplot object at 0x10ba4e390>,\n",
        "        <matplotlib.axes._subplots.AxesSubplot object at 0x10bc7bbd0>,\n",
        "        <matplotlib.axes._subplots.AxesSubplot object at 0x10bcfda10>,\n",
        "        <matplotlib.axes._subplots.AxesSubplot object at 0x10bd60e90>,\n",
        "        <matplotlib.axes._subplots.AxesSubplot object at 0x10bde4f10>,\n",
        "        <matplotlib.axes._subplots.AxesSubplot object at 0x10bd9b7d0>],\n",
        "       [<matplotlib.axes._subplots.AxesSubplot object at 0x10bed4a90>,\n",
        "        <matplotlib.axes._subplots.AxesSubplot object at 0x10c06ecd0>,\n",
        "        <matplotlib.axes._subplots.AxesSubplot object at 0x10c0df150>,\n",
        "        <matplotlib.axes._subplots.AxesSubplot object at 0x10c162050>,\n",
        "        <matplotlib.axes._subplots.AxesSubplot object at 0x10c1adad0>,\n",
        "        <matplotlib.axes._subplots.AxesSubplot object at 0x10c23ae10>],\n",
        "       [<matplotlib.axes._subplots.AxesSubplot object at 0x10c2bdc50>,\n",
        "        <matplotlib.axes._subplots.AxesSubplot object at 0x10c32c6d0>,\n",
        "        <matplotlib.axes._subplots.AxesSubplot object at 0x10c3ae910>,\n",
        "        <matplotlib.axes._subplots.AxesSubplot object at 0x10c4154d0>,\n",
        "        <matplotlib.axes._subplots.AxesSubplot object at 0x10c496810>,\n",
        "        <matplotlib.axes._subplots.AxesSubplot object at 0x10c44c290>],\n",
        "       [<matplotlib.axes._subplots.AxesSubplot object at 0x10c687190>,\n",
        "        <matplotlib.axes._subplots.AxesSubplot object at 0x10c8093d0>,\n",
        "        <matplotlib.axes._subplots.AxesSubplot object at 0x10c84af90>,\n",
        "        <matplotlib.axes._subplots.AxesSubplot object at 0x10c8cee90>,\n",
        "        <matplotlib.axes._subplots.AxesSubplot object at 0x10c879b90>,\n",
        "        <matplotlib.axes._subplots.AxesSubplot object at 0x10c9beb90>],\n",
        "       [<matplotlib.axes._subplots.AxesSubplot object at 0x10cb41c10>,\n",
        "        <matplotlib.axes._subplots.AxesSubplot object at 0x10cbb2250>,\n",
        "        <matplotlib.axes._subplots.AxesSubplot object at 0x10cc35090>,\n",
        "        <matplotlib.axes._subplots.AxesSubplot object at 0x10cc80bd0>,\n",
        "        <matplotlib.axes._subplots.AxesSubplot object at 0x10ce0fd10>,\n",
        "        <matplotlib.axes._subplots.AxesSubplot object at 0x10ce93b50>],\n",
        "       [<matplotlib.axes._subplots.AxesSubplot object at 0x10cf027d0>,\n",
        "        <matplotlib.axes._subplots.AxesSubplot object at 0x10cf83a10>,\n",
        "        <matplotlib.axes._subplots.AxesSubplot object at 0x10cfe85d0>,\n",
        "        <matplotlib.axes._subplots.AxesSubplot object at 0x10d06b910>,\n",
        "        <matplotlib.axes._subplots.AxesSubplot object at 0x10d023390>,\n",
        "        <matplotlib.axes._subplots.AxesSubplot object at 0x10d25e290>]], dtype=object)"
       ]
      },
      {
       "metadata": {},
       "output_type": "display_data",
       "png": "[encoded data removed]",
       "text": [
        "<matplotlib.figure.Figure at 0x10ba4ee50>"
       ]
      }
     ],
     "prompt_number": 35
    },
    {
     "cell_type": "markdown",
     "metadata": {},
     "source": [
      "##Part 3 - Build Models using Logistics Regression and SVM"
     ]
    },
    {
     "cell_type": "code",
     "collapsed": false,
     "input": [
      "# convert true/false and dichotomous columns to 0s and 1s\n",
      "\n",
      "crx.loc[crx.a == 'a', 'a'] = 1\n",
      "crx.loc[crx.a == 'b', 'a'] = 0\n",
      "\n",
      "crx.loc[crx.i == 't', 'i'] = 1\n",
      "crx.loc[crx.i == 'f', 'i'] = 0\n",
      "\n",
      "crx.loc[crx.j == 't', 'j'] = 1\n",
      "crx.loc[crx.j == 'f', 'j'] = 0\n",
      "\n",
      "crx.loc[crx.l == 't', 'l'] = 1\n",
      "crx.loc[crx.l == 'f', 'l'] = 0\n",
      "\n",
      "crx.loc[crx.approved == '+', 'approved'] = 1\n",
      "crx.loc[crx.approved == '-', 'approved'] = 0"
     ],
     "language": "python",
     "metadata": {},
     "outputs": [],
     "prompt_number": 36
    },
    {
     "cell_type": "code",
     "collapsed": false,
     "input": [
      "# create dummies\n",
      "dummies = pd.get_dummies(crx[['d', 'e', 'f', 'g', 'm']])\n",
      "crx_dummies = crx.join(dummies)\n",
      "to_split = crx_dummies.drop(['d', 'e', 'f', 'g', 'm'], axis=1)"
     ],
     "language": "python",
     "metadata": {},
     "outputs": [],
     "prompt_number": 37
    },
    {
     "cell_type": "code",
     "collapsed": false,
     "input": [
      "# Convert objects to float\n",
      "a = to_split['a'].map(lambda x: float(x))\n",
      "to_split.a = a\n",
      "\n",
      "i = to_split['i'].map(lambda x: float(x))\n",
      "to_split.i = i \n",
      "\n",
      "j = to_split['j'].map(lambda x: float(x))\n",
      "to_split.j = j\n",
      "\n",
      "l = to_split['l'].map(lambda x: float(x))\n",
      "to_split.l = l \n",
      "\n",
      "approved = to_split['approved'].map(lambda x: float(x))\n",
      "to_split.approved = approved"
     ],
     "language": "python",
     "metadata": {},
     "outputs": [],
     "prompt_number": 38
    },
    {
     "cell_type": "code",
     "collapsed": false,
     "input": [
      "# create a train/test split with .3 testing size\n",
      "y = to_split.approved\n",
      "data = to_split.drop('approved', axis=1)\n",
      "X_train, X_test, y_train, y_test = train_test_split(data, y, test_size=0.3)"
     ],
     "language": "python",
     "metadata": {},
     "outputs": [],
     "prompt_number": 39
    },
    {
     "cell_type": "code",
     "collapsed": false,
     "input": [
      "# Logistic Regression\n",
      "clf = LogisticRegression()\n",
      "clf.fit(X_train, y_train)\n",
      "clf.score(X_test, y_test)"
     ],
     "language": "python",
     "metadata": {},
     "outputs": [
      {
       "metadata": {},
       "output_type": "pyout",
       "prompt_number": 40,
       "text": [
        "0.86956521739130432"
       ]
      }
     ],
     "prompt_number": 40
    },
    {
     "cell_type": "code",
     "collapsed": false,
     "input": [
      "# SVM\n",
      "#initialize C=1e-3 and fit the model\n",
      "SVM = SVC(C=1e-3, kernel='rbf')\n",
      "SVM.fit(X_train, y_train)\n",
      "SVM.score(X_test, y_test)"
     ],
     "language": "python",
     "metadata": {},
     "outputs": [
      {
       "metadata": {},
       "output_type": "pyout",
       "prompt_number": 41,
       "text": [
        "0.55555555555555558"
       ]
      }
     ],
     "prompt_number": 41
    },
    {
     "cell_type": "code",
     "collapsed": false,
     "input": [
      "# SVM \n",
      "# Try the linear kernel instead\n",
      "l_SVM = SVC(C=1e-3, kernel='linear')\n",
      "l_SVM.fit(X_train, y_train)\n",
      "l_SVM.score(X_test, y_test)"
     ],
     "language": "python",
     "metadata": {},
     "outputs": [
      {
       "metadata": {},
       "output_type": "pyout",
       "prompt_number": 42,
       "text": [
        "0.79227053140096615"
       ]
      }
     ],
     "prompt_number": 42
    },
    {
     "cell_type": "markdown",
     "metadata": {},
     "source": [
      "##Part 4 - Use Grid Search to evaluate model parameters "
     ]
    },
    {
     "cell_type": "code",
     "collapsed": false,
     "input": [
      "d= {'C': [0,2,1]}\n",
      "d['C'] = np.logspace(-3, 3, 10)\n",
      "\n",
      "gds = GridSearchCV(LinearSVC(), d)"
     ],
     "language": "python",
     "metadata": {},
     "outputs": [],
     "prompt_number": 43
    },
    {
     "cell_type": "code",
     "collapsed": false,
     "input": [
      "fitted = gds.fit(X_train, y_train)"
     ],
     "language": "python",
     "metadata": {},
     "outputs": [],
     "prompt_number": 44
    },
    {
     "cell_type": "code",
     "collapsed": false,
     "input": [
      "print fitted.best_score_\n",
      "print fitted.best_params_\n",
      "print fitted.best_estimator_\n",
      "print fitted.score(X_test, y_test)"
     ],
     "language": "python",
     "metadata": {},
     "outputs": [
      {
       "output_type": "stream",
       "stream": "stdout",
       "text": [
        "0.804979253112\n",
        "{'C': 0.46415888336127775}\n",
        "LinearSVC(C=0.46415888336127775, class_weight=None, dual=True,\n",
        "     fit_intercept=True, intercept_scaling=1, loss='l2', multi_class='ovr',\n",
        "     penalty='l2', random_state=None, tol=0.0001, verbose=0)\n",
        "0.753623188406\n"
       ]
      }
     ],
     "prompt_number": 45
    },
    {
     "cell_type": "markdown",
     "metadata": {},
     "source": [
      "##Part 5 - Build a Confusion Matrix to show how well your prediction did"
     ]
    },
    {
     "cell_type": "code",
     "collapsed": false,
     "input": [
      "y_pred = clf.predict(X_test)"
     ],
     "language": "python",
     "metadata": {},
     "outputs": [],
     "prompt_number": 47
    },
    {
     "cell_type": "code",
     "collapsed": false,
     "input": [
      "# Confusion Matrix for Type 1 and Type 2 Error\n",
      "cm = confusion_matrix(y_test, y_pred)\n",
      "\n",
      "print cm\n",
      "\n",
      "plt.matshow(cm)\n",
      "plt.title('Confusion matrix')\n",
      "plt.colorbar()\n",
      "plt.ylabel('True label')\n",
      "plt.xlabel('Predicted label')\n",
      "plt.show()"
     ],
     "language": "python",
     "metadata": {},
     "outputs": [
      {
       "output_type": "stream",
       "stream": "stdout",
       "text": [
        "[[97 18]\n",
        " [ 9 83]]\n"
       ]
      },
      {
       "metadata": {},
       "output_type": "display_data",
       "png": "[encoded data removed]",
       "text": [
        "<matplotlib.figure.Figure at 0x10c350950>"
       ]
      }
     ],
     "prompt_number": 48
    },
    {
     "cell_type": "code",
     "collapsed": false,
     "input": [
      "target_names = ['denied', 'approved']\n",
      "print classification_report(y_test, y_pred, target_names=target_names)"
     ],
     "language": "python",
     "metadata": {},
     "outputs": [
      {
       "output_type": "stream",
       "stream": "stdout",
       "text": [
        "             precision    recall  f1-score   support\n",
        "\n",
        "     denied       0.92      0.84      0.88       115\n",
        "   approved       0.82      0.90      0.86        92\n",
        "\n",
        "avg / total       0.87      0.87      0.87       207\n",
        "\n"
       ]
      }
     ],
     "prompt_number": 49
    },
    {
     "cell_type": "code",
     "collapsed": false,
     "input": [
      "# examine the coefficients and significance of Variables\n",
      "pd.DataFrame(zip(data.columns, np.transpose(clf.coef_)))"
     ],
     "language": "python",
     "metadata": {},
     "outputs": [
      {
       "html": [
        "<div style=\"max-height:1000px;max-width:1500px;overflow:auto;\">\n",
        "<table border=\"1\" class=\"dataframe\">\n",
        "  <thead>\n",
        "    <tr style=\"text-align: right;\">\n",
        "      <th></th>\n",
        "      <th>0</th>\n",
        "      <th>1</th>\n",
        "    </tr>\n",
        "  </thead>\n",
        "  <tbody>\n",
        "    <tr>\n",
        "      <th>0 </th>\n",
        "      <td>    a</td>\n",
        "      <td> [-0.00535731709431]</td>\n",
        "    </tr>\n",
        "    <tr>\n",
        "      <th>1 </th>\n",
        "      <td>    b</td>\n",
        "      <td>  [0.00111297656792]</td>\n",
        "    </tr>\n",
        "    <tr>\n",
        "      <th>2 </th>\n",
        "      <td>    c</td>\n",
        "      <td> [-0.00760652448945]</td>\n",
        "    </tr>\n",
        "    <tr>\n",
        "      <th>3 </th>\n",
        "      <td>    h</td>\n",
        "      <td>   [0.0856407014633]</td>\n",
        "    </tr>\n",
        "    <tr>\n",
        "      <th>4 </th>\n",
        "      <td>    i</td>\n",
        "      <td>     [3.19710717167]</td>\n",
        "    </tr>\n",
        "    <tr>\n",
        "      <th>5 </th>\n",
        "      <td>    j</td>\n",
        "      <td>    [0.396698245587]</td>\n",
        "    </tr>\n",
        "    <tr>\n",
        "      <th>6 </th>\n",
        "      <td>    k</td>\n",
        "      <td>    [0.145921066958]</td>\n",
        "    </tr>\n",
        "    <tr>\n",
        "      <th>7 </th>\n",
        "      <td>    l</td>\n",
        "      <td>   [-0.228300404731]</td>\n",
        "    </tr>\n",
        "    <tr>\n",
        "      <th>8 </th>\n",
        "      <td>    n</td>\n",
        "      <td> [-0.00263941283429]</td>\n",
        "    </tr>\n",
        "    <tr>\n",
        "      <th>9 </th>\n",
        "      <td>    o</td>\n",
        "      <td> [0.000573564740139]</td>\n",
        "    </tr>\n",
        "    <tr>\n",
        "      <th>10</th>\n",
        "      <td>  d_l</td>\n",
        "      <td>     [0.23050819727]</td>\n",
        "    </tr>\n",
        "    <tr>\n",
        "      <th>11</th>\n",
        "      <td>  d_t</td>\n",
        "      <td>    [0.117062230616]</td>\n",
        "    </tr>\n",
        "    <tr>\n",
        "      <th>12</th>\n",
        "      <td>  d_u</td>\n",
        "      <td>   [-0.375815776567]</td>\n",
        "    </tr>\n",
        "    <tr>\n",
        "      <th>13</th>\n",
        "      <td>  d_y</td>\n",
        "      <td>   [-0.779348627285]</td>\n",
        "    </tr>\n",
        "    <tr>\n",
        "      <th>14</th>\n",
        "      <td>  e_g</td>\n",
        "      <td>   [-0.258753545951]</td>\n",
        "    </tr>\n",
        "    <tr>\n",
        "      <th>15</th>\n",
        "      <td> e_gg</td>\n",
        "      <td>     [0.23050819727]</td>\n",
        "    </tr>\n",
        "    <tr>\n",
        "      <th>16</th>\n",
        "      <td>  e_p</td>\n",
        "      <td>   [-0.779348627285]</td>\n",
        "    </tr>\n",
        "    <tr>\n",
        "      <th>17</th>\n",
        "      <td> f_aa</td>\n",
        "      <td>   [-0.479979022549]</td>\n",
        "    </tr>\n",
        "    <tr>\n",
        "      <th>18</th>\n",
        "      <td>  f_c</td>\n",
        "      <td>    [0.152056590077]</td>\n",
        "    </tr>\n",
        "    <tr>\n",
        "      <th>19</th>\n",
        "      <td> f_cc</td>\n",
        "      <td>    [0.804659755035]</td>\n",
        "    </tr>\n",
        "    <tr>\n",
        "      <th>20</th>\n",
        "      <td>  f_d</td>\n",
        "      <td>   [-0.326855429067]</td>\n",
        "    </tr>\n",
        "    <tr>\n",
        "      <th>21</th>\n",
        "      <td>  f_e</td>\n",
        "      <td>   [0.0613055663145]</td>\n",
        "    </tr>\n",
        "    <tr>\n",
        "      <th>22</th>\n",
        "      <td> f_ff</td>\n",
        "      <td>    [-0.74790512828]</td>\n",
        "    </tr>\n",
        "    <tr>\n",
        "      <th>23</th>\n",
        "      <td>  f_i</td>\n",
        "      <td>   [-0.744052240498]</td>\n",
        "    </tr>\n",
        "    <tr>\n",
        "      <th>24</th>\n",
        "      <td>  f_j</td>\n",
        "      <td>   [-0.187415632468]</td>\n",
        "    </tr>\n",
        "    <tr>\n",
        "      <th>25</th>\n",
        "      <td>  f_k</td>\n",
        "      <td>    [-0.57075351188]</td>\n",
        "    </tr>\n",
        "    <tr>\n",
        "      <th>26</th>\n",
        "      <td>  f_m</td>\n",
        "      <td>   [-0.280833086163]</td>\n",
        "    </tr>\n",
        "    <tr>\n",
        "      <th>27</th>\n",
        "      <td>  f_q</td>\n",
        "      <td>  [-0.0801215504202]</td>\n",
        "    </tr>\n",
        "    <tr>\n",
        "      <th>28</th>\n",
        "      <td>  f_r</td>\n",
        "      <td>   [0.0135430568836]</td>\n",
        "    </tr>\n",
        "    <tr>\n",
        "      <th>29</th>\n",
        "      <td>  f_w</td>\n",
        "      <td>    [0.538268277825]</td>\n",
        "    </tr>\n",
        "    <tr>\n",
        "      <th>30</th>\n",
        "      <td>  f_x</td>\n",
        "      <td>    [0.980041106721]</td>\n",
        "    </tr>\n",
        "    <tr>\n",
        "      <th>31</th>\n",
        "      <td> g_bb</td>\n",
        "      <td>   [-0.300605882773]</td>\n",
        "    </tr>\n",
        "    <tr>\n",
        "      <th>32</th>\n",
        "      <td> g_dd</td>\n",
        "      <td>  [-0.0719533471077]</td>\n",
        "    </tr>\n",
        "    <tr>\n",
        "      <th>33</th>\n",
        "      <td> g_ff</td>\n",
        "      <td>   [-0.558296871476]</td>\n",
        "    </tr>\n",
        "    <tr>\n",
        "      <th>34</th>\n",
        "      <td>  g_h</td>\n",
        "      <td>   [0.0775304935285]</td>\n",
        "    </tr>\n",
        "    <tr>\n",
        "      <th>35</th>\n",
        "      <td>  g_j</td>\n",
        "      <td>   [0.0962285646752]</td>\n",
        "    </tr>\n",
        "    <tr>\n",
        "      <th>36</th>\n",
        "      <td>  g_n</td>\n",
        "      <td>    [0.223857446088]</td>\n",
        "    </tr>\n",
        "    <tr>\n",
        "      <th>37</th>\n",
        "      <td>  g_o</td>\n",
        "      <td>   [-0.035035435899]</td>\n",
        "    </tr>\n",
        "    <tr>\n",
        "      <th>38</th>\n",
        "      <td>  g_v</td>\n",
        "      <td>   [-0.232458985822]</td>\n",
        "    </tr>\n",
        "    <tr>\n",
        "      <th>39</th>\n",
        "      <td>  g_z</td>\n",
        "      <td> [-0.00685995718057]</td>\n",
        "    </tr>\n",
        "    <tr>\n",
        "      <th>40</th>\n",
        "      <td>  m_g</td>\n",
        "      <td>    [-0.51334748776]</td>\n",
        "    </tr>\n",
        "    <tr>\n",
        "      <th>41</th>\n",
        "      <td>  m_p</td>\n",
        "      <td>   [0.0560094810371]</td>\n",
        "    </tr>\n",
        "    <tr>\n",
        "      <th>42</th>\n",
        "      <td>  m_s</td>\n",
        "      <td>   [-0.350255969244]</td>\n",
        "    </tr>\n",
        "  </tbody>\n",
        "</table>\n",
        "</div>"
       ],
       "metadata": {},
       "output_type": "pyout",
       "prompt_number": 50,
       "text": [
        "       0                    1\n",
        "0      a  [-0.00535731709431]\n",
        "1      b   [0.00111297656792]\n",
        "2      c  [-0.00760652448945]\n",
        "3      h    [0.0856407014633]\n",
        "4      i      [3.19710717167]\n",
        "5      j     [0.396698245587]\n",
        "6      k     [0.145921066958]\n",
        "7      l    [-0.228300404731]\n",
        "8      n  [-0.00263941283429]\n",
        "9      o  [0.000573564740139]\n",
        "10   d_l      [0.23050819727]\n",
        "11   d_t     [0.117062230616]\n",
        "12   d_u    [-0.375815776567]\n",
        "13   d_y    [-0.779348627285]\n",
        "14   e_g    [-0.258753545951]\n",
        "15  e_gg      [0.23050819727]\n",
        "16   e_p    [-0.779348627285]\n",
        "17  f_aa    [-0.479979022549]\n",
        "18   f_c     [0.152056590077]\n",
        "19  f_cc     [0.804659755035]\n",
        "20   f_d    [-0.326855429067]\n",
        "21   f_e    [0.0613055663145]\n",
        "22  f_ff     [-0.74790512828]\n",
        "23   f_i    [-0.744052240498]\n",
        "24   f_j    [-0.187415632468]\n",
        "25   f_k     [-0.57075351188]\n",
        "26   f_m    [-0.280833086163]\n",
        "27   f_q   [-0.0801215504202]\n",
        "28   f_r    [0.0135430568836]\n",
        "29   f_w     [0.538268277825]\n",
        "30   f_x     [0.980041106721]\n",
        "31  g_bb    [-0.300605882773]\n",
        "32  g_dd   [-0.0719533471077]\n",
        "33  g_ff    [-0.558296871476]\n",
        "34   g_h    [0.0775304935285]\n",
        "35   g_j    [0.0962285646752]\n",
        "36   g_n     [0.223857446088]\n",
        "37   g_o    [-0.035035435899]\n",
        "38   g_v    [-0.232458985822]\n",
        "39   g_z  [-0.00685995718057]\n",
        "40   m_g     [-0.51334748776]\n",
        "41   m_p    [0.0560094810371]\n",
        "42   m_s    [-0.350255969244]"
       ]
      }
     ],
     "prompt_number": 50
    },
    {
     "cell_type": "code",
     "collapsed": false,
     "input": [
      "# Let's take a look at Predicted Probabilities\n",
      "y_pred_df = pd.DataFrame(clf.predict_proba(X_test))\n",
      "y_pred_df.rename(columns={0: 'No', 1: 'Yes'}, inplace=True)\n",
      "y_pred_df['y_pred'] = y_pred\n",
      "y_pred_df['y_true'] = y_test\n",
      "y_pred_df.tail()"
     ],
     "language": "python",
     "metadata": {},
     "outputs": [
      {
       "html": [
        "<div style=\"max-height:1000px;max-width:1500px;overflow:auto;\">\n",
        "<table border=\"1\" class=\"dataframe\">\n",
        "  <thead>\n",
        "    <tr style=\"text-align: right;\">\n",
        "      <th></th>\n",
        "      <th>No</th>\n",
        "      <th>Yes</th>\n",
        "      <th>y_pred</th>\n",
        "      <th>y_true</th>\n",
        "    </tr>\n",
        "  </thead>\n",
        "  <tbody>\n",
        "    <tr>\n",
        "      <th>202</th>\n",
        "      <td> 0.428665</td>\n",
        "      <td> 0.571335</td>\n",
        "      <td> 1</td>\n",
        "      <td> 1</td>\n",
        "    </tr>\n",
        "    <tr>\n",
        "      <th>203</th>\n",
        "      <td> 0.981830</td>\n",
        "      <td> 0.018170</td>\n",
        "      <td> 0</td>\n",
        "      <td> 0</td>\n",
        "    </tr>\n",
        "    <tr>\n",
        "      <th>204</th>\n",
        "      <td> 0.958122</td>\n",
        "      <td> 0.041878</td>\n",
        "      <td> 0</td>\n",
        "      <td> 0</td>\n",
        "    </tr>\n",
        "    <tr>\n",
        "      <th>205</th>\n",
        "      <td> 0.969404</td>\n",
        "      <td> 0.030596</td>\n",
        "      <td> 0</td>\n",
        "      <td> 0</td>\n",
        "    </tr>\n",
        "    <tr>\n",
        "      <th>206</th>\n",
        "      <td> 0.013344</td>\n",
        "      <td> 0.986656</td>\n",
        "      <td> 1</td>\n",
        "      <td> 1</td>\n",
        "    </tr>\n",
        "  </tbody>\n",
        "</table>\n",
        "</div>"
       ],
       "metadata": {},
       "output_type": "pyout",
       "prompt_number": 51,
       "text": [
        "           No       Yes  y_pred  y_true\n",
        "202  0.428665  0.571335       1       1\n",
        "203  0.981830  0.018170       0       0\n",
        "204  0.958122  0.041878       0       0\n",
        "205  0.969404  0.030596       0       0\n",
        "206  0.013344  0.986656       1       1"
       ]
      }
     ],
     "prompt_number": 51
    },
    {
     "cell_type": "code",
     "collapsed": false,
     "input": [
      "# Take a look at Predicted vs True Values\n",
      "sns.regplot(y_pred, y_test, x_jitter=0.1, y_jitter=0.1)"
     ],
     "language": "python",
     "metadata": {},
     "outputs": [
      {
       "metadata": {},
       "output_type": "pyout",
       "prompt_number": 52,
       "text": [
        "<matplotlib.axes._subplots.AxesSubplot at 0x10e27ba90>"
       ]
      },
      {
       "metadata": {},
       "output_type": "display_data",
       "png": "[encoded data removed]",
       "text": [
        "<matplotlib.figure.Figure at 0x10e0a2610>"
       ]
      }
     ],
     "prompt_number": 52
    },
    {
     "cell_type": "code",
     "collapsed": false,
     "input": [],
     "language": "python",
     "metadata": {},
     "outputs": []
    }
   ],
   "metadata": {}
  }
 ]
}